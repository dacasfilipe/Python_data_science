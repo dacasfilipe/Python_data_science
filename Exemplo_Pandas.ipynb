{
  "nbformat": 4,
  "nbformat_minor": 0,
  "metadata": {
    "colab": {
      "provenance": [],
      "include_colab_link": true
    },
    "kernelspec": {
      "name": "python3",
      "display_name": "Python 3"
    },
    "language_info": {
      "name": "python"
    }
  },
  "cells": [
    {
      "cell_type": "markdown",
      "metadata": {
        "id": "view-in-github",
        "colab_type": "text"
      },
      "source": [
        "<a href=\"https://colab.research.google.com/github/dacasfilipe/Python_data_science/blob/main/Exemplo_Pandas.ipynb\" target=\"_parent\"><img src=\"https://colab.research.google.com/assets/colab-badge.svg\" alt=\"Open In Colab\"/></a>"
      ]
    },
    {
      "cell_type": "markdown",
      "source": [
        "![unisenai.png](data:image/png;base64,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)\n",
        "<h1> Pós-Graduação em Ciência de Dados e Inteligência Artificial </h1>\n",
        "\n",
        "<h1>Unidade Curricular: Programação em Python para Ciência de Dados</h1>\n",
        "<h1>Professor: Willian Daniel de Mattos, Me.</h1>\n",
        "\n",
        "<h1><b>Tópico 4 - Visão Geral dos Pacotes Populares </b></h1>\n",
        "\n",
        "4.2.2 **Panda DataFrame** - Exemplo Prático (arquivos movies_all.csv)\n",
        "\n",
        "Arquivo disponível em:\n",
        "\n",
        "https://drive.google.com/file/d/11-wpAuJ8qO49hvFY3rm78CDyrvn6Vd3w/view?usp=sharing\n",
        "\n"
      ],
      "metadata": {
        "id": "JPAcQ84ZulQv"
      }
    },
    {
      "cell_type": "code",
      "source": [
        "from google.colab import drive\n",
        "drive.mount('/content/drive')"
      ],
      "metadata": {
        "colab": {
          "base_uri": "https://localhost:8080/"
        },
        "id": "DJ3zLbcousEY",
        "outputId": "781f1de4-ddae-4b9c-d068-f35c7a666e14"
      },
      "execution_count": null,
      "outputs": [
        {
          "output_type": "stream",
          "name": "stdout",
          "text": [
            "Drive already mounted at /content/drive; to attempt to forcibly remount, call drive.mount(\"/content/drive\", force_remount=True).\n"
          ]
        }
      ]
    },
    {
      "cell_type": "code",
      "source": [
        "import pandas as pd\n",
        "import matplotlib.pyplot as plt\n",
        "\n",
        "#antes de abrir o arquivo, copiar o arquivo movies_all.csv (link acima) para a pasta Colab Notebooks do seu Google Drive\n",
        "df = pd.read_csv('/content/drive/MyDrive/Colab Notebooks/movies_all.csv', sep=';') #lê arquivo .csv separado por ';'"
      ],
      "metadata": {
        "id": "Uz_1pgLmu_Ze"
      },
      "execution_count": null,
      "outputs": []
    },
    {
      "cell_type": "code",
      "source": [
        "df.head() #exibe os 5 primeiros registros."
      ],
      "metadata": {
        "colab": {
          "base_uri": "https://localhost:8080/",
          "height": 206
        },
        "id": "U14miAmuvHSd",
        "outputId": "7c8757a6-a7e0-45b1-c96e-2046c1b47c89"
      },
      "execution_count": null,
      "outputs": [
        {
          "output_type": "execute_result",
          "data": {
            "text/plain": [
              "   code  num_critic_for_reviews  duration  num_user_for_reviews  title_year  \\\n",
              "0  4245                     1.0     100.0                   1.0        2015   \n",
              "1  3165                   100.0     100.0                 481.0        1998   \n",
              "2  4487                   100.0     100.0                 333.0        2001   \n",
              "3  1343                   103.0     100.0                 107.0        2002   \n",
              "4   539                   107.0     100.0                  57.0        2009   \n",
              "\n",
              "   imdb_score  aspect_ratio  movie_facebook_likes  \n",
              "0         6.7          2.39                    14  \n",
              "1         6.3          1.85                     0  \n",
              "2         7.1          1.85                     0  \n",
              "3         5.1          1.85                   478  \n",
              "4         5.4          1.85                  1000  "
            ],
            "text/html": [
              "\n",
              "  <div id=\"df-4994f3d6-c9b6-4c01-9b2f-55a2eab7cdf0\">\n",
              "    <div class=\"colab-df-container\">\n",
              "      <div>\n",
              "<style scoped>\n",
              "    .dataframe tbody tr th:only-of-type {\n",
              "        vertical-align: middle;\n",
              "    }\n",
              "\n",
              "    .dataframe tbody tr th {\n",
              "        vertical-align: top;\n",
              "    }\n",
              "\n",
              "    .dataframe thead th {\n",
              "        text-align: right;\n",
              "    }\n",
              "</style>\n",
              "<table border=\"1\" class=\"dataframe\">\n",
              "  <thead>\n",
              "    <tr style=\"text-align: right;\">\n",
              "      <th></th>\n",
              "      <th>code</th>\n",
              "      <th>num_critic_for_reviews</th>\n",
              "      <th>duration</th>\n",
              "      <th>num_user_for_reviews</th>\n",
              "      <th>title_year</th>\n",
              "      <th>imdb_score</th>\n",
              "      <th>aspect_ratio</th>\n",
              "      <th>movie_facebook_likes</th>\n",
              "    </tr>\n",
              "  </thead>\n",
              "  <tbody>\n",
              "    <tr>\n",
              "      <th>0</th>\n",
              "      <td>4245</td>\n",
              "      <td>1.0</td>\n",
              "      <td>100.0</td>\n",
              "      <td>1.0</td>\n",
              "      <td>2015</td>\n",
              "      <td>6.7</td>\n",
              "      <td>2.39</td>\n",
              "      <td>14</td>\n",
              "    </tr>\n",
              "    <tr>\n",
              "      <th>1</th>\n",
              "      <td>3165</td>\n",
              "      <td>100.0</td>\n",
              "      <td>100.0</td>\n",
              "      <td>481.0</td>\n",
              "      <td>1998</td>\n",
              "      <td>6.3</td>\n",
              "      <td>1.85</td>\n",
              "      <td>0</td>\n",
              "    </tr>\n",
              "    <tr>\n",
              "      <th>2</th>\n",
              "      <td>4487</td>\n",
              "      <td>100.0</td>\n",
              "      <td>100.0</td>\n",
              "      <td>333.0</td>\n",
              "      <td>2001</td>\n",
              "      <td>7.1</td>\n",
              "      <td>1.85</td>\n",
              "      <td>0</td>\n",
              "    </tr>\n",
              "    <tr>\n",
              "      <th>3</th>\n",
              "      <td>1343</td>\n",
              "      <td>103.0</td>\n",
              "      <td>100.0</td>\n",
              "      <td>107.0</td>\n",
              "      <td>2002</td>\n",
              "      <td>5.1</td>\n",
              "      <td>1.85</td>\n",
              "      <td>478</td>\n",
              "    </tr>\n",
              "    <tr>\n",
              "      <th>4</th>\n",
              "      <td>539</td>\n",
              "      <td>107.0</td>\n",
              "      <td>100.0</td>\n",
              "      <td>57.0</td>\n",
              "      <td>2009</td>\n",
              "      <td>5.4</td>\n",
              "      <td>1.85</td>\n",
              "      <td>1000</td>\n",
              "    </tr>\n",
              "  </tbody>\n",
              "</table>\n",
              "</div>\n",
              "      <button class=\"colab-df-convert\" onclick=\"convertToInteractive('df-4994f3d6-c9b6-4c01-9b2f-55a2eab7cdf0')\"\n",
              "              title=\"Convert this dataframe to an interactive table.\"\n",
              "              style=\"display:none;\">\n",
              "        \n",
              "  <svg xmlns=\"http://www.w3.org/2000/svg\" height=\"24px\"viewBox=\"0 0 24 24\"\n",
              "       width=\"24px\">\n",
              "    <path d=\"M0 0h24v24H0V0z\" fill=\"none\"/>\n",
              "    <path d=\"M18.56 5.44l.94 2.06.94-2.06 2.06-.94-2.06-.94-.94-2.06-.94 2.06-2.06.94zm-11 1L8.5 8.5l.94-2.06 2.06-.94-2.06-.94L8.5 2.5l-.94 2.06-2.06.94zm10 10l.94 2.06.94-2.06 2.06-.94-2.06-.94-.94-2.06-.94 2.06-2.06.94z\"/><path d=\"M17.41 7.96l-1.37-1.37c-.4-.4-.92-.59-1.43-.59-.52 0-1.04.2-1.43.59L10.3 9.45l-7.72 7.72c-.78.78-.78 2.05 0 2.83L4 21.41c.39.39.9.59 1.41.59.51 0 1.02-.2 1.41-.59l7.78-7.78 2.81-2.81c.8-.78.8-2.07 0-2.86zM5.41 20L4 18.59l7.72-7.72 1.47 1.35L5.41 20z\"/>\n",
              "  </svg>\n",
              "      </button>\n",
              "      \n",
              "  <style>\n",
              "    .colab-df-container {\n",
              "      display:flex;\n",
              "      flex-wrap:wrap;\n",
              "      gap: 12px;\n",
              "    }\n",
              "\n",
              "    .colab-df-convert {\n",
              "      background-color: #E8F0FE;\n",
              "      border: none;\n",
              "      border-radius: 50%;\n",
              "      cursor: pointer;\n",
              "      display: none;\n",
              "      fill: #1967D2;\n",
              "      height: 32px;\n",
              "      padding: 0 0 0 0;\n",
              "      width: 32px;\n",
              "    }\n",
              "\n",
              "    .colab-df-convert:hover {\n",
              "      background-color: #E2EBFA;\n",
              "      box-shadow: 0px 1px 2px rgba(60, 64, 67, 0.3), 0px 1px 3px 1px rgba(60, 64, 67, 0.15);\n",
              "      fill: #174EA6;\n",
              "    }\n",
              "\n",
              "    [theme=dark] .colab-df-convert {\n",
              "      background-color: #3B4455;\n",
              "      fill: #D2E3FC;\n",
              "    }\n",
              "\n",
              "    [theme=dark] .colab-df-convert:hover {\n",
              "      background-color: #434B5C;\n",
              "      box-shadow: 0px 1px 3px 1px rgba(0, 0, 0, 0.15);\n",
              "      filter: drop-shadow(0px 1px 2px rgba(0, 0, 0, 0.3));\n",
              "      fill: #FFFFFF;\n",
              "    }\n",
              "  </style>\n",
              "\n",
              "      <script>\n",
              "        const buttonEl =\n",
              "          document.querySelector('#df-4994f3d6-c9b6-4c01-9b2f-55a2eab7cdf0 button.colab-df-convert');\n",
              "        buttonEl.style.display =\n",
              "          google.colab.kernel.accessAllowed ? 'block' : 'none';\n",
              "\n",
              "        async function convertToInteractive(key) {\n",
              "          const element = document.querySelector('#df-4994f3d6-c9b6-4c01-9b2f-55a2eab7cdf0');\n",
              "          const dataTable =\n",
              "            await google.colab.kernel.invokeFunction('convertToInteractive',\n",
              "                                                     [key], {});\n",
              "          if (!dataTable) return;\n",
              "\n",
              "          const docLinkHtml = 'Like what you see? Visit the ' +\n",
              "            '<a target=\"_blank\" href=https://colab.research.google.com/notebooks/data_table.ipynb>data table notebook</a>'\n",
              "            + ' to learn more about interactive tables.';\n",
              "          element.innerHTML = '';\n",
              "          dataTable['output_type'] = 'display_data';\n",
              "          await google.colab.output.renderOutput(dataTable, element);\n",
              "          const docLink = document.createElement('div');\n",
              "          docLink.innerHTML = docLinkHtml;\n",
              "          element.appendChild(docLink);\n",
              "        }\n",
              "      </script>\n",
              "    </div>\n",
              "  </div>\n",
              "  "
            ]
          },
          "metadata": {},
          "execution_count": 70
        }
      ]
    },
    {
      "cell_type": "code",
      "source": [
        "df.columns #exibe colunas do dataset"
      ],
      "metadata": {
        "colab": {
          "base_uri": "https://localhost:8080/"
        },
        "id": "pjLG87BQvNFJ",
        "outputId": "ced76aee-9da0-433d-e740-d35660753cd8"
      },
      "execution_count": null,
      "outputs": [
        {
          "output_type": "execute_result",
          "data": {
            "text/plain": [
              "Index(['code', 'num_critic_for_reviews', 'duration', 'num_user_for_reviews',\n",
              "       'title_year', 'imdb_score', 'aspect_ratio', 'movie_facebook_likes'],\n",
              "      dtype='object')"
            ]
          },
          "metadata": {},
          "execution_count": 71
        }
      ]
    },
    {
      "cell_type": "code",
      "source": [
        "len(df) #Quantidade de registros (linhas) no dataset"
      ],
      "metadata": {
        "colab": {
          "base_uri": "https://localhost:8080/"
        },
        "id": "MoPM3oAQvPXs",
        "outputId": "a285d58c-ee09-4976-b673-d586f02a2b13"
      },
      "execution_count": null,
      "outputs": [
        {
          "output_type": "execute_result",
          "data": {
            "text/plain": [
              "4884"
            ]
          },
          "metadata": {},
          "execution_count": 72
        }
      ]
    },
    {
      "cell_type": "code",
      "source": [
        "df['num_user_for_reviews'].sum() #Soma valores das colunas"
      ],
      "metadata": {
        "colab": {
          "base_uri": "https://localhost:8080/"
        },
        "id": "MwkuoEZVw3K8",
        "outputId": "22a51c6b-e3c0-40fb-a565-fb07a6e851d8"
      },
      "execution_count": null,
      "outputs": [
        {
          "output_type": "execute_result",
          "data": {
            "text/plain": [
              "1360396.0"
            ]
          },
          "metadata": {},
          "execution_count": 73
        }
      ]
    },
    {
      "cell_type": "code",
      "source": [
        "print('Contagem (Imdb):' ,df['imdb_score'].count())\n",
        "print('Média (Imdb):' ,df['imdb_score'].mean())\n",
        "print('Desvio Padrão (Imdb):' ,df['imdb_score'].std())\n",
        "print('Máximo (Imdb):' ,df['imdb_score'].max())\n",
        "print('Mínimo (Imdb):' ,df['imdb_score'].min())"
      ],
      "metadata": {
        "colab": {
          "base_uri": "https://localhost:8080/"
        },
        "id": "_SuxM3Esw-IY",
        "outputId": "36cd664d-0961-4e73-d81f-fde62be222a3"
      },
      "execution_count": null,
      "outputs": [
        {
          "output_type": "stream",
          "name": "stdout",
          "text": [
            "Contagem (Imdb): 4884\n",
            "Média (Imdb): 6.418734643734644\n",
            "Desvio Padrão (Imdb): 1.109561868697088\n",
            "Máximo (Imdb): 9.3\n",
            "Mínimo (Imdb): 1.6\n"
          ]
        }
      ]
    },
    {
      "cell_type": "code",
      "source": [
        "df.info() #informações sobre as colunas"
      ],
      "metadata": {
        "colab": {
          "base_uri": "https://localhost:8080/"
        },
        "id": "FTnZ3AIRv9i2",
        "outputId": "1a5d0a8c-da7a-4998-b12c-91a06f6fa991"
      },
      "execution_count": null,
      "outputs": [
        {
          "output_type": "stream",
          "name": "stdout",
          "text": [
            "<class 'pandas.core.frame.DataFrame'>\n",
            "RangeIndex: 4884 entries, 0 to 4883\n",
            "Data columns (total 8 columns):\n",
            " #   Column                  Non-Null Count  Dtype  \n",
            "---  ------                  --------------  -----  \n",
            " 0   code                    4884 non-null   int64  \n",
            " 1   num_critic_for_reviews  4884 non-null   float64\n",
            " 2   duration                4884 non-null   float64\n",
            " 3   num_user_for_reviews    4884 non-null   float64\n",
            " 4   title_year              4884 non-null   int64  \n",
            " 5   imdb_score              4884 non-null   float64\n",
            " 6   aspect_ratio            4614 non-null   float64\n",
            " 7   movie_facebook_likes    4884 non-null   int64  \n",
            "dtypes: float64(5), int64(3)\n",
            "memory usage: 305.4 KB\n"
          ]
        }
      ]
    },
    {
      "cell_type": "code",
      "source": [
        "df['title_year'].unique() #exibe registros únicos"
      ],
      "metadata": {
        "colab": {
          "base_uri": "https://localhost:8080/"
        },
        "id": "vQonBLi9wDCw",
        "outputId": "9a026eb4-678b-42a5-fad5-75614407fa33"
      },
      "execution_count": null,
      "outputs": [
        {
          "output_type": "execute_result",
          "data": {
            "text/plain": [
              "array([2015, 1998, 2001, 2002, 2009, 2007, 2011, 1999, 2005, 2013, 1992,\n",
              "       2003, 1989, 2016, 2000, 2010, 2012, 2014, 1990, 2004, 1945, 2006,\n",
              "       1981, 1997, 1936, 1996, 1995, 1993, 1929, 1987, 1986, 1980, 1991,\n",
              "       1983, 1994, 2008, 1985, 1984, 1978, 1937, 1944, 1988, 1982, 1939,\n",
              "       1976, 1948, 1979, 1952, 1968, 1949, 1971, 1956, 1974, 1966, 1973,\n",
              "       1938, 1970, 1950, 1977, 1954, 1951, 1960, 1958, 1972, 1963, 1920,\n",
              "       1969, 1964, 1962, 1965, 1975, 1967, 1953, 1946, 1947, 1941, 1940,\n",
              "       1959, 1961, 1943, 1916, 1955, 1927, 1925, 1957, 1934, 1933, 1942,\n",
              "       1932, 1935, 1930])"
            ]
          },
          "metadata": {},
          "execution_count": 76
        }
      ]
    },
    {
      "cell_type": "code",
      "source": [
        "df['title_year'].value_counts().sort_values() #Número de filmes por ano"
      ],
      "metadata": {
        "colab": {
          "base_uri": "https://localhost:8080/"
        },
        "id": "hg9cglPlwKyu",
        "outputId": "74a12e0e-a7e3-422b-8b29-a1b67d12ee7a"
      },
      "execution_count": null,
      "outputs": [
        {
          "output_type": "execute_result",
          "data": {
            "text/plain": [
              "1930      1\n",
              "1932      1\n",
              "1925      1\n",
              "1934      1\n",
              "1935      1\n",
              "       ... \n",
              "2010    226\n",
              "2013    232\n",
              "2006    238\n",
              "2014    245\n",
              "2009    256\n",
              "Name: title_year, Length: 91, dtype: int64"
            ]
          },
          "metadata": {},
          "execution_count": 77
        }
      ]
    },
    {
      "cell_type": "code",
      "source": [
        "df['imdb_score'].describe() #estatística descritiva"
      ],
      "metadata": {
        "colab": {
          "base_uri": "https://localhost:8080/"
        },
        "id": "dv-s7uB2wZHL",
        "outputId": "b7ceefeb-78ef-45d9-9e94-bf1b13eeb091"
      },
      "execution_count": null,
      "outputs": [
        {
          "output_type": "execute_result",
          "data": {
            "text/plain": [
              "count    4884.000000\n",
              "mean        6.418735\n",
              "std         1.109562\n",
              "min         1.600000\n",
              "25%         5.800000\n",
              "50%         6.500000\n",
              "75%         7.200000\n",
              "max         9.300000\n",
              "Name: imdb_score, dtype: float64"
            ]
          },
          "metadata": {},
          "execution_count": 78
        }
      ]
    },
    {
      "cell_type": "code",
      "source": [
        "agrupa_por_ano = df[['title_year',\n",
        "                'imdb_score',\n",
        "                ]].groupby('title_year').agg(lambda x: sum(x)/len(x)).reset_index() #Calcula o imdb médio por ano\n",
        "agrupa_por_ano = agrupa_por_ano.sort_index(ascending=False) #Exibe em ordem decrescente\n",
        "agrupa_por_ano.head(10) #exibe 10 primeiros registros"
      ],
      "metadata": {
        "colab": {
          "base_uri": "https://localhost:8080/",
          "height": 363
        },
        "id": "8fi_B_dE0ZI8",
        "outputId": "89fd7972-e735-4305-f65a-de42c8ade3f4"
      },
      "execution_count": null,
      "outputs": [
        {
          "output_type": "execute_result",
          "data": {
            "text/plain": [
              "    title_year  imdb_score\n",
              "90        2016    6.369231\n",
              "89        2015    6.003704\n",
              "88        2014    6.197143\n",
              "87        2013    6.366810\n",
              "86        2012    6.268493\n",
              "85        2011    6.274775\n",
              "84        2010    6.285398\n",
              "83        2009    6.318750\n",
              "82        2008    6.324107\n",
              "81        2007    6.519403"
            ],
            "text/html": [
              "\n",
              "  <div id=\"df-1e54b8f7-cebf-4b9c-b562-2c10b8754ede\">\n",
              "    <div class=\"colab-df-container\">\n",
              "      <div>\n",
              "<style scoped>\n",
              "    .dataframe tbody tr th:only-of-type {\n",
              "        vertical-align: middle;\n",
              "    }\n",
              "\n",
              "    .dataframe tbody tr th {\n",
              "        vertical-align: top;\n",
              "    }\n",
              "\n",
              "    .dataframe thead th {\n",
              "        text-align: right;\n",
              "    }\n",
              "</style>\n",
              "<table border=\"1\" class=\"dataframe\">\n",
              "  <thead>\n",
              "    <tr style=\"text-align: right;\">\n",
              "      <th></th>\n",
              "      <th>title_year</th>\n",
              "      <th>imdb_score</th>\n",
              "    </tr>\n",
              "  </thead>\n",
              "  <tbody>\n",
              "    <tr>\n",
              "      <th>90</th>\n",
              "      <td>2016</td>\n",
              "      <td>6.369231</td>\n",
              "    </tr>\n",
              "    <tr>\n",
              "      <th>89</th>\n",
              "      <td>2015</td>\n",
              "      <td>6.003704</td>\n",
              "    </tr>\n",
              "    <tr>\n",
              "      <th>88</th>\n",
              "      <td>2014</td>\n",
              "      <td>6.197143</td>\n",
              "    </tr>\n",
              "    <tr>\n",
              "      <th>87</th>\n",
              "      <td>2013</td>\n",
              "      <td>6.366810</td>\n",
              "    </tr>\n",
              "    <tr>\n",
              "      <th>86</th>\n",
              "      <td>2012</td>\n",
              "      <td>6.268493</td>\n",
              "    </tr>\n",
              "    <tr>\n",
              "      <th>85</th>\n",
              "      <td>2011</td>\n",
              "      <td>6.274775</td>\n",
              "    </tr>\n",
              "    <tr>\n",
              "      <th>84</th>\n",
              "      <td>2010</td>\n",
              "      <td>6.285398</td>\n",
              "    </tr>\n",
              "    <tr>\n",
              "      <th>83</th>\n",
              "      <td>2009</td>\n",
              "      <td>6.318750</td>\n",
              "    </tr>\n",
              "    <tr>\n",
              "      <th>82</th>\n",
              "      <td>2008</td>\n",
              "      <td>6.324107</td>\n",
              "    </tr>\n",
              "    <tr>\n",
              "      <th>81</th>\n",
              "      <td>2007</td>\n",
              "      <td>6.519403</td>\n",
              "    </tr>\n",
              "  </tbody>\n",
              "</table>\n",
              "</div>\n",
              "      <button class=\"colab-df-convert\" onclick=\"convertToInteractive('df-1e54b8f7-cebf-4b9c-b562-2c10b8754ede')\"\n",
              "              title=\"Convert this dataframe to an interactive table.\"\n",
              "              style=\"display:none;\">\n",
              "        \n",
              "  <svg xmlns=\"http://www.w3.org/2000/svg\" height=\"24px\"viewBox=\"0 0 24 24\"\n",
              "       width=\"24px\">\n",
              "    <path d=\"M0 0h24v24H0V0z\" fill=\"none\"/>\n",
              "    <path d=\"M18.56 5.44l.94 2.06.94-2.06 2.06-.94-2.06-.94-.94-2.06-.94 2.06-2.06.94zm-11 1L8.5 8.5l.94-2.06 2.06-.94-2.06-.94L8.5 2.5l-.94 2.06-2.06.94zm10 10l.94 2.06.94-2.06 2.06-.94-2.06-.94-.94-2.06-.94 2.06-2.06.94z\"/><path d=\"M17.41 7.96l-1.37-1.37c-.4-.4-.92-.59-1.43-.59-.52 0-1.04.2-1.43.59L10.3 9.45l-7.72 7.72c-.78.78-.78 2.05 0 2.83L4 21.41c.39.39.9.59 1.41.59.51 0 1.02-.2 1.41-.59l7.78-7.78 2.81-2.81c.8-.78.8-2.07 0-2.86zM5.41 20L4 18.59l7.72-7.72 1.47 1.35L5.41 20z\"/>\n",
              "  </svg>\n",
              "      </button>\n",
              "      \n",
              "  <style>\n",
              "    .colab-df-container {\n",
              "      display:flex;\n",
              "      flex-wrap:wrap;\n",
              "      gap: 12px;\n",
              "    }\n",
              "\n",
              "    .colab-df-convert {\n",
              "      background-color: #E8F0FE;\n",
              "      border: none;\n",
              "      border-radius: 50%;\n",
              "      cursor: pointer;\n",
              "      display: none;\n",
              "      fill: #1967D2;\n",
              "      height: 32px;\n",
              "      padding: 0 0 0 0;\n",
              "      width: 32px;\n",
              "    }\n",
              "\n",
              "    .colab-df-convert:hover {\n",
              "      background-color: #E2EBFA;\n",
              "      box-shadow: 0px 1px 2px rgba(60, 64, 67, 0.3), 0px 1px 3px 1px rgba(60, 64, 67, 0.15);\n",
              "      fill: #174EA6;\n",
              "    }\n",
              "\n",
              "    [theme=dark] .colab-df-convert {\n",
              "      background-color: #3B4455;\n",
              "      fill: #D2E3FC;\n",
              "    }\n",
              "\n",
              "    [theme=dark] .colab-df-convert:hover {\n",
              "      background-color: #434B5C;\n",
              "      box-shadow: 0px 1px 3px 1px rgba(0, 0, 0, 0.15);\n",
              "      filter: drop-shadow(0px 1px 2px rgba(0, 0, 0, 0.3));\n",
              "      fill: #FFFFFF;\n",
              "    }\n",
              "  </style>\n",
              "\n",
              "      <script>\n",
              "        const buttonEl =\n",
              "          document.querySelector('#df-1e54b8f7-cebf-4b9c-b562-2c10b8754ede button.colab-df-convert');\n",
              "        buttonEl.style.display =\n",
              "          google.colab.kernel.accessAllowed ? 'block' : 'none';\n",
              "\n",
              "        async function convertToInteractive(key) {\n",
              "          const element = document.querySelector('#df-1e54b8f7-cebf-4b9c-b562-2c10b8754ede');\n",
              "          const dataTable =\n",
              "            await google.colab.kernel.invokeFunction('convertToInteractive',\n",
              "                                                     [key], {});\n",
              "          if (!dataTable) return;\n",
              "\n",
              "          const docLinkHtml = 'Like what you see? Visit the ' +\n",
              "            '<a target=\"_blank\" href=https://colab.research.google.com/notebooks/data_table.ipynb>data table notebook</a>'\n",
              "            + ' to learn more about interactive tables.';\n",
              "          element.innerHTML = '';\n",
              "          dataTable['output_type'] = 'display_data';\n",
              "          await google.colab.output.renderOutput(dataTable, element);\n",
              "          const docLink = document.createElement('div');\n",
              "          docLink.innerHTML = docLinkHtml;\n",
              "          element.appendChild(docLink);\n",
              "        }\n",
              "      </script>\n",
              "    </div>\n",
              "  </div>\n",
              "  "
            ]
          },
          "metadata": {},
          "execution_count": 90
        }
      ]
    },
    {
      "cell_type": "code",
      "source": [
        "#Histórico de Avaliação por ano - Exemplo de utilização da bilioteca matplotlib\n",
        "fig, ax = plt.subplots()\n",
        "ax.plot(agrupa_por_ano[\"title_year\"], agrupa_por_ano[\"imdb_score\"])\n",
        "ax.set(xlabel='Years', ylabel=\"imdb score\",\n",
        "title='Histórico de Avaliação')\n",
        "ax.grid()\n",
        "plt.show()"
      ],
      "metadata": {
        "colab": {
          "base_uri": "https://localhost:8080/",
          "height": 472
        },
        "id": "RAf3gV5R2deu",
        "outputId": "2d17bd1e-08d7-4e34-8729-11927d5b1ee4"
      },
      "execution_count": null,
      "outputs": [
        {
          "output_type": "display_data",
          "data": {
            "text/plain": [
              "<Figure size 640x480 with 1 Axes>"
            ],
            "image/png": "[encoded data removed]"
          },
          "metadata": {}
        }
      ]
    },
    {
      "cell_type": "code",
      "source": [
        "reviews_por_ano = df[df['title_year']>2000]\n",
        "reviews_por_ano = reviews_por_ano[['title_year',\n",
        "                'num_critic_for_reviews',\n",
        "                ]].groupby('title_year').agg(lambda x: sum(x)).reset_index()"
      ],
      "metadata": {
        "id": "13HuLHl63gS1"
      },
      "execution_count": null,
      "outputs": []
    },
    {
      "cell_type": "code",
      "source": [
        "#Quantidade de reviews por ano - Exemplo de utilização da bilioteca seaborn\n",
        "import seaborn as sns\n",
        "\n",
        "fig, ax = plt.subplots(figsize=(30,10))\n",
        "sns.barplot(data=reviews_por_ano, x=reviews_por_ano['title_year'], y=reviews_por_ano['num_critic_for_reviews'])\n",
        "ax.set(ylabel='Reviews', title='Quantidade de Reviews por ano')\n",
        "ax.grid()\n",
        "plt.show()"
      ],
      "metadata": {
        "colab": {
          "base_uri": "https://localhost:8080/",
          "height": 575
        },
        "id": "3HS7W39T2_FJ",
        "outputId": "11036a08-4f70-4182-d3e5-885840e6507d"
      },
      "execution_count": null,
      "outputs": [
        {
          "output_type": "display_data",
          "data": {
            "text/plain": [
              "<Figure size 3000x1000 with 1 Axes>"
            ],
            "image/png": "[encoded data removed]"
          },
          "metadata": {}
        }
      ]
    }
  ]
}