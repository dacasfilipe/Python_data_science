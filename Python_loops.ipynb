{
  "nbformat": 4,
  "nbformat_minor": 0,
  "metadata": {
    "colab": {
      "provenance": [],
      "authorship_tag": "ABX9TyM48knTSuWLPDNvyI5HeTIe",
      "include_colab_link": true
    },
    "kernelspec": {
      "name": "python3",
      "display_name": "Python 3"
    },
    "language_info": {
      "name": "python"
    }
  },
  "cells": [
    {
      "cell_type": "markdown",
      "metadata": {
        "id": "view-in-github",
        "colab_type": "text"
      },
      "source": [
        "<a href=\"https://colab.research.google.com/github/dacasfilipe/Python_data_science/blob/main/Python_loops.ipynb\" target=\"_parent\"><img src=\"https://colab.research.google.com/assets/colab-badge.svg\" alt=\"Open In Colab\"/></a>"
      ]
    },
    {
      "cell_type": "code",
      "execution_count": 2,
      "metadata": {
        "colab": {
          "base_uri": "https://localhost:8080/"
        },
        "id": "fPj84CZpXJoc",
        "outputId": "2f59de66-f960-44c6-9852-a66c36ff534f"
      },
      "outputs": [
        {
          "output_type": "stream",
          "name": "stdout",
          "text": [
            "carregando 1\n",
            "carregando 3\n",
            "carregando 5\n",
            "carregando 7\n",
            "carregando 9\n",
            "carregando 11\n",
            "carregando 13\n",
            "carregando 15\n",
            "carregando 17\n",
            "carregando 19\n"
          ]
        }
      ],
      "source": [
        "for numero in range(1,21,2):\n",
        "  print('carregando', numero)"
      ]
    },
    {
      "cell_type": "code",
      "source": [
        "nomes = ['jeff', 'carl', 'jean', 'luke']\n",
        "for nome in nomes:\n",
        "  print(nome)"
      ],
      "metadata": {
        "colab": {
          "base_uri": "https://localhost:8080/"
        },
        "id": "8hCFpV-_X1sn",
        "outputId": "4ba32112-e1cd-428c-d5c1-4745a6593733"
      },
      "execution_count": 3,
      "outputs": [
        {
          "output_type": "stream",
          "name": "stdout",
          "text": [
            "jeff\n",
            "carl\n",
            "jean\n",
            "luke\n"
          ]
        }
      ]
    },
    {
      "cell_type": "code",
      "source": [
        "''' Desafio: Usando um loop, exiba na tela: Estamos em X onde x\n",
        "é um valor iniciando em 18 e finalizando em 110 '''\n",
        "for numero in range(18,111):\n",
        "  print('Estamos em ', numero)"
      ],
      "metadata": {
        "colab": {
          "base_uri": "https://localhost:8080/"
        },
        "id": "eXZQvWExYbrN",
        "outputId": "32d82c47-51e9-4b10-f10c-907c2c45e118"
      },
      "execution_count": 5,
      "outputs": [
        {
          "output_type": "stream",
          "name": "stdout",
          "text": [
            "Estamos em  18\n",
            "Estamos em  19\n",
            "Estamos em  20\n",
            "Estamos em  21\n",
            "Estamos em  22\n",
            "Estamos em  23\n",
            "Estamos em  24\n",
            "Estamos em  25\n",
            "Estamos em  26\n",
            "Estamos em  27\n",
            "Estamos em  28\n",
            "Estamos em  29\n",
            "Estamos em  30\n",
            "Estamos em  31\n",
            "Estamos em  32\n",
            "Estamos em  33\n",
            "Estamos em  34\n",
            "Estamos em  35\n",
            "Estamos em  36\n",
            "Estamos em  37\n",
            "Estamos em  38\n",
            "Estamos em  39\n",
            "Estamos em  40\n",
            "Estamos em  41\n",
            "Estamos em  42\n",
            "Estamos em  43\n",
            "Estamos em  44\n",
            "Estamos em  45\n",
            "Estamos em  46\n",
            "Estamos em  47\n",
            "Estamos em  48\n",
            "Estamos em  49\n",
            "Estamos em  50\n",
            "Estamos em  51\n",
            "Estamos em  52\n",
            "Estamos em  53\n",
            "Estamos em  54\n",
            "Estamos em  55\n",
            "Estamos em  56\n",
            "Estamos em  57\n",
            "Estamos em  58\n",
            "Estamos em  59\n",
            "Estamos em  60\n",
            "Estamos em  61\n",
            "Estamos em  62\n",
            "Estamos em  63\n",
            "Estamos em  64\n",
            "Estamos em  65\n",
            "Estamos em  66\n",
            "Estamos em  67\n",
            "Estamos em  68\n",
            "Estamos em  69\n",
            "Estamos em  70\n",
            "Estamos em  71\n",
            "Estamos em  72\n",
            "Estamos em  73\n",
            "Estamos em  74\n",
            "Estamos em  75\n",
            "Estamos em  76\n",
            "Estamos em  77\n",
            "Estamos em  78\n",
            "Estamos em  79\n",
            "Estamos em  80\n",
            "Estamos em  81\n",
            "Estamos em  82\n",
            "Estamos em  83\n",
            "Estamos em  84\n",
            "Estamos em  85\n",
            "Estamos em  86\n",
            "Estamos em  87\n",
            "Estamos em  88\n",
            "Estamos em  89\n",
            "Estamos em  90\n",
            "Estamos em  91\n",
            "Estamos em  92\n",
            "Estamos em  93\n",
            "Estamos em  94\n",
            "Estamos em  95\n",
            "Estamos em  96\n",
            "Estamos em  97\n",
            "Estamos em  98\n",
            "Estamos em  99\n",
            "Estamos em  100\n",
            "Estamos em  101\n",
            "Estamos em  102\n",
            "Estamos em  103\n",
            "Estamos em  104\n",
            "Estamos em  105\n",
            "Estamos em  106\n",
            "Estamos em  107\n",
            "Estamos em  108\n",
            "Estamos em  109\n",
            "Estamos em  110\n"
          ]
        }
      ]
    }
  ]
}