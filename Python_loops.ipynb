{
  "nbformat": 4,
  "nbformat_minor": 0,
  "metadata": {
    "colab": {
      "provenance": [],
      "authorship_tag": "ABX9TyMx7m1rOie1d2smIZYR9ni+",
      "include_colab_link": true
    },
    "kernelspec": {
      "name": "python3",
      "display_name": "Python 3"
    },
    "language_info": {
      "name": "python"
    }
  },
  "cells": [
    {
      "cell_type": "markdown",
      "metadata": {
        "id": "view-in-github",
        "colab_type": "text"
      },
      "source": [
        "<a href=\"https://colab.research.google.com/github/dacasfilipe/Python_data_science/blob/main/Python_loops.ipynb\" target=\"_parent\"><img src=\"https://colab.research.google.com/assets/colab-badge.svg\" alt=\"Open In Colab\"/></a>"
      ]
    },
    {
      "cell_type": "code",
      "execution_count": 2,
      "metadata": {
        "colab": {
          "base_uri": "https://localhost:8080/"
        },
        "id": "fPj84CZpXJoc",
        "outputId": "2f59de66-f960-44c6-9852-a66c36ff534f"
      },
      "outputs": [
        {
          "output_type": "stream",
          "name": "stdout",
          "text": [
            "carregando 1\n",
            "carregando 3\n",
            "carregando 5\n",
            "carregando 7\n",
            "carregando 9\n",
            "carregando 11\n",
            "carregando 13\n",
            "carregando 15\n",
            "carregando 17\n",
            "carregando 19\n"
          ]
        }
      ],
      "source": [
        "for numero in range(1,21,2):\n",
        "  print('carregando', numero)"
      ]
    },
    {
      "cell_type": "code",
      "source": [
        "nomes = ['jeff', 'carl', 'jean', 'luke']\n",
        "for nome in nomes:\n",
        "  print(nome)"
      ],
      "metadata": {
        "colab": {
          "base_uri": "https://localhost:8080/"
        },
        "id": "8hCFpV-_X1sn",
        "outputId": "4ba32112-e1cd-428c-d5c1-4745a6593733"
      },
      "execution_count": 3,
      "outputs": [
        {
          "output_type": "stream",
          "name": "stdout",
          "text": [
            "jeff\n",
            "carl\n",
            "jean\n",
            "luke\n"
          ]
        }
      ]
    },
    {
      "cell_type": "code",
      "source": [
        "''' Desafio: Usando um loop, exiba na tela: Estamos em X onde x\n",
        "é um valor iniciando em 18 e finalizando em 110 '''\n",
        "for numero in range(18,111):\n",
        "  print('Estamos em ', numero)"
      ],
      "metadata": {
        "colab": {
          "base_uri": "https://localhost:8080/"
        },
        "id": "eXZQvWExYbrN",
        "outputId": "32d82c47-51e9-4b10-f10c-907c2c45e118"
      },
      "execution_count": 5,
      "outputs": [
        {
          "output_type": "stream",
          "name": "stdout",
          "text": [
            "Estamos em  18\n",
            "Estamos em  19\n",
            "Estamos em  20\n",
            "Estamos em  21\n",
            "Estamos em  22\n",
            "Estamos em  23\n",
            "Estamos em  24\n",
            "Estamos em  25\n",
            "Estamos em  26\n",
            "Estamos em  27\n",
            "Estamos em  28\n",
            "Estamos em  29\n",
            "Estamos em  30\n",
            "Estamos em  31\n",
            "Estamos em  32\n",
            "Estamos em  33\n",
            "Estamos em  34\n",
            "Estamos em  35\n",
            "Estamos em  36\n",
            "Estamos em  37\n",
            "Estamos em  38\n",
            "Estamos em  39\n",
            "Estamos em  40\n",
            "Estamos em  41\n",
            "Estamos em  42\n",
            "Estamos em  43\n",
            "Estamos em  44\n",
            "Estamos em  45\n",
            "Estamos em  46\n",
            "Estamos em  47\n",
            "Estamos em  48\n",
            "Estamos em  49\n",
            "Estamos em  50\n",
            "Estamos em  51\n",
            "Estamos em  52\n",
            "Estamos em  53\n",
            "Estamos em  54\n",
            "Estamos em  55\n",
            "Estamos em  56\n",
            "Estamos em  57\n",
            "Estamos em  58\n",
            "Estamos em  59\n",
            "Estamos em  60\n",
            "Estamos em  61\n",
            "Estamos em  62\n",
            "Estamos em  63\n",
            "Estamos em  64\n",
            "Estamos em  65\n",
            "Estamos em  66\n",
            "Estamos em  67\n",
            "Estamos em  68\n",
            "Estamos em  69\n",
            "Estamos em  70\n",
            "Estamos em  71\n",
            "Estamos em  72\n",
            "Estamos em  73\n",
            "Estamos em  74\n",
            "Estamos em  75\n",
            "Estamos em  76\n",
            "Estamos em  77\n",
            "Estamos em  78\n",
            "Estamos em  79\n",
            "Estamos em  80\n",
            "Estamos em  81\n",
            "Estamos em  82\n",
            "Estamos em  83\n",
            "Estamos em  84\n",
            "Estamos em  85\n",
            "Estamos em  86\n",
            "Estamos em  87\n",
            "Estamos em  88\n",
            "Estamos em  89\n",
            "Estamos em  90\n",
            "Estamos em  91\n",
            "Estamos em  92\n",
            "Estamos em  93\n",
            "Estamos em  94\n",
            "Estamos em  95\n",
            "Estamos em  96\n",
            "Estamos em  97\n",
            "Estamos em  98\n",
            "Estamos em  99\n",
            "Estamos em  100\n",
            "Estamos em  101\n",
            "Estamos em  102\n",
            "Estamos em  103\n",
            "Estamos em  104\n",
            "Estamos em  105\n",
            "Estamos em  106\n",
            "Estamos em  107\n",
            "Estamos em  108\n",
            "Estamos em  109\n",
            "Estamos em  110\n"
          ]
        }
      ]
    },
    {
      "cell_type": "code",
      "source": [
        "'''Desafio 2: Você precisa de 10 passos para finalizar uma tarefa, exiba\n",
        "na tela, usando loop for a seguinte frase: \"Realizando o passo X\" '''\n",
        "for passo in range(1,11):\n",
        "  print(f'Realizando o passo {passo}')"
      ],
      "metadata": {
        "colab": {
          "base_uri": "https://localhost:8080/"
        },
        "id": "sI4F_wEiZL6E",
        "outputId": "733a00c3-c962-4014-abdc-35c11e92339a"
      },
      "execution_count": 8,
      "outputs": [
        {
          "output_type": "stream",
          "name": "stdout",
          "text": [
            "Realizando o passo 1\n",
            "Realizando o passo 2\n",
            "Realizando o passo 3\n",
            "Realizando o passo 4\n",
            "Realizando o passo 5\n",
            "Realizando o passo 6\n",
            "Realizando o passo 7\n",
            "Realizando o passo 8\n",
            "Realizando o passo 9\n",
            "Realizando o passo 10\n"
          ]
        }
      ]
    },
    {
      "cell_type": "code",
      "source": [
        "#Loops Aninhados\n",
        "#Pais + Estação\n",
        "paises = ['Brasil', 'China', 'Estados Unidos']\n",
        "estacoes_do_ano = ['primavera','verão', 'outono', 'inverno']\n",
        "for pais in paises:\n",
        "  for estacao in estacoes_do_ano:\n",
        "    print(f'{pais} {estacao}')"
      ],
      "metadata": {
        "colab": {
          "base_uri": "https://localhost:8080/"
        },
        "id": "rdNtTsttaKSc",
        "outputId": "330a7917-d563-4ad6-b6a6-bb3d9ec76824"
      },
      "execution_count": 9,
      "outputs": [
        {
          "output_type": "stream",
          "name": "stdout",
          "text": [
            "Brasil primavera\n",
            "Brasil verão\n",
            "Brasil outono\n",
            "Brasil inverno\n",
            "China primavera\n",
            "China verão\n",
            "China outono\n",
            "China inverno\n",
            "Estados Unidos primavera\n",
            "Estados Unidos verão\n",
            "Estados Unidos outono\n",
            "Estados Unidos inverno\n"
          ]
        }
      ]
    },
    {
      "cell_type": "code",
      "source": [
        "#Desafio: Imprima na tela a marca + celular de todos os celulares dadas as informações\n",
        "celulares = ['Asus','Samsung', 'Sony', 'Iphone']\n",
        "versoes = ['Plus', 'Premium Plus', 'Premium Deluxe', 'Plus Premium Ultra']\n",
        "for celular in celulares:\n",
        "  for versao in versoes:\n",
        "    print(f'{celular} {versao}')\n"
      ],
      "metadata": {
        "colab": {
          "base_uri": "https://localhost:8080/"
        },
        "id": "mLm-6hy9bjWo",
        "outputId": "48f56921-bd3d-4b4f-8682-d8add73a194c"
      },
      "execution_count": 10,
      "outputs": [
        {
          "output_type": "stream",
          "name": "stdout",
          "text": [
            "Asus Plus\n",
            "Asus Premium Plus\n",
            "Asus Premium Deluxe\n",
            "Asus Plus Premium Ultra\n",
            "Samsung Plus\n",
            "Samsung Premium Plus\n",
            "Samsung Premium Deluxe\n",
            "Samsung Plus Premium Ultra\n",
            "Sony Plus\n",
            "Sony Premium Plus\n",
            "Sony Premium Deluxe\n",
            "Sony Plus Premium Ultra\n",
            "Iphone Plus\n",
            "Iphone Premium Plus\n",
            "Iphone Premium Deluxe\n",
            "Iphone Plus Premium Ultra\n"
          ]
        }
      ]
    }
  ]
}