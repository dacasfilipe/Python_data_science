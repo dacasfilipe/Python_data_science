{
  "nbformat": 4,
  "nbformat_minor": 0,
  "metadata": {
    "colab": {
      "provenance": [],
      "authorship_tag": "ABX9TyM5XYXS7kvWrh7Hkb8Z/mdf",
      "include_colab_link": true
    },
    "kernelspec": {
      "name": "python3",
      "display_name": "Python 3"
    },
    "language_info": {
      "name": "python"
    }
  },
  "cells": [
    {
      "cell_type": "markdown",
      "metadata": {
        "id": "view-in-github",
        "colab_type": "text"
      },
      "source": [
        "<a href=\"https://colab.research.google.com/github/dacasfilipe/Python_data_science/blob/main/Python_loops.ipynb\" target=\"_parent\"><img src=\"https://colab.research.google.com/assets/colab-badge.svg\" alt=\"Open In Colab\"/></a>"
      ]
    },
    {
      "cell_type": "code",
      "execution_count": 2,
      "metadata": {
        "colab": {
          "base_uri": "https://localhost:8080/"
        },
        "id": "fPj84CZpXJoc",
        "outputId": "2f59de66-f960-44c6-9852-a66c36ff534f"
      },
      "outputs": [
        {
          "output_type": "stream",
          "name": "stdout",
          "text": [
            "carregando 1\n",
            "carregando 3\n",
            "carregando 5\n",
            "carregando 7\n",
            "carregando 9\n",
            "carregando 11\n",
            "carregando 13\n",
            "carregando 15\n",
            "carregando 17\n",
            "carregando 19\n"
          ]
        }
      ],
      "source": [
        "for numero in range(1,21,2):\n",
        "  print('carregando', numero)"
      ]
    },
    {
      "cell_type": "code",
      "source": [
        "nomes = ['jeff', 'carl', 'jean', 'luke']\n",
        "for nome in nomes:\n",
        "  print(nome)"
      ],
      "metadata": {
        "colab": {
          "base_uri": "https://localhost:8080/"
        },
        "id": "8hCFpV-_X1sn",
        "outputId": "4ba32112-e1cd-428c-d5c1-4745a6593733"
      },
      "execution_count": 3,
      "outputs": [
        {
          "output_type": "stream",
          "name": "stdout",
          "text": [
            "jeff\n",
            "carl\n",
            "jean\n",
            "luke\n"
          ]
        }
      ]
    }
  ]
}