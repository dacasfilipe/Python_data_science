{
  "nbformat": 4,
  "nbformat_minor": 0,
  "metadata": {
    "colab": {
      "provenance": [],
      "authorship_tag": "ABX9TyOQbHQXNvsfdHJb53Z792mU",
      "include_colab_link": true
    },
    "kernelspec": {
      "name": "python3",
      "display_name": "Python 3"
    },
    "language_info": {
      "name": "python"
    }
  },
  "cells": [
    {
      "cell_type": "markdown",
      "metadata": {
        "id": "view-in-github",
        "colab_type": "text"
      },
      "source": [
        "<a href=\"https://colab.research.google.com/github/dacasfilipe/Python_data_science/blob/main/Estudo_do_Livro_Projeto_de_Ci%C3%AAncia_de_Dados_com_Python.ipynb\" target=\"_parent\"><img src=\"https://colab.research.google.com/assets/colab-badge.svg\" alt=\"Open In Colab\"/></a>"
      ]
    },
    {
      "cell_type": "markdown",
      "source": [
        "Estudo do Livro Projetos de Cência de Dados com Python\n",
        "\n",
        "Capítulo 1: Exploração e limpeza de dados\n",
        "\n",
        "Obejtivos de aprendizado:\n",
        "\n",
        "*   Executar operações básicas em Python\n",
        "*   Descrever o contexto empresarial dos dados do estudo de caso e sua adequação à tarefa\n",
        "*   Executar operações de limpeza de dados\n",
        "*   Examinar sínteses estatísticas e visualiozar os dados do estudo de caso\n",
        "*   Implementar a codificação one-hot(one-hot encoding) em variáveis categóricas\n",
        "\n",
        "Resumo: este capítulo é uma introdução as operações básicas em Python e aprenderei como executar operações relacionadas a dados e fazendo a verificação e limpeza dos dados e a verificação de sínteses estatísticas.\n",
        "\n",
        "\n"
      ],
      "metadata": {
        "id": "ZIPVnJlrPJ3L"
      }
    },
    {
      "cell_type": "code",
      "execution_count": null,
      "metadata": {
        "id": "-flhhhniPJNN"
      },
      "outputs": [],
      "source": []
    },
    {
      "cell_type": "markdown",
      "source": [
        "# A indexação e o operador slice\n",
        "\n",
        "lista: uma coleção ordenada mutável que pode conter qualquer tipo de dado, inclusive numéricos e strings.\n",
        "\n",
        "a palavra **mutável** significa apenas que os elementos da lista podem ser alterados após serem atribuídos.\n",
        "\n",
        "Para criar os elementos da lista inteiros e consecutivos usa-se a função **range()**\n",
        "\n",
        "**range()** cria um iterador que converte em uma lista usando a função **list()**"
      ],
      "metadata": {
        "id": "DnGkmewsTAQ6"
      }
    },
    {
      "cell_type": "code",
      "source": [
        "#criação de indexação de lista\n",
        "example_list = list(range(1,6))\n",
        "example_list\n",
        "example_list[0]\n",
        "example_list[-1]\n",
        "example_list[-2]\n",
        "example_list[:3]\n",
        "example_list[0] = 'a string'\n",
        "example_list\n",
        "\n",
        "\n"
      ],
      "metadata": {
        "colab": {
          "base_uri": "https://localhost:8080/"
        },
        "id": "2nyVgwjOUh6k",
        "outputId": "6edf8f2e-59d3-43c2-ee03-326cccd91a88"
      },
      "execution_count": 8,
      "outputs": [
        {
          "output_type": "execute_result",
          "data": {
            "text/plain": [
              "['a string', 2, 3, 4, 5]"
            ]
          },
          "metadata": {},
          "execution_count": 8
        }
      ]
    },
    {
      "cell_type": "code",
      "source": [
        "#uso do for\n",
        "i=1\n",
        "for i in range(11):\n",
        "  print(i)"
      ],
      "metadata": {
        "colab": {
          "base_uri": "https://localhost:8080/"
        },
        "id": "DYO8HYuTPtDw",
        "outputId": "70504d1f-4625-4e94-b37d-25aa67a41eda"
      },
      "execution_count": 2,
      "outputs": [
        {
          "output_type": "stream",
          "name": "stdout",
          "text": [
            "0\n",
            "1\n",
            "2\n",
            "3\n",
            "4\n",
            "5\n",
            "6\n",
            "7\n",
            "8\n",
            "9\n",
            "10\n"
          ]
        }
      ]
    },
    {
      "cell_type": "markdown",
      "source": [
        "# Estruturas de dados, funções e arquivos internos\n",
        "\n",
        "\n",
        "Pandas e Numpy foram projetadas para serem ferramentas de manipulação de dados do Python.\n",
        "Estrutura de dados são a força motriz do Python: as Tuplas, Listas, Dicionários e Conjuntos.\n",
        "\n",
        "# Estruturas de dados e Sequências\n",
        "\n",
        "São simples mas poderosas.\n",
        "Tupla, Lista e Dicionário são mais utilizados em sequências.\n",
        "\n",
        "# Tupla\n",
        "\n",
        "Tupla é uma sequência imutável e de tamanho fixo de objetos Python, que uma vez atribuída, não pode ser alterada.\n",
        "\n",
        "Para criar uma tupla use uma sequência de valores separados por vírgula:\n"
      ],
      "metadata": {
        "id": "fexy_RGR_Pwx"
      }
    },
    {
      "cell_type": "code",
      "source": [
        "tupla = (4,5,6)\n",
        "tupla\n",
        "\n",
        "#poderia ser também\n",
        "tup = 4,5,6\n",
        "tup"
      ],
      "metadata": {
        "colab": {
          "base_uri": "https://localhost:8080/"
        },
        "id": "w9OiMdxNCSJ3",
        "outputId": "bac2787c-aa0b-4c54-bde0-e20879ba9333"
      },
      "execution_count": 2,
      "outputs": [
        {
          "output_type": "execute_result",
          "data": {
            "text/plain": [
              "(4, 5, 6)"
            ]
          },
          "metadata": {},
          "execution_count": 2
        }
      ]
    },
    {
      "cell_type": "markdown",
      "source": [
        "Podemos converte qualquer sequência ou iterador em uma sequência chamando tuple:"
      ],
      "metadata": {
        "id": "ofJ9o-qJOjOx"
      }
    },
    {
      "cell_type": "code",
      "source": [
        "tuple([4,0,2])\n",
        "\n",
        "tup = tuple('string')\n",
        "tup\n"
      ],
      "metadata": {
        "colab": {
          "base_uri": "https://localhost:8080/"
        },
        "id": "yP0ctYlxO8iF",
        "outputId": "fe2ab8d2-8e31-47b2-b7dc-614d53ff5bef"
      },
      "execution_count": 5,
      "outputs": [
        {
          "output_type": "execute_result",
          "data": {
            "text/plain": [
              "('s', 't', 'r', 'i', 'n', 'g')"
            ]
          },
          "metadata": {},
          "execution_count": 5
        }
      ]
    },
    {
      "cell_type": "markdown",
      "source": [
        "Os elementos podem ser acessados através de colchetes:"
      ],
      "metadata": {
        "id": "KShB9fiIPVKK"
      }
    },
    {
      "cell_type": "code",
      "source": [
        "tup = tuple('string')\n",
        "tup[0]"
      ],
      "metadata": {
        "colab": {
          "base_uri": "https://localhost:8080/",
          "height": 35
        },
        "id": "S84ynB2wPabT",
        "outputId": "ecf36459-27da-4651-b6e1-e0a97d0e1f23"
      },
      "execution_count": 6,
      "outputs": [
        {
          "output_type": "execute_result",
          "data": {
            "text/plain": [
              "'s'"
            ],
            "application/vnd.google.colaboratory.intrinsic+json": {
              "type": "string"
            }
          },
          "metadata": {},
          "execution_count": 6
        }
      ]
    }
  ]
}