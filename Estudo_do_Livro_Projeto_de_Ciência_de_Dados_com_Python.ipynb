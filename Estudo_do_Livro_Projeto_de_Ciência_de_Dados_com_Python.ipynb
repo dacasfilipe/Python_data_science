{
  "nbformat": 4,
  "nbformat_minor": 0,
  "metadata": {
    "colab": {
      "provenance": [],
      "authorship_tag": "ABX9TyNp9lufGe0SK05TpdQgQrhE",
      "include_colab_link": true
    },
    "kernelspec": {
      "name": "python3",
      "display_name": "Python 3"
    },
    "language_info": {
      "name": "python"
    }
  },
  "cells": [
    {
      "cell_type": "markdown",
      "metadata": {
        "id": "view-in-github",
        "colab_type": "text"
      },
      "source": [
        "<a href=\"https://colab.research.google.com/github/dacasfilipe/Python_data_science/blob/main/Estudo_do_Livro_Projeto_de_Ci%C3%AAncia_de_Dados_com_Python.ipynb\" target=\"_parent\"><img src=\"https://colab.research.google.com/assets/colab-badge.svg\" alt=\"Open In Colab\"/></a>"
      ]
    },
    {
      "cell_type": "markdown",
      "source": [
        "Estudo do Livro Projetos de Cência de Dados com Python\n",
        "\n",
        "Capítulo 1: Exploração e limpeza de dados\n",
        "\n",
        "Obejtivos de aprendizado:\n",
        "\n",
        "*   Executar operações básicas em Python\n",
        "*   Descrever o contexto empresarial dos dados do estudo de caso e sua adequação à tarefa\n",
        "*   Executar operações de limpeza de dados\n",
        "*   Examinar sínteses estatísticas e visualiozar os dados do estudo de caso\n",
        "*   Implementar a codificação one-hot(one-hot encoding) em variáveis categóricas\n",
        "\n",
        "Resumo: este capítulo é uma introdução as operações básicas em Python e aprenderei como executar operações relacionadas a dados e fazendo a verificação e limpeza dos dados e a verificação de sínteses estatísticas.\n",
        "\n",
        "\n",
        "\n",
        "\n",
        "\n",
        "\n"
      ],
      "metadata": {
        "id": "ZIPVnJlrPJ3L"
      }
    },
    {
      "cell_type": "code",
      "execution_count": null,
      "metadata": {
        "id": "-flhhhniPJNN"
      },
      "outputs": [],
      "source": []
    }
  ]
}