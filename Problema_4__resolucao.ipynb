{
  "nbformat": 4,
  "nbformat_minor": 0,
  "metadata": {
    "colab": {
      "provenance": [],
      "authorship_tag": "ABX9TyNhuKk8DrBbnviolVwjagUK",
      "include_colab_link": true
    },
    "kernelspec": {
      "name": "python3",
      "display_name": "Python 3"
    },
    "language_info": {
      "name": "python"
    }
  },
  "cells": [
    {
      "cell_type": "markdown",
      "metadata": {
        "id": "view-in-github",
        "colab_type": "text"
      },
      "source": [
        "<a href=\"https://colab.research.google.com/github/dacasfilipe/Python_data_science/blob/main/Problema_4__resolucao.ipynb\" target=\"_parent\"><img src=\"https://colab.research.google.com/assets/colab-badge.svg\" alt=\"Open In Colab\"/></a>"
      ]
    },
    {
      "cell_type": "code",
      "execution_count": 1,
      "metadata": {
        "colab": {
          "base_uri": "https://localhost:8080/"
        },
        "id": "XCJ9X0znmr0c",
        "outputId": "27d78112-31f6-4124-de75-a1b466f81f7e"
      },
      "outputs": [
        {
          "output_type": "stream",
          "name": "stdout",
          "text": [
            "Olá Usuário, digite o código do item: 1\n",
            "Digite a descrição do item: uva\n",
            "Digite o preço inicial do item: 9.99\n",
            "Informações do Item:\n",
            "Código: 1\n",
            "Descrição: uva\n",
            "Preco no dia 1: 9.99 \n",
            "Preco no dia 2: 7.99 \n",
            "Preco no dia 3: 6.39 \n",
            "Preco no dia 4: 5.11 \n",
            "Preco no dia 5: 4.09 \n",
            "Preco no dia 6: 3.27 \n",
            "Preco no dia 7: 2.62 \n",
            "Preco no dia 1: 9.99 \n",
            "Preco no dia 2: 8.99 \n",
            "Preco no dia 3: 8.09 \n",
            "Preco no dia 4: 7.28 \n",
            "Preco no dia 5: 6.55 \n",
            "Preco no dia 6: 5.90 \n",
            "Preco no dia 7: 5.31 \n"
          ]
        }
      ],
      "source": [
        "cod = input('Olá Usuário, digite o código do item: ')\n",
        "desc = input('Digite a descrição do item: ')\n",
        "preco = input('Digite o preço inicial do item: ')\n",
        "def ajustar_preco(valor_inicial, dias, desconto=0.1) :\n",
        "  percentual=1-desconto\n",
        "  return valor_inicial * (percentual**(dias-1))\n",
        "print('Informações do Item:')\n",
        "print(f'Código: {cod}')\n",
        "print(f'Descrição: {desc}')\n",
        "preco = float(preco)\n",
        "for i in range(1,8) :\n",
        "  print(f'Preco no dia {i}: {ajustar_preco(preco, i, 0.2):.2f} ')\n",
        "preco = float(preco)\n",
        "for i in range(0,7) :\n",
        "  preco_ajustado = preco * (0.9**i)\n",
        "  print(f'Preco no dia {i+1}: {preco_ajustado:.2f} ')\n",
        "def ajustar_preco(valor_inicial, dias, percentual=0.9) :\n",
        "  preco = valor_inicial\n",
        "  for i in range(1, dias) :\n",
        "    preco = preco * percentual\n",
        "  return preco"
      ]
    }
  ]
}