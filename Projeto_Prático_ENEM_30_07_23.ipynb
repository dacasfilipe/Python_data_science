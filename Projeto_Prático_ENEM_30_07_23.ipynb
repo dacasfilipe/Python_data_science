{
  "nbformat": 4,
  "nbformat_minor": 0,
  "metadata": {
    "colab": {
      "provenance": [],
      "include_colab_link": true
    },
    "kernelspec": {
      "name": "python3",
      "display_name": "Python 3"
    }
  },
  "cells": [
    {
      "cell_type": "markdown",
      "metadata": {
        "id": "view-in-github",
        "colab_type": "text"
      },
      "source": [
        "<a href=\"https://colab.research.google.com/github/dacasfilipe/Python_data_science/blob/main/Projeto_Pr%C3%A1tico_ENEM_30_07_23.ipynb\" target=\"_parent\"><img src=\"https://colab.research.google.com/assets/colab-badge.svg\" alt=\"Open In Colab\"/></a>"
      ]
    },
    {
      "cell_type": "markdown",
      "source": [
        "![image.png](data:image/png;base64,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)"
      ],
      "metadata": {
        "id": "l-nh94uaVN3W"
      }
    },
    {
      "cell_type": "code",
      "source": [
        "from google.colab import drive\n",
        "drive.mount('/content/drive')"
      ],
      "metadata": {
        "colab": {
          "base_uri": "https://localhost:8080/"
        },
        "id": "RXdqWZ6nMQ-C",
        "outputId": "1f3f65e0-dc07-470e-f67f-0f52094bcdd5"
      },
      "execution_count": null,
      "outputs": [
        {
          "output_type": "stream",
          "name": "stdout",
          "text": [
            "Mounted at /content/drive\n"
          ]
        }
      ]
    },
    {
      "cell_type": "markdown",
      "source": [
        "<h1> Pós-Graduação em Ciência de Dados e Inteligência Artificial </h1>\n",
        "\n",
        "<h1>Unidade Curricular: Estatística Aplicada à Análise de Dados</h1>\n",
        "<h1>Professora: Inara Kellen Fonseca, Me.</h1>\n",
        "\n",
        "\n",
        "\n",
        "# <font color=\"#37BFF0\">Tópico 01 - Estatística Descritiva\n",
        "\n",
        "\n",
        "Este notebook abordará uma aplicação real da Estatística Descritiva utilizando Python.\n"
      ],
      "metadata": {
        "id": "zRbzutO0VnM-"
      }
    },
    {
      "cell_type": "markdown",
      "source": [
        "O DataSet foi extraido do site do [Inep](https://www.gov.br/inep/pt-br/acesso-a-informacao/dados-abertos/microdados/enem) (Instituto Nacional de Estudos e Pesquisas Educacionais Anisio Teixeira) e apresenta dos dados do ENEM do ano de 2022.\n",
        "Uma das tarefas desta atividade será reduzir os dados e salvar o novo dataset reduzido em um arquivo csv para trabalharmos com maior rapidez.\n",
        "\n",
        " <font color='#005DAA'><b> Eu irei trabalhar com as seguintes cores, defina as cores do seu projeto.\n",
        "\n",
        " <font color='#ADE3F8'><b>Escolha as cores do seu projeto.\n",
        "\n",
        " color = '#005DAA' (azul escuro)\n",
        "\n",
        " color = '#ADE3F8' (azul claro)"
      ],
      "metadata": {
        "id": "N90twN7EvXil"
      }
    },
    {
      "cell_type": "markdown",
      "source": [
        "##1) <font color='#005DAA'><b> Importe as bibliotecas que utilizaremos para análise de dados.\n"
      ],
      "metadata": {
        "id": "x0_RSiaxWjAI"
      }
    },
    {
      "cell_type": "markdown",
      "source": [
        "Numpy = biblioteca matemática\n",
        "\n",
        "Pandas para manipulação de dados\n",
        "\n",
        "Matplotlib e Seaborn para análise gráfica"
      ],
      "metadata": {
        "id": "1tFANYw5aWTW"
      }
    },
    {
      "cell_type": "code",
      "source": [
        "import numpy as np\n",
        "import pandas as pd\n",
        "import matplotlib.pyplot as plt\n",
        "import seaborn as sns"
      ],
      "metadata": {
        "id": "JE0kCWW-PbfG"
      },
      "execution_count": 3,
      "outputs": []
    },
    {
      "cell_type": "markdown",
      "source": [
        "## 2) <font color='#005DAA'><b> Carregue os dados no DRIVE e leia como dataframe usando"
      ],
      "metadata": {
        "id": "APZZTq4NWwhS"
      }
    },
    {
      "cell_type": "markdown",
      "source": [
        "pd.read_csv ('caminho do arquivo no drive', sep=',' **se os campos estiverem separados por vírgula**, enconding = 'tipo de codificação de caracteres'). Neste caso o arquivo \"DADOS_ENEN_2022.csv\" está com os campos separados por ' **;** '.\n",
        "\n",
        "O encoding é usado para que o arquivo reconheça assentos e símbolos (codificação de caracteres).\n",
        "\n",
        "Os mais usados utf-8, latin-1 e iso-8859-1.\n",
        "\n",
        "**Atenção** - Se a demora for grande, vamos fazer dowload apenas do arquivo 'DADOS_ENEM_SC.csv'"
      ],
      "metadata": {
        "id": "5GOjg1ugYwtc"
      }
    },
    {
      "cell_type": "code",
      "source": [
        "from google.colab import drive\n",
        "drive.mount('/content/drive')"
      ],
      "metadata": {
        "colab": {
          "base_uri": "https://localhost:8080/"
        },
        "id": "jRtiEONvXMV8",
        "outputId": "2aff34c8-0b0e-4e89-d487-5b996aa27868"
      },
      "execution_count": 4,
      "outputs": [
        {
          "output_type": "stream",
          "name": "stdout",
          "text": [
            "Mounted at /content/drive\n"
          ]
        }
      ]
    },
    {
      "cell_type": "code",
      "source": [
        "# Ler dados do ENEM 2022\n",
        "df=pd.read_csv('/content/drive/MyDrive/Data_Science/Estatistica/DADOS_ENEM_SC_COMPLETO.csv', sep= ',', encoding = 'utf-8')"
      ],
      "metadata": {
        "id": "q49R6zzph9Bh"
      },
      "execution_count": 14,
      "outputs": []
    },
    {
      "cell_type": "code",
      "source": [
        "# Caso demore muito a leitura dos dados do ENEM 2022, leia apenas os dados de SC\n",
        "\n",
        "df_sc = pd.read_csv('/content/drive/MyDrive/Data_Science/Estatistica/DADOS_ENEM_SC_COMPLETO.csv',sep = ',', encoding ='utf-8')"
      ],
      "metadata": {
        "id": "M-NjII4GVgbf"
      },
      "execution_count": 17,
      "outputs": []
    },
    {
      "cell_type": "markdown",
      "source": [
        "Visualize os dados"
      ],
      "metadata": {
        "id": "MGAfLb7IERdi"
      }
    },
    {
      "cell_type": "code",
      "source": [
        "df.head()"
      ],
      "metadata": {
        "colab": {
          "base_uri": "https://localhost:8080/",
          "height": 299
        },
        "id": "9W2vOP36WRO7",
        "outputId": "e528967f-e699-4f6a-e9ce-802c7ff81069"
      },
      "execution_count": 15,
      "outputs": [
        {
          "output_type": "execute_result",
          "data": {
            "text/plain": [
              "  NU_INSCRICAO  NU_ANO  TP_FAIXA_ETARIA TP_SEXO  TP_ESTADO_CIVIL  TP_COR_RACA  \\\n",
              "0  2,10056E+11    2022                3       F                0            1   \n",
              "1  2,10055E+11    2022                2       M                1            1   \n",
              "2  2,10055E+11    2022                3       F                1            1   \n",
              "3  2,10057E+11    2022                2       M                1            1   \n",
              "4  2,10055E+11    2022                2       F                1            1   \n",
              "\n",
              "   TP_NACIONALIDADE  TP_ST_CONCLUSAO  TP_ANO_CONCLUIU  TP_ESCOLA  ...  Q016  \\\n",
              "0                 1                2                0          2  ...     B   \n",
              "1                 1                2                0          2  ...     B   \n",
              "2                 1                2                0          2  ...     B   \n",
              "3                 1                2                0          3  ...     B   \n",
              "4                 1                2                0          2  ...     B   \n",
              "\n",
              "   Q017  Q018 Q019  Q020 Q021  Q022  Q023  Q024  Q025  \n",
              "0     A     B    C     A    A     E     A     B     B  \n",
              "1     A     A    C     B    A     C     A     B     B  \n",
              "2     A     A    B     A    A     D     A     A     B  \n",
              "3     A     B    E     B    B     E     A     E     B  \n",
              "4     A     B    C     B    A     E     A     C     B  \n",
              "\n",
              "[5 rows x 76 columns]"
            ],
            "text/html": [
              "\n",
              "\n",
              "  <div id=\"df-53c110f8-d654-475c-9db3-018aa400ead8\">\n",
              "    <div class=\"colab-df-container\">\n",
              "      <div>\n",
              "<style scoped>\n",
              "    .dataframe tbody tr th:only-of-type {\n",
              "        vertical-align: middle;\n",
              "    }\n",
              "\n",
              "    .dataframe tbody tr th {\n",
              "        vertical-align: top;\n",
              "    }\n",
              "\n",
              "    .dataframe thead th {\n",
              "        text-align: right;\n",
              "    }\n",
              "</style>\n",
              "<table border=\"1\" class=\"dataframe\">\n",
              "  <thead>\n",
              "    <tr style=\"text-align: right;\">\n",
              "      <th></th>\n",
              "      <th>NU_INSCRICAO</th>\n",
              "      <th>NU_ANO</th>\n",
              "      <th>TP_FAIXA_ETARIA</th>\n",
              "      <th>TP_SEXO</th>\n",
              "      <th>TP_ESTADO_CIVIL</th>\n",
              "      <th>TP_COR_RACA</th>\n",
              "      <th>TP_NACIONALIDADE</th>\n",
              "      <th>TP_ST_CONCLUSAO</th>\n",
              "      <th>TP_ANO_CONCLUIU</th>\n",
              "      <th>TP_ESCOLA</th>\n",
              "      <th>...</th>\n",
              "      <th>Q016</th>\n",
              "      <th>Q017</th>\n",
              "      <th>Q018</th>\n",
              "      <th>Q019</th>\n",
              "      <th>Q020</th>\n",
              "      <th>Q021</th>\n",
              "      <th>Q022</th>\n",
              "      <th>Q023</th>\n",
              "      <th>Q024</th>\n",
              "      <th>Q025</th>\n",
              "    </tr>\n",
              "  </thead>\n",
              "  <tbody>\n",
              "    <tr>\n",
              "      <th>0</th>\n",
              "      <td>2,10056E+11</td>\n",
              "      <td>2022</td>\n",
              "      <td>3</td>\n",
              "      <td>F</td>\n",
              "      <td>0</td>\n",
              "      <td>1</td>\n",
              "      <td>1</td>\n",
              "      <td>2</td>\n",
              "      <td>0</td>\n",
              "      <td>2</td>\n",
              "      <td>...</td>\n",
              "      <td>B</td>\n",
              "      <td>A</td>\n",
              "      <td>B</td>\n",
              "      <td>C</td>\n",
              "      <td>A</td>\n",
              "      <td>A</td>\n",
              "      <td>E</td>\n",
              "      <td>A</td>\n",
              "      <td>B</td>\n",
              "      <td>B</td>\n",
              "    </tr>\n",
              "    <tr>\n",
              "      <th>1</th>\n",
              "      <td>2,10055E+11</td>\n",
              "      <td>2022</td>\n",
              "      <td>2</td>\n",
              "      <td>M</td>\n",
              "      <td>1</td>\n",
              "      <td>1</td>\n",
              "      <td>1</td>\n",
              "      <td>2</td>\n",
              "      <td>0</td>\n",
              "      <td>2</td>\n",
              "      <td>...</td>\n",
              "      <td>B</td>\n",
              "      <td>A</td>\n",
              "      <td>A</td>\n",
              "      <td>C</td>\n",
              "      <td>B</td>\n",
              "      <td>A</td>\n",
              "      <td>C</td>\n",
              "      <td>A</td>\n",
              "      <td>B</td>\n",
              "      <td>B</td>\n",
              "    </tr>\n",
              "    <tr>\n",
              "      <th>2</th>\n",
              "      <td>2,10055E+11</td>\n",
              "      <td>2022</td>\n",
              "      <td>3</td>\n",
              "      <td>F</td>\n",
              "      <td>1</td>\n",
              "      <td>1</td>\n",
              "      <td>1</td>\n",
              "      <td>2</td>\n",
              "      <td>0</td>\n",
              "      <td>2</td>\n",
              "      <td>...</td>\n",
              "      <td>B</td>\n",
              "      <td>A</td>\n",
              "      <td>A</td>\n",
              "      <td>B</td>\n",
              "      <td>A</td>\n",
              "      <td>A</td>\n",
              "      <td>D</td>\n",
              "      <td>A</td>\n",
              "      <td>A</td>\n",
              "      <td>B</td>\n",
              "    </tr>\n",
              "    <tr>\n",
              "      <th>3</th>\n",
              "      <td>2,10057E+11</td>\n",
              "      <td>2022</td>\n",
              "      <td>2</td>\n",
              "      <td>M</td>\n",
              "      <td>1</td>\n",
              "      <td>1</td>\n",
              "      <td>1</td>\n",
              "      <td>2</td>\n",
              "      <td>0</td>\n",
              "      <td>3</td>\n",
              "      <td>...</td>\n",
              "      <td>B</td>\n",
              "      <td>A</td>\n",
              "      <td>B</td>\n",
              "      <td>E</td>\n",
              "      <td>B</td>\n",
              "      <td>B</td>\n",
              "      <td>E</td>\n",
              "      <td>A</td>\n",
              "      <td>E</td>\n",
              "      <td>B</td>\n",
              "    </tr>\n",
              "    <tr>\n",
              "      <th>4</th>\n",
              "      <td>2,10055E+11</td>\n",
              "      <td>2022</td>\n",
              "      <td>2</td>\n",
              "      <td>F</td>\n",
              "      <td>1</td>\n",
              "      <td>1</td>\n",
              "      <td>1</td>\n",
              "      <td>2</td>\n",
              "      <td>0</td>\n",
              "      <td>2</td>\n",
              "      <td>...</td>\n",
              "      <td>B</td>\n",
              "      <td>A</td>\n",
              "      <td>B</td>\n",
              "      <td>C</td>\n",
              "      <td>B</td>\n",
              "      <td>A</td>\n",
              "      <td>E</td>\n",
              "      <td>A</td>\n",
              "      <td>C</td>\n",
              "      <td>B</td>\n",
              "    </tr>\n",
              "  </tbody>\n",
              "</table>\n",
              "<p>5 rows × 76 columns</p>\n",
              "</div>\n",
              "      <button class=\"colab-df-convert\" onclick=\"convertToInteractive('df-53c110f8-d654-475c-9db3-018aa400ead8')\"\n",
              "              title=\"Convert this dataframe to an interactive table.\"\n",
              "              style=\"display:none;\">\n",
              "\n",
              "  <svg xmlns=\"http://www.w3.org/2000/svg\" height=\"24px\"viewBox=\"0 0 24 24\"\n",
              "       width=\"24px\">\n",
              "    <path d=\"M0 0h24v24H0V0z\" fill=\"none\"/>\n",
              "    <path d=\"M18.56 5.44l.94 2.06.94-2.06 2.06-.94-2.06-.94-.94-2.06-.94 2.06-2.06.94zm-11 1L8.5 8.5l.94-2.06 2.06-.94-2.06-.94L8.5 2.5l-.94 2.06-2.06.94zm10 10l.94 2.06.94-2.06 2.06-.94-2.06-.94-.94-2.06-.94 2.06-2.06.94z\"/><path d=\"M17.41 7.96l-1.37-1.37c-.4-.4-.92-.59-1.43-.59-.52 0-1.04.2-1.43.59L10.3 9.45l-7.72 7.72c-.78.78-.78 2.05 0 2.83L4 21.41c.39.39.9.59 1.41.59.51 0 1.02-.2 1.41-.59l7.78-7.78 2.81-2.81c.8-.78.8-2.07 0-2.86zM5.41 20L4 18.59l7.72-7.72 1.47 1.35L5.41 20z\"/>\n",
              "  </svg>\n",
              "      </button>\n",
              "\n",
              "\n",
              "\n",
              "    <div id=\"df-9adebe07-5037-4b53-8ba8-eccf4b3d10e2\">\n",
              "      <button class=\"colab-df-quickchart\" onclick=\"quickchart('df-9adebe07-5037-4b53-8ba8-eccf4b3d10e2')\"\n",
              "              title=\"Suggest charts.\"\n",
              "              style=\"display:none;\">\n",
              "\n",
              "<svg xmlns=\"http://www.w3.org/2000/svg\" height=\"24px\"viewBox=\"0 0 24 24\"\n",
              "     width=\"24px\">\n",
              "    <g>\n",
              "        <path d=\"M19 3H5c-1.1 0-2 .9-2 2v14c0 1.1.9 2 2 2h14c1.1 0 2-.9 2-2V5c0-1.1-.9-2-2-2zM9 17H7v-7h2v7zm4 0h-2V7h2v10zm4 0h-2v-4h2v4z\"/>\n",
              "    </g>\n",
              "</svg>\n",
              "      </button>\n",
              "    </div>\n",
              "\n",
              "<style>\n",
              "  .colab-df-quickchart {\n",
              "    background-color: #E8F0FE;\n",
              "    border: none;\n",
              "    border-radius: 50%;\n",
              "    cursor: pointer;\n",
              "    display: none;\n",
              "    fill: #1967D2;\n",
              "    height: 32px;\n",
              "    padding: 0 0 0 0;\n",
              "    width: 32px;\n",
              "  }\n",
              "\n",
              "  .colab-df-quickchart:hover {\n",
              "    background-color: #E2EBFA;\n",
              "    box-shadow: 0px 1px 2px rgba(60, 64, 67, 0.3), 0px 1px 3px 1px rgba(60, 64, 67, 0.15);\n",
              "    fill: #174EA6;\n",
              "  }\n",
              "\n",
              "  [theme=dark] .colab-df-quickchart {\n",
              "    background-color: #3B4455;\n",
              "    fill: #D2E3FC;\n",
              "  }\n",
              "\n",
              "  [theme=dark] .colab-df-quickchart:hover {\n",
              "    background-color: #434B5C;\n",
              "    box-shadow: 0px 1px 3px 1px rgba(0, 0, 0, 0.15);\n",
              "    filter: drop-shadow(0px 1px 2px rgba(0, 0, 0, 0.3));\n",
              "    fill: #FFFFFF;\n",
              "  }\n",
              "</style>\n",
              "\n",
              "    <script>\n",
              "      async function quickchart(key) {\n",
              "        const containerElement = document.querySelector('#' + key);\n",
              "        const charts = await google.colab.kernel.invokeFunction(\n",
              "            'suggestCharts', [key], {});\n",
              "      }\n",
              "    </script>\n",
              "\n",
              "      <script>\n",
              "\n",
              "function displayQuickchartButton(domScope) {\n",
              "  let quickchartButtonEl =\n",
              "    domScope.querySelector('#df-9adebe07-5037-4b53-8ba8-eccf4b3d10e2 button.colab-df-quickchart');\n",
              "  quickchartButtonEl.style.display =\n",
              "    google.colab.kernel.accessAllowed ? 'block' : 'none';\n",
              "}\n",
              "\n",
              "        displayQuickchartButton(document);\n",
              "      </script>\n",
              "      <style>\n",
              "    .colab-df-container {\n",
              "      display:flex;\n",
              "      flex-wrap:wrap;\n",
              "      gap: 12px;\n",
              "    }\n",
              "\n",
              "    .colab-df-convert {\n",
              "      background-color: #E8F0FE;\n",
              "      border: none;\n",
              "      border-radius: 50%;\n",
              "      cursor: pointer;\n",
              "      display: none;\n",
              "      fill: #1967D2;\n",
              "      height: 32px;\n",
              "      padding: 0 0 0 0;\n",
              "      width: 32px;\n",
              "    }\n",
              "\n",
              "    .colab-df-convert:hover {\n",
              "      background-color: #E2EBFA;\n",
              "      box-shadow: 0px 1px 2px rgba(60, 64, 67, 0.3), 0px 1px 3px 1px rgba(60, 64, 67, 0.15);\n",
              "      fill: #174EA6;\n",
              "    }\n",
              "\n",
              "    [theme=dark] .colab-df-convert {\n",
              "      background-color: #3B4455;\n",
              "      fill: #D2E3FC;\n",
              "    }\n",
              "\n",
              "    [theme=dark] .colab-df-convert:hover {\n",
              "      background-color: #434B5C;\n",
              "      box-shadow: 0px 1px 3px 1px rgba(0, 0, 0, 0.15);\n",
              "      filter: drop-shadow(0px 1px 2px rgba(0, 0, 0, 0.3));\n",
              "      fill: #FFFFFF;\n",
              "    }\n",
              "  </style>\n",
              "\n",
              "      <script>\n",
              "        const buttonEl =\n",
              "          document.querySelector('#df-53c110f8-d654-475c-9db3-018aa400ead8 button.colab-df-convert');\n",
              "        buttonEl.style.display =\n",
              "          google.colab.kernel.accessAllowed ? 'block' : 'none';\n",
              "\n",
              "        async function convertToInteractive(key) {\n",
              "          const element = document.querySelector('#df-53c110f8-d654-475c-9db3-018aa400ead8');\n",
              "          const dataTable =\n",
              "            await google.colab.kernel.invokeFunction('convertToInteractive',\n",
              "                                                     [key], {});\n",
              "          if (!dataTable) return;\n",
              "\n",
              "          const docLinkHtml = 'Like what you see? Visit the ' +\n",
              "            '<a target=\"_blank\" href=https://colab.research.google.com/notebooks/data_table.ipynb>data table notebook</a>'\n",
              "            + ' to learn more about interactive tables.';\n",
              "          element.innerHTML = '';\n",
              "          dataTable['output_type'] = 'display_data';\n",
              "          await google.colab.output.renderOutput(dataTable, element);\n",
              "          const docLink = document.createElement('div');\n",
              "          docLink.innerHTML = docLinkHtml;\n",
              "          element.appendChild(docLink);\n",
              "        }\n",
              "      </script>\n",
              "    </div>\n",
              "  </div>\n"
            ]
          },
          "metadata": {},
          "execution_count": 15
        }
      ]
    },
    {
      "cell_type": "code",
      "source": [
        "df_sc.head()"
      ],
      "metadata": {
        "colab": {
          "base_uri": "https://localhost:8080/",
          "height": 299
        },
        "id": "X3Po8x7SW7Gz",
        "outputId": "5ade9a64-0af9-4eee-9521-a229700507b3"
      },
      "execution_count": 18,
      "outputs": [
        {
          "output_type": "execute_result",
          "data": {
            "text/plain": [
              "  NU_INSCRICAO  NU_ANO  TP_FAIXA_ETARIA TP_SEXO  TP_ESTADO_CIVIL  TP_COR_RACA  \\\n",
              "0  2,10056E+11    2022                3       F                0            1   \n",
              "1  2,10055E+11    2022                2       M                1            1   \n",
              "2  2,10055E+11    2022                3       F                1            1   \n",
              "3  2,10057E+11    2022                2       M                1            1   \n",
              "4  2,10055E+11    2022                2       F                1            1   \n",
              "\n",
              "   TP_NACIONALIDADE  TP_ST_CONCLUSAO  TP_ANO_CONCLUIU  TP_ESCOLA  ...  Q016  \\\n",
              "0                 1                2                0          2  ...     B   \n",
              "1                 1                2                0          2  ...     B   \n",
              "2                 1                2                0          2  ...     B   \n",
              "3                 1                2                0          3  ...     B   \n",
              "4                 1                2                0          2  ...     B   \n",
              "\n",
              "   Q017  Q018 Q019  Q020 Q021  Q022  Q023  Q024  Q025  \n",
              "0     A     B    C     A    A     E     A     B     B  \n",
              "1     A     A    C     B    A     C     A     B     B  \n",
              "2     A     A    B     A    A     D     A     A     B  \n",
              "3     A     B    E     B    B     E     A     E     B  \n",
              "4     A     B    C     B    A     E     A     C     B  \n",
              "\n",
              "[5 rows x 76 columns]"
            ],
            "text/html": [
              "\n",
              "\n",
              "  <div id=\"df-6829637c-d4d1-460f-ae9c-427cae6ec7b6\">\n",
              "    <div class=\"colab-df-container\">\n",
              "      <div>\n",
              "<style scoped>\n",
              "    .dataframe tbody tr th:only-of-type {\n",
              "        vertical-align: middle;\n",
              "    }\n",
              "\n",
              "    .dataframe tbody tr th {\n",
              "        vertical-align: top;\n",
              "    }\n",
              "\n",
              "    .dataframe thead th {\n",
              "        text-align: right;\n",
              "    }\n",
              "</style>\n",
              "<table border=\"1\" class=\"dataframe\">\n",
              "  <thead>\n",
              "    <tr style=\"text-align: right;\">\n",
              "      <th></th>\n",
              "      <th>NU_INSCRICAO</th>\n",
              "      <th>NU_ANO</th>\n",
              "      <th>TP_FAIXA_ETARIA</th>\n",
              "      <th>TP_SEXO</th>\n",
              "      <th>TP_ESTADO_CIVIL</th>\n",
              "      <th>TP_COR_RACA</th>\n",
              "      <th>TP_NACIONALIDADE</th>\n",
              "      <th>TP_ST_CONCLUSAO</th>\n",
              "      <th>TP_ANO_CONCLUIU</th>\n",
              "      <th>TP_ESCOLA</th>\n",
              "      <th>...</th>\n",
              "      <th>Q016</th>\n",
              "      <th>Q017</th>\n",
              "      <th>Q018</th>\n",
              "      <th>Q019</th>\n",
              "      <th>Q020</th>\n",
              "      <th>Q021</th>\n",
              "      <th>Q022</th>\n",
              "      <th>Q023</th>\n",
              "      <th>Q024</th>\n",
              "      <th>Q025</th>\n",
              "    </tr>\n",
              "  </thead>\n",
              "  <tbody>\n",
              "    <tr>\n",
              "      <th>0</th>\n",
              "      <td>2,10056E+11</td>\n",
              "      <td>2022</td>\n",
              "      <td>3</td>\n",
              "      <td>F</td>\n",
              "      <td>0</td>\n",
              "      <td>1</td>\n",
              "      <td>1</td>\n",
              "      <td>2</td>\n",
              "      <td>0</td>\n",
              "      <td>2</td>\n",
              "      <td>...</td>\n",
              "      <td>B</td>\n",
              "      <td>A</td>\n",
              "      <td>B</td>\n",
              "      <td>C</td>\n",
              "      <td>A</td>\n",
              "      <td>A</td>\n",
              "      <td>E</td>\n",
              "      <td>A</td>\n",
              "      <td>B</td>\n",
              "      <td>B</td>\n",
              "    </tr>\n",
              "    <tr>\n",
              "      <th>1</th>\n",
              "      <td>2,10055E+11</td>\n",
              "      <td>2022</td>\n",
              "      <td>2</td>\n",
              "      <td>M</td>\n",
              "      <td>1</td>\n",
              "      <td>1</td>\n",
              "      <td>1</td>\n",
              "      <td>2</td>\n",
              "      <td>0</td>\n",
              "      <td>2</td>\n",
              "      <td>...</td>\n",
              "      <td>B</td>\n",
              "      <td>A</td>\n",
              "      <td>A</td>\n",
              "      <td>C</td>\n",
              "      <td>B</td>\n",
              "      <td>A</td>\n",
              "      <td>C</td>\n",
              "      <td>A</td>\n",
              "      <td>B</td>\n",
              "      <td>B</td>\n",
              "    </tr>\n",
              "    <tr>\n",
              "      <th>2</th>\n",
              "      <td>2,10055E+11</td>\n",
              "      <td>2022</td>\n",
              "      <td>3</td>\n",
              "      <td>F</td>\n",
              "      <td>1</td>\n",
              "      <td>1</td>\n",
              "      <td>1</td>\n",
              "      <td>2</td>\n",
              "      <td>0</td>\n",
              "      <td>2</td>\n",
              "      <td>...</td>\n",
              "      <td>B</td>\n",
              "      <td>A</td>\n",
              "      <td>A</td>\n",
              "      <td>B</td>\n",
              "      <td>A</td>\n",
              "      <td>A</td>\n",
              "      <td>D</td>\n",
              "      <td>A</td>\n",
              "      <td>A</td>\n",
              "      <td>B</td>\n",
              "    </tr>\n",
              "    <tr>\n",
              "      <th>3</th>\n",
              "      <td>2,10057E+11</td>\n",
              "      <td>2022</td>\n",
              "      <td>2</td>\n",
              "      <td>M</td>\n",
              "      <td>1</td>\n",
              "      <td>1</td>\n",
              "      <td>1</td>\n",
              "      <td>2</td>\n",
              "      <td>0</td>\n",
              "      <td>3</td>\n",
              "      <td>...</td>\n",
              "      <td>B</td>\n",
              "      <td>A</td>\n",
              "      <td>B</td>\n",
              "      <td>E</td>\n",
              "      <td>B</td>\n",
              "      <td>B</td>\n",
              "      <td>E</td>\n",
              "      <td>A</td>\n",
              "      <td>E</td>\n",
              "      <td>B</td>\n",
              "    </tr>\n",
              "    <tr>\n",
              "      <th>4</th>\n",
              "      <td>2,10055E+11</td>\n",
              "      <td>2022</td>\n",
              "      <td>2</td>\n",
              "      <td>F</td>\n",
              "      <td>1</td>\n",
              "      <td>1</td>\n",
              "      <td>1</td>\n",
              "      <td>2</td>\n",
              "      <td>0</td>\n",
              "      <td>2</td>\n",
              "      <td>...</td>\n",
              "      <td>B</td>\n",
              "      <td>A</td>\n",
              "      <td>B</td>\n",
              "      <td>C</td>\n",
              "      <td>B</td>\n",
              "      <td>A</td>\n",
              "      <td>E</td>\n",
              "      <td>A</td>\n",
              "      <td>C</td>\n",
              "      <td>B</td>\n",
              "    </tr>\n",
              "  </tbody>\n",
              "</table>\n",
              "<p>5 rows × 76 columns</p>\n",
              "</div>\n",
              "      <button class=\"colab-df-convert\" onclick=\"convertToInteractive('df-6829637c-d4d1-460f-ae9c-427cae6ec7b6')\"\n",
              "              title=\"Convert this dataframe to an interactive table.\"\n",
              "              style=\"display:none;\">\n",
              "\n",
              "  <svg xmlns=\"http://www.w3.org/2000/svg\" height=\"24px\"viewBox=\"0 0 24 24\"\n",
              "       width=\"24px\">\n",
              "    <path d=\"M0 0h24v24H0V0z\" fill=\"none\"/>\n",
              "    <path d=\"M18.56 5.44l.94 2.06.94-2.06 2.06-.94-2.06-.94-.94-2.06-.94 2.06-2.06.94zm-11 1L8.5 8.5l.94-2.06 2.06-.94-2.06-.94L8.5 2.5l-.94 2.06-2.06.94zm10 10l.94 2.06.94-2.06 2.06-.94-2.06-.94-.94-2.06-.94 2.06-2.06.94z\"/><path d=\"M17.41 7.96l-1.37-1.37c-.4-.4-.92-.59-1.43-.59-.52 0-1.04.2-1.43.59L10.3 9.45l-7.72 7.72c-.78.78-.78 2.05 0 2.83L4 21.41c.39.39.9.59 1.41.59.51 0 1.02-.2 1.41-.59l7.78-7.78 2.81-2.81c.8-.78.8-2.07 0-2.86zM5.41 20L4 18.59l7.72-7.72 1.47 1.35L5.41 20z\"/>\n",
              "  </svg>\n",
              "      </button>\n",
              "\n",
              "\n",
              "\n",
              "    <div id=\"df-5ba1207d-97dc-4ad2-8fb6-5b0ee8187130\">\n",
              "      <button class=\"colab-df-quickchart\" onclick=\"quickchart('df-5ba1207d-97dc-4ad2-8fb6-5b0ee8187130')\"\n",
              "              title=\"Suggest charts.\"\n",
              "              style=\"display:none;\">\n",
              "\n",
              "<svg xmlns=\"http://www.w3.org/2000/svg\" height=\"24px\"viewBox=\"0 0 24 24\"\n",
              "     width=\"24px\">\n",
              "    <g>\n",
              "        <path d=\"M19 3H5c-1.1 0-2 .9-2 2v14c0 1.1.9 2 2 2h14c1.1 0 2-.9 2-2V5c0-1.1-.9-2-2-2zM9 17H7v-7h2v7zm4 0h-2V7h2v10zm4 0h-2v-4h2v4z\"/>\n",
              "    </g>\n",
              "</svg>\n",
              "      </button>\n",
              "    </div>\n",
              "\n",
              "<style>\n",
              "  .colab-df-quickchart {\n",
              "    background-color: #E8F0FE;\n",
              "    border: none;\n",
              "    border-radius: 50%;\n",
              "    cursor: pointer;\n",
              "    display: none;\n",
              "    fill: #1967D2;\n",
              "    height: 32px;\n",
              "    padding: 0 0 0 0;\n",
              "    width: 32px;\n",
              "  }\n",
              "\n",
              "  .colab-df-quickchart:hover {\n",
              "    background-color: #E2EBFA;\n",
              "    box-shadow: 0px 1px 2px rgba(60, 64, 67, 0.3), 0px 1px 3px 1px rgba(60, 64, 67, 0.15);\n",
              "    fill: #174EA6;\n",
              "  }\n",
              "\n",
              "  [theme=dark] .colab-df-quickchart {\n",
              "    background-color: #3B4455;\n",
              "    fill: #D2E3FC;\n",
              "  }\n",
              "\n",
              "  [theme=dark] .colab-df-quickchart:hover {\n",
              "    background-color: #434B5C;\n",
              "    box-shadow: 0px 1px 3px 1px rgba(0, 0, 0, 0.15);\n",
              "    filter: drop-shadow(0px 1px 2px rgba(0, 0, 0, 0.3));\n",
              "    fill: #FFFFFF;\n",
              "  }\n",
              "</style>\n",
              "\n",
              "    <script>\n",
              "      async function quickchart(key) {\n",
              "        const containerElement = document.querySelector('#' + key);\n",
              "        const charts = await google.colab.kernel.invokeFunction(\n",
              "            'suggestCharts', [key], {});\n",
              "      }\n",
              "    </script>\n",
              "\n",
              "      <script>\n",
              "\n",
              "function displayQuickchartButton(domScope) {\n",
              "  let quickchartButtonEl =\n",
              "    domScope.querySelector('#df-5ba1207d-97dc-4ad2-8fb6-5b0ee8187130 button.colab-df-quickchart');\n",
              "  quickchartButtonEl.style.display =\n",
              "    google.colab.kernel.accessAllowed ? 'block' : 'none';\n",
              "}\n",
              "\n",
              "        displayQuickchartButton(document);\n",
              "      </script>\n",
              "      <style>\n",
              "    .colab-df-container {\n",
              "      display:flex;\n",
              "      flex-wrap:wrap;\n",
              "      gap: 12px;\n",
              "    }\n",
              "\n",
              "    .colab-df-convert {\n",
              "      background-color: #E8F0FE;\n",
              "      border: none;\n",
              "      border-radius: 50%;\n",
              "      cursor: pointer;\n",
              "      display: none;\n",
              "      fill: #1967D2;\n",
              "      height: 32px;\n",
              "      padding: 0 0 0 0;\n",
              "      width: 32px;\n",
              "    }\n",
              "\n",
              "    .colab-df-convert:hover {\n",
              "      background-color: #E2EBFA;\n",
              "      box-shadow: 0px 1px 2px rgba(60, 64, 67, 0.3), 0px 1px 3px 1px rgba(60, 64, 67, 0.15);\n",
              "      fill: #174EA6;\n",
              "    }\n",
              "\n",
              "    [theme=dark] .colab-df-convert {\n",
              "      background-color: #3B4455;\n",
              "      fill: #D2E3FC;\n",
              "    }\n",
              "\n",
              "    [theme=dark] .colab-df-convert:hover {\n",
              "      background-color: #434B5C;\n",
              "      box-shadow: 0px 1px 3px 1px rgba(0, 0, 0, 0.15);\n",
              "      filter: drop-shadow(0px 1px 2px rgba(0, 0, 0, 0.3));\n",
              "      fill: #FFFFFF;\n",
              "    }\n",
              "  </style>\n",
              "\n",
              "      <script>\n",
              "        const buttonEl =\n",
              "          document.querySelector('#df-6829637c-d4d1-460f-ae9c-427cae6ec7b6 button.colab-df-convert');\n",
              "        buttonEl.style.display =\n",
              "          google.colab.kernel.accessAllowed ? 'block' : 'none';\n",
              "\n",
              "        async function convertToInteractive(key) {\n",
              "          const element = document.querySelector('#df-6829637c-d4d1-460f-ae9c-427cae6ec7b6');\n",
              "          const dataTable =\n",
              "            await google.colab.kernel.invokeFunction('convertToInteractive',\n",
              "                                                     [key], {});\n",
              "          if (!dataTable) return;\n",
              "\n",
              "          const docLinkHtml = 'Like what you see? Visit the ' +\n",
              "            '<a target=\"_blank\" href=https://colab.research.google.com/notebooks/data_table.ipynb>data table notebook</a>'\n",
              "            + ' to learn more about interactive tables.';\n",
              "          element.innerHTML = '';\n",
              "          dataTable['output_type'] = 'display_data';\n",
              "          await google.colab.output.renderOutput(dataTable, element);\n",
              "          const docLink = document.createElement('div');\n",
              "          docLink.innerHTML = docLinkHtml;\n",
              "          element.appendChild(docLink);\n",
              "        }\n",
              "      </script>\n",
              "    </div>\n",
              "  </div>\n"
            ]
          },
          "metadata": {},
          "execution_count": 18
        }
      ]
    },
    {
      "cell_type": "markdown",
      "source": [
        "Verifique as dimensões dos dados."
      ],
      "metadata": {
        "id": "of78jz3CG5DD"
      }
    },
    {
      "cell_type": "code",
      "source": [
        "df_sc.shape"
      ],
      "metadata": {
        "colab": {
          "base_uri": "https://localhost:8080/"
        },
        "id": "T-l-JAmHWWiD",
        "outputId": "c0b0d3d6-0f1f-4201-f400-06b5bf706175"
      },
      "execution_count": 19,
      "outputs": [
        {
          "output_type": "execute_result",
          "data": {
            "text/plain": [
              "(7571, 76)"
            ]
          },
          "metadata": {},
          "execution_count": 19
        }
      ]
    },
    {
      "cell_type": "markdown",
      "source": [
        "## 3) <font color='#005DAA'><b> Verifique o total de dados do Estado de Santa Catarina e escreva aqui."
      ],
      "metadata": {
        "id": "oUmD5r3cxO4_"
      }
    },
    {
      "cell_type": "code",
      "source": [
        "df_sc.SG_UF_ESC.value_counts()"
      ],
      "metadata": {
        "colab": {
          "base_uri": "https://localhost:8080/"
        },
        "id": "lmGn_XWUVkHW",
        "outputId": "31f7eb76-5ac5-4a85-e322-f70be9e473bc"
      },
      "execution_count": 20,
      "outputs": [
        {
          "output_type": "execute_result",
          "data": {
            "text/plain": [
              "SC    7571\n",
              "Name: SG_UF_ESC, dtype: int64"
            ]
          },
          "metadata": {},
          "execution_count": 20
        }
      ]
    },
    {
      "cell_type": "markdown",
      "source": [
        "Dica: use value.counts() parara a variável SG_UF_ESC (Sigla da UF da Escola do Aluno)\n",
        "\n",
        "n = 7571"
      ],
      "metadata": {
        "id": "9ypANce_y1AD"
      }
    },
    {
      "cell_type": "markdown",
      "source": [
        "## 4) <font color='red'><b> Fazer a questão 5 apenas se conseguir fazer upload do arquivo DADOS_ENEM_2022."
      ],
      "metadata": {
        "id": "tNWWvdvOWjn6"
      }
    },
    {
      "cell_type": "markdown",
      "source": [
        "## 5) <font color='#005DAA'><b> Em um dataframe novo, com o nome de df_SC, vamos selecionar os dados com SG_UF_ESC = SC, ou seja, apenas os dados de alunos de Santa Catarina e exportar estes dados, em formato csv para o drive com o nome DADOS_ENEM_SC.csv"
      ],
      "metadata": {
        "id": "_08uBfvnzGr_"
      }
    },
    {
      "cell_type": "markdown",
      "source": [
        "Dicas: para exportar o novo dataframe use df_sc.to_csv('caminho do drive/DADOS_ENEM_SC.csv', index = False).\n",
        "\n",
        "o parâmetro **index=False** indica que o índice do DataFrame não deve ser incluído no arquivo CSV resultante. Usado em situações em que o índice do DataFrame não é relevante para a análise ou não deve ser preservado no arquivo de saída. Ao definir index=False, você tem mais controle sobre a estrutura do arquivo CSV gerado."
      ],
      "metadata": {
        "id": "wBYbD6W70ge9"
      }
    },
    {
      "cell_type": "code",
      "source": [
        "# Selecionar apenas os dados com SG_UF_ES = SC\n",
        "\n",
        "df_SC = df[df['SG_UF_ESC'] == 'SC']"
      ],
      "metadata": {
        "id": "z_bdlRVnzwsl"
      },
      "execution_count": 21,
      "outputs": []
    },
    {
      "cell_type": "code",
      "source": [
        "# Exportar os dados selecionados para um arquivo CSV , dentro do DRIVE, com o nome DADOS_ENEM_SC ou DADOS_SC.\n",
        "\n",
        "df_SC.to_csv('/content/drive/MyDrive/Data_Science/Estatistica/DADOS_ENEM_SC.csv',)\n"
      ],
      "metadata": {
        "id": "zaaBVvelw8QZ"
      },
      "execution_count": 22,
      "outputs": []
    },
    {
      "cell_type": "markdown",
      "source": [
        "**Depois de rodar a exportação, não se esqueça de atualizar o Drive e visualizar o novo arquivo.**"
      ],
      "metadata": {
        "id": "8Ch4ijmvEtaf"
      }
    },
    {
      "cell_type": "markdown",
      "source": [
        "## 6) <font color='#005DAA'><b> Visualize os dados de SC. n = ?"
      ],
      "metadata": {
        "id": "ryza0B5i1gDx"
      }
    },
    {
      "cell_type": "code",
      "source": [
        "df_SC.head()"
      ],
      "metadata": {
        "colab": {
          "base_uri": "https://localhost:8080/",
          "height": 299
        },
        "id": "E6RwsWGbVzcn",
        "outputId": "d37bf9f2-ef9f-4757-dd5a-dbcc1fb54508"
      },
      "execution_count": 23,
      "outputs": [
        {
          "output_type": "execute_result",
          "data": {
            "text/plain": [
              "  NU_INSCRICAO  NU_ANO  TP_FAIXA_ETARIA TP_SEXO  TP_ESTADO_CIVIL  TP_COR_RACA  \\\n",
              "0  2,10056E+11    2022                3       F                0            1   \n",
              "1  2,10055E+11    2022                2       M                1            1   \n",
              "2  2,10055E+11    2022                3       F                1            1   \n",
              "3  2,10057E+11    2022                2       M                1            1   \n",
              "4  2,10055E+11    2022                2       F                1            1   \n",
              "\n",
              "   TP_NACIONALIDADE  TP_ST_CONCLUSAO  TP_ANO_CONCLUIU  TP_ESCOLA  ...  Q016  \\\n",
              "0                 1                2                0          2  ...     B   \n",
              "1                 1                2                0          2  ...     B   \n",
              "2                 1                2                0          2  ...     B   \n",
              "3                 1                2                0          3  ...     B   \n",
              "4                 1                2                0          2  ...     B   \n",
              "\n",
              "   Q017  Q018 Q019  Q020 Q021  Q022  Q023  Q024  Q025  \n",
              "0     A     B    C     A    A     E     A     B     B  \n",
              "1     A     A    C     B    A     C     A     B     B  \n",
              "2     A     A    B     A    A     D     A     A     B  \n",
              "3     A     B    E     B    B     E     A     E     B  \n",
              "4     A     B    C     B    A     E     A     C     B  \n",
              "\n",
              "[5 rows x 76 columns]"
            ],
            "text/html": [
              "\n",
              "\n",
              "  <div id=\"df-dd359059-3282-4270-9a06-0a08d47f469c\">\n",
              "    <div class=\"colab-df-container\">\n",
              "      <div>\n",
              "<style scoped>\n",
              "    .dataframe tbody tr th:only-of-type {\n",
              "        vertical-align: middle;\n",
              "    }\n",
              "\n",
              "    .dataframe tbody tr th {\n",
              "        vertical-align: top;\n",
              "    }\n",
              "\n",
              "    .dataframe thead th {\n",
              "        text-align: right;\n",
              "    }\n",
              "</style>\n",
              "<table border=\"1\" class=\"dataframe\">\n",
              "  <thead>\n",
              "    <tr style=\"text-align: right;\">\n",
              "      <th></th>\n",
              "      <th>NU_INSCRICAO</th>\n",
              "      <th>NU_ANO</th>\n",
              "      <th>TP_FAIXA_ETARIA</th>\n",
              "      <th>TP_SEXO</th>\n",
              "      <th>TP_ESTADO_CIVIL</th>\n",
              "      <th>TP_COR_RACA</th>\n",
              "      <th>TP_NACIONALIDADE</th>\n",
              "      <th>TP_ST_CONCLUSAO</th>\n",
              "      <th>TP_ANO_CONCLUIU</th>\n",
              "      <th>TP_ESCOLA</th>\n",
              "      <th>...</th>\n",
              "      <th>Q016</th>\n",
              "      <th>Q017</th>\n",
              "      <th>Q018</th>\n",
              "      <th>Q019</th>\n",
              "      <th>Q020</th>\n",
              "      <th>Q021</th>\n",
              "      <th>Q022</th>\n",
              "      <th>Q023</th>\n",
              "      <th>Q024</th>\n",
              "      <th>Q025</th>\n",
              "    </tr>\n",
              "  </thead>\n",
              "  <tbody>\n",
              "    <tr>\n",
              "      <th>0</th>\n",
              "      <td>2,10056E+11</td>\n",
              "      <td>2022</td>\n",
              "      <td>3</td>\n",
              "      <td>F</td>\n",
              "      <td>0</td>\n",
              "      <td>1</td>\n",
              "      <td>1</td>\n",
              "      <td>2</td>\n",
              "      <td>0</td>\n",
              "      <td>2</td>\n",
              "      <td>...</td>\n",
              "      <td>B</td>\n",
              "      <td>A</td>\n",
              "      <td>B</td>\n",
              "      <td>C</td>\n",
              "      <td>A</td>\n",
              "      <td>A</td>\n",
              "      <td>E</td>\n",
              "      <td>A</td>\n",
              "      <td>B</td>\n",
              "      <td>B</td>\n",
              "    </tr>\n",
              "    <tr>\n",
              "      <th>1</th>\n",
              "      <td>2,10055E+11</td>\n",
              "      <td>2022</td>\n",
              "      <td>2</td>\n",
              "      <td>M</td>\n",
              "      <td>1</td>\n",
              "      <td>1</td>\n",
              "      <td>1</td>\n",
              "      <td>2</td>\n",
              "      <td>0</td>\n",
              "      <td>2</td>\n",
              "      <td>...</td>\n",
              "      <td>B</td>\n",
              "      <td>A</td>\n",
              "      <td>A</td>\n",
              "      <td>C</td>\n",
              "      <td>B</td>\n",
              "      <td>A</td>\n",
              "      <td>C</td>\n",
              "      <td>A</td>\n",
              "      <td>B</td>\n",
              "      <td>B</td>\n",
              "    </tr>\n",
              "    <tr>\n",
              "      <th>2</th>\n",
              "      <td>2,10055E+11</td>\n",
              "      <td>2022</td>\n",
              "      <td>3</td>\n",
              "      <td>F</td>\n",
              "      <td>1</td>\n",
              "      <td>1</td>\n",
              "      <td>1</td>\n",
              "      <td>2</td>\n",
              "      <td>0</td>\n",
              "      <td>2</td>\n",
              "      <td>...</td>\n",
              "      <td>B</td>\n",
              "      <td>A</td>\n",
              "      <td>A</td>\n",
              "      <td>B</td>\n",
              "      <td>A</td>\n",
              "      <td>A</td>\n",
              "      <td>D</td>\n",
              "      <td>A</td>\n",
              "      <td>A</td>\n",
              "      <td>B</td>\n",
              "    </tr>\n",
              "    <tr>\n",
              "      <th>3</th>\n",
              "      <td>2,10057E+11</td>\n",
              "      <td>2022</td>\n",
              "      <td>2</td>\n",
              "      <td>M</td>\n",
              "      <td>1</td>\n",
              "      <td>1</td>\n",
              "      <td>1</td>\n",
              "      <td>2</td>\n",
              "      <td>0</td>\n",
              "      <td>3</td>\n",
              "      <td>...</td>\n",
              "      <td>B</td>\n",
              "      <td>A</td>\n",
              "      <td>B</td>\n",
              "      <td>E</td>\n",
              "      <td>B</td>\n",
              "      <td>B</td>\n",
              "      <td>E</td>\n",
              "      <td>A</td>\n",
              "      <td>E</td>\n",
              "      <td>B</td>\n",
              "    </tr>\n",
              "    <tr>\n",
              "      <th>4</th>\n",
              "      <td>2,10055E+11</td>\n",
              "      <td>2022</td>\n",
              "      <td>2</td>\n",
              "      <td>F</td>\n",
              "      <td>1</td>\n",
              "      <td>1</td>\n",
              "      <td>1</td>\n",
              "      <td>2</td>\n",
              "      <td>0</td>\n",
              "      <td>2</td>\n",
              "      <td>...</td>\n",
              "      <td>B</td>\n",
              "      <td>A</td>\n",
              "      <td>B</td>\n",
              "      <td>C</td>\n",
              "      <td>B</td>\n",
              "      <td>A</td>\n",
              "      <td>E</td>\n",
              "      <td>A</td>\n",
              "      <td>C</td>\n",
              "      <td>B</td>\n",
              "    </tr>\n",
              "  </tbody>\n",
              "</table>\n",
              "<p>5 rows × 76 columns</p>\n",
              "</div>\n",
              "      <button class=\"colab-df-convert\" onclick=\"convertToInteractive('df-dd359059-3282-4270-9a06-0a08d47f469c')\"\n",
              "              title=\"Convert this dataframe to an interactive table.\"\n",
              "              style=\"display:none;\">\n",
              "\n",
              "  <svg xmlns=\"http://www.w3.org/2000/svg\" height=\"24px\"viewBox=\"0 0 24 24\"\n",
              "       width=\"24px\">\n",
              "    <path d=\"M0 0h24v24H0V0z\" fill=\"none\"/>\n",
              "    <path d=\"M18.56 5.44l.94 2.06.94-2.06 2.06-.94-2.06-.94-.94-2.06-.94 2.06-2.06.94zm-11 1L8.5 8.5l.94-2.06 2.06-.94-2.06-.94L8.5 2.5l-.94 2.06-2.06.94zm10 10l.94 2.06.94-2.06 2.06-.94-2.06-.94-.94-2.06-.94 2.06-2.06.94z\"/><path d=\"M17.41 7.96l-1.37-1.37c-.4-.4-.92-.59-1.43-.59-.52 0-1.04.2-1.43.59L10.3 9.45l-7.72 7.72c-.78.78-.78 2.05 0 2.83L4 21.41c.39.39.9.59 1.41.59.51 0 1.02-.2 1.41-.59l7.78-7.78 2.81-2.81c.8-.78.8-2.07 0-2.86zM5.41 20L4 18.59l7.72-7.72 1.47 1.35L5.41 20z\"/>\n",
              "  </svg>\n",
              "      </button>\n",
              "\n",
              "\n",
              "\n",
              "    <div id=\"df-3aefde3e-ad97-488e-9d8b-efbfceb49149\">\n",
              "      <button class=\"colab-df-quickchart\" onclick=\"quickchart('df-3aefde3e-ad97-488e-9d8b-efbfceb49149')\"\n",
              "              title=\"Suggest charts.\"\n",
              "              style=\"display:none;\">\n",
              "\n",
              "<svg xmlns=\"http://www.w3.org/2000/svg\" height=\"24px\"viewBox=\"0 0 24 24\"\n",
              "     width=\"24px\">\n",
              "    <g>\n",
              "        <path d=\"M19 3H5c-1.1 0-2 .9-2 2v14c0 1.1.9 2 2 2h14c1.1 0 2-.9 2-2V5c0-1.1-.9-2-2-2zM9 17H7v-7h2v7zm4 0h-2V7h2v10zm4 0h-2v-4h2v4z\"/>\n",
              "    </g>\n",
              "</svg>\n",
              "      </button>\n",
              "    </div>\n",
              "\n",
              "<style>\n",
              "  .colab-df-quickchart {\n",
              "    background-color: #E8F0FE;\n",
              "    border: none;\n",
              "    border-radius: 50%;\n",
              "    cursor: pointer;\n",
              "    display: none;\n",
              "    fill: #1967D2;\n",
              "    height: 32px;\n",
              "    padding: 0 0 0 0;\n",
              "    width: 32px;\n",
              "  }\n",
              "\n",
              "  .colab-df-quickchart:hover {\n",
              "    background-color: #E2EBFA;\n",
              "    box-shadow: 0px 1px 2px rgba(60, 64, 67, 0.3), 0px 1px 3px 1px rgba(60, 64, 67, 0.15);\n",
              "    fill: #174EA6;\n",
              "  }\n",
              "\n",
              "  [theme=dark] .colab-df-quickchart {\n",
              "    background-color: #3B4455;\n",
              "    fill: #D2E3FC;\n",
              "  }\n",
              "\n",
              "  [theme=dark] .colab-df-quickchart:hover {\n",
              "    background-color: #434B5C;\n",
              "    box-shadow: 0px 1px 3px 1px rgba(0, 0, 0, 0.15);\n",
              "    filter: drop-shadow(0px 1px 2px rgba(0, 0, 0, 0.3));\n",
              "    fill: #FFFFFF;\n",
              "  }\n",
              "</style>\n",
              "\n",
              "    <script>\n",
              "      async function quickchart(key) {\n",
              "        const containerElement = document.querySelector('#' + key);\n",
              "        const charts = await google.colab.kernel.invokeFunction(\n",
              "            'suggestCharts', [key], {});\n",
              "      }\n",
              "    </script>\n",
              "\n",
              "      <script>\n",
              "\n",
              "function displayQuickchartButton(domScope) {\n",
              "  let quickchartButtonEl =\n",
              "    domScope.querySelector('#df-3aefde3e-ad97-488e-9d8b-efbfceb49149 button.colab-df-quickchart');\n",
              "  quickchartButtonEl.style.display =\n",
              "    google.colab.kernel.accessAllowed ? 'block' : 'none';\n",
              "}\n",
              "\n",
              "        displayQuickchartButton(document);\n",
              "      </script>\n",
              "      <style>\n",
              "    .colab-df-container {\n",
              "      display:flex;\n",
              "      flex-wrap:wrap;\n",
              "      gap: 12px;\n",
              "    }\n",
              "\n",
              "    .colab-df-convert {\n",
              "      background-color: #E8F0FE;\n",
              "      border: none;\n",
              "      border-radius: 50%;\n",
              "      cursor: pointer;\n",
              "      display: none;\n",
              "      fill: #1967D2;\n",
              "      height: 32px;\n",
              "      padding: 0 0 0 0;\n",
              "      width: 32px;\n",
              "    }\n",
              "\n",
              "    .colab-df-convert:hover {\n",
              "      background-color: #E2EBFA;\n",
              "      box-shadow: 0px 1px 2px rgba(60, 64, 67, 0.3), 0px 1px 3px 1px rgba(60, 64, 67, 0.15);\n",
              "      fill: #174EA6;\n",
              "    }\n",
              "\n",
              "    [theme=dark] .colab-df-convert {\n",
              "      background-color: #3B4455;\n",
              "      fill: #D2E3FC;\n",
              "    }\n",
              "\n",
              "    [theme=dark] .colab-df-convert:hover {\n",
              "      background-color: #434B5C;\n",
              "      box-shadow: 0px 1px 3px 1px rgba(0, 0, 0, 0.15);\n",
              "      filter: drop-shadow(0px 1px 2px rgba(0, 0, 0, 0.3));\n",
              "      fill: #FFFFFF;\n",
              "    }\n",
              "  </style>\n",
              "\n",
              "      <script>\n",
              "        const buttonEl =\n",
              "          document.querySelector('#df-dd359059-3282-4270-9a06-0a08d47f469c button.colab-df-convert');\n",
              "        buttonEl.style.display =\n",
              "          google.colab.kernel.accessAllowed ? 'block' : 'none';\n",
              "\n",
              "        async function convertToInteractive(key) {\n",
              "          const element = document.querySelector('#df-dd359059-3282-4270-9a06-0a08d47f469c');\n",
              "          const dataTable =\n",
              "            await google.colab.kernel.invokeFunction('convertToInteractive',\n",
              "                                                     [key], {});\n",
              "          if (!dataTable) return;\n",
              "\n",
              "          const docLinkHtml = 'Like what you see? Visit the ' +\n",
              "            '<a target=\"_blank\" href=https://colab.research.google.com/notebooks/data_table.ipynb>data table notebook</a>'\n",
              "            + ' to learn more about interactive tables.';\n",
              "          element.innerHTML = '';\n",
              "          dataTable['output_type'] = 'display_data';\n",
              "          await google.colab.output.renderOutput(dataTable, element);\n",
              "          const docLink = document.createElement('div');\n",
              "          docLink.innerHTML = docLinkHtml;\n",
              "          element.appendChild(docLink);\n",
              "        }\n",
              "      </script>\n",
              "    </div>\n",
              "  </div>\n"
            ]
          },
          "metadata": {},
          "execution_count": 23
        }
      ]
    },
    {
      "cell_type": "markdown",
      "source": [
        "## 7) <font color='#005DAA'><b> Com o atributo \"columns\" verifique as colunas(variáveis) do DataSet e retire aquelas que não serão importantes para a análise.\n",
        "\n",
        "Use o método 'drop' e chame o novo DataSet de df1_SC\n"
      ],
      "metadata": {
        "id": "4Q2RIf4A2CDd"
      }
    },
    {
      "cell_type": "markdown",
      "source": [
        "Exemplos:\n",
        "\n",
        "CO_UF_ESC = CÓDIGO UF DA ESCOLA\n",
        "\n",
        "CO_MUNICIPIO_ESC = CÓDIGO DO MUNICÍPIO DA ESCOLA\n",
        "\n",
        "CO_MUNICIPIO_PROVA = CÓDIGO DO MUNICÍPIO ONDE O ALUNO FEZ A PROVA\n",
        "\n",
        "CO_UF_PROVA = CÓDIGO UF ONDE O ALUNO FEZ A PROVA\n",
        "\n"
      ],
      "metadata": {
        "id": "0hJelUi22a7a"
      }
    },
    {
      "cell_type": "code",
      "source": [
        "df_SC.columns\n"
      ],
      "metadata": {
        "colab": {
          "base_uri": "https://localhost:8080/"
        },
        "id": "aWAmCLyuWJoG",
        "outputId": "f4e6ff0b-2fb0-4a0a-f1a3-05fe309da3e6"
      },
      "execution_count": 24,
      "outputs": [
        {
          "output_type": "execute_result",
          "data": {
            "text/plain": [
              "Index(['NU_INSCRICAO', 'NU_ANO', 'TP_FAIXA_ETARIA', 'TP_SEXO',\n",
              "       'TP_ESTADO_CIVIL', 'TP_COR_RACA', 'TP_NACIONALIDADE', 'TP_ST_CONCLUSAO',\n",
              "       'TP_ANO_CONCLUIU', 'TP_ESCOLA', 'TP_ENSINO', 'IN_TREINEIRO',\n",
              "       'CO_MUNICIPIO_ESC', 'NO_MUNICIPIO_ESC', 'CO_UF_ESC', 'SG_UF_ESC',\n",
              "       'TP_DEPENDENCIA_ADM_ESC', 'TP_LOCALIZACAO_ESC', 'TP_SIT_FUNC_ESC',\n",
              "       'CO_MUNICIPIO_PROVA', 'NO_MUNICIPIO_PROVA', 'CO_UF_PROVA',\n",
              "       'SG_UF_PROVA', 'TP_PRESENCA_CN', 'TP_PRESENCA_CH', 'TP_PRESENCA_LC',\n",
              "       'TP_PRESENCA_MT', 'CO_PROVA_CN', 'CO_PROVA_CH', 'CO_PROVA_LC',\n",
              "       'CO_PROVA_MT', 'NU_NOTA_CN', 'NU_NOTA_CH', 'NU_NOTA_LC', 'NU_NOTA_MT',\n",
              "       'TX_RESPOSTAS_CN', 'TX_RESPOSTAS_CH', 'TX_RESPOSTAS_LC',\n",
              "       'TX_RESPOSTAS_MT', 'TP_LINGUA', 'TX_GABARITO_CN', 'TX_GABARITO_CH',\n",
              "       'TX_GABARITO_LC', 'TX_GABARITO_MT', 'TP_STATUS_REDACAO',\n",
              "       'NU_NOTA_COMP1', 'NU_NOTA_COMP2', 'NU_NOTA_COMP3', 'NU_NOTA_COMP4',\n",
              "       'NU_NOTA_COMP5', 'NU_NOTA_REDACAO', 'Q001', 'Q002', 'Q003', 'Q004',\n",
              "       'Q005', 'Q006', 'Q007', 'Q008', 'Q009', 'Q010', 'Q011', 'Q012', 'Q013',\n",
              "       'Q014', 'Q015', 'Q016', 'Q017', 'Q018', 'Q019', 'Q020', 'Q021', 'Q022',\n",
              "       'Q023', 'Q024', 'Q025'],\n",
              "      dtype='object')"
            ]
          },
          "metadata": {},
          "execution_count": 24
        }
      ]
    },
    {
      "cell_type": "markdown",
      "source": [
        "Crie \"df1_SC\" para fazer a exclusão das colunas e use a função drop.\n",
        "\n",
        "Visualize apenas as colunas do novo DataSet sem as variáveis.\n",
        "\n",
        "Exemplo df.drop(columns = ['variável1','variável2']), caso fossem 2 variáveis excluídas."
      ],
      "metadata": {
        "id": "flhy2fVy6gXM"
      }
    },
    {
      "cell_type": "code",
      "source": [
        "df1_sc = df_SC.drop(columns = ['CO_UF_ESC','CO_MUNICIPIO_ESC','CO_MUNICIPIO_PROVA','CO_UF_PROVA'] )"
      ],
      "metadata": {
        "id": "lXdxoFaMXMJx"
      },
      "execution_count": 25,
      "outputs": []
    },
    {
      "cell_type": "markdown",
      "source": [
        "## 8) <font color='#005DAA'><b> Verifique o tipo de cada variável no novo dataset df1_sc"
      ],
      "metadata": {
        "id": "l9udhh7mb89u"
      }
    },
    {
      "cell_type": "markdown",
      "source": [
        "Conhecendo o Data Set. As notas das provas individuais pode variar de 0 a 1000. As provas são de:\n",
        "\n",
        "CN - Ciências Naturais\n",
        "\n",
        "CH - Ciências Humanas\n",
        "\n",
        "LC - Linguagens e Códigos\n",
        "\n",
        "MT - Matemática e\n",
        "\n",
        "REDACA0"
      ],
      "metadata": {
        "id": "Z-kATl2d9Mw1"
      }
    },
    {
      "cell_type": "code",
      "source": [
        "df1_sc.columns\n",
        "\n",
        "df1_sc.info()"
      ],
      "metadata": {
        "colab": {
          "base_uri": "https://localhost:8080/"
        },
        "id": "3cV6GqcrXmM3",
        "outputId": "563d752f-3ac5-483a-f52b-f5f2bd548c40"
      },
      "execution_count": 26,
      "outputs": [
        {
          "output_type": "stream",
          "name": "stdout",
          "text": [
            "<class 'pandas.core.frame.DataFrame'>\n",
            "Int64Index: 7571 entries, 0 to 7570\n",
            "Data columns (total 72 columns):\n",
            " #   Column                  Non-Null Count  Dtype  \n",
            "---  ------                  --------------  -----  \n",
            " 0   NU_INSCRICAO            7571 non-null   object \n",
            " 1   NU_ANO                  7571 non-null   int64  \n",
            " 2   TP_FAIXA_ETARIA         7571 non-null   int64  \n",
            " 3   TP_SEXO                 7571 non-null   object \n",
            " 4   TP_ESTADO_CIVIL         7571 non-null   int64  \n",
            " 5   TP_COR_RACA             7571 non-null   int64  \n",
            " 6   TP_NACIONALIDADE        7571 non-null   int64  \n",
            " 7   TP_ST_CONCLUSAO         7571 non-null   int64  \n",
            " 8   TP_ANO_CONCLUIU         7571 non-null   int64  \n",
            " 9   TP_ESCOLA               7571 non-null   int64  \n",
            " 10  TP_ENSINO               7478 non-null   float64\n",
            " 11  IN_TREINEIRO            7571 non-null   int64  \n",
            " 12  NO_MUNICIPIO_ESC        7571 non-null   object \n",
            " 13  SG_UF_ESC               7571 non-null   object \n",
            " 14  TP_DEPENDENCIA_ADM_ESC  7571 non-null   float64\n",
            " 15  TP_LOCALIZACAO_ESC      7571 non-null   float64\n",
            " 16  TP_SIT_FUNC_ESC         7571 non-null   float64\n",
            " 17  NO_MUNICIPIO_PROVA      7571 non-null   object \n",
            " 18  SG_UF_PROVA             7571 non-null   object \n",
            " 19  TP_PRESENCA_CN          7571 non-null   int64  \n",
            " 20  TP_PRESENCA_CH          7571 non-null   int64  \n",
            " 21  TP_PRESENCA_LC          7571 non-null   int64  \n",
            " 22  TP_PRESENCA_MT          7571 non-null   int64  \n",
            " 23  CO_PROVA_CN             5924 non-null   float64\n",
            " 24  CO_PROVA_CH             6268 non-null   float64\n",
            " 25  CO_PROVA_LC             6268 non-null   float64\n",
            " 26  CO_PROVA_MT             5924 non-null   float64\n",
            " 27  NU_NOTA_CN              5924 non-null   float64\n",
            " 28  NU_NOTA_CH              6268 non-null   float64\n",
            " 29  NU_NOTA_LC              6268 non-null   float64\n",
            " 30  NU_NOTA_MT              5924 non-null   float64\n",
            " 31  TX_RESPOSTAS_CN         5924 non-null   object \n",
            " 32  TX_RESPOSTAS_CH         6268 non-null   object \n",
            " 33  TX_RESPOSTAS_LC         6268 non-null   object \n",
            " 34  TX_RESPOSTAS_MT         5924 non-null   object \n",
            " 35  TP_LINGUA               7571 non-null   int64  \n",
            " 36  TX_GABARITO_CN          5924 non-null   object \n",
            " 37  TX_GABARITO_CH          6268 non-null   object \n",
            " 38  TX_GABARITO_LC          6268 non-null   object \n",
            " 39  TX_GABARITO_MT          5924 non-null   object \n",
            " 40  TP_STATUS_REDACAO       6268 non-null   float64\n",
            " 41  NU_NOTA_COMP1           6268 non-null   float64\n",
            " 42  NU_NOTA_COMP2           6268 non-null   float64\n",
            " 43  NU_NOTA_COMP3           6268 non-null   float64\n",
            " 44  NU_NOTA_COMP4           6268 non-null   float64\n",
            " 45  NU_NOTA_COMP5           6268 non-null   float64\n",
            " 46  NU_NOTA_REDACAO         6268 non-null   float64\n",
            " 47  Q001                    7571 non-null   object \n",
            " 48  Q002                    7571 non-null   object \n",
            " 49  Q003                    7571 non-null   object \n",
            " 50  Q004                    7571 non-null   object \n",
            " 51  Q005                    7571 non-null   int64  \n",
            " 52  Q006                    7571 non-null   object \n",
            " 53  Q007                    7571 non-null   object \n",
            " 54  Q008                    7571 non-null   object \n",
            " 55  Q009                    7571 non-null   object \n",
            " 56  Q010                    7571 non-null   object \n",
            " 57  Q011                    7571 non-null   object \n",
            " 58  Q012                    7571 non-null   object \n",
            " 59  Q013                    7571 non-null   object \n",
            " 60  Q014                    7571 non-null   object \n",
            " 61  Q015                    7571 non-null   object \n",
            " 62  Q016                    7571 non-null   object \n",
            " 63  Q017                    7571 non-null   object \n",
            " 64  Q018                    7571 non-null   object \n",
            " 65  Q019                    7571 non-null   object \n",
            " 66  Q020                    7571 non-null   object \n",
            " 67  Q021                    7571 non-null   object \n",
            " 68  Q022                    7571 non-null   object \n",
            " 69  Q023                    7571 non-null   object \n",
            " 70  Q024                    7571 non-null   object \n",
            " 71  Q025                    7571 non-null   object \n",
            "dtypes: float64(19), int64(15), object(38)\n",
            "memory usage: 4.2+ MB\n"
          ]
        }
      ]
    },
    {
      "cell_type": "markdown",
      "source": [
        "---"
      ],
      "metadata": {
        "id": "7C0CBLZDmcwy"
      }
    },
    {
      "cell_type": "markdown",
      "source": [
        "## 9) <font color='#005DAA'><b> Faça uma análise descritiva das notas de Matemática (NU_NOTA_MT)"
      ],
      "metadata": {
        "id": "TdPOZ2bn-URB"
      }
    },
    {
      "cell_type": "code",
      "source": [
        "df1_sc.NU_NOTA_MT.describe()"
      ],
      "metadata": {
        "colab": {
          "base_uri": "https://localhost:8080/"
        },
        "id": "pCDkrKkOZ4A5",
        "outputId": "8839b3cb-0bb9-4485-ae35-987de1d61d00"
      },
      "execution_count": 27,
      "outputs": [
        {
          "output_type": "execute_result",
          "data": {
            "text/plain": [
              "count    5924.000000\n",
              "mean      569.179018\n",
              "std       113.438796\n",
              "min         0.000000\n",
              "25%       482.875000\n",
              "50%       566.300000\n",
              "75%       644.600000\n",
              "max       971.300000\n",
              "Name: NU_NOTA_MT, dtype: float64"
            ]
          },
          "metadata": {},
          "execution_count": 27
        }
      ]
    },
    {
      "cell_type": "markdown",
      "source": [
        "cv = desvio padrão / média * 100 (%) -  cv < 30%  = os dados são homogeneos"
      ],
      "metadata": {
        "id": "Lqx08se-bGvS"
      }
    },
    {
      "cell_type": "code",
      "source": [
        "media_mt = df1_sc.NU_NOTA_MT.mean()\n",
        "media_mt"
      ],
      "metadata": {
        "colab": {
          "base_uri": "https://localhost:8080/"
        },
        "id": "IYmm7jy2bZp6",
        "outputId": "7e9ed84c-fa70-43e0-b013-85e05866ab12"
      },
      "execution_count": 28,
      "outputs": [
        {
          "output_type": "execute_result",
          "data": {
            "text/plain": [
              "569.1790175557056"
            ]
          },
          "metadata": {},
          "execution_count": 28
        }
      ]
    },
    {
      "cell_type": "code",
      "source": [
        "desvio_padrao_MT = df1_sc.NU_NOTA_MT.std()\n",
        "desvio_padrao_MT"
      ],
      "metadata": {
        "colab": {
          "base_uri": "https://localhost:8080/"
        },
        "id": "thZ2dCDGcP9Y",
        "outputId": "e6e44436-037e-4f00-b6a4-e46c3c1b934a"
      },
      "execution_count": 29,
      "outputs": [
        {
          "output_type": "execute_result",
          "data": {
            "text/plain": [
              "113.43879593155587"
            ]
          },
          "metadata": {},
          "execution_count": 29
        }
      ]
    },
    {
      "cell_type": "code",
      "source": [
        "cv_MT = (desvio_padrao_MT/media_mt)*100\n",
        "cv_MT"
      ],
      "metadata": {
        "colab": {
          "base_uri": "https://localhost:8080/"
        },
        "id": "Xmlc8xxBcfbS",
        "outputId": "56cdc835-00bb-4823-c9fb-9f813da6781b"
      },
      "execution_count": 30,
      "outputs": [
        {
          "output_type": "execute_result",
          "data": {
            "text/plain": [
              "19.930249083796138"
            ]
          },
          "metadata": {},
          "execution_count": 30
        }
      ]
    },
    {
      "cell_type": "markdown",
      "source": [
        "## 10) <font color='#005DAA'><b> Faça um gráfico adequado para a nota de matemática dos alunos de SC."
      ],
      "metadata": {
        "id": "4vdJ0shQAi02"
      }
    },
    {
      "cell_type": "code",
      "source": [
        "df1_sc.NU_NOTA_MT.hist(color ='#ADE3F8', bins=50, edgecolor='black')"
      ],
      "metadata": {
        "colab": {
          "base_uri": "https://localhost:8080/",
          "height": 447
        },
        "id": "rK-yP9eff9a7",
        "outputId": "a3381f19-35a8-47d1-9bfd-28e0c20fbbba"
      },
      "execution_count": 31,
      "outputs": [
        {
          "output_type": "execute_result",
          "data": {
            "text/plain": [
              "<Axes: >"
            ]
          },
          "metadata": {},
          "execution_count": 31
        },
        {
          "output_type": "display_data",
          "data": {
            "text/plain": [
              "<Figure size 640x480 with 1 Axes>"
            ],
            "image/png": "[encoded data removed]"
          },
          "metadata": {}
        }
      ]
    },
    {
      "cell_type": "markdown",
      "source": [
        "Reponda aqui quais gráficos poderia ser feitos."
      ],
      "metadata": {
        "id": "46InsGa3A1Q-"
      }
    },
    {
      "cell_type": "markdown",
      "source": [
        "Aqui estão alguns dos parâmetros mais comuns que você pode utilizar para **personalizar o seu histograma**. Não deixe de usá-los.\n",
        "\n",
        "bins: Especifica o número de bins (intervalos) a serem utilizados no histograma.\n",
        "\n",
        "range: Define o intervalo dos valores a serem considerados no histograma.\n",
        "\n",
        "density: Indica se o histograma deve ser normalizado para representar uma densidade de probabilidade.\n",
        "\n",
        "color: Define a cor das barras do histograma.\n",
        "\n",
        "edgecolor: Define a cor das bordas das barras do histograma.\n",
        "\n",
        "alpha: Define a transparência das barras do histograma.\n",
        "\n",
        "label: Adiciona um rótulo para a legenda do histograma.\n",
        "\n",
        "orientation: Define a orientação do histograma (horizontal ou vertical).\n",
        "\n",
        "histtype: Define o tipo de histograma a ser exibido (barra, passo, etc.)\n",
        "\n",
        "align: Controla o alinhamento das barras do histograma.\n",
        "\n",
        "Exemplo:\n",
        "\n",
        "plt.hist(valores, bins=10, color='blue', edgecolor='black')\n",
        "\n",
        "plt.xlabel('Valores')\n",
        "\n",
        "plt.ylabel('Frequência')\n",
        "\n",
        "plt.title('Histograma Personalizado')\n",
        "\n",
        "plt.show()"
      ],
      "metadata": {
        "id": "nV8ReEaRBpgC"
      }
    },
    {
      "cell_type": "code",
      "source": [
        "# Usando Matplotlib\n",
        "# Fazer um histograma personalizado com as cores do seu projeto\n",
        "\n",
        "plt.hist(df1_sc.NU_NOTA_MT, bins = 60, edgecolor='white', color = '#005DAA')\n",
        "plt.xlabel('Notas de Matemática')\n",
        "plt.ylabel('Frequência')\n",
        "plt.title('Notas de Matemática dos alunos de SC - 2022')\n",
        "plt.show()"
      ],
      "metadata": {
        "id": "57KOLKwsCJXg",
        "colab": {
          "base_uri": "https://localhost:8080/",
          "height": 472
        },
        "outputId": "35c0babd-678a-49df-f773-ca62dca825b6"
      },
      "execution_count": 32,
      "outputs": [
        {
          "output_type": "display_data",
          "data": {
            "text/plain": [
              "<Figure size 640x480 with 1 Axes>"
            ],
            "image/png": "[encoded data removed]"
          },
          "metadata": {}
        }
      ]
    },
    {
      "cell_type": "markdown",
      "source": [
        "Usando a Biblioteca Seaborn (histplot ou displot) para construção do Histograma podemos utilizar os parâmetros:\n",
        "\n",
        "kde: O parâmetro kde controla a exibição da curva de densidade de kernel (Kernel Density Estimation) sobre o histograma. Se kde=True, o gráfico mostrará a curva de densidade suavizada juntamente com o histograma. Se kde=False (padrão), apenas o histograma será exibido.\n",
        "\n",
        "\n",
        "stat:  O parâmetro é usadfo para normalizar o histograma de forma que a área total sob as barras seja igual a 1, representando uma distribuição de probabilidade ou uma fdp (função de densidade de probabilidade).\n",
        "\n",
        "Quando stat=\"probability\", o eixo y do gráfico será rotulado como densidade de probabilidade em vez de contagens. Isso permite comparar visualmente a distribuição das variáveis mesmo que tenham tamanhos de amostra diferentes. Similar ao parâmetro \"Density = True\" quando usamos o método hist no Matplotlib.\n",
        "\n",
        "Ex:\n",
        "\n",
        "sns.displot(df['variável'], bins=50, edgecolor='blue', color='red',kde = True, stat = \"probability\")\n",
        "\n",
        "plt.xlabel('Variável')\n",
        "plt.ylabel('Densidade de Probabilidade')\n"
      ],
      "metadata": {
        "id": "yJXLp8uUh1Ia"
      }
    },
    {
      "cell_type": "markdown",
      "metadata": {
        "id": "J0rG65OVD83B"
      },
      "source": [
        "Histograma usando **Plotly**\n",
        "\n",
        "EXEMPLO:\n",
        "\n",
        "import plotly.express as px\n",
        "\n",
        "\n",
        "grafico =  px.histogram (df,  x = \"variável\", nbins=50, histnorm='probability',)\n",
        "grafico.update_layout(width=600,height=500, title_font_color = '#005DAA', title={\n",
        "        'text': 'Título do Gráfico',\n",
        "        'x': 0.5,\n",
        "        'xanchor': 'center'\n",
        "    })\n",
        "grafico.update_xaxes(title_text=\"Label do eixo x\")\n",
        "grafico.update_traces(marker_color='#005DAA')  # Altera a cor do gráfico\n",
        "grafico.show()"
      ]
    },
    {
      "cell_type": "code",
      "source": [
        "import plotly.express as px\n",
        "grafico =  px.histogram (df1_sc,  x = 'NOTA_MT', nbins=60, histnorm='probability',)\n",
        "grafico.update_layout(width=600,height=500, title_font_color = '#005DAA', title={\n",
        "        'text': 'Notas Matemática - SC - ENEM 2022',\n",
        "        'x': 0.5,\n",
        "        'xanchor': 'center'\n",
        "    })\n",
        "grafico.update_xaxes(title_text=\"Notas de Matemática\")\n",
        "#grafico.update_traces(marker_color='#005DAA')\n",
        "grafico.show()"
      ],
      "metadata": {
        "colab": {
          "base_uri": "https://localhost:8080/",
          "height": 517
        },
        "id": "Z_6a2C9Iap43",
        "outputId": "db966aba-1dab-49f8-f3ce-2cd6d5b7c5c7"
      },
      "execution_count": 37,
      "outputs": [
        {
          "output_type": "display_data",
          "data": {
            "text/html": [
              "<html>\n",
              "<head><meta charset=\"utf-8\" /></head>\n",
              "<body>\n",
              "    <div>            <script src=\"https://cdnjs.cloudflare.com/ajax/libs/mathjax/2.7.5/MathJax.js?config=TeX-AMS-MML_SVG\"></script><script type=\"text/javascript\">if (window.MathJax && window.MathJax.Hub && window.MathJax.Hub.Config) {window.MathJax.Hub.Config({SVG: {font: \"STIX-Web\"}});}</script>                <script type=\"text/javascript\">window.PlotlyConfig = {MathJaxConfig: 'local'};</script>\n",
              "        <script src=\"https://cdn.plot.ly/plotly-2.18.2.min.js\"></script>                <div id=\"73ccdeac-9334-42d6-8827-6ddab7e9403e\" class=\"plotly-graph-div\" style=\"height:500px; width:600px;\"></div>            <script type=\"text/javascript\">                                    window.PLOTLYENV=window.PLOTLYENV || {};                                    if (document.getElementById(\"73ccdeac-9334-42d6-8827-6ddab7e9403e\")) {                    Plotly.newPlot(                        \"73ccdeac-9334-42d6-8827-6ddab7e9403e\",                        [{\"alignmentgroup\":\"True\",\"bingroup\":\"x\",\"histnorm\":\"probability\",\"hovertemplate\":\"NOTA_MT=%{x}<br>probability=%{y}<extra></extra>\",\"legendgroup\":\"\",\"marker\":{\"color\":\"#636efa\",\"pattern\":{\"shape\":\"\"}},\"name\":\"\",\"nbinsx\":60,\"offsetgroup\":\"\",\"orientation\":\"v\",\"showlegend\":false,\"x\":[472.4,510.2,582.3,548.6,629.8,569.4,745.0,460.5,491.6,598.5,505.2,464.5,null,418.4,555.0,null,392.1,478.9,611.7,586.7,477.0,546.1,null,412.3,536.0,688.5,null,716.0,null,682.6,625.2,493.9,417.1,371.1,539.0,382.5,442.3,601.8,629.4,488.2,429.5,564.4,747.1,514.4,396.5,533.0,null,null,null,641.9,null,517.4,null,580.8,null,null,842.4,579.1,693.7,650.2,null,611.3,477.3,427.7,404.9,640.1,613.2,546.0,585.1,450.4,541.2,382.5,382.7,592.3,null,405.8,643.3,644.1,776.2,552.6,475.3,453.8,433.2,517.8,471.9,658.9,406.9,752.7,492.1,null,407.5,805.1,425.7,581.1,641.4,405.5,711.8,631.5,643.9,752.0,550.3,608.3,504.9,493.0,null,575.7,728.0,586.0,null,547.1,474.8,590.8,613.0,581.3,627.1,489.5,359.0,484.2,null,null,null,704.4,528.8,null,null,501.1,515.1,469.7,656.4,null,470.6,662.9,550.3,455.1,669.4,483.9,529.5,616.5,478.5,547.7,587.6,699.2,412.1,664.1,528.6,784.2,null,460.4,578.5,560.4,451.1,535.5,null,null,null,648.4,null,639.4,523.2,564.9,499.3,486.6,439.4,588.6,797.0,642.1,546.8,797.0,609.2,null,594.3,512.7,494.0,432.9,null,null,585.8,581.5,606.5,465.8,762.3,584.3,767.0,589.4,404.7,566.8,488.8,588.0,516.9,588.9,475.2,644.1,null,566.8,689.7,null,710.3,484.2,465.1,421.3,null,590.5,400.4,786.2,644.3,711.2,null,444.5,null,400.4,null,674.5,null,495.8,552.0,null,431.3,null,455.5,558.9,null,766.0,509.6,499.0,null,461.0,535.6,629.5,582.4,608.7,481.5,535.3,661.7,539.0,418.5,436.6,null,458.3,819.9,494.2,588.2,459.9,null,622.8,655.4,661.8,424.0,602.2,768.1,670.3,502.6,null,497.8,null,474.0,345.7,null,469.5,386.3,420.9,522.9,null,489.8,null,468.8,742.3,765.8,396.9,518.4,639.1,764.4,579.1,701.9,664.4,678.9,611.6,480.5,675.7,615.1,null,613.2,null,734.5,436.1,null,640.7,617.8,520.5,458.1,610.5,null,461.4,860.8,582.6,456.4,672.1,456.4,596.6,394.0,743.2,752.2,720.7,599.5,723.3,422.8,701.5,477.5,359.1,616.2,null,512.7,null,null,695.1,647.5,359.3,null,690.3,442.5,null,656.0,657.6,570.8,404.8,586.6,707.7,null,706.9,536.4,494.7,401.8,635.4,null,525.0,733.8,null,null,399.3,639.1,420.3,466.0,384.2,625.8,469.2,null,441.9,700.6,null,446.8,749.0,730.5,530.7,667.0,441.4,597.8,433.2,624.6,571.6,null,714.1,673.6,null,510.5,559.3,491.6,381.5,693.5,669.7,753.9,405.3,572.4,651.6,617.6,648.8,480.9,null,494.9,445.1,547.1,441.1,null,666.0,513.3,856.9,581.4,599.4,591.3,614.1,494.2,591.6,545.8,null,661.9,587.0,623.7,524.8,435.0,null,null,678.7,611.6,592.2,null,null,759.2,488.9,743.6,625.1,368.6,638.5,842.0,545.5,495.0,443.3,412.9,543.3,432.9,null,609.1,679.2,704.8,620.3,458.2,560.5,475.7,569.1,731.5,433.2,548.1,601.5,511.7,618.2,698.9,681.6,609.7,726.0,448.1,375.1,593.4,505.4,681.2,null,631.0,null,null,765.8,766.6,null,419.2,580.5,null,373.0,null,581.4,null,596.4,null,698.4,425.5,752.3,507.1,760.7,575.3,710.2,null,418.9,385.3,568.4,407.3,509.6,null,606.2,null,648.8,null,446.5,568.9,503.6,375.7,502.5,605.1,null,421.2,597.4,579.9,714.6,null,588.3,null,508.7,529.6,458.1,505.8,511.1,null,null,753.6,857.5,792.2,561.9,647.0,358.6,465.6,552.1,749.6,678.3,813.9,635.0,533.5,482.5,803.1,468.2,477.9,456.7,null,567.8,null,638.1,485.3,427.8,550.0,null,478.1,426.2,392.2,831.0,524.1,null,568.5,null,469.4,564.9,null,null,643.6,411.2,376.8,null,492.5,617.0,null,682.1,null,430.2,595.8,680.4,507.9,null,558.1,525.0,352.3,562.3,567.8,601.2,497.4,568.2,null,402.0,498.6,640.4,null,559.7,null,373.9,null,null,null,589.0,450.9,432.1,556.0,573.3,534.3,647.5,null,null,610.6,642.7,762.8,664.0,917.1,545.5,657.1,528.2,462.2,636.1,465.8,null,414.7,543.9,544.7,465.7,null,624.2,518.5,662.1,354.0,425.1,388.5,553.7,372.4,720.9,null,561.0,566.8,null,636.5,395.3,609.3,null,null,424.6,null,495.3,436.6,738.3,640.3,543.1,476.0,835.0,675.7,589.0,595.4,575.3,611.3,575.2,434.9,676.4,575.6,626.9,null,null,691.0,610.3,639.5,null,508.6,458.0,657.4,643.0,669.1,544.8,517.2,574.9,547.7,null,692.5,499.4,609.2,475.9,536.0,null,null,597.3,580.0,668.9,null,592.0,762.3,545.2,439.3,601.8,561.4,666.3,592.2,491.9,491.9,639.0,477.1,568.3,779.3,null,525.8,null,648.4,560.8,624.5,380.9,494.4,488.7,651.7,523.5,649.5,505.8,648.7,479.3,516.9,613.0,420.9,661.0,null,454.3,null,null,494.9,459.1,544.7,865.9,599.8,693.9,null,648.2,515.5,null,677.5,504.2,511.9,null,680.3,374.0,545.7,null,546.0,685.8,null,null,680.7,427.9,635.9,520.3,556.4,571.4,446.3,499.0,562.7,659.8,484.1,417.5,404.1,375.6,417.3,550.9,476.6,558.0,503.4,457.8,387.0,655.8,null,509.7,565.0,376.4,530.6,null,658.2,430.0,651.6,683.7,null,null,489.9,null,551.4,null,513.1,450.5,565.1,null,null,469.5,651.4,490.8,null,574.0,502.3,728.8,512.7,737.4,null,389.4,612.2,null,536.7,820.2,504.2,418.5,681.1,648.8,518.3,452.7,null,null,524.6,401.7,766.9,null,675.5,457.6,492.6,601.7,581.7,603.4,529.8,723.1,440.1,678.6,831.9,630.3,null,593.8,546.3,null,612.3,602.7,null,618.1,394.5,null,664.3,472.3,682.5,390.2,370.8,484.3,429.1,null,499.2,414.7,648.5,701.0,496.0,501.0,499.7,530.0,565.9,699.1,448.4,433.1,729.0,562.8,null,645.6,656.9,630.0,585.8,610.3,542.1,813.7,692.0,null,null,504.0,null,null,629.0,641.0,531.0,516.8,null,602.5,371.6,614.7,613.0,558.1,597.7,387.6,null,518.5,513.6,null,623.8,656.3,406.4,null,521.9,427.5,640.8,628.1,null,null,679.4,662.1,382.3,594.4,472.7,634.4,492.2,447.6,518.0,554.7,535.2,759.7,null,null,null,538.5,639.0,692.6,540.0,444.3,551.7,null,null,459.0,644.4,null,358.1,654.8,405.7,612.8,537.3,null,null,543.3,586.1,null,null,379.1,null,574.1,null,null,676.8,682.5,null,null,478.5,533.2,568.2,822.2,508.2,580.6,null,null,601.8,594.7,572.3,642.0,600.5,null,489.8,628.4,616.5,371.1,null,477.0,612.2,449.4,605.9,438.7,442.0,522.2,658.2,null,531.3,null,null,455.3,774.7,591.2,637.5,615.8,549.7,513.9,null,510.7,null,627.1,null,356.7,473.7,531.5,507.7,522.6,634.6,null,669.4,583.2,355.7,null,585.9,520.8,468.1,672.6,null,null,413.5,430.7,665.3,null,null,708.6,582.5,776.6,null,477.4,null,639.1,null,428.7,630.0,577.1,505.9,584.0,588.3,591.3,620.2,607.5,585.9,702.1,708.5,524.6,553.4,533.9,438.8,554.6,627.0,640.4,605.3,532.2,null,610.3,426.5,372.8,492.8,458.5,null,734.5,635.5,470.4,667.6,409.2,380.6,607.5,651.8,635.0,510.7,609.1,null,751.3,null,700.2,null,null,572.2,null,496.8,622.4,697.2,605.9,null,null,null,null,604.1,707.7,706.8,575.4,383.1,614.3,719.8,482.3,453.2,522.1,590.5,641.8,616.0,509.2,729.8,462.9,391.0,null,null,344.8,null,807.2,null,700.4,null,566.4,630.7,681.4,457.8,609.7,379.0,577.5,682.9,362.2,588.6,832.8,530.9,596.8,514.8,627.4,386.9,534.9,null,660.3,601.1,574.5,748.3,416.6,561.9,614.0,381.1,698.2,601.9,578.6,626.7,623.5,626.1,561.6,698.3,613.4,582.3,783.3,407.9,559.7,618.7,466.5,606.4,519.1,489.1,581.8,null,586.8,592.6,596.1,null,714.6,640.9,null,432.2,721.4,null,581.7,442.4,409.8,588.0,733.4,null,614.1,null,448.7,463.8,null,740.2,592.4,431.3,415.4,476.3,540.2,null,666.9,507.4,610.9,493.8,653.6,644.4,564.9,629.1,527.5,629.3,null,621.5,530.9,731.3,null,366.8,566.3,563.7,642.5,644.3,606.3,635.2,null,null,null,508.3,342.9,559.4,596.0,null,494.4,512.3,648.8,385.7,669.2,517.2,481.6,null,null,424.8,591.1,650.0,593.4,504.6,634.1,642.1,445.2,747.0,487.3,null,399.0,663.8,519.2,552.3,null,null,null,378.4,476.0,616.8,null,454.8,666.9,552.2,619.9,437.6,510.8,673.1,null,572.8,738.5,419.0,363.8,687.8,608.6,null,null,550.5,525.7,null,563.9,768.8,375.5,549.7,822.1,569.8,null,459.3,638.9,645.4,null,null,496.2,453.9,null,674.7,575.9,465.8,null,520.1,446.0,801.2,404.1,524.8,488.9,null,645.2,null,722.1,395.4,578.6,null,619.0,560.3,449.1,null,502.2,566.0,636.8,null,449.9,383.1,532.3,675.1,519.6,null,null,799.4,441.5,453.6,488.3,597.2,453.1,null,549.5,814.8,670.9,594.7,null,null,421.6,510.2,519.1,null,443.3,498.3,null,605.9,null,578.7,626.7,646.0,454.5,681.1,548.5,486.1,776.2,570.8,545.1,618.1,679.2,null,486.8,null,552.8,468.0,825.3,503.9,761.2,524.0,511.0,575.2,431.3,426.6,411.6,444.6,null,null,700.1,null,null,705.6,761.4,547.9,635.5,604.7,485.7,518.3,599.5,939.5,513.7,613.5,581.3,433.7,502.8,637.9,645.7,null,408.1,597.9,448.4,474.2,486.7,411.5,471.5,725.8,534.0,427.5,691.2,499.5,567.5,670.9,867.7,383.9,741.6,null,629.4,616.7,542.4,545.0,579.0,629.3,629.3,347.9,639.9,615.0,null,null,469.1,608.4,406.1,null,null,643.5,595.1,477.0,665.8,476.1,670.3,647.1,506.7,566.4,506.2,650.7,null,455.6,null,363.7,null,512.2,535.1,618.4,454.8,591.8,544.6,725.3,460.0,539.6,606.3,654.5,710.1,427.7,367.1,615.3,459.2,694.5,376.5,534.8,null,559.7,601.8,552.5,725.0,490.1,430.2,502.1,598.1,553.4,746.4,null,566.1,576.3,744.6,null,406.2,525.3,604.2,413.2,577.5,null,774.2,444.4,719.7,703.2,785.1,null,545.0,543.5,410.9,554.5,null,null,630.5,419.0,461.8,614.4,715.7,552.2,566.6,627.9,463.0,null,485.6,612.4,820.3,943.6,423.7,592.7,470.2,455.1,null,723.3,567.6,416.6,480.9,588.8,559.8,661.7,647.3,434.9,420.1,749.1,571.0,548.0,459.3,580.9,431.0,601.6,null,401.8,528.8,700.4,600.6,474.0,null,662.8,492.4,null,679.7,441.7,658.7,null,519.7,null,608.1,584.1,408.4,null,604.2,581.6,645.3,539.5,600.7,579.2,null,456.0,618.4,null,563.0,633.5,593.2,702.3,599.5,432.0,487.1,779.9,588.4,720.0,475.4,491.6,604.2,null,697.2,401.4,null,562.1,575.0,380.6,530.9,450.5,null,408.1,null,420.8,407.3,null,607.3,null,760.9,625.4,453.3,null,436.0,486.2,510.0,633.7,524.3,462.8,null,421.7,null,null,545.7,null,null,460.3,892.9,792.9,448.4,null,657.1,414.9,544.7,null,null,null,528.7,549.3,613.0,642.1,691.5,507.2,585.5,null,null,629.1,null,536.3,619.2,700.6,711.0,564.3,545.6,586.2,536.9,767.3,580.6,482.4,442.3,583.5,633.9,null,null,396.8,747.6,390.4,525.0,491.6,null,665.9,443.7,534.1,565.9,688.9,582.7,663.6,670.4,570.7,null,null,505.4,387.8,587.5,450.0,null,702.1,525.4,408.3,430.3,null,464.7,673.4,null,null,null,null,510.4,null,696.0,440.7,646.7,null,618.0,543.3,480.2,null,678.5,null,null,738.2,639.5,602.1,null,504.8,638.0,652.4,null,486.9,731.4,587.3,419.4,393.0,null,null,null,558.3,null,542.3,522.6,410.3,605.0,519.8,625.4,411.6,453.6,522.9,762.4,470.1,559.5,387.5,458.2,633.5,475.5,571.7,null,432.6,null,508.1,496.2,500.0,507.6,688.4,422.1,497.8,708.3,null,388.3,null,722.6,634.2,651.1,544.4,630.5,381.8,707.9,389.0,672.5,525.7,638.4,452.3,550.9,null,652.5,600.2,567.1,420.2,647.5,410.0,519.7,null,414.1,657.7,501.6,null,618.9,577.1,null,557.2,619.9,null,554.5,424.6,null,561.8,403.7,431.6,null,443.4,686.5,466.2,588.2,532.0,482.1,null,692.9,657.7,410.1,null,483.9,529.7,604.4,null,394.2,null,585.6,559.4,null,null,573.2,571.5,479.1,491.3,null,449.5,451.4,null,null,643.8,null,391.0,574.6,384.2,506.3,null,null,643.9,487.0,502.2,406.3,null,469.1,632.6,438.0,466.4,476.9,738.1,null,387.7,null,544.7,null,618.6,null,515.3,543.8,null,548.9,463.0,474.6,418.7,827.7,513.4,null,null,null,499.4,429.2,645.4,505.2,377.7,479.4,645.4,null,608.2,542.5,564.9,615.6,602.9,null,560.4,459.6,null,null,717.1,588.6,562.3,null,null,552.2,null,466.8,396.0,628.1,null,453.5,null,null,493.3,481.9,418.4,588.3,605.3,531.6,null,582.2,null,null,611.2,476.1,624.4,587.7,515.5,612.6,542.9,373.8,null,354.7,717.9,449.2,529.7,null,564.1,434.0,546.3,null,355.9,524.8,643.8,486.5,620.9,519.9,673.3,571.0,561.5,569.5,null,null,493.1,507.4,489.2,548.1,727.3,549.5,676.4,781.1,null,594.7,472.0,null,448.4,null,818.3,384.9,559.5,522.0,562.1,null,null,477.1,null,null,803.1,487.2,437.2,615.1,null,566.6,683.4,504.1,603.0,null,571.5,396.3,null,503.0,null,593.4,null,413.8,526.5,410.6,625.4,605.6,375.8,null,null,780.4,734.1,638.7,405.0,524.8,548.0,791.4,null,535.9,515.6,459.9,701.1,539.3,506.8,null,null,608.7,null,535.4,552.7,522.5,575.9,374.4,649.7,445.7,null,492.7,495.4,null,422.8,581.2,390.4,356.2,527.7,null,441.9,550.0,422.9,630.1,null,585.5,null,625.6,358.0,null,611.8,null,624.7,547.0,794.9,619.1,null,442.1,530.6,478.5,607.4,590.4,null,805.0,549.5,516.7,null,713.0,579.2,485.7,676.7,381.0,637.6,null,796.5,587.2,521.7,449.4,433.4,475.6,null,579.1,666.4,null,null,null,699.5,638.8,777.3,389.5,506.8,698.3,527.3,648.9,null,null,646.4,676.5,null,560.3,458.3,410.5,602.1,null,null,513.3,null,452.7,null,null,702.8,null,605.1,705.3,540.6,541.0,467.8,423.6,411.7,null,611.3,406.1,641.2,519.5,384.7,586.2,513.3,null,752.8,558.5,604.9,414.4,509.6,501.4,468.2,490.8,436.0,null,589.3,463.5,481.7,669.3,661.0,null,637.5,null,null,599.9,530.7,604.7,594.2,439.7,505.2,723.1,597.5,null,null,620.9,608.5,475.2,null,745.9,null,435.4,501.8,595.3,477.9,533.8,618.3,469.5,744.1,538.8,558.8,null,426.7,532.3,410.2,473.2,746.2,379.8,null,null,567.8,555.7,723.0,532.1,null,372.2,511.6,780.7,null,483.1,590.4,null,null,382.2,null,633.5,453.7,null,471.4,789.9,434.3,685.9,584.0,644.9,null,712.9,649.6,null,null,null,null,678.6,678.7,519.9,431.0,586.6,634.3,619.6,484.7,537.0,538.2,615.0,659.7,null,612.5,523.5,573.1,null,402.8,628.6,378.7,520.6,498.9,596.5,492.7,589.9,516.1,515.1,409.2,null,603.1,554.8,null,639.1,592.0,425.3,null,412.2,null,706.1,null,479.5,482.1,575.5,371.0,535.4,null,null,494.3,543.2,409.8,null,396.7,563.9,599.4,469.2,678.3,447.7,629.5,623.5,603.4,372.3,529.1,445.6,null,577.5,null,462.2,616.6,null,626.9,486.4,554.6,441.3,547.9,427.4,539.6,381.8,498.3,717.3,528.2,577.3,563.1,null,635.3,null,null,620.9,419.3,478.0,687.5,418.5,null,503.8,null,488.4,null,502.6,592.1,null,null,566.3,394.5,414.1,462.8,609.7,null,392.5,499.0,null,590.7,null,706.2,635.1,612.6,591.3,356.1,498.1,578.1,464.1,568.0,null,null,586.8,725.1,640.0,579.4,409.0,622.4,null,523.3,432.6,546.0,496.3,482.8,494.9,735.2,null,652.4,789.5,514.2,583.9,604.6,417.4,566.0,624.5,595.2,364.8,575.2,null,433.7,763.9,460.4,401.4,null,null,null,664.4,750.2,651.8,842.2,null,566.0,380.0,485.4,null,530.9,657.3,427.0,869.9,694.0,416.5,528.0,null,458.8,461.1,null,414.4,null,367.9,455.8,672.6,null,618.2,null,715.2,460.0,696.2,651.1,430.8,619.6,698.2,null,471.4,420.2,418.9,632.6,498.3,630.4,440.6,512.8,null,389.8,558.7,427.5,494.9,null,757.1,411.2,509.7,627.7,575.5,460.2,668.1,null,526.4,436.0,499.1,null,null,458.2,676.9,772.2,670.6,561.6,null,637.6,null,614.3,null,null,715.2,415.1,null,699.7,761.5,null,null,677.9,527.2,594.6,531.2,null,589.1,716.0,null,557.8,null,530.2,572.9,482.3,557.8,593.8,624.0,null,549.6,763.5,458.6,585.1,389.1,580.9,null,406.1,637.1,665.2,512.9,651.1,681.7,null,627.4,440.7,446.1,550.2,595.0,471.7,null,523.7,661.3,531.5,552.3,null,480.9,381.2,622.7,422.9,531.9,577.9,415.7,610.5,603.3,405.7,697.0,445.1,520.8,571.1,448.1,573.5,361.2,548.7,590.2,645.1,null,532.7,532.2,478.8,null,646.6,485.9,null,757.4,892.1,382.4,741.1,620.3,506.6,null,676.2,552.6,632.4,579.2,659.2,405.6,483.4,728.3,357.0,490.3,null,null,null,null,675.6,null,412.0,446.1,692.1,543.5,605.0,664.3,569.7,682.8,534.7,null,null,null,574.4,661.7,781.6,720.7,351.5,null,418.5,486.5,513.3,551.6,555.5,829.9,560.3,373.5,581.1,null,804.2,619.1,536.0,418.6,523.8,564.3,373.4,493.2,null,475.0,586.8,722.3,879.3,602.7,410.4,537.7,392.6,558.8,null,null,439.5,421.4,611.9,665.8,564.5,748.3,622.4,454.8,728.9,527.3,651.9,793.3,551.7,375.4,816.7,811.4,731.2,543.8,487.2,651.4,444.5,576.4,378.0,392.2,497.0,702.9,444.5,553.0,null,478.7,707.8,519.1,470.0,null,null,633.0,511.2,540.8,553.4,668.6,null,null,850.4,406.3,444.5,524.9,619.9,557.2,534.1,421.3,483.4,576.2,498.3,647.0,null,556.1,720.8,null,503.3,null,622.7,554.4,503.9,570.0,658.6,517.5,429.3,429.6,454.9,514.6,513.7,533.7,598.0,null,null,748.4,702.1,540.2,463.4,648.0,null,447.2,null,480.2,577.4,null,389.3,589.4,474.5,null,539.7,558.6,511.6,null,640.5,null,554.9,446.1,684.7,521.1,457.2,null,573.3,609.3,423.9,500.1,null,null,653.1,625.5,572.0,548.5,400.7,622.1,null,null,456.0,575.3,483.1,611.2,535.8,null,543.9,657.5,null,396.2,373.7,518.4,494.8,null,651.8,null,785.8,null,437.6,734.6,456.3,null,661.4,443.3,null,553.0,null,null,null,null,null,688.4,599.0,861.0,543.7,453.1,461.0,518.4,null,null,null,null,654.6,575.0,null,467.6,448.5,433.6,null,501.3,503.3,615.0,null,544.0,510.3,508.9,477.3,null,655.0,null,743.4,503.7,614.0,519.9,699.8,740.7,504.3,null,518.3,520.2,780.3,464.5,704.3,null,543.7,712.7,648.3,null,387.8,616.7,523.0,null,null,634.7,409.1,null,660.1,396.2,506.7,681.3,502.7,613.5,656.3,null,651.7,483.8,724.2,646.2,471.2,564.8,null,488.3,null,690.1,378.6,728.2,522.8,437.8,378.8,582.1,599.7,370.4,480.1,null,864.4,null,786.2,542.4,null,708.8,null,null,405.3,null,null,477.3,654.3,569.8,668.6,null,499.2,680.9,null,544.7,null,498.7,null,569.0,442.1,597.3,652.1,438.3,815.9,543.8,595.9,null,532.6,null,null,442.6,null,null,null,622.2,514.8,434.0,466.3,381.2,null,623.1,null,510.3,null,614.7,null,517.9,576.5,351.0,630.1,null,452.1,null,526.8,null,675.7,435.3,703.6,null,636.1,648.4,null,null,476.6,618.2,704.2,463.0,519.1,739.3,578.6,631.1,null,477.4,null,574.3,null,574.2,611.0,769.5,433.4,565.0,null,null,625.2,642.7,533.7,null,631.3,441.7,636.2,440.0,459.1,null,null,null,null,390.1,365.7,null,404.0,null,487.4,590.4,416.1,753.2,604.8,464.5,443.7,615.9,null,692.7,360.7,null,525.4,536.9,null,594.2,617.7,null,null,593.3,538.8,631.2,826.1,567.1,835.2,637.8,473.1,572.3,null,455.2,496.4,729.8,691.4,null,755.4,713.5,644.4,522.6,null,569.4,534.6,483.4,364.7,673.9,493.1,421.9,457.1,631.2,636.5,null,662.7,549.4,null,563.9,552.3,524.6,null,null,490.8,565.4,null,486.2,null,379.0,516.7,662.2,731.5,495.3,364.2,705.2,null,358.1,594.1,625.4,672.8,672.6,707.6,null,503.7,null,442.3,null,593.8,null,704.8,null,null,614.7,null,473.7,391.0,null,556.0,548.0,null,654.8,585.8,600.2,691.4,null,603.5,575.5,534.6,465.1,616.9,597.8,571.5,686.8,null,844.4,566.6,null,null,529.5,635.5,635.3,806.8,766.7,598.0,457.9,765.2,430.0,null,652.1,568.3,747.0,null,527.7,687.5,530.5,null,390.2,395.1,604.1,414.3,null,659.9,753.4,663.5,615.8,null,null,554.4,655.5,525.6,588.0,487.1,605.8,532.9,null,448.1,null,null,null,651.4,639.9,null,null,null,null,null,null,430.3,388.5,761.3,null,null,742.9,437.3,688.4,null,498.8,446.3,654.8,534.6,610.7,800.7,619.3,490.5,615.7,722.7,527.0,640.9,602.7,352.5,454.5,717.0,877.5,393.6,383.3,409.1,434.7,null,525.6,364.9,466.3,643.4,604.1,null,null,480.5,512.1,484.7,500.5,647.9,null,682.7,null,730.4,486.1,578.0,534.7,625.0,371.3,681.6,586.7,866.2,445.7,460.0,null,569.7,627.8,758.3,710.6,458.3,476.3,528.2,696.4,null,449.5,712.4,750.3,790.2,559.9,414.2,849.8,442.2,null,null,null,399.3,860.0,471.6,null,721.5,498.0,401.8,null,732.6,null,null,null,572.2,445.9,514.2,528.1,392.1,null,null,785.8,424.0,null,561.6,630.0,538.6,448.2,532.4,null,null,null,392.0,472.0,486.5,685.6,null,null,417.5,null,462.5,null,443.6,536.1,null,null,533.6,424.3,null,null,491.8,654.8,null,433.9,729.9,426.4,564.7,null,658.3,648.0,505.2,551.8,null,583.2,643.6,485.5,542.4,null,null,603.8,487.7,718.8,817.6,666.8,613.8,459.9,null,null,727.3,813.8,673.9,523.8,412.3,583.6,669.0,419.7,364.1,498.4,586.7,null,683.3,779.4,null,null,566.0,490.1,698.3,521.3,null,523.1,null,591.2,672.0,682.8,526.9,462.1,null,null,487.0,670.1,null,826.8,508.8,null,null,443.6,459.0,null,null,null,635.9,439.5,621.4,null,663.9,null,633.1,536.1,null,451.1,560.3,null,null,402.1,359.9,373.7,686.9,357.3,460.1,null,null,null,890.8,366.7,655.1,null,673.0,502.5,668.0,484.7,400.4,null,374.0,659.7,null,505.5,750.9,510.3,858.2,686.4,578.7,502.8,560.8,471.3,593.4,600.9,569.5,null,420.0,null,614.0,656.2,537.7,492.4,null,762.1,null,null,760.4,null,545.7,746.4,368.9,643.5,577.5,402.4,570.0,644.3,418.3,591.6,891.3,559.2,682.2,606.5,728.0,621.5,395.9,577.8,664.6,684.4,635.6,649.1,485.4,459.0,690.4,null,625.4,603.9,610.1,null,525.0,514.6,null,538.4,544.9,621.5,699.4,719.3,457.5,420.1,408.8,601.2,null,658.2,null,565.3,476.6,548.6,971.3,573.1,null,702.2,null,521.3,457.9,627.3,null,null,495.1,null,null,446.2,408.4,666.3,605.6,569.2,510.4,436.3,null,647.3,628.4,null,784.6,379.1,667.6,460.3,482.9,850.0,651.0,536.2,null,518.9,437.3,433.9,503.0,782.1,439.7,null,639.5,401.9,740.4,525.7,401.0,null,null,null,466.5,584.7,682.7,null,449.9,580.2,null,null,485.5,488.8,460.5,526.2,699.4,804.0,489.1,481.0,null,null,703.9,null,717.4,623.1,null,376.3,702.0,703.5,395.6,496.8,null,689.2,598.8,499.0,null,524.0,417.3,null,682.7,597.2,null,392.4,442.0,552.0,659.0,666.2,649.6,632.7,859.2,495.4,457.8,682.3,644.0,468.5,null,653.2,null,577.9,750.6,553.0,null,652.7,432.4,472.6,706.6,399.0,713.6,486.9,391.6,null,615.3,544.4,550.8,521.6,null,379.3,593.3,500.0,527.4,758.7,547.8,591.3,602.2,641.5,772.5,627.2,464.2,null,null,520.7,null,609.8,358.6,null,672.0,626.1,null,null,566.1,null,null,395.1,545.0,590.1,552.7,692.1,null,null,657.2,null,613.7,554.3,470.5,662.2,732.1,702.3,595.3,564.5,543.9,578.2,452.1,562.5,690.4,860.4,594.5,526.8,870.5,605.4,632.6,614.4,897.9,610.6,654.9,null,584.9,448.8,592.8,490.7,585.3,583.9,497.6,536.9,679.2,647.2,688.5,586.9,597.1,652.2,742.7,655.2,670.6,574.7,null,426.9,null,519.6,553.6,795.3,560.9,null,529.0,487.7,null,497.9,632.6,601.4,629.2,681.6,756.9,459.2,690.3,null,716.4,583.1,null,618.2,null,598.9,710.7,690.7,null,399.2,684.7,598.4,658.8,792.8,769.0,722.0,599.0,null,742.5,604.7,null,null,638.8,653.8,706.2,698.7,476.1,650.1,546.8,495.1,636.5,509.6,450.8,842.7,684.2,623.3,760.9,null,498.7,443.4,644.1,null,null,null,552.7,null,null,666.6,651.3,526.6,520.9,null,578.7,734.1,null,736.9,null,636.9,410.3,775.1,524.7,681.5,438.8,null,460.4,null,480.6,431.7,null,418.0,629.1,579.9,641.4,651.3,709.3,815.2,540.9,525.0,456.0,595.5,477.4,754.5,702.4,549.6,665.7,414.1,666.3,620.6,null,405.9,514.6,499.2,602.0,540.8,548.2,573.0,495.8,null,565.7,616.5,700.1,585.2,592.2,497.8,null,null,null,587.0,631.9,451.1,612.1,null,635.3,579.4,null,513.9,null,587.4,604.5,522.2,679.0,587.4,500.0,915.8,457.6,431.4,693.5,679.0,838.8,633.7,616.9,622.8,529.2,null,790.9,null,621.2,477.8,null,538.9,387.6,null,null,803.2,553.9,687.3,614.3,542.0,451.7,618.9,682.8,656.3,null,593.2,null,610.8,779.3,565.3,null,602.0,549.2,null,651.1,null,443.9,611.3,559.2,441.7,641.5,685.8,635.8,null,416.2,null,564.7,null,483.8,739.7,null,null,635.8,null,548.0,null,null,null,634.4,684.8,601.7,542.3,578.7,590.1,540.7,766.9,644.2,494.7,null,505.7,null,487.9,426.6,579.5,572.4,536.0,431.4,652.4,444.2,780.6,536.9,485.8,733.8,756.7,584.2,578.9,815.5,584.8,440.7,638.5,498.8,481.0,null,null,572.4,445.6,636.2,609.7,358.8,850.4,670.9,672.3,null,614.8,650.5,null,440.8,null,486.7,null,null,501.5,475.8,458.3,504.3,720.8,486.2,null,705.1,530.7,429.0,533.4,null,438.2,718.5,506.6,null,718.8,355.9,439.2,611.5,null,532.9,640.8,null,679.2,634.4,637.0,581.3,821.2,null,630.0,571.4,582.7,639.5,407.3,524.5,621.9,null,793.0,582.7,410.5,604.0,757.4,639.1,679.2,492.5,null,null,null,496.2,null,635.6,null,null,442.9,430.6,378.2,769.6,null,885.8,415.6,475.3,590.8,460.9,606.9,null,496.3,441.2,538.0,767.1,438.4,695.3,582.1,476.5,560.6,611.4,null,415.6,557.4,531.2,null,665.1,null,820.8,528.9,438.5,642.8,367.5,395.9,null,462.5,null,376.5,667.5,461.9,586.5,null,null,null,595.4,401.0,484.7,432.1,526.6,845.6,847.5,733.8,null,706.4,691.1,480.4,392.4,537.1,462.1,382.8,756.7,496.3,480.2,766.2,429.0,539.2,744.3,649.7,620.4,472.3,492.7,408.3,610.9,785.8,475.8,null,null,633.1,488.5,458.8,699.0,757.2,400.1,537.7,450.2,683.1,422.2,570.1,472.9,668.8,653.8,410.5,null,697.4,524.8,458.7,712.9,485.9,392.5,476.0,649.8,455.7,636.9,425.5,521.7,663.7,null,510.4,544.7,565.5,559.0,589.9,null,519.6,501.5,490.9,519.8,574.0,454.5,440.5,null,758.0,645.9,529.8,864.1,594.7,695.8,496.2,null,462.9,443.0,710.1,null,536.8,518.3,519.5,484.3,669.9,412.2,null,700.7,517.0,null,517.3,590.0,464.4,null,null,709.6,487.5,477.0,695.4,null,758.6,null,742.1,567.2,641.1,696.5,630.3,495.1,565.4,394.2,629.4,null,695.7,411.8,526.2,529.2,null,415.2,375.1,805.5,603.5,646.7,null,null,607.3,null,380.4,572.2,null,449.9,608.6,534.0,629.2,null,395.4,632.0,null,843.4,499.3,null,670.2,596.1,547.9,364.7,557.7,664.4,null,504.1,623.4,457.5,686.0,721.5,714.0,512.6,null,608.3,401.1,null,686.3,498.8,683.2,471.9,563.2,605.4,490.1,459.8,null,524.3,620.6,665.4,573.5,646.3,null,502.6,804.4,622.7,678.3,null,642.5,455.0,636.3,516.6,null,524.7,null,null,null,null,436.8,539.9,401.3,null,400.9,516.6,519.8,501.6,606.3,750.0,834.9,787.2,null,638.9,638.4,429.5,833.1,408.0,623.1,null,693.2,680.8,null,528.1,472.5,512.3,480.1,459.4,572.7,524.3,null,630.9,561.4,561.2,null,471.7,null,709.1,643.3,622.3,758.1,666.3,516.3,540.0,null,597.7,412.3,613.1,null,596.6,607.8,null,757.4,534.5,663.9,521.6,418.0,509.7,null,477.1,482.3,699.1,751.9,512.3,646.7,663.6,692.9,479.6,665.6,null,529.7,387.2,null,398.8,438.1,489.0,402.4,626.6,601.7,575.4,588.5,474.9,728.3,618.4,750.0,null,null,663.4,427.4,null,675.3,491.9,613.1,null,646.5,null,479.0,null,411.7,761.9,586.9,555.4,450.7,597.0,463.5,810.0,479.3,358.4,661.2,379.2,null,688.2,590.7,null,651.2,707.0,463.4,386.0,528.4,586.7,null,407.0,541.3,null,440.0,366.1,null,634.6,null,523.1,740.5,null,663.5,846.2,486.1,446.5,516.5,726.8,461.8,517.1,393.5,567.1,593.9,null,637.0,492.0,654.3,636.5,511.1,595.6,455.8,null,559.7,479.6,null,700.2,686.7,693.9,476.7,595.2,501.1,683.9,657.5,617.6,770.0,null,704.6,562.9,712.6,904.4,null,523.0,517.8,612.5,605.1,493.4,null,522.0,507.9,518.1,522.5,564.7,505.9,570.0,null,580.3,467.1,481.1,492.9,null,499.5,716.0,null,535.3,732.0,672.1,562.8,null,564.0,396.0,680.2,null,583.1,null,595.3,370.4,447.5,581.8,null,619.0,706.5,443.2,494.3,635.2,744.5,536.0,854.9,652.3,null,519.0,483.8,null,625.6,583.1,743.2,713.6,null,582.4,626.4,388.0,null,578.0,493.7,682.0,463.9,637.0,620.5,602.7,430.8,606.6,636.9,627.8,554.4,748.1,607.6,535.1,690.2,524.5,403.9,516.2,null,681.8,702.3,591.8,649.8,411.1,715.7,599.7,409.4,643.7,368.6,465.3,688.5,null,688.2,null,587.7,465.5,null,581.9,626.5,500.8,null,589.9,527.4,768.8,493.9,null,582.3,683.7,513.8,null,544.7,735.1,669.8,469.0,624.4,673.4,548.9,645.2,703.1,613.2,611.0,450.9,576.3,null,804.2,484.0,672.7,622.4,642.2,393.0,917.6,716.8,444.1,681.7,null,638.3,735.4,421.3,531.9,602.1,548.8,807.1,738.7,597.4,494.0,828.9,586.8,457.9,678.2,674.4,735.1,443.9,708.0,385.5,529.8,373.8,null,575.9,696.2,669.9,477.8,841.5,null,571.6,403.9,723.7,601.2,487.0,639.7,651.9,441.4,587.8,605.6,638.2,null,523.7,606.9,687.9,null,null,693.3,null,null,566.0,640.3,358.7,null,493.6,707.0,573.3,536.5,480.3,null,null,607.7,584.3,494.6,null,null,null,391.1,null,null,null,648.2,536.7,null,611.4,666.1,688.8,623.6,517.3,442.1,null,637.4,499.1,428.2,null,643.3,622.9,715.8,755.2,null,359.2,532.1,592.6,460.7,623.4,667.7,805.2,663.7,510.5,522.4,507.9,804.3,472.3,850.6,null,581.1,517.6,735.2,529.1,800.8,762.8,544.1,557.2,null,672.2,741.7,495.3,549.7,null,623.8,467.4,415.8,538.3,null,700.9,352.3,688.1,638.2,null,447.9,null,null,null,540.7,884.6,668.1,null,616.8,557.3,null,576.7,406.5,627.9,610.6,503.3,null,473.9,502.0,null,725.5,null,374.7,631.7,756.7,704.3,541.1,602.1,405.2,434.7,375.3,523.7,null,752.8,395.4,null,562.4,700.2,580.7,797.2,478.6,649.3,426.3,711.5,669.2,405.0,810.5,null,602.9,751.6,null,878.3,628.4,721.6,null,null,622.7,660.1,371.9,411.8,439.5,692.5,493.2,448.9,393.7,643.4,null,null,830.7,null,551.3,598.8,749.0,null,346.8,601.5,602.6,701.8,null,null,814.1,519.4,906.6,459.5,607.0,null,871.2,787.8,528.9,null,645.4,571.5,528.2,500.0,null,630.2,451.2,459.9,null,519.4,739.6,null,356.7,682.1,449.0,null,486.2,578.5,null,748.5,621.8,526.5,584.3,null,555.4,655.2,null,null,523.1,null,543.6,465.1,647.4,594.2,610.2,null,504.8,464.5,564.3,541.0,373.8,748.2,578.3,null,null,646.6,null,438.9,578.4,436.3,771.3,558.4,530.8,512.4,608.2,790.3,null,null,646.0,582.9,444.3,443.1,519.1,516.0,null,499.4,768.3,780.9,536.1,681.0,486.3,541.7,631.9,656.7,380.8,623.5,490.0,482.4,649.8,615.8,null,null,506.1,null,null,null,441.9,578.5,484.2,764.6,459.6,670.9,null,null,null,767.5,634.8,493.4,null,518.8,667.1,665.7,542.7,465.2,null,697.6,596.0,null,585.3,473.6,470.9,581.8,null,469.0,506.8,533.6,569.6,null,571.0,668.0,583.8,null,null,null,526.5,627.1,602.6,540.4,null,null,null,459.4,448.6,588.2,null,734.6,699.8,780.7,672.0,483.3,586.8,654.0,717.4,531.5,472.3,null,437.0,524.9,554.0,593.4,null,601.0,null,627.0,557.6,720.4,null,465.1,597.5,479.8,597.1,568.7,535.9,643.4,719.0,null,null,598.1,453.4,405.9,537.7,508.2,816.3,null,650.1,423.9,648.2,663.0,657.8,617.3,null,694.8,468.2,769.4,429.3,623.8,454.3,490.9,717.5,625.3,783.8,420.2,null,null,439.6,462.6,null,467.2,814.4,577.8,864.2,520.3,580.0,453.6,583.0,573.1,null,null,637.6,368.2,632.5,653.8,390.7,495.1,null,434.6,393.8,null,794.0,493.0,650.8,669.4,438.4,586.7,null,674.7,601.5,561.4,737.6,null,null,599.9,571.0,502.8,555.7,null,776.8,551.2,612.9,630.3,752.0,474.3,null,596.5,null,605.9,438.7,361.7,null,475.9,660.8,384.8,436.1,749.2,738.6,692.7,375.3,554.5,546.5,null,null,822.5,597.8,730.5,585.7,null,370.2,541.2,null,null,462.0,443.0,755.6,524.1,620.0,413.4,643.2,606.6,526.1,507.8,673.7,null,507.9,654.6,489.2,577.0,null,null,896.6,604.6,562.6,440.0,586.5,684.6,676.9,743.8,651.2,null,625.3,648.0,457.3,803.0,566.2,404.7,505.3,621.6,756.6,568.4,null,480.0,null,null,null,424.9,679.1,680.6,505.7,691.7,378.0,510.7,567.8,622.9,506.5,384.9,468.4,437.4,null,385.9,624.1,622.4,621.5,700.4,749.4,null,561.0,486.5,575.2,665.7,515.5,null,624.9,453.4,588.3,592.1,432.1,532.5,428.0,781.7,504.9,554.4,602.8,537.4,396.3,590.3,null,710.6,582.1,579.0,679.0,729.5,null,460.3,395.7,null,392.3,491.5,553.6,null,null,null,720.2,null,550.8,673.3,441.3,769.6,402.6,688.2,null,684.7,590.0,594.1,379.5,null,null,598.0,454.0,777.6,571.1,637.6,559.0,573.0,749.6,677.8,null,438.4,null,null,679.0,645.2,697.5,421.2,415.7,524.6,519.5,471.0,583.0,717.0,619.4,null,491.8,null,816.9,716.9,829.0,null,null,431.7,null,576.0,571.6,null,721.0,655.7,550.8,423.6,758.2,379.1,559.1,698.8,600.0,505.3,473.2,537.6,617.8,613.5,null,549.7,836.1,551.1,663.3,416.8,634.0,622.0,532.6,568.2,621.3,null,543.8,427.2,482.6,534.8,615.2,611.4,524.8,466.4,604.8,565.3,537.4,589.4,465.7,null,520.1,541.4,799.8,null,662.0,565.1,497.3,674.8,681.7,null,604.5,null,null,399.4,null,656.5,481.0,470.5,747.3,null,741.3,509.1,625.0,677.6,null,485.8,null,713.9,796.2,null,null,738.9,582.0,696.0,534.3,559.4,521.2,858.1,487.9,595.6,null,389.5,null,689.8,817.5,586.2,573.9,565.9,693.6,629.7,685.4,533.7,573.2,null,807.0,791.6,511.6,565.1,515.3,null,682.5,612.3,639.5,null,689.2,807.1,505.8,637.8,459.4,630.4,353.0,705.8,527.8,616.4,772.3,403.4,607.5,568.1,596.8,622.4,null,488.0,489.9,null,673.0,null,638.9,null,485.2,500.2,535.3,687.9,572.0,645.9,697.4,539.2,490.8,716.5,566.4,691.5,773.2,396.9,503.2,441.5,597.5,null,474.0,624.4,null,680.4,738.6,null,701.4,626.7,null,636.6,755.5,643.1,525.9,639.1,null,589.1,null,528.7,676.5,537.1,724.5,707.0,644.5,null,369.0,null,620.2,571.1,457.2,null,484.4,548.1,458.1,null,580.4,715.3,486.1,587.4,null,null,468.5,600.5,611.9,489.0,577.3,568.8,null,null,557.8,764.2,480.6,572.5,465.5,null,null,null,530.0,633.3,658.0,null,624.5,488.1,626.6,717.3,604.2,null,415.8,null,422.9,603.6,420.1,781.9,395.3,747.8,362.6,676.8,881.9,551.5,799.2,652.4,847.3,null,744.5,710.3,599.0,null,540.5,606.1,636.4,569.3,704.6,427.5,null,542.0,510.0,null,null,450.7,779.4,354.9,576.4,518.2,607.4,585.1,692.4,725.4,489.1,658.5,null,null,829.0,778.7,387.2,553.8,561.1,549.7,667.0,null,537.7,485.3,595.3,null,480.9,906.6,623.5,null,720.7,467.8,662.8,515.8,589.6,505.9,750.8,null,692.0,560.8,491.4,675.8,619.2,683.1,827.8,379.4,628.6,492.6,648.1,598.4,533.5,null,855.2,649.1,620.8,599.8,null,397.4,716.0,421.7,null,null,487.3,null,509.5,568.4,386.0,480.9,null,643.8,673.0,476.8,549.9,428.1,null,612.7,762.7,458.8,681.1,463.1,453.5,717.0,352.4,469.3,809.4,580.6,null,736.9,null,587.9,613.8,544.4,641.0,518.3,798.8,423.0,609.5,674.5,554.3,null,462.7,560.2,null,618.0,565.5,438.6,536.9,485.5,null,null,393.9,null,584.9,659.0,370.5,639.3,732.7,null,591.7,547.0,null,738.5,580.9,null,647.8,405.9,535.8,540.5,687.0,520.5,669.1,670.5,625.8,622.9,null,null,525.9,549.7,704.9,null,null,721.3,544.1,798.7,390.8,551.3,494.2,667.2,562.9,null,686.6,735.3,432.5,555.2,757.7,750.1,590.3,692.3,502.3,501.0,null,513.9,null,698.7,520.8,645.7,423.5,null,null,511.8,612.6,762.4,429.1,null,null,549.4,455.7,774.4,452.0,508.4,440.4,null,636.7,519.9,611.4,709.7,501.9,499.0,486.5,504.5,551.4,580.5,null,516.6,501.2,567.1,506.1,765.1,544.8,799.5,null,729.5,null,694.8,545.1,685.4,null,633.1,null,null,null,497.5,670.5,null,605.7,null,607.2,466.5,null,658.0,null,677.2,867.3,689.5,617.1,448.7,599.1,463.0,589.4,466.1,406.5,549.5,585.0,null,712.5,367.4,389.1,684.4,670.8,361.3,617.2,570.3,483.2,547.2,null,null,460.1,431.3,489.4,null,679.5,506.1,null,518.6,738.7,null,549.6,623.1,442.3,450.2,575.2,801.0,511.1,502.4,610.4,628.7,null,null,520.7,733.8,395.6,656.5,787.5,607.7,447.2,643.3,null,637.2,534.1,531.8,552.4,618.7,535.7,364.6,null,524.7,963.8,null,416.5,633.1,386.5,513.9,508.7,576.9,480.0,432.6,468.5,653.3,588.5,522.0,709.8,742.2,545.7,450.7,null,705.2,606.4,null,573.6,379.4,null,null,432.6,539.1,null,null,568.6,null,622.4,null,747.4,427.6,534.3,null,562.1,null,853.1,567.8,643.3,450.1,618.9,384.7,487.1,null,621.1,654.5,480.6,null,455.9,null,686.2,683.7,700.9,763.3,561.3,747.2,null,514.6,557.5,682.7,822.8,554.9,559.9,558.9,564.4,525.8,376.7,596.2,445.4,579.3,640.6,381.6,847.6,null,482.0,664.5,662.9,561.3,null,660.0,480.7,null,663.4,null,538.4,553.9,569.3,404.0,768.5,686.2,589.2,null,744.7,null,497.2,656.7,null,null,451.6,638.2,491.4,591.1,null,474.9,484.9,747.4,463.2,462.6,775.6,563.5,null,null,604.6,652.7,479.4,null,702.8,463.7,644.4,792.5,699.6,589.5,513.2,null,null,732.7,634.6,534.2,null,378.4,572.2,358.5,642.7,669.9,502.3,537.5,null,665.8,569.0,636.2,764.5,514.2,581.3,721.0,460.1,null,598.8,null,null,587.7,636.6,658.0,553.7,623.2,661.9,614.5,null,645.2,643.1,676.5,602.4,444.9,553.8,658.5,null,null,548.5,553.0,435.4,588.1,null,665.2,629.2,587.9,711.8,null,727.0,553.8,601.9,500.8,null,679.1,636.5,561.8,409.7,null,681.2,699.7,738.5,570.7,738.0,476.1,664.8,596.1,null,618.8,729.5,562.8,629.8,405.1,455.8,618.2,null,527.8,null,640.2,340.1,null,735.1,655.9,401.5,337.5,null,null,626.7,424.0,450.0,493.8,571.7,477.5,430.2,null,699.4,697.8,467.5,719.4,775.0,null,547.6,697.7,645.6,523.1,453.8,529.2,539.9,594.1,511.5,510.2,526.8,384.7,693.9,494.6,790.4,468.7,935.1,null,570.4,539.6,598.3,null,678.4,384.3,374.8,null,461.1,659.6,415.8,630.8,572.5,null,null,728.3,592.9,558.2,599.0,498.4,698.0,461.6,null,487.8,637.8,487.8,null,502.9,531.6,559.4,437.7,null,540.0,554.7,368.7,606.0,712.1,null,null,644.6,658.4,null,527.8,null,590.6,755.4,553.6,537.8,458.6,null,null,653.5,600.1,688.4,704.7,404.2,678.8,446.0,null,545.7,550.1,612.0,445.1,718.4,506.7,626.1,null,null,667.5,653.7,null,668.4,515.6,521.9,424.8,711.7,541.7,629.3,600.0,692.1,465.5,642.0,914.0,596.2,684.2,427.7,439.1,693.2,611.4,726.1,717.2,466.9,null,616.6,610.0,null,419.2,561.1,792.9,769.1,793.2,null,null,648.1,665.6,498.9,716.8,551.3,null,859.9,415.3,null,812.9,null,756.1,null,771.5,877.4,564.8,504.9,677.2,523.9,440.2,587.7,677.4,603.6,501.8,398.3,735.1,null,655.7,535.3,559.8,436.4,622.1,null,591.9,646.0,567.8,489.8,471.8,null,643.5,900.0,665.7,548.1,null,null,380.8,null,660.3,null,696.8,618.9,467.2,537.0,465.0,402.6,594.8,406.3,431.4,755.4,701.4,null,503.6,428.1,448.1,376.7,453.1,850.3,390.2,null,451.4,422.2,null,638.6,764.9,703.7,462.7,692.0,null,588.2,null,666.9,null,490.4,708.3,null,535.9,592.8,588.1,null,676.6,516.5,507.2,757.3,null,845.9,517.2,null,353.1,846.8,627.5,676.9,534.0,658.2,707.9,616.4,495.7,546.3,509.7,626.8,751.7,420.4,647.6,781.0,365.9,352.5,401.1,663.3,null,507.7,773.7,447.9,668.2,816.4,534.8,690.3,357.1,null,684.5,649.2,537.3,466.6,662.9,559.4,413.3,436.5,659.8,579.9,701.5,397.6,690.7,440.7,745.8,579.0,null,619.8,659.3,438.6,558.1,null,740.4,680.3,null,683.6,null,694.9,627.6,484.6,null,703.9,794.3,null,639.5,null,459.9,750.7,532.8,null,449.3,494.1,465.8,429.8,463.2,663.6,622.7,581.1,723.2,637.9,453.9,null,496.7,null,718.9,567.2,null,579.6,557.9,461.5,null,661.3,null,null,521.5,425.2,797.9,427.0,668.4,571.0,450.2,627.8,643.8,637.5,555.4,null,504.0,null,510.2,null,607.9,569.8,751.9,null,445.9,496.4,389.3,558.3,795.0,487.8,546.6,515.6,571.7,664.1,640.2,391.8,null,null,630.3,584.0,589.0,622.0,588.9,507.1,611.7,576.8,600.9,null,655.3,null,548.1,null,null,null,555.7,391.3,590.7,422.6,740.7,null,558.8,617.6,577.0,662.7,634.1,null,762.0,661.7,null,604.0,683.2,614.3,518.1,739.8,845.4,477.1,597.8,457.3,587.3,617.8,583.4,456.0,545.4,563.3,578.9,null,580.1,650.0,536.5,null,611.1,594.8,537.5,630.8,602.4,550.2,null,null,null,573.9,null,523.3,662.1,552.0,595.1,555.9,613.8,599.5,732.6,393.4,584.2,667.4,793.8,443.5,738.0,618.1,554.6,524.3,618.4,null,588.8,458.9,null,null,null,386.8,532.3,555.8,null,551.6,549.0,null,null,506.7,428.4,null,565.5,618.9,496.0,569.0,null,662.8,677.0,476.3,395.3,662.4,527.4,null,365.9,460.5,744.8,628.0,673.2,null,507.9,525.3,717.4,686.0,602.0,409.4,594.9,765.6,569.8,559.2,null,null,559.2,608.2,581.2,636.5,443.3,579.2,879.1,726.8,773.8,null,658.7,null,603.0,463.1,572.7,474.7,629.2,null,527.3,463.6,663.7,511.9,567.4,623.7,637.1,538.1,597.4,433.9,602.5,546.3,565.1,671.3,null,576.0,null,904.7,747.8,594.8,451.4,650.5,420.0,631.4,556.4,515.3,618.6,481.0,649.1,451.6,348.7,579.4,552.1,624.9,506.3,660.4,null,452.3,601.6,527.3,null,477.1,451.5,545.2,765.1,653.5,706.4,null,509.8,null,null,409.3,361.5,426.2,null,802.7,null,438.6,null,null,460.3,null,576.5,886.1,489.3,null,438.2,null,539.7,715.4,null,553.3,null,590.7,null,428.8,427.7,596.2,686.2,628.6,null,null,660.3,580.3,null,613.8,508.9,482.8,839.2,469.1,774.7,649.2,492.8,387.0,398.7,372.2,644.1,null,0.0,671.0,443.5,501.3,351.2,378.8,697.7,637.6,625.8,411.9,null,639.6,null,398.9,538.4,551.8,497.4,485.6,null,575.6,409.7,null,null,null,659.2,489.3,474.6,478.6,null,685.4,539.6,null,462.4,800.4,449.6,631.6,540.8,null,399.8,null,488.3,620.1,597.6,462.9,null,601.5,605.7,553.2,null,530.0,587.8,380.6,455.7,439.0,null,548.1,471.8,483.8,630.1,581.1,380.0,485.5,440.2,451.6,416.2,667.9,597.2,652.1,565.6,673.3,519.5,null,800.5,584.6,621.2,null,601.9,689.1,374.4,null,554.6,541.0,null,536.3,518.1,395.4,610.1,430.9,568.1,625.0,439.9,485.8,null,459.1,435.1,553.5,387.7,490.7,null,730.4,null,569.9,481.3,707.3,756.5,378.1,null,570.3,671.9,665.9,625.1,757.5,544.6,null,567.1,573.5,626.6,null,435.1,397.6,436.3,484.1,650.1,null,null,600.6,462.4,null,680.4,null,null,543.1,569.8,null,null,null,439.7,531.5,471.3,639.9,507.6,585.2,668.3,413.4,551.8,865.4,571.8,null,457.4,480.6,null,572.4,477.8,null,635.6,589.5,null,472.6,505.4,null,367.3,568.5,881.3,517.5,null,882.1,650.0,null,null,646.4,562.9,648.2,556.5,500.6,425.0,606.6,651.3,480.4,694.8,null,376.1,null,533.5,null,596.8,null,918.3,407.2,null,null,null,null,492.9,635.2,577.8,515.7,494.3,498.1,null,null,518.3,598.3,574.5,478.5,516.9,515.1,481.8,513.7,486.8,null,452.9,730.5,442.3,null,599.9,null,634.6,436.1,676.8,null,434.4,663.6,null,null,386.4,576.3,515.3,550.3,625.5,557.4,608.6,636.3,559.6,573.4,496.2,761.5,413.3,null,377.1,746.4,null,560.2,388.8,null,null,718.9,382.0,602.1,null,661.7,527.2,426.8,895.2,null,671.9,885.2,null,422.3,489.5,588.6,416.1,null,418.2,523.4,null,671.3,null,null,436.3,null,362.6,null,561.7,462.8,525.4,442.1,null,null,436.3,null,468.8,null,553.5,430.5,null,586.2,632.1,721.6,null,618.5,653.0,549.5,663.6,450.6,395.7,788.1,537.1,null,792.9,518.2,null,727.6,null,null,602.6,null,644.7,644.5,null,null,552.7,null,599.4,666.0,679.3,626.6,493.3,null,645.3,666.6,512.5,537.8,477.7,725.4,410.4,null,707.9,539.2,444.6,433.5,null,499.5,null,null,477.0,436.4,448.1,720.2,483.5,366.0,597.2,512.1,527.3,null,381.2,404.2,594.0,null,null,479.1,null,436.1,522.8,514.1,null,565.8,542.0,null,411.5,648.2,461.4,697.7,539.0,657.7,550.8,656.3,473.8,628.2,471.1,641.7,727.3,400.6,550.4,361.5,424.1,null,630.6,593.1,620.6,470.7,677.7,null,null,745.2,660.3,690.9,null,643.9,345.8,659.4,null,681.2,575.0,631.0,396.0,512.2,587.1,null,null,598.7,null,null,426.6,583.9,566.1,520.5,561.3,null,null,446.9,null,null,534.0,610.8,517.9,516.5,601.9,490.8,424.1,481.1,452.1,446.1,357.2,690.2,464.4,null,406.9,540.4,593.8,385.3,416.0,null,null,625.5,585.4,455.7,671.9,448.1,null,485.9,698.1,485.1,553.5,411.0,842.4,576.8,555.2,551.4,866.3,618.3,491.2,null,610.5,null,433.4,535.4,443.2,672.7,585.4,487.4,null,607.4,null,671.7,445.3,540.0,408.2,669.1,465.9,666.4,700.0,null,570.3,365.8,502.7,510.8,null,383.4,null,481.4,630.8,419.4,431.4,null,629.8,494.6,479.7,533.8,402.9,null,593.8,534.2,443.2,345.2,null,579.6,null,561.7,460.1,599.3,633.7,null,542.6,450.7,653.7,405.0,null,729.3,464.7,414.3,746.2,367.6,null,493.5,null,542.2,603.2,526.3,null,575.8,null,null,680.3,361.3,696.3,658.4,null,null,493.2,409.3,617.7,null,644.6,590.6,null,565.9,453.2,null,622.4,null,696.2,553.6,572.6,473.6,null,581.1,null,467.8,671.4,null,536.8,484.6,537.7,704.8,null,622.5,532.7,491.2,600.7,null,543.8,487.2,583.2,656.8,851.5,602.8,514.9,573.7,632.5,null,741.1,494.5,645.6,365.9,null,455.9,493.5,615.8,560.6,454.3,497.3,395.8,467.4,652.0,521.2,623.7,355.2,689.3,672.4,507.5,null,500.4,626.3,null,null,null,551.3,565.1,null,499.4,null,541.7,390.3,681.6,null,390.5,null,null,582.1,null,633.5,643.9,564.6,null,439.1,541.5,357.4,603.2,699.7,500.8,493.9,861.7,null,null,null,null,null,583.8,604.2,null,737.4,null,470.9,608.4,652.4,null,429.8,540.1,711.8,null,473.6,405.2,null,633.3,545.6,569.5,555.9,651.2,470.1,null,692.3,843.5,498.3,348.7,587.6,570.3,686.7,724.0,null,627.4,401.4,null,362.1,421.4,493.5,398.3,587.5,599.2,637.4,446.0,384.2,null,589.9,773.2,527.3,487.5,574.9,697.4,458.0,670.0,null,null,553.4,654.2,834.4,547.1,378.0,647.1,450.3,377.8,771.3,950.7,482.6,546.6,708.2,553.4,null,425.9,545.9,755.1,506.5,711.0,430.1,622.5,null,410.1,839.6,429.7,453.7,null,null,null,492.7,445.0,457.2,627.4,433.7,562.4,423.6,485.7,586.0,555.8,null,560.8,null,null,505.1,475.9,468.2,360.1,null,666.7,589.4,593.6,628.4,null,563.4,373.3,508.4,665.6,null,null,null,777.9,null,666.9,null,690.8,null,626.8,680.8,624.7,696.9,470.5,693.3,507.0,403.9,458.4,538.3,659.3,507.6,620.0,null,null,368.5,650.2,null,539.0,513.9,null,null,594.8,651.8,null,837.9,537.8,564.0,496.8,589.4,836.3,786.6,659.2,455.6,null,538.8,null,null,851.4,null,629.6,null,623.5,461.8,567.9,664.5,null,null,598.3,541.2,null,null,null,null,395.1,630.7,612.3,null,383.9,388.4,623.6,585.5,716.9,435.6,null,null,null,null,492.9,715.0,595.0,508.6,null,529.3,701.4,583.2,697.8,667.8,612.4,777.5,793.9,441.2,null,null,630.1,752.1,null,819.3,784.2,null,672.5,381.7,366.9,467.4,508.4,571.2,null,null,777.4,578.1,657.9,null,null,467.1,461.5,382.3,null,770.9,516.5,664.9,556.5,844.0,590.0,475.8,457.0,473.1,550.4,492.3,595.2,626.5,524.3,386.1,469.8,573.7,397.2,428.0,666.2,722.8,407.2,497.2,null,464.5,570.9,null,null,614.8,374.4,638.2,470.8,611.7,null,null,616.9,653.9,null,null,null,479.9,533.2,null,450.5,387.3,531.4,593.3,627.7,659.4,579.9,null,612.2,469.5,null,413.6,529.9,650.5,null,null,565.9,null,562.0,627.7,488.2,null,470.6,638.3,null,633.8,718.9,549.2,null,552.8,712.8,483.4,null,829.5,579.3,705.4,470.2,null,598.6,623.1,null,569.5,573.1,363.8,null,375.7,null,null,738.3,639.1,527.6,410.6,null,451.0,null,496.6,429.1,578.2,455.4,634.1,385.8,null,555.1,null,471.0,557.8,477.9,642.8,407.1,579.0,null,538.1,652.7,null,null,470.1,645.4,null,538.3,621.6,600.4,703.7,707.0,408.0,522.3,572.7,623.7,580.8,null,622.2,587.9,484.6,517.4,454.1,null,412.3,588.5,623.0,null,671.6,null,null,475.5,677.8,457.0,655.5,534.3,437.4,466.4,579.8,591.3,null,null,null,569.9,406.9,414.4,454.7,612.0,522.1,472.1,null,null,null,null,558.8,474.6,null,563.6,438.5,null,561.0,null,668.4,null,645.5,517.6,411.0,650.6,563.2,536.0,517.7,531.0,629.1,null,488.3,608.3,null,658.4,570.0,594.4,589.5,477.9,536.6,567.1,614.1,null,675.2,573.0,505.0,384.9,null,399.9,407.5,594.9,602.3,448.5,559.7,357.2,524.3,670.5,730.4,530.5,519.7,550.5,null,699.1,null,531.8,null,708.9,478.7,598.0,576.3,629.7,null,636.2,529.3,420.2,676.7,578.0,496.6,398.3,null,595.8,null,547.3,586.5,532.2,568.2,451.7,723.4,null,828.4,582.9,560.2,406.7,475.2,782.3,459.1,636.9,576.3,null,null,612.8,540.2,507.4,568.5,null,495.0,null,null,465.4,640.6,null,371.4,685.0,505.1,583.3,697.9,517.7,387.1,null,445.2,871.8,null,589.8,675.4,464.7,383.0,614.4,766.6,null,677.4,null,830.0,409.8,null,786.3,null,536.6,513.6,783.8,674.2,558.2,652.6,null,668.5,574.8,600.9,608.6,494.5,525.4,362.9,445.8,643.9,620.7,592.2,641.1,525.8,null,471.4,null,442.8,667.4,518.7,null,596.4,null,440.3,486.7,543.7,432.8,null,714.6,646.9,null,805.2,669.4,414.5,590.1,494.3,583.9,null,862.9,453.1,536.8,604.6,444.7,363.5,427.7,null,null,438.8,615.3,581.6,531.5,638.6,637.0,455.8,487.1,645.2,403.4,670.8,579.0],\"xaxis\":\"x\",\"yaxis\":\"y\",\"type\":\"histogram\"}],                        {\"template\":{\"data\":{\"histogram2dcontour\":[{\"type\":\"histogram2dcontour\",\"colorbar\":{\"outlinewidth\":0,\"ticks\":\"\"},\"colorscale\":[[0.0,\"#0d0887\"],[0.1111111111111111,\"#46039f\"],[0.2222222222222222,\"#7201a8\"],[0.3333333333333333,\"#9c179e\"],[0.4444444444444444,\"#bd3786\"],[0.5555555555555556,\"#d8576b\"],[0.6666666666666666,\"#ed7953\"],[0.7777777777777778,\"#fb9f3a\"],[0.8888888888888888,\"#fdca26\"],[1.0,\"#f0f921\"]]}],\"choropleth\":[{\"type\":\"choropleth\",\"colorbar\":{\"outlinewidth\":0,\"ticks\":\"\"}}],\"histogram2d\":[{\"type\":\"histogram2d\",\"colorbar\":{\"outlinewidth\":0,\"ticks\":\"\"},\"colorscale\":[[0.0,\"#0d0887\"],[0.1111111111111111,\"#46039f\"],[0.2222222222222222,\"#7201a8\"],[0.3333333333333333,\"#9c179e\"],[0.4444444444444444,\"#bd3786\"],[0.5555555555555556,\"#d8576b\"],[0.6666666666666666,\"#ed7953\"],[0.7777777777777778,\"#fb9f3a\"],[0.8888888888888888,\"#fdca26\"],[1.0,\"#f0f921\"]]}],\"heatmap\":[{\"type\":\"heatmap\",\"colorbar\":{\"outlinewidth\":0,\"ticks\":\"\"},\"colorscale\":[[0.0,\"#0d0887\"],[0.1111111111111111,\"#46039f\"],[0.2222222222222222,\"#7201a8\"],[0.3333333333333333,\"#9c179e\"],[0.4444444444444444,\"#bd3786\"],[0.5555555555555556,\"#d8576b\"],[0.6666666666666666,\"#ed7953\"],[0.7777777777777778,\"#fb9f3a\"],[0.8888888888888888,\"#fdca26\"],[1.0,\"#f0f921\"]]}],\"heatmapgl\":[{\"type\":\"heatmapgl\",\"colorbar\":{\"outlinewidth\":0,\"ticks\":\"\"},\"colorscale\":[[0.0,\"#0d0887\"],[0.1111111111111111,\"#46039f\"],[0.2222222222222222,\"#7201a8\"],[0.3333333333333333,\"#9c179e\"],[0.4444444444444444,\"#bd3786\"],[0.5555555555555556,\"#d8576b\"],[0.6666666666666666,\"#ed7953\"],[0.7777777777777778,\"#fb9f3a\"],[0.8888888888888888,\"#fdca26\"],[1.0,\"#f0f921\"]]}],\"contourcarpet\":[{\"type\":\"contourcarpet\",\"colorbar\":{\"outlinewidth\":0,\"ticks\":\"\"}}],\"contour\":[{\"type\":\"contour\",\"colorbar\":{\"outlinewidth\":0,\"ticks\":\"\"},\"colorscale\":[[0.0,\"#0d0887\"],[0.1111111111111111,\"#46039f\"],[0.2222222222222222,\"#7201a8\"],[0.3333333333333333,\"#9c179e\"],[0.4444444444444444,\"#bd3786\"],[0.5555555555555556,\"#d8576b\"],[0.6666666666666666,\"#ed7953\"],[0.7777777777777778,\"#fb9f3a\"],[0.8888888888888888,\"#fdca26\"],[1.0,\"#f0f921\"]]}],\"surface\":[{\"type\":\"surface\",\"colorbar\":{\"outlinewidth\":0,\"ticks\":\"\"},\"colorscale\":[[0.0,\"#0d0887\"],[0.1111111111111111,\"#46039f\"],[0.2222222222222222,\"#7201a8\"],[0.3333333333333333,\"#9c179e\"],[0.4444444444444444,\"#bd3786\"],[0.5555555555555556,\"#d8576b\"],[0.6666666666666666,\"#ed7953\"],[0.7777777777777778,\"#fb9f3a\"],[0.8888888888888888,\"#fdca26\"],[1.0,\"#f0f921\"]]}],\"mesh3d\":[{\"type\":\"mesh3d\",\"colorbar\":{\"outlinewidth\":0,\"ticks\":\"\"}}],\"scatter\":[{\"fillpattern\":{\"fillmode\":\"overlay\",\"size\":10,\"solidity\":0.2},\"type\":\"scatter\"}],\"parcoords\":[{\"type\":\"parcoords\",\"line\":{\"colorbar\":{\"outlinewidth\":0,\"ticks\":\"\"}}}],\"scatterpolargl\":[{\"type\":\"scatterpolargl\",\"marker\":{\"colorbar\":{\"outlinewidth\":0,\"ticks\":\"\"}}}],\"bar\":[{\"error_x\":{\"color\":\"#2a3f5f\"},\"error_y\":{\"color\":\"#2a3f5f\"},\"marker\":{\"line\":{\"color\":\"#E5ECF6\",\"width\":0.5},\"pattern\":{\"fillmode\":\"overlay\",\"size\":10,\"solidity\":0.2}},\"type\":\"bar\"}],\"scattergeo\":[{\"type\":\"scattergeo\",\"marker\":{\"colorbar\":{\"outlinewidth\":0,\"ticks\":\"\"}}}],\"scatterpolar\":[{\"type\":\"scatterpolar\",\"marker\":{\"colorbar\":{\"outlinewidth\":0,\"ticks\":\"\"}}}],\"histogram\":[{\"marker\":{\"pattern\":{\"fillmode\":\"overlay\",\"size\":10,\"solidity\":0.2}},\"type\":\"histogram\"}],\"scattergl\":[{\"type\":\"scattergl\",\"marker\":{\"colorbar\":{\"outlinewidth\":0,\"ticks\":\"\"}}}],\"scatter3d\":[{\"type\":\"scatter3d\",\"line\":{\"colorbar\":{\"outlinewidth\":0,\"ticks\":\"\"}},\"marker\":{\"colorbar\":{\"outlinewidth\":0,\"ticks\":\"\"}}}],\"scattermapbox\":[{\"type\":\"scattermapbox\",\"marker\":{\"colorbar\":{\"outlinewidth\":0,\"ticks\":\"\"}}}],\"scatterternary\":[{\"type\":\"scatterternary\",\"marker\":{\"colorbar\":{\"outlinewidth\":0,\"ticks\":\"\"}}}],\"scattercarpet\":[{\"type\":\"scattercarpet\",\"marker\":{\"colorbar\":{\"outlinewidth\":0,\"ticks\":\"\"}}}],\"carpet\":[{\"aaxis\":{\"endlinecolor\":\"#2a3f5f\",\"gridcolor\":\"white\",\"linecolor\":\"white\",\"minorgridcolor\":\"white\",\"startlinecolor\":\"#2a3f5f\"},\"baxis\":{\"endlinecolor\":\"#2a3f5f\",\"gridcolor\":\"white\",\"linecolor\":\"white\",\"minorgridcolor\":\"white\",\"startlinecolor\":\"#2a3f5f\"},\"type\":\"carpet\"}],\"table\":[{\"cells\":{\"fill\":{\"color\":\"#EBF0F8\"},\"line\":{\"color\":\"white\"}},\"header\":{\"fill\":{\"color\":\"#C8D4E3\"},\"line\":{\"color\":\"white\"}},\"type\":\"table\"}],\"barpolar\":[{\"marker\":{\"line\":{\"color\":\"#E5ECF6\",\"width\":0.5},\"pattern\":{\"fillmode\":\"overlay\",\"size\":10,\"solidity\":0.2}},\"type\":\"barpolar\"}],\"pie\":[{\"automargin\":true,\"type\":\"pie\"}]},\"layout\":{\"autotypenumbers\":\"strict\",\"colorway\":[\"#636efa\",\"#EF553B\",\"#00cc96\",\"#ab63fa\",\"#FFA15A\",\"#19d3f3\",\"#FF6692\",\"#B6E880\",\"#FF97FF\",\"#FECB52\"],\"font\":{\"color\":\"#2a3f5f\"},\"hovermode\":\"closest\",\"hoverlabel\":{\"align\":\"left\"},\"paper_bgcolor\":\"white\",\"plot_bgcolor\":\"#E5ECF6\",\"polar\":{\"bgcolor\":\"#E5ECF6\",\"angularaxis\":{\"gridcolor\":\"white\",\"linecolor\":\"white\",\"ticks\":\"\"},\"radialaxis\":{\"gridcolor\":\"white\",\"linecolor\":\"white\",\"ticks\":\"\"}},\"ternary\":{\"bgcolor\":\"#E5ECF6\",\"aaxis\":{\"gridcolor\":\"white\",\"linecolor\":\"white\",\"ticks\":\"\"},\"baxis\":{\"gridcolor\":\"white\",\"linecolor\":\"white\",\"ticks\":\"\"},\"caxis\":{\"gridcolor\":\"white\",\"linecolor\":\"white\",\"ticks\":\"\"}},\"coloraxis\":{\"colorbar\":{\"outlinewidth\":0,\"ticks\":\"\"}},\"colorscale\":{\"sequential\":[[0.0,\"#0d0887\"],[0.1111111111111111,\"#46039f\"],[0.2222222222222222,\"#7201a8\"],[0.3333333333333333,\"#9c179e\"],[0.4444444444444444,\"#bd3786\"],[0.5555555555555556,\"#d8576b\"],[0.6666666666666666,\"#ed7953\"],[0.7777777777777778,\"#fb9f3a\"],[0.8888888888888888,\"#fdca26\"],[1.0,\"#f0f921\"]],\"sequentialminus\":[[0.0,\"#0d0887\"],[0.1111111111111111,\"#46039f\"],[0.2222222222222222,\"#7201a8\"],[0.3333333333333333,\"#9c179e\"],[0.4444444444444444,\"#bd3786\"],[0.5555555555555556,\"#d8576b\"],[0.6666666666666666,\"#ed7953\"],[0.7777777777777778,\"#fb9f3a\"],[0.8888888888888888,\"#fdca26\"],[1.0,\"#f0f921\"]],\"diverging\":[[0,\"#8e0152\"],[0.1,\"#c51b7d\"],[0.2,\"#de77ae\"],[0.3,\"#f1b6da\"],[0.4,\"#fde0ef\"],[0.5,\"#f7f7f7\"],[0.6,\"#e6f5d0\"],[0.7,\"#b8e186\"],[0.8,\"#7fbc41\"],[0.9,\"#4d9221\"],[1,\"#276419\"]]},\"xaxis\":{\"gridcolor\":\"white\",\"linecolor\":\"white\",\"ticks\":\"\",\"title\":{\"standoff\":15},\"zerolinecolor\":\"white\",\"automargin\":true,\"zerolinewidth\":2},\"yaxis\":{\"gridcolor\":\"white\",\"linecolor\":\"white\",\"ticks\":\"\",\"title\":{\"standoff\":15},\"zerolinecolor\":\"white\",\"automargin\":true,\"zerolinewidth\":2},\"scene\":{\"xaxis\":{\"backgroundcolor\":\"#E5ECF6\",\"gridcolor\":\"white\",\"linecolor\":\"white\",\"showbackground\":true,\"ticks\":\"\",\"zerolinecolor\":\"white\",\"gridwidth\":2},\"yaxis\":{\"backgroundcolor\":\"#E5ECF6\",\"gridcolor\":\"white\",\"linecolor\":\"white\",\"showbackground\":true,\"ticks\":\"\",\"zerolinecolor\":\"white\",\"gridwidth\":2},\"zaxis\":{\"backgroundcolor\":\"#E5ECF6\",\"gridcolor\":\"white\",\"linecolor\":\"white\",\"showbackground\":true,\"ticks\":\"\",\"zerolinecolor\":\"white\",\"gridwidth\":2}},\"shapedefaults\":{\"line\":{\"color\":\"#2a3f5f\"}},\"annotationdefaults\":{\"arrowcolor\":\"#2a3f5f\",\"arrowhead\":0,\"arrowwidth\":1},\"geo\":{\"bgcolor\":\"white\",\"landcolor\":\"#E5ECF6\",\"subunitcolor\":\"white\",\"showland\":true,\"showlakes\":true,\"lakecolor\":\"white\"},\"title\":{\"x\":0.05},\"mapbox\":{\"style\":\"light\"}}},\"xaxis\":{\"anchor\":\"y\",\"domain\":[0.0,1.0],\"title\":{\"text\":\"Notas de Matem\\u00e1tica\"}},\"yaxis\":{\"anchor\":\"x\",\"domain\":[0.0,1.0],\"title\":{\"text\":\"probability\"}},\"legend\":{\"tracegroupgap\":0},\"margin\":{\"t\":60},\"barmode\":\"relative\",\"title\":{\"font\":{\"color\":\"#005DAA\"},\"text\":\"Notas Matem\\u00e1tica - SC - ENEM 2022\",\"x\":0.5,\"xanchor\":\"center\"},\"width\":600,\"height\":500},                        {\"responsive\": true}                    ).then(function(){\n",
              "                            \n",
              "var gd = document.getElementById('73ccdeac-9334-42d6-8827-6ddab7e9403e');\n",
              "var x = new MutationObserver(function (mutations, observer) {{\n",
              "        var display = window.getComputedStyle(gd).display;\n",
              "        if (!display || display === 'none') {{\n",
              "            console.log([gd, 'removed!']);\n",
              "            Plotly.purge(gd);\n",
              "            observer.disconnect();\n",
              "        }}\n",
              "}});\n",
              "\n",
              "// Listen for the removal of the full notebook cells\n",
              "var notebookContainer = gd.closest('#notebook-container');\n",
              "if (notebookContainer) {{\n",
              "    x.observe(notebookContainer, {childList: true});\n",
              "}}\n",
              "\n",
              "// Listen for the clearing of the current output cell\n",
              "var outputEl = gd.closest('.output');\n",
              "if (outputEl) {{\n",
              "    x.observe(outputEl, {childList: true});\n",
              "}}\n",
              "\n",
              "                        })                };                            </script>        </div>\n",
              "</body>\n",
              "</html>"
            ]
          },
          "metadata": {}
        }
      ]
    },
    {
      "cell_type": "code",
      "source": [
        "sns.displot(df1_sc['NU_NOTA_MT'], bins=60, edgecolor= '#ADE3F8' , color = '#005DAA' , kde=True, stat=\"probability\");\n",
        "# Defina o rótulo do eixo x\n",
        "plt.xlabel('Notas de Matemática')\n",
        "plt.ylabel('stat=\"probability\"') # No caso em que stat=\"probability\"\n"
      ],
      "metadata": {
        "colab": {
          "base_uri": "https://localhost:8080/",
          "height": 523
        },
        "id": "Af1y72SjZ7k_",
        "outputId": "93fb660a-46be-4c42-af2e-94895e689e1b"
      },
      "execution_count": 35,
      "outputs": [
        {
          "output_type": "execute_result",
          "data": {
            "text/plain": [
              "Text(0.6944444444444446, 0.5, 'stat=\"probability\"')"
            ]
          },
          "metadata": {},
          "execution_count": 35
        },
        {
          "output_type": "display_data",
          "data": {
            "text/plain": [
              "<Figure size 500x500 with 1 Axes>"
            ],
            "image/png": "[encoded data removed]"
          },
          "metadata": {}
        }
      ]
    },
    {
      "cell_type": "markdown",
      "source": [
        "## 11) <font color='#005DAA'><b> Renomear a coluna NU_NOTA_MT por NOTA_MT e verifique a alteração"
      ],
      "metadata": {
        "id": "JwVnhBI5WJHp"
      }
    },
    {
      "cell_type": "code",
      "source": [
        "df1_sc = df1_sc.rename(columns={'NU_NOTA_MT':'NOTA_MT'})"
      ],
      "metadata": {
        "id": "lV681AQRlSkN"
      },
      "execution_count": 36,
      "outputs": []
    },
    {
      "cell_type": "markdown",
      "source": [
        "Dica:\n",
        "\n",
        "df=df.rename(columns={'NOME_VELHO' : 'NOME_NOVO'})"
      ],
      "metadata": {
        "id": "vYpjg7awcxcH"
      }
    },
    {
      "cell_type": "markdown",
      "source": [
        "## 12) <font color='#005DAA'><b> Filtre e visualize apenas as notas das mulheres, ou seja, todos os dados em que a variável \"TP_SEXO\" é igual a 'F'."
      ],
      "metadata": {
        "id": "RcLPNTKXdUtu"
      }
    },
    {
      "cell_type": "code",
      "source": [
        "df1_sc_f = df1_sc.loc[df1_sc.TP_SEXO == 'F']\n",
        "\n",
        "df1_sc_f.head()"
      ],
      "metadata": {
        "colab": {
          "base_uri": "https://localhost:8080/",
          "height": 299
        },
        "id": "8beTl_QtmNOn",
        "outputId": "be4b102f-3b7e-4dd3-c683-32de7659e169"
      },
      "execution_count": 38,
      "outputs": [
        {
          "output_type": "execute_result",
          "data": {
            "text/plain": [
              "  NU_INSCRICAO  NU_ANO  TP_FAIXA_ETARIA TP_SEXO  TP_ESTADO_CIVIL  TP_COR_RACA  \\\n",
              "0  2,10056E+11    2022                3       F                0            1   \n",
              "2  2,10055E+11    2022                3       F                1            1   \n",
              "4  2,10055E+11    2022                2       F                1            1   \n",
              "5  2,10056E+11    2022                2       F                1            3   \n",
              "6  2,10058E+11    2022                3       F                1            1   \n",
              "\n",
              "   TP_NACIONALIDADE  TP_ST_CONCLUSAO  TP_ANO_CONCLUIU  TP_ESCOLA  ...  Q016  \\\n",
              "0                 1                2                0          2  ...     B   \n",
              "2                 1                2                0          2  ...     B   \n",
              "4                 1                2                0          2  ...     B   \n",
              "5                 1                2                0          2  ...     B   \n",
              "6                 1                2                0          2  ...     B   \n",
              "\n",
              "   Q017 Q018 Q019  Q020  Q021  Q022 Q023 Q024  Q025  \n",
              "0     A    B    C     A     A     E    A    B     B  \n",
              "2     A    A    B     A     A     D    A    A     B  \n",
              "4     A    B    C     B     A     E    A    C     B  \n",
              "5     A    A    B     A     A     B    A    A     B  \n",
              "6     A    A    B     A     A     D    A    B     B  \n",
              "\n",
              "[5 rows x 72 columns]"
            ],
            "text/html": [
              "\n",
              "\n",
              "  <div id=\"df-59e9bce1-70a2-4c20-ab70-5f05d89c90cf\">\n",
              "    <div class=\"colab-df-container\">\n",
              "      <div>\n",
              "<style scoped>\n",
              "    .dataframe tbody tr th:only-of-type {\n",
              "        vertical-align: middle;\n",
              "    }\n",
              "\n",
              "    .dataframe tbody tr th {\n",
              "        vertical-align: top;\n",
              "    }\n",
              "\n",
              "    .dataframe thead th {\n",
              "        text-align: right;\n",
              "    }\n",
              "</style>\n",
              "<table border=\"1\" class=\"dataframe\">\n",
              "  <thead>\n",
              "    <tr style=\"text-align: right;\">\n",
              "      <th></th>\n",
              "      <th>NU_INSCRICAO</th>\n",
              "      <th>NU_ANO</th>\n",
              "      <th>TP_FAIXA_ETARIA</th>\n",
              "      <th>TP_SEXO</th>\n",
              "      <th>TP_ESTADO_CIVIL</th>\n",
              "      <th>TP_COR_RACA</th>\n",
              "      <th>TP_NACIONALIDADE</th>\n",
              "      <th>TP_ST_CONCLUSAO</th>\n",
              "      <th>TP_ANO_CONCLUIU</th>\n",
              "      <th>TP_ESCOLA</th>\n",
              "      <th>...</th>\n",
              "      <th>Q016</th>\n",
              "      <th>Q017</th>\n",
              "      <th>Q018</th>\n",
              "      <th>Q019</th>\n",
              "      <th>Q020</th>\n",
              "      <th>Q021</th>\n",
              "      <th>Q022</th>\n",
              "      <th>Q023</th>\n",
              "      <th>Q024</th>\n",
              "      <th>Q025</th>\n",
              "    </tr>\n",
              "  </thead>\n",
              "  <tbody>\n",
              "    <tr>\n",
              "      <th>0</th>\n",
              "      <td>2,10056E+11</td>\n",
              "      <td>2022</td>\n",
              "      <td>3</td>\n",
              "      <td>F</td>\n",
              "      <td>0</td>\n",
              "      <td>1</td>\n",
              "      <td>1</td>\n",
              "      <td>2</td>\n",
              "      <td>0</td>\n",
              "      <td>2</td>\n",
              "      <td>...</td>\n",
              "      <td>B</td>\n",
              "      <td>A</td>\n",
              "      <td>B</td>\n",
              "      <td>C</td>\n",
              "      <td>A</td>\n",
              "      <td>A</td>\n",
              "      <td>E</td>\n",
              "      <td>A</td>\n",
              "      <td>B</td>\n",
              "      <td>B</td>\n",
              "    </tr>\n",
              "    <tr>\n",
              "      <th>2</th>\n",
              "      <td>2,10055E+11</td>\n",
              "      <td>2022</td>\n",
              "      <td>3</td>\n",
              "      <td>F</td>\n",
              "      <td>1</td>\n",
              "      <td>1</td>\n",
              "      <td>1</td>\n",
              "      <td>2</td>\n",
              "      <td>0</td>\n",
              "      <td>2</td>\n",
              "      <td>...</td>\n",
              "      <td>B</td>\n",
              "      <td>A</td>\n",
              "      <td>A</td>\n",
              "      <td>B</td>\n",
              "      <td>A</td>\n",
              "      <td>A</td>\n",
              "      <td>D</td>\n",
              "      <td>A</td>\n",
              "      <td>A</td>\n",
              "      <td>B</td>\n",
              "    </tr>\n",
              "    <tr>\n",
              "      <th>4</th>\n",
              "      <td>2,10055E+11</td>\n",
              "      <td>2022</td>\n",
              "      <td>2</td>\n",
              "      <td>F</td>\n",
              "      <td>1</td>\n",
              "      <td>1</td>\n",
              "      <td>1</td>\n",
              "      <td>2</td>\n",
              "      <td>0</td>\n",
              "      <td>2</td>\n",
              "      <td>...</td>\n",
              "      <td>B</td>\n",
              "      <td>A</td>\n",
              "      <td>B</td>\n",
              "      <td>C</td>\n",
              "      <td>B</td>\n",
              "      <td>A</td>\n",
              "      <td>E</td>\n",
              "      <td>A</td>\n",
              "      <td>C</td>\n",
              "      <td>B</td>\n",
              "    </tr>\n",
              "    <tr>\n",
              "      <th>5</th>\n",
              "      <td>2,10056E+11</td>\n",
              "      <td>2022</td>\n",
              "      <td>2</td>\n",
              "      <td>F</td>\n",
              "      <td>1</td>\n",
              "      <td>3</td>\n",
              "      <td>1</td>\n",
              "      <td>2</td>\n",
              "      <td>0</td>\n",
              "      <td>2</td>\n",
              "      <td>...</td>\n",
              "      <td>B</td>\n",
              "      <td>A</td>\n",
              "      <td>A</td>\n",
              "      <td>B</td>\n",
              "      <td>A</td>\n",
              "      <td>A</td>\n",
              "      <td>B</td>\n",
              "      <td>A</td>\n",
              "      <td>A</td>\n",
              "      <td>B</td>\n",
              "    </tr>\n",
              "    <tr>\n",
              "      <th>6</th>\n",
              "      <td>2,10058E+11</td>\n",
              "      <td>2022</td>\n",
              "      <td>3</td>\n",
              "      <td>F</td>\n",
              "      <td>1</td>\n",
              "      <td>1</td>\n",
              "      <td>1</td>\n",
              "      <td>2</td>\n",
              "      <td>0</td>\n",
              "      <td>2</td>\n",
              "      <td>...</td>\n",
              "      <td>B</td>\n",
              "      <td>A</td>\n",
              "      <td>A</td>\n",
              "      <td>B</td>\n",
              "      <td>A</td>\n",
              "      <td>A</td>\n",
              "      <td>D</td>\n",
              "      <td>A</td>\n",
              "      <td>B</td>\n",
              "      <td>B</td>\n",
              "    </tr>\n",
              "  </tbody>\n",
              "</table>\n",
              "<p>5 rows × 72 columns</p>\n",
              "</div>\n",
              "      <button class=\"colab-df-convert\" onclick=\"convertToInteractive('df-59e9bce1-70a2-4c20-ab70-5f05d89c90cf')\"\n",
              "              title=\"Convert this dataframe to an interactive table.\"\n",
              "              style=\"display:none;\">\n",
              "\n",
              "  <svg xmlns=\"http://www.w3.org/2000/svg\" height=\"24px\"viewBox=\"0 0 24 24\"\n",
              "       width=\"24px\">\n",
              "    <path d=\"M0 0h24v24H0V0z\" fill=\"none\"/>\n",
              "    <path d=\"M18.56 5.44l.94 2.06.94-2.06 2.06-.94-2.06-.94-.94-2.06-.94 2.06-2.06.94zm-11 1L8.5 8.5l.94-2.06 2.06-.94-2.06-.94L8.5 2.5l-.94 2.06-2.06.94zm10 10l.94 2.06.94-2.06 2.06-.94-2.06-.94-.94-2.06-.94 2.06-2.06.94z\"/><path d=\"M17.41 7.96l-1.37-1.37c-.4-.4-.92-.59-1.43-.59-.52 0-1.04.2-1.43.59L10.3 9.45l-7.72 7.72c-.78.78-.78 2.05 0 2.83L4 21.41c.39.39.9.59 1.41.59.51 0 1.02-.2 1.41-.59l7.78-7.78 2.81-2.81c.8-.78.8-2.07 0-2.86zM5.41 20L4 18.59l7.72-7.72 1.47 1.35L5.41 20z\"/>\n",
              "  </svg>\n",
              "      </button>\n",
              "\n",
              "\n",
              "\n",
              "    <div id=\"df-5dfb2c78-3a7d-4f33-846d-e4270467e683\">\n",
              "      <button class=\"colab-df-quickchart\" onclick=\"quickchart('df-5dfb2c78-3a7d-4f33-846d-e4270467e683')\"\n",
              "              title=\"Suggest charts.\"\n",
              "              style=\"display:none;\">\n",
              "\n",
              "<svg xmlns=\"http://www.w3.org/2000/svg\" height=\"24px\"viewBox=\"0 0 24 24\"\n",
              "     width=\"24px\">\n",
              "    <g>\n",
              "        <path d=\"M19 3H5c-1.1 0-2 .9-2 2v14c0 1.1.9 2 2 2h14c1.1 0 2-.9 2-2V5c0-1.1-.9-2-2-2zM9 17H7v-7h2v7zm4 0h-2V7h2v10zm4 0h-2v-4h2v4z\"/>\n",
              "    </g>\n",
              "</svg>\n",
              "      </button>\n",
              "    </div>\n",
              "\n",
              "<style>\n",
              "  .colab-df-quickchart {\n",
              "    background-color: #E8F0FE;\n",
              "    border: none;\n",
              "    border-radius: 50%;\n",
              "    cursor: pointer;\n",
              "    display: none;\n",
              "    fill: #1967D2;\n",
              "    height: 32px;\n",
              "    padding: 0 0 0 0;\n",
              "    width: 32px;\n",
              "  }\n",
              "\n",
              "  .colab-df-quickchart:hover {\n",
              "    background-color: #E2EBFA;\n",
              "    box-shadow: 0px 1px 2px rgba(60, 64, 67, 0.3), 0px 1px 3px 1px rgba(60, 64, 67, 0.15);\n",
              "    fill: #174EA6;\n",
              "  }\n",
              "\n",
              "  [theme=dark] .colab-df-quickchart {\n",
              "    background-color: #3B4455;\n",
              "    fill: #D2E3FC;\n",
              "  }\n",
              "\n",
              "  [theme=dark] .colab-df-quickchart:hover {\n",
              "    background-color: #434B5C;\n",
              "    box-shadow: 0px 1px 3px 1px rgba(0, 0, 0, 0.15);\n",
              "    filter: drop-shadow(0px 1px 2px rgba(0, 0, 0, 0.3));\n",
              "    fill: #FFFFFF;\n",
              "  }\n",
              "</style>\n",
              "\n",
              "    <script>\n",
              "      async function quickchart(key) {\n",
              "        const containerElement = document.querySelector('#' + key);\n",
              "        const charts = await google.colab.kernel.invokeFunction(\n",
              "            'suggestCharts', [key], {});\n",
              "      }\n",
              "    </script>\n",
              "\n",
              "      <script>\n",
              "\n",
              "function displayQuickchartButton(domScope) {\n",
              "  let quickchartButtonEl =\n",
              "    domScope.querySelector('#df-5dfb2c78-3a7d-4f33-846d-e4270467e683 button.colab-df-quickchart');\n",
              "  quickchartButtonEl.style.display =\n",
              "    google.colab.kernel.accessAllowed ? 'block' : 'none';\n",
              "}\n",
              "\n",
              "        displayQuickchartButton(document);\n",
              "      </script>\n",
              "      <style>\n",
              "    .colab-df-container {\n",
              "      display:flex;\n",
              "      flex-wrap:wrap;\n",
              "      gap: 12px;\n",
              "    }\n",
              "\n",
              "    .colab-df-convert {\n",
              "      background-color: #E8F0FE;\n",
              "      border: none;\n",
              "      border-radius: 50%;\n",
              "      cursor: pointer;\n",
              "      display: none;\n",
              "      fill: #1967D2;\n",
              "      height: 32px;\n",
              "      padding: 0 0 0 0;\n",
              "      width: 32px;\n",
              "    }\n",
              "\n",
              "    .colab-df-convert:hover {\n",
              "      background-color: #E2EBFA;\n",
              "      box-shadow: 0px 1px 2px rgba(60, 64, 67, 0.3), 0px 1px 3px 1px rgba(60, 64, 67, 0.15);\n",
              "      fill: #174EA6;\n",
              "    }\n",
              "\n",
              "    [theme=dark] .colab-df-convert {\n",
              "      background-color: #3B4455;\n",
              "      fill: #D2E3FC;\n",
              "    }\n",
              "\n",
              "    [theme=dark] .colab-df-convert:hover {\n",
              "      background-color: #434B5C;\n",
              "      box-shadow: 0px 1px 3px 1px rgba(0, 0, 0, 0.15);\n",
              "      filter: drop-shadow(0px 1px 2px rgba(0, 0, 0, 0.3));\n",
              "      fill: #FFFFFF;\n",
              "    }\n",
              "  </style>\n",
              "\n",
              "      <script>\n",
              "        const buttonEl =\n",
              "          document.querySelector('#df-59e9bce1-70a2-4c20-ab70-5f05d89c90cf button.colab-df-convert');\n",
              "        buttonEl.style.display =\n",
              "          google.colab.kernel.accessAllowed ? 'block' : 'none';\n",
              "\n",
              "        async function convertToInteractive(key) {\n",
              "          const element = document.querySelector('#df-59e9bce1-70a2-4c20-ab70-5f05d89c90cf');\n",
              "          const dataTable =\n",
              "            await google.colab.kernel.invokeFunction('convertToInteractive',\n",
              "                                                     [key], {});\n",
              "          if (!dataTable) return;\n",
              "\n",
              "          const docLinkHtml = 'Like what you see? Visit the ' +\n",
              "            '<a target=\"_blank\" href=https://colab.research.google.com/notebooks/data_table.ipynb>data table notebook</a>'\n",
              "            + ' to learn more about interactive tables.';\n",
              "          element.innerHTML = '';\n",
              "          dataTable['output_type'] = 'display_data';\n",
              "          await google.colab.output.renderOutput(dataTable, element);\n",
              "          const docLink = document.createElement('div');\n",
              "          docLink.innerHTML = docLinkHtml;\n",
              "          element.appendChild(docLink);\n",
              "        }\n",
              "      </script>\n",
              "    </div>\n",
              "  </div>\n"
            ]
          },
          "metadata": {},
          "execution_count": 38
        }
      ]
    },
    {
      "cell_type": "markdown",
      "source": [
        "Dica:\n",
        "\n",
        "df_mulher = df.loc[df.SEXO == 'Feminino']"
      ],
      "metadata": {
        "id": "10n54pEuyb3e"
      }
    },
    {
      "cell_type": "code",
      "source": [],
      "metadata": {
        "id": "4MTAnxoumRiy"
      },
      "execution_count": null,
      "outputs": []
    },
    {
      "cell_type": "markdown",
      "source": [
        "## 13) <font color='#005DAA'><b> Faça um gráfico diferente do anterior para a nota de matemática dos alunos de SC."
      ],
      "metadata": {
        "id": "tKNewGohhZq6"
      }
    },
    {
      "cell_type": "code",
      "source": [
        "sns.boxplot(y = df1_sc['NOTA_MT'])\n",
        "plt.ylabel('Notas de Matemática')\n",
        "plt.show()"
      ],
      "metadata": {
        "colab": {
          "base_uri": "https://localhost:8080/",
          "height": 411
        },
        "id": "rvalSPutnBII",
        "outputId": "325dbc95-666f-42fa-af8b-3e12535a795c"
      },
      "execution_count": null,
      "outputs": [
        {
          "output_type": "display_data",
          "data": {
            "text/plain": [
              "<Figure size 640x480 with 1 Axes>"
            ],
            "image/png": "[encoded data removed]"
          },
          "metadata": {}
        }
      ]
    },
    {
      "cell_type": "markdown",
      "source": [
        "Para fazer o gráfico de boxplot, use a biblioteca Seaborn\n",
        "\n",
        "Crie o gráfico de boxplot\n",
        "\n",
        "sns.boxplot(x=df ['NOME DA COLUNA DO DATAFRAME'])\n",
        "\n",
        "Defina o rótulo do eixo x\n",
        "\n",
        "plt.xlabel('NOME DA VARIÁVEL')\n",
        "\n",
        "plt.show()\n"
      ],
      "metadata": {
        "id": "0oePEMY0aTRm"
      }
    },
    {
      "cell_type": "markdown",
      "source": [
        "## 14) <font color='#005DAA'><b> Personalize seu gráfico, adicionando outros parâmetros."
      ],
      "metadata": {
        "id": "SxOFtNh9fJ49"
      }
    },
    {
      "cell_type": "code",
      "source": [
        "# Box-plot personalizado\n",
        "sns.boxplot(y='NOTA_MT', data = df1_sc, color='#ADE3F8', showmeans=True)\n",
        "\n",
        "# Defina o rótulo do eixo x\n",
        "plt.ylabel('Notas de Matemática')\n",
        "\n",
        "# Exiba o gráfico\n",
        "plt.show()"
      ],
      "metadata": {
        "colab": {
          "base_uri": "https://localhost:8080/",
          "height": 411
        },
        "id": "dagCgfh1bHqI",
        "outputId": "e544ece8-4c78-4bb8-ac79-e6622f624d13"
      },
      "execution_count": null,
      "outputs": [
        {
          "output_type": "display_data",
          "data": {
            "text/plain": [
              "<Figure size 640x480 with 1 Axes>"
            ],
            "image/png": "[encoded data removed]"
          },
          "metadata": {}
        }
      ]
    },
    {
      "cell_type": "markdown",
      "source": [
        "Parâmetros que podem ser utilizados no boxplot\n",
        "\n",
        "**color**: Define a cor do boxplot.\n",
        "\n",
        "linewidth: Define a largura da linha que representa os limites do\n",
        "boxplot.\n",
        "\n",
        "whis: Define a amplitude dos bigodes. Por padrão, é 1.5.\n",
        "\n",
        "**showmeans**: Se definido como True, mostra a linha que representa a média.\n",
        "\n",
        "meanline: Se definido como True, adiciona uma linha vertical na média.\n",
        "\n",
        "showfliers: Se definido como False, não exibe os outliers.\n",
        "\n",
        "labels: Permite renomear as etiquetas do eixo x.\n",
        "plt.ylabel('variável) - para o gráfico ficar na vertical\n",
        "\n",
        "title: Define o título do gráfico.\n",
        "\n",
        "xlabel e ylabel: Definem os rótulos dos eixos x e y, respectivamente.\n"
      ],
      "metadata": {
        "id": "cScPnjyLCOBf"
      }
    },
    {
      "cell_type": "markdown",
      "source": [
        "## 15) <font color='#005DAA'><b> Calcule o Quartil1 e o Quartil3 das notas de matemática. Interprete o valor do Quartil 3.\n",
        "Exemplo:\n",
        "\n",
        "quartil1 = df['variável'].quantile(0.25)"
      ],
      "metadata": {
        "id": "gFrbg_3rMq7t"
      }
    },
    {
      "cell_type": "code",
      "source": [
        "q1 = df1_sc['NOTA_MT'].quantile(0.25)\n",
        "print(q1)\n",
        "q3 = df1_sc['NOTA_MT'].quantile(0.75)\n",
        "print(q3)\n",
        "\n",
        "IRQ = q3 - q1\n",
        "print(IRQ)\n",
        "\n",
        "limite1 = q3+1.5*IRQ\n",
        "print(limite1)\n",
        "\n",
        "limite2 = q1+1.5*IRQ\n",
        "print(limite2)"
      ],
      "metadata": {
        "colab": {
          "base_uri": "https://localhost:8080/"
        },
        "id": "nxVpJnw1ox3N",
        "outputId": "a3f26f8b-facf-495b-85fa-d83b1d4e7e8c"
      },
      "execution_count": 39,
      "outputs": [
        {
          "output_type": "stream",
          "name": "stdout",
          "text": [
            "482.875\n",
            "644.6\n",
            "161.72500000000002\n",
            "887.1875\n",
            "725.4625000000001\n"
          ]
        }
      ]
    },
    {
      "cell_type": "markdown",
      "source": [
        "## 16) <font color='#005DAA'><b> Quanto alunos de SC são outliers, considerando apenas a nota de matemática?"
      ],
      "metadata": {
        "id": "bw3nL4-6GNaj"
      }
    },
    {
      "cell_type": "code",
      "source": [
        "# Calcule o IQR e o limiteIQR\n",
        "\n",
        "IQR = q3-q1\n",
        "print(IQR)\n",
        "limiteIQR =q3 + 1.5 * IQR\n",
        "print(limiteIQR)\n"
      ],
      "metadata": {
        "colab": {
          "base_uri": "https://localhost:8080/"
        },
        "id": "Vf6jl3ApGhUd",
        "outputId": "ebcdea66-16a4-4f36-a7a9-e37dc414153d"
      },
      "execution_count": 40,
      "outputs": [
        {
          "output_type": "stream",
          "name": "stdout",
          "text": [
            "161.72500000000002\n",
            "887.1875\n"
          ]
        }
      ]
    },
    {
      "cell_type": "code",
      "source": [
        "# Selecionar apenas os alunos com Nota de matemática > q3 + 1.5*IQR (limite para que a observação seja um outlier)\n",
        "\n",
        "df_outliers_mt = df1_sc[df1_sc['NOTA_MT'] > limiteIQR]"
      ],
      "metadata": {
        "id": "UFoQk6L1HrCb"
      },
      "execution_count": 41,
      "outputs": []
    },
    {
      "cell_type": "code",
      "source": [
        "# aplique um \"describe\" na notas de matemática apenas deste grupo de outliers\n",
        "\n",
        "df_outliers_mt.NOTA_MT.describe()"
      ],
      "metadata": {
        "id": "USH76oFaL9eJ",
        "colab": {
          "base_uri": "https://localhost:8080/"
        },
        "outputId": "868223ca-fcaa-4724-d3c8-df8381739f17"
      },
      "execution_count": 42,
      "outputs": [
        {
          "output_type": "execute_result",
          "data": {
            "text/plain": [
              "count     23.000000\n",
              "mean     915.908696\n",
              "std       23.760431\n",
              "min      890.800000\n",
              "25%      897.250000\n",
              "50%      906.600000\n",
              "75%      926.700000\n",
              "max      971.300000\n",
              "Name: NOTA_MT, dtype: float64"
            ]
          },
          "metadata": {},
          "execution_count": 42
        }
      ]
    },
    {
      "cell_type": "markdown",
      "source": [
        "## 17) <font color='#005DAA'><b> Renomeie a variável TP_SEXO para SEXO e faça a análise das notas de matemática por SEXO.\n",
        "\n"
      ],
      "metadata": {
        "id": "dEWG74mBrdKg"
      }
    },
    {
      "cell_type": "code",
      "source": [
        "df1_sc=df1_sc.rename(columns={'TP_SEXO':'SEXO'})"
      ],
      "metadata": {
        "id": "r776rxLDtkN9"
      },
      "execution_count": 46,
      "outputs": []
    },
    {
      "cell_type": "markdown",
      "source": [
        "Renomeie a variável TP_SEXO para SEXO"
      ],
      "metadata": {
        "id": "IGU_gse20OP5"
      }
    },
    {
      "cell_type": "markdown",
      "source": [
        "Dica:\n",
        "\n",
        "df=df.rename(columns={'NOME_VELHO' : 'NOME_NOVO'})"
      ],
      "metadata": {
        "id": "ZT4m1D6Qr8cv"
      }
    },
    {
      "cell_type": "code",
      "source": [
        "# Faça o Histograma ou BoxPlot das Notas de Matemática por SEXO\n",
        "import plotly.express as px\n",
        "grafico2 =  px.histogram (df1_sc,  x = \"NOTA_MT\", nbins=40, histnorm='probability', color='SEXO',color_discrete_sequence=['#005DAA', '#ADE3F8'])\n",
        "grafico2.update_layout(width=600,height=500, title_font_color = '#005DAA', title={\n",
        "        'text': 'Notas Matemática - SC - ENEM 2022',\n",
        "        'x': 0.5,\n",
        "        'xanchor': 'center'\n",
        "    })\n",
        "grafico2.update_xaxes(title_text=\"Notas de Matemática\")\n",
        "#grafico2.update_traces(marker_color='#005DAA')\n",
        "#grafico2.update_traces(marker_color={'F': '#005DAA', 'M': '#ADE3F8'}) # Altere as cores conforme necessário\n",
        "grafico2.show()"
      ],
      "metadata": {
        "id": "dni8z_LLxvvg",
        "colab": {
          "base_uri": "https://localhost:8080/",
          "height": 517
        },
        "outputId": "0433f8df-fb93-4336-d131-e5f5e5f56037"
      },
      "execution_count": 60,
      "outputs": [
        {
          "output_type": "display_data",
          "data": {
            "text/html": [
              "<html>\n",
              "<head><meta charset=\"utf-8\" /></head>\n",
              "<body>\n",
              "    <div>            <script src=\"https://cdnjs.cloudflare.com/ajax/libs/mathjax/2.7.5/MathJax.js?config=TeX-AMS-MML_SVG\"></script><script type=\"text/javascript\">if (window.MathJax && window.MathJax.Hub && window.MathJax.Hub.Config) {window.MathJax.Hub.Config({SVG: {font: \"STIX-Web\"}});}</script>                <script type=\"text/javascript\">window.PlotlyConfig = {MathJaxConfig: 'local'};</script>\n",
              "        <script src=\"https://cdn.plot.ly/plotly-2.18.2.min.js\"></script>                <div id=\"47d237e1-a15c-4ac8-86d0-36d7c79c2203\" class=\"plotly-graph-div\" style=\"height:500px; width:600px;\"></div>            <script type=\"text/javascript\">                                    window.PLOTLYENV=window.PLOTLYENV || {};                                    if (document.getElementById(\"47d237e1-a15c-4ac8-86d0-36d7c79c2203\")) {                    Plotly.newPlot(                        \"47d237e1-a15c-4ac8-86d0-36d7c79c2203\",                        [{\"alignmentgroup\":\"True\",\"bingroup\":\"x\",\"histnorm\":\"probability\",\"hovertemplate\":\"SEXO=F<br>NOTA_MT=%{x}<br>probability=%{y}<extra></extra>\",\"legendgroup\":\"F\",\"marker\":{\"color\":\"#005DAA\",\"pattern\":{\"shape\":\"\"}},\"name\":\"F\",\"nbinsx\":40,\"offsetgroup\":\"F\",\"orientation\":\"v\",\"showlegend\":true,\"x\":[472.4,582.3,629.8,569.4,745.0,460.5,491.6,598.5,464.5,null,418.4,555.0,null,478.9,586.7,477.0,null,536.0,688.5,null,682.6,625.2,493.9,417.1,539.0,382.5,442.3,488.2,429.5,747.1,396.5,533.0,null,null,null,641.9,null,517.4,null,580.8,null,693.7,650.2,null,611.3,404.9,640.1,613.2,546.0,585.1,450.4,382.5,382.7,592.3,null,405.8,644.1,776.2,552.6,517.8,471.9,658.9,492.1,null,407.5,805.1,581.1,641.4,405.5,711.8,631.5,643.9,550.3,608.3,504.9,493.0,575.7,null,547.1,474.8,590.8,613.0,359.0,484.2,null,null,null,704.4,528.8,null,null,501.1,515.1,469.7,656.4,null,470.6,662.9,550.3,669.4,483.9,529.5,478.5,587.6,699.2,412.1,528.6,784.2,null,460.4,578.5,560.4,451.1,535.5,null,null,null,648.4,null,639.4,523.2,564.9,499.3,439.4,588.6,546.8,609.2,null,512.7,494.0,432.9,null,null,585.8,581.5,606.5,584.3,589.4,404.7,566.8,488.8,588.0,516.9,475.2,null,566.8,null,484.2,465.1,421.3,null,400.4,786.2,644.3,711.2,null,444.5,null,400.4,null,null,495.8,null,431.3,null,455.5,558.9,null,766.0,509.6,null,461.0,535.6,629.5,582.4,608.7,481.5,535.3,661.7,539.0,418.5,436.6,null,458.3,819.9,494.2,588.2,null,622.8,661.8,424.0,768.1,670.3,502.6,null,null,474.0,345.7,null,386.3,420.9,522.9,null,489.8,null,468.8,742.3,396.9,518.4,764.4,579.1,701.9,664.4,611.6,480.5,675.7,615.1,null,613.2,null,436.1,null,640.7,617.8,520.5,458.1,null,461.4,860.8,582.6,456.4,672.1,456.4,596.6,394.0,743.2,720.7,599.5,723.3,477.5,359.1,616.2,null,512.7,null,647.5,359.3,null,442.5,null,656.0,570.8,586.6,707.7,706.9,536.4,494.7,401.8,635.4,null,525.0,733.8,null,639.1,420.3,466.0,384.2,625.8,469.2,441.9,700.6,446.8,530.7,441.4,597.8,433.2,571.6,null,673.6,null,559.3,381.5,693.5,669.7,753.9,405.3,572.4,617.6,648.8,480.9,null,494.9,445.1,547.1,441.1,513.3,856.9,581.4,591.3,614.1,494.2,591.6,545.8,null,587.0,623.7,524.8,null,null,678.7,611.6,null,null,488.9,625.1,368.6,638.5,842.0,545.5,495.0,443.3,null,609.1,679.2,704.8,458.2,560.5,475.7,569.1,433.2,548.1,511.7,618.2,698.9,609.7,448.1,375.1,593.4,505.4,null,631.0,null,null,765.8,766.6,null,419.2,null,373.0,null,581.4,596.4,698.4,425.5,752.3,507.1,575.3,null,385.3,407.3,509.6,null,null,null,446.5,568.9,375.7,502.5,605.1,421.2,597.4,714.6,588.3,null,508.7,529.6,505.8,511.1,null,857.5,792.2,561.9,358.6,465.6,552.1,749.6,482.5,803.1,468.2,456.7,null,485.3,427.8,550.0,478.1,831.0,524.1,null,568.5,null,469.4,564.9,null,null,643.6,411.2,376.8,null,492.5,617.0,null,null,430.2,507.9,525.0,352.3,562.3,567.8,497.4,568.2,null,402.0,null,559.7,373.9,null,null,589.0,450.9,432.1,573.3,647.5,null,610.6,642.7,762.8,664.0,917.1,545.5,528.2,465.8,null,414.7,465.7,null,624.2,662.1,354.0,425.1,388.5,372.4,720.9,null,561.0,566.8,null,636.5,395.3,609.3,null,null,424.6,null,495.3,436.6,738.3,640.3,543.1,476.0,589.0,575.3,575.2,434.9,676.4,null,null,610.3,639.5,508.6,458.0,657.4,643.0,544.8,574.9,547.7,null,692.5,499.4,536.0,null,null,597.3,580.0,668.9,null,762.3,545.2,439.3,601.8,561.4,666.3,491.9,491.9,639.0,477.1,568.3,null,525.8,null,648.4,560.8,624.5,380.9,494.4,488.7,651.7,523.5,649.5,505.8,648.7,479.3,516.9,661.0,454.3,null,null,459.1,544.7,693.9,null,648.2,515.5,null,677.5,504.2,511.9,null,680.3,374.0,545.7,null,null,680.7,427.9,635.9,520.3,556.4,499.0,562.7,659.8,484.1,417.5,404.1,375.6,417.3,550.9,558.0,503.4,457.8,387.0,655.8,null,509.7,565.0,530.6,null,430.0,651.6,683.7,null,null,489.9,null,551.4,null,513.1,450.5,565.1,null,469.5,651.4,490.8,null,502.3,512.7,null,389.4,612.2,null,536.7,820.2,504.2,418.5,648.8,452.7,null,null,524.6,401.7,766.9,null,675.5,457.6,492.6,601.7,603.4,529.8,723.1,440.1,678.6,831.9,null,546.3,null,612.3,null,618.1,394.5,null,664.3,472.3,390.2,370.8,484.3,429.1,null,499.2,648.5,496.0,501.0,530.0,565.9,433.1,729.0,645.6,656.9,630.0,610.3,542.1,813.7,692.0,null,null,504.0,null,629.0,641.0,531.0,516.8,null,602.5,614.7,613.0,558.1,597.7,387.6,null,null,623.8,656.3,null,521.9,427.5,null,null,679.4,662.1,594.4,472.7,634.4,447.6,518.0,554.7,535.2,759.7,null,null,null,538.5,540.0,444.3,551.7,null,null,644.4,null,358.1,654.8,405.7,null,null,543.3,586.1,null,null,379.1,null,574.1,null,682.5,null,null,478.5,533.2,822.2,508.2,580.6,null,null,601.8,594.7,572.3,642.0,null,628.4,616.5,371.1,477.0,612.2,449.4,438.7,522.2,null,531.3,null,774.7,591.2,637.5,615.8,549.7,513.9,null,510.7,null,627.1,null,356.7,473.7,531.5,507.7,522.6,634.6,null,669.4,583.2,355.7,null,585.9,520.8,null,null,413.5,430.7,665.3,null,null,582.5,null,477.4,null,428.7,630.0,577.1,505.9,584.0,591.3,620.2,607.5,702.1,708.5,524.6,553.4,438.8,554.6,640.4,605.3,null,610.3,426.5,372.8,492.8,458.5,null,470.4,667.6,380.6,651.8,635.0,609.1,null,751.3,null,700.2,null,572.2,null,496.8,697.2,605.9,null,null,null,707.7,706.8,575.4,383.1,719.8,453.2,522.1,641.8,616.0,509.2,462.9,391.0,null,null,344.8,null,null,null,566.4,630.7,681.4,379.0,577.5,682.9,362.2,588.6,596.8,627.4,386.9,null,660.3,601.1,574.5,748.3,561.9,614.0,601.9,578.6,626.7,626.1,561.6,698.3,582.3,407.9,559.7,618.7,466.5,519.1,489.1,581.8,null,586.8,592.6,596.1,714.6,640.9,null,432.2,721.4,null,581.7,442.4,409.8,733.4,null,614.1,null,448.7,463.8,740.2,592.4,431.3,415.4,476.3,null,666.9,610.9,644.4,564.9,527.5,629.3,null,621.5,530.9,731.3,null,366.8,566.3,563.7,642.5,644.3,606.3,635.2,null,null,null,508.3,342.9,559.4,596.0,494.4,512.3,648.8,385.7,517.2,481.6,null,null,424.8,650.0,593.4,634.1,642.1,445.2,487.3,null,399.0,663.8,552.3,null,null,378.4,476.0,616.8,454.8,552.2,619.9,437.6,null,572.8,419.0,363.8,687.8,608.6,null,550.5,525.7,null,563.9,768.8,549.7,822.1,569.8,null,638.9,645.4,null,null,null,674.7,575.9,465.8,null,446.0,801.2,404.1,488.9,645.2,null,722.1,578.6,null,619.0,449.1,null,502.2,566.0,636.8,null,449.9,383.1,532.3,675.1,519.6,null,null,441.5,453.6,488.3,597.2,null,549.5,670.9,594.7,null,null,421.6,510.2,519.1,null,498.3,null,null,626.7,646.0,454.5,548.5,486.1,570.8,null,486.8,null,552.8,468.0,503.9,761.2,524.0,511.0,575.2,431.3,411.6,null,null,null,null,761.4,547.9,604.7,485.7,599.5,513.7,581.3,433.7,502.8,637.9,645.7,null,408.1,597.9,474.2,486.7,411.5,471.5,725.8,691.2,499.5,null,545.0,579.0,629.3,347.9,615.0,null,null,469.1,608.4,406.1,null,null,643.5,595.1,477.0,665.8,476.1,647.1,506.7,506.2,null,455.6,null,363.7,null,512.2,535.1,618.4,454.8,544.6,460.0,654.5,367.1,615.3,459.2,694.5,376.5,534.8,null,559.7,601.8,552.5,725.0,490.1,430.2,502.1,598.1,553.4,746.4,566.1,576.3,null,406.2,525.3,604.2,577.5,null,444.4,719.7,703.2,null,545.0,410.9,554.5,null,419.0,461.8,614.4,552.2,566.6,627.9,463.0,820.3,423.7,592.7,470.2,455.1,null,723.3,567.6,416.6,588.8,661.7,647.3,434.9,420.1,749.1,548.0,459.3,431.0,601.6,null,401.8,600.6,null,662.8,null,679.7,441.7,658.7,null,519.7,608.1,584.1,408.4,null,604.2,539.5,600.7,null,456.0,618.4,null,563.0,702.3,599.5,432.0,487.1,588.4,720.0,475.4,491.6,604.2,null,401.4,null,562.1,380.6,450.5,null,408.1,null,420.8,407.3,null,null,625.4,453.3,436.0,486.2,510.0,633.7,null,421.7,null,null,545.7,null,460.3,448.4,null,657.1,544.7,null,null,613.0,642.1,691.5,507.2,585.5,null,629.1,619.2,700.6,564.3,545.6,536.9,482.4,442.3,583.5,null,390.4,491.6,null,443.7,534.1,565.9,688.9,582.7,663.6,670.4,570.7,null,null,505.4,387.8,587.5,null,525.4,408.3,null,464.7,673.4,null,null,null,null,null,440.7,646.7,null,543.3,480.2,678.5,738.2,602.1,null,652.4,null,486.9,731.4,587.3,393.0,558.3,null,542.3,522.6,410.3,605.0,519.8,625.4,411.6,453.6,522.9,762.4,470.1,559.5,387.5,458.2,633.5,475.5,571.7,null,null,508.1,496.2,500.0,688.4,388.3,722.6,544.4,630.5,381.8,707.9,389.0,638.4,452.3,550.9,null,567.1,420.2,647.5,410.0,519.7,414.1,657.7,501.6,618.9,577.1,null,557.2,619.9,null,554.5,424.6,null,403.7,686.5,466.2,588.2,532.0,482.1,null,657.7,410.1,null,483.9,604.4,null,null,585.6,559.4,null,null,573.2,571.5,479.1,451.4,null,null,null,574.6,384.2,506.3,null,null,643.9,487.0,406.3,null,632.6,466.4,476.9,738.1,null,387.7,null,null,618.6,null,543.8,null,548.9,474.6,827.7,513.4,null,null,null,499.4,429.2,645.4,377.7,479.4,null,542.5,564.9,615.6,null,560.4,null,null,717.1,588.6,562.3,null,552.2,466.8,396.0,628.1,453.5,null,null,493.3,481.9,418.4,588.3,605.3,null,null,null,611.2,476.1,624.4,587.7,515.5,612.6,542.9,373.8,null,354.7,717.9,449.2,529.7,null,564.1,546.3,355.9,524.8,486.5,620.9,519.9,571.0,561.5,569.5,null,null,493.1,507.4,548.1,727.3,549.5,676.4,null,594.7,472.0,null,448.4,559.5,562.1,null,null,477.1,null,null,487.2,null,566.6,683.4,504.1,603.0,null,396.3,null,null,413.8,410.6,625.4,605.6,375.8,null,null,780.4,734.1,405.0,524.8,548.0,null,535.9,515.6,459.9,701.1,539.3,506.8,null,null,null,535.4,522.5,575.9,374.4,649.7,445.7,null,492.7,495.4,null,422.8,581.2,null,441.9,550.0,422.9,630.1,null,585.5,625.6,358.0,null,611.8,624.7,530.6,607.4,590.4,null,805.0,549.5,null,579.2,485.7,676.7,381.0,587.2,475.6,579.1,null,null,null,699.5,638.8,777.3,389.5,698.3,527.3,648.9,null,null,646.4,null,560.3,458.3,410.5,602.1,null,513.3,null,null,null,702.8,null,605.1,540.6,541.0,467.8,423.6,411.7,null,406.1,519.5,384.7,586.2,513.3,null,558.5,604.9,414.4,509.6,501.4,468.2,490.8,null,589.3,463.5,481.7,669.3,661.0,null,null,530.7,604.7,439.7,505.2,723.1,null,null,475.2,null,null,501.8,477.9,618.3,744.1,538.8,558.8,null,426.7,410.2,473.2,746.2,379.8,null,null,567.8,723.0,532.1,null,372.2,null,483.1,590.4,null,null,382.2,null,633.5,453.7,null,471.4,434.3,584.0,644.9,null,712.9,649.6,null,678.6,519.9,431.0,634.3,619.6,484.7,537.0,659.7,612.5,523.5,573.1,402.8,628.6,378.7,520.6,498.9,596.5,589.9,516.1,409.2,null,null,425.3,null,412.2,null,null,479.5,482.1,null,null,494.3,409.8,null,396.7,563.9,599.4,469.2,447.7,629.5,623.5,372.3,529.1,445.6,null,577.5,null,616.6,null,626.9,486.4,441.3,427.4,381.8,498.3,717.3,528.2,577.3,563.1,null,635.3,null,null,419.3,478.0,687.5,418.5,503.8,null,488.4,null,502.6,592.1,null,null,414.1,462.8,null,392.5,499.0,590.7,706.2,635.1,591.3,498.1,578.1,464.1,568.0,null,null,586.8,725.1,640.0,579.4,622.4,523.3,432.6,546.0,496.3,494.9,735.2,789.5,514.2,583.9,417.4,566.0,595.2,364.8,575.2,433.7,460.4,401.4,null,null,null,664.4,750.2,null,566.0,380.0,null,530.9,657.3,427.0,694.0,528.0,458.8,461.1,null,414.4,367.9,455.8,null,618.2,null,715.2,460.0,696.2,651.1,430.8,619.6,698.2,471.4,420.2,418.9,632.6,498.3,440.6,512.8,null,427.5,494.9,null,757.1,627.7,575.5,460.2,668.1,null,526.4,436.0,499.1,null,null,458.2,676.9,772.2,561.6,null,637.6,null,614.3,null,null,415.1,761.5,null,677.9,527.2,594.6,589.1,null,null,530.2,482.3,557.8,593.8,624.0,null,549.6,763.5,458.6,585.1,389.1,580.9,null,406.1,637.1,665.2,null,446.1,550.2,595.0,471.7,null,531.5,552.3,null,422.9,531.9,577.9,415.7,610.5,603.3,445.1,571.1,448.1,361.2,590.2,null,532.7,null,646.6,485.9,null,757.4,382.4,741.1,620.3,506.6,null,676.2,552.6,632.4,579.2,405.6,483.4,null,null,null,675.6,412.0,446.1,605.0,664.3,534.7,null,null,null,574.4,781.6,720.7,351.5,null,418.5,486.5,551.6,555.5,560.3,373.5,581.1,null,536.0,418.6,523.8,564.3,373.4,493.2,null,586.8,602.7,410.4,537.7,392.6,558.8,null,null,439.5,421.4,611.9,665.8,564.5,748.3,622.4,728.9,527.3,793.3,551.7,375.4,731.2,487.2,444.5,576.4,378.0,392.2,702.9,444.5,null,478.7,707.8,519.1,470.0,null,null,633.0,511.2,553.4,null,406.3,444.5,524.9,619.9,557.2,534.1,576.2,498.3,647.0,null,720.8,null,503.3,null,622.7,554.4,503.9,570.0,658.6,517.5,429.3,429.6,454.9,513.7,533.7,598.0,null,null,540.2,463.4,648.0,null,447.2,null,480.2,589.4,474.5,null,539.7,558.6,511.6,554.9,446.1,521.1,457.2,null,609.3,423.9,500.1,null,625.5,572.0,548.5,622.1,null,null,456.0,575.3,483.1,null,543.9,657.5,396.2,373.7,518.4,494.8,null,785.8,null,437.6,456.3,null,661.4,443.3,null,553.0,null,null,null,599.0,861.0,543.7,453.1,461.0,518.4,null,null,null,null,654.6,467.6,448.5,433.6,null,501.3,503.3,615.0,null,544.0,510.3,508.9,null,655.0,743.4,503.7,519.9,504.3,null,520.2,464.5,704.3,543.7,712.7,648.3,null,523.0,null,null,634.7,409.1,null,660.1,396.2,681.3,502.7,483.8,646.2,471.2,564.8,null,488.3,null,378.6,728.2,522.8,437.8,582.1,599.7,370.4,null,542.4,null,708.8,null,null,405.3,null,null,477.3,654.3,668.6,null,680.9,544.7,null,null,569.0,652.1,438.3,543.8,595.9,null,532.6,null,null,null,622.2,514.8,434.0,466.3,381.2,null,623.1,null,510.3,null,null,517.9,576.5,351.0,630.1,null,452.1,null,526.8,null,703.6,null,648.4,null,null,476.6,618.2,704.2,519.1,578.6,null,477.4,null,574.3,null,574.2,769.5,565.0,null,642.7,null,441.7,636.2,440.0,459.1,null,null,null,null,390.1,365.7,null,404.0,null,487.4,590.4,416.1,753.2,604.8,464.5,443.7,615.9,null,692.7,360.7,null,525.4,536.9,null,null,593.3,538.8,631.2,826.1,567.1,835.2,473.1,572.3,null,496.4,729.8,691.4,null,755.4,644.4,522.6,569.4,534.6,364.7,673.9,493.1,421.9,662.7,549.4,552.3,524.6,null,null,490.8,null,null,516.7,662.2,364.2,705.2,null,358.1,594.1,625.4,672.8,672.6,503.7,null,442.3,null,null,null,614.7,null,473.7,391.0,556.0,548.0,null,654.8,585.8,600.2,575.5,465.1,686.8,844.4,null,null,529.5,635.5,635.3,806.8,766.7,457.9,765.2,430.0,null,652.1,null,527.7,687.5,530.5,null,390.2,395.1,604.1,414.3,null,659.9,753.4,663.5,615.8,null,554.4,525.6,588.0,487.1,605.8,532.9,null,448.1,null,null,null,null,null,null,430.3,761.3,null,688.4,null,498.8,446.3,654.8,534.6,800.7,619.3,490.5,615.7,722.7,527.0,602.7,352.5,454.5,877.5,393.6,383.3,409.1,434.7,null,525.6,364.9,466.3,643.4,604.1,null,null,480.5,512.1,484.7,500.5,647.9,null,682.7,486.1,578.0,534.7,625.0,371.3,586.7,866.2,445.7,460.0,null,569.7,627.8,458.3,476.3,528.2,696.4,null,449.5,790.2,414.2,849.8,442.2,null,null,null,399.3,471.6,null,721.5,498.0,401.8,732.6,null,null,572.2,445.9,514.2,528.1,392.1,null,null,785.8,424.0,561.6,538.6,448.2,532.4,null,472.0,486.5,null,null,417.5,null,462.5,null,443.6,533.6,424.3,null,491.8,null,433.9,426.4,564.7,648.0,505.2,551.8,null,643.6,542.4,null,603.8,487.7,666.8,613.8,459.9,null,null,813.8,412.3,583.6,669.0,419.7,498.4,null,null,566.0,521.3,null,523.1,682.8,526.9,487.0,670.1,null,826.8,508.8,null,443.6,459.0,null,null,635.9,439.5,621.4,null,null,536.1,451.1,402.1,359.9,373.7,686.9,357.3,460.1,null,null,null,890.8,366.7,655.1,null,502.5,484.7,400.4,null,659.7,505.5,750.9,858.2,686.4,578.7,502.8,471.3,593.4,600.9,569.5,null,420.0,null,537.7,492.4,null,null,760.4,746.4,368.9,643.5,570.0,644.3,418.3,891.3,559.2,682.2,606.5,728.0,621.5,395.9,577.8,684.4,635.6,485.4,690.4,null,625.4,610.1,null,525.0,514.6,544.9,457.5,420.1,601.2,null,null,565.3,476.6,548.6,573.1,null,521.3,457.9,627.3,null,null,495.1,null,null,446.2,408.4,666.3,569.2,436.3,628.4,379.1,460.3,482.9,536.2,null,518.9,437.3,433.9,503.0,782.1,439.7,639.5,401.9,null,null,584.7,682.7,null,580.2,null,null,485.5,488.8,460.5,526.2,699.4,804.0,489.1,null,703.9,717.4,null,376.3,702.0,395.6,496.8,null,689.2,499.0,null,524.0,417.3,null,682.7,null,392.4,552.0,649.6,859.2,495.4,457.8,644.0,468.5,null,653.2,553.0,null,432.4,706.6,399.0,713.6,486.9,391.6,null,544.4,593.3,500.0,527.4,758.7,591.3,602.2,641.5,772.5,464.2,null,520.7,null,609.8,358.6,null,672.0,626.1,null,null,null,null,395.1,545.0,552.7,692.1,null,657.2,null,613.7,470.5,662.2,702.3,564.5,543.9,578.2,452.1,562.5,594.5,526.8,605.4,632.6,614.4,610.6,448.8,592.8,490.7,585.3,583.9,497.6,536.9,647.2,688.5,586.9,742.7,655.2,670.6,574.7,null,426.9,560.9,529.0,487.7,null,497.9,601.4,681.6,459.2,null,716.4,598.9,399.2,792.8,599.0,742.5,604.7,null,null,653.8,706.2,698.7,476.1,495.1,636.5,509.6,450.8,684.2,623.3,760.9,null,443.4,644.1,null,null,null,552.7,666.6,651.3,520.9,578.7,734.1,null,736.9,null,636.9,410.3,438.8,null,460.4,480.6,431.7,null,418.0,629.1,579.9,641.4,709.3,815.2,540.9,456.0,595.5,477.4,754.5,549.6,665.7,414.1,620.6,405.9,514.6,602.0,540.8,548.2,573.0,495.8,565.7,616.5,700.1,585.2,592.2,497.8,null,null,null,631.9,451.1,612.1,null,635.3,579.4,null,513.9,null,587.4,604.5,522.2,679.0,587.4,500.0,457.6,431.4,693.5,633.7,616.9,529.2,null,790.9,null,477.8,null,538.9,387.6,null,null,553.9,687.3,614.3,451.7,618.9,null,610.8,779.3,null,602.0,549.2,null,651.1,null,443.9,611.3,559.2,null,416.2,null,564.7,null,483.8,739.7,null,null,548.0,null,null,null,634.4,578.7,590.1,766.9,644.2,null,505.7,null,426.6,579.5,572.4,536.0,431.4,652.4,444.2,536.9,485.8,584.2,815.5,584.8,440.7,498.8,481.0,null,null,572.4,358.8,670.9,672.3,null,650.5,440.8,486.7,null,501.5,475.8,458.3,504.3,720.8,486.2,705.1,533.4,null,438.2,718.5,506.6,355.9,439.2,null,532.9,640.8,637.0,581.3,821.2,null,582.7,639.5,407.3,524.5,621.9,null,793.0,410.5,604.0,639.1,679.2,492.5,null,496.2,null,635.6,null,442.9,430.6,885.8,415.6,475.3,590.8,496.3,441.2,538.0,767.1,438.4,695.3,476.5,560.6,611.4,null,531.2,null,665.1,820.8,528.9,438.5,367.5,395.9,null,462.5,null,376.5,667.5,586.5,null,595.4,484.7,432.1,null,691.1,392.4,537.1,462.1,382.8,756.7,496.3,429.0,539.2,649.7,620.4,472.3,492.7,408.3,610.9,475.8,null,null,488.5,458.8,699.0,537.7,450.2,683.1,422.2,570.1,472.9,653.8,410.5,524.8,458.7,712.9,392.5,476.0,649.8,455.7,636.9,521.7,663.7,510.4,519.6,501.5,519.8,574.0,440.5,null,758.0,529.8,864.1,594.7,null,443.0,710.1,null,536.8,518.3,519.5,null,null,517.3,464.4,null,709.6,487.5,695.4,null,null,567.2,641.1,630.3,495.1,565.4,394.2,629.4,null,411.8,529.2,375.1,805.5,603.5,null,null,380.4,449.9,608.6,629.2,null,395.4,632.0,null,843.4,null,596.1,547.9,364.7,557.7,664.4,null,504.1,457.5,686.0,714.0,512.6,null,401.1,686.3,498.8,683.2,471.9,563.2,459.8,524.3,573.5,646.3,null,622.7,678.3,null,642.5,516.6,null,524.7,null,null,null,null,436.8,null,400.9,516.6,606.3,750.0,787.2,null,638.9,638.4,429.5,833.1,408.0,623.1,693.2,680.8,null,480.1,459.4,572.7,524.3,null,630.9,561.4,471.7,null,643.3,758.1,516.3,540.0,597.7,412.3,613.1,596.6,null,534.5,663.9,521.6,418.0,509.7,null,477.1,699.1,512.3,692.9,665.6,529.7,387.2,null,398.8,438.1,489.0,402.4,601.7,588.5,474.9,728.3,750.0,null,null,427.4,null,491.9,613.1,null,479.0,null,411.7,586.9,555.4,450.7,597.0,358.4,661.2,379.2,null,null,651.2,707.0,463.4,386.0,528.4,586.7,null,407.0,null,440.0,null,634.6,523.1,null,846.2,486.1,446.5,516.5,726.8,517.1,393.5,593.9,null,637.0,492.0,654.3,636.5,595.6,455.8,559.7,479.6,null,693.9,476.7,595.2,657.5,617.6,null,704.6,562.9,712.6,null,517.8,612.5,493.4,null,507.9,518.1,522.5,570.0,null,580.3,467.1,481.1,492.9,null,499.5,716.0,null,535.3,732.0,672.1,562.8,null,564.0,680.2,null,null,595.3,370.4,447.5,581.8,null,706.5,443.2,494.3,635.2,536.0,854.9,652.3,null,519.0,483.8,625.6,583.1,743.2,null,582.4,626.4,388.0,null,578.0,493.7,682.0,463.9,637.0,602.7,430.8,606.6,636.9,627.8,748.1,607.6,524.5,403.9,516.2,null,681.8,702.3,591.8,649.8,411.1,409.4,643.7,368.6,465.3,688.5,null,null,587.7,465.5,581.9,626.5,589.9,527.4,768.8,493.9,null,513.8,null,544.7,735.1,469.0,624.4,673.4,548.9,645.2,703.1,613.2,611.0,450.9,null,804.2,484.0,672.7,393.0,917.6,444.1,681.7,735.4,421.3,531.9,602.1,597.4,586.8,457.9,678.2,443.9,708.0,529.8,null,575.9,669.9,477.8,null,571.6,601.2,487.0,639.7,441.4,587.8,605.6,606.9,null,null,null,null,566.0,358.7,null,493.6,707.0,null,607.7,494.6,null,null,391.1,null,null,648.2,536.7,null,611.4,623.6,517.3,null,499.1,428.2,null,643.3,460.7,623.4,805.2,663.7,510.5,522.4,804.3,472.3,517.6,529.1,557.2,null,672.2,495.3,null,415.8,538.3,null,352.3,638.2,null,447.9,null,null,540.7,668.1,null,616.8,557.3,576.7,627.9,null,473.9,502.0,null,725.5,374.7,631.7,405.2,434.7,523.7,395.4,null,562.4,580.7,649.3,711.5,669.2,null,null,628.4,721.6,null,622.7,660.1,411.8,439.5,692.5,493.2,448.9,393.7,null,null,598.8,749.0,null,346.8,602.6,701.8,null,519.4,459.5,607.0,null,871.2,null,645.4,571.5,500.0,null,630.2,451.2,null,519.4,739.6,null,356.7,682.1,null,486.2,578.5,null,526.5,584.3,null,655.2,null,523.1,null,543.6,610.2,null,464.5,564.3,541.0,373.8,646.6,578.4,558.4,530.8,512.4,608.2,790.3,646.0,582.9,444.3,443.1,519.1,516.0,null,499.4,780.9,536.1,486.3,541.7,380.8,623.5,490.0,482.4,615.8,null,null,764.6,459.6,670.9,null,null,null,null,697.6,596.0,null,473.6,470.9,581.8,null,469.0,533.6,571.0,583.8,null,null,526.5,602.6,540.4,null,null,448.6,588.2,null,780.7,672.0,483.3,654.0,717.4,531.5,472.3,null,437.0,524.9,null,601.0,627.0,557.6,720.4,null,465.1,479.8,597.1,568.7,535.9,null,null,598.1,453.4,405.9,508.2,816.3,null,650.1,423.9,648.2,663.0,657.8,468.2,429.3,623.8,783.8,420.2,null,462.6,null,467.2,814.4,580.0,453.6,573.1,null,368.2,632.5,390.7,495.1,null,434.6,393.8,493.0,669.4,438.4,null,674.7,601.5,561.4,737.6,null,null,502.8,555.7,null,612.9,630.3,474.3,null,596.5,null,438.7,361.7,null,475.9,660.8,384.8,436.1,738.6,375.3,554.5,null,597.8,585.7,null,370.2,541.2,null,null,462.0,443.0,524.1,413.4,643.2,526.1,507.8,673.7,null,507.9,654.6,489.2,null,null,604.6,562.6,440.0,676.9,743.8,651.2,648.0,457.3,404.7,505.3,756.6,568.4,null,480.0,null,null,null,424.9,679.1,680.6,378.0,510.7,567.8,506.5,384.9,null,385.9,621.5,700.4,749.4,null,561.0,486.5,575.2,665.7,515.5,624.9,453.4,588.3,592.1,432.1,532.5,428.0,504.9,554.4,602.8,537.4,590.3,null,582.1,579.0,679.0,null,395.7,392.3,553.6,null,null,null,550.8,441.3,769.6,402.6,594.1,379.5,null,null,598.0,454.0,571.1,573.0,677.8,438.4,null,null,679.0,645.2,415.7,524.6,519.5,471.0,583.0,717.0,619.4,null,491.8,null,816.9,716.9,null,null,431.7,null,576.0,571.6,null,721.0,655.7,423.6,379.1,559.1,505.3,537.6,617.8,null,549.7,551.1,416.8,634.0,568.2,null,543.8,427.2,524.8,466.4,604.8,565.3,537.4,null,520.1,541.4,null,662.0,565.1,497.3,674.8,681.7,null,604.5,null,null,399.4,656.5,481.0,470.5,747.3,741.3,625.0,677.6,null,582.0,534.3,521.2,487.9,null,389.5,null,689.8,586.2,573.9,693.6,685.4,533.7,null,807.0,511.6,565.1,515.3,null,459.4,353.0,616.4,772.3,403.4,607.5,568.1,596.8,622.4,null,488.0,489.9,null,638.9,500.2,535.3,572.0,697.4,566.4,691.5,396.9,503.2,441.5,597.5,null,624.4,null,null,636.6,755.5,525.9,639.1,null,676.5,707.0,369.0,620.2,571.1,null,458.1,580.4,715.3,486.1,587.4,null,468.5,600.5,489.0,577.3,568.8,null,null,557.8,572.5,465.5,null,null,530.0,658.0,null,624.5,626.6,null,415.8,null,422.9,420.1,395.3,747.8,362.6,676.8,551.5,652.4,710.3,null,540.5,606.1,636.4,569.3,427.5,542.0,510.0,null,779.4,354.9,518.2,692.4,725.4,489.1,null,553.8,561.1,549.7,667.0,null,537.7,485.3,595.3,null,480.9,906.6,null,467.8,589.6,505.9,750.8,null,491.4,619.2,683.1,827.8,628.6,492.6,648.1,598.4,533.5,649.1,620.8,599.8,null,397.4,716.0,421.7,null,509.5,568.4,null,673.0,549.9,428.1,null,612.7,762.7,458.8,453.5,469.3,580.6,null,613.8,544.4,518.3,609.5,554.3,null,null,618.0,565.5,438.6,536.9,485.5,null,null,393.9,null,584.9,639.3,732.7,null,591.7,547.0,null,738.5,null,647.8,405.9,535.8,540.5,687.0,520.5,670.5,625.8,622.9,525.9,549.7,704.9,null,721.3,544.1,798.7,390.8,551.3,494.2,667.2,562.9,null,432.5,750.1,590.3,692.3,502.3,null,null,698.7,520.8,645.7,null,null,511.8,612.6,762.4,429.1,null,549.4,455.7,774.4,452.0,508.4,440.4,null,636.7,519.9,611.4,709.7,501.9,499.0,486.5,504.5,551.4,580.5,null,516.6,567.1,506.1,544.8,null,545.1,null,null,497.5,670.5,605.7,null,466.5,null,658.0,null,677.2,867.3,617.1,448.7,599.1,463.0,466.1,406.5,549.5,null,712.5,367.4,389.1,684.4,617.2,547.2,null,null,460.1,431.3,null,679.5,506.1,null,518.6,549.6,623.1,442.3,450.2,575.2,511.1,null,520.7,733.8,395.6,656.5,787.5,447.2,637.2,534.1,531.8,552.4,618.7,535.7,364.6,null,524.7,963.8,null,416.5,633.1,386.5,513.9,508.7,576.9,480.0,432.6,468.5,588.5,522.0,742.2,450.7,null,606.4,null,379.4,null,432.6,539.1,null,null,568.6,622.4,427.6,534.3,null,562.1,643.3,450.1,618.9,384.7,654.5,480.6,null,455.9,686.2,700.9,763.3,561.3,747.2,null,514.6,557.5,682.7,822.8,559.9,558.9,564.4,525.8,376.7,445.4,579.3,640.6,381.6,847.6,null,664.5,662.9,660.0,480.7,null,663.4,null,538.4,404.0,768.5,null,744.7,497.2,656.7,null,null,451.6,638.2,491.4,591.1,null,474.9,747.4,463.2,462.6,563.5,null,604.6,652.7,null,702.8,644.4,792.5,513.2,null,null,null,358.5,502.3,537.5,null,665.8,636.2,764.5,514.2,581.3,460.1,null,598.8,null,587.7,636.6,658.0,623.2,614.5,null,645.2,643.1,676.5,553.8,658.5,null,548.5,553.0,435.4,588.1,null,665.2,587.9,null,553.8,601.9,500.8,636.5,409.7,570.7,738.0,476.1,664.8,596.1,null,618.8,562.8,405.1,455.8,618.2,null,527.8,null,640.2,340.1,null,735.1,655.9,337.5,null,null,626.7,424.0,450.0,430.2,null,467.5,719.4,547.6,697.7,523.1,453.8,529.2,539.9,511.5,510.2,693.9,494.6,null,570.4,539.6,678.4,384.3,374.8,null,415.8,630.8,572.5,null,null,728.3,498.4,698.0,null,487.8,637.8,487.8,502.9,559.4,437.7,null,554.7,368.7,606.0,null,null,527.8,537.8,458.6,null,null,600.1,688.4,704.7,678.8,446.0,null,545.7,550.1,612.0,506.7,null,null,667.5,653.7,668.4,424.8,711.7,541.7,629.3,600.0,465.5,642.0,596.2,684.2,427.7,693.2,726.1,466.9,610.0,null,769.1,793.2,null,648.1,551.3,null,415.3,null,null,564.8,504.9,677.2,440.2,677.4,603.6,501.8,398.3,655.7,535.3,559.8,436.4,622.1,591.9,646.0,567.8,489.8,471.8,643.5,900.0,null,380.8,null,null,696.8,618.9,467.2,537.0,465.0,594.8,406.3,755.4,null,503.6,448.1,376.7,453.1,850.3,390.2,null,451.4,422.2,null,764.9,703.7,588.2,666.9,708.3,null,535.9,592.8,null,676.6,507.2,null,845.9,517.2,null,627.5,676.9,534.0,707.9,495.7,509.7,420.4,365.9,401.1,663.3,507.7,447.9,668.2,816.4,534.8,357.1,null,684.5,649.2,537.3,466.6,559.4,413.3,436.5,659.8,397.6,440.7,438.6,558.1,null,680.3,null,null,627.6,484.6,794.3,null,null,459.9,null,465.8,663.6,723.2,637.9,null,null,567.2,557.9,null,661.3,null,null,521.5,427.0,668.4,571.0,643.8,504.0,null,510.2,607.9,569.8,null,445.9,496.4,389.3,487.8,546.6,515.6,571.7,664.1,391.8,null,630.3,589.0,622.0,507.1,611.7,600.9,null,655.3,null,null,null,391.3,590.7,null,558.8,617.6,null,762.0,661.7,604.0,683.2,614.3,477.1,597.8,617.8,456.0,545.4,578.9,null,536.5,null,611.1,594.8,630.8,null,523.3,552.0,555.9,613.8,599.5,732.6,393.4,584.2,667.4,793.8,618.1,554.6,524.3,618.4,null,588.8,458.9,532.3,555.8,551.6,null,null,506.7,428.4,496.0,null,662.8,677.0,395.3,662.4,365.9,628.0,null,507.9,525.3,717.4,602.0,409.4,765.6,569.8,559.2,581.2,579.2,879.1,773.8,null,658.7,463.1,572.7,null,527.3,511.9,567.4,602.5,546.3,671.3,576.0,747.8,594.8,451.4,650.5,420.0,631.4,515.3,618.6,481.0,649.1,451.6,348.7,579.4,624.9,506.3,660.4,601.6,null,653.5,706.4,509.8,null,null,409.3,361.5,426.2,null,null,438.6,null,460.3,null,576.5,489.3,438.2,null,539.7,null,428.8,427.7,686.2,null,613.8,508.9,482.8,839.2,469.1,649.2,492.8,387.0,372.2,644.1,0.0,671.0,443.5,501.3,351.2,378.8,697.7,637.6,null,639.6,null,398.9,497.4,485.6,null,575.6,null,null,489.3,474.6,478.6,null,685.4,null,800.4,449.6,631.6,540.8,null,399.8,488.3,462.9,null,601.5,605.7,553.2,null,530.0,587.8,380.6,439.0,null,548.1,483.8,630.1,380.0,485.5,451.6,416.2,667.9,597.2,565.6,673.3,584.6,null,689.1,374.4,null,536.3,518.1,395.4,430.9,568.1,625.0,439.9,485.8,459.1,435.1,553.5,387.7,490.7,569.9,481.3,null,757.5,544.6,null,567.1,573.5,626.6,397.6,436.3,null,600.6,462.4,null,680.4,null,null,569.8,null,null,null,439.7,531.5,471.3,507.6,551.8,571.8,null,457.4,480.6,null,477.8,589.5,null,472.6,null,367.3,568.5,650.0,null,646.4,648.2,425.0,606.6,480.4,694.8,null,376.1,null,533.5,407.2,null,null,492.9,577.8,498.1,null,null,598.3,574.5,516.9,515.1,null,452.9,442.3,null,null,634.6,676.8,null,434.4,663.6,null,386.4,573.4,761.5,413.3,null,null,388.8,null,null,382.0,602.1,426.8,null,671.9,885.2,null,422.3,null,418.2,523.4,null,null,436.3,null,362.6,null,462.8,null,436.3,null,468.8,null,430.5,586.2,632.1,721.6,null,618.5,663.6,450.6,537.1,null,null,727.6,null,null,602.6,644.7,644.5,null,null,552.7,599.4,666.0,679.3,493.3,null,645.3,666.6,477.7,707.9,444.6,null,499.5,null,477.0,448.1,366.0,597.2,512.1,527.3,381.2,404.2,null,null,479.1,null,436.1,514.1,null,542.0,null,411.5,648.2,539.0,550.8,656.3,473.8,628.2,641.7,400.6,550.4,361.5,424.1,null,630.6,593.1,470.7,677.7,null,null,345.8,659.4,null,681.2,631.0,396.0,null,426.6,583.9,561.3,null,null,446.9,null,null,534.0,517.9,516.5,601.9,490.8,424.1,481.1,357.2,690.2,null,406.9,540.4,593.8,385.3,416.0,null,625.5,585.4,455.7,448.1,698.1,485.1,553.5,411.0,555.2,618.3,491.2,null,null,433.4,535.4,672.7,487.4,null,607.4,null,671.7,445.3,540.0,408.2,465.9,666.4,700.0,null,365.8,502.7,419.4,null,629.8,402.9,null,593.8,443.2,345.2,null,null,561.7,460.1,633.7,542.6,653.7,405.0,null,729.3,464.7,414.3,746.2,367.6,null,null,542.2,null,null,null,680.3,361.3,696.3,null,null,493.2,409.3,590.6,453.2,null,622.4,553.6,572.6,473.6,581.1,null,467.8,null,536.8,484.6,537.7,null,622.5,532.7,600.7,543.8,487.2,656.8,851.5,602.8,514.9,573.7,632.5,null,741.1,494.5,645.6,null,455.9,493.5,454.3,497.3,395.8,521.2,355.2,672.4,507.5,null,500.4,626.3,null,null,null,551.3,565.1,null,499.4,null,541.7,681.6,null,390.5,null,582.1,null,633.5,643.9,null,439.1,541.5,357.4,603.2,699.7,500.8,493.9,861.7,null,null,null,583.8,null,null,608.4,null,429.8,540.1,null,473.6,null,633.3,545.6,569.5,555.9,651.2,470.1,null,692.3,498.3,587.6,686.7,null,401.4,362.1,421.4,398.3,587.5,599.2,637.4,446.0,384.2,null,589.9,487.5,574.9,458.0,null,553.4,547.1,647.1,450.3,377.8,546.6,null,425.9,545.9,506.5,null,410.1,429.7,453.7,null,null,null,492.7,457.2,433.7,423.6,586.0,555.8,null,560.8,null,505.1,475.9,468.2,null,null,373.3,508.4,null,null,null,null,666.9,null,690.8,null,626.8,624.7,696.9,470.5,403.9,458.4,659.3,507.6,null,368.5,650.2,null,null,594.8,651.8,null,537.8,564.0,496.8,836.3,786.6,455.6,null,538.8,null,null,851.4,null,629.6,623.5,461.8,567.9,null,null,null,null,null,395.1,612.3,null,383.9,388.4,623.6,585.5,716.9,null,null,492.9,701.4,697.8,667.8,441.2,null,630.1,null,null,672.5,381.7,366.9,467.4,508.4,571.2,null,null,578.1,null,467.1,461.5,null,770.9,516.5,556.5,457.0,473.1,550.4,492.3,595.2,626.5,524.3,386.1,469.8,397.2,428.0,666.2,722.8,407.2,497.2,null,464.5,570.9,null,614.8,374.4,611.7,null,616.9,null,null,479.9,533.2,null,450.5,387.3,612.2,469.5,null,413.6,529.9,null,null,565.9,562.0,627.7,488.2,null,470.6,638.3,633.8,718.9,549.2,null,552.8,712.8,483.4,null,579.3,705.4,470.2,598.6,623.1,null,569.5,573.1,363.8,null,null,null,738.3,null,null,496.6,429.1,634.1,385.8,null,555.1,null,471.0,557.8,477.9,642.8,407.1,579.0,null,538.1,null,538.3,621.6,408.0,623.7,580.8,587.9,484.6,517.4,454.1,412.3,null,671.6,null,475.5,677.8,457.0,655.5,437.4,null,null,569.9,406.9,414.4,454.7,612.0,472.1,null,null,null,558.8,474.6,563.6,438.5,null,null,668.4,645.5,517.6,411.0,650.6,563.2,536.0,null,488.3,608.3,null,570.0,589.5,614.1,675.2,573.0,505.0,384.9,null,399.9,407.5,594.9,602.3,448.5,357.2,670.5,530.5,550.5,null,null,null,478.7,598.0,576.3,null,636.2,420.2,676.7,578.0,496.6,398.3,null,547.3,532.2,null,828.4,406.7,475.2,782.3,459.1,null,null,612.8,540.2,507.4,495.0,null,465.4,640.6,null,371.4,583.3,697.9,517.7,387.1,null,null,589.8,675.4,464.7,383.0,614.4,766.6,null,677.4,409.8,null,786.3,null,536.6,513.6,674.2,558.2,null,600.9,362.9,643.9,620.7,592.2,641.1,525.8,null,471.4,null,442.8,518.7,null,596.4,440.3,486.7,432.8,null,646.9,null,805.2,590.1,null,862.9,453.1,536.8,604.6,444.7,363.5,427.7,null,null,438.8,615.3,638.6,637.0,487.1,645.2,403.4,670.8],\"xaxis\":\"x\",\"yaxis\":\"y\",\"type\":\"histogram\"},{\"alignmentgroup\":\"True\",\"bingroup\":\"x\",\"histnorm\":\"probability\",\"hovertemplate\":\"SEXO=M<br>NOTA_MT=%{x}<br>probability=%{y}<extra></extra>\",\"legendgroup\":\"M\",\"marker\":{\"color\":\"#ADE3F8\",\"pattern\":{\"shape\":\"\"}},\"name\":\"M\",\"nbinsx\":40,\"offsetgroup\":\"M\",\"orientation\":\"v\",\"showlegend\":true,\"x\":[510.2,548.6,505.2,392.1,611.7,546.1,412.3,null,716.0,371.1,601.8,629.4,564.4,514.4,null,842.4,579.1,477.3,427.7,541.2,643.3,475.3,453.8,433.2,406.9,752.7,425.7,752.0,null,728.0,586.0,581.3,627.1,489.5,455.1,616.5,547.7,664.1,486.6,797.0,642.1,797.0,594.3,465.8,762.3,767.0,588.9,644.1,689.7,710.3,590.5,674.5,552.0,499.0,459.9,655.4,602.2,497.8,469.5,765.8,639.1,678.9,734.5,610.5,752.2,422.8,701.5,null,695.1,690.3,657.6,404.8,null,null,399.3,null,null,749.0,730.5,667.0,624.6,714.1,510.5,491.6,651.6,null,666.0,599.4,661.9,435.0,592.2,759.2,743.6,412.9,543.3,432.9,620.3,731.5,601.5,681.6,726.0,681.2,580.5,null,null,760.7,710.2,418.9,568.4,606.2,648.8,503.6,null,579.9,null,458.1,null,753.6,647.0,678.3,813.9,635.0,533.5,477.9,null,567.8,638.1,null,426.2,392.2,682.1,595.8,680.4,null,558.1,601.2,498.6,640.4,null,null,556.0,534.3,null,657.1,462.2,636.1,543.9,544.7,518.5,553.7,835.0,675.7,595.4,611.3,575.6,626.9,691.0,null,669.1,517.2,609.2,475.9,592.0,592.2,779.3,613.0,420.9,null,494.9,865.9,599.8,546.0,685.8,null,571.4,446.3,476.6,376.4,658.2,null,574.0,728.8,737.4,681.1,518.3,581.7,630.3,593.8,602.7,682.5,414.7,701.0,499.7,699.1,448.4,562.8,null,585.8,null,371.6,518.5,513.6,406.4,640.8,628.1,382.3,492.2,639.0,692.6,459.0,612.8,537.3,null,676.8,568.2,600.5,489.8,null,605.9,442.0,658.2,null,455.3,468.1,672.6,708.6,776.6,null,639.1,588.3,585.9,533.9,627.0,532.2,734.5,635.5,409.2,607.5,510.7,null,622.4,null,604.1,614.3,482.3,590.5,729.8,807.2,700.4,457.8,609.7,832.8,530.9,514.8,534.9,416.6,381.1,698.2,623.5,613.4,783.3,606.4,null,588.0,null,540.2,507.4,493.8,653.6,629.1,null,669.2,591.1,504.6,747.0,519.2,null,null,666.9,510.8,673.1,738.5,null,375.5,459.3,496.2,453.9,520.1,524.8,null,395.4,560.3,799.4,453.1,814.8,443.3,605.9,578.7,681.1,776.2,545.1,618.1,679.2,825.3,426.6,444.6,700.1,705.6,635.5,518.3,939.5,613.5,448.4,534.0,427.5,567.5,670.9,867.7,383.9,741.6,629.4,616.7,542.4,629.3,639.9,670.3,566.4,650.7,591.8,725.3,539.6,606.3,710.1,427.7,null,744.6,413.2,774.2,785.1,543.5,null,630.5,715.7,null,485.6,612.4,943.6,480.9,559.8,571.0,580.9,528.8,700.4,474.0,492.4,null,581.6,645.3,579.2,633.5,593.2,779.9,697.2,575.0,530.9,607.3,760.9,null,524.3,462.8,null,892.9,792.9,414.9,null,528.7,549.3,null,null,536.3,711.0,586.2,767.3,580.6,633.9,null,396.8,747.6,525.0,665.9,450.0,702.1,430.3,510.4,696.0,618.0,null,null,null,639.5,504.8,638.0,419.4,null,null,null,432.6,507.6,422.1,497.8,708.3,null,null,634.2,651.1,672.5,525.7,652.5,600.2,null,null,561.8,431.6,null,443.4,692.9,529.7,394.2,491.3,null,449.5,643.8,391.0,502.2,469.1,438.0,544.7,515.3,463.0,418.7,505.2,645.4,608.2,602.9,459.6,null,null,null,531.6,582.2,434.0,null,643.8,673.3,489.2,781.1,null,818.3,384.9,522.0,803.1,437.2,615.1,571.5,503.0,null,593.4,526.5,638.7,791.4,608.7,552.7,390.4,356.2,527.7,null,null,547.0,794.9,619.1,null,442.1,478.5,516.7,713.0,637.6,null,796.5,521.7,449.4,433.4,null,666.4,506.8,676.5,null,452.7,705.3,611.3,641.2,752.8,436.0,637.5,null,599.9,594.2,597.5,620.9,608.5,745.9,435.4,595.3,533.8,469.5,532.3,555.7,511.6,780.7,789.9,685.9,null,null,null,678.7,586.6,538.2,615.0,null,null,492.7,515.1,603.1,554.8,639.1,592.0,706.1,575.5,371.0,535.4,543.2,678.3,603.4,462.2,554.6,547.9,539.6,620.9,null,566.3,394.5,609.7,null,null,612.6,356.1,409.0,null,482.8,null,652.4,604.6,624.5,null,763.9,651.8,842.2,485.4,869.9,416.5,null,null,672.6,null,630.4,389.8,558.7,411.2,509.7,670.6,715.2,null,699.7,null,531.2,null,716.0,557.8,572.9,512.9,651.1,681.7,627.4,440.7,523.7,661.3,480.9,381.2,622.7,405.7,697.0,520.8,573.5,548.7,645.1,532.2,478.8,892.1,659.2,728.3,357.0,490.3,null,null,692.1,543.5,569.7,682.8,661.7,513.3,829.9,804.2,619.1,475.0,722.3,879.3,454.8,651.9,816.7,811.4,543.8,651.4,497.0,553.0,540.8,668.6,null,850.4,421.3,483.4,556.1,514.6,748.4,702.1,577.4,null,389.3,null,640.5,null,684.7,573.3,null,653.1,400.7,611.2,535.8,null,null,651.8,734.6,null,null,688.4,575.0,null,477.3,null,614.0,699.8,740.7,518.3,780.3,null,387.8,616.7,506.7,613.5,656.3,null,651.7,724.2,690.1,378.8,480.1,null,864.4,786.2,569.8,499.2,null,498.7,442.1,597.3,815.9,442.6,null,null,614.7,675.7,435.3,636.1,463.0,739.3,631.1,611.0,433.4,null,625.2,533.7,631.3,null,594.2,617.7,637.8,455.2,713.5,null,483.4,457.1,631.2,636.5,null,null,563.9,565.4,486.2,379.0,731.5,495.3,707.6,null,593.8,704.8,null,null,691.4,null,603.5,534.6,616.9,597.8,571.5,null,566.6,598.0,568.3,747.0,null,655.5,null,651.4,639.9,null,null,388.5,null,742.9,437.3,610.7,640.9,717.0,null,730.4,681.6,758.3,710.6,712.4,750.3,559.9,860.0,null,null,null,630.0,null,null,392.0,685.6,536.1,null,null,null,654.8,729.9,null,658.3,583.2,485.5,null,718.8,817.6,727.3,673.9,523.8,364.1,586.7,683.3,779.4,null,490.1,698.3,null,591.2,672.0,462.1,null,null,null,null,663.9,633.1,null,560.3,null,null,673.0,668.0,374.0,null,510.3,560.8,614.0,656.2,762.1,null,null,545.7,577.5,402.4,591.6,664.6,649.1,459.0,603.9,null,538.4,621.5,699.4,719.3,408.8,658.2,971.3,702.2,null,605.6,510.4,null,647.3,null,784.6,667.6,850.0,651.0,null,740.4,525.7,401.0,null,466.5,449.9,481.0,null,null,623.1,703.5,598.8,597.2,442.0,659.0,666.2,632.7,682.3,null,577.9,750.6,652.7,472.6,615.3,550.8,521.6,null,379.3,547.8,627.2,null,566.1,590.1,null,554.3,732.1,595.3,690.4,860.4,870.5,897.9,654.9,null,584.9,679.2,597.1,652.2,null,519.6,553.6,795.3,null,632.6,629.2,756.9,690.3,583.1,null,618.2,null,710.7,690.7,null,684.7,598.4,658.8,769.0,722.0,null,638.8,650.1,546.8,842.7,498.7,null,null,526.6,null,775.1,524.7,681.5,null,651.3,525.0,702.4,666.3,null,499.2,null,587.0,915.8,679.0,838.8,622.8,621.2,803.2,542.0,682.8,656.3,null,593.2,565.3,441.7,641.5,685.8,635.8,null,635.8,684.8,601.7,542.3,540.7,494.7,487.9,780.6,733.8,756.7,578.9,638.5,445.6,636.2,609.7,850.4,614.8,null,null,null,null,530.7,429.0,null,718.8,611.5,null,679.2,634.4,630.0,571.4,582.7,757.4,null,null,null,378.2,769.6,null,460.9,606.9,null,582.1,415.6,557.4,null,642.8,461.9,null,null,401.0,526.6,845.6,847.5,733.8,706.4,480.4,480.2,766.2,744.3,785.8,633.1,757.2,400.1,668.8,null,697.4,485.9,425.5,null,544.7,565.5,559.0,589.9,null,490.9,454.5,645.9,695.8,496.2,462.9,484.3,669.9,412.2,700.7,517.0,590.0,null,477.0,758.6,742.1,696.5,695.7,526.2,null,415.2,646.7,null,607.3,572.2,null,534.0,499.3,670.2,623.4,721.5,608.3,null,605.4,490.1,null,620.6,665.4,502.6,804.4,455.0,636.3,539.9,401.3,519.8,501.6,834.9,null,528.1,472.5,512.3,561.2,null,709.1,622.3,666.3,null,null,607.8,757.4,482.3,751.9,646.7,663.6,479.6,null,626.6,575.4,618.4,663.4,675.3,null,646.5,761.9,463.5,810.0,479.3,688.2,590.7,541.3,366.1,null,740.5,663.5,461.8,567.1,511.1,null,700.2,686.7,501.1,683.9,770.0,904.4,523.0,605.1,522.0,564.7,505.9,396.0,583.1,619.0,744.5,null,713.6,620.5,554.4,535.1,690.2,715.7,599.7,688.2,null,500.8,null,582.3,683.7,669.8,576.3,622.4,642.2,716.8,null,638.3,548.8,807.1,738.7,494.0,828.9,674.4,735.1,385.5,373.8,696.2,841.5,403.9,723.7,651.9,638.2,null,523.7,687.9,693.3,640.3,573.3,536.5,480.3,null,584.3,null,null,666.1,688.8,442.1,637.4,622.9,715.8,755.2,null,359.2,532.1,592.6,667.7,507.9,850.6,null,581.1,735.2,800.8,762.8,544.1,741.7,549.7,623.8,467.4,700.9,688.1,null,884.6,null,406.5,610.6,503.3,null,756.7,704.3,541.1,602.1,375.3,null,752.8,700.2,797.2,478.6,426.3,405.0,810.5,602.9,751.6,878.3,null,371.9,643.4,null,830.7,551.3,601.5,null,814.1,906.6,787.8,528.9,528.2,459.9,449.0,748.5,621.8,555.4,null,465.1,647.4,594.2,504.8,748.2,578.3,null,null,null,438.9,436.3,771.3,null,null,768.3,681.0,631.9,656.7,649.8,null,506.1,null,null,441.9,578.5,484.2,767.5,634.8,493.4,518.8,667.1,665.7,542.7,465.2,null,585.3,506.8,569.6,null,668.0,null,627.1,null,459.4,734.6,699.8,586.8,554.0,593.4,null,597.5,643.4,719.0,537.7,617.3,null,694.8,769.4,454.3,490.9,717.5,625.3,null,439.6,577.8,864.2,520.3,583.0,null,637.6,653.8,null,794.0,650.8,586.7,599.9,571.0,776.8,551.2,752.0,605.9,749.2,692.7,546.5,null,822.5,730.5,755.6,620.0,606.6,577.0,896.6,586.5,684.6,null,625.3,803.0,566.2,621.6,505.7,691.7,622.9,468.4,437.4,624.1,622.4,null,781.7,396.3,710.6,729.5,460.3,null,491.5,720.2,null,673.3,688.2,null,684.7,590.0,777.6,637.6,559.0,749.6,null,697.5,421.2,829.0,550.8,758.2,698.8,600.0,473.2,613.5,836.1,663.3,622.0,532.6,621.3,482.6,534.8,615.2,611.4,589.4,465.7,799.8,null,null,509.1,485.8,null,713.9,796.2,null,null,738.9,696.0,559.4,858.1,595.6,817.5,565.9,629.7,573.2,791.6,null,682.5,612.3,639.5,689.2,807.1,505.8,637.8,630.4,705.8,527.8,null,673.0,null,485.2,687.9,645.9,539.2,490.8,716.5,773.2,474.0,680.4,738.6,null,701.4,626.7,643.1,589.1,null,528.7,537.1,724.5,644.5,null,null,457.2,484.4,548.1,null,null,611.9,764.2,480.6,null,633.3,488.1,717.3,604.2,603.6,781.9,881.9,799.2,847.3,null,744.5,599.0,704.6,null,null,450.7,576.4,607.4,585.1,658.5,null,829.0,778.7,387.2,623.5,720.7,662.8,515.8,692.0,560.8,675.8,379.4,null,855.2,null,487.3,null,386.0,480.9,643.8,476.8,681.1,463.1,717.0,352.4,809.4,null,736.9,587.9,641.0,798.8,423.0,674.5,462.7,560.2,659.0,370.5,580.9,669.1,null,null,null,686.6,735.3,555.2,757.7,501.0,513.9,423.5,null,501.2,765.1,799.5,729.5,null,694.8,685.4,null,633.1,null,null,607.2,689.5,589.4,585.0,670.8,361.3,570.3,483.2,489.4,738.7,null,801.0,502.4,610.4,628.7,null,607.7,643.3,null,653.3,709.8,545.7,705.2,573.6,null,null,null,747.4,null,853.1,567.8,487.1,null,621.1,null,683.7,554.9,596.2,482.0,561.3,null,553.9,569.3,686.2,589.2,null,484.9,775.6,null,479.4,463.7,699.6,589.5,732.7,634.6,534.2,378.4,572.2,642.7,669.9,569.0,721.0,null,553.7,661.9,602.4,444.9,null,629.2,711.8,727.0,null,679.1,561.8,null,681.2,699.7,738.5,729.5,629.8,401.5,493.8,571.7,477.5,699.4,697.8,775.0,null,645.6,594.1,526.8,384.7,790.4,468.7,935.1,598.3,null,461.1,659.6,592.9,558.2,599.0,461.6,null,531.6,540.0,712.1,644.6,658.4,null,null,590.6,755.4,553.6,653.5,404.2,445.1,718.4,626.1,null,515.6,521.9,692.1,914.0,439.1,611.4,717.2,null,616.6,419.2,561.1,792.9,null,665.6,498.9,716.8,859.9,null,812.9,756.1,771.5,877.4,523.9,587.7,735.1,null,null,null,665.7,548.1,null,660.3,402.6,431.4,701.4,428.1,638.6,462.7,692.0,null,null,null,490.4,588.1,516.5,757.3,353.1,846.8,658.2,616.4,546.3,626.8,751.7,647.6,781.0,352.5,null,773.7,690.3,662.9,579.9,701.5,690.7,745.8,579.0,null,619.8,659.3,740.4,683.6,694.9,null,703.9,639.5,750.7,532.8,449.3,494.1,429.8,463.2,622.7,581.1,453.9,496.7,718.9,null,579.6,461.5,425.2,797.9,450.2,627.8,637.5,555.4,null,null,751.9,558.3,795.0,640.2,null,584.0,588.9,576.8,548.1,null,555.7,422.6,740.7,577.0,662.7,634.1,null,518.1,739.8,845.4,457.3,587.3,583.4,563.3,580.1,650.0,537.5,602.4,550.2,null,null,573.9,null,662.1,595.1,443.5,738.0,null,null,null,386.8,null,549.0,null,565.5,618.9,569.0,476.3,527.4,null,460.5,744.8,673.2,686.0,594.9,559.2,null,null,608.2,636.5,443.3,726.8,null,603.0,474.7,629.2,463.6,663.7,623.7,637.1,538.1,597.4,433.9,565.1,null,null,904.7,556.4,552.1,null,452.3,527.3,477.1,451.5,545.2,765.1,null,802.7,null,886.1,null,715.4,null,553.3,null,590.7,596.2,628.6,null,null,660.3,580.3,774.7,398.7,null,625.8,411.9,538.4,551.8,409.7,null,659.2,539.6,462.4,null,620.1,597.6,455.7,471.8,581.1,440.2,652.1,519.5,null,800.5,621.2,601.9,554.6,541.0,null,610.1,null,null,730.4,null,707.3,756.5,378.1,570.3,671.9,665.9,625.1,null,435.1,484.1,650.1,null,543.1,639.9,585.2,668.3,413.4,865.4,572.4,null,635.6,505.4,881.3,517.5,null,882.1,null,562.9,556.5,500.6,651.3,null,596.8,null,918.3,null,null,635.2,515.7,494.3,518.3,478.5,481.8,513.7,486.8,730.5,599.9,436.1,null,576.3,515.3,550.3,625.5,557.4,608.6,636.3,559.6,496.2,377.1,746.4,560.2,718.9,null,661.7,527.2,895.2,489.5,588.6,416.1,null,671.3,561.7,525.4,442.1,null,553.5,null,653.0,549.5,395.7,788.1,792.9,518.2,null,null,626.6,512.5,537.8,725.4,410.4,null,539.2,433.5,null,436.4,720.2,483.5,null,594.0,522.8,565.8,461.4,697.7,657.7,471.1,727.3,620.6,null,745.2,660.3,690.9,643.9,575.0,512.2,587.1,null,598.7,null,null,566.1,520.5,610.8,452.1,446.1,464.4,null,671.9,null,485.9,842.4,576.8,551.4,866.3,610.5,443.2,585.4,669.1,570.3,510.8,null,383.4,null,481.4,630.8,431.4,494.6,479.7,533.8,534.2,579.6,599.3,null,450.7,493.5,603.2,526.3,575.8,658.4,617.7,null,644.6,null,565.9,null,696.2,null,671.4,704.8,491.2,null,583.2,365.9,615.8,560.6,467.4,652.0,623.7,689.3,390.3,null,564.6,null,null,604.2,737.4,470.9,652.4,711.8,405.2,843.5,348.7,570.3,724.0,627.4,null,493.5,773.2,527.3,697.4,670.0,null,654.2,834.4,378.0,771.3,950.7,482.6,708.2,553.4,755.1,711.0,430.1,622.5,839.6,445.0,627.4,562.4,485.7,null,360.1,666.7,589.4,593.6,628.4,563.4,665.6,777.9,680.8,693.3,507.0,538.3,620.0,null,539.0,513.9,null,837.9,589.4,659.2,null,664.5,598.3,541.2,null,630.7,435.6,null,null,715.0,595.0,508.6,null,529.3,583.2,612.4,777.5,793.9,null,752.1,819.3,784.2,777.4,657.9,null,382.3,664.9,844.0,590.0,475.8,573.7,null,638.2,470.8,null,653.9,null,531.4,593.3,627.7,659.4,579.9,null,650.5,null,null,829.5,null,375.7,639.1,527.6,410.6,451.0,578.2,455.4,652.7,null,470.1,645.4,null,600.4,703.7,707.0,522.3,572.7,null,622.2,null,588.5,623.0,null,534.3,466.4,579.8,591.3,null,522.1,null,null,561.0,null,517.7,531.0,629.1,658.4,594.4,477.9,536.6,567.1,null,559.7,524.3,730.4,519.7,699.1,531.8,708.9,629.7,529.3,595.8,null,586.5,568.2,451.7,723.4,582.9,560.2,636.9,576.3,568.5,null,null,685.0,505.1,445.2,871.8,null,830.0,783.8,652.6,668.5,574.8,608.6,494.5,525.4,445.8,667.4,null,543.7,714.6,669.4,414.5,494.3,583.9,581.6,531.5,455.8,579.0],\"xaxis\":\"x\",\"yaxis\":\"y\",\"type\":\"histogram\"}],                        {\"template\":{\"data\":{\"histogram2dcontour\":[{\"type\":\"histogram2dcontour\",\"colorbar\":{\"outlinewidth\":0,\"ticks\":\"\"},\"colorscale\":[[0.0,\"#0d0887\"],[0.1111111111111111,\"#46039f\"],[0.2222222222222222,\"#7201a8\"],[0.3333333333333333,\"#9c179e\"],[0.4444444444444444,\"#bd3786\"],[0.5555555555555556,\"#d8576b\"],[0.6666666666666666,\"#ed7953\"],[0.7777777777777778,\"#fb9f3a\"],[0.8888888888888888,\"#fdca26\"],[1.0,\"#f0f921\"]]}],\"choropleth\":[{\"type\":\"choropleth\",\"colorbar\":{\"outlinewidth\":0,\"ticks\":\"\"}}],\"histogram2d\":[{\"type\":\"histogram2d\",\"colorbar\":{\"outlinewidth\":0,\"ticks\":\"\"},\"colorscale\":[[0.0,\"#0d0887\"],[0.1111111111111111,\"#46039f\"],[0.2222222222222222,\"#7201a8\"],[0.3333333333333333,\"#9c179e\"],[0.4444444444444444,\"#bd3786\"],[0.5555555555555556,\"#d8576b\"],[0.6666666666666666,\"#ed7953\"],[0.7777777777777778,\"#fb9f3a\"],[0.8888888888888888,\"#fdca26\"],[1.0,\"#f0f921\"]]}],\"heatmap\":[{\"type\":\"heatmap\",\"colorbar\":{\"outlinewidth\":0,\"ticks\":\"\"},\"colorscale\":[[0.0,\"#0d0887\"],[0.1111111111111111,\"#46039f\"],[0.2222222222222222,\"#7201a8\"],[0.3333333333333333,\"#9c179e\"],[0.4444444444444444,\"#bd3786\"],[0.5555555555555556,\"#d8576b\"],[0.6666666666666666,\"#ed7953\"],[0.7777777777777778,\"#fb9f3a\"],[0.8888888888888888,\"#fdca26\"],[1.0,\"#f0f921\"]]}],\"heatmapgl\":[{\"type\":\"heatmapgl\",\"colorbar\":{\"outlinewidth\":0,\"ticks\":\"\"},\"colorscale\":[[0.0,\"#0d0887\"],[0.1111111111111111,\"#46039f\"],[0.2222222222222222,\"#7201a8\"],[0.3333333333333333,\"#9c179e\"],[0.4444444444444444,\"#bd3786\"],[0.5555555555555556,\"#d8576b\"],[0.6666666666666666,\"#ed7953\"],[0.7777777777777778,\"#fb9f3a\"],[0.8888888888888888,\"#fdca26\"],[1.0,\"#f0f921\"]]}],\"contourcarpet\":[{\"type\":\"contourcarpet\",\"colorbar\":{\"outlinewidth\":0,\"ticks\":\"\"}}],\"contour\":[{\"type\":\"contour\",\"colorbar\":{\"outlinewidth\":0,\"ticks\":\"\"},\"colorscale\":[[0.0,\"#0d0887\"],[0.1111111111111111,\"#46039f\"],[0.2222222222222222,\"#7201a8\"],[0.3333333333333333,\"#9c179e\"],[0.4444444444444444,\"#bd3786\"],[0.5555555555555556,\"#d8576b\"],[0.6666666666666666,\"#ed7953\"],[0.7777777777777778,\"#fb9f3a\"],[0.8888888888888888,\"#fdca26\"],[1.0,\"#f0f921\"]]}],\"surface\":[{\"type\":\"surface\",\"colorbar\":{\"outlinewidth\":0,\"ticks\":\"\"},\"colorscale\":[[0.0,\"#0d0887\"],[0.1111111111111111,\"#46039f\"],[0.2222222222222222,\"#7201a8\"],[0.3333333333333333,\"#9c179e\"],[0.4444444444444444,\"#bd3786\"],[0.5555555555555556,\"#d8576b\"],[0.6666666666666666,\"#ed7953\"],[0.7777777777777778,\"#fb9f3a\"],[0.8888888888888888,\"#fdca26\"],[1.0,\"#f0f921\"]]}],\"mesh3d\":[{\"type\":\"mesh3d\",\"colorbar\":{\"outlinewidth\":0,\"ticks\":\"\"}}],\"scatter\":[{\"fillpattern\":{\"fillmode\":\"overlay\",\"size\":10,\"solidity\":0.2},\"type\":\"scatter\"}],\"parcoords\":[{\"type\":\"parcoords\",\"line\":{\"colorbar\":{\"outlinewidth\":0,\"ticks\":\"\"}}}],\"scatterpolargl\":[{\"type\":\"scatterpolargl\",\"marker\":{\"colorbar\":{\"outlinewidth\":0,\"ticks\":\"\"}}}],\"bar\":[{\"error_x\":{\"color\":\"#2a3f5f\"},\"error_y\":{\"color\":\"#2a3f5f\"},\"marker\":{\"line\":{\"color\":\"#E5ECF6\",\"width\":0.5},\"pattern\":{\"fillmode\":\"overlay\",\"size\":10,\"solidity\":0.2}},\"type\":\"bar\"}],\"scattergeo\":[{\"type\":\"scattergeo\",\"marker\":{\"colorbar\":{\"outlinewidth\":0,\"ticks\":\"\"}}}],\"scatterpolar\":[{\"type\":\"scatterpolar\",\"marker\":{\"colorbar\":{\"outlinewidth\":0,\"ticks\":\"\"}}}],\"histogram\":[{\"marker\":{\"pattern\":{\"fillmode\":\"overlay\",\"size\":10,\"solidity\":0.2}},\"type\":\"histogram\"}],\"scattergl\":[{\"type\":\"scattergl\",\"marker\":{\"colorbar\":{\"outlinewidth\":0,\"ticks\":\"\"}}}],\"scatter3d\":[{\"type\":\"scatter3d\",\"line\":{\"colorbar\":{\"outlinewidth\":0,\"ticks\":\"\"}},\"marker\":{\"colorbar\":{\"outlinewidth\":0,\"ticks\":\"\"}}}],\"scattermapbox\":[{\"type\":\"scattermapbox\",\"marker\":{\"colorbar\":{\"outlinewidth\":0,\"ticks\":\"\"}}}],\"scatterternary\":[{\"type\":\"scatterternary\",\"marker\":{\"colorbar\":{\"outlinewidth\":0,\"ticks\":\"\"}}}],\"scattercarpet\":[{\"type\":\"scattercarpet\",\"marker\":{\"colorbar\":{\"outlinewidth\":0,\"ticks\":\"\"}}}],\"carpet\":[{\"aaxis\":{\"endlinecolor\":\"#2a3f5f\",\"gridcolor\":\"white\",\"linecolor\":\"white\",\"minorgridcolor\":\"white\",\"startlinecolor\":\"#2a3f5f\"},\"baxis\":{\"endlinecolor\":\"#2a3f5f\",\"gridcolor\":\"white\",\"linecolor\":\"white\",\"minorgridcolor\":\"white\",\"startlinecolor\":\"#2a3f5f\"},\"type\":\"carpet\"}],\"table\":[{\"cells\":{\"fill\":{\"color\":\"#EBF0F8\"},\"line\":{\"color\":\"white\"}},\"header\":{\"fill\":{\"color\":\"#C8D4E3\"},\"line\":{\"color\":\"white\"}},\"type\":\"table\"}],\"barpolar\":[{\"marker\":{\"line\":{\"color\":\"#E5ECF6\",\"width\":0.5},\"pattern\":{\"fillmode\":\"overlay\",\"size\":10,\"solidity\":0.2}},\"type\":\"barpolar\"}],\"pie\":[{\"automargin\":true,\"type\":\"pie\"}]},\"layout\":{\"autotypenumbers\":\"strict\",\"colorway\":[\"#636efa\",\"#EF553B\",\"#00cc96\",\"#ab63fa\",\"#FFA15A\",\"#19d3f3\",\"#FF6692\",\"#B6E880\",\"#FF97FF\",\"#FECB52\"],\"font\":{\"color\":\"#2a3f5f\"},\"hovermode\":\"closest\",\"hoverlabel\":{\"align\":\"left\"},\"paper_bgcolor\":\"white\",\"plot_bgcolor\":\"#E5ECF6\",\"polar\":{\"bgcolor\":\"#E5ECF6\",\"angularaxis\":{\"gridcolor\":\"white\",\"linecolor\":\"white\",\"ticks\":\"\"},\"radialaxis\":{\"gridcolor\":\"white\",\"linecolor\":\"white\",\"ticks\":\"\"}},\"ternary\":{\"bgcolor\":\"#E5ECF6\",\"aaxis\":{\"gridcolor\":\"white\",\"linecolor\":\"white\",\"ticks\":\"\"},\"baxis\":{\"gridcolor\":\"white\",\"linecolor\":\"white\",\"ticks\":\"\"},\"caxis\":{\"gridcolor\":\"white\",\"linecolor\":\"white\",\"ticks\":\"\"}},\"coloraxis\":{\"colorbar\":{\"outlinewidth\":0,\"ticks\":\"\"}},\"colorscale\":{\"sequential\":[[0.0,\"#0d0887\"],[0.1111111111111111,\"#46039f\"],[0.2222222222222222,\"#7201a8\"],[0.3333333333333333,\"#9c179e\"],[0.4444444444444444,\"#bd3786\"],[0.5555555555555556,\"#d8576b\"],[0.6666666666666666,\"#ed7953\"],[0.7777777777777778,\"#fb9f3a\"],[0.8888888888888888,\"#fdca26\"],[1.0,\"#f0f921\"]],\"sequentialminus\":[[0.0,\"#0d0887\"],[0.1111111111111111,\"#46039f\"],[0.2222222222222222,\"#7201a8\"],[0.3333333333333333,\"#9c179e\"],[0.4444444444444444,\"#bd3786\"],[0.5555555555555556,\"#d8576b\"],[0.6666666666666666,\"#ed7953\"],[0.7777777777777778,\"#fb9f3a\"],[0.8888888888888888,\"#fdca26\"],[1.0,\"#f0f921\"]],\"diverging\":[[0,\"#8e0152\"],[0.1,\"#c51b7d\"],[0.2,\"#de77ae\"],[0.3,\"#f1b6da\"],[0.4,\"#fde0ef\"],[0.5,\"#f7f7f7\"],[0.6,\"#e6f5d0\"],[0.7,\"#b8e186\"],[0.8,\"#7fbc41\"],[0.9,\"#4d9221\"],[1,\"#276419\"]]},\"xaxis\":{\"gridcolor\":\"white\",\"linecolor\":\"white\",\"ticks\":\"\",\"title\":{\"standoff\":15},\"zerolinecolor\":\"white\",\"automargin\":true,\"zerolinewidth\":2},\"yaxis\":{\"gridcolor\":\"white\",\"linecolor\":\"white\",\"ticks\":\"\",\"title\":{\"standoff\":15},\"zerolinecolor\":\"white\",\"automargin\":true,\"zerolinewidth\":2},\"scene\":{\"xaxis\":{\"backgroundcolor\":\"#E5ECF6\",\"gridcolor\":\"white\",\"linecolor\":\"white\",\"showbackground\":true,\"ticks\":\"\",\"zerolinecolor\":\"white\",\"gridwidth\":2},\"yaxis\":{\"backgroundcolor\":\"#E5ECF6\",\"gridcolor\":\"white\",\"linecolor\":\"white\",\"showbackground\":true,\"ticks\":\"\",\"zerolinecolor\":\"white\",\"gridwidth\":2},\"zaxis\":{\"backgroundcolor\":\"#E5ECF6\",\"gridcolor\":\"white\",\"linecolor\":\"white\",\"showbackground\":true,\"ticks\":\"\",\"zerolinecolor\":\"white\",\"gridwidth\":2}},\"shapedefaults\":{\"line\":{\"color\":\"#2a3f5f\"}},\"annotationdefaults\":{\"arrowcolor\":\"#2a3f5f\",\"arrowhead\":0,\"arrowwidth\":1},\"geo\":{\"bgcolor\":\"white\",\"landcolor\":\"#E5ECF6\",\"subunitcolor\":\"white\",\"showland\":true,\"showlakes\":true,\"lakecolor\":\"white\"},\"title\":{\"x\":0.05},\"mapbox\":{\"style\":\"light\"}}},\"xaxis\":{\"anchor\":\"y\",\"domain\":[0.0,1.0],\"title\":{\"text\":\"Notas de Matem\\u00e1tica\"}},\"yaxis\":{\"anchor\":\"x\",\"domain\":[0.0,1.0],\"title\":{\"text\":\"probability\"}},\"legend\":{\"title\":{\"text\":\"SEXO\"},\"tracegroupgap\":0},\"margin\":{\"t\":60},\"barmode\":\"relative\",\"title\":{\"font\":{\"color\":\"#005DAA\"},\"text\":\"Notas Matem\\u00e1tica - SC - ENEM 2022\",\"x\":0.5,\"xanchor\":\"center\"},\"width\":600,\"height\":500},                        {\"responsive\": true}                    ).then(function(){\n",
              "                            \n",
              "var gd = document.getElementById('47d237e1-a15c-4ac8-86d0-36d7c79c2203');\n",
              "var x = new MutationObserver(function (mutations, observer) {{\n",
              "        var display = window.getComputedStyle(gd).display;\n",
              "        if (!display || display === 'none') {{\n",
              "            console.log([gd, 'removed!']);\n",
              "            Plotly.purge(gd);\n",
              "            observer.disconnect();\n",
              "        }}\n",
              "}});\n",
              "\n",
              "// Listen for the removal of the full notebook cells\n",
              "var notebookContainer = gd.closest('#notebook-container');\n",
              "if (notebookContainer) {{\n",
              "    x.observe(notebookContainer, {childList: true});\n",
              "}}\n",
              "\n",
              "// Listen for the clearing of the current output cell\n",
              "var outputEl = gd.closest('.output');\n",
              "if (outputEl) {{\n",
              "    x.observe(outputEl, {childList: true});\n",
              "}}\n",
              "\n",
              "                        })                };                            </script>        </div>\n",
              "</body>\n",
              "</html>"
            ]
          },
          "metadata": {}
        }
      ]
    },
    {
      "cell_type": "markdown",
      "source": [
        "## 18) <font color='#005DAA'><b> Você acha que existe uma diferença significativa entre as notas de matemática do Sexo Feminino e Masculino?\n",
        "\n"
      ],
      "metadata": {
        "id": "1qsswS7nx2qf"
      }
    },
    {
      "cell_type": "code",
      "source": [
        "c_palette = ['#ADE3F8', '#005DAA', 'tab:green']\n",
        "\n",
        "sns.boxplot(x='SEXO', y = 'NOTA_MT', data=df1_sc, palette=c_palette)\n",
        "# Defina o rótulo do eixo x\n",
        "plt.ylabel('Notas de Matemática')"
      ],
      "metadata": {
        "colab": {
          "base_uri": "https://localhost:8080/",
          "height": 466
        },
        "id": "THvrnqaIcZgE",
        "outputId": "2f8114bf-38a3-446c-ffcd-45dc4db9b86a"
      },
      "execution_count": 62,
      "outputs": [
        {
          "output_type": "execute_result",
          "data": {
            "text/plain": [
              "Text(0, 0.5, 'Notas de Matemática')"
            ]
          },
          "metadata": {},
          "execution_count": 62
        },
        {
          "output_type": "display_data",
          "data": {
            "text/plain": [
              "<Figure size 640x480 with 1 Axes>"
            ],
            "image/png": "[encoded data removed]"
          },
          "metadata": {}
        }
      ]
    },
    {
      "cell_type": "markdown",
      "source": [
        "## 19) <font color='#005DAA'><b> Você sabe me dizer como podemos verificar se há uma diferença significativa entre as notas de matemática do Sexo Feminino e Masculino? Qual teste ou análise estatítica podemos fazer?\n"
      ],
      "metadata": {
        "id": "7xH9ZCbOx3cF"
      }
    },
    {
      "cell_type": "markdown",
      "source": [
        "___"
      ],
      "metadata": {
        "id": "yvKNRoj-xn7f"
      }
    },
    {
      "cell_type": "markdown",
      "source": [
        "## 20) <font color='#005DAA'><b> Faça uma análise estatítica para apresentar a distribuição da variável \"SEXO\", neste DataSet.\n",
        "\n"
      ],
      "metadata": {
        "id": "yMhQO-lz0xTb"
      }
    },
    {
      "cell_type": "code",
      "source": [
        "# Contar o número de ocorrências de cada categoria\n",
        "contagem_sexo = df1_sc['SEXO'].value_counts()\n",
        "\n",
        "# Cores das categorias\n",
        "cores = ['#ADE3F8', '#005DAA']\n",
        "\n",
        "# Função de mapeamento dos rótulos\n",
        "def label_map(SEXO):\n",
        "    if SEXO == 'M':\n",
        "        return 'Masculino'\n",
        "    elif SEXO == 'F':\n",
        "        return 'Feminino'\n",
        "    else:\n",
        "        return SEXO\n",
        "\n",
        "# Mapear os rótulos\n",
        "novos_labels = contagem_sexo.index.map(label_map)\n",
        "\n",
        "# Criar o gráfico de pizza\n",
        "plt.pie(contagem_sexo, labels=novos_labels, colors=cores, autopct='%1.1f%%')\n",
        "\n",
        "# Adicionar título\n",
        "plt.title('Distribuição de Gênero')\n",
        "\n",
        "# Exibir o gráfico\n",
        "plt.show()"
      ],
      "metadata": {
        "colab": {
          "base_uri": "https://localhost:8080/",
          "height": 429
        },
        "id": "QoHSWh3Xd0Op",
        "outputId": "2f1ed16a-1e8d-4354-b47d-2e00f1bb75a2"
      },
      "execution_count": 63,
      "outputs": [
        {
          "output_type": "display_data",
          "data": {
            "text/plain": [
              "<Figure size 640x480 with 1 Axes>"
            ],
            "image/png": "[encoded data removed]"
          },
          "metadata": {}
        }
      ]
    },
    {
      "cell_type": "markdown",
      "source": [
        "Responda: Quais análises estatísticas você pode fazer?\n"
      ],
      "metadata": {
        "id": "ZXiuf2yw0I82"
      }
    },
    {
      "cell_type": "markdown",
      "source": [
        "## 21) <font color='#005DAA'><b> Faça uma análise estatística diferente  para apresentar a distribuição do Tipo de Escola (Pública ou Privada), neste DataSet.\n",
        "\n",
        "\n"
      ],
      "metadata": {
        "id": "dg7phbziSQfR"
      }
    },
    {
      "cell_type": "markdown",
      "source": [
        "Variável: TP_ESCOLA\n",
        "1 = Não respondeu\n",
        "2 = Pública\n",
        "3 = Privada\n",
        "4 = Exterior"
      ],
      "metadata": {
        "id": "dtzqNmiD0181"
      }
    },
    {
      "cell_type": "code",
      "source": [
        "# Mapear os códigos para as categorias desejadas\n",
        "mapeamento_tp_escola = {1: 'Não respondeu', 2: 'Pública', 3: 'Privada', 4: 'Exterior'}\n",
        "\n",
        "# Mapear os valores da variável TP_ESCOLA\n",
        "tp_escola_mapeado = df1_sc['TP_ESCOLA'].map(mapeamento_tp_escola)\n",
        "\n",
        "# Contar o número de ocorrências de cada categoria\n",
        "contagem_tp_escola = tp_escola_mapeado.value_counts()\n",
        "\n",
        "plt.figure(figsize=(5, 4))\n",
        "\n",
        "\n",
        "# Cores das categorias\n",
        "cores = ['#ADE3F8', '#005DAA']\n",
        "\n",
        "# Criar o gráfico de barras\n",
        "plt.bar(contagem_tp_escola.index, contagem_tp_escola, color = cores, tick_label=[f'{cat}\\n{val/sum(contagem_tp_escola)*100:.1f}%'\n",
        "                    for cat, val in zip(contagem_tp_escola.index, contagem_tp_escola)])\n",
        "\n",
        "\n",
        "# Adicionar rótulos aos eixos\n",
        "plt.xlabel('Tipo de Escola')\n",
        "plt.ylabel('Contagem')\n",
        "\n",
        "# Adicionar título\n",
        "plt.title('Distribuição de Tipo de Escola')\n",
        "\n",
        "# Exibir o gráfico\n",
        "plt.show()"
      ],
      "metadata": {
        "colab": {
          "base_uri": "https://localhost:8080/",
          "height": 426
        },
        "id": "CpbCHqiCfinV",
        "outputId": "bd90f312-bcb8-42b6-8a19-e928b041d976"
      },
      "execution_count": 64,
      "outputs": [
        {
          "output_type": "display_data",
          "data": {
            "text/plain": [
              "<Figure size 500x400 with 1 Axes>"
            ],
            "image/png": "[encoded data removed]"
          },
          "metadata": {}
        }
      ]
    },
    {
      "cell_type": "markdown",
      "source": [
        "## 22) <font color='#005DAA'><b> Faça uma análise descritiva para verificar as notas de matemática por tipo de escola. Será que há uma diferença significativa?"
      ],
      "metadata": {
        "id": "v5trHETvlwrr"
      }
    },
    {
      "cell_type": "markdown",
      "source": [
        "Fim Deste Notebook."
      ],
      "metadata": {
        "id": "fGFOy3S4xxYN"
      }
    },
    {
      "cell_type": "code",
      "source": [],
      "metadata": {
        "id": "5PA6xgiZUtHn"
      },
      "execution_count": null,
      "outputs": []
    },
    {
      "cell_type": "code",
      "source": [
        "# Mapear os códigos para as categorias desejadas\n",
        "mapeamento_tp_escola = {1: 'Não respondeu', 2: 'Pública', 3: 'Privada', 4: 'Exterior'}\n",
        "\n",
        "# Mapear os valores da variável TP_ESCOLA\n",
        "tp_escola_mapeado = df1_sc['TP_ESCOLA'].map(mapeamento_tp_escola)\n",
        "\n",
        "# Contar o número de ocorrências de cada categoria\n",
        "contagem_tp_escola = tp_escola_mapeado.value_counts()\n",
        "\n",
        "# Cores das categorias\n",
        "cores = ['#ADE3F8', '#005DAA', '#67BA62', '#F5B324']\n",
        "\n",
        "# Função de mapeamento dos rótulos\n",
        "def label_map(ESCOLA):\n",
        "    if ESCOLA == '1':\n",
        "        return 'Não respondeu'\n",
        "    elif ESCOLA == '2':\n",
        "        return 'Pública'\n",
        "    elif ESCOLA == '3':\n",
        "        return 'Privada'\n",
        "    elif ESCOLA == '4':\n",
        "        return 'Exterior'\n",
        "    else:\n",
        "        return ESCOLA\n",
        "\n",
        "# Mapear os rótulos\n",
        "novos_labels = contagem_tp_escola.map(label_map)\n",
        "\n",
        "# Criar o gráfico de pizza\n",
        "plt.pie(contagem_tp_escola, labels=novos_labels, colors=cores, autopct='%1.1f%%')\n",
        "\n",
        "# Adicionar título\n",
        "plt.title('Distribuição de Notas de MAtemática por Tipo de Escola')\n",
        "\n",
        "# Exibir o gráfico\n",
        "plt.show()\n"
      ],
      "metadata": {
        "colab": {
          "base_uri": "https://localhost:8080/",
          "height": 429
        },
        "outputId": "c88fb3bb-4601-4718-a3a2-589bcc061a81",
        "id": "CMlw0OnDUtwc"
      },
      "execution_count": 74,
      "outputs": [
        {
          "output_type": "display_data",
          "data": {
            "text/plain": [
              "<Figure size 640x480 with 1 Axes>"
            ],
            "image/png": "[encoded data removed]"
          },
          "metadata": {}
        }
      ]
    },
    {
      "cell_type": "code",
      "source": [
        "# Faça o Histograma ou BoxPlot das Notas de Matemática por Tipo de Escola\n",
        "import plotly.express as px\n",
        "grafico3 =  px.histogram (df1_sc,  x = \"NOTA_MT\", nbins=40, histnorm='probability', color='TP_ESCOLA',color_discrete_sequence=['#ADE3F8', '#005DAA', '#67BA62', '#F5B324'])\n",
        "grafico3.update_layout(width=600,height=500, title_font_color = '#005DAA', title={\n",
        "        'text': 'Notas Matemática por Tipo de Escola - SC - ENEM 2022',\n",
        "        'x': 0.5,\n",
        "        'xanchor': 'center'\n",
        "    })\n",
        "grafico3.update_xaxes(title_text=\"Notas de Matemática por tipo de escola\")\n",
        "#grafico2.update_traces(marker_color='#005DAA')\n",
        "#grafico2.update_traces(marker_color={'F': '#005DAA', 'M': '#ADE3F8'}) # Altere as cores conforme necessário\n",
        "grafico3.show()"
      ],
      "metadata": {
        "id": "h9Yi7AMSUsvr",
        "outputId": "65bd0def-230d-44c4-fb63-68262749f0af",
        "colab": {
          "base_uri": "https://localhost:8080/",
          "height": 517
        }
      },
      "execution_count": 76,
      "outputs": [
        {
          "output_type": "display_data",
          "data": {
            "text/html": [
              "<html>\n",
              "<head><meta charset=\"utf-8\" /></head>\n",
              "<body>\n",
              "    <div>            <script src=\"https://cdnjs.cloudflare.com/ajax/libs/mathjax/2.7.5/MathJax.js?config=TeX-AMS-MML_SVG\"></script><script type=\"text/javascript\">if (window.MathJax && window.MathJax.Hub && window.MathJax.Hub.Config) {window.MathJax.Hub.Config({SVG: {font: \"STIX-Web\"}});}</script>                <script type=\"text/javascript\">window.PlotlyConfig = {MathJaxConfig: 'local'};</script>\n",
              "        <script src=\"https://cdn.plot.ly/plotly-2.18.2.min.js\"></script>                <div id=\"d631fbd3-3f8c-4dea-a955-dd940ce4a46b\" class=\"plotly-graph-div\" style=\"height:500px; width:600px;\"></div>            <script type=\"text/javascript\">                                    window.PLOTLYENV=window.PLOTLYENV || {};                                    if (document.getElementById(\"d631fbd3-3f8c-4dea-a955-dd940ce4a46b\")) {                    Plotly.newPlot(                        \"d631fbd3-3f8c-4dea-a955-dd940ce4a46b\",                        [{\"alignmentgroup\":\"True\",\"bingroup\":\"x\",\"histnorm\":\"probability\",\"hovertemplate\":\"TP_ESCOLA=2<br>NOTA_MT=%{x}<br>probability=%{y}<extra></extra>\",\"legendgroup\":\"2\",\"marker\":{\"color\":\"#ADE3F8\",\"pattern\":{\"shape\":\"\"}},\"name\":\"2\",\"nbinsx\":40,\"offsetgroup\":\"2\",\"orientation\":\"v\",\"showlegend\":true,\"x\":[472.4,510.2,582.3,629.8,569.4,745.0,460.5,491.6,598.5,505.2,464.5,null,418.4,555.0,null,392.1,478.9,611.7,586.7,477.0,546.1,null,412.3,536.0,688.5,null,716.0,null,682.6,625.2,493.9,417.1,371.1,539.0,382.5,442.3,601.8,629.4,488.2,429.5,564.4,747.1,514.4,396.5,533.0,null,null,null,641.9,null,517.4,null,580.8,null,null,842.4,579.1,693.7,null,611.3,477.3,427.7,404.9,640.1,613.2,546.0,585.1,450.4,541.2,382.5,382.7,592.3,null,405.8,643.3,644.1,776.2,552.6,475.3,453.8,433.2,517.8,471.9,658.9,406.9,752.7,492.1,null,407.5,425.7,581.1,641.4,405.5,631.5,643.9,608.3,504.9,493.0,575.7,728.0,586.0,null,547.1,474.8,590.8,613.0,581.3,627.1,489.5,359.0,484.2,null,null,null,704.4,528.8,null,null,501.1,515.1,469.7,656.4,null,470.6,662.9,550.3,455.1,669.4,483.9,529.5,616.5,478.5,547.7,587.6,699.2,412.1,664.1,528.6,784.2,null,460.4,578.5,560.4,451.1,535.5,null,null,null,648.4,null,639.4,564.9,499.3,486.6,439.4,588.6,797.0,642.1,546.8,797.0,609.2,null,594.3,512.7,494.0,432.9,null,null,585.8,581.5,606.5,465.8,762.3,584.3,589.4,404.7,566.8,488.8,588.0,516.9,588.9,644.1,null,566.8,null,710.3,484.2,465.1,421.3,null,590.5,644.3,null,444.5,null,400.4,null,674.5,null,495.8,null,431.3,null,455.5,558.9,null,766.0,509.6,499.0,461.0,535.6,629.5,582.4,608.7,481.5,535.3,661.7,539.0,418.5,436.6,null,458.3,494.2,459.9,null,622.8,655.4,661.8,424.0,670.3,502.6,null,497.8,null,474.0,345.7,469.5,386.3,420.9,522.9,null,489.8,null,468.8,742.3,396.9,518.4,639.1,579.1,701.9,664.4,678.9,480.5,675.7,615.1,null,613.2,null,436.1,null,640.7,617.8,520.5,458.1,610.5,null,461.4,582.6,456.4,672.1,456.4,596.6,394.0,743.2,720.7,599.5,723.3,477.5,359.1,616.2,null,512.7,null,null,695.1,647.5,359.3,null,690.3,442.5,null,656.0,657.6,570.8,404.8,586.6,707.7,null,536.4,494.7,401.8,635.4,null,733.8,null,null,399.3,639.1,420.3,466.0,384.2,469.2,null,441.9,700.6,null,446.8,749.0,730.5,530.7,667.0,441.4,597.8,433.2,624.6,571.6,null,714.1,673.6,null,510.5,559.3,491.6,381.5,693.5,669.7,753.9,405.3,572.4,651.6,617.6,648.8,480.9,null,494.9,445.1,547.1,441.1,null,666.0,513.3,581.4,599.4,591.3,494.2,591.6,545.8,null,661.9,587.0,623.7,524.8,435.0,null,null,678.7,611.6,592.2,null,null,759.2,488.9,743.6,625.1,368.6,638.5,545.5,495.0,443.3,412.9,543.3,432.9,null,609.1,620.3,458.2,560.5,569.1,731.5,433.2,548.1,601.5,511.7,618.2,698.9,681.6,609.7,448.1,375.1,593.4,505.4,null,631.0,null,null,766.6,419.2,580.5,null,373.0,null,581.4,596.4,null,425.5,752.3,507.1,760.7,575.3,710.2,null,418.9,385.3,568.4,407.3,509.6,null,606.2,null,648.8,null,446.5,568.9,503.6,375.7,502.5,605.1,null,421.2,597.4,579.9,null,588.3,null,508.7,529.6,458.1,505.8,511.1,null,null,561.9,358.6,465.6,552.1,813.9,635.0,533.5,482.5,468.2,477.9,456.7,null,567.8,null,638.1,485.3,427.8,550.0,null,478.1,426.2,392.2,524.1,null,null,469.4,564.9,null,null,643.6,411.2,376.8,null,492.5,617.0,null,682.1,430.2,595.8,680.4,507.9,null,558.1,525.0,352.3,562.3,567.8,497.4,568.2,null,402.0,498.6,640.4,null,559.7,null,373.9,null,null,null,450.9,432.1,556.0,534.3,647.5,null,null,610.6,762.8,664.0,657.1,528.2,462.2,636.1,465.8,null,414.7,543.9,544.7,465.7,null,624.2,518.5,354.0,425.1,388.5,553.7,372.4,720.9,null,561.0,566.8,null,636.5,395.3,609.3,null,null,424.6,null,495.3,436.6,738.3,476.0,835.0,595.4,575.3,611.3,575.2,434.9,626.9,null,null,610.3,639.5,null,508.6,657.4,643.0,669.1,544.8,517.2,null,499.4,609.2,475.9,536.0,null,null,597.3,580.0,668.9,null,592.0,545.2,439.3,601.8,561.4,666.3,592.2,491.9,491.9,639.0,477.1,568.3,null,525.8,null,648.4,560.8,624.5,380.9,494.4,488.7,651.7,523.5,649.5,505.8,648.7,479.3,516.9,420.9,661.0,null,454.3,null,null,494.9,459.1,544.7,599.8,693.9,null,648.2,515.5,null,504.2,511.9,null,680.3,374.0,null,546.0,685.8,null,null,427.9,635.9,520.3,556.4,571.4,499.0,562.7,659.8,484.1,417.5,404.1,375.6,417.3,550.9,476.6,503.4,457.8,387.0,null,509.7,565.0,376.4,430.0,683.7,null,null,489.9,null,551.4,null,513.1,450.5,565.1,null,null,469.5,651.4,490.8,null,502.3,737.4,null,389.4,612.2,null,536.7,504.2,418.5,681.1,648.8,518.3,452.7,null,null,524.6,401.7,null,457.6,492.6,601.7,581.7,603.4,529.8,440.1,630.3,null,null,612.3,602.7,null,618.1,394.5,null,664.3,472.3,682.5,390.2,370.8,484.3,429.1,null,499.2,414.7,648.5,501.0,499.7,530.0,565.9,699.1,448.4,433.1,729.0,562.8,null,645.6,630.0,585.8,610.3,542.1,692.0,null,null,504.0,null,null,629.0,641.0,531.0,516.8,null,602.5,371.6,614.7,613.0,558.1,597.7,387.6,518.5,513.6,null,623.8,406.4,null,521.9,427.5,640.8,628.1,null,null,679.4,662.1,382.3,594.4,472.7,634.4,492.2,447.6,518.0,554.7,535.2,null,null,null,538.5,639.0,692.6,540.0,444.3,551.7,null,null,459.0,null,358.1,654.8,405.7,612.8,537.3,null,null,586.1,null,null,379.1,null,574.1,null,null,676.8,682.5,null,null,478.5,533.2,568.2,508.2,null,null,601.8,594.7,572.3,642.0,null,628.4,616.5,371.1,null,477.0,612.2,449.4,605.9,438.7,442.0,522.2,658.2,null,531.3,null,null,455.3,591.2,637.5,615.8,549.7,513.9,null,510.7,null,627.1,null,356.7,473.7,531.5,507.7,522.6,634.6,null,669.4,583.2,355.7,null,585.9,520.8,468.1,672.6,null,null,413.5,430.7,665.3,null,null,582.5,null,null,639.1,null,428.7,577.1,505.9,584.0,620.2,607.5,585.9,524.6,553.4,533.9,438.8,627.0,640.4,605.3,532.2,null,610.3,426.5,492.8,458.5,null,734.5,635.5,470.4,667.6,409.2,380.6,607.5,651.8,510.7,609.1,null,751.3,null,700.2,null,null,572.2,null,496.8,622.4,697.2,null,null,null,575.4,383.1,614.3,719.8,482.3,453.2,522.1,590.5,641.8,616.0,509.2,729.8,462.9,391.0,null,null,344.8,null,null,null,566.4,630.7,681.4,457.8,609.7,379.0,577.5,362.2,588.6,832.8,530.9,596.8,514.8,627.4,386.9,534.9,null,660.3,601.1,748.3,416.6,561.9,614.0,381.1,601.9,578.6,626.1,561.6,698.3,613.4,582.3,783.3,407.9,559.7,618.7,606.4,519.1,489.1,581.8,null,586.8,592.6,596.1,null,714.6,640.9,null,432.2,721.4,null,581.7,442.4,409.8,588.0,733.4,null,614.1,null,448.7,463.8,null,740.2,592.4,431.3,415.4,476.3,540.2,null,666.9,507.4,610.9,493.8,653.6,644.4,564.9,629.1,527.5,629.3,null,621.5,530.9,731.3,null,366.8,566.3,563.7,642.5,644.3,635.2,null,null,508.3,342.9,559.4,596.0,null,494.4,512.3,648.8,385.7,517.2,481.6,null,null,424.8,591.1,650.0,593.4,504.6,634.1,642.1,445.2,487.3,null,399.0,663.8,519.2,552.3,null,null,null,378.4,476.0,616.8,null,454.8,666.9,619.9,437.6,510.8,673.1,null,572.8,738.5,419.0,363.8,687.8,608.6,null,null,550.5,525.7,null,563.9,569.8,null,459.3,638.9,645.4,null,496.2,453.9,null,674.7,465.8,520.1,446.0,801.2,404.1,524.8,488.9,null,645.2,null,395.4,578.6,null,619.0,560.3,null,502.2,566.0,null,449.9,383.1,532.3,519.6,null,441.5,453.6,488.3,597.2,453.1,null,814.8,594.7,null,null,421.6,510.2,519.1,null,443.3,498.3,null,605.9,null,578.7,646.0,454.5,681.1,548.5,486.1,545.1,486.8,null,552.8,468.0,503.9,761.2,524.0,511.0,575.2,431.3,426.6,411.6,444.6,null,null,700.1,null,705.6,761.4,547.9,635.5,604.7,485.7,518.3,599.5,513.7,613.5,581.3,433.7,502.8,637.9,645.7,null,408.1,597.9,448.4,474.2,486.7,411.5,471.5,427.5,691.2,499.5,383.9,741.6,null,629.4,616.7,545.0,579.0,629.3,347.9,639.9,615.0,null,null,469.1,608.4,406.1,null,null,643.5,595.1,477.0,665.8,476.1,670.3,647.1,506.7,566.4,506.2,650.7,null,455.6,null,363.7,512.2,535.1,618.4,454.8,591.8,544.6,460.0,606.3,654.5,710.1,427.7,367.1,615.3,459.2,376.5,534.8,null,559.7,552.5,725.0,490.1,430.2,502.1,598.1,553.4,null,566.1,576.3,744.6,null,406.2,525.3,604.2,413.2,577.5,null,774.2,444.4,719.7,null,545.0,543.5,410.9,554.5,null,630.5,419.0,461.8,614.4,715.7,552.2,566.6,627.9,463.0,null,485.6,820.3,423.7,592.7,470.2,455.1,null,723.3,567.6,416.6,480.9,588.8,559.8,661.7,434.9,420.1,571.0,548.0,459.3,580.9,431.0,601.6,null,401.8,528.8,600.6,474.0,null,662.8,null,679.7,441.7,658.7,null,519.7,null,608.1,584.1,408.4,null,604.2,581.6,645.3,539.5,600.7,579.2,null,456.0,618.4,null,563.0,633.5,593.2,599.5,432.0,487.1,588.4,475.4,491.6,604.2,null,null,562.1,575.0,380.6,450.5,null,408.1,null,420.8,407.3,null,607.3,null,625.4,453.3,null,436.0,486.2,510.0,633.7,524.3,462.8,null,421.7,null,null,545.7,null,null,460.3,448.4,657.1,414.9,544.7,null,null,null,528.7,549.3,613.0,642.1,507.2,585.5,null,null,629.1,null,536.3,619.2,700.6,711.0,564.3,545.6,586.2,536.9,580.6,482.4,442.3,583.5,633.9,null,null,396.8,390.4,525.0,491.6,null,443.7,534.1,565.9,688.9,582.7,663.6,570.7,null,null,505.4,387.8,587.5,450.0,null,702.1,525.4,408.3,430.3,null,464.7,673.4,null,null,null,null,510.4,null,696.0,440.7,646.7,null,618.0,543.3,480.2,null,678.5,null,639.5,602.1,null,504.8,638.0,652.4,null,486.9,731.4,587.3,419.4,393.0,null,null,null,558.3,null,542.3,522.6,410.3,605.0,519.8,411.6,453.6,522.9,559.5,387.5,633.5,475.5,571.7,null,432.6,null,508.1,500.0,507.6,688.4,422.1,497.8,708.3,null,388.3,null,722.6,634.2,651.1,544.4,630.5,381.8,707.9,389.0,672.5,525.7,638.4,452.3,550.9,null,652.5,600.2,567.1,647.5,410.0,519.7,null,414.1,657.7,501.6,null,618.9,577.1,null,557.2,619.9,null,554.5,424.6,null,561.8,403.7,431.6,null,443.4,686.5,466.2,588.2,532.0,482.1,null,692.9,657.7,410.1,null,483.9,529.7,604.4,null,394.2,null,585.6,559.4,null,null,573.2,571.5,479.1,null,449.5,451.4,null,null,null,391.0,574.6,384.2,506.3,null,null,643.9,502.2,406.3,null,469.1,632.6,438.0,466.4,476.9,738.1,null,387.7,null,544.7,null,618.6,null,515.3,543.8,null,548.9,463.0,474.6,418.7,513.4,null,null,null,499.4,429.2,645.4,505.2,377.7,479.4,645.4,null,608.2,542.5,564.9,615.6,602.9,null,560.4,459.6,null,null,588.6,562.3,null,null,552.2,null,466.8,396.0,null,453.5,null,null,493.3,481.9,418.4,588.3,605.3,531.6,null,582.2,null,null,611.2,476.1,624.4,587.7,515.5,612.6,373.8,null,354.7,449.2,529.7,null,564.1,434.0,546.3,null,355.9,524.8,643.8,486.5,620.9,519.9,673.3,571.0,561.5,569.5,null,null,493.1,507.4,489.2,548.1,727.3,549.5,676.4,781.1,null,594.7,472.0,null,448.4,null,818.3,384.9,559.5,522.0,562.1,null,null,477.1,null,null,487.2,437.2,615.1,null,683.4,504.1,603.0,null,571.5,396.3,null,503.0,null,593.4,null,413.8,526.5,410.6,625.4,605.6,375.8,null,null,780.4,638.7,405.0,524.8,548.0,791.4,null,535.9,515.6,459.9,701.1,539.3,506.8,null,null,608.7,null,535.4,552.7,522.5,575.9,374.4,649.7,445.7,null,492.7,495.4,null,422.8,581.2,390.4,356.2,527.7,null,441.9,550.0,422.9,630.1,null,585.5,null,625.6,358.0,null,611.8,null,624.7,547.0,794.9,619.1,null,442.1,530.6,478.5,607.4,590.4,null,549.5,516.7,null,579.2,485.7,676.7,381.0,637.6,796.5,587.2,521.7,449.4,433.4,475.6,null,579.1,666.4,null,null,null,699.5,638.8,389.5,506.8,698.3,527.3,648.9,null,null,646.4,676.5,null,560.3,458.3,410.5,602.1,null,null,513.3,null,452.7,null,null,702.8,null,605.1,705.3,540.6,541.0,467.8,423.6,411.7,null,611.3,406.1,641.2,519.5,384.7,586.2,513.3,null,752.8,558.5,414.4,509.6,501.4,468.2,490.8,436.0,null,589.3,463.5,481.7,669.3,661.0,null,637.5,null,null,599.9,530.7,604.7,594.2,439.7,505.2,723.1,597.5,null,null,620.9,608.5,475.2,745.9,null,435.4,501.8,595.3,477.9,533.8,618.3,469.5,744.1,538.8,558.8,null,426.7,532.3,410.2,473.2,379.8,null,null,567.8,555.7,532.1,null,372.2,511.6,780.7,null,483.1,590.4,null,null,382.2,null,633.5,453.7,null,471.4,789.9,434.3,685.9,584.0,null,649.6,null,null,null,null,678.7,519.9,431.0,586.6,634.3,619.6,484.7,537.0,538.2,615.0,659.7,null,523.5,573.1,null,402.8,378.7,520.6,498.9,596.5,492.7,589.9,516.1,515.1,409.2,null,603.1,554.8,null,639.1,592.0,425.3,null,412.2,null,706.1,null,479.5,482.1,575.5,371.0,535.4,null,null,494.3,543.2,409.8,null,396.7,563.9,469.2,678.3,447.7,629.5,623.5,603.4,529.1,445.6,null,577.5,null,462.2,616.6,null,626.9,486.4,554.6,441.3,547.9,427.4,539.6,381.8,498.3,528.2,577.3,563.1,null,635.3,null,null,620.9,419.3,478.0,418.5,null,503.8,null,488.4,null,502.6,592.1,null,null,566.3,394.5,414.1,462.8,609.7,null,392.5,499.0,null,590.7,null,706.2,635.1,612.6,591.3,356.1,498.1,464.1,568.0,null,null,586.8,725.1,640.0,579.4,409.0,622.4,null,523.3,432.6,546.0,496.3,482.8,494.9,null,652.4,514.2,583.9,604.6,417.4,566.0,624.5,595.2,364.8,575.2,null,433.7,763.9,460.4,401.4,null,null,null,664.4,750.2,651.8,842.2,null,380.0,485.4,null,530.9,657.3,427.0,694.0,416.5,528.0,null,458.8,461.1,null,414.4,null,367.9,455.8,672.6,null,null,460.0,696.2,651.1,430.8,619.6,698.2,null,471.4,420.2,418.9,632.6,498.3,630.4,440.6,null,389.8,558.7,427.5,494.9,null,411.2,509.7,627.7,460.2,668.1,null,436.0,499.1,null,null,458.2,670.6,561.6,null,637.6,null,614.3,null,null,715.2,415.1,null,699.7,761.5,null,null,677.9,527.2,594.6,531.2,null,589.1,null,557.8,null,530.2,572.9,482.3,557.8,593.8,null,549.6,763.5,458.6,389.1,580.9,null,406.1,637.1,665.2,512.9,651.1,681.7,null,627.4,440.7,446.1,550.2,595.0,471.7,null,523.7,661.3,531.5,552.3,null,480.9,381.2,622.7,531.9,577.9,415.7,610.5,603.3,405.7,445.1,520.8,571.1,448.1,573.5,361.2,548.7,645.1,null,532.7,532.2,478.8,null,646.6,485.9,null,757.4,382.4,741.1,620.3,506.6,null,676.2,552.6,632.4,579.2,659.2,405.6,483.4,728.3,357.0,490.3,null,null,null,null,675.6,null,412.0,446.1,692.1,543.5,605.0,664.3,569.7,534.7,null,null,null,574.4,661.7,781.6,720.7,351.5,null,418.5,486.5,513.3,555.5,373.5,581.1,null,804.2,619.1,536.0,418.6,523.8,564.3,373.4,493.2,null,475.0,586.8,722.3,602.7,410.4,537.7,392.6,558.8,null,null,439.5,421.4,611.9,665.8,564.5,622.4,454.8,527.3,651.9,793.3,551.7,375.4,811.4,543.8,487.2,651.4,444.5,576.4,378.0,392.2,497.0,702.9,444.5,553.0,null,478.7,519.1,470.0,null,null,633.0,511.2,540.8,553.4,null,406.3,444.5,524.9,557.2,534.1,421.3,483.4,576.2,498.3,647.0,null,556.1,null,503.3,null,622.7,554.4,503.9,570.0,658.6,517.5,429.3,429.6,454.9,514.6,513.7,533.7,598.0,null,null,748.4,702.1,540.2,463.4,648.0,null,447.2,null,480.2,577.4,null,389.3,589.4,474.5,null,539.7,558.6,511.6,null,640.5,null,554.9,446.1,684.7,521.1,457.2,null,573.3,609.3,423.9,500.1,null,null,653.1,625.5,572.0,548.5,400.7,622.1,null,null,456.0,483.1,611.2,535.8,null,543.9,657.5,null,396.2,373.7,518.4,494.8,null,651.8,null,null,437.6,734.6,456.3,null,443.3,null,553.0,null,null,null,null,null,688.4,599.0,543.7,453.1,461.0,518.4,null,null,null,null,null,448.5,433.6,null,501.3,503.3,615.0,null,544.0,510.3,508.9,477.3,null,655.0,null,743.4,503.7,614.0,519.9,740.7,504.3,null,518.3,520.2,464.5,null,543.7,648.3,null,387.8,616.7,523.0,null,null,634.7,null,660.1,396.2,506.7,502.7,613.5,656.3,null,651.7,483.8,646.2,471.2,564.8,null,488.3,null,690.1,728.2,522.8,437.8,378.8,582.1,599.7,370.4,480.1,null,null,786.2,542.4,null,null,null,405.3,null,null,477.3,654.3,569.8,668.6,null,499.2,680.9,null,544.7,null,498.7,null,569.0,442.1,597.3,438.3,815.9,543.8,595.9,null,532.6,null,null,442.6,null,null,null,622.2,514.8,434.0,466.3,381.2,623.1,null,510.3,null,null,517.9,576.5,351.0,630.1,null,452.1,null,526.8,null,675.7,435.3,703.6,null,636.1,648.4,null,null,476.6,618.2,704.2,463.0,519.1,578.6,null,477.4,null,574.3,null,574.2,769.5,433.4,null,null,625.2,642.7,533.7,null,631.3,441.7,636.2,440.0,459.1,null,null,null,null,390.1,365.7,null,404.0,null,487.4,590.4,416.1,443.7,615.9,360.7,null,525.4,536.9,null,594.2,617.7,null,null,593.3,538.8,631.2,567.1,835.2,637.8,473.1,572.3,null,455.2,496.4,null,755.4,713.5,644.4,522.6,null,569.4,534.6,364.7,493.1,421.9,457.1,631.2,636.5,null,662.7,549.4,null,563.9,552.3,524.6,null,490.8,565.4,null,486.2,null,379.0,516.7,662.2,731.5,495.3,364.2,null,358.1,594.1,625.4,672.8,707.6,null,503.7,null,442.3,null,593.8,704.8,null,null,473.7,391.0,null,556.0,548.0,null,585.8,600.2,null,603.5,575.5,534.6,465.1,616.9,597.8,571.5,null,566.6,null,null,529.5,635.5,635.3,598.0,457.9,765.2,430.0,null,652.1,568.3,null,527.7,687.5,530.5,null,390.2,395.1,604.1,414.3,null,659.9,753.4,null,null,655.5,525.6,588.0,487.1,605.8,532.9,null,null,null,null,651.4,639.9,null,null,null,null,430.3,761.3,null,null,742.9,437.3,688.4,null,498.8,446.3,610.7,800.7,619.3,490.5,615.7,722.7,640.9,602.7,352.5,454.5,393.6,383.3,409.1,434.7,null,364.9,466.3,604.1,null,null,480.5,512.1,484.7,500.5,647.9,null,null,486.1,578.0,534.7,625.0,371.3,681.6,586.7,445.7,460.0,null,569.7,458.3,476.3,528.2,null,449.5,712.4,559.9,414.2,442.2,null,null,null,399.3,471.6,null,498.0,401.8,null,732.6,null,null,572.2,445.9,514.2,528.1,392.1,null,null,424.0,null,561.6,630.0,538.6,532.4,null,null,null,392.0,472.0,486.5,685.6,null,null,417.5,null,462.5,null,443.6,536.1,null,null,533.6,424.3,null,null,491.8,654.8,null,433.9,729.9,426.4,null,648.0,505.2,551.8,null,583.2,643.6,485.5,542.4,null,null,603.8,487.7,613.8,459.9,null,null,727.3,673.9,523.8,412.3,583.6,669.0,419.7,364.1,498.4,586.7,null,683.3,779.4,null,null,566.0,490.1,698.3,521.3,null,523.1,null,591.2,526.9,462.1,null,null,487.0,670.1,null,826.8,null,null,443.6,459.0,null,null,null,635.9,439.5,621.4,null,null,633.1,536.1,null,451.1,560.3,null,null,402.1,359.9,373.7,357.3,460.1,null,null,null,366.7,655.1,null,502.5,668.0,484.7,400.4,null,374.0,659.7,null,505.5,750.9,510.3,858.2,686.4,578.7,502.8,471.3,593.4,600.9,569.5,null,420.0,null,656.2,537.7,492.4,null,762.1,null,null,null,545.7,368.9,643.5,577.5,402.4,570.0,644.3,418.3,591.6,682.2,606.5,728.0,621.5,395.9,577.8,664.6,684.4,649.1,485.4,null,625.4,603.9,610.1,null,525.0,514.6,null,538.4,544.9,621.5,699.4,719.3,457.5,420.1,408.8,601.2,null,658.2,null,565.3,476.6,548.6,573.1,null,702.2,null,521.3,457.9,627.3,null,null,495.1,null,null,446.2,408.4,666.3,605.6,510.4,436.3,null,647.3,628.4,784.6,379.1,667.6,460.3,482.9,651.0,536.2,null,518.9,437.3,433.9,503.0,439.7,null,639.5,401.9,740.4,525.7,401.0,null,null,null,466.5,584.7,null,580.2,null,null,485.5,488.8,460.5,526.2,699.4,489.1,481.0,null,null,703.9,null,717.4,623.1,null,376.3,703.5,395.6,496.8,null,598.8,499.0,null,524.0,417.3,null,597.2,null,392.4,442.0,552.0,659.0,666.2,649.6,632.7,495.4,457.8,644.0,468.5,null,null,577.9,553.0,null,432.4,472.6,399.0,713.6,486.9,391.6,null,615.3,544.4,550.8,521.6,null,379.3,593.3,500.0,547.8,591.3,602.2,627.2,464.2,null,null,520.7,null,609.8,358.6,null,672.0,626.1,null,null,null,null,395.1,545.0,590.1,552.7,692.1,null,null,657.2,null,613.7,554.3,470.5,595.3,564.5,543.9,578.2,452.1,690.4,594.5,526.8,605.4,632.6,614.4,610.6,654.9,null,584.9,448.8,592.8,490.7,585.3,583.9,497.6,536.9,679.2,688.5,586.9,597.1,652.2,742.7,655.2,574.7,null,426.9,null,519.6,553.6,795.3,560.9,null,529.0,487.7,null,497.9,632.6,629.2,681.6,756.9,459.2,null,583.1,null,618.2,null,710.7,null,399.2,684.7,598.4,658.8,769.0,722.0,599.0,null,604.7,null,null,638.8,706.2,476.1,546.8,495.1,450.8,623.3,760.9,null,443.4,null,null,null,552.7,null,null,651.3,526.6,520.9,null,578.7,null,736.9,null,636.9,410.3,775.1,681.5,438.8,null,460.4,null,480.6,431.7,null,418.0,629.1,579.9,641.4,651.3,709.3,540.9,525.0,456.0,595.5,477.4,754.5,702.4,549.6,665.7,414.1,666.3,620.6,null,405.9,514.6,499.2,602.0,540.8,548.2,573.0,495.8,null,700.1,585.2,592.2,497.8,null,null,587.0,451.1,612.1,null,635.3,579.4,null,513.9,null,587.4,604.5,522.2,679.0,587.4,500.0,915.8,457.6,431.4,693.5,679.0,616.9,622.8,529.2,null,null,621.2,477.8,null,387.6,null,null,803.2,553.9,542.0,451.7,682.8,656.3,null,593.2,null,610.8,565.3,null,602.0,549.2,null,651.1,null,443.9,611.3,559.2,441.7,641.5,685.8,null,416.2,null,564.7,null,null,null,635.8,548.0,null,null,null,634.4,684.8,601.7,542.3,540.7,644.2,494.7,null,null,487.9,426.6,579.5,572.4,536.0,652.4,444.2,536.9,485.8,733.8,756.7,584.2,584.8,440.7,638.5,498.8,null,null,572.4,445.6,609.7,358.8,672.3,null,614.8,650.5,null,440.8,null,null,null,501.5,475.8,458.3,504.3,486.2,null,705.1,530.7,429.0,533.4,null,438.2,506.6,null,718.8,355.9,439.2,611.5,null,532.9,640.8,null,679.2,634.4,637.0,581.3,null,630.0,571.4,639.5,407.3,524.5,621.9,null,582.7,410.5,604.0,639.1,679.2,492.5,null,null,null,496.2,null,635.6,null,null,442.9,430.6,378.2,null,415.6,475.3,590.8,606.9,null,496.3,441.2,538.0,438.4,695.3,582.1,476.5,560.6,611.4,null,415.6,557.4,531.2,null,665.1,null,528.9,438.5,642.8,367.5,395.9,null,462.5,null,376.5,667.5,461.9,null,null,null,595.4,401.0,484.7,432.1,526.6,733.8,null,480.4,392.4,537.1,462.1,382.8,496.3,480.2,766.2,539.2,744.3,649.7,620.4,472.3,492.7,408.3,610.9,785.8,475.8,null,null,488.5,458.8,400.1,450.2,422.2,570.1,472.9,null,524.8,458.7,712.9,485.9,392.5,476.0,649.8,455.7,636.9,521.7,null,510.4,544.7,559.0,589.9,null,501.5,490.9,519.8,454.5,440.5,null,758.0,645.9,529.8,864.1,594.7,695.8,496.2,null,462.9,443.0,710.1,null,536.8,518.3,519.5,484.3,669.9,412.2,null,700.7,517.0,null,517.3,590.0,464.4,null,null,709.6,487.5,477.0,null,null,742.1,641.1,696.5,630.3,495.1,565.4,394.2,null,695.7,411.8,526.2,529.2,null,415.2,375.1,603.5,646.7,null,null,607.3,null,380.4,572.2,null,449.9,null,395.4,499.3,null,596.1,547.9,364.7,557.7,664.4,null,504.1,623.4,457.5,721.5,714.0,512.6,null,608.3,401.1,null,498.8,471.9,605.4,490.1,459.8,null,524.3,620.6,665.4,573.5,646.3,null,502.6,622.7,null,642.5,455.0,636.3,516.6,null,524.7,null,null,null,null,436.8,539.9,401.3,null,400.9,516.6,519.8,501.6,606.3,750.0,null,638.9,638.4,429.5,408.0,623.1,null,680.8,null,528.1,472.5,512.3,480.1,459.4,572.7,524.3,561.4,null,471.7,null,709.1,643.3,666.3,516.3,null,412.3,613.1,null,596.6,607.8,null,757.4,534.5,663.9,418.0,509.7,null,477.1,482.3,751.9,646.7,479.6,665.6,null,529.7,387.2,null,398.8,438.1,489.0,402.4,626.6,575.4,588.5,474.9,618.4,null,null,663.4,427.4,null,491.9,613.1,null,646.5,null,479.0,null,411.7,586.9,555.4,450.7,597.0,463.5,810.0,479.3,358.4,379.2,null,688.2,590.7,null,651.2,386.0,528.4,586.7,null,407.0,440.0,366.1,null,634.6,null,523.1,740.5,null,663.5,846.2,486.1,446.5,516.5,461.8,517.1,393.5,567.1,593.9,null,637.0,492.0,636.5,595.6,455.8,479.6,null,686.7,476.7,595.2,501.1,683.9,657.5,null,562.9,null,523.0,517.8,605.1,493.4,null,522.0,507.9,518.1,522.5,564.7,505.9,null,467.1,481.1,492.9,null,499.5,716.0,null,535.3,562.8,null,564.0,396.0,680.2,null,583.1,null,370.4,447.5,581.8,null,619.0,706.5,443.2,635.2,744.5,536.0,652.3,null,519.0,483.8,583.1,743.2,null,582.4,388.0,null,578.0,493.7,463.9,637.0,620.5,602.7,430.8,606.6,636.9,627.8,554.4,607.6,535.1,690.2,524.5,403.9,516.2,null,681.8,649.8,411.1,715.7,599.7,409.4,643.7,368.6,465.3,688.5,null,null,587.7,465.5,null,581.9,626.5,500.8,null,589.9,527.4,493.9,null,582.3,683.7,513.8,null,669.8,469.0,624.4,673.4,548.9,645.2,703.1,613.2,611.0,450.9,576.3,null,484.0,622.4,393.0,716.8,444.1,681.7,null,421.3,531.9,602.1,548.8,807.1,597.4,494.0,828.9,586.8,457.9,678.2,674.4,735.1,443.9,708.0,529.8,373.8,null,575.9,696.2,669.9,477.8,null,571.6,403.9,601.2,487.0,639.7,651.9,441.4,587.8,605.6,638.2,null,523.7,606.9,null,null,693.3,null,null,566.0,640.3,358.7,null,493.6,707.0,573.3,536.5,480.3,null,null,607.7,584.3,494.6,null,null,null,391.1,null,null,null,648.2,536.7,null,666.1,623.6,517.3,442.1,null,637.4,499.1,428.2,null,643.3,622.9,null,359.2,532.1,592.6,460.7,623.4,667.7,510.5,522.4,472.3,null,581.1,517.6,735.2,529.1,800.8,762.8,544.1,557.2,null,672.2,741.7,495.3,549.7,467.4,415.8,null,352.3,688.1,null,447.9,null,null,540.7,884.6,668.1,null,616.8,557.3,null,576.7,406.5,627.9,610.6,503.3,null,473.9,502.0,null,374.7,631.7,704.3,541.1,602.1,405.2,434.7,375.3,523.7,null,752.8,395.4,null,562.4,700.2,580.7,797.2,649.3,426.3,669.2,405.0,null,602.9,751.6,null,878.3,628.4,721.6,null,622.7,660.1,371.9,411.8,439.5,493.2,448.9,393.7,643.4,null,null,830.7,null,551.3,null,346.8,601.5,602.6,701.8,null,null,814.1,519.4,459.5,607.0,null,null,645.4,571.5,528.2,null,630.2,451.2,459.9,null,519.4,null,356.7,682.1,449.0,null,486.2,578.5,null,621.8,526.5,584.3,null,555.4,655.2,null,null,523.1,543.6,465.1,647.4,null,504.8,464.5,564.3,541.0,373.8,748.2,578.3,null,null,646.6,null,438.9,578.4,436.3,771.3,530.8,512.4,608.2,790.3,null,null,646.0,444.3,443.1,519.1,516.0,null,499.4,768.3,780.9,536.1,681.0,486.3,541.7,380.8,490.0,482.4,649.8,615.8,null,null,506.1,null,null,null,441.9,578.5,459.6,670.9,null,null,null,767.5,493.4,518.8,667.1,665.7,542.7,465.2,null,596.0,null,585.3,473.6,470.9,581.8,null,469.0,506.8,533.6,569.6,null,571.0,583.8,null,null,null,526.5,627.1,602.6,540.4,null,null,null,459.4,448.6,588.2,null,734.6,699.8,780.7,672.0,483.3,586.8,654.0,531.5,472.3,null,437.0,524.9,554.0,593.4,null,null,557.6,null,465.1,479.8,597.1,535.9,643.4,719.0,null,null,598.1,453.4,405.9,537.7,508.2,null,423.9,648.2,null,468.2,769.4,429.3,623.8,454.3,490.9,625.3,420.2,null,null,439.6,462.6,null,577.8,580.0,453.6,583.0,573.1,null,null,637.6,368.2,632.5,653.8,390.7,495.1,null,434.6,393.8,null,794.0,493.0,650.8,438.4,null,601.5,null,null,599.9,571.0,555.7,null,776.8,551.2,612.9,630.3,752.0,474.3,null,596.5,null,605.9,438.7,361.7,null,475.9,660.8,384.8,436.1,749.2,692.7,375.3,554.5,546.5,null,null,597.8,null,370.2,541.2,null,null,462.0,443.0,755.6,524.1,620.0,413.4,643.2,606.6,526.1,507.8,673.7,null,507.9,654.6,489.2,577.0,null,null,896.6,604.6,562.6,440.0,586.5,684.6,676.9,743.8,651.2,null,625.3,648.0,457.3,566.2,404.7,505.3,621.6,568.4,null,480.0,null,null,424.9,679.1,505.7,691.7,378.0,510.7,567.8,622.9,506.5,384.9,468.4,437.4,null,385.9,624.1,622.4,621.5,null,561.0,575.2,515.5,null,453.4,588.3,592.1,432.1,532.5,428.0,504.9,554.4,602.8,537.4,396.3,590.3,null,710.6,582.1,729.5,null,460.3,395.7,null,392.3,491.5,553.6,null,null,null,720.2,null,550.8,441.3,769.6,402.6,null,684.7,590.0,594.1,379.5,null,null,598.0,454.0,571.1,637.6,559.0,573.0,null,438.4,null,null,645.2,697.5,421.2,415.7,524.6,519.5,471.0,583.0,717.0,619.4,null,491.8,null,716.9,null,431.7,null,576.0,571.6,null,721.0,550.8,423.6,758.2,379.1,559.1,600.0,505.3,537.6,613.5,null,549.7,551.1,663.3,416.8,634.0,532.6,621.3,null,543.8,427.2,482.6,534.8,615.2,611.4,524.8,466.4,604.8,565.3,465.7,null,520.1,541.4,null,662.0,565.1,497.3,null,604.5,null,null,399.4,null,481.0,470.5,null,741.3,509.1,625.0,677.6,null,485.8,null,796.2,null,696.0,534.3,559.4,521.2,487.9,595.6,null,389.5,null,689.8,586.2,573.9,565.9,693.6,629.7,685.4,533.7,573.2,null,807.0,511.6,565.1,515.3,null,682.5,639.5,null,689.2,807.1,505.8,637.8,459.4,353.0,705.8,527.8,616.4,772.3,403.4,596.8,622.4,null,488.0,489.9,null,673.0,null,638.9,null,485.2,500.2,535.3,687.9,572.0,645.9,539.2,490.8,716.5,566.4,691.5,773.2,396.9,441.5,597.5,null,474.0,624.4,null,null,701.4,626.7,null,636.6,755.5,643.1,525.9,639.1,null,589.1,null,528.7,676.5,537.1,724.5,707.0,644.5,369.0,null,620.2,571.1,null,484.4,548.1,458.1,null,486.1,587.4,null,468.5,600.5,611.9,489.0,577.3,568.8,null,null,557.8,764.2,480.6,572.5,465.5,null,null,null,530.0,633.3,658.0,null,624.5,488.1,626.6,604.2,null,415.8,null,422.9,603.6,420.1,395.3,747.8,362.6,676.8,881.9,551.5,799.2,null,744.5,710.3,599.0,null,540.5,636.4,569.3,704.6,427.5,null,542.0,510.0,null,null,450.7,779.4,354.9,576.4,518.2,607.4,725.4,489.1,658.5,null,null,387.2,553.8,561.1,549.7,null,537.7,485.3,595.3,null,480.9,906.6,623.5,null,467.8,662.8,515.8,750.8,null,560.8,491.4,675.8,619.2,683.1,379.4,628.6,492.6,598.4,533.5,null,855.2,649.1,620.8,599.8,null,397.4,421.7,null,487.3,null,509.5,568.4,386.0,480.9,null,643.8,476.8,549.9,428.1,null,458.8,681.1,463.1,453.5,717.0,352.4,469.3,809.4,null,736.9,null,587.9,544.4,641.0,518.3,798.8,423.0,674.5,554.3,null,462.7,560.2,null,618.0,565.5,438.6,536.9,485.5,null,null,393.9,null,584.9,370.5,732.7,null,591.7,547.0,null,738.5,580.9,null,647.8,405.9,535.8,540.5,520.5,669.1,670.5,625.8,622.9,null,null,525.9,549.7,null,null,721.3,544.1,390.8,551.3,494.2,562.9,null,686.6,735.3,432.5,555.2,750.1,590.3,502.3,null,513.9,null,698.7,520.8,645.7,423.5,null,null,511.8,612.6,762.4,429.1,null,null,549.4,455.7,452.0,508.4,440.4,null,636.7,519.9,611.4,709.7,499.0,486.5,504.5,551.4,580.5,null,516.6,501.2,567.1,506.1,765.1,544.8,null,null,694.8,545.1,685.4,null,633.1,null,null,null,497.5,670.5,null,605.7,null,607.2,466.5,null,658.0,null,677.2,617.1,448.7,599.1,463.0,589.4,466.1,406.5,549.5,585.0,null,712.5,367.4,389.1,361.3,617.2,570.3,483.2,547.2,null,460.1,431.3,489.4,679.5,506.1,null,738.7,null,549.6,623.1,442.3,450.2,575.2,511.1,502.4,628.7,null,null,520.7,395.6,656.5,787.5,607.7,643.3,null,534.1,531.8,552.4,618.7,535.7,364.6,524.7,null,416.5,633.1,386.5,513.9,508.7,576.9,480.0,432.6,468.5,653.3,588.5,522.0,709.8,545.7,450.7,null,705.2,606.4,null,573.6,379.4,null,null,432.6,539.1,null,null,null,622.4,null,427.6,534.3,null,null,567.8,643.3,450.1,618.9,384.7,487.1,null,621.1,null,455.9,null,686.2,683.7,700.9,561.3,747.2,null,514.6,557.5,682.7,822.8,559.9,558.9,564.4,525.8,376.7,596.2,579.3,381.6,null,482.0,664.5,561.3,null,480.7,null,null,538.4,553.9,569.3,404.0,768.5,null,744.7,null,497.2,null,451.6,491.4,591.1,null,474.9,484.9,462.6,775.6,563.5,null,null,604.6,479.4,null,644.4,699.6,513.2,null,null,732.7,634.6,534.2,null,378.4,572.2,358.5,642.7,669.9,502.3,null,569.0,514.2,581.3,721.0,460.1,null,598.8,null,null,587.7,658.0,553.7,623.2,661.9,614.5,null,645.2,643.1,676.5,444.9,553.8,658.5,null,null,553.0,435.4,588.1,null,665.2,629.2,587.9,null,553.8,500.8,null,679.1,561.8,409.7,null,681.2,738.5,570.7,738.0,476.1,null,618.8,729.5,562.8,629.8,405.1,455.8,618.2,null,527.8,640.2,340.1,null,655.9,337.5,null,null,424.0,450.0,493.8,571.7,477.5,430.2,null,697.8,467.5,719.4,775.0,null,547.6,697.7,645.6,523.1,453.8,539.9,594.1,511.5,510.2,526.8,384.7,494.6,790.4,468.7,null,570.4,539.6,null,678.4,384.3,374.8,null,461.1,659.6,415.8,630.8,null,null,592.9,558.2,599.0,498.4,461.6,null,637.8,487.8,null,502.9,531.6,437.7,null,540.0,554.7,368.7,606.0,null,null,644.6,658.4,null,527.8,null,590.6,755.4,553.6,537.8,458.6,null,null,653.5,600.1,404.2,678.8,446.0,null,545.7,612.0,445.1,718.4,506.7,null,667.5,653.7,null,515.6,521.9,424.8,629.3,600.0,692.1,465.5,642.0,596.2,427.7,439.1,611.4,466.9,null,616.6,610.0,null,419.2,561.1,769.1,null,null,648.1,498.9,551.3,null,null,812.9,null,null,877.4,564.8,504.9,677.2,523.9,440.2,587.7,603.6,501.8,398.3,655.7,535.3,559.8,591.9,646.0,567.8,null,548.1,null,null,380.8,null,660.3,null,618.9,467.2,537.0,594.8,406.3,431.4,755.4,701.4,null,503.6,428.1,448.1,376.7,453.1,null,451.4,null,638.6,764.9,462.7,692.0,null,null,666.9,null,490.4,708.3,null,535.9,592.8,null,676.6,516.5,507.2,null,517.2,null,627.5,676.9,534.0,658.2,707.9,616.4,495.7,546.3,509.7,626.8,751.7,420.4,647.6,352.5,401.1,null,507.7,773.7,447.9,668.2,534.8,690.3,357.1,null,684.5,537.3,466.6,662.9,413.3,436.5,579.9,701.5,397.6,690.7,440.7,745.8,579.0,null,619.8,659.3,438.6,null,740.4,680.3,null,null,694.9,627.6,484.6,null,703.9,null,639.5,null,459.9,750.7,532.8,null,449.3,494.1,465.8,429.8,463.2,663.6,622.7,581.1,723.2,637.9,453.9,null,496.7,null,567.2,null,579.6,557.9,null,null,null,425.2,427.0,668.4,571.0,450.2,627.8,637.5,555.4,null,504.0,null,510.2,null,607.9,569.8,751.9,null,445.9,496.4,389.3,558.3,487.8,546.6,515.6,571.7,664.1,640.2,391.8,null,null,630.3,584.0,589.0,622.0,588.9,507.1,611.7,576.8,600.9,null,655.3,null,548.1,null,null,null,555.7,391.3,422.6,740.7,null,558.8,617.6,577.0,662.7,634.1,null,762.0,null,604.0,683.2,614.3,518.1,739.8,477.1,597.8,587.3,617.8,583.4,456.0,545.4,563.3,578.9,null,580.1,650.0,536.5,null,611.1,537.5,630.8,602.4,550.2,null,null,null,573.9,null,523.3,662.1,552.0,595.1,555.9,613.8,599.5,732.6,393.4,584.2,793.8,443.5,738.0,618.1,554.6,524.3,618.4,null,588.8,458.9,null,null,null,386.8,532.3,555.8,null,551.6,549.0,null,null,506.7,428.4,565.5,618.9,496.0,569.0,null,662.8,476.3,395.3,527.4,null,365.9,460.5,744.8,673.2,507.9,525.3,686.0,602.0,409.4,594.9,569.8,559.2,null,null,559.2,608.2,581.2,636.5,443.3,579.2,726.8,null,null,603.0,463.1,474.7,629.2,null,527.3,463.6,663.7,511.9,567.4,623.7,637.1,433.9,602.5,546.3,565.1,null,576.0,null,594.8,451.4,420.0,631.4,556.4,515.3,481.0,649.1,451.6,348.7,579.4,552.1,624.9,506.3,660.4,null,452.3,601.6,527.3,null,477.1,451.5,545.2,653.5,null,509.8,null,null,409.3,361.5,426.2,null,802.7,null,438.6,null,null,460.3,576.5,489.3,null,438.2,null,539.7,715.4,null,553.3,null,null,428.8,427.7,596.2,686.2,628.6,null,null,580.3,null,613.8,508.9,482.8,469.1,649.2,492.8,387.0,398.7,372.2,null,0.0,671.0,443.5,351.2,378.8,637.6,625.8,411.9,null,639.6,null,398.9,538.4,551.8,497.4,485.6,null,575.6,409.7,null,null,null,659.2,489.3,474.6,478.6,null,685.4,539.6,null,462.4,800.4,449.6,631.6,540.8,null,399.8,null,488.3,620.1,462.9,null,601.5,605.7,553.2,null,530.0,587.8,380.6,455.7,439.0,null,548.1,471.8,483.8,630.1,581.1,380.0,485.5,440.2,451.6,416.2,667.9,597.2,652.1,565.6,673.3,519.5,null,800.5,584.6,621.2,null,601.9,689.1,374.4,null,554.6,541.0,null,536.3,518.1,395.4,610.1,430.9,568.1,625.0,439.9,485.8,null,459.1,435.1,553.5,387.7,490.7,null,730.4,null,481.3,707.3,756.5,378.1,null,570.3,671.9,665.9,625.1,544.6,null,567.1,573.5,626.6,null,435.1,397.6,436.3,484.1,650.1,null,null,600.6,462.4,null,680.4,null,null,543.1,null,null,null,439.7,531.5,471.3,639.9,507.6,668.3,413.4,551.8,865.4,571.8,null,457.4,480.6,null,572.4,477.8,null,635.6,589.5,null,472.6,505.4,null,367.3,568.5,881.3,517.5,null,882.1,650.0,null,null,646.4,562.9,648.2,556.5,425.0,606.6,480.4,null,376.1,null,533.5,null,596.8,null,918.3,407.2,null,null,null,null,492.9,635.2,577.8,515.7,494.3,498.1,null,null,518.3,598.3,574.5,478.5,516.9,515.1,481.8,513.7,486.8,null,452.9,730.5,442.3,null,599.9,null,634.6,436.1,676.8,null,434.4,663.6,null,null,386.4,576.3,515.3,550.3,625.5,557.4,608.6,636.3,559.6,573.4,496.2,413.3,null,377.1,null,560.2,388.8,null,null,718.9,382.0,602.1,null,661.7,527.2,426.8,null,671.9,885.2,null,422.3,489.5,588.6,416.1,null,418.2,523.4,null,null,null,436.3,null,362.6,null,561.7,462.8,525.4,442.1,null,null,436.3,null,468.8,null,553.5,430.5,null,586.2,632.1,null,549.5,663.6,450.6,395.7,788.1,null,null,602.6,null,644.7,644.5,null,552.7,null,599.4,679.3,493.3,null,645.3,666.6,512.5,477.7,410.4,null,539.2,444.6,433.5,null,499.5,null,null,477.0,436.4,448.1,720.2,483.5,366.0,597.2,512.1,527.3,null,381.2,404.2,594.0,null,null,479.1,null,436.1,522.8,514.1,null,565.8,542.0,null,411.5,648.2,461.4,539.0,550.8,656.3,473.8,628.2,471.1,727.3,400.6,550.4,361.5,424.1,null,630.6,593.1,620.6,470.7,677.7,null,null,745.2,660.3,690.9,null,643.9,345.8,659.4,null,575.0,631.0,396.0,512.2,587.1,null,null,598.7,null,null,426.6,583.9,566.1,520.5,null,null,446.9,null,null,534.0,610.8,517.9,516.5,601.9,490.8,424.1,481.1,452.1,446.1,357.2,690.2,464.4,null,406.9,540.4,593.8,385.3,416.0,null,null,585.4,455.7,671.9,448.1,null,485.9,698.1,485.1,553.5,411.0,842.4,576.8,555.2,551.4,618.3,491.2,null,610.5,null,433.4,535.4,443.2,672.7,585.4,487.4,null,607.4,null,671.7,445.3,408.2,669.1,465.9,666.4,700.0,null,570.3,365.8,502.7,510.8,null,383.4,null,481.4,630.8,419.4,431.4,null,629.8,494.6,479.7,533.8,402.9,null,593.8,534.2,443.2,345.2,null,579.6,null,561.7,460.1,599.3,null,542.6,450.7,405.0,null,464.7,414.3,746.2,367.6,null,493.5,null,542.2,526.3,null,575.8,null,null,680.3,361.3,696.3,658.4,null,null,493.2,409.3,617.7,null,590.6,null,565.9,453.2,null,622.4,null,696.2,553.6,572.6,473.6,null,581.1,null,467.8,671.4,null,536.8,484.6,537.7,704.8,null,622.5,532.7,491.2,600.7,null,543.8,487.2,583.2,656.8,602.8,514.9,573.7,632.5,null,741.1,494.5,645.6,365.9,null,455.9,493.5,615.8,560.6,454.3,497.3,395.8,521.2,623.7,355.2,689.3,672.4,507.5,null,626.3,null,null,null,551.3,565.1,null,499.4,null,541.7,390.3,681.6,null,390.5,null,null,582.1,null,643.9,564.6,null,439.1,541.5,357.4,699.7,500.8,493.9,null,null,null,null,null,null,470.9,608.4,652.4,null,429.8,540.1,null,405.2,null,633.3,545.6,569.5,555.9,651.2,470.1,null,692.3,843.5,498.3,348.7,587.6,570.3,686.7,null,401.4,null,362.1,421.4,493.5,398.3,587.5,599.2,637.4,446.0,384.2,null,589.9,773.2,527.3,487.5,458.0,670.0,null,null,553.4,654.2,547.1,378.0,647.1,450.3,377.8,771.3,546.6,708.2,553.4,null,425.9,545.9,506.5,711.0,430.1,622.5,410.1,429.7,453.7,null,null,null,492.7,445.0,457.2,627.4,433.7,562.4,423.6,485.7,586.0,555.8,null,560.8,null,null,505.1,475.9,468.2,360.1,null,666.7,589.4,628.4,null,563.4,373.3,508.4,665.6,null,null,null,777.9,null,null,690.8,null,626.8,693.3,507.0,403.9,458.4,538.3,659.3,507.6,null,null,368.5,650.2,null,513.9,null,null,594.8,651.8,null,537.8,564.0,496.8,589.4,659.2,455.6,null,538.8,null,null,null,629.6,null,623.5,567.9,664.5,null,null,598.3,541.2,null,null,null,null,395.1,630.7,612.3,null,383.9,388.4,623.6,585.5,435.6,null,null,null,null,492.9,595.0,508.6,null,701.4,583.2,697.8,612.4,793.9,441.2,null,null,630.1,null,null,672.5,381.7,366.9,467.4,508.4,571.2,null,null,null,467.1,461.5,382.3,null,516.5,475.8,457.0,473.1,550.4,492.3,595.2,626.5,524.3,386.1,469.8,573.7,397.2,428.0,666.2,407.2,497.2,null,464.5,570.9,null,null,374.4,638.2,470.8,611.7,null,null,616.9,653.9,null,null,null,479.9,533.2,null,450.5,387.3,531.4,593.3,627.7,659.4,579.9,612.2,469.5,null,413.6,null,null,565.9,null,562.0,627.7,488.2,null,470.6,638.3,null,633.8,718.9,549.2,null,552.8,483.4,null,829.5,579.3,470.2,null,598.6,623.1,null,569.5,573.1,363.8,null,375.7,null,null,639.1,527.6,410.6,null,451.0,null,496.6,429.1,578.2,455.4,634.1,385.8,null,null,471.0,557.8,477.9,642.8,407.1,579.0,null,538.1,652.7,null,null,470.1,645.4,null,538.3,621.6,600.4,703.7,408.0,522.3,572.7,623.7,580.8,null,622.2,587.9,484.6,517.4,454.1,null,412.3,588.5,null,671.6,null,null,475.5,677.8,457.0,534.3,437.4,466.4,579.8,591.3,null,null,null,569.9,406.9,414.4,454.7,612.0,522.1,472.1,null,null,null,null,558.8,474.6,null,563.6,438.5,null,561.0,null,null,517.6,411.0,650.6,563.2,517.7,531.0,629.1,null,488.3,608.3,null,658.4,570.0,594.4,589.5,477.9,536.6,567.1,614.1,null,675.2,573.0,505.0,384.9,null,399.9,407.5,594.9,602.3,448.5,559.7,357.2,524.3,670.5,730.4,530.5,519.7,550.5,null,699.1,null,531.8,null,708.9,478.7,598.0,576.3,629.7,null,529.3,420.2,676.7,578.0,496.6,398.3,null,595.8,null,547.3,586.5,532.2,568.2,451.7,null,828.4,582.9,560.2,406.7,475.2,459.1,636.9,576.3,null,null,612.8,540.2,507.4,568.5,null,495.0,null,null,465.4,640.6,null,371.4,685.0,505.1,583.3,517.7,387.1,null,null,589.8,675.4,464.7,383.0,614.4,null,677.4,null,409.8,null,null,536.6,513.6,783.8,558.2,null,668.5,574.8,600.9,608.6,494.5,525.4,362.9,445.8,643.9,620.7,592.2,525.8,null,471.4,null,442.8,518.7,null,596.4,null,440.3,486.7,543.7,432.8,646.9,null,414.5,590.1,494.3,583.9,null,453.1,536.8,604.6,444.7,363.5,427.7,null,438.8,615.3,581.6,531.5,638.6,455.8,487.1,645.2,403.4,670.8,579.0],\"xaxis\":\"x\",\"yaxis\":\"y\",\"type\":\"histogram\"},{\"alignmentgroup\":\"True\",\"bingroup\":\"x\",\"histnorm\":\"probability\",\"hovertemplate\":\"TP_ESCOLA=3<br>NOTA_MT=%{x}<br>probability=%{y}<extra></extra>\",\"legendgroup\":\"3\",\"marker\":{\"color\":\"#005DAA\",\"pattern\":{\"shape\":\"\"}},\"name\":\"3\",\"nbinsx\":40,\"offsetgroup\":\"3\",\"orientation\":\"v\",\"showlegend\":true,\"x\":[548.6,650.2,805.1,711.8,752.0,550.3,null,523.2,767.0,475.2,689.7,400.4,786.2,711.2,552.0,null,819.9,588.2,602.2,768.1,null,765.8,764.4,611.6,734.5,860.8,752.2,422.8,701.5,706.9,525.0,625.8,856.9,614.1,842.0,679.2,704.8,475.7,726.0,681.2,765.8,null,null,698.4,714.6,753.6,857.5,792.2,647.0,749.6,678.3,803.1,831.0,568.5,null,601.2,589.0,573.3,642.7,917.1,545.5,662.1,640.3,543.1,675.7,589.0,676.4,575.6,691.0,458.0,574.9,547.7,692.5,762.3,779.3,613.0,865.9,677.5,545.7,680.7,446.3,558.0,655.8,530.6,null,658.2,651.6,574.0,728.8,512.7,820.2,766.9,675.5,723.1,678.6,831.9,593.8,546.3,701.0,496.0,656.9,813.7,null,656.3,759.7,644.4,543.3,822.2,580.6,600.5,489.8,774.7,708.6,776.6,477.4,630.0,588.3,591.3,702.1,708.5,554.6,372.8,635.0,605.9,null,604.1,707.7,706.8,807.2,700.4,682.9,574.5,698.2,626.7,623.5,466.5,606.3,null,669.2,747.0,552.2,768.8,375.5,549.7,822.1,null,575.9,null,722.1,449.1,636.8,675.1,null,799.4,549.5,670.9,626.7,776.2,570.8,618.1,679.2,null,825.3,null,939.5,725.8,534.0,567.5,670.9,867.7,542.4,629.3,null,725.3,539.6,694.5,601.8,746.4,703.2,785.1,null,612.4,943.6,647.3,749.1,700.4,492.4,702.3,779.9,720.0,697.2,401.4,530.9,760.9,892.9,792.9,null,691.5,767.3,747.6,665.9,670.4,null,738.2,625.4,762.4,470.1,458.2,496.2,420.2,491.3,643.8,487.0,827.7,717.1,628.1,542.9,717.9,803.1,566.6,734.1,805.0,713.0,null,777.3,604.9,null,746.2,723.0,644.9,712.9,678.6,612.5,628.6,599.4,372.3,717.3,687.5,578.1,735.2,789.5,566.0,869.9,618.2,715.2,512.8,757.1,575.5,526.4,676.9,772.2,716.0,624.0,585.1,422.9,697.0,590.2,892.1,682.8,551.6,829.9,560.3,879.3,748.3,728.9,816.7,731.2,707.8,668.6,null,850.4,619.9,720.8,575.3,785.8,661.4,861.0,654.6,575.0,467.6,699.8,780.3,704.3,712.7,409.1,681.3,724.2,378.6,864.4,708.8,652.1,null,614.7,739.3,631.1,611.0,565.0,753.2,604.8,464.5,null,692.7,826.1,729.8,691.4,483.4,673.9,null,705.2,672.6,null,null,614.7,654.8,691.4,686.8,844.4,806.8,766.7,747.0,663.5,615.8,554.4,448.1,null,null,388.5,654.8,534.6,527.0,717.0,877.5,525.6,643.4,682.7,730.4,866.2,627.8,758.3,710.6,696.4,750.3,790.2,849.8,860.0,721.5,null,785.8,448.2,564.7,658.3,718.8,817.6,666.8,813.8,672.0,682.8,508.8,663.9,686.9,890.8,673.0,560.8,614.0,760.4,746.4,891.3,559.2,635.6,459.0,690.4,971.3,569.2,null,850.0,782.1,682.7,449.9,804.0,702.0,689.2,682.7,859.2,682.3,653.2,750.6,652.7,706.6,527.4,758.7,641.5,772.5,566.1,662.2,732.1,702.3,562.5,860.4,870.5,897.9,647.2,670.6,601.4,690.3,716.4,598.9,690.7,792.8,742.5,653.8,698.7,650.1,636.5,509.6,842.7,684.2,498.7,644.1,666.6,734.1,524.7,815.2,565.7,616.5,null,631.9,838.8,633.7,790.9,538.9,687.3,614.3,618.9,779.3,635.8,483.8,739.7,null,578.7,590.1,766.9,505.7,431.4,780.6,578.9,815.5,481.0,636.2,850.4,670.9,486.7,720.8,718.5,821.2,582.7,793.0,757.4,769.6,885.8,460.9,767.1,820.8,586.5,845.6,847.5,706.4,691.1,756.7,429.0,633.1,699.0,757.2,537.7,683.1,668.8,653.8,410.5,697.4,425.5,663.7,565.5,519.6,574.0,695.4,758.6,567.2,629.4,805.5,608.6,534.0,629.2,632.0,null,843.4,670.2,686.0,686.3,683.2,563.2,804.4,678.3,834.9,787.2,833.1,693.2,null,630.9,561.2,622.3,758.1,540.0,597.7,521.6,699.1,512.3,663.6,692.9,601.7,728.3,750.0,675.3,761.9,661.2,707.0,463.4,541.3,null,726.8,654.3,511.1,null,559.7,700.2,693.9,617.6,770.0,704.6,712.6,904.4,612.5,570.0,580.3,732.0,672.1,595.3,494.3,854.9,null,625.6,713.6,626.4,682.0,748.1,702.3,591.8,688.2,768.8,544.7,735.1,804.2,672.7,642.2,917.6,638.3,735.4,738.7,385.5,841.5,723.7,687.9,611.4,688.8,715.8,755.2,805.2,663.7,507.9,804.3,850.6,null,623.8,538.3,700.9,638.2,null,725.5,null,756.7,478.6,711.5,810.5,null,692.5,598.8,749.0,906.6,871.2,787.8,528.9,500.0,739.6,748.5,null,594.2,610.2,558.4,582.9,631.9,656.7,623.5,484.2,764.6,634.8,null,697.6,668.0,717.4,601.0,627.0,720.4,597.5,568.7,816.3,650.1,663.0,657.8,617.3,694.8,717.5,783.8,467.2,814.4,864.2,520.3,669.4,586.7,674.7,561.4,737.6,502.8,738.6,822.5,730.5,585.7,803.0,756.6,null,680.6,700.4,749.4,486.5,665.7,624.9,781.7,579.0,679.0,673.3,688.2,777.6,749.6,677.8,679.0,816.9,829.0,null,655.7,698.8,473.2,617.8,836.1,622.0,568.2,537.4,589.4,799.8,674.8,681.7,656.5,747.3,713.9,null,738.9,582.0,858.1,817.5,791.6,612.3,630.4,607.5,568.1,697.4,503.2,680.4,738.6,null,457.2,580.4,715.3,null,717.3,781.9,652.4,847.3,606.1,585.1,692.4,829.0,778.7,667.0,720.7,589.6,505.9,692.0,827.8,648.1,716.0,null,673.0,612.7,762.7,580.6,613.8,609.5,659.0,639.3,687.0,704.9,798.7,667.2,757.7,692.3,501.0,774.4,501.9,799.5,729.5,867.3,689.5,684.4,670.8,null,null,518.6,801.0,610.4,733.8,447.2,637.2,null,963.8,742.2,568.6,747.4,562.1,853.1,654.5,480.6,763.3,554.9,445.4,640.6,847.6,662.9,660.0,663.4,686.2,589.2,656.7,null,638.2,747.4,463.2,652.7,702.8,463.7,792.5,589.5,537.5,665.8,636.2,764.5,636.6,602.4,548.5,711.8,727.0,601.9,636.5,699.7,664.8,596.1,null,735.1,401.5,626.7,699.4,529.2,693.9,935.1,598.3,572.5,728.3,698.0,487.8,559.4,712.1,688.4,704.7,550.1,626.1,null,668.4,711.7,541.7,914.0,684.2,693.2,726.1,717.2,792.9,793.2,665.6,716.8,859.9,415.3,756.1,771.5,677.4,735.1,null,436.4,622.1,null,489.8,471.8,643.5,900.0,665.7,696.8,465.0,402.6,850.3,390.2,422.2,703.7,588.2,588.1,757.3,845.9,353.1,846.8,781.0,365.9,663.3,816.4,649.2,559.4,659.8,558.1,683.6,794.3,718.9,461.5,661.3,521.5,797.9,643.8,795.0,590.7,661.7,845.4,457.3,594.8,667.4,null,677.0,662.4,628.0,null,717.4,765.6,879.1,773.8,658.7,572.7,538.1,597.4,671.3,904.7,747.8,650.5,618.6,765.1,706.4,null,886.1,590.7,660.3,839.2,774.7,644.1,501.3,697.7,597.6,569.9,757.5,569.8,585.2,500.6,651.3,694.8,761.5,746.4,895.2,671.3,721.6,618.5,653.0,537.1,792.9,518.2,727.6,null,null,null,666.0,626.6,537.8,725.4,707.9,697.7,657.7,641.7,681.2,561.3,625.5,866.3,540.0,633.7,653.7,729.3,603.2,644.6,851.5,467.4,652.0,500.4,633.5,603.2,861.7,583.8,604.2,737.4,null,711.8,473.6,724.0,627.4,574.9,697.4,834.4,950.7,482.6,755.1,null,839.6,593.6,666.9,680.8,624.7,696.9,470.5,620.0,539.0,837.9,836.3,786.6,851.4,461.8,716.9,715.0,529.3,667.8,777.5,752.1,819.3,784.2,777.4,578.1,657.9,null,770.9,664.9,556.5,844.0,590.0,722.8,614.8,null,529.9,650.5,712.8,705.4,738.3,555.1,707.0,623.0,655.5,668.4,645.5,536.0,636.2,723.4,782.3,697.9,445.2,871.8,766.6,830.0,786.3,674.2,652.6,641.1,667.4,null,714.6,805.2,669.4,862.9,null,637.0],\"xaxis\":\"x\",\"yaxis\":\"y\",\"type\":\"histogram\"}],                        {\"template\":{\"data\":{\"histogram2dcontour\":[{\"type\":\"histogram2dcontour\",\"colorbar\":{\"outlinewidth\":0,\"ticks\":\"\"},\"colorscale\":[[0.0,\"#0d0887\"],[0.1111111111111111,\"#46039f\"],[0.2222222222222222,\"#7201a8\"],[0.3333333333333333,\"#9c179e\"],[0.4444444444444444,\"#bd3786\"],[0.5555555555555556,\"#d8576b\"],[0.6666666666666666,\"#ed7953\"],[0.7777777777777778,\"#fb9f3a\"],[0.8888888888888888,\"#fdca26\"],[1.0,\"#f0f921\"]]}],\"choropleth\":[{\"type\":\"choropleth\",\"colorbar\":{\"outlinewidth\":0,\"ticks\":\"\"}}],\"histogram2d\":[{\"type\":\"histogram2d\",\"colorbar\":{\"outlinewidth\":0,\"ticks\":\"\"},\"colorscale\":[[0.0,\"#0d0887\"],[0.1111111111111111,\"#46039f\"],[0.2222222222222222,\"#7201a8\"],[0.3333333333333333,\"#9c179e\"],[0.4444444444444444,\"#bd3786\"],[0.5555555555555556,\"#d8576b\"],[0.6666666666666666,\"#ed7953\"],[0.7777777777777778,\"#fb9f3a\"],[0.8888888888888888,\"#fdca26\"],[1.0,\"#f0f921\"]]}],\"heatmap\":[{\"type\":\"heatmap\",\"colorbar\":{\"outlinewidth\":0,\"ticks\":\"\"},\"colorscale\":[[0.0,\"#0d0887\"],[0.1111111111111111,\"#46039f\"],[0.2222222222222222,\"#7201a8\"],[0.3333333333333333,\"#9c179e\"],[0.4444444444444444,\"#bd3786\"],[0.5555555555555556,\"#d8576b\"],[0.6666666666666666,\"#ed7953\"],[0.7777777777777778,\"#fb9f3a\"],[0.8888888888888888,\"#fdca26\"],[1.0,\"#f0f921\"]]}],\"heatmapgl\":[{\"type\":\"heatmapgl\",\"colorbar\":{\"outlinewidth\":0,\"ticks\":\"\"},\"colorscale\":[[0.0,\"#0d0887\"],[0.1111111111111111,\"#46039f\"],[0.2222222222222222,\"#7201a8\"],[0.3333333333333333,\"#9c179e\"],[0.4444444444444444,\"#bd3786\"],[0.5555555555555556,\"#d8576b\"],[0.6666666666666666,\"#ed7953\"],[0.7777777777777778,\"#fb9f3a\"],[0.8888888888888888,\"#fdca26\"],[1.0,\"#f0f921\"]]}],\"contourcarpet\":[{\"type\":\"contourcarpet\",\"colorbar\":{\"outlinewidth\":0,\"ticks\":\"\"}}],\"contour\":[{\"type\":\"contour\",\"colorbar\":{\"outlinewidth\":0,\"ticks\":\"\"},\"colorscale\":[[0.0,\"#0d0887\"],[0.1111111111111111,\"#46039f\"],[0.2222222222222222,\"#7201a8\"],[0.3333333333333333,\"#9c179e\"],[0.4444444444444444,\"#bd3786\"],[0.5555555555555556,\"#d8576b\"],[0.6666666666666666,\"#ed7953\"],[0.7777777777777778,\"#fb9f3a\"],[0.8888888888888888,\"#fdca26\"],[1.0,\"#f0f921\"]]}],\"surface\":[{\"type\":\"surface\",\"colorbar\":{\"outlinewidth\":0,\"ticks\":\"\"},\"colorscale\":[[0.0,\"#0d0887\"],[0.1111111111111111,\"#46039f\"],[0.2222222222222222,\"#7201a8\"],[0.3333333333333333,\"#9c179e\"],[0.4444444444444444,\"#bd3786\"],[0.5555555555555556,\"#d8576b\"],[0.6666666666666666,\"#ed7953\"],[0.7777777777777778,\"#fb9f3a\"],[0.8888888888888888,\"#fdca26\"],[1.0,\"#f0f921\"]]}],\"mesh3d\":[{\"type\":\"mesh3d\",\"colorbar\":{\"outlinewidth\":0,\"ticks\":\"\"}}],\"scatter\":[{\"fillpattern\":{\"fillmode\":\"overlay\",\"size\":10,\"solidity\":0.2},\"type\":\"scatter\"}],\"parcoords\":[{\"type\":\"parcoords\",\"line\":{\"colorbar\":{\"outlinewidth\":0,\"ticks\":\"\"}}}],\"scatterpolargl\":[{\"type\":\"scatterpolargl\",\"marker\":{\"colorbar\":{\"outlinewidth\":0,\"ticks\":\"\"}}}],\"bar\":[{\"error_x\":{\"color\":\"#2a3f5f\"},\"error_y\":{\"color\":\"#2a3f5f\"},\"marker\":{\"line\":{\"color\":\"#E5ECF6\",\"width\":0.5},\"pattern\":{\"fillmode\":\"overlay\",\"size\":10,\"solidity\":0.2}},\"type\":\"bar\"}],\"scattergeo\":[{\"type\":\"scattergeo\",\"marker\":{\"colorbar\":{\"outlinewidth\":0,\"ticks\":\"\"}}}],\"scatterpolar\":[{\"type\":\"scatterpolar\",\"marker\":{\"colorbar\":{\"outlinewidth\":0,\"ticks\":\"\"}}}],\"histogram\":[{\"marker\":{\"pattern\":{\"fillmode\":\"overlay\",\"size\":10,\"solidity\":0.2}},\"type\":\"histogram\"}],\"scattergl\":[{\"type\":\"scattergl\",\"marker\":{\"colorbar\":{\"outlinewidth\":0,\"ticks\":\"\"}}}],\"scatter3d\":[{\"type\":\"scatter3d\",\"line\":{\"colorbar\":{\"outlinewidth\":0,\"ticks\":\"\"}},\"marker\":{\"colorbar\":{\"outlinewidth\":0,\"ticks\":\"\"}}}],\"scattermapbox\":[{\"type\":\"scattermapbox\",\"marker\":{\"colorbar\":{\"outlinewidth\":0,\"ticks\":\"\"}}}],\"scatterternary\":[{\"type\":\"scatterternary\",\"marker\":{\"colorbar\":{\"outlinewidth\":0,\"ticks\":\"\"}}}],\"scattercarpet\":[{\"type\":\"scattercarpet\",\"marker\":{\"colorbar\":{\"outlinewidth\":0,\"ticks\":\"\"}}}],\"carpet\":[{\"aaxis\":{\"endlinecolor\":\"#2a3f5f\",\"gridcolor\":\"white\",\"linecolor\":\"white\",\"minorgridcolor\":\"white\",\"startlinecolor\":\"#2a3f5f\"},\"baxis\":{\"endlinecolor\":\"#2a3f5f\",\"gridcolor\":\"white\",\"linecolor\":\"white\",\"minorgridcolor\":\"white\",\"startlinecolor\":\"#2a3f5f\"},\"type\":\"carpet\"}],\"table\":[{\"cells\":{\"fill\":{\"color\":\"#EBF0F8\"},\"line\":{\"color\":\"white\"}},\"header\":{\"fill\":{\"color\":\"#C8D4E3\"},\"line\":{\"color\":\"white\"}},\"type\":\"table\"}],\"barpolar\":[{\"marker\":{\"line\":{\"color\":\"#E5ECF6\",\"width\":0.5},\"pattern\":{\"fillmode\":\"overlay\",\"size\":10,\"solidity\":0.2}},\"type\":\"barpolar\"}],\"pie\":[{\"automargin\":true,\"type\":\"pie\"}]},\"layout\":{\"autotypenumbers\":\"strict\",\"colorway\":[\"#636efa\",\"#EF553B\",\"#00cc96\",\"#ab63fa\",\"#FFA15A\",\"#19d3f3\",\"#FF6692\",\"#B6E880\",\"#FF97FF\",\"#FECB52\"],\"font\":{\"color\":\"#2a3f5f\"},\"hovermode\":\"closest\",\"hoverlabel\":{\"align\":\"left\"},\"paper_bgcolor\":\"white\",\"plot_bgcolor\":\"#E5ECF6\",\"polar\":{\"bgcolor\":\"#E5ECF6\",\"angularaxis\":{\"gridcolor\":\"white\",\"linecolor\":\"white\",\"ticks\":\"\"},\"radialaxis\":{\"gridcolor\":\"white\",\"linecolor\":\"white\",\"ticks\":\"\"}},\"ternary\":{\"bgcolor\":\"#E5ECF6\",\"aaxis\":{\"gridcolor\":\"white\",\"linecolor\":\"white\",\"ticks\":\"\"},\"baxis\":{\"gridcolor\":\"white\",\"linecolor\":\"white\",\"ticks\":\"\"},\"caxis\":{\"gridcolor\":\"white\",\"linecolor\":\"white\",\"ticks\":\"\"}},\"coloraxis\":{\"colorbar\":{\"outlinewidth\":0,\"ticks\":\"\"}},\"colorscale\":{\"sequential\":[[0.0,\"#0d0887\"],[0.1111111111111111,\"#46039f\"],[0.2222222222222222,\"#7201a8\"],[0.3333333333333333,\"#9c179e\"],[0.4444444444444444,\"#bd3786\"],[0.5555555555555556,\"#d8576b\"],[0.6666666666666666,\"#ed7953\"],[0.7777777777777778,\"#fb9f3a\"],[0.8888888888888888,\"#fdca26\"],[1.0,\"#f0f921\"]],\"sequentialminus\":[[0.0,\"#0d0887\"],[0.1111111111111111,\"#46039f\"],[0.2222222222222222,\"#7201a8\"],[0.3333333333333333,\"#9c179e\"],[0.4444444444444444,\"#bd3786\"],[0.5555555555555556,\"#d8576b\"],[0.6666666666666666,\"#ed7953\"],[0.7777777777777778,\"#fb9f3a\"],[0.8888888888888888,\"#fdca26\"],[1.0,\"#f0f921\"]],\"diverging\":[[0,\"#8e0152\"],[0.1,\"#c51b7d\"],[0.2,\"#de77ae\"],[0.3,\"#f1b6da\"],[0.4,\"#fde0ef\"],[0.5,\"#f7f7f7\"],[0.6,\"#e6f5d0\"],[0.7,\"#b8e186\"],[0.8,\"#7fbc41\"],[0.9,\"#4d9221\"],[1,\"#276419\"]]},\"xaxis\":{\"gridcolor\":\"white\",\"linecolor\":\"white\",\"ticks\":\"\",\"title\":{\"standoff\":15},\"zerolinecolor\":\"white\",\"automargin\":true,\"zerolinewidth\":2},\"yaxis\":{\"gridcolor\":\"white\",\"linecolor\":\"white\",\"ticks\":\"\",\"title\":{\"standoff\":15},\"zerolinecolor\":\"white\",\"automargin\":true,\"zerolinewidth\":2},\"scene\":{\"xaxis\":{\"backgroundcolor\":\"#E5ECF6\",\"gridcolor\":\"white\",\"linecolor\":\"white\",\"showbackground\":true,\"ticks\":\"\",\"zerolinecolor\":\"white\",\"gridwidth\":2},\"yaxis\":{\"backgroundcolor\":\"#E5ECF6\",\"gridcolor\":\"white\",\"linecolor\":\"white\",\"showbackground\":true,\"ticks\":\"\",\"zerolinecolor\":\"white\",\"gridwidth\":2},\"zaxis\":{\"backgroundcolor\":\"#E5ECF6\",\"gridcolor\":\"white\",\"linecolor\":\"white\",\"showbackground\":true,\"ticks\":\"\",\"zerolinecolor\":\"white\",\"gridwidth\":2}},\"shapedefaults\":{\"line\":{\"color\":\"#2a3f5f\"}},\"annotationdefaults\":{\"arrowcolor\":\"#2a3f5f\",\"arrowhead\":0,\"arrowwidth\":1},\"geo\":{\"bgcolor\":\"white\",\"landcolor\":\"#E5ECF6\",\"subunitcolor\":\"white\",\"showland\":true,\"showlakes\":true,\"lakecolor\":\"white\"},\"title\":{\"x\":0.05},\"mapbox\":{\"style\":\"light\"}}},\"xaxis\":{\"anchor\":\"y\",\"domain\":[0.0,1.0],\"title\":{\"text\":\"Notas de Matem\\u00e1tica por tipo de escola\"}},\"yaxis\":{\"anchor\":\"x\",\"domain\":[0.0,1.0],\"title\":{\"text\":\"probability\"}},\"legend\":{\"title\":{\"text\":\"TP_ESCOLA\"},\"tracegroupgap\":0},\"margin\":{\"t\":60},\"barmode\":\"relative\",\"title\":{\"font\":{\"color\":\"#005DAA\"},\"text\":\"Notas Matem\\u00e1tica por Tipo de Escola - SC - ENEM 2022\",\"x\":0.5,\"xanchor\":\"center\"},\"width\":600,\"height\":500},                        {\"responsive\": true}                    ).then(function(){\n",
              "                            \n",
              "var gd = document.getElementById('d631fbd3-3f8c-4dea-a955-dd940ce4a46b');\n",
              "var x = new MutationObserver(function (mutations, observer) {{\n",
              "        var display = window.getComputedStyle(gd).display;\n",
              "        if (!display || display === 'none') {{\n",
              "            console.log([gd, 'removed!']);\n",
              "            Plotly.purge(gd);\n",
              "            observer.disconnect();\n",
              "        }}\n",
              "}});\n",
              "\n",
              "// Listen for the removal of the full notebook cells\n",
              "var notebookContainer = gd.closest('#notebook-container');\n",
              "if (notebookContainer) {{\n",
              "    x.observe(notebookContainer, {childList: true});\n",
              "}}\n",
              "\n",
              "// Listen for the clearing of the current output cell\n",
              "var outputEl = gd.closest('.output');\n",
              "if (outputEl) {{\n",
              "    x.observe(outputEl, {childList: true});\n",
              "}}\n",
              "\n",
              "                        })                };                            </script>        </div>\n",
              "</body>\n",
              "</html>"
            ]
          },
          "metadata": {}
        }
      ]
    },
    {
      "cell_type": "markdown",
      "source": [
        "-------\n"
      ],
      "metadata": {
        "id": "TATuIHc6uSK8"
      }
    }
  ]
}