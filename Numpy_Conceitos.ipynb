{
  "cells": [
    {
      "cell_type": "markdown",
      "metadata": {
        "id": "view-in-github",
        "colab_type": "text"
      },
      "source": [
        "<a href=\"https://colab.research.google.com/github/dacasfilipe/Python_data_science/blob/main/Numpy_Conceitos.ipynb\" target=\"_parent\"><img src=\"https://colab.research.google.com/assets/colab-badge.svg\" alt=\"Open In Colab\"/></a>"
      ]
    },
    {
      "cell_type": "markdown",
      "source": [
        "![unisenai.png](data:image/png;base64,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)\n",
        "<h1> Pós-Graduação em Ciência de Dados e Inteligência Artificial </h1>\n",
        "\n",
        "<h1>Unidade Curricular: Programação em Python para Ciência de Dados</h1>\n",
        "<h1>Professor: Willian Daniel de Mattos, Me.</h1>\n",
        "\n",
        "<h1><b>Tópico 4 - Visão Geral dos Pacotes Populares </b></h1>\n",
        "\n",
        "4.1 **NumPy** - Conceitos\n",
        "\n"
      ],
      "metadata": {
        "id": "HQ5nh08AStPe"
      },
      "id": "HQ5nh08AStPe"
    },
    {
      "cell_type": "markdown",
      "id": "a681324b",
      "metadata": {
        "id": "a681324b"
      },
      "source": [
        "# Numpy - Conceitos Básicos"
      ]
    },
    {
      "cell_type": "markdown",
      "id": "fd22edc2",
      "metadata": {
        "id": "fd22edc2"
      },
      "source": [
        "O NumPy (Numerical Python) é um pacote fundamental para o processamento numérico em Python. Ele provê diversas funcionalidades para a criação, armazenamento e manipulação de dados.\n",
        "\n",
        "O Numpy suporta arrays e matrizes em conjunto com uma série de funções matemáticas para trabalhar com essas estruturas de dados.\n",
        "\n",
        "Mais informações em https://numpy.org/.\n",
        "\n",
        "Para atualização do Numpy, digite no prompt de comando: pip install numpy -U"
      ]
    },
    {
      "cell_type": "code",
      "execution_count": null,
      "id": "88da1824",
      "metadata": {
        "id": "88da1824"
      },
      "outputs": [],
      "source": [
        "# Para importar a biblioteca é necessário utilizar a palavra-chave import, como exibido abaixo:\n",
        "import numpy as np #renomeamos aqui a referência para bilioteca como 'np' para facilitar o desenvolvimento do código."
      ]
    },
    {
      "cell_type": "code",
      "source": [
        "#!pip install numpy -U"
      ],
      "metadata": {
        "id": "iC5Rowr2WhKp"
      },
      "id": "iC5Rowr2WhKp",
      "execution_count": null,
      "outputs": []
    },
    {
      "cell_type": "code",
      "execution_count": null,
      "id": "966d6256",
      "metadata": {
        "id": "966d6256",
        "outputId": "4f3ff9be-fa2c-44c7-d28b-7cec2917388e",
        "colab": {
          "base_uri": "https://localhost:8080/",
          "height": 35
        }
      },
      "outputs": [
        {
          "output_type": "execute_result",
          "data": {
            "text/plain": [
              "'1.22.4'"
            ],
            "application/vnd.google.colaboratory.intrinsic+json": {
              "type": "string"
            }
          },
          "metadata": {},
          "execution_count": 3
        }
      ],
      "source": [
        "np.__version__"
      ]
    },
    {
      "cell_type": "markdown",
      "id": "915a827a",
      "metadata": {
        "id": "915a827a"
      },
      "source": [
        "# Criação de Arrays"
      ]
    },
    {
      "cell_type": "code",
      "execution_count": null,
      "id": "e2582a66",
      "metadata": {
        "id": "e2582a66",
        "outputId": "8b574b10-66e7-4494-9563-8c20b21b9caa",
        "colab": {
          "base_uri": "https://localhost:8080/"
        }
      },
      "outputs": [
        {
          "output_type": "stream",
          "name": "stdout",
          "text": [
            "[ 2  4  6  8 10]\n",
            "<class 'numpy.ndarray'>\n"
          ]
        }
      ],
      "source": [
        "#Para criação de arrays usa-se a função array passando uma lista de elementos como argumento\n",
        "x = np.array([2,4,6,8,10])\n",
        "print(x)\n",
        "print(type(x))"
      ]
    },
    {
      "cell_type": "code",
      "execution_count": null,
      "id": "fd7cb4db",
      "metadata": {
        "id": "fd7cb4db",
        "outputId": "0bd4731a-cb94-4526-96c0-eaebd229268c",
        "colab": {
          "base_uri": "https://localhost:8080/"
        }
      },
      "outputs": [
        {
          "output_type": "stream",
          "name": "stdout",
          "text": [
            "1\n"
          ]
        }
      ],
      "source": [
        "#Exibe dimensões do array\n",
        "print(x.ndim)"
      ]
    },
    {
      "cell_type": "code",
      "execution_count": null,
      "id": "8525aa76",
      "metadata": {
        "id": "8525aa76",
        "outputId": "663302d2-2c56-499d-9f32-4539fd2e9bc4",
        "colab": {
          "base_uri": "https://localhost:8080/"
        }
      },
      "outputs": [
        {
          "output_type": "execute_result",
          "data": {
            "text/plain": [
              "30"
            ]
          },
          "metadata": {},
          "execution_count": 6
        }
      ],
      "source": [
        "#Soma elementos do array\n",
        "x.sum()"
      ]
    },
    {
      "cell_type": "code",
      "execution_count": null,
      "id": "bd41894e",
      "metadata": {
        "id": "bd41894e",
        "outputId": "950234e8-314b-4ce1-b844-987466c7756d",
        "colab": {
          "base_uri": "https://localhost:8080/"
        }
      },
      "outputs": [
        {
          "output_type": "stream",
          "name": "stdout",
          "text": [
            "[[1 3 5]\n",
            " [2 4 6]]\n",
            "2\n"
          ]
        }
      ],
      "source": [
        "#Se informarmos uma lista de listas como argumento para função array o numpy irá criar uma matriz, conforme exemplo abaixo:\n",
        "y = np.array([[1,3,5],[2,4,6]])\n",
        "print(y)\n",
        "print(y.ndim)"
      ]
    },
    {
      "cell_type": "code",
      "execution_count": null,
      "id": "c0e2910c",
      "metadata": {
        "id": "c0e2910c",
        "outputId": "ef23410a-66c8-4d72-b86a-82fa9cca8e5d",
        "colab": {
          "base_uri": "https://localhost:8080/"
        }
      },
      "outputs": [
        {
          "output_type": "execute_result",
          "data": {
            "text/plain": [
              "(2, 3)"
            ]
          },
          "metadata": {},
          "execution_count": 8
        }
      ],
      "source": [
        "#retorna uma tupla com a quantidade de elementos de cada dimensão da matriz (shape)\n",
        "y.shape #2 linhas por 3 colunas"
      ]
    },
    {
      "cell_type": "code",
      "execution_count": null,
      "id": "fd98fec9",
      "metadata": {
        "id": "fd98fec9",
        "outputId": "adea4fee-f22b-4ad2-caed-98284612e822",
        "colab": {
          "base_uri": "https://localhost:8080/"
        }
      },
      "outputs": [
        {
          "output_type": "stream",
          "name": "stdout",
          "text": [
            "int64\n"
          ]
        }
      ],
      "source": [
        "#verifica o tipo de dados dos itens da matriz (dtype)\n",
        "print(y.dtype)"
      ]
    },
    {
      "cell_type": "code",
      "execution_count": null,
      "id": "5ce549c5",
      "metadata": {
        "id": "5ce549c5",
        "outputId": "c04d2ddb-3591-4a3a-ffc7-0c4c1780a80c",
        "colab": {
          "base_uri": "https://localhost:8080/"
        }
      },
      "outputs": [
        {
          "output_type": "stream",
          "name": "stdout",
          "text": [
            "[3.44 5.55 6.67]\n",
            "float64\n"
          ]
        }
      ],
      "source": [
        "#Também é possível criar um array com números decimais (floats)\n",
        "z = np.array([3.44, 5.55, 6.67])\n",
        "print(z)\n",
        "print(z.dtype)"
      ]
    },
    {
      "cell_type": "code",
      "execution_count": null,
      "id": "e67efede",
      "metadata": {
        "id": "e67efede"
      },
      "outputs": [],
      "source": [
        "#Também é possível por meio do numpy criar arrays pré-preenchidos com zeros ou com uns.\n",
        "#Isso facilita a criação de arrays quando não se sabe quais serão o valores a serem preenchidos."
      ]
    },
    {
      "cell_type": "code",
      "execution_count": null,
      "id": "42f09ebb",
      "metadata": {
        "id": "42f09ebb",
        "outputId": "fd425641-2097-438a-b2e5-87660b22e73f",
        "colab": {
          "base_uri": "https://localhost:8080/"
        }
      },
      "outputs": [
        {
          "output_type": "stream",
          "name": "stdout",
          "text": [
            "[[0. 0. 0.]\n",
            " [0. 0. 0.]\n",
            " [0. 0. 0.]]\n"
          ]
        }
      ],
      "source": [
        "a = np.zeros((3,3))\n",
        "print(a)"
      ]
    },
    {
      "cell_type": "code",
      "execution_count": null,
      "id": "c5a5a47f",
      "metadata": {
        "id": "c5a5a47f",
        "outputId": "6c48c24b-0630-4771-beb1-59216060b9f5",
        "colab": {
          "base_uri": "https://localhost:8080/"
        }
      },
      "outputs": [
        {
          "output_type": "stream",
          "name": "stdout",
          "text": [
            "[[1. 1. 1. 1.]\n",
            " [1. 1. 1. 1.]\n",
            " [1. 1. 1. 1.]\n",
            " [1. 1. 1. 1.]]\n"
          ]
        }
      ],
      "source": [
        "b = np.ones((4,4))\n",
        "print(b)"
      ]
    },
    {
      "cell_type": "code",
      "source": [
        "k = np.empty((5,5)) #cria vetor vazio (nem sempre com zeros!)\n",
        "print(k)"
      ],
      "metadata": {
        "colab": {
          "base_uri": "https://localhost:8080/"
        },
        "id": "hLssGngKXow3",
        "outputId": "acf65c58-0514-421d-e13f-5e560502047d"
      },
      "id": "hLssGngKXow3",
      "execution_count": null,
      "outputs": [
        {
          "output_type": "stream",
          "name": "stdout",
          "text": [
            "[[1.04924128e-316 0.00000000e+000 5.03028219e+180 4.90922779e+252\n",
            "  5.28961029e+180]\n",
            " [2.13530626e+185 3.30164399e+180 1.42717851e+248 1.43258072e+161\n",
            "  1.87673448e-152]\n",
            " [6.01346953e-154 1.12176758e+219 3.15474910e+180 2.31463017e-152\n",
            "  1.35507723e+248]\n",
            " [7.62867254e+228 9.77247407e-085 6.29030642e+180 1.17357374e+171\n",
            "  1.38083773e+267]\n",
            " [1.75182673e+267 1.08784636e+155 5.41591245e+155 8.42957052e+252\n",
            "  7.53046675e+252]]\n"
          ]
        }
      ]
    },
    {
      "cell_type": "code",
      "execution_count": null,
      "id": "0731c2ea",
      "metadata": {
        "id": "0731c2ea",
        "outputId": "575c9bc2-b08e-4fd7-f027-ccb468028284",
        "colab": {
          "base_uri": "https://localhost:8080/"
        }
      },
      "outputs": [
        {
          "output_type": "stream",
          "name": "stdout",
          "text": [
            "[[0.34618524 0.33579502 0.49490457 0.75981989 0.33485795]\n",
            " [0.10157358 0.65439154 0.64118899 0.6571036  0.22966307]\n",
            " [0.12396442 0.09994921 0.49606022 0.02109096 0.62965   ]\n",
            " [0.43661206 0.00672656 0.88434193 0.49640909 0.22659972]\n",
            " [0.18824335 0.10169199 0.59441451 0.29090412 0.90995591]]\n"
          ]
        }
      ],
      "source": [
        "#Também é possível gerar um array com números aleatórios, conforme o exemplo abaixo:\n",
        "c = np.random.rand(5,5) #gera matriz 3x3 com números aleatórios entre 0 e 1\n",
        "print(c)"
      ]
    },
    {
      "cell_type": "code",
      "execution_count": null,
      "id": "12a5479e",
      "metadata": {
        "id": "12a5479e",
        "outputId": "1e7ceef7-ac45-439d-fff1-1910fd43a6d9",
        "colab": {
          "base_uri": "https://localhost:8080/"
        }
      },
      "outputs": [
        {
          "output_type": "stream",
          "name": "stdout",
          "text": [
            "[ 1  3  5  7  9 11 13 15 17 19 21 23 25 27 29 31 33 35 37 39 41 43 45 47\n",
            " 49 51 53 55 57 59 61 63 65 67 69 71 73 75 77 79 81 83 85 87 89 91 93 95\n",
            " 97 99]\n"
          ]
        }
      ],
      "source": [
        "# A função arange() gera uma sequência de números. O primeiro argumento é o valor inicial,\n",
        "#o segundo argumento é o limite (não incluido) e o terceiro é a diferença entre os valores (incremento)\n",
        "#Exemplo:\n",
        "\n",
        "d = np.arange(1,100,2) #Gera uma sequência de números ímpares entre 1 e 99\n",
        "print(d)"
      ]
    },
    {
      "cell_type": "code",
      "execution_count": null,
      "id": "37298c4c",
      "metadata": {
        "id": "37298c4c",
        "outputId": "854b0bba-7df8-4f21-e5a9-0888ab8fd2e8",
        "colab": {
          "base_uri": "https://localhost:8080/"
        }
      },
      "outputs": [
        {
          "output_type": "stream",
          "name": "stdout",
          "text": [
            "[ 0.          0.52631579  1.05263158  1.57894737  2.10526316  2.63157895\n",
            "  3.15789474  3.68421053  4.21052632  4.73684211  5.26315789  5.78947368\n",
            "  6.31578947  6.84210526  7.36842105  7.89473684  8.42105263  8.94736842\n",
            "  9.47368421 10.        ]\n"
          ]
        }
      ],
      "source": [
        "#A função linspace é utilizada para gerar uma sequência de números decimais.\n",
        "#Neste caso o terceiro argumento é quantidade total de números no intervalo especificado.\n",
        "e = np.linspace(0,10,20) #Gera 20 números entre 0(incluído) e 10 (incluído)\n",
        "print(e)"
      ]
    },
    {
      "cell_type": "markdown",
      "id": "bf1fa731",
      "metadata": {
        "id": "bf1fa731"
      },
      "source": [
        "# Operações com arrays"
      ]
    },
    {
      "cell_type": "code",
      "execution_count": null,
      "id": "6795806d",
      "metadata": {
        "id": "6795806d",
        "outputId": "e38f9afd-dfde-45d6-b15a-478e037dba93",
        "colab": {
          "base_uri": "https://localhost:8080/"
        }
      },
      "outputs": [
        {
          "output_type": "stream",
          "name": "stdout",
          "text": [
            "[12 22 32 43 53]\n",
            "[ 8 18 28 37 47]\n",
            "[ 20  40  60 120 150]\n"
          ]
        }
      ],
      "source": [
        "#As operações matemáticas são aplicadas em todos os elementos do array\n",
        "x = np.array([10,20,30,40,50])\n",
        "y = np.array([2,2,2,3,3])\n",
        "\n",
        "z = x + y\n",
        "print(z)\n",
        "\n",
        "z = x - y\n",
        "print(z)\n",
        "\n",
        "z = x * y\n",
        "print(z)"
      ]
    },
    {
      "cell_type": "code",
      "execution_count": null,
      "id": "98da1034",
      "metadata": {
        "id": "98da1034",
        "outputId": "c6266683-5078-41c4-ea7f-3cdf39183bfe",
        "colab": {
          "base_uri": "https://localhost:8080/"
        }
      },
      "outputs": [
        {
          "output_type": "stream",
          "name": "stdout",
          "text": [
            "[1.85 1.65 1.5  1.55]\n"
          ]
        }
      ],
      "source": [
        "altura_cm = np.array([185,165,150,155])\n",
        "altura_m = altura_cm / 100\n",
        "print(altura_m)"
      ]
    },
    {
      "cell_type": "code",
      "execution_count": null,
      "id": "134d27bc",
      "metadata": {
        "id": "134d27bc",
        "outputId": "33ed6fdb-b91d-4075-931a-8d6a2b03b148",
        "colab": {
          "base_uri": "https://localhost:8080/"
        }
      },
      "outputs": [
        {
          "output_type": "stream",
          "name": "stdout",
          "text": [
            "[ True  True False False]\n"
          ]
        }
      ],
      "source": [
        "#arrays booleanos\n",
        "novo_array = altura_m > 1.6\n",
        "print(novo_array)"
      ]
    },
    {
      "cell_type": "code",
      "execution_count": null,
      "id": "f1acd318",
      "metadata": {
        "id": "f1acd318",
        "outputId": "346f683d-b860-40e3-afda-eeacc193290d",
        "colab": {
          "base_uri": "https://localhost:8080/"
        }
      },
      "outputs": [
        {
          "output_type": "stream",
          "name": "stdout",
          "text": [
            "[[1 2]\n",
            " [3 4]] \n",
            "\n",
            "[[5 6]\n",
            " [7 8]] \n",
            "\n",
            "multiplicação dos elementos da matriz\n",
            "[[ 5 12]\n",
            " [21 32]] \n",
            "\n",
            "multiplicação de matrizes\n",
            "[[19 22]\n",
            " [43 50]]\n"
          ]
        }
      ],
      "source": [
        "a = np.array([[1,2], [3,4]])\n",
        "b = np.array([[5,6], [7,8]])\n",
        "\n",
        "print(a,'\\n')\n",
        "print(b,'\\n')\n",
        "c = a * b #multiplicação de elementos\n",
        "d = a@b #multiplicação de matrizes\n",
        "\n",
        "print('multiplicação dos elementos da matriz')\n",
        "print(c,'\\n')\n",
        "\n",
        "print('multiplicação de matrizes')\n",
        "print(d,)"
      ]
    },
    {
      "cell_type": "code",
      "execution_count": null,
      "id": "d92491a9",
      "metadata": {
        "id": "d92491a9",
        "outputId": "e0859a67-b48f-4443-dee3-05b474ff4cd0",
        "colab": {
          "base_uri": "https://localhost:8080/"
        }
      },
      "outputs": [
        {
          "output_type": "stream",
          "name": "stdout",
          "text": [
            "int64\n",
            "float64\n",
            "[ 4.44  8.55 11.67]\n",
            "float64\n"
          ]
        }
      ],
      "source": [
        "a = np.array([1,3,5])\n",
        "b = np.array([3.44, 5.55, 6.67])\n",
        "print(a.dtype)\n",
        "print(b.dtype)\n",
        "c = a + b\n",
        "print(c)\n",
        "print(c.dtype) #operação de upcasting"
      ]
    },
    {
      "cell_type": "code",
      "execution_count": null,
      "id": "6329e0e1",
      "metadata": {
        "id": "6329e0e1",
        "outputId": "fd875ea0-fbc6-4410-f814-645f3b57e62a",
        "colab": {
          "base_uri": "https://localhost:8080/"
        }
      },
      "outputs": [
        {
          "output_type": "stream",
          "name": "stdout",
          "text": [
            "Mínimo: 4.4399999999999995\n",
            "Máximo: 11.67\n",
            "Soma: 24.66\n",
            "Média: 8.22\n",
            "Desvio Padrão: 2.960844474132338\n"
          ]
        }
      ],
      "source": [
        "#outras operações\n",
        "print('Mínimo:', c.min()) #Mínimo\n",
        "print('Máximo:', c.max()) #Máximo\n",
        "print('Soma:',c.sum()) #Soma\n",
        "print('Média:',c.mean()) #Média\n",
        "print('Desvio Padrão:', c.std()) #Desvio Padrão"
      ]
    },
    {
      "cell_type": "code",
      "execution_count": null,
      "id": "cd745cf8",
      "metadata": {
        "id": "cd745cf8",
        "outputId": "aa9caf4b-a83d-4e20-ddf9-a2cdd076f23e",
        "colab": {
          "base_uri": "https://localhost:8080/"
        }
      },
      "outputs": [
        {
          "output_type": "stream",
          "name": "stdout",
          "text": [
            "[ 1  2  3  4  5  6  7  8  9 10 11 12 13 14 15 16 17 18 19 20]\n",
            "[[ 1  2  3  4  5]\n",
            " [ 6  7  8  9 10]\n",
            " [11 12 13 14 15]\n",
            " [16 17 18 19 20]]\n"
          ]
        }
      ],
      "source": [
        "x = np.arange(1,21,1) #Cria sequência entre 1 e 20\n",
        "y = x.reshape(4,5) #reorganiza array (4 linhas por 5 colunas)\n",
        "print(x)\n",
        "print(y)"
      ]
    },
    {
      "cell_type": "markdown",
      "id": "52675218",
      "metadata": {
        "id": "52675218"
      },
      "source": [
        "# Indexação e Fatiamento"
      ]
    },
    {
      "cell_type": "code",
      "execution_count": null,
      "id": "dd080f65",
      "metadata": {
        "id": "dd080f65",
        "outputId": "8c312fa2-72fa-4317-8e9b-9fc409cfe83a",
        "colab": {
          "base_uri": "https://localhost:8080/"
        }
      },
      "outputs": [
        {
          "output_type": "execute_result",
          "data": {
            "text/plain": [
              "50"
            ]
          },
          "metadata": {},
          "execution_count": 25
        }
      ],
      "source": [
        "x = np.array([10,20,30,40,50])\n",
        "x[4]"
      ]
    },
    {
      "cell_type": "code",
      "execution_count": null,
      "id": "89bf3af9",
      "metadata": {
        "id": "89bf3af9",
        "outputId": "cbc374a4-96b4-4694-8e2a-e63e3ecd7849",
        "colab": {
          "base_uri": "https://localhost:8080/"
        }
      },
      "outputs": [
        {
          "output_type": "execute_result",
          "data": {
            "text/plain": [
              "array([[10, 20],\n",
              "       [30, 40],\n",
              "       [50, 60]])"
            ]
          },
          "metadata": {},
          "execution_count": 26
        }
      ],
      "source": [
        "b = np.array([[10,20], [30,40],[50,60]])\n",
        "b"
      ]
    },
    {
      "cell_type": "code",
      "execution_count": null,
      "id": "dc99cd92",
      "metadata": {
        "id": "dc99cd92",
        "outputId": "d52c6feb-abbe-4bfb-85a3-b0ba7fa0fa30",
        "colab": {
          "base_uri": "https://localhost:8080/"
        }
      },
      "outputs": [
        {
          "output_type": "execute_result",
          "data": {
            "text/plain": [
              "60"
            ]
          },
          "metadata": {},
          "execution_count": 27
        }
      ],
      "source": [
        "b[2,1]  #linha com indice 2, coluna com indice 1"
      ]
    },
    {
      "cell_type": "code",
      "execution_count": null,
      "id": "52f020fd",
      "metadata": {
        "id": "52f020fd",
        "outputId": "460a047a-2cd9-42bb-bbf4-f32199019595",
        "colab": {
          "base_uri": "https://localhost:8080/"
        }
      },
      "outputs": [
        {
          "output_type": "execute_result",
          "data": {
            "text/plain": [
              "60"
            ]
          },
          "metadata": {},
          "execution_count": 28
        }
      ],
      "source": [
        "b[2][1]  #linha com indice 2, coluna com indice 1 (outra forma)"
      ]
    },
    {
      "cell_type": "markdown",
      "source": [
        "# Indexação Booleana"
      ],
      "metadata": {
        "id": "EMlvtYspTHLp"
      },
      "id": "EMlvtYspTHLp"
    },
    {
      "cell_type": "code",
      "execution_count": null,
      "id": "747b8d21",
      "metadata": {
        "id": "747b8d21",
        "outputId": "3da4be1c-ee0f-4300-e237-2653d91bb9a2",
        "colab": {
          "base_uri": "https://localhost:8080/"
        }
      },
      "outputs": [
        {
          "output_type": "stream",
          "name": "stdout",
          "text": [
            "[[False False]\n",
            " [ True  True]\n",
            " [ True  True]]\n"
          ]
        }
      ],
      "source": [
        "c = b>20\n",
        "print(c)"
      ]
    },
    {
      "cell_type": "code",
      "execution_count": null,
      "id": "f6d8cda5",
      "metadata": {
        "id": "f6d8cda5",
        "outputId": "ded94bd8-4ade-4eff-ecda-5861537f9693",
        "colab": {
          "base_uri": "https://localhost:8080/"
        }
      },
      "outputs": [
        {
          "output_type": "stream",
          "name": "stdout",
          "text": [
            "[30 40 50 60]\n"
          ]
        }
      ],
      "source": [
        "d = b[b>20]\n",
        "print(d)"
      ]
    },
    {
      "cell_type": "markdown",
      "id": "6faf574f",
      "metadata": {
        "id": "6faf574f"
      },
      "source": [
        "<h3>3.2 Fatiamento (Slicing)</h3>"
      ]
    },
    {
      "cell_type": "markdown",
      "source": [
        "![numpy_indexing.png](data:image/png;base64,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)"
      ],
      "metadata": {
        "id": "cdZ-Q8oIEBRm"
      },
      "id": "cdZ-Q8oIEBRm"
    },
    {
      "cell_type": "code",
      "execution_count": null,
      "id": "419b0786",
      "metadata": {
        "id": "419b0786",
        "outputId": "124ab381-5321-4769-f258-dc9891beb6a2",
        "colab": {
          "base_uri": "https://localhost:8080/"
        }
      },
      "outputs": [
        {
          "output_type": "stream",
          "name": "stdout",
          "text": [
            "[0 1 2 3 4]\n"
          ]
        }
      ],
      "source": [
        "a = np.array([0,1,2,3,4,5,6,7,8,9,10])\n",
        "print(a[:5])"
      ]
    },
    {
      "cell_type": "code",
      "execution_count": null,
      "id": "efc69c0a",
      "metadata": {
        "id": "efc69c0a",
        "outputId": "93f33be2-b668-499d-cf14-169f83584e8d",
        "colab": {
          "base_uri": "https://localhost:8080/"
        }
      },
      "outputs": [
        {
          "output_type": "stream",
          "name": "stdout",
          "text": [
            "[5 6]\n"
          ]
        }
      ],
      "source": [
        "print(a[5:7])"
      ]
    },
    {
      "cell_type": "code",
      "execution_count": null,
      "id": "5093128e",
      "metadata": {
        "id": "5093128e",
        "outputId": "d3faea5f-125c-4653-ae85-bac54167af9c",
        "colab": {
          "base_uri": "https://localhost:8080/"
        }
      },
      "outputs": [
        {
          "output_type": "stream",
          "name": "stdout",
          "text": [
            "[[ 1  2  3  4  5]\n",
            " [ 6  7  8  9 10]\n",
            " [11 12 13 14 15]]\n"
          ]
        }
      ],
      "source": [
        "x = np.array(np.arange(1,16)).reshape(3,5)\n",
        "print(x)"
      ]
    },
    {
      "cell_type": "code",
      "execution_count": null,
      "id": "98d0b7c7",
      "metadata": {
        "id": "98d0b7c7",
        "outputId": "3e9024e3-7f77-4ea0-bb06-3f4ebc0d47f8",
        "colab": {
          "base_uri": "https://localhost:8080/"
        }
      },
      "outputs": [
        {
          "output_type": "stream",
          "name": "stdout",
          "text": [
            "[[1 2 3 4 5]] \n",
            "\n",
            "[[ 1  2  3  4  5]\n",
            " [ 6  7  8  9 10]] \n",
            "\n",
            "[[ 5]\n",
            " [10]\n",
            " [15]] \n",
            "\n"
          ]
        }
      ],
      "source": [
        "print(x[:1], \"\\n\")\n",
        "print(x[:2], \"\\n\")\n",
        "print(x[:3, 4:], \"\\n\")"
      ]
    },
    {
      "cell_type": "code",
      "execution_count": null,
      "id": "8217a05b",
      "metadata": {
        "id": "8217a05b",
        "outputId": "f1ee877c-c55a-4579-bb04-4a4aedcf55f5",
        "colab": {
          "base_uri": "https://localhost:8080/"
        }
      },
      "outputs": [
        {
          "output_type": "execute_result",
          "data": {
            "text/plain": [
              "array([[3, 4],\n",
              "       [8, 9]])"
            ]
          },
          "metadata": {},
          "execution_count": 35
        }
      ],
      "source": [
        "x[:2, 2:4] #Primeiras 2 linhas (:2) e 3 e 4 colunas (2:4)"
      ]
    },
    {
      "cell_type": "code",
      "execution_count": null,
      "id": "98229c64",
      "metadata": {
        "id": "98229c64",
        "outputId": "00624b17-ad86-42d6-dc30-2ab584c14e41",
        "colab": {
          "base_uri": "https://localhost:8080/"
        }
      },
      "outputs": [
        {
          "output_type": "stream",
          "name": "stdout",
          "text": [
            "[[99  4]\n",
            " [ 8  9]]\n",
            "[[ 1  2 99  4  5]\n",
            " [ 6  7  8  9 10]\n",
            " [11 12 13 14 15]]\n"
          ]
        }
      ],
      "source": [
        "array1= x[:2, 2:4] #Primeiras 2 linhas (:2) e 3 e 4 colunas (2:4)\n",
        "array1[0,0] = 99\n",
        "print(array1)\n",
        "print(x)"
      ]
    },
    {
      "cell_type": "code",
      "execution_count": null,
      "id": "5890701d",
      "metadata": {
        "id": "5890701d",
        "outputId": "fe56af1c-7475-45f6-84a7-b822a71ad72d",
        "colab": {
          "base_uri": "https://localhost:8080/"
        }
      },
      "outputs": [
        {
          "output_type": "stream",
          "name": "stdout",
          "text": [
            "[[55  4]\n",
            " [ 8  9]]\n",
            "[[ 1  2 99  4  5]\n",
            " [ 6  7  8  9 10]\n",
            " [11 12 13 14 15]]\n"
          ]
        }
      ],
      "source": [
        "array2 = np.copy(x)[:2, 2:4]\n",
        "array2[0,0] = 55\n",
        "print(array2)\n",
        "print(x)"
      ]
    },
    {
      "cell_type": "code",
      "source": [],
      "metadata": {
        "id": "_qlCbKRIT-q6"
      },
      "id": "_qlCbKRIT-q6",
      "execution_count": null,
      "outputs": []
    },
    {
      "cell_type": "markdown",
      "id": "21e47df8",
      "metadata": {
        "id": "21e47df8"
      },
      "source": [
        "# Abrindo arquivos com Numpy"
      ]
    },
    {
      "cell_type": "code",
      "execution_count": null,
      "id": "bad5a527",
      "metadata": {
        "id": "bad5a527",
        "outputId": "08869e06-9e45-4e6b-9ab0-802835d5a296",
        "colab": {
          "base_uri": "https://localhost:8080/"
        }
      },
      "outputs": [
        {
          "output_type": "stream",
          "name": "stdout",
          "text": [
            "Mounted at /content/drive\n"
          ]
        },
        {
          "output_type": "execute_result",
          "data": {
            "text/plain": [
              "array([[2.835e+03, 8.400e+01, 1.150e+02, 2.330e+02, 2.011e+03, 1.600e+00,\n",
              "        1.850e+00, 6.200e+04],\n",
              "       [1.137e+03, 1.200e+01, 9.100e+01, 6.600e+01, 2.012e+03, 1.700e+00,\n",
              "        1.110e+00, 0.000e+00],\n",
              "       [4.606e+03, 3.000e+00, 9.700e+01, 9.000e+00, 2.005e+03, 1.900e+00,\n",
              "        1.780e+00, 1.280e+02],\n",
              "       [2.269e+03, 1.110e+02, 8.800e+01, 3.590e+02, 2.008e+03, 1.900e+00,\n",
              "        1.850e+00, 0.000e+00],\n",
              "       [2.296e+03, 3.200e+01, 8.800e+01, 1.290e+02, 2.004e+03, 1.900e+00,\n",
              "        2.350e+00, 0.000e+00],\n",
              "       [3.506e+03, 2.500e+01, 9.300e+01, 4.600e+01, 2.007e+03, 2.000e+00,\n",
              "        1.850e+00, 4.460e+02],\n",
              "       [1.730e+03, 7.000e+00, 1.100e+02, 2.200e+01, 2.014e+03, 2.000e+00,\n",
              "        2.350e+00, 0.000e+00],\n",
              "       [2.984e+03, 6.000e+01, 9.000e+01, 3.040e+02, 2.003e+03, 2.100e+00,\n",
              "        1.850e+00, 0.000e+00],\n",
              "       [3.665e+03, 2.500e+01, 9.500e+01, 3.600e+01, 2.006e+03, 2.100e+00,\n",
              "        1.850e+00, 2.440e+02],\n",
              "       [3.341e+03, 6.600e+01, 1.040e+02, 3.080e+02, 2.001e+03, 2.100e+00,\n",
              "        2.350e+00, 0.000e+00],\n",
              "       [4.620e+03, 7.000e+00, 8.300e+01, 1.400e+01, 2.012e+03, 2.200e+00,\n",
              "        1.780e+00, 1.500e+02],\n",
              "       [3.200e+02, 7.800e+01, 9.400e+01, 2.390e+02, 2.005e+03, 2.200e+00,\n",
              "        1.850e+00, 8.810e+02],\n",
              "       [4.769e+03, 1.000e+00, 1.220e+02, 1.600e+01, 2.015e+03, 2.200e+00,\n",
              "        1.253e+00, 3.530e+02]])"
            ]
          },
          "metadata": {},
          "execution_count": 38
        }
      ],
      "source": [
        "from google.colab import drive\n",
        "drive.mount('/content/drive')\n",
        "movies = np.genfromtxt(\"/content/drive/MyDrive/Colab Notebooks/movies.csv\", delimiter=\";\", skip_header=1)\n",
        "movies"
      ]
    },
    {
      "cell_type": "code",
      "execution_count": null,
      "id": "bc0bda1d",
      "metadata": {
        "id": "bc0bda1d",
        "outputId": "61de3b02-74d6-4fa2-da6d-807f15e6ec50",
        "colab": {
          "base_uri": "https://localhost:8080/"
        }
      },
      "outputs": [
        {
          "output_type": "stream",
          "name": "stdout",
          "text": [
            "[2835. 1137. 4606. 2269. 2296. 3506. 1730. 2984. 3665. 3341. 4620.  320.\n",
            " 4769.]\n",
            "1\n"
          ]
        }
      ],
      "source": [
        "col0 = movies[:,0] #somente primeira coluna\n",
        "print(col0)\n",
        "print(col0.ndim)"
      ]
    },
    {
      "cell_type": "code",
      "execution_count": null,
      "id": "2bdd9494",
      "metadata": {
        "id": "2bdd9494",
        "outputId": "d71ed32b-bb3e-4a20-e405-fb04895b40b4",
        "colab": {
          "base_uri": "https://localhost:8080/"
        }
      },
      "outputs": [
        {
          "output_type": "stream",
          "name": "stdout",
          "text": [
            "[[2835.]\n",
            " [1137.]\n",
            " [4606.]\n",
            " [2269.]\n",
            " [2296.]\n",
            " [3506.]\n",
            " [1730.]\n",
            " [2984.]\n",
            " [3665.]\n",
            " [3341.]\n",
            " [4620.]\n",
            " [ 320.]\n",
            " [4769.]]\n",
            "2\n"
          ]
        }
      ],
      "source": [
        "col0 = movies[:,0:1] #somente primeira coluna\n",
        "print(col0)\n",
        "print(col0.ndim)"
      ]
    },
    {
      "cell_type": "code",
      "execution_count": null,
      "id": "0680df4e",
      "metadata": {
        "id": "0680df4e",
        "outputId": "7e10ee85-d3cb-466f-ece9-a289d31b1996",
        "colab": {
          "base_uri": "https://localhost:8080/"
        }
      },
      "outputs": [
        {
          "output_type": "execute_result",
          "data": {
            "text/plain": [
              "array([[2.835e+03, 8.400e+01, 1.150e+02],\n",
              "       [1.137e+03, 1.200e+01, 9.100e+01],\n",
              "       [4.606e+03, 3.000e+00, 9.700e+01],\n",
              "       [2.269e+03, 1.110e+02, 8.800e+01],\n",
              "       [2.296e+03, 3.200e+01, 8.800e+01],\n",
              "       [3.506e+03, 2.500e+01, 9.300e+01],\n",
              "       [1.730e+03, 7.000e+00, 1.100e+02],\n",
              "       [2.984e+03, 6.000e+01, 9.000e+01],\n",
              "       [3.665e+03, 2.500e+01, 9.500e+01],\n",
              "       [3.341e+03, 6.600e+01, 1.040e+02],\n",
              "       [4.620e+03, 7.000e+00, 8.300e+01],\n",
              "       [3.200e+02, 7.800e+01, 9.400e+01],\n",
              "       [4.769e+03, 1.000e+00, 1.220e+02]])"
            ]
          },
          "metadata": {},
          "execution_count": 41
        }
      ],
      "source": [
        "movies[:,0:3] # Três primeiras colunas"
      ]
    },
    {
      "cell_type": "code",
      "execution_count": null,
      "id": "a32648bb",
      "metadata": {
        "id": "a32648bb",
        "outputId": "fd569bf3-d3d9-4cee-f09a-396ab308d4d1",
        "colab": {
          "base_uri": "https://localhost:8080/"
        }
      },
      "outputs": [
        {
          "output_type": "execute_result",
          "data": {
            "text/plain": [
              "array([[2.835e+03, 2.330e+02, 1.600e+00],\n",
              "       [1.137e+03, 6.600e+01, 1.700e+00],\n",
              "       [4.606e+03, 9.000e+00, 1.900e+00],\n",
              "       [2.269e+03, 3.590e+02, 1.900e+00],\n",
              "       [2.296e+03, 1.290e+02, 1.900e+00],\n",
              "       [3.506e+03, 4.600e+01, 2.000e+00],\n",
              "       [1.730e+03, 2.200e+01, 2.000e+00],\n",
              "       [2.984e+03, 3.040e+02, 2.100e+00],\n",
              "       [3.665e+03, 3.600e+01, 2.100e+00],\n",
              "       [3.341e+03, 3.080e+02, 2.100e+00],\n",
              "       [4.620e+03, 1.400e+01, 2.200e+00],\n",
              "       [3.200e+02, 2.390e+02, 2.200e+00],\n",
              "       [4.769e+03, 1.600e+01, 2.200e+00]])"
            ]
          },
          "metadata": {},
          "execution_count": 42
        }
      ],
      "source": [
        "movies[:,[0,3,5]]"
      ]
    },
    {
      "cell_type": "code",
      "execution_count": null,
      "id": "cb86eef2",
      "metadata": {
        "id": "cb86eef2",
        "outputId": "5c308004-41de-4212-9904-a7147fa9ebd3",
        "colab": {
          "base_uri": "https://localhost:8080/"
        }
      },
      "outputs": [
        {
          "output_type": "execute_result",
          "data": {
            "text/plain": [
              "1.9923076923076921"
            ]
          },
          "metadata": {},
          "execution_count": 43
        }
      ],
      "source": [
        "movies[:,5].mean() #Média da coluna IMdb Score"
      ]
    },
    {
      "cell_type": "code",
      "execution_count": null,
      "id": "7b0203a3",
      "metadata": {
        "id": "7b0203a3"
      },
      "outputs": [],
      "source": [
        "movies2 = np.genfromtxt(\"/content/drive/MyDrive/Colab Notebooks/movies.csv\", delimiter=\";\", skip_header=1, names = ('code','num_critic_for_reviews','duration'\n",
        "                            ,'num_user_for_reviews','title_year', 'imdb_score','aspect_ratio', 'movie_facebook_likes'))"
      ]
    },
    {
      "cell_type": "code",
      "execution_count": null,
      "id": "610a15cb",
      "metadata": {
        "id": "610a15cb",
        "outputId": "c0f0c627-a72d-4aa5-c8c0-589f86034444",
        "colab": {
          "base_uri": "https://localhost:8080/"
        }
      },
      "outputs": [
        {
          "output_type": "execute_result",
          "data": {
            "text/plain": [
              "array([(2835.,  84., 115.,  233., 2011., 1.6, 1.85 ,  62000.),\n",
              "       (1137.,  12.,  91.,   66., 2012., 1.7, 1.11 ,      0.),\n",
              "       (4606.,   3.,  97.,    9., 2005., 1.9, 1.78 ,    128.), ...,\n",
              "       (1938., 199., 142., 4144., 1994., 9.3, 1.85 , 108000.),\n",
              "       (2766.,  nan,  65.,   nan,   nan, 9.5, 1.33 ,      0.),\n",
              "       (5032.,  13.,  82.,   nan,   nan, 0. , 1.323,     nan)],\n",
              "      dtype=[('code', '<f8'), ('num_critic_for_reviews', '<f8'), ('duration', '<f8'), ('num_user_for_reviews', '<f8'), ('title_year', '<f8'), ('imdb_score', '<f8'), ('aspect_ratio', '<f8'), ('movie_facebook_likes', '<f8')])"
            ]
          },
          "metadata": {},
          "execution_count": 102
        }
      ],
      "source": [
        "movies2"
      ]
    },
    {
      "cell_type": "code",
      "execution_count": null,
      "id": "8f9c935b",
      "metadata": {
        "id": "8f9c935b",
        "outputId": "24364ac6-c535-4012-ac55-d8ba6c2d89f1",
        "colab": {
          "base_uri": "https://localhost:8080/"
        }
      },
      "outputs": [
        {
          "output_type": "execute_result",
          "data": {
            "text/plain": [
              "array([1.6, 1.7, 1.9, 1.9, 1.9, 2. , 2. , 2.1, 2.1, 2.1])"
            ]
          },
          "metadata": {},
          "execution_count": 46
        }
      ],
      "source": [
        "movies2['imdb_score'][0:10]"
      ]
    },
    {
      "cell_type": "code",
      "execution_count": null,
      "id": "0a6036e1",
      "metadata": {
        "id": "0a6036e1",
        "outputId": "07f80e91-7336-4966-ff3f-5b619515b0ba",
        "colab": {
          "base_uri": "https://localhost:8080/"
        }
      },
      "outputs": [
        {
          "output_type": "execute_result",
          "data": {
            "text/plain": [
              "0"
            ]
          },
          "metadata": {},
          "execution_count": 47
        }
      ],
      "source": [
        "len(movies2[movies2['imdb_score']>8])"
      ]
    },
    {
      "cell_type": "code",
      "execution_count": null,
      "id": "64e6a3e1",
      "metadata": {
        "id": "64e6a3e1",
        "outputId": "21cdd584-8fb9-40eb-d491-e067f515782e",
        "colab": {
          "base_uri": "https://localhost:8080/"
        }
      },
      "outputs": [
        {
          "output_type": "stream",
          "name": "stdout",
          "text": [
            "1.94\n",
            "2.025\n"
          ]
        }
      ],
      "source": [
        "print(movies2[movies2['title_year']>2008]['imdb_score'].mean())\n",
        "print(movies2[movies2['title_year']<=2008]['imdb_score'].mean())"
      ]
    },
    {
      "cell_type": "code",
      "execution_count": null,
      "id": "4d6614ca",
      "metadata": {
        "id": "4d6614ca",
        "outputId": "c5d26971-aba2-4d69-f4cd-1d77ba4c6d76",
        "colab": {
          "base_uri": "https://localhost:8080/"
        }
      },
      "outputs": [
        {
          "output_type": "execute_result",
          "data": {
            "text/plain": [
              "array([(2835., 84., 115., 233., 2011., 1.6, 1.85 , 62000.),\n",
              "       (1137., 12.,  91.,  66., 2012., 1.7, 1.11 ,     0.),\n",
              "       (1730.,  7., 110.,  22., 2014., 2. , 2.35 ,     0.),\n",
              "       (4620.,  7.,  83.,  14., 2012., 2.2, 1.78 ,   150.),\n",
              "       (4769.,  1., 122.,  16., 2015., 2.2, 1.253,   353.)],\n",
              "      dtype=[('code', '<f8'), ('num_critic_for_reviews', '<f8'), ('duration', '<f8'), ('num_user_for_reviews', '<f8'), ('title_year', '<f8'), ('imdb_score', '<f8'), ('aspect_ratio', '<f8'), ('movie_facebook_likes', '<f8')])"
            ]
          },
          "metadata": {},
          "execution_count": 49
        }
      ],
      "source": [
        "movies2[movies2['title_year']>2008]"
      ]
    },
    {
      "cell_type": "markdown",
      "source": [
        "# Carregamento de Imagens"
      ],
      "metadata": {
        "id": "mwlWPsc8dLOf"
      },
      "id": "mwlWPsc8dLOf"
    },
    {
      "cell_type": "code",
      "source": [
        "from PIL import Image #Iremos utilizar a biblioteca PIL (Python Image Library)\n",
        "from IPython.display import display #O IPython fornece um kit de ferramentas para ajudá-lo a aproveitar ao máximo o Python de forma interativa."
      ],
      "metadata": {
        "id": "RtQj9zM1dN1q"
      },
      "id": "RtQj9zM1dN1q",
      "execution_count": null,
      "outputs": []
    },
    {
      "cell_type": "code",
      "source": [
        "#Obs.: Antes de executar o comando abaixo, copiar o arquivo cat.tiff para a sua pasta Colab Notebooks\n",
        "#Arquivo disponível em https://drive.google.com/file/d/18__Roc_8er9vY1YubBW2FYgnzsCa9vYh/view?usp=sharing\n",
        "im = Image.open('/content/drive/MyDrive/Colab Notebooks/cat.tiff')\n",
        "display(im)"
      ],
      "metadata": {
        "colab": {
          "base_uri": "https://localhost:8080/",
          "height": 317
        },
        "id": "Ju_149eodeiK",
        "outputId": "335ddb65-e4ba-4a15-9765-8aa7003d4a75"
      },
      "id": "Ju_149eodeiK",
      "execution_count": null,
      "outputs": [
        {
          "output_type": "display_data",
          "data": {
            "text/plain": [
              "<PIL.JpegImagePlugin.JpegImageFile image mode=RGB size=200x300 at 0x7FCD75C6F5B0>"
            ],
            "image/png": "[encoded data removed]"
          },
          "metadata": {}
        }
      ]
    },
    {
      "cell_type": "code",
      "source": [
        "array = np.array(im) #converte imagem em array"
      ],
      "metadata": {
        "id": "Maf7vGzWfYgi"
      },
      "id": "Maf7vGzWfYgi",
      "execution_count": null,
      "outputs": []
    },
    {
      "cell_type": "code",
      "source": [
        "print(array.shape)\n",
        "array"
      ],
      "metadata": {
        "colab": {
          "base_uri": "https://localhost:8080/"
        },
        "id": "uQhLr2y3f7vh",
        "outputId": "8f29adb0-2fe5-4f24-816d-c41f7121ec60"
      },
      "id": "uQhLr2y3f7vh",
      "execution_count": null,
      "outputs": [
        {
          "output_type": "stream",
          "name": "stdout",
          "text": [
            "(300, 200, 3)\n"
          ]
        },
        {
          "output_type": "execute_result",
          "data": {
            "text/plain": [
              "array([[[  2,   2,   2],\n",
              "        [  2,   2,   2],\n",
              "        [  2,   2,   2],\n",
              "        ...,\n",
              "        [  0,   0,   0],\n",
              "        [  0,   0,   0],\n",
              "        [  0,   0,   0]],\n",
              "\n",
              "       [[  2,   2,   2],\n",
              "        [  2,   2,   2],\n",
              "        [  2,   2,   2],\n",
              "        ...,\n",
              "        [  0,   0,   0],\n",
              "        [  0,   0,   0],\n",
              "        [  0,   0,   0]],\n",
              "\n",
              "       [[  2,   2,   2],\n",
              "        [  2,   2,   2],\n",
              "        [  2,   2,   2],\n",
              "        ...,\n",
              "        [  0,   0,   0],\n",
              "        [  0,   0,   0],\n",
              "        [  0,   0,   0]],\n",
              "\n",
              "       ...,\n",
              "\n",
              "       [[ 88,  88,  88],\n",
              "        [110, 110, 110],\n",
              "        [143, 143, 143],\n",
              "        ...,\n",
              "        [242, 242, 242],\n",
              "        [243, 243, 243],\n",
              "        [244, 244, 244]],\n",
              "\n",
              "       [[ 79,  79,  79],\n",
              "        [ 75,  75,  75],\n",
              "        [ 87,  87,  87],\n",
              "        ...,\n",
              "        [242, 242, 242],\n",
              "        [243, 243, 243],\n",
              "        [244, 244, 244]],\n",
              "\n",
              "       [[147, 147, 147],\n",
              "        [123, 123, 123],\n",
              "        [100, 100, 100],\n",
              "        ...,\n",
              "        [242, 242, 242],\n",
              "        [243, 243, 243],\n",
              "        [244, 244, 244]]], dtype=uint8)"
            ]
          },
          "metadata": {},
          "execution_count": 55
        }
      ]
    },
    {
      "cell_type": "code",
      "source": [
        "mask = np.full(array.shape,255)\n",
        "mask"
      ],
      "metadata": {
        "colab": {
          "base_uri": "https://localhost:8080/"
        },
        "id": "O_AopGZgf-mR",
        "outputId": "f2638454-f25e-4a6b-8756-7e64db1e4abc"
      },
      "id": "O_AopGZgf-mR",
      "execution_count": null,
      "outputs": [
        {
          "output_type": "execute_result",
          "data": {
            "text/plain": [
              "array([[[255, 255, 255],\n",
              "        [255, 255, 255],\n",
              "        [255, 255, 255],\n",
              "        ...,\n",
              "        [255, 255, 255],\n",
              "        [255, 255, 255],\n",
              "        [255, 255, 255]],\n",
              "\n",
              "       [[255, 255, 255],\n",
              "        [255, 255, 255],\n",
              "        [255, 255, 255],\n",
              "        ...,\n",
              "        [255, 255, 255],\n",
              "        [255, 255, 255],\n",
              "        [255, 255, 255]],\n",
              "\n",
              "       [[255, 255, 255],\n",
              "        [255, 255, 255],\n",
              "        [255, 255, 255],\n",
              "        ...,\n",
              "        [255, 255, 255],\n",
              "        [255, 255, 255],\n",
              "        [255, 255, 255]],\n",
              "\n",
              "       ...,\n",
              "\n",
              "       [[255, 255, 255],\n",
              "        [255, 255, 255],\n",
              "        [255, 255, 255],\n",
              "        ...,\n",
              "        [255, 255, 255],\n",
              "        [255, 255, 255],\n",
              "        [255, 255, 255]],\n",
              "\n",
              "       [[255, 255, 255],\n",
              "        [255, 255, 255],\n",
              "        [255, 255, 255],\n",
              "        ...,\n",
              "        [255, 255, 255],\n",
              "        [255, 255, 255],\n",
              "        [255, 255, 255]],\n",
              "\n",
              "       [[255, 255, 255],\n",
              "        [255, 255, 255],\n",
              "        [255, 255, 255],\n",
              "        ...,\n",
              "        [255, 255, 255],\n",
              "        [255, 255, 255],\n",
              "        [255, 255, 255]]])"
            ]
          },
          "metadata": {},
          "execution_count": 56
        }
      ]
    },
    {
      "cell_type": "code",
      "source": [
        "narray = array-mask #subtrai o array da mascara\n",
        "narray=narray*-1 #inverte valores\n",
        "narray = narray.astype(np.uint8)\n",
        "narray"
      ],
      "metadata": {
        "colab": {
          "base_uri": "https://localhost:8080/"
        },
        "id": "cfxWI5q6gN1g",
        "outputId": "8abf65ab-3da0-4dbf-ca8e-b21bb92427ec"
      },
      "id": "cfxWI5q6gN1g",
      "execution_count": null,
      "outputs": [
        {
          "output_type": "execute_result",
          "data": {
            "text/plain": [
              "array([[[253, 253, 253],\n",
              "        [253, 253, 253],\n",
              "        [253, 253, 253],\n",
              "        ...,\n",
              "        [255, 255, 255],\n",
              "        [255, 255, 255],\n",
              "        [255, 255, 255]],\n",
              "\n",
              "       [[253, 253, 253],\n",
              "        [253, 253, 253],\n",
              "        [253, 253, 253],\n",
              "        ...,\n",
              "        [255, 255, 255],\n",
              "        [255, 255, 255],\n",
              "        [255, 255, 255]],\n",
              "\n",
              "       [[253, 253, 253],\n",
              "        [253, 253, 253],\n",
              "        [253, 253, 253],\n",
              "        ...,\n",
              "        [255, 255, 255],\n",
              "        [255, 255, 255],\n",
              "        [255, 255, 255]],\n",
              "\n",
              "       ...,\n",
              "\n",
              "       [[167, 167, 167],\n",
              "        [145, 145, 145],\n",
              "        [112, 112, 112],\n",
              "        ...,\n",
              "        [ 13,  13,  13],\n",
              "        [ 12,  12,  12],\n",
              "        [ 11,  11,  11]],\n",
              "\n",
              "       [[176, 176, 176],\n",
              "        [180, 180, 180],\n",
              "        [168, 168, 168],\n",
              "        ...,\n",
              "        [ 13,  13,  13],\n",
              "        [ 12,  12,  12],\n",
              "        [ 11,  11,  11]],\n",
              "\n",
              "       [[108, 108, 108],\n",
              "        [132, 132, 132],\n",
              "        [155, 155, 155],\n",
              "        ...,\n",
              "        [ 13,  13,  13],\n",
              "        [ 12,  12,  12],\n",
              "        [ 11,  11,  11]]], dtype=uint8)"
            ]
          },
          "metadata": {},
          "execution_count": 57
        }
      ]
    },
    {
      "cell_type": "code",
      "source": [
        "display(Image.fromarray(narray))"
      ],
      "metadata": {
        "colab": {
          "base_uri": "https://localhost:8080/",
          "height": 317
        },
        "id": "JA1OUOv_iR63",
        "outputId": "8ac942db-a48f-4e45-b4c3-dd9b89da0d6b"
      },
      "id": "JA1OUOv_iR63",
      "execution_count": null,
      "outputs": [
        {
          "output_type": "display_data",
          "data": {
            "text/plain": [
              "<PIL.Image.Image image mode=RGB size=200x300 at 0x7FCD5DF810F0>"
            ],
            "image/png": "[encoded data removed]"
          },
          "metadata": {}
        }
      ]
    }
  ],
  "metadata": {
    "kernelspec": {
      "display_name": "Python 3",
      "language": "python",
      "name": "python3"
    },
    "language_info": {
      "codemirror_mode": {
        "name": "ipython",
        "version": 3
      },
      "file_extension": ".py",
      "mimetype": "text/x-python",
      "name": "python",
      "nbconvert_exporter": "python",
      "pygments_lexer": "ipython3",
      "version": "3.8.8"
    },
    "colab": {
      "provenance": [],
      "collapsed_sections": [
        "EMlvtYspTHLp",
        "21e47df8"
      ],
      "include_colab_link": true
    }
  },
  "nbformat": 4,
  "nbformat_minor": 5
}