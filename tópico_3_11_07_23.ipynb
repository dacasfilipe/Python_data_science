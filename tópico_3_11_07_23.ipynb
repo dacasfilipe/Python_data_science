{
  "nbformat": 4,
  "nbformat_minor": 0,
  "metadata": {
    "colab": {
      "provenance": [],
      "authorship_tag": "ABX9TyNPXa8eTb+DAKCZExWOpWIt",
      "include_colab_link": true
    },
    "kernelspec": {
      "name": "python3",
      "display_name": "Python 3"
    },
    "language_info": {
      "name": "python"
    }
  },
  "cells": [
    {
      "cell_type": "markdown",
      "metadata": {
        "id": "view-in-github",
        "colab_type": "text"
      },
      "source": [
        "<a href=\"https://colab.research.google.com/github/dacasfilipe/Python_data_science/blob/main/t%C3%B3pico_3_11_07_23.ipynb\" target=\"_parent\"><img src=\"https://colab.research.google.com/assets/colab-badge.svg\" alt=\"Open In Colab\"/></a>"
      ]
    },
    {
      "cell_type": "code",
      "execution_count": 28,
      "metadata": {
        "id": "IRPEjL2eFeBk",
        "outputId": "86bf2d2a-f646-4a36-ad67-29b251441819",
        "colab": {
          "base_uri": "https://localhost:8080/"
        }
      },
      "outputs": [
        {
          "output_type": "stream",
          "name": "stdout",
          "text": [
            "[2, 2, 1, 6, 6, 2, 4, 3, 4, 5]\n",
            "a média: 3.5\n",
            "Quantidade de valores acima da média: 5\n",
            "Quantidade de valores abaixo da média: 5\n",
            "O maior número é 6 e o menor número é 1\n"
          ]
        }
      ],
      "source": [
        "import random\n",
        "\n",
        "valores_acima_media = 0\n",
        "valores_abaixo_media = 0\n",
        "\n",
        "def lanca_dados():\n",
        "    return [random.randint(1,6) for _ in range(10)]\n",
        "\n",
        "def calcula_media(numeros_aleatorios):\n",
        "    soma = sum(numeros_aleatorios)\n",
        "    media_resultado = soma / len(numeros_aleatorios)\n",
        "    return media_resultado\n",
        "\n",
        "def verifica_valores(numeros_aleatorios, media):\n",
        "    global valores_acima_media\n",
        "    global valores_abaixo_media\n",
        "\n",
        "    for valor in numeros_aleatorios:\n",
        "        if valor > media:\n",
        "            valores_acima_media += 1\n",
        "        elif valor < media:\n",
        "            valores_abaixo_media += 1\n",
        "        else:\n",
        "            pass\n",
        "\n",
        "def maior_menor(lista):\n",
        "    maior_valor = max(lista)\n",
        "    menor_valor = min(lista)\n",
        "    return maior_valor, menor_valor\n",
        "\n",
        "numeros_aleatorios = lanca_dados()\n",
        "\n",
        "print(numeros_aleatorios)\n",
        "media = calcula_media(numeros_aleatorios)\n",
        "print(\"a média: \" + str(media))\n",
        "verifica_valores(numeros_aleatorios, media)\n",
        "print(f\"Quantidade de valores acima da média: {valores_acima_media}\")\n",
        "print(f\"Quantidade de valores abaixo da média: {valores_abaixo_media}\")\n",
        "maior, menor = maior_menor(numeros_aleatorios)\n",
        "print(f\"O maior número é {maior} e o menor número é {menor}\")\n"
      ]
    },
    {
      "cell_type": "code",
      "source": [
        "dicionario = {}\n",
        "vitorias_avai=0\n",
        "vitorias_figueirense=0\n",
        "empates=0\n",
        "gols_avai=0\n",
        "gols_figueirense=0\n",
        "dicionario[\"jogo1\"] = input(\"Digite o resultado do jogo 1 (Avaí x Figueirense):\")\n",
        "dicionario[\"jogo2\"] = input(\"Digite o resultado do jogo 2 (Avaí x Figueirense):\")\n",
        "dicionario[\"jogo3\"] = input(\"Digite o resultado do jogo 3 (Avaí x Figueirense):\")\n",
        "dicionario[\"jogo4\"] = input(\"Digite o resultado do jogo 4 (Avaí x Figueirense):\")\n",
        "dicionario[\"jogo5\"] = input(\"Digite o resultado do jogo 5 (Avaí x Figueirense):\")\n",
        "print(dicionario)\n",
        "\n",
        "lista_jogos = dicionario.keys()\n",
        "print(lista_jogos)\n",
        "lista_resultados = dicionario.values()\n",
        "print(lista_resultados)\n",
        "\n",
        "for chave, valor in dicionario.items():\n",
        "    valor_dividido = valor.split('x') # divide a string '1x1' em uma lista: ['1', '1']\n",
        "    avai = valor_dividido[0] # pega o primeiro item da lista\n",
        "    gols_avai+=int(avai)\n",
        "    figueirense = valor_dividido[1] #pega o segundo item da lista\n",
        "    gols_figueirense+=int(figueirense)\n",
        "    #quantidade de vitórias do avaí\n",
        "    if avai > figueirense:\n",
        "      vitorias_avai+=1\n",
        "    #quantidade2 de vitórias do figueirense\n",
        "    if figueirense > avai:\n",
        "      vitorias_figueirense+=1\n",
        "    #quantidade de empates\n",
        "    if avai==figueirense:\n",
        "      empates+=1\n",
        "saldo_avai = gols_avai - gols_figueirense\n",
        "saldo_figueirense = gols_figueirense - gols_avai\n",
        "print(f\"Vitórias avai {vitorias_avai}\")\n",
        "print(f\"Vitórias figueirense {vitorias_figueirense}\")\n",
        "print(f\"empates {empates}\")\n",
        "print(f\"Saldo de gols Avaí: {saldo_avai}\")\n",
        "print(f\"Saldo de gols Figueirense: {saldo_figueirense}\")\n",
        "\n",
        "\n"
      ],
      "metadata": {
        "id": "yllvqlBvdDYV",
        "outputId": "6372fca4-5392-4ce4-bff1-fb185aa29c3d",
        "colab": {
          "base_uri": "https://localhost:8080/"
        }
      },
      "execution_count": 24,
      "outputs": [
        {
          "output_type": "stream",
          "name": "stdout",
          "text": [
            "Digite o resultado do jogo 1 (Avaí x Figueirense):1x1\n",
            "Digite o resultado do jogo 2 (Avaí x Figueirense):2x2\n",
            "Digite o resultado do jogo 3 (Avaí x Figueirense):2x1\n",
            "Digite o resultado do jogo 4 (Avaí x Figueirense):2x1\n",
            "Digite o resultado do jogo 5 (Avaí x Figueirense):1x2\n",
            "{'jogo1': '1x1', 'jogo2': '2x2', 'jogo3': '2x1', 'jogo4': '2x1', 'jogo5': '1x2'}\n",
            "dict_keys(['jogo1', 'jogo2', 'jogo3', 'jogo4', 'jogo5'])\n",
            "dict_values(['1x1', '2x2', '2x1', '2x1', '1x2'])\n",
            "Vitórias avai 2\n",
            "Vitórias figueirense 1\n",
            "empates 2\n",
            "Saldo de gols Avaí: 1\n",
            "Saldo de gols Figueirense: -1\n"
          ]
        }
      ]
    },
    {
      "cell_type": "markdown",
      "source": [
        "Tópico 3 - Manipulação de dados - 11/07/23\n",
        "\n",
        "\n",
        "\n",
        "*   Arquivos e E/S\n",
        "*   Manipulação de Strings\n",
        "*   Tipos de dados temporais\n",
        "\n",
        "\n",
        "\n",
        "\n",
        "\n"
      ],
      "metadata": {
        "id": "mAcyZDpsFe0N"
      }
    }
  ]
}