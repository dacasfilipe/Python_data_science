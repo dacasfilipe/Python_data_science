{
  "nbformat": 4,
  "nbformat_minor": 0,
  "metadata": {
    "colab": {
      "provenance": [],
      "include_colab_link": true
    },
    "kernelspec": {
      "name": "python3",
      "display_name": "Python 3"
    },
    "language_info": {
      "name": "python"
    }
  },
  "cells": [
    {
      "cell_type": "markdown",
      "metadata": {
        "id": "view-in-github",
        "colab_type": "text"
      },
      "source": [
        "<a href=\"https://colab.research.google.com/github/dacasfilipe/Python_data_science/blob/main/Exercicios_Fixacao_Topico2_Filipe.ipynb\" target=\"_parent\"><img src=\"https://colab.research.google.com/assets/colab-badge.svg\" alt=\"Open In Colab\"/></a>"
      ]
    },
    {
      "cell_type": "markdown",
      "source": [
        "# Exercícios de Fixação"
      ],
      "metadata": {
        "id": "LtbwaNNU-FeR"
      }
    },
    {
      "cell_type": "markdown",
      "source": [
        "<h1> Exercício 1 - Listas </h1>\n",
        "Utilizando listas (para armazenar e posteriormente ler os dados), elaborar um algoritmo para obter do usuário um conjunto de 10 números e posteriormente informar:\n",
        "\n",
        "\n",
        "*  Quantos números são iguais a 10.\n",
        "*  Quantos números são maiores do que a média.\n",
        "*  Quantos números são iguais a média.\n",
        "\n",
        "\n"
      ],
      "metadata": {
        "id": "sMZyhszlMhcK"
      }
    },
    {
      "cell_type": "code",
      "source": [
        "numeros = []\n",
        "soma = 0\n",
        "conta10=0\n",
        "contaMedia=0\n",
        "contaMaiorMedia=0\n",
        "\n",
        "for i in range(10):\n",
        "    numeros.append(float(input('Digite o número (' + str(i+1) + ' de 10):')))\n",
        "    soma += numeros[i] #soma números\n",
        "\n",
        "media = soma/len(numeros) #Calcula média\n",
        "\n",
        "for i in range(len(numeros)):\n",
        "    if numeros[i]==10: conta10+=1\n",
        "    if numeros[i]==media: contaMedia+=1\n",
        "    if numeros[i]>media: contaMaiorMedia+=1\n",
        "\n",
        "print(f'a média é: {media}')\n",
        "print('Quantidade de números iguais a 10:' + str(conta10))\n",
        "print('Quantidade de números maiores que a média:' + str(contaMaiorMedia))\n",
        "print('Quantidade de números iguais a média:' + str(contaMedia))"
      ],
      "metadata": {
        "id": "sPDtdp7ROcN_",
        "colab": {
          "base_uri": "https://localhost:8080/"
        },
        "outputId": "a205d4c2-042b-4187-e76f-8f0c2daaf292"
      },
      "execution_count": 3,
      "outputs": [
        {
          "output_type": "stream",
          "name": "stdout",
          "text": [
            "Digite o número (1 de 10):5\n",
            "Digite o número (2 de 10):5\n",
            "Digite o número (3 de 10):5\n",
            "Digite o número (4 de 10):5\n",
            "Digite o número (5 de 10):5\n",
            "Digite o número (6 de 10):10\n",
            "Digite o número (7 de 10):10\n",
            "Digite o número (8 de 10):10\n",
            "Digite o número (9 de 10):10\n",
            "Digite o número (10 de 10):10\n",
            "a média é: 7.5\n",
            "Quantidade de números iguais a 10:5\n",
            "Quantidade de números maiores que a média:5\n",
            "Quantidade de números iguais a média:0\n"
          ]
        }
      ]
    },
    {
      "cell_type": "markdown",
      "source": [
        "<h1> Exercício 2 - Dicionários </h1>\n",
        "\n",
        "Por meio da utilização de dicionários crie um algoritmo que obtenha do usuário temperatura média de cada mês do ano, em graus Celsius.\n",
        "\n",
        "Para isto armazene essas temperaturas utilizando chaves relativas a cada um dos meses do ano.\n",
        "\n",
        "Além disso, mostre na tela as temperaturas de todos os meses, a maior e a menor temperatura do ano e em que mês aconteceram.\n"
      ],
      "metadata": {
        "id": "FW9VrI1IQEBX"
      }
    },
    {
      "cell_type": "code",
      "source": [
        "# ********** Escreva seu código aqui **********\n",
        "dic_temp = {} #Cria dicionário vazio\n",
        "meses = ['Janeiro', 'Fevereiro', 'Março', 'Abril', 'Maio', 'Junho', 'Julho', 'Agosto', 'Setembro', 'Outubro', 'Novembro', 'Dezembro']\n",
        "\n",
        "\n",
        "for mes in meses:\n",
        "    temperatura = float(input(f\"Digite a temperatura média de {mes}: \"))\n",
        "    dic_temp[mes] = temperatura\n",
        "\n",
        "print(dic_temp)\n",
        "maior_temperatura = -999\n",
        "menor_temperatura = 999\n",
        "mes_maior_temperatura = ''\n",
        "mes_menor_temperatura = ''\n",
        "\n",
        "for mes, temperatura in dic_temp.items():\n",
        "    if temperatura > maior_temperatura:\n",
        "        maior_temperatura = temperatura\n",
        "        mes_maior_temperatura = mes\n",
        "    if temperatura < menor_temperatura:\n",
        "        menor_temperatura = temperatura\n",
        "        mes_menor_temperatura = mes\n",
        "\n",
        "print(\"\\nTemperaturas média dos meses:\")\n",
        "for mes, temperatura in dic_temp.items():\n",
        "    print(f\"{mes}: {temperatura} graus Celsius\")\n",
        "\n",
        "print('\\nMaior temperatura:' + f'{mes_maior_temperatura}: {maior_temperatura} graus Celsius')\n",
        "print('\\nMenor temperatura:'+ f'{mes_menor_temperatura}: {menor_temperatura}  graus Celsius')"
      ],
      "metadata": {
        "id": "YAYIwJKXQj0B",
        "colab": {
          "base_uri": "https://localhost:8080/"
        },
        "outputId": "611ebcc2-5e97-453b-8e0c-eae4806115bf"
      },
      "execution_count": null,
      "outputs": [
        {
          "output_type": "stream",
          "name": "stdout",
          "text": [
            "Digite a temperatura média de Janeiro: 10\n",
            "Digite a temperatura média de Fevereiro: 30\n",
            "Digite a temperatura média de Março: 25\n",
            "Digite a temperatura média de Abril: 18\n",
            "Digite a temperatura média de Maio: 23\n",
            "Digite a temperatura média de Junho: 10\n",
            "Digite a temperatura média de Julho: 7\n",
            "Digite a temperatura média de Agosto: 9\n",
            "Digite a temperatura média de Setembro: -2\n",
            "Digite a temperatura média de Outubro: 10\n",
            "Digite a temperatura média de Novembro: 15\n",
            "Digite a temperatura média de Dezembro: 20\n",
            "{'Janeiro': 10.0, 'Fevereiro': 30.0, 'Março': 25.0, 'Abril': 18.0, 'Maio': 23.0, 'Junho': 10.0, 'Julho': 7.0, 'Agosto': 9.0, 'Setembro': -2.0, 'Outubro': 10.0, 'Novembro': 15.0, 'Dezembro': 20.0}\n",
            "\n",
            "Temperaturas média dos meses:\n",
            "Janeiro: 10.0 graus Celsius\n",
            "Fevereiro: 30.0 graus Celsius\n",
            "Março: 25.0 graus Celsius\n",
            "Abril: 18.0 graus Celsius\n",
            "Maio: 23.0 graus Celsius\n",
            "Junho: 10.0 graus Celsius\n",
            "Julho: 7.0 graus Celsius\n",
            "Agosto: 9.0 graus Celsius\n",
            "Setembro: -2.0 graus Celsius\n",
            "Outubro: 10.0 graus Celsius\n",
            "Novembro: 15.0 graus Celsius\n",
            "Dezembro: 20.0 graus Celsius\n",
            "\n",
            "Maior temperatura:Fevereiro: 30.0 graus Celsius\n",
            "\n",
            "Menor temperatura:Setembro: -2.0  graus Celsius\n"
          ]
        }
      ]
    },
    {
      "cell_type": "markdown",
      "source": [
        "<h1> Exercício 3 - Questionário </h1>\n",
        "\n",
        "Crie a lógica de uma aplicação que contenha uma listagem de cinco questões de múltipla escolha relacionadas a ciência de dados.\n",
        "\n",
        "Cada questão contém três opções de resposta. Crie também uma listagem paralela que contenha a resposta correta para cada questão - A, B ou C. Apresente cada questão e verifique se o usuário entrou somente A, B, ou C como resposta - caso contrário, continue solicitando ao usuário até que uma resposta válida seja inserida.\n",
        "\n",
        "Se o usuário responder a uma questão corretamente, apresente \"Correto!\", caso contrário, apresente \"A resposta correta é:\" e a letra da resposta correta. Depois que o usuário responder todas as questões, apresente o número de respostas corretas e incorretas. Fique a vontada para utilizar a estrutura de dados que for mais adequada para a resolução do problema."
      ],
      "metadata": {
        "id": "HHrT79rZRMN9"
      }
    },
    {
      "cell_type": "code",
      "source": [
        "# ********** Escreva seu código aqui **********\n",
        "questoes=[\n",
        "    \"Qual dessas linguagens possui ampla utilização em ciência de dados\\na)Python\\nb)Fortran\\nc)Assembly?\",\n",
        "    \"Como é conhecido o processo de manipulação de dados?\\na)ETL\\nb)Data Wrangling\\nc)Feature Engineering?\",\n",
        "    \"Em ciência de dados, as variáveis podem ser definidas como?\\na)Discretas e Contínuas\\nb)Amplas e Restritas\\nc)Analógicas e Digitais\",\n",
        "    \"Em ciência de dados, as variáveis também são conhecidas como?\\na)Colunas\\nb)Linhas\\nc)Atributos\",\n",
        "    \"Na expressão y = ax + b, 'y' é conhecida como?\\na) Variável independente\\nb) Variável dependente\\nc) Constante\"]\n",
        "\n",
        "respostas_corretas = ['A', 'B', 'A', 'C', 'B']\n",
        "respostasUsuario = []\n",
        "resultados = []\n",
        "corretas = 0\n",
        "incorretas = 0\n",
        "questao = ''\n",
        "\n",
        "for i in range (5):\n",
        "    resposta = ''\n",
        "    questao = questoes[i]\n",
        "    resposta = input(f'\\n{questao}\\nResposta (A, B ou C):')\n",
        "    respostasUsuario.append(resposta.upper())\n",
        "    if resposta.upper() == respostas_corretas[i]:\n",
        "        corretas +=1\n",
        "        print('Sua resposta está correta!')\n",
        "    else:\n",
        "        incorretas +=1\n",
        "        print(f\"A resposta correta é: {respostas_corretas[i]}\")\n",
        "\n",
        "print(f\"\\nTotal de respostas corretas: {corretas}\")\n",
        "print(f\"Total de respostas incorretas: {incorretas}\")"
      ],
      "metadata": {
        "id": "gZ-XT12zRkt8",
        "colab": {
          "base_uri": "https://localhost:8080/"
        },
        "outputId": "8893b98e-ed79-42f5-afa8-8b7c4066ec87"
      },
      "execution_count": null,
      "outputs": [
        {
          "output_type": "stream",
          "name": "stdout",
          "text": [
            "\n",
            "Qual dessas linguagens possui ampla utilização em ciência de dados\n",
            "a)Python\n",
            "b)Fortran\n",
            "c)Assembly?\n",
            "Resposta (A, B ou C):c\n",
            "A resposta correta é: A\n",
            "\n",
            "Como é conhecido o processo de manipulação de dados?\n",
            "a)ETL\n",
            "b)Data Wrangling\n",
            "c)Feature Engineering?\n",
            "Resposta (A, B ou C):c\n",
            "A resposta correta é: B\n",
            "\n",
            "Em ciência de dados, as variáveis podem ser definidas como?\n",
            "a)Discretas e Contínuas\n",
            "b)Amplas e Restritas\n",
            "c)Analógicas e Digitais\n",
            "Resposta (A, B ou C):d\n",
            "A resposta correta é: A\n",
            "\n",
            "Em ciência de dados, as variáveis também são conhecidas como?\n",
            "a)Colunas\n",
            "b)Linhas\n",
            "c)Atributos\n",
            "Resposta (A, B ou C):d\n",
            "A resposta correta é: C\n",
            "\n",
            "Na expressão y = ax + b, 'y' é conhecida como?\n",
            "a) Variável independente\n",
            "b) Variável dependente\n",
            "c) Constante\n",
            "Resposta (A, B ou C):a\n",
            "A resposta correta é: B\n",
            "\n",
            "Total de respostas corretas: 0\n",
            "Total de respostas incorretas: 5\n"
          ]
        }
      ]
    },
    {
      "cell_type": "markdown",
      "source": [
        "<h1> Exercício 4 - Jogo de Dados </h1>\n",
        "\n",
        "Crie a lógica para um jogo de dados. A aplicação \"lança\" aleatoriamente cinco dados para o computador e cinco dados para o jogador. Conforme cada \"lançamento\" aleatório é feito, armazene-o em uma estrutura de dados. A aplicação apresenta todos os valores, de 1 a 6, para cada dado. Decida o vencedor com base na seguinte hierarquia de valores de dados. Qualquer combinação mais alta ganha de uma mais baixa - Por exemplo, qualquer quina ganha de uma quadra.\n",
        "\n",
        "Seguem as combinações por ordem de prioridade:\n",
        "\n",
        "\n",
        "\n",
        "*   Uma quina.\n",
        "*   Uma quadra.\n",
        "*   Uma trinca.\n",
        "*   Um par.\n",
        "\n",
        "\n",
        "Para esse jogo, os valores numéricos dos dados não contam. Por exemplo, se ambos os jogadores tiraram três de um tipo, é um empate, independente de quais forem os valores dos dados. Além disso, o jogo não reconhece um full house (uma trinca e um par).\n",
        "\n",
        "O exemplo abaixo mostra um dos possível resultados da execução do programa:\n",
        "\n",
        "\n",
        "\n",
        "```\n",
        "Jogada do Computador: 5 2 6 4 2\n",
        "Sua Jogada: 1 1 1 2 3\n",
        "O computador tem um par.\n",
        "Você tem uma trinca.\n",
        "Você Ganhou!!\n",
        "```\n",
        "\n"
      ],
      "metadata": {
        "id": "UK2m_G0uRteD"
      }
    },
    {
      "cell_type": "code",
      "source": [
        "import random\n",
        "\n",
        "\n",
        "comb = {\n",
        "        \"uma quina\": 5,\n",
        "        \"uma quadra\": 4,\n",
        "        \"uma trinca\": 3,\n",
        "        \"um par\": 2\n",
        "    }\n",
        "\n",
        "def lanca_dados():\n",
        "    return [random.randint(1, 6) for _ in range(5)]\n",
        "\n",
        "def verificaCombinacao(dados):\n",
        "    combinacoes = {\n",
        "        5: \"uma quina\",\n",
        "        4: \"uma quadra\",\n",
        "        3: \"uma trinca\",\n",
        "        2: \"um par\"\n",
        "    }\n",
        "\n",
        "    ocorrencias = {}\n",
        "    for dado in dados:\n",
        "        ocorrencias[dado] = ocorrencias.get(dado, 0) + 1\n",
        "\n",
        "    for quantidade, combinacao in combinacoes.items():\n",
        "        if quantidade in ocorrencias.values():\n",
        "            return combinacao\n",
        "\n",
        "    return 'nenhuma combinação'\n",
        "\n",
        "dados_computador = lanca_dados()\n",
        "dados_jogador = lanca_dados()\n",
        "combinacao_computador = verificaCombinacao(dados_computador)\n",
        "combinacao_jogador = verificaCombinacao(dados_jogador)\n",
        "\n",
        "print('Jogada do Computador:', dados_computador)\n",
        "print('Sua Jogada:', dados_computador)\n",
        "print('O computador tem:', combinacao_computador + '.')\n",
        "print('Você tem:', combinacao_jogador + '.')\n",
        "\n",
        "if combinacao_jogador == \"nenhuma combinação\" and combinacao_computador == \"nenhuma combinação\":\n",
        "    print(\"Empate!\")\n",
        "elif combinacao_jogador == \"nenhuma combinação\":\n",
        "    print(\"Você perdeu!\")\n",
        "elif combinacao_computador == \"nenhuma combinação\":\n",
        "    print(\"Você ganhou!\")\n",
        "elif comb[combinacao_jogador] == comb[combinacao_computador]:\n",
        "    print(\"Empate!\")\n",
        "elif comb[combinacao_jogador] > comb[combinacao_computador]:\n",
        "    print(\"Você ganhou!\")\n",
        "else:\n",
        "    print(\"Você perdeu!\")"
      ],
      "metadata": {
        "id": "0EFxSm88ShFf",
        "colab": {
          "base_uri": "https://localhost:8080/"
        },
        "outputId": "729d7753-0cb2-4193-f786-68504f7c1148"
      },
      "execution_count": null,
      "outputs": [
        {
          "output_type": "stream",
          "name": "stdout",
          "text": [
            "Jogada do Computador: [5, 2, 1, 2, 3]\n",
            "Sua Jogada: [5, 2, 1, 2, 3]\n",
            "O computador tem: um par.\n",
            "Você tem: um par.\n",
            "Empate!\n"
          ]
        }
      ]
    },
    {
      "cell_type": "markdown",
      "source": [
        "<h1> Exercício 5  - Tabuada </h1>\n",
        "\n",
        "Utilizando comprehensions crie uma função que gere a tabuada para um número informado como argumento."
      ],
      "metadata": {
        "id": "gGZpy7OTSysy"
      }
    },
    {
      "cell_type": "code",
      "source": [
        "def geraTabuada(numero):\n",
        "    tabuada = [f\"{numero} x {i} = {numero*i}\" for i in range(1, 11)]\n",
        "    return tabuada\n",
        "\n",
        "numero = int(input('Digite um número:'))\n",
        "tabuada = geraTabuada(numero)\n",
        "for linha in tabuada:\n",
        "    print(linha)"
      ],
      "metadata": {
        "id": "51A6GMLuTF_G",
        "colab": {
          "base_uri": "https://localhost:8080/"
        },
        "outputId": "cf2b8376-021a-4bf5-b112-e060fdd00984"
      },
      "execution_count": null,
      "outputs": [
        {
          "output_type": "stream",
          "name": "stdout",
          "text": [
            "Digite um número:5\n",
            "5 x 1 = 5\n",
            "5 x 2 = 10\n",
            "5 x 3 = 15\n",
            "5 x 4 = 20\n",
            "5 x 5 = 25\n",
            "5 x 6 = 30\n",
            "5 x 7 = 35\n",
            "5 x 8 = 40\n",
            "5 x 9 = 45\n",
            "5 x 10 = 50\n"
          ]
        }
      ]
    }
  ]
}