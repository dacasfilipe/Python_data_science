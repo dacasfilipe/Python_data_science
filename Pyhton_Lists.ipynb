{
  "nbformat": 4,
  "nbformat_minor": 0,
  "metadata": {
    "colab": {
      "provenance": [],
      "authorship_tag": "ABX9TyNZlOJBZ3JOYTlsX/1hPg5d",
      "include_colab_link": true
    },
    "kernelspec": {
      "name": "python3",
      "display_name": "Python 3"
    },
    "language_info": {
      "name": "python"
    }
  },
  "cells": [
    {
      "cell_type": "markdown",
      "metadata": {
        "id": "view-in-github",
        "colab_type": "text"
      },
      "source": [
        "<a href=\"https://colab.research.google.com/github/dacasfilipe/Python_data_science/blob/main/Pyhton_Lists.ipynb\" target=\"_parent\"><img src=\"https://colab.research.google.com/assets/colab-badge.svg\" alt=\"Open In Colab\"/></a>"
      ]
    },
    {
      "cell_type": "code",
      "execution_count": 1,
      "metadata": {
        "colab": {
          "base_uri": "https://localhost:8080/"
        },
        "id": "6bY8lz99Cruh",
        "outputId": "c46c9b9a-f85c-43a5-ee86-d31bb536764a"
      },
      "outputs": [
        {
          "output_type": "stream",
          "name": "stdout",
          "text": [
            "10\n",
            "30\n"
          ]
        }
      ],
      "source": [
        "#Working for Lists\n",
        "preco_1 = 10\n",
        "preco_2 = 20\n",
        "preco_3 = 30\n",
        "\n",
        "#Lists\n",
        "precos = [10,20,30]\n",
        "#          0  1  2\n",
        "print(precos[0]) #ïndice\n",
        "print(precos[precos.index(30)])"
      ]
    }
  ]
}