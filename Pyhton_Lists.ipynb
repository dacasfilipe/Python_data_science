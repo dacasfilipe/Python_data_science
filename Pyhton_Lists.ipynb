{
  "nbformat": 4,
  "nbformat_minor": 0,
  "metadata": {
    "colab": {
      "provenance": [],
      "authorship_tag": "ABX9TyM3ZbdNkPhVkz3Aq9EVKpjI",
      "include_colab_link": true
    },
    "kernelspec": {
      "name": "python3",
      "display_name": "Python 3"
    },
    "language_info": {
      "name": "python"
    }
  },
  "cells": [
    {
      "cell_type": "markdown",
      "metadata": {
        "id": "view-in-github",
        "colab_type": "text"
      },
      "source": [
        "<a href=\"https://colab.research.google.com/github/dacasfilipe/Python_data_science/blob/main/Pyhton_Lists.ipynb\" target=\"_parent\"><img src=\"https://colab.research.google.com/assets/colab-badge.svg\" alt=\"Open In Colab\"/></a>"
      ]
    },
    {
      "cell_type": "code",
      "execution_count": null,
      "metadata": {
        "colab": {
          "base_uri": "https://localhost:8080/"
        },
        "id": "6bY8lz99Cruh",
        "outputId": "c46c9b9a-f85c-43a5-ee86-d31bb536764a"
      },
      "outputs": [
        {
          "output_type": "stream",
          "name": "stdout",
          "text": [
            "10\n",
            "30\n"
          ]
        }
      ],
      "source": [
        "#Working for Lists\n",
        "preco_1 = 10\n",
        "preco_2 = 20\n",
        "preco_3 = 30\n",
        "\n",
        "#Lists\n",
        "precos = [10,20,30]\n",
        "#          0  1  2\n",
        "print(precos[0]) #ïndice\n",
        "print(precos[precos.index(30)])"
      ]
    },
    {
      "cell_type": "code",
      "source": [
        "#Listas no Python são dinâmicas e aceitam qualquer valor\n",
        "itens = [1,3,6, 'Olá','Café',True, 10.6]\n",
        "print(itens[4])\n"
      ],
      "metadata": {
        "colab": {
          "base_uri": "https://localhost:8080/"
        },
        "id": "G9GQ9gyoyuX8",
        "outputId": "8d539dbe-b41d-449d-b937-9b95f1fdd4d0"
      },
      "execution_count": null,
      "outputs": [
        {
          "output_type": "stream",
          "name": "stdout",
          "text": [
            "Café\n"
          ]
        }
      ]
    },
    {
      "cell_type": "code",
      "source": [
        "#Maneiras diferentes de gerar uma lista\n",
        "#Multiplicação de valores(repetição)\n",
        "lista_de_noves = [9] * 10\n",
        "lista_de_testes = ['teste'] * 10\n",
        "print(lista_de_noves)\n",
        "print(lista_de_testes)\n"
      ],
      "metadata": {
        "colab": {
          "base_uri": "https://localhost:8080/"
        },
        "id": "Od93Sd2554tM",
        "outputId": "927ca3fd-c3e7-440c-b376-5531d4d44b2a"
      },
      "execution_count": null,
      "outputs": [
        {
          "output_type": "stream",
          "name": "stdout",
          "text": [
            "[9, 9, 9, 9, 9, 9, 9, 9, 9, 9]\n",
            "['teste', 'teste', 'teste', 'teste', 'teste', 'teste', 'teste', 'teste', 'teste', 'teste']\n"
          ]
        }
      ]
    },
    {
      "cell_type": "code",
      "source": [
        "#Usando gerador Range(Sequência)\n",
        "# 1 até 29\n",
        "faixa_de_numeros = list(range(30))\n",
        "print(faixa_de_numeros)"
      ],
      "metadata": {
        "colab": {
          "base_uri": "https://localhost:8080/"
        },
        "id": "HrpAabOE6Ypo",
        "outputId": "93ae025f-c15c-4339-e8be-17f2f49e5a56"
      },
      "execution_count": null,
      "outputs": [
        {
          "output_type": "stream",
          "name": "stdout",
          "text": [
            "[0, 1, 2, 3, 4, 5, 6, 7, 8, 9, 10, 11, 12, 13, 14, 15, 16, 17, 18, 19, 20, 21, 22, 23, 24, 25, 26, 27, 28, 29]\n"
          ]
        }
      ]
    },
    {
      "cell_type": "code",
      "source": [
        "#Gerar a partir de strings\n",
        "print(list('Bem vindo ao Treinamento.'))\n",
        "#Lista de Lista (matriz)\n",
        "matriz_de_nomes = [['Carol',30],['Marcus',50]]\n",
        "print(matriz_de_nomes[0])\n",
        "print(matriz_de_nomes[0][0])\n",
        "print(matriz_de_nomes[1][0])"
      ],
      "metadata": {
        "colab": {
          "base_uri": "https://localhost:8080/"
        },
        "id": "WUXuYNSjk7Cd",
        "outputId": "ec5b0324-3f5a-4e00-80da-542bc5d4717e"
      },
      "execution_count": 1,
      "outputs": [
        {
          "output_type": "stream",
          "name": "stdout",
          "text": [
            "['B', 'e', 'm', ' ', 'v', 'i', 'n', 'd', 'o', ' ', 'a', 'o', ' ', 'T', 'r', 'e', 'i', 'n', 'a', 'm', 'e', 'n', 't', 'o', '.']\n",
            "['Carol', 30]\n",
            "Carol\n",
            "Marcus\n"
          ]
        }
      ]
    },
    {
      "cell_type": "code",
      "source": [
        "# DEsafio 1 - Crie uma lista qque tenha os nomes dos e objetos que você mais usa durante o dia e imprime na tela.\n",
        "objetos = ['computador','caderno','celular']\n",
        "print(objetos)\n",
        "# DEsafio 2 - Usando apenas uma linha de código, crie uma lista de 10 a 131\n",
        "lista_de_10_a_132 = list(range(0,132))\n",
        "# Desafio 3 - Imprima na tela o resultado da combinação da lista do desafio 1 e desafio 2\n",
        "print(objetos + lista_de_10_a_132)\n",
        "# DEsafio 4 - Crie uma lista de listas(matriz) que tenha os nomes dos 3 objetos que você mais usa durante o dia, mas agora dentro de cada item você vai colocar\n",
        "#uma informação extra, coloque o valor em reais desse objeto também e imprima ele na tela\n",
        "itens = [['Computador', 5000],['Caderno',40],['Celular',1600]]"
      ],
      "metadata": {
        "colab": {
          "base_uri": "https://localhost:8080/"
        },
        "id": "HJspSuP456f5",
        "outputId": "54ccde4e-ec45-4416-fcc5-07404f12a6d7"
      },
      "execution_count": 3,
      "outputs": [
        {
          "output_type": "stream",
          "name": "stdout",
          "text": [
            "['computador', 'caderno', 'celular']\n",
            "['computador', 'caderno', 'celular', 0, 1, 2, 3, 4, 5, 6, 7, 8, 9, 10, 11, 12, 13, 14, 15, 16, 17, 18, 19, 20, 21, 22, 23, 24, 25, 26, 27, 28, 29, 30, 31, 32, 33, 34, 35, 36, 37, 38, 39, 40, 41, 42, 43, 44, 45, 46, 47, 48, 49, 50, 51, 52, 53, 54, 55, 56, 57, 58, 59, 60, 61, 62, 63, 64, 65, 66, 67, 68, 69, 70, 71, 72, 73, 74, 75, 76, 77, 78, 79, 80, 81, 82, 83, 84, 85, 86, 87, 88, 89, 90, 91, 92, 93, 94, 95, 96, 97, 98, 99, 100, 101, 102, 103, 104, 105, 106, 107, 108, 109, 110, 111, 112, 113, 114, 115, 116, 117, 118, 119, 120, 121, 122, 123, 124, 125, 126, 127, 128, 129, 130, 131]\n"
          ]
        }
      ]
    }
  ]
}