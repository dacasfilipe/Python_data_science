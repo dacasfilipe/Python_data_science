{
  "nbformat": 4,
  "nbformat_minor": 0,
  "metadata": {
    "colab": {
      "provenance": [],
      "collapsed_sections": [
        "MGwUAv3gwfLh"
      ],
      "include_colab_link": true
    },
    "kernelspec": {
      "name": "python3",
      "display_name": "Python 3"
    },
    "language_info": {
      "name": "python"
    }
  },
  "cells": [
    {
      "cell_type": "markdown",
      "metadata": {
        "id": "view-in-github",
        "colab_type": "text"
      },
      "source": [
        "<a href=\"https://colab.research.google.com/github/dacasfilipe/Python_data_science/blob/main/CDIA_Topico2.ipynb\" target=\"_parent\"><img src=\"https://colab.research.google.com/assets/colab-badge.svg\" alt=\"Open In Colab\"/></a>"
      ]
    },
    {
      "cell_type": "markdown",
      "source": [
        "![unisenai.png](data:image/png;base64,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)\n",
        "<h1> Pós-Graduação em Ciência de Dados e Inteligência Artificial </h1>\n",
        "\n",
        "<h1>Unidade Curricular: Programação em Python para Ciência de Dados</h1>\n",
        "<h1>Professor: Willian Daniel de Mattos, Me.</h1>\n",
        "\n",
        "<h1><b>Tópico 2 - Estruturas de Dados </b></h1>\n",
        "\n",
        "A compreensão das principais estruturas de dados do Python é essencial para que você possa desenvolver algoritmos computacionais para resolução de problemas envolvendo análise de dados e inteligência artificial.\n",
        "\n",
        "Este tópico está dividido nos seguintes sub-tópicos:\n",
        "\n",
        "2.1 Listas (*Lists*)\n",
        "\n",
        "2.2 Tuplas (*Tuples*)\n",
        "\n",
        "2.3 Conjuntos (*Set*)\n",
        "\n",
        "2.4 Dicionários (*Dicts*)\n",
        "\n",
        "2.5 *Comprehensions*\n",
        "\n",
        "2.6 Exercícios de Fixação\n"
      ],
      "metadata": {
        "id": "uRXstRsow9gQ"
      }
    },
    {
      "cell_type": "markdown",
      "source": [
        "#2.1 Listas"
      ],
      "metadata": {
        "id": "MGwUAv3gwfLh"
      }
    },
    {
      "cell_type": "markdown",
      "source": [
        "Em Python, uma lista é uma estrutura de dados que armazena vários valores e permite acessá-los por meio de índices.\n",
        "\n",
        "Basicamente, uma lista é um conjunto de valores, também conhecidos como elementos ou itens. Esses elementos podem ser do mesmo tipo, como inteiros, ou de tipos diferentes. É também possível ter listas dentro de listas, formando uma estrutura hierárquica. O tamanho de uma lista é determinado pela quantidade de elementos que ela contém. Em outras palavras, o número de itens presentes na lista define o seu tamanho."
      ],
      "metadata": {
        "id": "zR2B31_RnIeV"
      }
    },
    {
      "cell_type": "markdown",
      "source": [
        "Existem diferente formas de se criar uma lista. A maneira mais simples é incluir os seus elementos entre colchetes `[]`.\n",
        "\n",
        "O exemplo a seguir gera listas com diferentes tipos de dados:"
      ],
      "metadata": {
        "id": "F-y2t37pbmny"
      }
    },
    {
      "cell_type": "code",
      "source": [
        "# Exemplo 1 - Listas\n",
        "lista1 = [10, 20 , 30]\n",
        "print(lista1)\n",
        "\n",
        "lista2 = ['vemelho', 'verde', 'amarelo'] # Gera uma lista com valores do tipo string\n",
        "print(lista2)\n",
        "\n",
        "lista3 = ['Vermelho', 30, 45.5] # Gera uma lista heterogênea (com valores do tipo string, int e float respectivamente)\n",
        "print(lista3)\n",
        "\n",
        "lista4 = [1,2, [30,40], 5] # Gera uma lista dentro de outra\n",
        "print(lista4)\n",
        "\n",
        "lista5 = [] # Cria lista vazia (sem nenhum elemento)\n",
        "print(lista5)"
      ],
      "metadata": {
        "id": "uG1itECPnZfl",
        "colab": {
          "base_uri": "https://localhost:8080/"
        },
        "outputId": "011dec45-4dd7-4846-8ba0-8f293ef5da84"
      },
      "execution_count": 1,
      "outputs": [
        {
          "output_type": "stream",
          "name": "stdout",
          "text": [
            "[10, 20, 30]\n",
            "['vemelho', 'verde', 'amarelo']\n",
            "['Vermelho', 30, 45.5]\n",
            "[1, 2, [30, 40], 5]\n",
            "[]\n"
          ]
        }
      ]
    },
    {
      "cell_type": "markdown",
      "source": [
        "Você pode também utilizar as funções `sum()` e `len()` para somar e contar os elementos de uma lista, conforme abaixo:"
      ],
      "metadata": {
        "id": "Vv8akVHFdLc7"
      }
    },
    {
      "cell_type": "code",
      "source": [
        "soma = sum(lista1)  # Soma os elementos da lista\n",
        "contagem = len(lista1) # Conta os elementos da lista\n",
        "print(soma)\n",
        "print(contagem)"
      ],
      "metadata": {
        "colab": {
          "base_uri": "https://localhost:8080/"
        },
        "id": "D2kv1mVLdZDE",
        "outputId": "2cae2cf0-0ad9-4e5b-c876-36b017f1c737"
      },
      "execution_count": 2,
      "outputs": [
        {
          "output_type": "stream",
          "name": "stdout",
          "text": [
            "60\n",
            "3\n"
          ]
        }
      ]
    },
    {
      "cell_type": "markdown",
      "source": [
        "As funções `max()` e `min()` também podem ser utilizadas para se obter o maior e menor valor da lista:"
      ],
      "metadata": {
        "id": "EiuporygehH4"
      }
    },
    {
      "cell_type": "code",
      "source": [
        "maximo = max(lista1)  # Obtém maior valor dentre os elementos da lista\n",
        "minimo = min(lista1) # Obtém menor valor dentre os elementos da lista\n",
        "print(maximo)\n",
        "print(minimo)"
      ],
      "metadata": {
        "colab": {
          "base_uri": "https://localhost:8080/"
        },
        "id": "JrKy0poles91",
        "outputId": "83d2137b-ed13-482a-e74f-03c6f4d42712"
      },
      "execution_count": 3,
      "outputs": [
        {
          "output_type": "stream",
          "name": "stdout",
          "text": [
            "30\n",
            "10\n"
          ]
        }
      ]
    },
    {
      "cell_type": "markdown",
      "source": [
        "Utilizando o nome da variável relacionado a lista e o seu respectivo índice, é possível ler ou alterar o conteúdo de seus elementos. O exemplo abaixo obtém os primeiros 2 valores da lista 1 e altera o valor do terceiro elemento."
      ],
      "metadata": {
        "id": "nma8SAz2Tazw"
      }
    },
    {
      "cell_type": "code",
      "source": [
        "print(lista1[0]) # Perceba que o primeiro elemento começa no índice 0 (zero)\n",
        "print(lista1[1]) # Imprime na tela o segundo elemento da lista (índice 1)\n",
        "lista1[2] = 50 # Altera o conteúdo do terceiro elemento da lista\n",
        "print(lista1) # Apresenta a lista após a alteração do terceiro elemento\n",
        "print(type(lista1)) # Perceba que a variável lista1 é um objeto do tipo 'list'"
      ],
      "metadata": {
        "colab": {
          "base_uri": "https://localhost:8080/"
        },
        "id": "aaejtnk8UR8P",
        "outputId": "36bb8b68-1096-41c2-c49d-3d4bcad39418"
      },
      "execution_count": 4,
      "outputs": [
        {
          "output_type": "stream",
          "name": "stdout",
          "text": [
            "10\n",
            "20\n",
            "[10, 20, 50]\n",
            "<class 'list'>\n"
          ]
        }
      ]
    },
    {
      "cell_type": "markdown",
      "source": [
        "Caso você queira adicionar algum elemento ao final da lista, você pode utilizar o método `append` (conforme abaixo):"
      ],
      "metadata": {
        "id": "-nwCw0O2VSKA"
      }
    },
    {
      "cell_type": "code",
      "source": [
        "lista1.append(100) # Adiciona um novo elemento na lista com o valor 100\n",
        "print(lista1)"
      ],
      "metadata": {
        "colab": {
          "base_uri": "https://localhost:8080/"
        },
        "id": "CyASw_tLVkID",
        "outputId": "0352e85f-e5ef-40f1-f9a2-668982e6849b"
      },
      "execution_count": 5,
      "outputs": [
        {
          "output_type": "stream",
          "name": "stdout",
          "text": [
            "[10, 20, 50, 100]\n"
          ]
        }
      ]
    },
    {
      "cell_type": "markdown",
      "source": [
        "Também é possível adicionar elementos em um posição específica da lista por meio do método `insert`. O exemplo abaixo adiciona o valor 77 na terceira posição da `lista1` (índice 2):"
      ],
      "metadata": {
        "id": "dyC76GI2yAAw"
      }
    },
    {
      "cell_type": "code",
      "source": [
        "lista1.insert(2, 77)\n",
        "print(lista1)"
      ],
      "metadata": {
        "colab": {
          "base_uri": "https://localhost:8080/"
        },
        "id": "Fr-t1Qj9yRQE",
        "outputId": "7e371d01-a0be-4598-cac0-fb35d8f16fbd"
      },
      "execution_count": 6,
      "outputs": [
        {
          "output_type": "stream",
          "name": "stdout",
          "text": [
            "[10, 20, 77, 50, 100]\n"
          ]
        }
      ]
    },
    {
      "cell_type": "markdown",
      "source": [
        "Caso você queira adicionar vários elementos a uma lista, você pode utilizar o método `extend()`:"
      ],
      "metadata": {
        "id": "csnCa4GJp_rm"
      }
    },
    {
      "cell_type": "code",
      "source": [
        "lista1.extend([200,300]) # Adiciona dois novos elementos à lista\n",
        "print(lista1)"
      ],
      "metadata": {
        "colab": {
          "base_uri": "https://localhost:8080/"
        },
        "id": "N7_n3JAPqLAn",
        "outputId": "a1fad719-24e2-4098-dc3b-1509f6eca2a8"
      },
      "execution_count": 7,
      "outputs": [
        {
          "output_type": "stream",
          "name": "stdout",
          "text": [
            "[10, 20, 77, 50, 100, 200, 300]\n"
          ]
        }
      ]
    },
    {
      "cell_type": "markdown",
      "source": [
        "Caso você queira remover o último elemento da lista, é possível utilizar o método `pop()`:"
      ],
      "metadata": {
        "id": "E903Z9qqe8Fv"
      }
    },
    {
      "cell_type": "code",
      "source": [
        "lista1.pop() # Remove último elemento da lista\n",
        "print(lista1)"
      ],
      "metadata": {
        "colab": {
          "base_uri": "https://localhost:8080/"
        },
        "id": "a7Mb3JnUfCqS",
        "outputId": "0dccffbd-0ce1-4f6d-966d-bc990152e97a"
      },
      "execution_count": 8,
      "outputs": [
        {
          "output_type": "stream",
          "name": "stdout",
          "text": [
            "[10, 20, 77, 50, 100, 200]\n"
          ]
        }
      ]
    },
    {
      "cell_type": "markdown",
      "source": [
        "O método `pop` também permite que você especifique o elemento da lista a ser removido:"
      ],
      "metadata": {
        "id": "Y0mUADsiy1b2"
      }
    },
    {
      "cell_type": "code",
      "source": [
        "lista1.pop(1) # Remove segundo elemento da lista (índice 1)\n",
        "print(lista1)"
      ],
      "metadata": {
        "colab": {
          "base_uri": "https://localhost:8080/"
        },
        "id": "RmTKzSId0FRA",
        "outputId": "8c8d007a-0434-483c-f234-813f6c071115"
      },
      "execution_count": 9,
      "outputs": [
        {
          "output_type": "stream",
          "name": "stdout",
          "text": [
            "[10, 77, 50, 100, 200]\n"
          ]
        }
      ]
    },
    {
      "cell_type": "markdown",
      "source": [
        "Também é possível remover elementos de uma lista por meio da instrução `del`."
      ],
      "metadata": {
        "id": "3zTYZSY7WEjz"
      }
    },
    {
      "cell_type": "code",
      "source": [
        "del lista1[1] #remove segundo elemento da lista (índice 1)\n",
        "lista1"
      ],
      "metadata": {
        "colab": {
          "base_uri": "https://localhost:8080/"
        },
        "id": "Vx9MzdidWKbx",
        "outputId": "b463edb5-96f7-47a2-ae8e-bd0202454b3c"
      },
      "execution_count": 10,
      "outputs": [
        {
          "output_type": "execute_result",
          "data": {
            "text/plain": [
              "[10, 50, 100, 200]"
            ]
          },
          "metadata": {},
          "execution_count": 10
        }
      ]
    },
    {
      "cell_type": "markdown",
      "source": [
        "Perceba que na instrução `del` acima, o segundo elemento da lista foi removido (índice 1) e os elementos foram reorganizados de maneira que a lista agora possui 4 elementos (com índices entre 0 e 3)."
      ],
      "metadata": {
        "id": "3rPh46VOqyil"
      }
    },
    {
      "cell_type": "markdown",
      "source": [
        "Vamos agora fazer um cópia da `lista1` para o outra lista chamada `copiaLista1`:"
      ],
      "metadata": {
        "id": "zdOzUMXwWVlQ"
      }
    },
    {
      "cell_type": "code",
      "source": [
        "copiaLista1 = lista1\n",
        "print(copiaLista1)"
      ],
      "metadata": {
        "colab": {
          "base_uri": "https://localhost:8080/"
        },
        "id": "9XvQ5y6vYAd0",
        "outputId": "fb78e3f0-b740-4d5a-b640-38e65aad93da"
      },
      "execution_count": 11,
      "outputs": [
        {
          "output_type": "stream",
          "name": "stdout",
          "text": [
            "[10, 50, 100, 200]\n"
          ]
        }
      ]
    },
    {
      "cell_type": "markdown",
      "source": [
        "Contudo, perceba o que acontece se alterarmos o valor de um elemento da variável `copiaLista1`:"
      ],
      "metadata": {
        "id": "RqnEhzRbYSaz"
      }
    },
    {
      "cell_type": "code",
      "source": [
        "copiaLista1[0] = 99\n",
        "print(copiaLista1)\n",
        "print(lista1)"
      ],
      "metadata": {
        "colab": {
          "base_uri": "https://localhost:8080/"
        },
        "id": "LRuFcUy3YEbP",
        "outputId": "bb5bf0b7-cb3a-4105-e85f-575f1f7973b9"
      },
      "execution_count": 12,
      "outputs": [
        {
          "output_type": "stream",
          "name": "stdout",
          "text": [
            "[99, 50, 100, 200]\n",
            "[99, 50, 100, 200]\n"
          ]
        }
      ]
    },
    {
      "cell_type": "markdown",
      "source": [
        "Quando modificamos o valor do primeiro elemento da lista `copiaLista1` em Python, percebemos que o primeiro elemento da variável `lista1` também é alterado. Isso acontece porque as listas em Python são objetos e, ao atribuirmos um objeto a outro, estamos apenas copiando a mesma referência para a região de memória da lista, não os dados em si. Isso significa que ambas as variáveis apontam para o mesmo local de memória, então qualquer alteração reflete em ambas as variáveis."
      ],
      "metadata": {
        "id": "sLMBi0QmYirr"
      }
    },
    {
      "cell_type": "markdown",
      "source": [
        "Portanto, para criar um cópia dos dados da `lista1` em um novo objeto do tipo lista, é necessário utilizar a sintaxe abaixo:"
      ],
      "metadata": {
        "id": "iewWB9k4Z4SL"
      }
    },
    {
      "cell_type": "code",
      "source": [
        "listaValores = [10, 20 , 30, 40, 50, 60, 70, 80]\n",
        "copiaListaValores = listaValores[:] # Realiza um cópia dos elementos da listaValores em uma nova Lista\n",
        "copiaListaValores[0] = 99  # Altera o valor do primeiro elemento da lista\n",
        "print(copiaListaValores) # Exibe lista com o primeiro valor alterado\n",
        "print(listaValores) # Exibe a lista original (que a cópia foi realizada). Perceba que o valor original foi mantido."
      ],
      "metadata": {
        "colab": {
          "base_uri": "https://localhost:8080/"
        },
        "id": "GLbEN-CVaF21",
        "outputId": "eaf5fa82-b10b-4b50-bb3b-5abce3057a30"
      },
      "execution_count": 13,
      "outputs": [
        {
          "output_type": "stream",
          "name": "stdout",
          "text": [
            "[99, 20, 30, 40, 50, 60, 70, 80]\n",
            "[10, 20, 30, 40, 50, 60, 70, 80]\n"
          ]
        }
      ]
    },
    {
      "cell_type": "markdown",
      "source": [
        "Também é possível realizar o fatiamento da lista quando deseja-se obter apenas uma parte dos elementos.\n",
        "\n",
        "O exemplo a seguir mostra diferentes formas de se realizar o fatiamento da lista `listaValores`:"
      ],
      "metadata": {
        "id": "eOzKEHMea-TK"
      }
    },
    {
      "cell_type": "code",
      "source": [
        "listaParte1  = listaValores[0:2] # Primeiros 3 elementos:  [10,20,30]\n",
        "listaParte2 = listaValores[2:] # Do terceiro ao último elemento: [30, 40, 50, 60, 70, 80]\n",
        "listaParte3 = listaValores[3:6] # Do quarto ao quinto elemento: [40, 50, 60]\n",
        "listaParte4 = listaValores[-3:] # Últimos 3 elementos: [60, 70, 80]\n",
        "listaParte5 = listaValores[-1] # Último elemento da lista: 80\n",
        "print(listaParte1)\n",
        "print(listaParte2)\n",
        "print(listaParte3)\n",
        "print(listaParte4)\n",
        "print(listaParte5)"
      ],
      "metadata": {
        "colab": {
          "base_uri": "https://localhost:8080/"
        },
        "id": "EYum9jdrauTD",
        "outputId": "288f7301-0888-4b49-ef9c-513d67f5cd33"
      },
      "execution_count": 14,
      "outputs": [
        {
          "output_type": "stream",
          "name": "stdout",
          "text": [
            "[10, 20]\n",
            "[30, 40, 50, 60, 70, 80]\n",
            "[40, 50, 60]\n",
            "[60, 70, 80]\n",
            "80\n"
          ]
        }
      ]
    },
    {
      "cell_type": "markdown",
      "source": [
        "Caso você queira concatenar listas, você pode realizar a operação de concatenação conforme exemplo abaxio:"
      ],
      "metadata": {
        "id": "kcRPsyJQcxiG"
      }
    },
    {
      "cell_type": "code",
      "source": [
        "listaSequencia1 = [100,200,300] # Gera uma primeira lista com três elementos\n",
        "listaSequencia2 = [400,500,600]\n",
        "listaCompleta = listaSequencia1 + listaSequencia2 #concatena as dudas listas gerando uma nova lista\n",
        "listaCompleta = listaCompleta + [700,800,900]\n",
        "print(listaCompleta)"
      ],
      "metadata": {
        "colab": {
          "base_uri": "https://localhost:8080/"
        },
        "id": "z886TpX3dCk_",
        "outputId": "2ac28ea1-cf4c-4feb-f83d-dd71effc0c5e"
      },
      "execution_count": 15,
      "outputs": [
        {
          "output_type": "stream",
          "name": "stdout",
          "text": [
            "[100, 200, 300, 400, 500, 600, 700, 800, 900]\n"
          ]
        }
      ]
    },
    {
      "cell_type": "markdown",
      "source": [
        "O Python permite também utilizar o operador `in` para verificar se algum item está incluido na lista:"
      ],
      "metadata": {
        "id": "xac-eFZqeBVy"
      }
    },
    {
      "cell_type": "code",
      "source": [
        "print(500 in listaCompleta) # O valor 500 está incluido na lista pois foi retornado o valor True\n",
        "print(1500 in listaCompleta) # O valor 1500 não está incluido na lista pois foi retornado o valor False"
      ],
      "metadata": {
        "colab": {
          "base_uri": "https://localhost:8080/"
        },
        "id": "pLPVE0c4d5Re",
        "outputId": "925c82d6-89dc-46a0-851b-f88d2680c31c"
      },
      "execution_count": 16,
      "outputs": [
        {
          "output_type": "stream",
          "name": "stdout",
          "text": [
            "True\n",
            "False\n"
          ]
        }
      ]
    },
    {
      "cell_type": "markdown",
      "source": [
        "Também é possível criar uma nova lista a partir de uma versão ordenada de uma lista original. Veja o exemplo abaixo:"
      ],
      "metadata": {
        "id": "WIrjhi7R1ptH"
      }
    },
    {
      "cell_type": "code",
      "source": [
        "listaNumerica = [7,4,9,1,8,6,5,3,2,1,1]\n",
        "listaNumerica.sort()\n",
        "print(listaNumerica)"
      ],
      "metadata": {
        "colab": {
          "base_uri": "https://localhost:8080/"
        },
        "id": "6628fEqL1x4x",
        "outputId": "b807923e-51f5-42ed-840b-4b6d5d54867d"
      },
      "execution_count": 17,
      "outputs": [
        {
          "output_type": "stream",
          "name": "stdout",
          "text": [
            "[1, 1, 1, 2, 3, 4, 5, 6, 7, 8, 9]\n"
          ]
        }
      ]
    },
    {
      "cell_type": "markdown",
      "source": [
        "Caso você queira obter a quantidade de ocorrências do valor 1 (um) em uma lista, você pode utilizar o método abaixo:"
      ],
      "metadata": {
        "id": "gIjj0igy3RxN"
      }
    },
    {
      "cell_type": "code",
      "source": [
        "contagem = listaNumerica.count(1) # Retorna a quantidade de ocorrências do valor 1 (um) e armazena na variável contagem\n",
        "print(contagem)"
      ],
      "metadata": {
        "colab": {
          "base_uri": "https://localhost:8080/"
        },
        "id": "G3XL8gfx3ZVN",
        "outputId": "1332dead-5045-431e-eec0-17f9b277c05f"
      },
      "execution_count": 18,
      "outputs": [
        {
          "output_type": "stream",
          "name": "stdout",
          "text": [
            "3\n"
          ]
        }
      ]
    },
    {
      "cell_type": "markdown",
      "source": [
        "Em alguns casos também é possível limpar uma lista, isto é, remover todos os seus elementos. Para isso é possível utilizar a função `clear` (conforme exemplo abaixo):"
      ],
      "metadata": {
        "id": "DOYGTz4O37HY"
      }
    },
    {
      "cell_type": "code",
      "source": [
        "listaNumerica.clear() # Limpa todos os elementos da lista\n",
        "print(listaNumerica) # Exibe lista vazia"
      ],
      "metadata": {
        "colab": {
          "base_uri": "https://localhost:8080/"
        },
        "id": "kbI6yIdh4HFE",
        "outputId": "2f344d3c-023d-4257-dccc-bfcebf82bdd3"
      },
      "execution_count": 19,
      "outputs": [
        {
          "output_type": "stream",
          "name": "stdout",
          "text": [
            "[]\n"
          ]
        }
      ]
    },
    {
      "cell_type": "markdown",
      "source": [
        "Também é possível desfazer uma lista, isto é, armazenar cada elemento da lista em uma variável específica. Veja o exemplo abaixo:"
      ],
      "metadata": {
        "id": "EAKYlUzVtbFz"
      }
    },
    {
      "cell_type": "code",
      "source": [
        "x, y, z = [10, 20, 30] #armazena os valores dos elementos da lista em variáveis\n",
        "print(x, y, z)"
      ],
      "metadata": {
        "colab": {
          "base_uri": "https://localhost:8080/"
        },
        "id": "qn22E1NXthXm",
        "outputId": "f7e5e34b-84d2-4850-8a6c-d87583e406d4"
      },
      "execution_count": 20,
      "outputs": [
        {
          "output_type": "stream",
          "name": "stdout",
          "text": [
            "10 20 30\n"
          ]
        }
      ]
    },
    {
      "cell_type": "markdown",
      "source": [
        "A listas também são muito úteis quando utilizadas em conjunto com estruturas de repetição `while`e `for`. O exemplo abaixo preenche uma lista com 5 notas depois percorre a lista para calcular a média utilizando a estrutura de repetição `while`:"
      ],
      "metadata": {
        "id": "rQ9h47VqmP8o"
      }
    },
    {
      "cell_type": "code",
      "source": [
        "notas = [7.5, 8.6, 9.7, 5.5, 10] #Preenche a lista com 5 notas (entre 0 e 10)\n",
        "qtdNotas = len(notas) #Obtém a quantidade de notas com utilizando a função len\n",
        "i = 0 #Cria variável de controle do laço while\n",
        "soma = 0 #Cria e inicializa a variável soma com 0\n",
        "\n",
        "while i < qtdNotas:\n",
        "  soma += notas[i] #soma notas\n",
        "  i +=1 #incrementa a variável i\n",
        "\n",
        "media = soma / qtdNotas\n",
        "print(f\"Média da turma:{media:2.2f}\")"
      ],
      "metadata": {
        "colab": {
          "base_uri": "https://localhost:8080/"
        },
        "id": "pw4pp_fvmiVn",
        "outputId": "c824204e-93ae-47da-c806-24ee346e6130"
      },
      "execution_count": 21,
      "outputs": [
        {
          "output_type": "stream",
          "name": "stdout",
          "text": [
            "Média da turma:8.26\n"
          ]
        }
      ]
    },
    {
      "cell_type": "markdown",
      "source": [
        "O exemplo a seguir realiza o mesmo cálculo. Contudo, o exemplo abaixo utiliza  a estrutura de repetição `for`:"
      ],
      "metadata": {
        "id": "GiVnJO9eoPyU"
      }
    },
    {
      "cell_type": "code",
      "source": [
        "notas = [7.5, 8.6, 9.7, 5.5, 10] #Preenche a lista com 5 notas (entre 0 e 10)\n",
        "qtdNotas = len(notas) #Obtém a quantidade de notas com utilizando a função len\n",
        "soma = 0 #Cria e inicializa a variável soma com 0\n",
        "\n",
        "for i in notas: # Para cada elemento da lista notas\n",
        "  soma += i # Armazena soma na variável soma\n",
        "\n",
        "media = soma / qtdNotas\n",
        "print(f\"Média da turma:{media:2.2f}\")"
      ],
      "metadata": {
        "colab": {
          "base_uri": "https://localhost:8080/"
        },
        "id": "l-qITSpPmLFx",
        "outputId": "d7079c58-8ef0-43d5-af22-988a97740508"
      },
      "execution_count": 22,
      "outputs": [
        {
          "output_type": "stream",
          "name": "stdout",
          "text": [
            "Média da turma:8.26\n"
          ]
        }
      ]
    },
    {
      "cell_type": "markdown",
      "source": [
        "Também é possível gerar listas automaticamente quando utilizadas as funções `range` e `list`. A função `range()`gera uma lista de elementos, mas um a cada chamada da função. Portanto, é necessário converter estes valores para uma lista por meio da função `list()`. Veja o exemplo abaixo:"
      ],
      "metadata": {
        "id": "3LVb11uUrNh6"
      }
    },
    {
      "cell_type": "code",
      "source": [
        "listaNum = list(range(1,31)) # Gera uma lista com valores entre 1 e 30\n",
        "                             # Perceba que o primeiro argumento da função range é o valor inicial (1)\n",
        "                             # e o segundo argumento é o valor final (mas não incluido).\n",
        "print(listaNum)"
      ],
      "metadata": {
        "colab": {
          "base_uri": "https://localhost:8080/"
        },
        "id": "q1WbJNnMruk7",
        "outputId": "6738fb45-16b1-42be-ea85-8fca87051f5d"
      },
      "execution_count": 23,
      "outputs": [
        {
          "output_type": "stream",
          "name": "stdout",
          "text": [
            "[1, 2, 3, 4, 5, 6, 7, 8, 9, 10, 11, 12, 13, 14, 15, 16, 17, 18, 19, 20, 21, 22, 23, 24, 25, 26, 27, 28, 29, 30]\n"
          ]
        }
      ]
    },
    {
      "cell_type": "markdown",
      "source": [
        "# 2.2 Tuplas"
      ],
      "metadata": {
        "id": "gl-A4C4G-S3n"
      }
    },
    {
      "cell_type": "markdown",
      "source": [
        "Tuplas são semelhantes a listas, mas com a diferença fundamental de serem imutáveis. Elas são úteis quando você precisa garantir que os valores não sejam modificados durante o processamento de informações provenientes de outros sistemas ou arquivos.\n",
        "\n",
        "O processo de criação de uma tupla é muito similar a uma lista. Contudo, na criação da tupla você utiliza o parênteses `()` ou simplesmente insere a sequência de valores (sem os parênteses).\n",
        "\n",
        "Veja o exemplo abaixo:"
      ],
      "metadata": {
        "id": "6RgxQHwAPmt3"
      }
    },
    {
      "cell_type": "code",
      "source": [
        "tupla1 = (1,2,3,4,5) # Cria tupla por meio da inserção dos parênteses como demilitadores\n",
        "tupla2 = 6,7,8,9,10 # Cria uma tupla sem o uso dos parênteses\n",
        "\n",
        "# Exibe listagem de valores das tuplas bem como os tipos de dados\n",
        "print(tupla1)\n",
        "print(tupla2)\n",
        "print(type(tupla1))\n",
        "print(type(tupla2))"
      ],
      "metadata": {
        "colab": {
          "base_uri": "https://localhost:8080/"
        },
        "id": "-drdxFA5ACgo",
        "outputId": "9bae8ab2-e4ee-4822-c0cd-7fe095738309"
      },
      "execution_count": null,
      "outputs": [
        {
          "output_type": "stream",
          "name": "stdout",
          "text": [
            "(1, 2, 3, 4, 5)\n",
            "(6, 7, 8, 9, 10)\n",
            "<class 'tuple'>\n",
            "<class 'tuple'>\n"
          ]
        }
      ]
    },
    {
      "cell_type": "markdown",
      "source": [
        "Para criar uma tupla com um único elemento, você precisa incluir a vírgula final:"
      ],
      "metadata": {
        "id": "-B0zeJTwNHCU"
      }
    },
    {
      "cell_type": "code",
      "source": [
        "tupla = (1,)\n",
        "type(tupla)"
      ],
      "metadata": {
        "colab": {
          "base_uri": "https://localhost:8080/"
        },
        "id": "Yo30toU1NJxA",
        "outputId": "b9f2a099-84d2-4343-d0f6-25d0ddb35715"
      },
      "execution_count": null,
      "outputs": [
        {
          "output_type": "execute_result",
          "data": {
            "text/plain": [
              "tuple"
            ]
          },
          "metadata": {},
          "execution_count": 53
        }
      ]
    },
    {
      "cell_type": "markdown",
      "source": [
        "Uma forma de criar uma tupla vazia é apenas definindo a tupla sem qualquer elemento dentro dos parênteses:"
      ],
      "metadata": {
        "id": "BWOFLSe9NwQb"
      }
    },
    {
      "cell_type": "code",
      "source": [
        "tupla = ()\n",
        "print(type(tupla))"
      ],
      "metadata": {
        "colab": {
          "base_uri": "https://localhost:8080/"
        },
        "id": "1SffC6PpN3-T",
        "outputId": "d759294f-d18a-4b19-a5d8-7b477c177028"
      },
      "execution_count": null,
      "outputs": [
        {
          "output_type": "stream",
          "name": "stdout",
          "text": [
            "<class 'tuple'>\n"
          ]
        }
      ]
    },
    {
      "cell_type": "markdown",
      "source": [
        "Veja agora que ocorre um erro de execução caso você queira alterar qualquer um dos valores da tupla:"
      ],
      "metadata": {
        "id": "iCEtY1gPAwIy"
      }
    },
    {
      "cell_type": "code",
      "source": [
        "tupla1[0] = 99 # Tenta alterar primeiro elemento da tupla"
      ],
      "metadata": {
        "colab": {
          "base_uri": "https://localhost:8080/",
          "height": 171
        },
        "id": "2d_HAv78Auex",
        "outputId": "e3635b51-3690-49c7-c96e-7257012e6415"
      },
      "execution_count": null,
      "outputs": [
        {
          "output_type": "error",
          "ename": "TypeError",
          "evalue": "ignored",
          "traceback": [
            "\u001b[0;31m---------------------------------------------------------------------------\u001b[0m",
            "\u001b[0;31mTypeError\u001b[0m                                 Traceback (most recent call last)",
            "\u001b[0;32m<ipython-input-55-859ade24203c>\u001b[0m in \u001b[0;36m<cell line: 1>\u001b[0;34m()\u001b[0m\n\u001b[0;32m----> 1\u001b[0;31m \u001b[0mtupla1\u001b[0m\u001b[0;34m[\u001b[0m\u001b[0;36m0\u001b[0m\u001b[0;34m]\u001b[0m \u001b[0;34m=\u001b[0m \u001b[0;36m99\u001b[0m \u001b[0;31m# Tenta alterar primeiro elemento da tupla\u001b[0m\u001b[0;34m\u001b[0m\u001b[0;34m\u001b[0m\u001b[0m\n\u001b[0m",
            "\u001b[0;31mTypeError\u001b[0m: 'tuple' object does not support item assignment"
          ]
        }
      ]
    },
    {
      "cell_type": "markdown",
      "source": [
        "Além disso, as tuplas podem ser utilizadas de maneira eficaz para retornar múltilplos valores a partir de funções.\n",
        "\n",
        "A função retorna a raiz quadrada e cúbica do valor repassado como argumento:"
      ],
      "metadata": {
        "id": "pkdoO3iiBbd3"
      }
    },
    {
      "cell_type": "code",
      "source": [
        "def retornaRaizes(valor): # Define uma função chamada retornaRaize com o parametro valor\n",
        "  return (valor**(1/2)), (valor**(1/3)) # Retorna a raiz quadrada e cúbica do valor em uma tupla\n",
        "\n",
        "raizes = retornaRaizes(27) # Chama a função retornaRaizes repassando o valor 27 como argumento e armazenando o resultado na variável raizes\n",
        "raizQuadrada, raizCubica  = retornaRaizes(27) # Armazena os valores das tuplas em variáveis específicas\n",
        "print(raizes) # Mostra a tupla que foi retornada pela função retornaRaizes\n",
        "print(raizQuadrada) # Mostra apenas valor da Raiz Quadrada\n",
        "print(raizCubica) # Mostra apenas o valor da Raiz Cúbica"
      ],
      "metadata": {
        "id": "FTxzjfOVByyw"
      },
      "execution_count": null,
      "outputs": []
    },
    {
      "cell_type": "markdown",
      "source": [
        "As tuplas suportam a maioria das operações para visualização dos valores já vistas em operações com Listas. Veja exemplo abaixo de operações de fatiamente e indexação:"
      ],
      "metadata": {
        "id": "RT5iGP4MCjuX"
      }
    },
    {
      "cell_type": "code",
      "source": [
        "tupla3 = 'a', 'b', 'c', 'd' # Cria tupla de valores string\n",
        "print(tupla3[0]) # Exibe primeiro elemento da tupla\n",
        "print(tupla3[:3]) # Exibe primeiros 3 elementos da tupla (0 a 2)\n",
        "tupla4 = tupla3 * 2 # Duplica elementos da tupla3 e armazena na tupla4\n",
        "print(tupla4)"
      ],
      "metadata": {
        "id": "Rr_AkBYKC1iM",
        "colab": {
          "base_uri": "https://localhost:8080/"
        },
        "outputId": "4903f020-c0ff-4153-fe63-7be59adeebd8"
      },
      "execution_count": null,
      "outputs": [
        {
          "output_type": "stream",
          "name": "stdout",
          "text": [
            "a\n",
            "('a', 'b', 'c')\n",
            "('a', 'b', 'c', 'd', 'a', 'b', 'c', 'd')\n"
          ]
        }
      ]
    },
    {
      "cell_type": "markdown",
      "source": [
        "Operações de sumarização e contagem também são aceitas. Veja o exemplo abaixo:"
      ],
      "metadata": {
        "id": "9LxqyceHDb5N"
      }
    },
    {
      "cell_type": "code",
      "source": [
        "tupla5 = (60, 50, 40, 30, 20, 10) # Armazena valores em uma tupla\n",
        "print(len(tupla5)) # Exibe tamanho da tupla (quantidade de elementos)\n",
        "print(max(tupla5)) # Exibe maior valor dentre os valores dos elementos da tupla\n",
        "print(min(tupla5)) # Exibe menor valor dentre os valores dos elementos da tupla\n",
        "print(sum(tupla5)) # Exibe soma dos valores dos elementos da tupla\n",
        "print(sorted(tupla5))  #Apresenta os elementos da tupla ordenados (sem alterar a tupla original)"
      ],
      "metadata": {
        "id": "OiJuUvBtDf5q",
        "colab": {
          "base_uri": "https://localhost:8080/"
        },
        "outputId": "129e2985-08c4-4d95-b3e5-8140ae1e850c"
      },
      "execution_count": null,
      "outputs": [
        {
          "output_type": "stream",
          "name": "stdout",
          "text": [
            "6\n",
            "60\n",
            "10\n",
            "210\n",
            "[10, 20, 30, 40, 50, 60]\n"
          ]
        }
      ]
    },
    {
      "cell_type": "markdown",
      "source": [
        "Contudo, após a criação da tupla, não são aceitas operações que tentem alterar a sua estrutura, tais como: adicionar, remover, alterar ou ordernar seus elementos. Caso seja necessário realizar operações nos valores de uma tupla, os mesmo deverão ser armazenados em uma nova tupla. Veja exemplo abaixo:\n"
      ],
      "metadata": {
        "id": "NkbkVJ6oEW_X"
      }
    },
    {
      "cell_type": "code",
      "source": [
        "tupla6 = (1,2,3,4,5) # Cria uma tupla com 5 elementos\n",
        "tupla7 = (6,7,8,9,10) # Cria uma tupla com 5 elementos\n",
        "tupla8 = tupla1 + tupla2 # Concatena valores das tuplas em uma nova tupla\n",
        "print(tupla8)"
      ],
      "metadata": {
        "id": "Z2iQuc-2G6Dq",
        "colab": {
          "base_uri": "https://localhost:8080/"
        },
        "outputId": "7e4ac262-cd0d-4bf0-a3c3-fd8cdae2915f"
      },
      "execution_count": null,
      "outputs": [
        {
          "output_type": "stream",
          "name": "stdout",
          "text": [
            "(1, 2, 3, 4, 5, 6, 7, 8, 9, 10)\n"
          ]
        }
      ]
    },
    {
      "cell_type": "markdown",
      "source": [
        "Caso a tupla contenha uma lista em algum de seus elementos, será possível alterar apenas os elementos da lista. Veja exemplo abaixo:"
      ],
      "metadata": {
        "id": "JivDzlTHHXyM"
      }
    },
    {
      "cell_type": "code",
      "source": [
        "tupla9 = (1,2,3,[4.1,4.2,4.3],5) # Cria uma tupla com uma lista em seu quarto elemento (índice 3)\n",
        "print(tupla9) # Mostra tupla\n",
        "tupla9[3].append(4.4) # Adiciona o valor 4.4 na lista pertencente a tupla9\n",
        "print(tupla9) # Mostra tupla com lista alterada"
      ],
      "metadata": {
        "id": "GpPmmPCqHgOB",
        "colab": {
          "base_uri": "https://localhost:8080/"
        },
        "outputId": "6876356c-68f2-41d9-b321-4c1eea1be545"
      },
      "execution_count": null,
      "outputs": [
        {
          "output_type": "stream",
          "name": "stdout",
          "text": [
            "(1, 2, 3, [4.1, 4.2, 4.3], 5)\n",
            "(1, 2, 3, [4.1, 4.2, 4.3, 4.4], 5)\n"
          ]
        }
      ]
    },
    {
      "cell_type": "markdown",
      "source": [
        "Operações de desempacotamento também podem ser realizadas por meio de tuplas, veja o exemplo abaixo:"
      ],
      "metadata": {
        "id": "39UQl97dJwE5"
      }
    },
    {
      "cell_type": "code",
      "source": [
        "tupla10 = ('a', 'b', 'c') # Cria tupla de caracteres\n",
        "x, y, z = tupla10 # Armazena valores em variáveis específicas\n",
        "print(x)\n",
        "print(y)\n",
        "print(z)"
      ],
      "metadata": {
        "id": "U2FPqIxuJ4LF",
        "colab": {
          "base_uri": "https://localhost:8080/"
        },
        "outputId": "3ce1c83d-67cd-45d3-bbda-474b48c07be6"
      },
      "execution_count": null,
      "outputs": [
        {
          "output_type": "stream",
          "name": "stdout",
          "text": [
            "a\n",
            "b\n",
            "c\n"
          ]
        }
      ]
    },
    {
      "cell_type": "markdown",
      "source": [
        "O exemplo abaixo armazena o último valor da tupla em b e os restantes em a (por meio da operação `*a`):"
      ],
      "metadata": {
        "id": "pLhC_-NyKLFj"
      }
    },
    {
      "cell_type": "code",
      "source": [
        "*a, b = (10,20,30,40,50)\n",
        "print(a) # Exibe listagem\n",
        "print(b) # Exibe valor da variável b\n",
        "print(type(a)) # Veja que o objeto 'a' agora é uma lista\n",
        "print(type(b)) # Veja que b é uma variável numérica do tipo int"
      ],
      "metadata": {
        "id": "HCJ8_y9oKdLS",
        "colab": {
          "base_uri": "https://localhost:8080/"
        },
        "outputId": "cf2d2bb3-d030-4369-e849-0d014f7e77a1"
      },
      "execution_count": null,
      "outputs": [
        {
          "output_type": "stream",
          "name": "stdout",
          "text": [
            "[10, 20, 30, 40]\n",
            "50\n",
            "<class 'list'>\n",
            "<class 'int'>\n"
          ]
        }
      ]
    },
    {
      "cell_type": "markdown",
      "source": [
        "Também é possível gerar tuplas com valores heterogêneos. Veja o exemplo abaixo:"
      ],
      "metadata": {
        "id": "AMKx5-BBwlIW"
      }
    },
    {
      "cell_type": "code",
      "source": [
        "tupla = ('vermelho', 30, 45.5)\n",
        "print(tupla)"
      ],
      "metadata": {
        "id": "bRbkTS1lLGap",
        "colab": {
          "base_uri": "https://localhost:8080/"
        },
        "outputId": "e3a6000c-fd20-4484-a78c-2460158551d9"
      },
      "execution_count": null,
      "outputs": [
        {
          "output_type": "stream",
          "name": "stdout",
          "text": [
            "('vermelho', 30, 45.5)\n"
          ]
        }
      ]
    },
    {
      "cell_type": "markdown",
      "source": [
        "# 2.3 Conjuntos"
      ],
      "metadata": {
        "id": "8EJsOs4SQI-K"
      }
    },
    {
      "cell_type": "markdown",
      "source": [
        "Os conjuntos (`set`) são estruturas de dados que não são utilizadas com muita frequência, mas que podem ser úteis em alguns casos específicos. Os conjuntos também são semelhantes a listas. Contudo, um conjunto é uma coleção de elementos distintos (ou exclusivos).\n",
        "\n",
        "Outra característica importante dos conjuntos é que os seus elementos não são ordenados, isto é, a ordem em que os elementos são exibidos pode variar.\n",
        "\n",
        "Veja o exemplo abaixo:"
      ],
      "metadata": {
        "id": "RTXVs1JfQPxX"
      }
    },
    {
      "cell_type": "code",
      "source": [
        "conjunto = set() # Cria um conjunto por meio da instrução set\n",
        "conjunto.add(10) # Adiciona o valor 10 ao conjunto\n",
        "conjunto.add(20) # Adiciona o valor 20 ao conjunto\n",
        "conjunto.add(20) # Adiciona o valor 20 ao conjunto\n",
        "print(len(conjunto)) # Conta quantidade de elementos. Perceba que ele só possui 2 elementos.\n",
        "print(conjunto)\n",
        "print(type(conjunto))"
      ],
      "metadata": {
        "id": "dOQ3y1Z5Q1Z6",
        "colab": {
          "base_uri": "https://localhost:8080/"
        },
        "outputId": "4a94a3ac-7822-41c1-b7e2-a265f915e3ea"
      },
      "execution_count": null,
      "outputs": [
        {
          "output_type": "stream",
          "name": "stdout",
          "text": [
            "2\n",
            "{10, 20}\n",
            "<class 'set'>\n"
          ]
        }
      ]
    },
    {
      "cell_type": "code",
      "source": [
        "conjunto[0] = 99 #Veja também que não é possível alterar o conteúdo de um elemento do conjunto"
      ],
      "metadata": {
        "id": "95XqJPvxVTdn",
        "colab": {
          "base_uri": "https://localhost:8080/",
          "height": 171
        },
        "outputId": "f424af80-8f89-445f-f24a-4d8d69e5da04"
      },
      "execution_count": null,
      "outputs": [
        {
          "output_type": "error",
          "ename": "TypeError",
          "evalue": "ignored",
          "traceback": [
            "\u001b[0;31m---------------------------------------------------------------------------\u001b[0m",
            "\u001b[0;31mTypeError\u001b[0m                                 Traceback (most recent call last)",
            "\u001b[0;32m<ipython-input-65-95e0d00d3d68>\u001b[0m in \u001b[0;36m<cell line: 1>\u001b[0;34m()\u001b[0m\n\u001b[0;32m----> 1\u001b[0;31m \u001b[0mconjunto\u001b[0m\u001b[0;34m[\u001b[0m\u001b[0;36m0\u001b[0m\u001b[0;34m]\u001b[0m \u001b[0;34m=\u001b[0m \u001b[0;36m99\u001b[0m \u001b[0;31m#Veja também que não é possível alterar o conteúdo de um elemento do conjunto\u001b[0m\u001b[0;34m\u001b[0m\u001b[0;34m\u001b[0m\u001b[0m\n\u001b[0m",
            "\u001b[0;31mTypeError\u001b[0m: 'set' object does not support item assignment"
          ]
        }
      ]
    },
    {
      "cell_type": "markdown",
      "source": [
        "Os conjuntos também podem ser criados por meio de uma lista de valores delimitados por chaves `{}`.  Veja o exemplo abaixo:"
      ],
      "metadata": {
        "id": "u5bBg0kJTuIL"
      }
    },
    {
      "cell_type": "code",
      "source": [
        "conjunto_vogais = { 'a', 'b', 'c', 'd', 'e', 'a'} # Cria conjunto de vogais\n",
        "print(conjunto_vogais) # Exibe conjunto\n",
        "print(type(conjunto_vogais)) # Exibe o tipo de objeto relativo a variável conjunto_vogais"
      ],
      "metadata": {
        "id": "A1eEWqd8T3Hv",
        "colab": {
          "base_uri": "https://localhost:8080/"
        },
        "outputId": "105749e7-dbde-46c4-ecf3-043965174890"
      },
      "execution_count": null,
      "outputs": [
        {
          "output_type": "stream",
          "name": "stdout",
          "text": [
            "{'d', 'a', 'c', 'b', 'e'}\n",
            "<class 'set'>\n"
          ]
        }
      ]
    },
    {
      "cell_type": "markdown",
      "source": [
        "As instruções abaixo irão verificar (por meio da função `in`) se os valores 10 e 30 fazem parte do conjunto definido anteriormente:"
      ],
      "metadata": {
        "id": "v-qbOQJDRZ4s"
      }
    },
    {
      "cell_type": "code",
      "source": [
        "print(10 in conjunto) # 10 pertence ao conjunto\n",
        "print(30 in conjunto) # 30 não pertence ao conjunto"
      ],
      "metadata": {
        "id": "ouWRt9dQRi7e",
        "colab": {
          "base_uri": "https://localhost:8080/"
        },
        "outputId": "0b9b6684-ed59-442d-8431-16999c63ad22"
      },
      "execution_count": null,
      "outputs": [
        {
          "output_type": "stream",
          "name": "stdout",
          "text": [
            "True\n",
            "False\n"
          ]
        }
      ]
    },
    {
      "cell_type": "markdown",
      "source": [
        "A grande vantagem se utilizar um **conjunto** é que a operação `in` é executada muito mais rapidamente (e comparação as listas). Portanto, é uma boa prática primeiro converter uma lista para um conjunto antes de localizar um determinado valor.\n",
        "\n",
        "Veja o exemplo abaixo:"
      ],
      "metadata": {
        "id": "5yD7Fb7YR-Te"
      }
    },
    {
      "cell_type": "code",
      "source": [
        "lista1 = ['maria', 'pedro', 'josé', 'lucas'] # Cria lista de nomes\n",
        "lista2 = ['pedro', 'carolina', 'maria', 'matheus'] # Cria lista de nomes\n",
        "conjunto = set(lista1 + lista2) # Concatena listas e converte para um conjunto\n",
        "print(sorted(conjunto)) # Apresenta conjunto ordenado\n",
        "print('maria' in conjunto) # Verifica se 'maria' faz parte do conjunto"
      ],
      "metadata": {
        "id": "H5_I64aCSewg",
        "colab": {
          "base_uri": "https://localhost:8080/"
        },
        "outputId": "1eb73491-a2dd-4da6-9378-e347f7d2d5d7"
      },
      "execution_count": null,
      "outputs": [
        {
          "output_type": "stream",
          "name": "stdout",
          "text": [
            "['carolina', 'josé', 'lucas', 'maria', 'matheus', 'pedro']\n",
            "True\n"
          ]
        }
      ]
    },
    {
      "cell_type": "markdown",
      "source": [
        "# 2.4 Dicionários"
      ],
      "metadata": {
        "id": "tSd-ED-6UfXy"
      }
    },
    {
      "cell_type": "markdown",
      "source": [
        "Um **dicionário** é uma estrutura de dados mais geral do que uma lista.\n",
        "\n",
        "Enquanto uma **lista** utiliza apenas índices inteiros para acessar elementos, um dicionário permite o uso de índices de qualquer tipo.\n",
        "\n",
        "Podemos pensar em um dicionário como um mapeamento entre chaves e valores. Cada chave corresponde a um valor específico. Essa relação é chamada de par chave-valor ou item.\n",
        "\n",
        "Por exemplo, podemos criar um dicionário que mapeia palavras do inglês para o português, onde tanto as chaves quanto os valores são strings.\n",
        "\n",
        "\n",
        "A função dict cria um novo dicionário vazio. O exemplo a seguir cria de formas diferentes dois dicionários vazios:"
      ],
      "metadata": {
        "id": "c7_oOMv6suOv"
      }
    },
    {
      "cell_type": "code",
      "source": [
        "dicionario1 = {} # Cria dicionário vazio\n",
        "dicionario2 = dict() # Cria dicionário vazio\n",
        "print(dicionario1)  # Exibe dicionário vazio\n",
        "print(dicionario2) # Exibe dicionário vazio\n",
        "print(type(dicionario1)) # Mostra tipo do objeto\n",
        "print(type(dicionario2)) # Mostra tipo do objeto"
      ],
      "metadata": {
        "id": "oqwJ8k0wubVh",
        "colab": {
          "base_uri": "https://localhost:8080/"
        },
        "outputId": "8594907e-03b0-4172-b18e-854867eb7f72"
      },
      "execution_count": null,
      "outputs": [
        {
          "output_type": "stream",
          "name": "stdout",
          "text": [
            "{}\n",
            "{}\n",
            "<class 'dict'>\n",
            "<class 'dict'>\n"
          ]
        }
      ]
    },
    {
      "cell_type": "markdown",
      "source": [
        "O próximo exemplo cria um estrutura de um `dicionário` em que as chaves serão os nomes dos alunos e os valores serão as idades:"
      ],
      "metadata": {
        "id": "qFCm2plxu0n3"
      }
    },
    {
      "cell_type": "code",
      "source": [
        "alunos = {\"Ana\": 22, \"Manoel\": 19, \"Carol\": 20} #Cria dicionário com chave-valor para as idades dos alunos\n",
        "print(alunos) # Exibe dicionário\n",
        "print(type(alunos)) # Exibe tipo de objeto"
      ],
      "metadata": {
        "id": "vs1f29A6u_Dm",
        "colab": {
          "base_uri": "https://localhost:8080/"
        },
        "outputId": "7745d57c-6eeb-4ca6-a9c1-fa06e66356e4"
      },
      "execution_count": null,
      "outputs": [
        {
          "output_type": "stream",
          "name": "stdout",
          "text": [
            "{'Ana': 22, 'Manoel': 19, 'Carol': 20}\n",
            "<class 'dict'>\n"
          ]
        }
      ]
    },
    {
      "cell_type": "markdown",
      "source": [
        "Para acessar o conteúdo de um elemento do dicionário, é necessário indicar qual é a chave. Veja o exemplo abaixo:\n"
      ],
      "metadata": {
        "id": "noUyxPvGvQ1m"
      }
    },
    {
      "cell_type": "code",
      "source": [
        "print(alunos[\"Ana\"]) # Exibe idade da Ana\n",
        "print(alunos[\"Manoel\"]) # Exibe idade do Manoel\n",
        "print(alunos[\"Carol\"]) # Exibe idade da Carol"
      ],
      "metadata": {
        "id": "sOL3huHBvePv",
        "colab": {
          "base_uri": "https://localhost:8080/"
        },
        "outputId": "15828811-ae34-41c6-b7fc-04bf663456aa"
      },
      "execution_count": null,
      "outputs": [
        {
          "output_type": "stream",
          "name": "stdout",
          "text": [
            "22\n",
            "19\n",
            "20\n"
          ]
        }
      ]
    },
    {
      "cell_type": "markdown",
      "source": [
        "Caso o valor da chave não pertença ao dicionário, você receberá uma mensagem de erro (conforme abaixo):"
      ],
      "metadata": {
        "id": "ONWHjKZBvrjs"
      }
    },
    {
      "cell_type": "code",
      "source": [
        "alunos[\"ana\"] #Perceba que a chave é case sensitive, isto é, as letras minúsculas e maiúsculas são diferenciadas no Python."
      ],
      "metadata": {
        "id": "k_-G8oLbvzS-",
        "colab": {
          "base_uri": "https://localhost:8080/",
          "height": 171
        },
        "outputId": "04edd057-95bb-46f7-924c-fc2a9e82d3ad"
      },
      "execution_count": null,
      "outputs": [
        {
          "output_type": "error",
          "ename": "KeyError",
          "evalue": "ignored",
          "traceback": [
            "\u001b[0;31m---------------------------------------------------------------------------\u001b[0m",
            "\u001b[0;31mKeyError\u001b[0m                                  Traceback (most recent call last)",
            "\u001b[0;32m<ipython-input-72-c690c38c2d4c>\u001b[0m in \u001b[0;36m<cell line: 1>\u001b[0;34m()\u001b[0m\n\u001b[0;32m----> 1\u001b[0;31m \u001b[0malunos\u001b[0m\u001b[0;34m[\u001b[0m\u001b[0;34m\"ana\"\u001b[0m\u001b[0;34m]\u001b[0m \u001b[0;31m#Perceba que a chave é case sensitive, isto é, as letras minúsculas e maiúsculas são diferenciadas no Python.\u001b[0m\u001b[0;34m\u001b[0m\u001b[0;34m\u001b[0m\u001b[0m\n\u001b[0m",
            "\u001b[0;31mKeyError\u001b[0m: 'ana'"
          ]
        }
      ]
    },
    {
      "cell_type": "markdown",
      "source": [
        "Uma das formas de se verificar a existência de uma `chave` em um dicionário é por meio da instrução `in`. Veja o exemplo abaixo:"
      ],
      "metadata": {
        "id": "7WYN4mKVwBSm"
      }
    },
    {
      "cell_type": "code",
      "source": [
        "verifica_item1 = 'ana' in alunos # Verifica se a chave 'ana' existe no dicionário alunos\n",
        "verifica_item2 = 'Ana' in alunos # Verifica se a chave 'Ana' existe no dicionário alunos\n",
        "print(verifica_item1) # Exibe valor da variável\n",
        "print(verifica_item2) # Exibe valor da variável"
      ],
      "metadata": {
        "id": "ZR8Q6fDtwVtI",
        "colab": {
          "base_uri": "https://localhost:8080/"
        },
        "outputId": "46f9e179-c084-4f63-92a7-cdc05278c7b6"
      },
      "execution_count": null,
      "outputs": [
        {
          "output_type": "stream",
          "name": "stdout",
          "text": [
            "False\n",
            "True\n"
          ]
        }
      ]
    },
    {
      "cell_type": "markdown",
      "source": [
        "Outra forma de buscar valores de um dicionário é utilizando o método `get`.  Perceba no exemplo abaixo que o método `get`já realiza automaticamente o tratamento de erro e retorna o valor definido no segundo argumento (0 no exemplo) caso o valor da chave não seja encontrado:"
      ],
      "metadata": {
        "id": "8aULIJycw2Cf"
      }
    },
    {
      "cell_type": "code",
      "source": [
        "idade_ana = alunos.get(\"Ana\",0) # Busca o valor relativo a chave 'Ana'. Caso a chave não exista, retorna o valor 0\n",
        "idade_carol = alunos.get(\"Carol\",0) # Busca o valor relativo a chave 'Carol'. Caso a chave não exista, retorna o valor 0\n",
        "idade_pedro = alunos.get(\"Pedro\",0) # Perceba que neste caso o método get retornará 0, pois a chave \"Pedro\" não será encontrada\n",
        "print(\"Idade Ana:\", idade_ana)\n",
        "print(\"Idade Carol:\", idade_carol)\n",
        "print(\"Idade Pedro:\", idade_pedro)"
      ],
      "metadata": {
        "id": "kCry_FVxxN6q",
        "colab": {
          "base_uri": "https://localhost:8080/"
        },
        "outputId": "dc2295a7-e3a4-4ac7-bdf0-0066562223ab"
      },
      "execution_count": null,
      "outputs": [
        {
          "output_type": "stream",
          "name": "stdout",
          "text": [
            "Idade Ana: 22\n",
            "Idade Carol: 20\n",
            "Idade Pedro: 0\n"
          ]
        }
      ]
    },
    {
      "cell_type": "markdown",
      "source": [
        "Um valor de um `elemento` do dicionário também pode ser facilmente alterado por meio da indicação da sua respectiva `chave`. Veja o exemplo abaixo:"
      ],
      "metadata": {
        "id": "u44I_AnYxzao"
      }
    },
    {
      "cell_type": "code",
      "source": [
        "alunos[\"Carol\"] = 29 # Perceba que a idade da Carol será alterada de 20 para 29\n",
        "print(alunos)"
      ],
      "metadata": {
        "id": "3QosgJYjx7XI",
        "colab": {
          "base_uri": "https://localhost:8080/"
        },
        "outputId": "6f53bf59-7c95-40b8-b4c3-28e06d5d1359"
      },
      "execution_count": null,
      "outputs": [
        {
          "output_type": "stream",
          "name": "stdout",
          "text": [
            "{'Ana': 22, 'Manoel': 19, 'Carol': 29}\n"
          ]
        }
      ]
    },
    {
      "cell_type": "markdown",
      "source": [
        "Para remover itens de um dicionário, você pode utilizar o método `pop`. Veja o exemplo abaixo que remove o item com a chave 'Carol':"
      ],
      "metadata": {
        "id": "6X5Y_yjDyglK"
      }
    },
    {
      "cell_type": "code",
      "source": [
        "alunos.pop(\"Carol\") # Remove elemento que possua a chave 'Carol'\n",
        "print(alunos) # Exibe dicionário novamente"
      ],
      "metadata": {
        "id": "uNHm7xpNyuFa",
        "colab": {
          "base_uri": "https://localhost:8080/"
        },
        "outputId": "61ff9aba-6e11-44a3-9b7a-6c0db3781316"
      },
      "execution_count": null,
      "outputs": [
        {
          "output_type": "stream",
          "name": "stdout",
          "text": [
            "{'Ana': 22, 'Manoel': 19}\n"
          ]
        }
      ]
    },
    {
      "cell_type": "markdown",
      "source": [
        "Também é possível excluir um item de um dicionário por meio da instrução `del`. Veja o exemplo abaixo:"
      ],
      "metadata": {
        "id": "uToDQCzOza4C"
      }
    },
    {
      "cell_type": "code",
      "source": [
        "del alunos['Ana'] # Remove item com a chave 'Ana'\n",
        "print(alunos) # Exibe dicionário novamente"
      ],
      "metadata": {
        "id": "_bMRUSZEzlAo",
        "colab": {
          "base_uri": "https://localhost:8080/"
        },
        "outputId": "25ebe7fb-3699-4dbe-8d59-8a57804a0cd8"
      },
      "execution_count": null,
      "outputs": [
        {
          "output_type": "stream",
          "name": "stdout",
          "text": [
            "{'Manoel': 19}\n"
          ]
        }
      ]
    },
    {
      "cell_type": "markdown",
      "source": [
        "Caso você queira adicionar nos pares `chave-valor` no dicionário, é possível incluir itens indicando o valor de uma nova chave no dicionário. O exemplo abaixo adiciona mais dois alunos no dicionário alunos:"
      ],
      "metadata": {
        "id": "nINwHyz0zwWX"
      }
    },
    {
      "cell_type": "code",
      "source": [
        "alunos['Manoela'] = 24 # Como a chave 'Manoela' não existe no dicionário, esta instrução irá criar um novo elemento\n",
        "alunos['Leonardo'] = 30 # Como a chave 'Leonardo' não existe no dicionário, esta instrução irá criar um novo elemento\n",
        "print(alunos) # Exibe novamente o dicionário"
      ],
      "metadata": {
        "id": "IskWY-sx0Fby",
        "colab": {
          "base_uri": "https://localhost:8080/"
        },
        "outputId": "6b5f3fc0-4931-44c3-dacf-377f8ba0716e"
      },
      "execution_count": null,
      "outputs": [
        {
          "output_type": "stream",
          "name": "stdout",
          "text": [
            "{'Manoel': 19, 'Manoela': 24, 'Leonardo': 30}\n"
          ]
        }
      ]
    },
    {
      "cell_type": "markdown",
      "source": [
        "Além disso, para se obter a listagem de todas as chaves de um dicionário, você pode utilizar a função `keys()`. Veja o exemplo abaixo:"
      ],
      "metadata": {
        "id": "qfjIxTFt0YRs"
      }
    },
    {
      "cell_type": "code",
      "source": [
        "nomes_alunos = alunos.keys() # Exibe as chaves do dicionário nomes_alunos\n",
        "print(nomes_alunos) # exibe valores das chaves"
      ],
      "metadata": {
        "id": "92TuVV-J0ibi",
        "colab": {
          "base_uri": "https://localhost:8080/"
        },
        "outputId": "3b8f6f3d-91a3-4341-84f5-562875375334"
      },
      "execution_count": null,
      "outputs": [
        {
          "output_type": "stream",
          "name": "stdout",
          "text": [
            "dict_keys(['Manoel', 'Manoela', 'Leonardo'])\n"
          ]
        }
      ]
    },
    {
      "cell_type": "markdown",
      "source": [
        "Também é possível obter a lista de todos os valores por meio do método `values`. Veja o exemplo abaixo:"
      ],
      "metadata": {
        "id": "oI4OPaWS1Tsv"
      }
    },
    {
      "cell_type": "code",
      "source": [
        "idades_alunos = alunos.values() # Exibe as chaves do dicionário nomes_alunos\n",
        "print(idades_alunos) # exibe os valores"
      ],
      "metadata": {
        "id": "kAaXnf401dPB",
        "colab": {
          "base_uri": "https://localhost:8080/"
        },
        "outputId": "618f4f6e-d9c8-402b-c658-b03b87ab161f"
      },
      "execution_count": null,
      "outputs": [
        {
          "output_type": "stream",
          "name": "stdout",
          "text": [
            "dict_values([19, 24, 30])\n"
          ]
        }
      ]
    },
    {
      "cell_type": "markdown",
      "source": [
        "Perceba também que as variáveis `nomes_alunos` e `idades_alunos` são objetos do tipo `dict_keys` e `dict_values`, respectivamente.\n",
        "\n",
        "Contudo, estes objetos podem ser convertidos para estruturas de listas:"
      ],
      "metadata": {
        "id": "AHFWlLop1lAx"
      }
    },
    {
      "cell_type": "code",
      "source": [
        "lista_nomes = list(nomes_alunos) # Converte o objeto dict_keys para uma lista\n",
        "lista_idades = list(idades_alunos) # Converte o objeto dict_values para uma lista\n",
        "print(lista_nomes) # Exibe lista de nomes\n",
        "print(lista_idades) # Exibe lista de idades\n",
        "print(type(lista_nomes)) # Exibe tipo de objeto (veja que agora é do tipo 'list')\n",
        "print(type(lista_idades)) # Exibe tipo de objeto (veja que agora é do tipo 'list')"
      ],
      "metadata": {
        "id": "76l3fCXU13xs",
        "colab": {
          "base_uri": "https://localhost:8080/"
        },
        "outputId": "e969e0db-9e16-4867-a16a-7f751bd12933"
      },
      "execution_count": null,
      "outputs": [
        {
          "output_type": "stream",
          "name": "stdout",
          "text": [
            "['Manoel', 'Manoela', 'Leonardo']\n",
            "[19, 24, 30]\n",
            "<class 'list'>\n",
            "<class 'list'>\n"
          ]
        }
      ]
    },
    {
      "cell_type": "markdown",
      "source": [
        "Por meio do método `items` também é possível obter uma lista de tuplas chave-valor. Veja o exemplo abaixo:"
      ],
      "metadata": {
        "id": "LuGU3PCh4TUr"
      }
    },
    {
      "cell_type": "code",
      "source": [
        "items_tuplas = alunos.items() #Exibe os itens do dicionário\n",
        "print(items_tuplas) # Mostra chaves e valores do dicionário\n",
        "print(type(items_tuplas)) # Veja que o objeto é do tipo 'dict_items'\n",
        "items_tuplas2 = tuple(items_tuplas) # Converte objeto dict_items para tuplas\n",
        "\n",
        "print(items_tuplas2) # Mostra chaves e valores do dicionário\n",
        "print(type(items_tuplas2)) # Veja que agora o objeto é do tipo 'tuple'"
      ],
      "metadata": {
        "id": "i0iCevPL4bEb",
        "colab": {
          "base_uri": "https://localhost:8080/"
        },
        "outputId": "793b9b2e-8b44-4706-95d6-2fca05cf3f99"
      },
      "execution_count": null,
      "outputs": [
        {
          "output_type": "stream",
          "name": "stdout",
          "text": [
            "dict_items([('Manoel', 19), ('Manoela', 24), ('Leonardo', 30)])\n",
            "<class 'dict_items'>\n",
            "(('Manoel', 19), ('Manoela', 24), ('Leonardo', 30))\n",
            "<class 'tuple'>\n"
          ]
        }
      ]
    },
    {
      "cell_type": "markdown",
      "source": [
        "Além de strings, dicionário aceitam outros tipos de dados como chave (como inteiros). Veja o exemplo abaixo:"
      ],
      "metadata": {
        "id": "tHG3LDhD2bvO"
      }
    },
    {
      "cell_type": "code",
      "source": [
        "alunos = {1: 'Ana', 2: 'Pedro', 3: 'Rafael'} #Neste caso chave poderia ser um código único para cada aluno\n",
        "print(alunos)\n",
        "print(alunos[3])"
      ],
      "metadata": {
        "id": "WbJG9GBx2wxT",
        "colab": {
          "base_uri": "https://localhost:8080/"
        },
        "outputId": "129b5de4-c391-48be-c177-1a5f75177355"
      },
      "execution_count": null,
      "outputs": [
        {
          "output_type": "stream",
          "name": "stdout",
          "text": [
            "{1: 'Ana', 2: 'Pedro', 3: 'Rafael'}\n",
            "Rafael\n"
          ]
        }
      ]
    },
    {
      "cell_type": "markdown",
      "source": [
        "# 2.5 *Comprehensions*"
      ],
      "metadata": {
        "id": "cLGMlbpI2VeN"
      }
    },
    {
      "cell_type": "markdown",
      "source": [
        "As comprehensions em Python geram novas sequências a partir de sequências existentes.\n",
        "\n",
        "Elas são utilizadas para **listas**, **dicionários**, **conjuntos**.\n",
        "\n",
        "O exemplo abaixo mostra o uso de *comprehensions* (ou compreensões) para gerar diferentes listas:"
      ],
      "metadata": {
        "id": "ZgpnQEwi2cms"
      }
    },
    {
      "cell_type": "code",
      "source": [
        "numeros_pares = [x for x in range (10) if x % 2 == 0] # Gera uma sequência de números pares\n",
        "print(numeros_pares)"
      ],
      "metadata": {
        "id": "_X9beJjv5ORx",
        "colab": {
          "base_uri": "https://localhost:8080/"
        },
        "outputId": "1cf30d68-f1e6-403a-de05-636b7442529b"
      },
      "execution_count": null,
      "outputs": [
        {
          "output_type": "stream",
          "name": "stdout",
          "text": [
            "[0, 2, 4, 6, 8]\n"
          ]
        }
      ]
    },
    {
      "cell_type": "code",
      "source": [
        "quadrado = [x**2 for x in range(20)] #Gera sequência de números ao quadrado\n",
        "print(quadrado)"
      ],
      "metadata": {
        "id": "Su4zINd05sk_",
        "colab": {
          "base_uri": "https://localhost:8080/"
        },
        "outputId": "b719f4fb-74ca-44d6-addc-aac3532a478d"
      },
      "execution_count": null,
      "outputs": [
        {
          "output_type": "stream",
          "name": "stdout",
          "text": [
            "[0, 1, 4, 9, 16, 25, 36, 49, 64, 81, 100, 121, 144, 169, 196, 225, 256, 289, 324, 361]\n"
          ]
        }
      ]
    },
    {
      "cell_type": "code",
      "source": [
        "raiz = [x**(1/2) for x in quadrado]  # Extra raiz quadrada da sequência de números anterior\n",
        "print(raiz)"
      ],
      "metadata": {
        "id": "0tHZce8q6DxT",
        "colab": {
          "base_uri": "https://localhost:8080/"
        },
        "outputId": "eb049ab3-0d82-4ee0-a592-a4f0988eceff"
      },
      "execution_count": null,
      "outputs": [
        {
          "output_type": "stream",
          "name": "stdout",
          "text": [
            "[0.0, 1.0, 2.0, 3.0, 4.0, 5.0, 6.0, 7.0, 8.0, 9.0, 10.0, 11.0, 12.0, 13.0, 14.0, 15.0, 16.0, 17.0, 18.0, 19.0]\n"
          ]
        }
      ]
    },
    {
      "cell_type": "markdown",
      "source": [
        "No caso de conjuntos, as comprehensions podem ser utilizadas para geração de valores únicos. Veja o exemplo abaixo:"
      ],
      "metadata": {
        "id": "2_Pb_KwR7Df4"
      }
    },
    {
      "cell_type": "code",
      "source": [
        "import random\n",
        "numeros_aleatorios = [random.randint(1,6) for _ in range(10)] #Gera 10 números inteiros aleatórios entre 1 e 5 utilizando List comprehensions\n",
        "print(numeros_aleatorios)\n",
        "print(type(numeros_aleatorios))\n",
        "\n",
        "numeros_aleatorios_unicos =  {random.randint(1,6) for x in range(10)} #Gera números inteiros aleatórios entre 1 e 5 utilizando List comprehensions\n",
        "print(numeros_aleatorios_unicos)                                      #Perceba que o set comprehensions foi utilizado alterando-se os colchetes para chaves nos delimitadores\n",
        "print(type(numeros_aleatorios_unicos))"
      ],
      "metadata": {
        "id": "KT4s3E-L7MZO",
        "colab": {
          "base_uri": "https://localhost:8080/"
        },
        "outputId": "b3b8f8bc-e3ad-45d3-92d1-df0b9c25a6b9"
      },
      "execution_count": null,
      "outputs": [
        {
          "output_type": "stream",
          "name": "stdout",
          "text": [
            "[3, 3, 4, 6, 6, 5, 4, 5, 2, 1]\n",
            "<class 'list'>\n",
            "{1, 2, 3, 5, 6}\n",
            "<class 'set'>\n"
          ]
        }
      ]
    },
    {
      "cell_type": "markdown",
      "source": [
        "É possível também gerar uma listagem por meio da utilização dos Dictionary Comprehensions (Compreensões de Dicionário). Veja o exemplo abaixo que conta a quantidade de caracteres de cada palavra e armazena em um dicionário por meio da utilização do *Dictionary Comprehensions*:"
      ],
      "metadata": {
        "id": "UkAJ9-yO8td4"
      }
    },
    {
      "cell_type": "code",
      "source": [
        "palavras = ['Vermelho', 'Verde', 'Amarelo'] #Lista de Palavras\n",
        "tamanho_palavras = {palavra: len(palavra) for palavra in palavras}\n",
        "print(tamanho_palavras)"
      ],
      "metadata": {
        "id": "O1fKfdh29K0e",
        "colab": {
          "base_uri": "https://localhost:8080/"
        },
        "outputId": "530f7ffd-9e07-4961-e9e3-208ac9465709"
      },
      "execution_count": null,
      "outputs": [
        {
          "output_type": "stream",
          "name": "stdout",
          "text": [
            "{'Vermelho': 8, 'Verde': 5, 'Amarelo': 7}\n"
          ]
        }
      ]
    },
    {
      "cell_type": "markdown",
      "source": [
        "# 2.6 Exercícios de Fixação"
      ],
      "metadata": {
        "id": "gqICq9dz91eG"
      }
    },
    {
      "cell_type": "markdown",
      "source": [
        "<h1> Exercício 1 </h1>\n",
        "\n",
        "Utilizando listas (para armazenar e posteriormente ler os dados), elaborar um algoritmo para obter do usuário um conjunto de 10 números e posteriormente informar:\n",
        "\n",
        "\n",
        "\n",
        "*   Quantos números são iguais a 10.\n",
        "*   Quantos números são maiores do que a média.\n",
        "*   Quantos números são iguais a média.\n",
        "\n",
        "\n"
      ],
      "metadata": {
        "id": "tIat1tvhCGOV"
      }
    },
    {
      "cell_type": "code",
      "source": [
        "# ********** Escreva seu código aqui **********"
      ],
      "metadata": {
        "id": "bpw3vJnc-3Uk"
      },
      "execution_count": null,
      "outputs": []
    },
    {
      "cell_type": "markdown",
      "source": [
        "<h1> Exercício 2 </h1>\n",
        "\n",
        "Por meio da utilização de dicionários crie um algoritmo que obtenha do usuário temperatura média de cada mês do ano, em centigrados.\n",
        "\n",
        "Para isto armazene essas temperaturas utilizando chaves relativas a cada um dos meses do ano.\n",
        "\n",
        "Além disso, mostre na tela as temperaturas de todos os meses, a maior e a menor temperatura do ano e em que mês aconteceram."
      ],
      "metadata": {
        "id": "OtFTShti-6MP"
      }
    },
    {
      "cell_type": "code",
      "source": [
        "# ********** Escreva seu código aqui **********"
      ],
      "metadata": {
        "id": "Ko-Tp8ky-722"
      },
      "execution_count": null,
      "outputs": []
    },
    {
      "cell_type": "markdown",
      "source": [
        "<h1> Exercício 3 </h1>\n",
        "\n",
        "Crie a lógica de uma aplicação que contenha uma listagem de cinco questões de múltipla escolha relacionadas a ciência de dados. Cada questão contém três opções de resposta. Crie também uma listagem paralela que contenha a resposta correta para cada questão - A, B ou C. Apresente cada questão e verifique se o usuário entrou somente A, B, ou C como resposta - caso contrário, continue solicitando ao usuário até que uma resposta válida seja inserida. Se o usuário responder a uma questão corretamente, apresente \"Correto!\", caso contrário, apresente \"A resposta correta é:\" e a letra da resposta correta. Depois que o usuário responder todas as questões, apresente o número de respostas corretas e incorretas. Fique a vontada para utilizar a estrutura de dados que for mais adequada para a resolução do problema."
      ],
      "metadata": {
        "id": "uVmqmB8--9D8"
      }
    },
    {
      "cell_type": "code",
      "source": [
        "# ********** Escreva seu código aqui **********"
      ],
      "metadata": {
        "id": "0-Gh0x02-_6y"
      },
      "execution_count": null,
      "outputs": []
    },
    {
      "cell_type": "markdown",
      "source": [
        "<h1> Exercício 4 </h1>\n",
        "\n",
        "Crie a lógica para um jogo de dados. A aplicação \"lança\" aleatoriamente cinco dados para o computador e cinco dados para o jogador. Conforme cada \"lançamento\" aleatório é feito, armazene-o em uma estrutura de dados. A aplicação apresenta todos os valores, de 1 a 6, para cada dado. Decida o vencedor com base na seguinte hierarquia de valores de dados. Qualquer combinação mais alta ganha de uma mais baixa - Por exemplo, qualquer quina ganha de uma quadra.\n",
        "\n",
        "Seguem as combinações por ordem de prioridade:\n",
        "\n",
        "\n",
        "*   Uma quina.\n",
        "*   Uma quadra.\n",
        "*   Uma trinca.\n",
        "*   Um par.\n",
        "\n",
        "Para esse jogo, os valores numéricos dos dados não contam.  Por exemplo, se ambos os jogadores tiraram três de um tipo, é um empate, independente de quais forem os valores dos dados. Além disso, o jogo não reconhece um *full house* (uma trinca e um par).\n",
        "\n",
        "O exemplo abaixo mostra um dos possível resultados da execução do programa:\n",
        "\n",
        "\n",
        "\n",
        "```\n",
        "Jogada do Computador: 5 2 6 4 2\n",
        "Sua Jogada: 1 1 1 2 3\n",
        "O computador tem um par.\n",
        "Você tem uma trinca.\n",
        "Você Ganhou!!\n",
        "```\n",
        "\n",
        "\n",
        "\n",
        "\n",
        "\n"
      ],
      "metadata": {
        "id": "O_cy9Z90_Css"
      }
    },
    {
      "cell_type": "code",
      "source": [
        "# ********** Escreva seu código aqui **********"
      ],
      "metadata": {
        "id": "i1rWXT8r_ElT"
      },
      "execution_count": null,
      "outputs": []
    },
    {
      "cell_type": "markdown",
      "source": [
        "<h1> Exercício 5 </h1>\n",
        "\n",
        "Utilizando comprehensions crie uma função que gere a tabuada para um número informado como argumento."
      ],
      "metadata": {
        "id": "BnHIp-X6_HQS"
      }
    },
    {
      "cell_type": "code",
      "source": [
        "# ********** Escreva seu código aqui **********"
      ],
      "metadata": {
        "id": "h_gtob8U_NCN"
      },
      "execution_count": null,
      "outputs": []
    }
  ]
}