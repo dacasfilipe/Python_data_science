{
  "nbformat": 4,
  "nbformat_minor": 0,
  "metadata": {
    "colab": {
      "provenance": []
    },
    "kernelspec": {
      "name": "python3",
      "display_name": "Python 3"
    },
    "language_info": {
      "name": "python"
    }
  },
  "cells": [
    {
      "cell_type": "code",
      "execution_count": 4,
      "metadata": {
        "colab": {
          "base_uri": "https://localhost:8080/"
        },
        "id": "dRSJV1EJ-Xmh",
        "outputId": "8cdc67ca-071d-43d4-c7d9-54ef9965ad21"
      },
      "outputs": [
        {
          "output_type": "stream",
          "name": "stdout",
          "text": [
            "<class 'tuple'>\n",
            "Valores dos Lançamentos:[3, 5, 6, 3, 4, 4, 4, 3, 2, 2]\n",
            "Média dos Valores:3.60\n",
            "Quantidade de balores acima da média:5\n",
            "Quantidade de valores abaixo da média:5\n",
            "Maior valor:6\n",
            "Menor valor:2\n"
          ]
        }
      ],
      "source": [
        "import random\n",
        "\n",
        "def gerarJogadas(qtd):\n",
        "    jogadas = []\n",
        "    cont=0\n",
        "    while cont <qtd:\n",
        "        cont += 1\n",
        "        lancamento = random.randint(1, 6)\n",
        "        jogadas.append(lancamento)\n",
        "    return jogadas #retorna uma lista com o resultado dos valores\n",
        "\n",
        "def CalculaMedia(jogadas):\n",
        "    total = sum(jogadas)\n",
        "    media = total / len(jogadas)\n",
        "    return media\n",
        "\n",
        "def ContaAcimaAbaixo(jogadas, media):\n",
        "    acima = 0\n",
        "    abaixo = 0\n",
        "    for valor in jogadas:\n",
        "        if valor > media:\n",
        "            acima += 1\n",
        "        elif valor < media:\n",
        "            abaixo += 1\n",
        "    return (acima, abaixo) #retorna uma tupla com os resultados\n",
        "\n",
        "def MaiorMenorValores(jogadas):\n",
        "    maior = max(jogadas)\n",
        "    menor = min(jogadas)\n",
        "    return (maior, menor) #retorna uma tupla com os resultados\n",
        "\n",
        "\n",
        "jogadas = gerarJogadas(10) # Gera as jogadas\n",
        "media = CalculaMedia(jogadas) # calcula a média\n",
        "print(type(ContaAcimaAbaixo(jogadas, media)))\n",
        "acima, abaixo = ContaAcimaAbaixo(jogadas, media) #calcula valores acima e abaixo da média\n",
        "maior, menor = MaiorMenorValores(jogadas) #calcula maior e menor valores\n",
        "\n",
        "# Apresenta o resultados para o usuário\n",
        "print(f'Valores dos Lançamentos:{jogadas}')\n",
        "print(f'Média dos Valores:{media:.2f}')\n",
        "print(f'Quantidade de balores acima da média:{acima}')\n",
        "print(f'Quantidade de valores abaixo da média:{abaixo}')\n",
        "print(f'Maior valor:{maior}')\n",
        "print(f'Menor valor:{menor}')\n"
      ]
    }
  ]
}