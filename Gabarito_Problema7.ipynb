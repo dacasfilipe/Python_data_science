{
  "nbformat": 4,
  "nbformat_minor": 0,
  "metadata": {
    "colab": {
      "provenance": []
    },
    "kernelspec": {
      "name": "python3",
      "display_name": "Python 3"
    },
    "language_info": {
      "name": "python"
    }
  },
  "cells": [
    {
      "cell_type": "code",
      "execution_count": 2,
      "metadata": {
        "colab": {
          "base_uri": "https://localhost:8080/"
        },
        "id": "STPYd6tWQ5xB",
        "outputId": "19098298-85c9-4ffe-e1a0-d487d79e5739"
      },
      "outputs": [
        {
          "output_type": "stream",
          "name": "stdout",
          "text": [
            "Números aleatórios: [51, 23, 7, 67, 36, 34, 55, 75, 34, 40, 44, 11, 99, 12, 66]\n",
            "Média:43.60\n",
            "Quadrados da diferença em relação à média:[54.76, 424.36, 1339.56, 547.56, 57.76, 92.16, 129.96, 985.96, 92.16, 12.96, 0.16, 1062.76, 3069.16, 998.56, 501.76]\n"
          ]
        }
      ],
      "source": [
        "import random\n",
        "\n",
        "# Gerar uma lista de 15 números inteiros aleatórios\n",
        "numeros = [random.randint(1, 100) for i in range(15)]\n",
        "\n",
        "# Calcular a média dos números\n",
        "media = sum(numeros) / len(numeros)\n",
        "\n",
        "# Calcular o quadrado da diferença em relação à média\n",
        "quadrados_diferenca = [round((x - media) ** 2,2) for x in numeros]\n",
        "\n",
        "# Imprimir os resultados\n",
        "print(\"Números aleatórios:\", numeros)\n",
        "print(f'Média:{media:.2f}')\n",
        "print(f'Quadrados da diferença em relação à média:{quadrados_diferenca}')"
      ]
    }
  ]
}