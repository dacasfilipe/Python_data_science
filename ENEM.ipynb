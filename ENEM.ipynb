{
  "nbformat": 4,
  "nbformat_minor": 0,
  "metadata": {
    "colab": {
      "provenance": [],
      "include_colab_link": true
    },
    "kernelspec": {
      "name": "python3",
      "display_name": "Python 3"
    }
  },
  "cells": [
    {
      "cell_type": "markdown",
      "metadata": {
        "id": "view-in-github",
        "colab_type": "text"
      },
      "source": [
        "<a href=\"https://colab.research.google.com/github/dacasfilipe/Python_data_science/blob/main/ENEM.ipynb\" target=\"_parent\"><img src=\"https://colab.research.google.com/assets/colab-badge.svg\" alt=\"Open In Colab\"/></a>"
      ]
    },
    {
      "cell_type": "markdown",
      "source": [
        "![image.png](data:image/png;base64,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)"
      ],
      "metadata": {
        "id": "l-nh94uaVN3W"
      }
    },
    {
      "cell_type": "code",
      "source": [
        "from google.colab import drive\n",
        "drive.mount('/content/drive')"
      ],
      "metadata": {
        "colab": {
          "base_uri": "https://localhost:8080/"
        },
        "id": "RXdqWZ6nMQ-C",
        "outputId": "ce1a3f71-0999-4180-fe77-3a8afce2d234"
      },
      "execution_count": null,
      "outputs": [
        {
          "output_type": "stream",
          "name": "stdout",
          "text": [
            "Mounted at /content/drive\n"
          ]
        }
      ]
    },
    {
      "cell_type": "markdown",
      "source": [
        "<h1> Pós-Graduação em Ciência de Dados e Inteligência Artificial </h1>\n",
        "\n",
        "<h1>Unidade Curricular: Estatística Aplicada à Análise de Dados</h1>\n",
        "<h1>Professora: Inara Kellen Fonseca, Me.</h1>\n",
        "\n",
        "\n",
        "\n",
        "# <font color=\"#37BFF0\">Tópico 01 - Estatística Descritiva\n",
        "\n",
        "\n",
        "Este notebook abordará uma aplicação real da Estatística Descritiva utilizando Python.\n"
      ],
      "metadata": {
        "id": "zRbzutO0VnM-"
      }
    },
    {
      "cell_type": "markdown",
      "source": [
        "O DataSet foi extraido do site do [Inep](https://www.gov.br/inep/pt-br/acesso-a-informacao/dados-abertos/microdados/enem) (Instituto Nacional de Estudos e Pesquisas Educacionais Anisio Teixeira) e apresenta dos dados do ENEM do ano de 2022.\n",
        "Uma das tarefas desta atividade será reduzir os dados e salvar o novo dataset reduzido em um arquivo csv para trabalharmos com maior rapidez.\n",
        "\n",
        " <font color='#005DAA'><b> Eu irei trabalhar com as seguintes cores, defina as cores do seu projeto.\n",
        "\n",
        " <font color='#ADE3F8'><b>Escolha as cores do seu projeto.\n",
        "\n",
        " color = '#005DAA' (azul escuro)\n",
        "\n",
        " color = '#ADE3F8' (azul claro)"
      ],
      "metadata": {
        "id": "N90twN7EvXil"
      }
    },
    {
      "cell_type": "markdown",
      "source": [
        "##1) <font color='#005DAA'><b> Importe as bibliotecas que utilizaremos para análise de dados.\n"
      ],
      "metadata": {
        "id": "x0_RSiaxWjAI"
      }
    },
    {
      "cell_type": "markdown",
      "source": [
        "Numpy = biblioteca matemática\n",
        "\n",
        "Pandas para manipulação de dados\n",
        "\n",
        "Matplotlib e Seabor para análise gráfica"
      ],
      "metadata": {
        "id": "1tFANYw5aWTW"
      }
    },
    {
      "cell_type": "code",
      "source": [
        "import numpy as np\n",
        "import pandas as pd\n",
        "import matplotlib.pyplot as plt\n",
        "import seaborn as sns"
      ],
      "metadata": {
        "id": "JE0kCWW-PbfG"
      },
      "execution_count": null,
      "outputs": []
    },
    {
      "cell_type": "markdown",
      "source": [
        "## 2) <font color='#005DAA'><b> Carregue os dados no DRIVE e leia como dataframe usando"
      ],
      "metadata": {
        "id": "APZZTq4NWwhS"
      }
    },
    {
      "cell_type": "markdown",
      "source": [
        "pd.read_csv ('caminho do arquivo no drive', sep=',' **se os campos estiverem separados por vírgula**, enconding = 'tipo de codificação de caracteres'). Neste caso o arquivo \"DADOS_ENEN_2022.csv\" está com os campos separados por ' **;** '.\n",
        "\n",
        "O encoding é usado para que o arquivo reconheça assentos e símbolos (codificação de caracteres).\n",
        "\n",
        "Os mais usados utf-8, latin-1 e iso-8859-1.\n",
        "\n",
        "**Atenção** - Se a demora for grande, vamos fazer dowload apenas do arquivo 'DADOS_ENEM_SC.csv'"
      ],
      "metadata": {
        "id": "5GOjg1ugYwtc"
      }
    },
    {
      "cell_type": "code",
      "source": [
        "# Ler dados do ENEM 2022\n",
        "\n",
        "df = pd.read_csv('/content/drive/MyDrive/DADOS_ENEM_2022.csv',sep =  ';', encoding ='utf-8')\n",
        "\n",
        "\n",
        "\n"
      ],
      "metadata": {
        "id": "q49R6zzph9Bh"
      },
      "execution_count": null,
      "outputs": []
    },
    {
      "cell_type": "code",
      "source": [
        "# Caso demore muito a leitura dos dados do ENEM 2022, leia apenas os dados de SC\n",
        "\n",
        "df_sc = pd.read_csv('/content/drive/MyDrive/DADOS_ENEM_SC.csv',sep = ',', encoding ='utf-8')"
      ],
      "metadata": {
        "id": "M-NjII4GVgbf"
      },
      "execution_count": null,
      "outputs": []
    },
    {
      "cell_type": "markdown",
      "source": [
        "Visualize os dados"
      ],
      "metadata": {
        "id": "MGAfLb7IERdi"
      }
    },
    {
      "cell_type": "code",
      "source": [
        "df.head()"
      ],
      "metadata": {
        "colab": {
          "base_uri": "https://localhost:8080/",
          "height": 299
        },
        "id": "9W2vOP36WRO7",
        "outputId": "7c4f16fa-762d-4e04-f968-706ca6941ba2"
      },
      "execution_count": null,
      "outputs": [
        {
          "output_type": "execute_result",
          "data": {
            "text/plain": [
              "  NU_INSCRICAO  NU_ANO  TP_FAIXA_ETARIA TP_SEXO  TP_ESTADO_CIVIL  TP_COR_RACA  \\\n",
              "0  2,10058E+11    2022               14       M                2            2   \n",
              "1  2,10058E+11    2022               14       M                2            1   \n",
              "2  2,10057E+11    2022                5       F                1            2   \n",
              "3  2,10056E+11    2022                6       M                1            3   \n",
              "4  2,10055E+11    2022                4       M                0            3   \n",
              "\n",
              "   TP_NACIONALIDADE  TP_ST_CONCLUSAO  TP_ANO_CONCLUIU  TP_ESCOLA  ...  Q016  \\\n",
              "0                 1                1                2          1  ...     B   \n",
              "1                 1                1               16          1  ...     E   \n",
              "2                 1                1                2          1  ...     A   \n",
              "3                 1                1                2          1  ...     B   \n",
              "4                 1                1                1          1  ...     A   \n",
              "\n",
              "   Q017  Q018 Q019  Q020 Q021  Q022  Q023  Q024  Q025  \n",
              "0     A     A    A     A    A     A     A     A     A  \n",
              "1     E     B    E     B    B     E     B     E     B  \n",
              "2     A     A    A     A    A     C     A     A     B  \n",
              "3     A     A    C     A    A     C     B     B     B  \n",
              "4     A     A    A     A    A     B     A     A     A  \n",
              "\n",
              "[5 rows x 76 columns]"
            ],
            "text/html": [
              "\n",
              "\n",
              "  <div id=\"df-02b868cb-1868-4147-9fb5-4186bcf0134a\">\n",
              "    <div class=\"colab-df-container\">\n",
              "      <div>\n",
              "<style scoped>\n",
              "    .dataframe tbody tr th:only-of-type {\n",
              "        vertical-align: middle;\n",
              "    }\n",
              "\n",
              "    .dataframe tbody tr th {\n",
              "        vertical-align: top;\n",
              "    }\n",
              "\n",
              "    .dataframe thead th {\n",
              "        text-align: right;\n",
              "    }\n",
              "</style>\n",
              "<table border=\"1\" class=\"dataframe\">\n",
              "  <thead>\n",
              "    <tr style=\"text-align: right;\">\n",
              "      <th></th>\n",
              "      <th>NU_INSCRICAO</th>\n",
              "      <th>NU_ANO</th>\n",
              "      <th>TP_FAIXA_ETARIA</th>\n",
              "      <th>TP_SEXO</th>\n",
              "      <th>TP_ESTADO_CIVIL</th>\n",
              "      <th>TP_COR_RACA</th>\n",
              "      <th>TP_NACIONALIDADE</th>\n",
              "      <th>TP_ST_CONCLUSAO</th>\n",
              "      <th>TP_ANO_CONCLUIU</th>\n",
              "      <th>TP_ESCOLA</th>\n",
              "      <th>...</th>\n",
              "      <th>Q016</th>\n",
              "      <th>Q017</th>\n",
              "      <th>Q018</th>\n",
              "      <th>Q019</th>\n",
              "      <th>Q020</th>\n",
              "      <th>Q021</th>\n",
              "      <th>Q022</th>\n",
              "      <th>Q023</th>\n",
              "      <th>Q024</th>\n",
              "      <th>Q025</th>\n",
              "    </tr>\n",
              "  </thead>\n",
              "  <tbody>\n",
              "    <tr>\n",
              "      <th>0</th>\n",
              "      <td>2,10058E+11</td>\n",
              "      <td>2022</td>\n",
              "      <td>14</td>\n",
              "      <td>M</td>\n",
              "      <td>2</td>\n",
              "      <td>2</td>\n",
              "      <td>1</td>\n",
              "      <td>1</td>\n",
              "      <td>2</td>\n",
              "      <td>1</td>\n",
              "      <td>...</td>\n",
              "      <td>B</td>\n",
              "      <td>A</td>\n",
              "      <td>A</td>\n",
              "      <td>A</td>\n",
              "      <td>A</td>\n",
              "      <td>A</td>\n",
              "      <td>A</td>\n",
              "      <td>A</td>\n",
              "      <td>A</td>\n",
              "      <td>A</td>\n",
              "    </tr>\n",
              "    <tr>\n",
              "      <th>1</th>\n",
              "      <td>2,10058E+11</td>\n",
              "      <td>2022</td>\n",
              "      <td>14</td>\n",
              "      <td>M</td>\n",
              "      <td>2</td>\n",
              "      <td>1</td>\n",
              "      <td>1</td>\n",
              "      <td>1</td>\n",
              "      <td>16</td>\n",
              "      <td>1</td>\n",
              "      <td>...</td>\n",
              "      <td>E</td>\n",
              "      <td>E</td>\n",
              "      <td>B</td>\n",
              "      <td>E</td>\n",
              "      <td>B</td>\n",
              "      <td>B</td>\n",
              "      <td>E</td>\n",
              "      <td>B</td>\n",
              "      <td>E</td>\n",
              "      <td>B</td>\n",
              "    </tr>\n",
              "    <tr>\n",
              "      <th>2</th>\n",
              "      <td>2,10057E+11</td>\n",
              "      <td>2022</td>\n",
              "      <td>5</td>\n",
              "      <td>F</td>\n",
              "      <td>1</td>\n",
              "      <td>2</td>\n",
              "      <td>1</td>\n",
              "      <td>1</td>\n",
              "      <td>2</td>\n",
              "      <td>1</td>\n",
              "      <td>...</td>\n",
              "      <td>A</td>\n",
              "      <td>A</td>\n",
              "      <td>A</td>\n",
              "      <td>A</td>\n",
              "      <td>A</td>\n",
              "      <td>A</td>\n",
              "      <td>C</td>\n",
              "      <td>A</td>\n",
              "      <td>A</td>\n",
              "      <td>B</td>\n",
              "    </tr>\n",
              "    <tr>\n",
              "      <th>3</th>\n",
              "      <td>2,10056E+11</td>\n",
              "      <td>2022</td>\n",
              "      <td>6</td>\n",
              "      <td>M</td>\n",
              "      <td>1</td>\n",
              "      <td>3</td>\n",
              "      <td>1</td>\n",
              "      <td>1</td>\n",
              "      <td>2</td>\n",
              "      <td>1</td>\n",
              "      <td>...</td>\n",
              "      <td>B</td>\n",
              "      <td>A</td>\n",
              "      <td>A</td>\n",
              "      <td>C</td>\n",
              "      <td>A</td>\n",
              "      <td>A</td>\n",
              "      <td>C</td>\n",
              "      <td>B</td>\n",
              "      <td>B</td>\n",
              "      <td>B</td>\n",
              "    </tr>\n",
              "    <tr>\n",
              "      <th>4</th>\n",
              "      <td>2,10055E+11</td>\n",
              "      <td>2022</td>\n",
              "      <td>4</td>\n",
              "      <td>M</td>\n",
              "      <td>0</td>\n",
              "      <td>3</td>\n",
              "      <td>1</td>\n",
              "      <td>1</td>\n",
              "      <td>1</td>\n",
              "      <td>1</td>\n",
              "      <td>...</td>\n",
              "      <td>A</td>\n",
              "      <td>A</td>\n",
              "      <td>A</td>\n",
              "      <td>A</td>\n",
              "      <td>A</td>\n",
              "      <td>A</td>\n",
              "      <td>B</td>\n",
              "      <td>A</td>\n",
              "      <td>A</td>\n",
              "      <td>A</td>\n",
              "    </tr>\n",
              "  </tbody>\n",
              "</table>\n",
              "<p>5 rows × 76 columns</p>\n",
              "</div>\n",
              "      <button class=\"colab-df-convert\" onclick=\"convertToInteractive('df-02b868cb-1868-4147-9fb5-4186bcf0134a')\"\n",
              "              title=\"Convert this dataframe to an interactive table.\"\n",
              "              style=\"display:none;\">\n",
              "\n",
              "  <svg xmlns=\"http://www.w3.org/2000/svg\" height=\"24px\"viewBox=\"0 0 24 24\"\n",
              "       width=\"24px\">\n",
              "    <path d=\"M0 0h24v24H0V0z\" fill=\"none\"/>\n",
              "    <path d=\"M18.56 5.44l.94 2.06.94-2.06 2.06-.94-2.06-.94-.94-2.06-.94 2.06-2.06.94zm-11 1L8.5 8.5l.94-2.06 2.06-.94-2.06-.94L8.5 2.5l-.94 2.06-2.06.94zm10 10l.94 2.06.94-2.06 2.06-.94-2.06-.94-.94-2.06-.94 2.06-2.06.94z\"/><path d=\"M17.41 7.96l-1.37-1.37c-.4-.4-.92-.59-1.43-.59-.52 0-1.04.2-1.43.59L10.3 9.45l-7.72 7.72c-.78.78-.78 2.05 0 2.83L4 21.41c.39.39.9.59 1.41.59.51 0 1.02-.2 1.41-.59l7.78-7.78 2.81-2.81c.8-.78.8-2.07 0-2.86zM5.41 20L4 18.59l7.72-7.72 1.47 1.35L5.41 20z\"/>\n",
              "  </svg>\n",
              "      </button>\n",
              "\n",
              "\n",
              "\n",
              "    <div id=\"df-2bc051f3-937e-4063-8c6a-fb69d15dac2c\">\n",
              "      <button class=\"colab-df-quickchart\" onclick=\"quickchart('df-2bc051f3-937e-4063-8c6a-fb69d15dac2c')\"\n",
              "              title=\"Suggest charts.\"\n",
              "              style=\"display:none;\">\n",
              "\n",
              "<svg xmlns=\"http://www.w3.org/2000/svg\" height=\"24px\"viewBox=\"0 0 24 24\"\n",
              "     width=\"24px\">\n",
              "    <g>\n",
              "        <path d=\"M19 3H5c-1.1 0-2 .9-2 2v14c0 1.1.9 2 2 2h14c1.1 0 2-.9 2-2V5c0-1.1-.9-2-2-2zM9 17H7v-7h2v7zm4 0h-2V7h2v10zm4 0h-2v-4h2v4z\"/>\n",
              "    </g>\n",
              "</svg>\n",
              "      </button>\n",
              "    </div>\n",
              "\n",
              "<style>\n",
              "  .colab-df-quickchart {\n",
              "    background-color: #E8F0FE;\n",
              "    border: none;\n",
              "    border-radius: 50%;\n",
              "    cursor: pointer;\n",
              "    display: none;\n",
              "    fill: #1967D2;\n",
              "    height: 32px;\n",
              "    padding: 0 0 0 0;\n",
              "    width: 32px;\n",
              "  }\n",
              "\n",
              "  .colab-df-quickchart:hover {\n",
              "    background-color: #E2EBFA;\n",
              "    box-shadow: 0px 1px 2px rgba(60, 64, 67, 0.3), 0px 1px 3px 1px rgba(60, 64, 67, 0.15);\n",
              "    fill: #174EA6;\n",
              "  }\n",
              "\n",
              "  [theme=dark] .colab-df-quickchart {\n",
              "    background-color: #3B4455;\n",
              "    fill: #D2E3FC;\n",
              "  }\n",
              "\n",
              "  [theme=dark] .colab-df-quickchart:hover {\n",
              "    background-color: #434B5C;\n",
              "    box-shadow: 0px 1px 3px 1px rgba(0, 0, 0, 0.15);\n",
              "    filter: drop-shadow(0px 1px 2px rgba(0, 0, 0, 0.3));\n",
              "    fill: #FFFFFF;\n",
              "  }\n",
              "</style>\n",
              "\n",
              "    <script>\n",
              "      async function quickchart(key) {\n",
              "        const containerElement = document.querySelector('#' + key);\n",
              "        const charts = await google.colab.kernel.invokeFunction(\n",
              "            'suggestCharts', [key], {});\n",
              "      }\n",
              "    </script>\n",
              "\n",
              "      <script>\n",
              "\n",
              "function displayQuickchartButton(domScope) {\n",
              "  let quickchartButtonEl =\n",
              "    domScope.querySelector('#df-2bc051f3-937e-4063-8c6a-fb69d15dac2c button.colab-df-quickchart');\n",
              "  quickchartButtonEl.style.display =\n",
              "    google.colab.kernel.accessAllowed ? 'block' : 'none';\n",
              "}\n",
              "\n",
              "        displayQuickchartButton(document);\n",
              "      </script>\n",
              "      <style>\n",
              "    .colab-df-container {\n",
              "      display:flex;\n",
              "      flex-wrap:wrap;\n",
              "      gap: 12px;\n",
              "    }\n",
              "\n",
              "    .colab-df-convert {\n",
              "      background-color: #E8F0FE;\n",
              "      border: none;\n",
              "      border-radius: 50%;\n",
              "      cursor: pointer;\n",
              "      display: none;\n",
              "      fill: #1967D2;\n",
              "      height: 32px;\n",
              "      padding: 0 0 0 0;\n",
              "      width: 32px;\n",
              "    }\n",
              "\n",
              "    .colab-df-convert:hover {\n",
              "      background-color: #E2EBFA;\n",
              "      box-shadow: 0px 1px 2px rgba(60, 64, 67, 0.3), 0px 1px 3px 1px rgba(60, 64, 67, 0.15);\n",
              "      fill: #174EA6;\n",
              "    }\n",
              "\n",
              "    [theme=dark] .colab-df-convert {\n",
              "      background-color: #3B4455;\n",
              "      fill: #D2E3FC;\n",
              "    }\n",
              "\n",
              "    [theme=dark] .colab-df-convert:hover {\n",
              "      background-color: #434B5C;\n",
              "      box-shadow: 0px 1px 3px 1px rgba(0, 0, 0, 0.15);\n",
              "      filter: drop-shadow(0px 1px 2px rgba(0, 0, 0, 0.3));\n",
              "      fill: #FFFFFF;\n",
              "    }\n",
              "  </style>\n",
              "\n",
              "      <script>\n",
              "        const buttonEl =\n",
              "          document.querySelector('#df-02b868cb-1868-4147-9fb5-4186bcf0134a button.colab-df-convert');\n",
              "        buttonEl.style.display =\n",
              "          google.colab.kernel.accessAllowed ? 'block' : 'none';\n",
              "\n",
              "        async function convertToInteractive(key) {\n",
              "          const element = document.querySelector('#df-02b868cb-1868-4147-9fb5-4186bcf0134a');\n",
              "          const dataTable =\n",
              "            await google.colab.kernel.invokeFunction('convertToInteractive',\n",
              "                                                     [key], {});\n",
              "          if (!dataTable) return;\n",
              "\n",
              "          const docLinkHtml = 'Like what you see? Visit the ' +\n",
              "            '<a target=\"_blank\" href=https://colab.research.google.com/notebooks/data_table.ipynb>data table notebook</a>'\n",
              "            + ' to learn more about interactive tables.';\n",
              "          element.innerHTML = '';\n",
              "          dataTable['output_type'] = 'display_data';\n",
              "          await google.colab.output.renderOutput(dataTable, element);\n",
              "          const docLink = document.createElement('div');\n",
              "          docLink.innerHTML = docLinkHtml;\n",
              "          element.appendChild(docLink);\n",
              "        }\n",
              "      </script>\n",
              "    </div>\n",
              "  </div>\n"
            ]
          },
          "metadata": {},
          "execution_count": 8
        }
      ]
    },
    {
      "cell_type": "code",
      "source": [
        "df_sc.head()"
      ],
      "metadata": {
        "colab": {
          "base_uri": "https://localhost:8080/",
          "height": 317
        },
        "id": "X3Po8x7SW7Gz",
        "outputId": "419de372-1650-4574-8e5d-0cbc8e87f416"
      },
      "execution_count": null,
      "outputs": [
        {
          "output_type": "execute_result",
          "data": {
            "text/plain": [
              "   Unnamed: 0 NU_INSCRICAO  NU_ANO  TP_FAIXA_ETARIA TP_SEXO  TP_ESTADO_CIVIL  \\\n",
              "0         205  2,10056E+11    2022                3       F                0   \n",
              "1         449  2,10055E+11    2022                2       M                1   \n",
              "2         567  2,10055E+11    2022                3       F                1   \n",
              "3         578  2,10057E+11    2022                2       M                1   \n",
              "4         946  2,10055E+11    2022                2       F                1   \n",
              "\n",
              "   TP_COR_RACA  TP_NACIONALIDADE  TP_ST_CONCLUSAO  TP_ANO_CONCLUIU  ...  Q016  \\\n",
              "0            1                 1                2                0  ...     B   \n",
              "1            1                 1                2                0  ...     B   \n",
              "2            1                 1                2                0  ...     B   \n",
              "3            1                 1                2                0  ...     B   \n",
              "4            1                 1                2                0  ...     B   \n",
              "\n",
              "   Q017  Q018  Q019 Q020  Q021 Q022  Q023  Q024  Q025  \n",
              "0     A     B     C    A     A    E     A     B     B  \n",
              "1     A     A     C    B     A    C     A     B     B  \n",
              "2     A     A     B    A     A    D     A     A     B  \n",
              "3     A     B     E    B     B    E     A     E     B  \n",
              "4     A     B     C    B     A    E     A     C     B  \n",
              "\n",
              "[5 rows x 77 columns]"
            ],
            "text/html": [
              "\n",
              "\n",
              "  <div id=\"df-5454cf3c-c8e3-4402-8fdc-4b476dffb573\">\n",
              "    <div class=\"colab-df-container\">\n",
              "      <div>\n",
              "<style scoped>\n",
              "    .dataframe tbody tr th:only-of-type {\n",
              "        vertical-align: middle;\n",
              "    }\n",
              "\n",
              "    .dataframe tbody tr th {\n",
              "        vertical-align: top;\n",
              "    }\n",
              "\n",
              "    .dataframe thead th {\n",
              "        text-align: right;\n",
              "    }\n",
              "</style>\n",
              "<table border=\"1\" class=\"dataframe\">\n",
              "  <thead>\n",
              "    <tr style=\"text-align: right;\">\n",
              "      <th></th>\n",
              "      <th>Unnamed: 0</th>\n",
              "      <th>NU_INSCRICAO</th>\n",
              "      <th>NU_ANO</th>\n",
              "      <th>TP_FAIXA_ETARIA</th>\n",
              "      <th>TP_SEXO</th>\n",
              "      <th>TP_ESTADO_CIVIL</th>\n",
              "      <th>TP_COR_RACA</th>\n",
              "      <th>TP_NACIONALIDADE</th>\n",
              "      <th>TP_ST_CONCLUSAO</th>\n",
              "      <th>TP_ANO_CONCLUIU</th>\n",
              "      <th>...</th>\n",
              "      <th>Q016</th>\n",
              "      <th>Q017</th>\n",
              "      <th>Q018</th>\n",
              "      <th>Q019</th>\n",
              "      <th>Q020</th>\n",
              "      <th>Q021</th>\n",
              "      <th>Q022</th>\n",
              "      <th>Q023</th>\n",
              "      <th>Q024</th>\n",
              "      <th>Q025</th>\n",
              "    </tr>\n",
              "  </thead>\n",
              "  <tbody>\n",
              "    <tr>\n",
              "      <th>0</th>\n",
              "      <td>205</td>\n",
              "      <td>2,10056E+11</td>\n",
              "      <td>2022</td>\n",
              "      <td>3</td>\n",
              "      <td>F</td>\n",
              "      <td>0</td>\n",
              "      <td>1</td>\n",
              "      <td>1</td>\n",
              "      <td>2</td>\n",
              "      <td>0</td>\n",
              "      <td>...</td>\n",
              "      <td>B</td>\n",
              "      <td>A</td>\n",
              "      <td>B</td>\n",
              "      <td>C</td>\n",
              "      <td>A</td>\n",
              "      <td>A</td>\n",
              "      <td>E</td>\n",
              "      <td>A</td>\n",
              "      <td>B</td>\n",
              "      <td>B</td>\n",
              "    </tr>\n",
              "    <tr>\n",
              "      <th>1</th>\n",
              "      <td>449</td>\n",
              "      <td>2,10055E+11</td>\n",
              "      <td>2022</td>\n",
              "      <td>2</td>\n",
              "      <td>M</td>\n",
              "      <td>1</td>\n",
              "      <td>1</td>\n",
              "      <td>1</td>\n",
              "      <td>2</td>\n",
              "      <td>0</td>\n",
              "      <td>...</td>\n",
              "      <td>B</td>\n",
              "      <td>A</td>\n",
              "      <td>A</td>\n",
              "      <td>C</td>\n",
              "      <td>B</td>\n",
              "      <td>A</td>\n",
              "      <td>C</td>\n",
              "      <td>A</td>\n",
              "      <td>B</td>\n",
              "      <td>B</td>\n",
              "    </tr>\n",
              "    <tr>\n",
              "      <th>2</th>\n",
              "      <td>567</td>\n",
              "      <td>2,10055E+11</td>\n",
              "      <td>2022</td>\n",
              "      <td>3</td>\n",
              "      <td>F</td>\n",
              "      <td>1</td>\n",
              "      <td>1</td>\n",
              "      <td>1</td>\n",
              "      <td>2</td>\n",
              "      <td>0</td>\n",
              "      <td>...</td>\n",
              "      <td>B</td>\n",
              "      <td>A</td>\n",
              "      <td>A</td>\n",
              "      <td>B</td>\n",
              "      <td>A</td>\n",
              "      <td>A</td>\n",
              "      <td>D</td>\n",
              "      <td>A</td>\n",
              "      <td>A</td>\n",
              "      <td>B</td>\n",
              "    </tr>\n",
              "    <tr>\n",
              "      <th>3</th>\n",
              "      <td>578</td>\n",
              "      <td>2,10057E+11</td>\n",
              "      <td>2022</td>\n",
              "      <td>2</td>\n",
              "      <td>M</td>\n",
              "      <td>1</td>\n",
              "      <td>1</td>\n",
              "      <td>1</td>\n",
              "      <td>2</td>\n",
              "      <td>0</td>\n",
              "      <td>...</td>\n",
              "      <td>B</td>\n",
              "      <td>A</td>\n",
              "      <td>B</td>\n",
              "      <td>E</td>\n",
              "      <td>B</td>\n",
              "      <td>B</td>\n",
              "      <td>E</td>\n",
              "      <td>A</td>\n",
              "      <td>E</td>\n",
              "      <td>B</td>\n",
              "    </tr>\n",
              "    <tr>\n",
              "      <th>4</th>\n",
              "      <td>946</td>\n",
              "      <td>2,10055E+11</td>\n",
              "      <td>2022</td>\n",
              "      <td>2</td>\n",
              "      <td>F</td>\n",
              "      <td>1</td>\n",
              "      <td>1</td>\n",
              "      <td>1</td>\n",
              "      <td>2</td>\n",
              "      <td>0</td>\n",
              "      <td>...</td>\n",
              "      <td>B</td>\n",
              "      <td>A</td>\n",
              "      <td>B</td>\n",
              "      <td>C</td>\n",
              "      <td>B</td>\n",
              "      <td>A</td>\n",
              "      <td>E</td>\n",
              "      <td>A</td>\n",
              "      <td>C</td>\n",
              "      <td>B</td>\n",
              "    </tr>\n",
              "  </tbody>\n",
              "</table>\n",
              "<p>5 rows × 77 columns</p>\n",
              "</div>\n",
              "      <button class=\"colab-df-convert\" onclick=\"convertToInteractive('df-5454cf3c-c8e3-4402-8fdc-4b476dffb573')\"\n",
              "              title=\"Convert this dataframe to an interactive table.\"\n",
              "              style=\"display:none;\">\n",
              "\n",
              "  <svg xmlns=\"http://www.w3.org/2000/svg\" height=\"24px\"viewBox=\"0 0 24 24\"\n",
              "       width=\"24px\">\n",
              "    <path d=\"M0 0h24v24H0V0z\" fill=\"none\"/>\n",
              "    <path d=\"M18.56 5.44l.94 2.06.94-2.06 2.06-.94-2.06-.94-.94-2.06-.94 2.06-2.06.94zm-11 1L8.5 8.5l.94-2.06 2.06-.94-2.06-.94L8.5 2.5l-.94 2.06-2.06.94zm10 10l.94 2.06.94-2.06 2.06-.94-2.06-.94-.94-2.06-.94 2.06-2.06.94z\"/><path d=\"M17.41 7.96l-1.37-1.37c-.4-.4-.92-.59-1.43-.59-.52 0-1.04.2-1.43.59L10.3 9.45l-7.72 7.72c-.78.78-.78 2.05 0 2.83L4 21.41c.39.39.9.59 1.41.59.51 0 1.02-.2 1.41-.59l7.78-7.78 2.81-2.81c.8-.78.8-2.07 0-2.86zM5.41 20L4 18.59l7.72-7.72 1.47 1.35L5.41 20z\"/>\n",
              "  </svg>\n",
              "      </button>\n",
              "\n",
              "\n",
              "\n",
              "    <div id=\"df-ee0d554f-c281-4fb8-bb5a-659a40ff6b77\">\n",
              "      <button class=\"colab-df-quickchart\" onclick=\"quickchart('df-ee0d554f-c281-4fb8-bb5a-659a40ff6b77')\"\n",
              "              title=\"Suggest charts.\"\n",
              "              style=\"display:none;\">\n",
              "\n",
              "<svg xmlns=\"http://www.w3.org/2000/svg\" height=\"24px\"viewBox=\"0 0 24 24\"\n",
              "     width=\"24px\">\n",
              "    <g>\n",
              "        <path d=\"M19 3H5c-1.1 0-2 .9-2 2v14c0 1.1.9 2 2 2h14c1.1 0 2-.9 2-2V5c0-1.1-.9-2-2-2zM9 17H7v-7h2v7zm4 0h-2V7h2v10zm4 0h-2v-4h2v4z\"/>\n",
              "    </g>\n",
              "</svg>\n",
              "      </button>\n",
              "    </div>\n",
              "\n",
              "<style>\n",
              "  .colab-df-quickchart {\n",
              "    background-color: #E8F0FE;\n",
              "    border: none;\n",
              "    border-radius: 50%;\n",
              "    cursor: pointer;\n",
              "    display: none;\n",
              "    fill: #1967D2;\n",
              "    height: 32px;\n",
              "    padding: 0 0 0 0;\n",
              "    width: 32px;\n",
              "  }\n",
              "\n",
              "  .colab-df-quickchart:hover {\n",
              "    background-color: #E2EBFA;\n",
              "    box-shadow: 0px 1px 2px rgba(60, 64, 67, 0.3), 0px 1px 3px 1px rgba(60, 64, 67, 0.15);\n",
              "    fill: #174EA6;\n",
              "  }\n",
              "\n",
              "  [theme=dark] .colab-df-quickchart {\n",
              "    background-color: #3B4455;\n",
              "    fill: #D2E3FC;\n",
              "  }\n",
              "\n",
              "  [theme=dark] .colab-df-quickchart:hover {\n",
              "    background-color: #434B5C;\n",
              "    box-shadow: 0px 1px 3px 1px rgba(0, 0, 0, 0.15);\n",
              "    filter: drop-shadow(0px 1px 2px rgba(0, 0, 0, 0.3));\n",
              "    fill: #FFFFFF;\n",
              "  }\n",
              "</style>\n",
              "\n",
              "    <script>\n",
              "      async function quickchart(key) {\n",
              "        const containerElement = document.querySelector('#' + key);\n",
              "        const charts = await google.colab.kernel.invokeFunction(\n",
              "            'suggestCharts', [key], {});\n",
              "      }\n",
              "    </script>\n",
              "\n",
              "      <script>\n",
              "\n",
              "function displayQuickchartButton(domScope) {\n",
              "  let quickchartButtonEl =\n",
              "    domScope.querySelector('#df-ee0d554f-c281-4fb8-bb5a-659a40ff6b77 button.colab-df-quickchart');\n",
              "  quickchartButtonEl.style.display =\n",
              "    google.colab.kernel.accessAllowed ? 'block' : 'none';\n",
              "}\n",
              "\n",
              "        displayQuickchartButton(document);\n",
              "      </script>\n",
              "      <style>\n",
              "    .colab-df-container {\n",
              "      display:flex;\n",
              "      flex-wrap:wrap;\n",
              "      gap: 12px;\n",
              "    }\n",
              "\n",
              "    .colab-df-convert {\n",
              "      background-color: #E8F0FE;\n",
              "      border: none;\n",
              "      border-radius: 50%;\n",
              "      cursor: pointer;\n",
              "      display: none;\n",
              "      fill: #1967D2;\n",
              "      height: 32px;\n",
              "      padding: 0 0 0 0;\n",
              "      width: 32px;\n",
              "    }\n",
              "\n",
              "    .colab-df-convert:hover {\n",
              "      background-color: #E2EBFA;\n",
              "      box-shadow: 0px 1px 2px rgba(60, 64, 67, 0.3), 0px 1px 3px 1px rgba(60, 64, 67, 0.15);\n",
              "      fill: #174EA6;\n",
              "    }\n",
              "\n",
              "    [theme=dark] .colab-df-convert {\n",
              "      background-color: #3B4455;\n",
              "      fill: #D2E3FC;\n",
              "    }\n",
              "\n",
              "    [theme=dark] .colab-df-convert:hover {\n",
              "      background-color: #434B5C;\n",
              "      box-shadow: 0px 1px 3px 1px rgba(0, 0, 0, 0.15);\n",
              "      filter: drop-shadow(0px 1px 2px rgba(0, 0, 0, 0.3));\n",
              "      fill: #FFFFFF;\n",
              "    }\n",
              "  </style>\n",
              "\n",
              "      <script>\n",
              "        const buttonEl =\n",
              "          document.querySelector('#df-5454cf3c-c8e3-4402-8fdc-4b476dffb573 button.colab-df-convert');\n",
              "        buttonEl.style.display =\n",
              "          google.colab.kernel.accessAllowed ? 'block' : 'none';\n",
              "\n",
              "        async function convertToInteractive(key) {\n",
              "          const element = document.querySelector('#df-5454cf3c-c8e3-4402-8fdc-4b476dffb573');\n",
              "          const dataTable =\n",
              "            await google.colab.kernel.invokeFunction('convertToInteractive',\n",
              "                                                     [key], {});\n",
              "          if (!dataTable) return;\n",
              "\n",
              "          const docLinkHtml = 'Like what you see? Visit the ' +\n",
              "            '<a target=\"_blank\" href=https://colab.research.google.com/notebooks/data_table.ipynb>data table notebook</a>'\n",
              "            + ' to learn more about interactive tables.';\n",
              "          element.innerHTML = '';\n",
              "          dataTable['output_type'] = 'display_data';\n",
              "          await google.colab.output.renderOutput(dataTable, element);\n",
              "          const docLink = document.createElement('div');\n",
              "          docLink.innerHTML = docLinkHtml;\n",
              "          element.appendChild(docLink);\n",
              "        }\n",
              "      </script>\n",
              "    </div>\n",
              "  </div>\n"
            ]
          },
          "metadata": {},
          "execution_count": 12
        }
      ]
    },
    {
      "cell_type": "markdown",
      "source": [
        "Verifique as dimensões dos dados."
      ],
      "metadata": {
        "id": "of78jz3CG5DD"
      }
    },
    {
      "cell_type": "code",
      "source": [
        "df_sc.shape"
      ],
      "metadata": {
        "colab": {
          "base_uri": "https://localhost:8080/"
        },
        "id": "T-l-JAmHWWiD",
        "outputId": "d5d0ec89-39ea-48d3-c965-4c4d046dd6dd"
      },
      "execution_count": null,
      "outputs": [
        {
          "output_type": "execute_result",
          "data": {
            "text/plain": [
              "(4966, 77)"
            ]
          },
          "metadata": {},
          "execution_count": 13
        }
      ]
    },
    {
      "cell_type": "markdown",
      "source": [
        "## 3) <font color='#005DAA'><b> Verifique o total de dados do Estado de Santa Catarina e escreva aqui."
      ],
      "metadata": {
        "id": "oUmD5r3cxO4_"
      }
    },
    {
      "cell_type": "code",
      "source": [
        "df_sc.SG_UF_ESC.value_counts()"
      ],
      "metadata": {
        "colab": {
          "base_uri": "https://localhost:8080/"
        },
        "id": "lmGn_XWUVkHW",
        "outputId": "4fb3764b-7228-4563-c5f1-8ac7ca939a18"
      },
      "execution_count": null,
      "outputs": [
        {
          "output_type": "execute_result",
          "data": {
            "text/plain": [
              "SC    4966\n",
              "Name: SG_UF_ESC, dtype: int64"
            ]
          },
          "metadata": {},
          "execution_count": 14
        }
      ]
    },
    {
      "cell_type": "markdown",
      "source": [
        "Dica: use value.counts() parara a variável SG_UF_ESC (Sigla da UF da Escola do Aluno)\n",
        "\n",
        "n ="
      ],
      "metadata": {
        "id": "9ypANce_y1AD"
      }
    },
    {
      "cell_type": "markdown",
      "source": [
        "## 4) <font color='red'><b> Fazer a questão 5 apenas se conseguir fazer upload do arquivo DADOS_ENEM_2022."
      ],
      "metadata": {
        "id": "tNWWvdvOWjn6"
      }
    },
    {
      "cell_type": "markdown",
      "source": [
        "## 5) <font color='#005DAA'><b> Em um dataframe novo, com o nome de df_SC, vamos selecionar os dados com SG_UF_ESC = SC, ou seja, apenas os dados de alunos de Santa Catarina e exportar estes dados, em formato csv para o drive com o nome DADOS_ENEM_SC.csv"
      ],
      "metadata": {
        "id": "_08uBfvnzGr_"
      }
    },
    {
      "cell_type": "markdown",
      "source": [
        "Dicas: para exportar o novo dataframe use df_sc.to_csv('caminho do drive/DADOS_ENEM_SC.csv', index = False).\n",
        "\n",
        "o parâmetro **index=False** indica que o índice do DataFrame não deve ser incluído no arquivo CSV resultante. Usado em situações em que o índice do DataFrame não é relevante para a análise ou não deve ser preservado no arquivo de saída. Ao definir index=False, você tem mais controle sobre a estrutura do arquivo CSV gerado."
      ],
      "metadata": {
        "id": "wBYbD6W70ge9"
      }
    },
    {
      "cell_type": "code",
      "source": [
        "# Selecionar apenas os dados com SG_UF_ES = SC\n",
        "\n",
        "df_sc = df[df['SG_UF_ESC'] == 'SC']"
      ],
      "metadata": {
        "id": "z_bdlRVnzwsl"
      },
      "execution_count": null,
      "outputs": []
    },
    {
      "cell_type": "code",
      "source": [
        "# Exportar os dados selecionados para um arquivo CSV , dentro do DRIVE, com o nome DADOS_ENEM_SC ou DADOS_SC.\n",
        "\n",
        "df_sc.to_csv('/content/drive/MyDrive/DADOS_ENEM_SC.csv',)\n"
      ],
      "metadata": {
        "id": "zaaBVvelw8QZ",
        "colab": {
          "base_uri": "https://localhost:8080/"
        },
        "outputId": "b23423e2-a73a-4441-c7a6-214365b7fbd0"
      },
      "execution_count": null,
      "outputs": [
        {
          "output_type": "execute_result",
          "data": {
            "text/plain": [
              "(4966, 76)"
            ]
          },
          "metadata": {},
          "execution_count": 23
        }
      ]
    },
    {
      "cell_type": "markdown",
      "source": [
        "**Depois de rodar a exportação, não se esqueça de atualizar o Drive e visualizar o novo arquivo.**"
      ],
      "metadata": {
        "id": "8Ch4ijmvEtaf"
      }
    },
    {
      "cell_type": "markdown",
      "source": [
        "## 6) <font color='#005DAA'><b> Visualize os dados de SC. n = ?"
      ],
      "metadata": {
        "id": "ryza0B5i1gDx"
      }
    },
    {
      "cell_type": "code",
      "source": [
        "df_sc.head()"
      ],
      "metadata": {
        "colab": {
          "base_uri": "https://localhost:8080/",
          "height": 299
        },
        "id": "E6RwsWGbVzcn",
        "outputId": "e938a184-712a-4176-df7a-d25beead86b1"
      },
      "execution_count": null,
      "outputs": [
        {
          "output_type": "execute_result",
          "data": {
            "text/plain": [
              "    NU_INSCRICAO  NU_ANO  TP_FAIXA_ETARIA TP_SEXO  TP_ESTADO_CIVIL  \\\n",
              "205  2,10056E+11    2022                3       F                0   \n",
              "449  2,10055E+11    2022                2       M                1   \n",
              "567  2,10055E+11    2022                3       F                1   \n",
              "578  2,10057E+11    2022                2       M                1   \n",
              "946  2,10055E+11    2022                2       F                1   \n",
              "\n",
              "     TP_COR_RACA  TP_NACIONALIDADE  TP_ST_CONCLUSAO  TP_ANO_CONCLUIU  \\\n",
              "205            1                 1                2                0   \n",
              "449            1                 1                2                0   \n",
              "567            1                 1                2                0   \n",
              "578            1                 1                2                0   \n",
              "946            1                 1                2                0   \n",
              "\n",
              "     TP_ESCOLA  ...  Q016  Q017  Q018 Q019  Q020 Q021  Q022  Q023  Q024  Q025  \n",
              "205          2  ...     B     A     B    C     A    A     E     A     B     B  \n",
              "449          2  ...     B     A     A    C     B    A     C     A     B     B  \n",
              "567          2  ...     B     A     A    B     A    A     D     A     A     B  \n",
              "578          3  ...     B     A     B    E     B    B     E     A     E     B  \n",
              "946          2  ...     B     A     B    C     B    A     E     A     C     B  \n",
              "\n",
              "[5 rows x 76 columns]"
            ],
            "text/html": [
              "\n",
              "\n",
              "  <div id=\"df-04f72761-559e-4cba-9c95-3cfaf33f512e\">\n",
              "    <div class=\"colab-df-container\">\n",
              "      <div>\n",
              "<style scoped>\n",
              "    .dataframe tbody tr th:only-of-type {\n",
              "        vertical-align: middle;\n",
              "    }\n",
              "\n",
              "    .dataframe tbody tr th {\n",
              "        vertical-align: top;\n",
              "    }\n",
              "\n",
              "    .dataframe thead th {\n",
              "        text-align: right;\n",
              "    }\n",
              "</style>\n",
              "<table border=\"1\" class=\"dataframe\">\n",
              "  <thead>\n",
              "    <tr style=\"text-align: right;\">\n",
              "      <th></th>\n",
              "      <th>NU_INSCRICAO</th>\n",
              "      <th>NU_ANO</th>\n",
              "      <th>TP_FAIXA_ETARIA</th>\n",
              "      <th>TP_SEXO</th>\n",
              "      <th>TP_ESTADO_CIVIL</th>\n",
              "      <th>TP_COR_RACA</th>\n",
              "      <th>TP_NACIONALIDADE</th>\n",
              "      <th>TP_ST_CONCLUSAO</th>\n",
              "      <th>TP_ANO_CONCLUIU</th>\n",
              "      <th>TP_ESCOLA</th>\n",
              "      <th>...</th>\n",
              "      <th>Q016</th>\n",
              "      <th>Q017</th>\n",
              "      <th>Q018</th>\n",
              "      <th>Q019</th>\n",
              "      <th>Q020</th>\n",
              "      <th>Q021</th>\n",
              "      <th>Q022</th>\n",
              "      <th>Q023</th>\n",
              "      <th>Q024</th>\n",
              "      <th>Q025</th>\n",
              "    </tr>\n",
              "  </thead>\n",
              "  <tbody>\n",
              "    <tr>\n",
              "      <th>205</th>\n",
              "      <td>2,10056E+11</td>\n",
              "      <td>2022</td>\n",
              "      <td>3</td>\n",
              "      <td>F</td>\n",
              "      <td>0</td>\n",
              "      <td>1</td>\n",
              "      <td>1</td>\n",
              "      <td>2</td>\n",
              "      <td>0</td>\n",
              "      <td>2</td>\n",
              "      <td>...</td>\n",
              "      <td>B</td>\n",
              "      <td>A</td>\n",
              "      <td>B</td>\n",
              "      <td>C</td>\n",
              "      <td>A</td>\n",
              "      <td>A</td>\n",
              "      <td>E</td>\n",
              "      <td>A</td>\n",
              "      <td>B</td>\n",
              "      <td>B</td>\n",
              "    </tr>\n",
              "    <tr>\n",
              "      <th>449</th>\n",
              "      <td>2,10055E+11</td>\n",
              "      <td>2022</td>\n",
              "      <td>2</td>\n",
              "      <td>M</td>\n",
              "      <td>1</td>\n",
              "      <td>1</td>\n",
              "      <td>1</td>\n",
              "      <td>2</td>\n",
              "      <td>0</td>\n",
              "      <td>2</td>\n",
              "      <td>...</td>\n",
              "      <td>B</td>\n",
              "      <td>A</td>\n",
              "      <td>A</td>\n",
              "      <td>C</td>\n",
              "      <td>B</td>\n",
              "      <td>A</td>\n",
              "      <td>C</td>\n",
              "      <td>A</td>\n",
              "      <td>B</td>\n",
              "      <td>B</td>\n",
              "    </tr>\n",
              "    <tr>\n",
              "      <th>567</th>\n",
              "      <td>2,10055E+11</td>\n",
              "      <td>2022</td>\n",
              "      <td>3</td>\n",
              "      <td>F</td>\n",
              "      <td>1</td>\n",
              "      <td>1</td>\n",
              "      <td>1</td>\n",
              "      <td>2</td>\n",
              "      <td>0</td>\n",
              "      <td>2</td>\n",
              "      <td>...</td>\n",
              "      <td>B</td>\n",
              "      <td>A</td>\n",
              "      <td>A</td>\n",
              "      <td>B</td>\n",
              "      <td>A</td>\n",
              "      <td>A</td>\n",
              "      <td>D</td>\n",
              "      <td>A</td>\n",
              "      <td>A</td>\n",
              "      <td>B</td>\n",
              "    </tr>\n",
              "    <tr>\n",
              "      <th>578</th>\n",
              "      <td>2,10057E+11</td>\n",
              "      <td>2022</td>\n",
              "      <td>2</td>\n",
              "      <td>M</td>\n",
              "      <td>1</td>\n",
              "      <td>1</td>\n",
              "      <td>1</td>\n",
              "      <td>2</td>\n",
              "      <td>0</td>\n",
              "      <td>3</td>\n",
              "      <td>...</td>\n",
              "      <td>B</td>\n",
              "      <td>A</td>\n",
              "      <td>B</td>\n",
              "      <td>E</td>\n",
              "      <td>B</td>\n",
              "      <td>B</td>\n",
              "      <td>E</td>\n",
              "      <td>A</td>\n",
              "      <td>E</td>\n",
              "      <td>B</td>\n",
              "    </tr>\n",
              "    <tr>\n",
              "      <th>946</th>\n",
              "      <td>2,10055E+11</td>\n",
              "      <td>2022</td>\n",
              "      <td>2</td>\n",
              "      <td>F</td>\n",
              "      <td>1</td>\n",
              "      <td>1</td>\n",
              "      <td>1</td>\n",
              "      <td>2</td>\n",
              "      <td>0</td>\n",
              "      <td>2</td>\n",
              "      <td>...</td>\n",
              "      <td>B</td>\n",
              "      <td>A</td>\n",
              "      <td>B</td>\n",
              "      <td>C</td>\n",
              "      <td>B</td>\n",
              "      <td>A</td>\n",
              "      <td>E</td>\n",
              "      <td>A</td>\n",
              "      <td>C</td>\n",
              "      <td>B</td>\n",
              "    </tr>\n",
              "  </tbody>\n",
              "</table>\n",
              "<p>5 rows × 76 columns</p>\n",
              "</div>\n",
              "      <button class=\"colab-df-convert\" onclick=\"convertToInteractive('df-04f72761-559e-4cba-9c95-3cfaf33f512e')\"\n",
              "              title=\"Convert this dataframe to an interactive table.\"\n",
              "              style=\"display:none;\">\n",
              "\n",
              "  <svg xmlns=\"http://www.w3.org/2000/svg\" height=\"24px\"viewBox=\"0 0 24 24\"\n",
              "       width=\"24px\">\n",
              "    <path d=\"M0 0h24v24H0V0z\" fill=\"none\"/>\n",
              "    <path d=\"M18.56 5.44l.94 2.06.94-2.06 2.06-.94-2.06-.94-.94-2.06-.94 2.06-2.06.94zm-11 1L8.5 8.5l.94-2.06 2.06-.94-2.06-.94L8.5 2.5l-.94 2.06-2.06.94zm10 10l.94 2.06.94-2.06 2.06-.94-2.06-.94-.94-2.06-.94 2.06-2.06.94z\"/><path d=\"M17.41 7.96l-1.37-1.37c-.4-.4-.92-.59-1.43-.59-.52 0-1.04.2-1.43.59L10.3 9.45l-7.72 7.72c-.78.78-.78 2.05 0 2.83L4 21.41c.39.39.9.59 1.41.59.51 0 1.02-.2 1.41-.59l7.78-7.78 2.81-2.81c.8-.78.8-2.07 0-2.86zM5.41 20L4 18.59l7.72-7.72 1.47 1.35L5.41 20z\"/>\n",
              "  </svg>\n",
              "      </button>\n",
              "\n",
              "\n",
              "\n",
              "    <div id=\"df-05786967-626e-4a69-8af9-b5a6d7da88b0\">\n",
              "      <button class=\"colab-df-quickchart\" onclick=\"quickchart('df-05786967-626e-4a69-8af9-b5a6d7da88b0')\"\n",
              "              title=\"Suggest charts.\"\n",
              "              style=\"display:none;\">\n",
              "\n",
              "<svg xmlns=\"http://www.w3.org/2000/svg\" height=\"24px\"viewBox=\"0 0 24 24\"\n",
              "     width=\"24px\">\n",
              "    <g>\n",
              "        <path d=\"M19 3H5c-1.1 0-2 .9-2 2v14c0 1.1.9 2 2 2h14c1.1 0 2-.9 2-2V5c0-1.1-.9-2-2-2zM9 17H7v-7h2v7zm4 0h-2V7h2v10zm4 0h-2v-4h2v4z\"/>\n",
              "    </g>\n",
              "</svg>\n",
              "      </button>\n",
              "    </div>\n",
              "\n",
              "<style>\n",
              "  .colab-df-quickchart {\n",
              "    background-color: #E8F0FE;\n",
              "    border: none;\n",
              "    border-radius: 50%;\n",
              "    cursor: pointer;\n",
              "    display: none;\n",
              "    fill: #1967D2;\n",
              "    height: 32px;\n",
              "    padding: 0 0 0 0;\n",
              "    width: 32px;\n",
              "  }\n",
              "\n",
              "  .colab-df-quickchart:hover {\n",
              "    background-color: #E2EBFA;\n",
              "    box-shadow: 0px 1px 2px rgba(60, 64, 67, 0.3), 0px 1px 3px 1px rgba(60, 64, 67, 0.15);\n",
              "    fill: #174EA6;\n",
              "  }\n",
              "\n",
              "  [theme=dark] .colab-df-quickchart {\n",
              "    background-color: #3B4455;\n",
              "    fill: #D2E3FC;\n",
              "  }\n",
              "\n",
              "  [theme=dark] .colab-df-quickchart:hover {\n",
              "    background-color: #434B5C;\n",
              "    box-shadow: 0px 1px 3px 1px rgba(0, 0, 0, 0.15);\n",
              "    filter: drop-shadow(0px 1px 2px rgba(0, 0, 0, 0.3));\n",
              "    fill: #FFFFFF;\n",
              "  }\n",
              "</style>\n",
              "\n",
              "    <script>\n",
              "      async function quickchart(key) {\n",
              "        const containerElement = document.querySelector('#' + key);\n",
              "        const charts = await google.colab.kernel.invokeFunction(\n",
              "            'suggestCharts', [key], {});\n",
              "      }\n",
              "    </script>\n",
              "\n",
              "      <script>\n",
              "\n",
              "function displayQuickchartButton(domScope) {\n",
              "  let quickchartButtonEl =\n",
              "    domScope.querySelector('#df-05786967-626e-4a69-8af9-b5a6d7da88b0 button.colab-df-quickchart');\n",
              "  quickchartButtonEl.style.display =\n",
              "    google.colab.kernel.accessAllowed ? 'block' : 'none';\n",
              "}\n",
              "\n",
              "        displayQuickchartButton(document);\n",
              "      </script>\n",
              "      <style>\n",
              "    .colab-df-container {\n",
              "      display:flex;\n",
              "      flex-wrap:wrap;\n",
              "      gap: 12px;\n",
              "    }\n",
              "\n",
              "    .colab-df-convert {\n",
              "      background-color: #E8F0FE;\n",
              "      border: none;\n",
              "      border-radius: 50%;\n",
              "      cursor: pointer;\n",
              "      display: none;\n",
              "      fill: #1967D2;\n",
              "      height: 32px;\n",
              "      padding: 0 0 0 0;\n",
              "      width: 32px;\n",
              "    }\n",
              "\n",
              "    .colab-df-convert:hover {\n",
              "      background-color: #E2EBFA;\n",
              "      box-shadow: 0px 1px 2px rgba(60, 64, 67, 0.3), 0px 1px 3px 1px rgba(60, 64, 67, 0.15);\n",
              "      fill: #174EA6;\n",
              "    }\n",
              "\n",
              "    [theme=dark] .colab-df-convert {\n",
              "      background-color: #3B4455;\n",
              "      fill: #D2E3FC;\n",
              "    }\n",
              "\n",
              "    [theme=dark] .colab-df-convert:hover {\n",
              "      background-color: #434B5C;\n",
              "      box-shadow: 0px 1px 3px 1px rgba(0, 0, 0, 0.15);\n",
              "      filter: drop-shadow(0px 1px 2px rgba(0, 0, 0, 0.3));\n",
              "      fill: #FFFFFF;\n",
              "    }\n",
              "  </style>\n",
              "\n",
              "      <script>\n",
              "        const buttonEl =\n",
              "          document.querySelector('#df-04f72761-559e-4cba-9c95-3cfaf33f512e button.colab-df-convert');\n",
              "        buttonEl.style.display =\n",
              "          google.colab.kernel.accessAllowed ? 'block' : 'none';\n",
              "\n",
              "        async function convertToInteractive(key) {\n",
              "          const element = document.querySelector('#df-04f72761-559e-4cba-9c95-3cfaf33f512e');\n",
              "          const dataTable =\n",
              "            await google.colab.kernel.invokeFunction('convertToInteractive',\n",
              "                                                     [key], {});\n",
              "          if (!dataTable) return;\n",
              "\n",
              "          const docLinkHtml = 'Like what you see? Visit the ' +\n",
              "            '<a target=\"_blank\" href=https://colab.research.google.com/notebooks/data_table.ipynb>data table notebook</a>'\n",
              "            + ' to learn more about interactive tables.';\n",
              "          element.innerHTML = '';\n",
              "          dataTable['output_type'] = 'display_data';\n",
              "          await google.colab.output.renderOutput(dataTable, element);\n",
              "          const docLink = document.createElement('div');\n",
              "          docLink.innerHTML = docLinkHtml;\n",
              "          element.appendChild(docLink);\n",
              "        }\n",
              "      </script>\n",
              "    </div>\n",
              "  </div>\n"
            ]
          },
          "metadata": {},
          "execution_count": 24
        }
      ]
    },
    {
      "cell_type": "markdown",
      "source": [
        "## 7) <font color='#005DAA'><b> Com o atributo \"columns\" verifique as colunas(variáveis) do DataSet e retire aquelas que não serão importantes para a análise.\n",
        "\n",
        "Use o método 'drop' e chame o novo DataSet de df1_SC\n"
      ],
      "metadata": {
        "id": "4Q2RIf4A2CDd"
      }
    },
    {
      "cell_type": "markdown",
      "source": [
        "Exemplos:\n",
        "\n",
        "CO_UF_ESC = CÓDIGO UF DA ESCOLA\n",
        "\n",
        "CO_MUNICIPIO_ESC = CÓDIGO DO MUNICÍPIO DA ESCOLA\n",
        "\n",
        "CO_MUNICIPIO_PROVA = CÓDIGO DO MUNICÍPIO ONDE O ALUNO FEZ A PROVA\n",
        "\n",
        "CO_UF_PROVA = CÓDIGO UF ONDE O ALUNO FEZ A PROVA\n",
        "\n"
      ],
      "metadata": {
        "id": "0hJelUi22a7a"
      }
    },
    {
      "cell_type": "code",
      "source": [
        "df_sc.columns\n"
      ],
      "metadata": {
        "colab": {
          "base_uri": "https://localhost:8080/"
        },
        "id": "aWAmCLyuWJoG",
        "outputId": "05ba78e7-e337-4b2a-fc32-efa1aa58bd75"
      },
      "execution_count": null,
      "outputs": [
        {
          "output_type": "execute_result",
          "data": {
            "text/plain": [
              "Index(['NU_INSCRICAO', 'NU_ANO', 'TP_FAIXA_ETARIA', 'TP_SEXO',\n",
              "       'TP_ESTADO_CIVIL', 'TP_COR_RACA', 'TP_NACIONALIDADE', 'TP_ST_CONCLUSAO',\n",
              "       'TP_ANO_CONCLUIU', 'TP_ESCOLA', 'TP_ENSINO', 'IN_TREINEIRO',\n",
              "       'CO_MUNICIPIO_ESC', 'NO_MUNICIPIO_ESC', 'CO_UF_ESC', 'SG_UF_ESC',\n",
              "       'TP_DEPENDENCIA_ADM_ESC', 'TP_LOCALIZACAO_ESC', 'TP_SIT_FUNC_ESC',\n",
              "       'CO_MUNICIPIO_PROVA', 'NO_MUNICIPIO_PROVA', 'CO_UF_PROVA',\n",
              "       'SG_UF_PROVA', 'TP_PRESENCA_CN', 'TP_PRESENCA_CH', 'TP_PRESENCA_LC',\n",
              "       'TP_PRESENCA_MT', 'CO_PROVA_CN', 'CO_PROVA_CH', 'CO_PROVA_LC',\n",
              "       'CO_PROVA_MT', 'NU_NOTA_CN', 'NU_NOTA_CH', 'NU_NOTA_LC', 'NU_NOTA_MT',\n",
              "       'TX_RESPOSTAS_CN', 'TX_RESPOSTAS_CH', 'TX_RESPOSTAS_LC',\n",
              "       'TX_RESPOSTAS_MT', 'TP_LINGUA', 'TX_GABARITO_CN', 'TX_GABARITO_CH',\n",
              "       'TX_GABARITO_LC', 'TX_GABARITO_MT', 'TP_STATUS_REDACAO',\n",
              "       'NU_NOTA_COMP1', 'NU_NOTA_COMP2', 'NU_NOTA_COMP3', 'NU_NOTA_COMP4',\n",
              "       'NU_NOTA_COMP5', 'NU_NOTA_REDACAO', 'Q001', 'Q002', 'Q003', 'Q004',\n",
              "       'Q005', 'Q006', 'Q007', 'Q008', 'Q009', 'Q010', 'Q011', 'Q012', 'Q013',\n",
              "       'Q014', 'Q015', 'Q016', 'Q017', 'Q018', 'Q019', 'Q020', 'Q021', 'Q022',\n",
              "       'Q023', 'Q024', 'Q025'],\n",
              "      dtype='object')"
            ]
          },
          "metadata": {},
          "execution_count": 26
        }
      ]
    },
    {
      "cell_type": "markdown",
      "source": [
        "Crie \"df1_SC\" para fazer a exclusão das colunas e use a função drop.\n",
        "\n",
        "Visualize apenas as colunas do novo DataSet sem as variáveis.\n",
        "\n",
        "Exemplo df.drop(columns = ['variável1','variável2']), caso fossem 2 variáveis excluídas."
      ],
      "metadata": {
        "id": "flhy2fVy6gXM"
      }
    },
    {
      "cell_type": "code",
      "source": [
        "df1_sc = df_sc.drop(columns = ['CO_UF_ESC','CO_MUNICIPIO_ESC','CO_MUNICIPIO_PROVA','CO_UF_PROVA'] )"
      ],
      "metadata": {
        "id": "lXdxoFaMXMJx"
      },
      "execution_count": null,
      "outputs": []
    },
    {
      "cell_type": "markdown",
      "source": [
        "## 8) <font color='#005DAA'><b> Verifique o tipo de cada variável no novo dataset df1_sc"
      ],
      "metadata": {
        "id": "l9udhh7mb89u"
      }
    },
    {
      "cell_type": "markdown",
      "source": [
        "Conhecendo o Data Set. As notas das provas individuais pode variar de 0 a 1000. As provas são de:\n",
        "\n",
        "CN - Ciências Naturais\n",
        "\n",
        "CH - Ciências Humanas\n",
        "\n",
        "LC - Linguagens e Códigos\n",
        "\n",
        "MT - Matemática e\n",
        "\n",
        "REDACA0"
      ],
      "metadata": {
        "id": "Z-kATl2d9Mw1"
      }
    },
    {
      "cell_type": "code",
      "source": [
        "df1_sc.columns\n",
        "\n",
        "df1_sc.info()"
      ],
      "metadata": {
        "colab": {
          "base_uri": "https://localhost:8080/"
        },
        "id": "3cV6GqcrXmM3",
        "outputId": "39dfffb9-21d9-4698-fd19-b4bdae5f99a4"
      },
      "execution_count": null,
      "outputs": [
        {
          "output_type": "stream",
          "name": "stdout",
          "text": [
            "<class 'pandas.core.frame.DataFrame'>\n",
            "Int64Index: 4966 entries, 205 to 709790\n",
            "Data columns (total 72 columns):\n",
            " #   Column                  Non-Null Count  Dtype  \n",
            "---  ------                  --------------  -----  \n",
            " 0   NU_INSCRICAO            4966 non-null   object \n",
            " 1   NU_ANO                  4966 non-null   int64  \n",
            " 2   TP_FAIXA_ETARIA         4966 non-null   int64  \n",
            " 3   TP_SEXO                 4966 non-null   object \n",
            " 4   TP_ESTADO_CIVIL         4966 non-null   int64  \n",
            " 5   TP_COR_RACA             4966 non-null   int64  \n",
            " 6   TP_NACIONALIDADE        4966 non-null   int64  \n",
            " 7   TP_ST_CONCLUSAO         4966 non-null   int64  \n",
            " 8   TP_ANO_CONCLUIU         4966 non-null   int64  \n",
            " 9   TP_ESCOLA               4966 non-null   int64  \n",
            " 10  TP_ENSINO               4906 non-null   float64\n",
            " 11  IN_TREINEIRO            4966 non-null   int64  \n",
            " 12  NO_MUNICIPIO_ESC        4966 non-null   object \n",
            " 13  SG_UF_ESC               4966 non-null   object \n",
            " 14  TP_DEPENDENCIA_ADM_ESC  4966 non-null   float64\n",
            " 15  TP_LOCALIZACAO_ESC      4966 non-null   float64\n",
            " 16  TP_SIT_FUNC_ESC         4966 non-null   float64\n",
            " 17  NO_MUNICIPIO_PROVA      4966 non-null   object \n",
            " 18  SG_UF_PROVA             4966 non-null   object \n",
            " 19  TP_PRESENCA_CN          4966 non-null   int64  \n",
            " 20  TP_PRESENCA_CH          4966 non-null   int64  \n",
            " 21  TP_PRESENCA_LC          4966 non-null   int64  \n",
            " 22  TP_PRESENCA_MT          4966 non-null   int64  \n",
            " 23  CO_PROVA_CN             3894 non-null   float64\n",
            " 24  CO_PROVA_CH             4126 non-null   float64\n",
            " 25  CO_PROVA_LC             4126 non-null   float64\n",
            " 26  CO_PROVA_MT             3894 non-null   float64\n",
            " 27  NU_NOTA_CN              3894 non-null   float64\n",
            " 28  NU_NOTA_CH              4126 non-null   float64\n",
            " 29  NU_NOTA_LC              4126 non-null   float64\n",
            " 30  NU_NOTA_MT              3894 non-null   float64\n",
            " 31  TX_RESPOSTAS_CN         3894 non-null   object \n",
            " 32  TX_RESPOSTAS_CH         4126 non-null   object \n",
            " 33  TX_RESPOSTAS_LC         4126 non-null   object \n",
            " 34  TX_RESPOSTAS_MT         3894 non-null   object \n",
            " 35  TP_LINGUA               4966 non-null   float64\n",
            " 36  TX_GABARITO_CN          3894 non-null   object \n",
            " 37  TX_GABARITO_CH          4126 non-null   object \n",
            " 38  TX_GABARITO_LC          4126 non-null   object \n",
            " 39  TX_GABARITO_MT          3894 non-null   object \n",
            " 40  TP_STATUS_REDACAO       4126 non-null   float64\n",
            " 41  NU_NOTA_COMP1           4126 non-null   float64\n",
            " 42  NU_NOTA_COMP2           4126 non-null   float64\n",
            " 43  NU_NOTA_COMP3           4126 non-null   float64\n",
            " 44  NU_NOTA_COMP4           4126 non-null   float64\n",
            " 45  NU_NOTA_COMP5           4126 non-null   float64\n",
            " 46  NU_NOTA_REDACAO         4126 non-null   float64\n",
            " 47  Q001                    4966 non-null   object \n",
            " 48  Q002                    4966 non-null   object \n",
            " 49  Q003                    4966 non-null   object \n",
            " 50  Q004                    4966 non-null   object \n",
            " 51  Q005                    4966 non-null   float64\n",
            " 52  Q006                    4966 non-null   object \n",
            " 53  Q007                    4966 non-null   object \n",
            " 54  Q008                    4966 non-null   object \n",
            " 55  Q009                    4966 non-null   object \n",
            " 56  Q010                    4966 non-null   object \n",
            " 57  Q011                    4966 non-null   object \n",
            " 58  Q012                    4966 non-null   object \n",
            " 59  Q013                    4966 non-null   object \n",
            " 60  Q014                    4966 non-null   object \n",
            " 61  Q015                    4966 non-null   object \n",
            " 62  Q016                    4966 non-null   object \n",
            " 63  Q017                    4966 non-null   object \n",
            " 64  Q018                    4966 non-null   object \n",
            " 65  Q019                    4966 non-null   object \n",
            " 66  Q020                    4966 non-null   object \n",
            " 67  Q021                    4966 non-null   object \n",
            " 68  Q022                    4966 non-null   object \n",
            " 69  Q023                    4966 non-null   object \n",
            " 70  Q024                    4966 non-null   object \n",
            " 71  Q025                    4966 non-null   object \n",
            "dtypes: float64(21), int64(13), object(38)\n",
            "memory usage: 2.8+ MB\n"
          ]
        }
      ]
    },
    {
      "cell_type": "markdown",
      "source": [
        "---"
      ],
      "metadata": {
        "id": "7C0CBLZDmcwy"
      }
    },
    {
      "cell_type": "markdown",
      "source": [
        "## 9) <font color='#005DAA'><b> Faça uma análise descritiva das notas de Matemática (NU_NOTA_MT)"
      ],
      "metadata": {
        "id": "TdPOZ2bn-URB"
      }
    },
    {
      "cell_type": "code",
      "source": [
        "df1_sc.NU_NOTA_MT.describe()"
      ],
      "metadata": {
        "colab": {
          "base_uri": "https://localhost:8080/"
        },
        "id": "pCDkrKkOZ4A5",
        "outputId": "0e3c8740-d374-4b69-d6ba-ed4de5c13581"
      },
      "execution_count": null,
      "outputs": [
        {
          "output_type": "execute_result",
          "data": {
            "text/plain": [
              "count    3894.000000\n",
              "mean      567.835568\n",
              "std       112.685418\n",
              "min       342.900000\n",
              "25%       481.525000\n",
              "50%       565.200000\n",
              "75%       643.500000\n",
              "max       971.300000\n",
              "Name: NU_NOTA_MT, dtype: float64"
            ]
          },
          "metadata": {},
          "execution_count": 31
        }
      ]
    },
    {
      "cell_type": "markdown",
      "source": [
        "cv = desvio padrão / média * 100 (%) -  cv < 30%  = os dados são homogeneos"
      ],
      "metadata": {
        "id": "Lqx08se-bGvS"
      }
    },
    {
      "cell_type": "code",
      "source": [
        "media_mt = df1_sc.NU_NOTA_MT.mean()\n",
        "media_mt"
      ],
      "metadata": {
        "colab": {
          "base_uri": "https://localhost:8080/"
        },
        "id": "IYmm7jy2bZp6",
        "outputId": "66088cd5-1695-449c-ffbf-0f8d7a279908"
      },
      "execution_count": null,
      "outputs": [
        {
          "output_type": "execute_result",
          "data": {
            "text/plain": [
              "567.8355675398049"
            ]
          },
          "metadata": {},
          "execution_count": 35
        }
      ]
    },
    {
      "cell_type": "code",
      "source": [
        "desvio_padrao_MT = df1_sc.NU_NOTA_MT.std()\n",
        "desvio_padrao_MT"
      ],
      "metadata": {
        "colab": {
          "base_uri": "https://localhost:8080/"
        },
        "id": "thZ2dCDGcP9Y",
        "outputId": "6d3ab2e4-f32d-489e-e933-84f6c75ea109"
      },
      "execution_count": null,
      "outputs": [
        {
          "output_type": "execute_result",
          "data": {
            "text/plain": [
              "112.68541755725471"
            ]
          },
          "metadata": {},
          "execution_count": 38
        }
      ]
    },
    {
      "cell_type": "code",
      "source": [
        "cv_MT = (desvio_padrao_MT/media_mt)*100\n",
        "cv_MT"
      ],
      "metadata": {
        "colab": {
          "base_uri": "https://localhost:8080/"
        },
        "id": "Xmlc8xxBcfbS",
        "outputId": "66c810fd-17b7-414a-8150-f425b4e98c76"
      },
      "execution_count": null,
      "outputs": [
        {
          "output_type": "execute_result",
          "data": {
            "text/plain": [
              "19.844726889066443"
            ]
          },
          "metadata": {},
          "execution_count": 40
        }
      ]
    },
    {
      "cell_type": "markdown",
      "source": [
        "## 10) <font color='#005DAA'><b> Faça um gráfico adequado para a nota de matemática dos alunos de SC."
      ],
      "metadata": {
        "id": "4vdJ0shQAi02"
      }
    },
    {
      "cell_type": "code",
      "source": [
        "df1_sc.NU_NOTA_MT.hist(color ='#ADE3F8', bins=50, edgecolor='black')"
      ],
      "metadata": {
        "colab": {
          "base_uri": "https://localhost:8080/",
          "height": 447
        },
        "id": "rK-yP9eff9a7",
        "outputId": "ee70a46b-9c50-4489-a7fb-ab550ed92342"
      },
      "execution_count": null,
      "outputs": [
        {
          "output_type": "execute_result",
          "data": {
            "text/plain": [
              "<Axes: >"
            ]
          },
          "metadata": {},
          "execution_count": 17
        },
        {
          "output_type": "display_data",
          "data": {
            "text/plain": [
              "<Figure size 640x480 with 1 Axes>"
            ],
            "image/png": "[encoded data removed]"
          },
          "metadata": {}
        }
      ]
    },
    {
      "cell_type": "markdown",
      "source": [
        "Reponda aqui quais gráficos poderia ser feitos."
      ],
      "metadata": {
        "id": "46InsGa3A1Q-"
      }
    },
    {
      "cell_type": "markdown",
      "source": [
        "Aqui estão alguns dos parâmetros mais comuns que você pode utilizar para **personalizar o seu histograma**. Não deixe de usá-los.\n",
        "\n",
        "bins: Especifica o número de bins (intervalos) a serem utilizados no histograma.\n",
        "\n",
        "range: Define o intervalo dos valores a serem considerados no histograma.\n",
        "\n",
        "density: Indica se o histograma deve ser normalizado para representar uma densidade de probabilidade.\n",
        "\n",
        "color: Define a cor das barras do histograma.\n",
        "\n",
        "edgecolor: Define a cor das bordas das barras do histograma.\n",
        "\n",
        "alpha: Define a transparência das barras do histograma.\n",
        "\n",
        "label: Adiciona um rótulo para a legenda do histograma.\n",
        "\n",
        "orientation: Define a orientação do histograma (horizontal ou vertical).\n",
        "\n",
        "histtype: Define o tipo de histograma a ser exibido (barra, passo, etc.)\n",
        "\n",
        "align: Controla o alinhamento das barras do histograma.\n",
        "\n",
        "Exemplo:\n",
        "\n",
        "plt.hist(valores, bins=10, color='blue', edgecolor='black')\n",
        "\n",
        "plt.xlabel('Valores')\n",
        "\n",
        "plt.ylabel('Frequência')\n",
        "\n",
        "plt.title('Histograma Personalizado')\n",
        "\n",
        "plt.show()"
      ],
      "metadata": {
        "id": "nV8ReEaRBpgC"
      }
    },
    {
      "cell_type": "code",
      "source": [
        "# Usando Matplotlib\n",
        "# Fazer um histograma personalizado com as cores do seu projeto\n",
        "\n",
        "plt.hist(df1_sc.NU_NOTA_MT, bins = 60, edgecolor='white', color = '#005DAA')\n",
        "plt.xlabel('Notas de Matemática')\n",
        "plt.ylabel('Frequência')\n",
        "plt.title('Notas de Matemática dos alunos de SC - 2022')\n",
        "plt.show()"
      ],
      "metadata": {
        "id": "57KOLKwsCJXg",
        "colab": {
          "base_uri": "https://localhost:8080/",
          "height": 472
        },
        "outputId": "b7f7f6ac-8b29-4207-f81e-2363e0b987db"
      },
      "execution_count": null,
      "outputs": [
        {
          "output_type": "display_data",
          "data": {
            "text/plain": [
              "<Figure size 640x480 with 1 Axes>"
            ],
            "image/png": "[encoded data removed]"
          },
          "metadata": {}
        }
      ]
    },
    {
      "cell_type": "markdown",
      "source": [
        "Usando a Biblioteca Seaborn (histplot ou displot) para construção do Histograma podemos utilizar os parâmetros:\n",
        "\n",
        "kde: O parâmetro kde controla a exibição da curva de densidade de kernel (Kernel Density Estimation) sobre o histograma. Se kde=True, o gráfico mostrará a curva de densidade suavizada juntamente com o histograma. Se kde=False (padrão), apenas o histograma será exibido.\n",
        "\n",
        "\n",
        "stat:  O parâmetro é usadfo para normalizar o histograma de forma que a área total sob as barras seja igual a 1, representando uma distribuição de probabilidade ou uma fdp (função de densidade de probabilidade).\n",
        "\n",
        "Quando stat=\"probability\", o eixo y do gráfico será rotulado como densidade de probabilidade em vez de contagens. Isso permite comparar visualmente a distribuição das variáveis mesmo que tenham tamanhos de amostra diferentes. Similar ao parâmetro \"Density = True\" quando usamos o método hist no Matplotlib.\n",
        "\n",
        "Ex:\n",
        "\n",
        "sns.displot(df['variável'], bins=50, edgecolor='blue', color='red',kde = True, stat = \"probability\")\n",
        "\n",
        "plt.xlabel('Variável')\n",
        "plt.ylabel('Densidade de Probabilidade')\n"
      ],
      "metadata": {
        "id": "yJXLp8uUh1Ia"
      }
    },
    {
      "cell_type": "markdown",
      "metadata": {
        "id": "J0rG65OVD83B"
      },
      "source": [
        "Histograma usando **Plotly**\n",
        "\n",
        "EXEMPLO:\n",
        "\n",
        "import plotly.express as px\n",
        "\n",
        "\n",
        "grafico =  px.histogram (df,  x = \"variável\", nbins=50, histnorm='probability',)\n",
        "grafico.update_layout(width=600,height=500, title_font_color = '#005DAA', title={\n",
        "        'text': 'Título do Gráfico',\n",
        "        'x': 0.5,\n",
        "        'xanchor': 'center'\n",
        "    })\n",
        "grafico.update_xaxes(title_text=\"Label do eixo x\")\n",
        "grafico.update_traces(marker_color='#005DAA')  # Altera a cor do gráfico\n",
        "grafico.show()"
      ]
    },
    {
      "cell_type": "code",
      "source": [
        "import plotly.express as px\n",
        "grafico =  px.histogram (df1_sc,  x = 'NOTA_MT', nbins=60, histnorm='probability',)\n",
        "grafico.update_layout(width=600,height=500, title_font_color = '#005DAA', title={\n",
        "        'text': 'Notas Matemática - SC - ENEM 2022',\n",
        "        'x': 0.5,\n",
        "        'xanchor': 'center'\n",
        "    })\n",
        "grafico.update_xaxes(title_text=\"Notas de Matemática\")\n",
        "#grafico.update_traces(marker_color='#005DAA')\n",
        "grafico.show()"
      ],
      "metadata": {
        "colab": {
          "base_uri": "https://localhost:8080/",
          "height": 517
        },
        "id": "Z_6a2C9Iap43",
        "outputId": "7895b5b8-3220-4bdb-dbfb-615059370f14"
      },
      "execution_count": null,
      "outputs": [
        {
          "output_type": "display_data",
          "data": {
            "text/html": [
              "<html>\n",
              "<head><meta charset=\"utf-8\" /></head>\n",
              "<body>\n",
              "    <div>            <script src=\"https://cdnjs.cloudflare.com/ajax/libs/mathjax/2.7.5/MathJax.js?config=TeX-AMS-MML_SVG\"></script><script type=\"text/javascript\">if (window.MathJax && window.MathJax.Hub && window.MathJax.Hub.Config) {window.MathJax.Hub.Config({SVG: {font: \"STIX-Web\"}});}</script>                <script type=\"text/javascript\">window.PlotlyConfig = {MathJaxConfig: 'local'};</script>\n",
              "        <script src=\"https://cdn.plot.ly/plotly-2.18.2.min.js\"></script>                <div id=\"5abfc129-e321-4ad6-bb7a-c4edda91a419\" class=\"plotly-graph-div\" style=\"height:500px; width:600px;\"></div>            <script type=\"text/javascript\">                                    window.PLOTLYENV=window.PLOTLYENV || {};                                    if (document.getElementById(\"5abfc129-e321-4ad6-bb7a-c4edda91a419\")) {                    Plotly.newPlot(                        \"5abfc129-e321-4ad6-bb7a-c4edda91a419\",                        [{\"alignmentgroup\":\"True\",\"bingroup\":\"x\",\"histnorm\":\"probability\",\"hovertemplate\":\"NOTA_MT=%{x}<br>probability=%{y}<extra></extra>\",\"legendgroup\":\"\",\"marker\":{\"color\":\"#636efa\",\"pattern\":{\"shape\":\"\"}},\"name\":\"\",\"nbinsx\":60,\"offsetgroup\":\"\",\"orientation\":\"v\",\"showlegend\":false,\"x\":[472.4,510.2,582.3,548.6,629.8,569.4,745.0,460.5,491.6,598.5,505.2,464.5,null,418.4,555.0,null,392.1,478.9,611.7,586.7,477.0,546.1,null,412.3,536.0,688.5,null,716.0,null,682.6,625.2,493.9,417.1,371.1,539.0,382.5,442.3,601.8,629.4,488.2,429.5,564.4,747.1,514.4,396.5,533.0,null,null,null,641.9,null,517.4,null,580.8,null,null,842.4,579.1,693.7,650.2,null,611.3,477.3,427.7,404.9,640.1,613.2,546.0,585.1,450.4,541.2,382.5,382.7,592.3,null,405.8,643.3,644.1,776.2,552.6,475.3,453.8,433.2,517.8,471.9,658.9,406.9,752.7,492.1,null,407.5,805.1,425.7,581.1,641.4,405.5,711.8,631.5,643.9,752.0,550.3,608.3,504.9,493.0,null,575.7,728.0,586.0,null,547.1,474.8,590.8,613.0,581.3,627.1,489.5,359.0,484.2,null,null,null,704.4,528.8,null,null,501.1,515.1,469.7,656.4,null,470.6,662.9,550.3,455.1,669.4,483.9,529.5,616.5,478.5,547.7,587.6,699.2,412.1,664.1,528.6,784.2,null,460.4,578.5,560.4,451.1,535.5,null,null,null,648.4,null,639.4,523.2,564.9,499.3,486.6,439.4,588.6,797.0,642.1,546.8,797.0,609.2,null,594.3,512.7,494.0,432.9,null,null,585.8,581.5,606.5,465.8,762.3,584.3,767.0,589.4,404.7,566.8,488.8,588.0,516.9,588.9,475.2,644.1,null,566.8,689.7,null,710.3,484.2,465.1,421.3,null,590.5,400.4,786.2,644.3,711.2,null,444.5,null,400.4,null,674.5,null,495.8,552.0,null,431.3,null,455.5,558.9,null,766.0,509.6,499.0,null,461.0,535.6,629.5,582.4,608.7,481.5,535.3,661.7,539.0,418.5,436.6,null,458.3,819.9,494.2,588.2,459.9,null,622.8,655.4,661.8,424.0,602.2,768.1,670.3,502.6,null,497.8,null,474.0,345.7,null,469.5,386.3,420.9,522.9,null,489.8,null,468.8,742.3,765.8,396.9,518.4,639.1,764.4,579.1,701.9,664.4,678.9,611.6,480.5,675.7,615.1,null,613.2,null,734.5,436.1,null,640.7,617.8,520.5,458.1,610.5,null,461.4,860.8,582.6,456.4,672.1,456.4,596.6,394.0,743.2,752.2,720.7,599.5,723.3,422.8,701.5,477.5,359.1,616.2,null,512.7,null,null,695.1,647.5,359.3,null,690.3,442.5,null,656.0,657.6,570.8,404.8,586.6,707.7,null,706.9,536.4,494.7,401.8,635.4,null,525.0,733.8,null,null,399.3,639.1,420.3,466.0,384.2,625.8,469.2,null,441.9,700.6,null,446.8,749.0,730.5,530.7,667.0,441.4,597.8,433.2,624.6,571.6,null,714.1,673.6,null,510.5,559.3,491.6,381.5,693.5,669.7,753.9,405.3,572.4,651.6,617.6,648.8,480.9,null,494.9,445.1,547.1,441.1,null,666.0,513.3,856.9,581.4,599.4,591.3,614.1,494.2,591.6,545.8,null,661.9,587.0,623.7,524.8,435.0,null,null,678.7,611.6,592.2,null,null,759.2,488.9,743.6,625.1,368.6,638.5,842.0,545.5,495.0,443.3,412.9,543.3,432.9,null,609.1,679.2,704.8,620.3,458.2,560.5,475.7,569.1,731.5,433.2,548.1,601.5,511.7,618.2,698.9,681.6,609.7,726.0,448.1,375.1,593.4,505.4,681.2,null,631.0,null,null,765.8,766.6,null,419.2,580.5,null,373.0,null,581.4,null,596.4,null,698.4,425.5,752.3,507.1,760.7,575.3,710.2,null,418.9,385.3,568.4,407.3,509.6,null,606.2,null,648.8,null,446.5,568.9,503.6,375.7,502.5,605.1,null,421.2,597.4,579.9,714.6,null,588.3,null,508.7,529.6,458.1,505.8,511.1,null,null,753.6,857.5,792.2,561.9,647.0,358.6,465.6,552.1,749.6,678.3,813.9,635.0,533.5,482.5,803.1,468.2,477.9,456.7,null,567.8,null,638.1,485.3,427.8,550.0,null,478.1,426.2,392.2,831.0,524.1,null,568.5,null,469.4,564.9,null,null,643.6,411.2,376.8,null,492.5,617.0,null,682.1,null,430.2,595.8,680.4,507.9,null,558.1,525.0,352.3,562.3,567.8,601.2,497.4,568.2,null,402.0,498.6,640.4,null,559.7,null,373.9,null,null,null,589.0,450.9,432.1,556.0,573.3,534.3,647.5,null,null,610.6,642.7,762.8,664.0,917.1,545.5,657.1,528.2,462.2,636.1,465.8,null,414.7,543.9,544.7,465.7,null,624.2,518.5,662.1,354.0,425.1,388.5,553.7,372.4,720.9,null,561.0,566.8,null,636.5,395.3,609.3,null,null,424.6,null,495.3,436.6,738.3,640.3,543.1,476.0,835.0,675.7,589.0,595.4,575.3,611.3,575.2,434.9,676.4,575.6,626.9,null,null,691.0,610.3,639.5,null,508.6,458.0,657.4,643.0,669.1,544.8,517.2,574.9,547.7,null,692.5,499.4,609.2,475.9,536.0,null,null,597.3,580.0,668.9,null,592.0,762.3,545.2,439.3,601.8,561.4,666.3,592.2,491.9,491.9,639.0,477.1,568.3,779.3,null,525.8,null,648.4,560.8,624.5,380.9,494.4,488.7,651.7,523.5,649.5,505.8,648.7,479.3,516.9,613.0,420.9,661.0,null,454.3,null,null,494.9,459.1,544.7,865.9,599.8,693.9,null,648.2,515.5,null,677.5,504.2,511.9,null,680.3,374.0,545.7,null,546.0,685.8,null,null,680.7,427.9,635.9,520.3,556.4,571.4,446.3,499.0,562.7,659.8,484.1,417.5,404.1,375.6,417.3,550.9,476.6,558.0,503.4,457.8,387.0,655.8,null,509.7,565.0,376.4,530.6,null,658.2,430.0,651.6,683.7,null,null,489.9,null,551.4,null,513.1,450.5,565.1,null,null,469.5,651.4,490.8,null,574.0,502.3,728.8,512.7,737.4,null,389.4,612.2,null,536.7,820.2,504.2,418.5,681.1,648.8,518.3,452.7,null,null,524.6,401.7,766.9,null,675.5,457.6,492.6,601.7,581.7,603.4,529.8,723.1,440.1,678.6,831.9,630.3,null,593.8,546.3,null,612.3,602.7,null,618.1,394.5,null,664.3,472.3,682.5,390.2,370.8,484.3,429.1,null,499.2,414.7,648.5,701.0,496.0,501.0,499.7,530.0,565.9,699.1,448.4,433.1,729.0,562.8,null,645.6,656.9,630.0,585.8,610.3,542.1,813.7,692.0,null,null,504.0,null,null,629.0,641.0,531.0,516.8,null,602.5,371.6,614.7,613.0,558.1,597.7,387.6,null,518.5,513.6,null,623.8,656.3,406.4,null,521.9,427.5,640.8,628.1,null,null,679.4,662.1,382.3,594.4,472.7,634.4,492.2,447.6,518.0,554.7,535.2,759.7,null,null,null,538.5,639.0,692.6,540.0,444.3,551.7,null,null,459.0,644.4,null,358.1,654.8,405.7,612.8,537.3,null,null,543.3,586.1,null,null,379.1,null,574.1,null,null,676.8,682.5,null,null,478.5,533.2,568.2,822.2,508.2,580.6,null,null,601.8,594.7,572.3,642.0,600.5,null,489.8,628.4,616.5,371.1,null,477.0,612.2,449.4,605.9,438.7,442.0,522.2,658.2,null,531.3,null,null,455.3,774.7,591.2,637.5,615.8,549.7,513.9,null,510.7,null,627.1,null,356.7,473.7,531.5,507.7,522.6,634.6,null,669.4,583.2,355.7,null,585.9,520.8,468.1,672.6,null,null,413.5,430.7,665.3,null,null,708.6,582.5,776.6,null,477.4,null,639.1,null,428.7,630.0,577.1,505.9,584.0,588.3,591.3,620.2,607.5,585.9,702.1,708.5,524.6,553.4,533.9,438.8,554.6,627.0,640.4,605.3,532.2,null,610.3,426.5,372.8,492.8,458.5,null,734.5,635.5,470.4,667.6,409.2,380.6,607.5,651.8,635.0,510.7,609.1,null,751.3,null,700.2,null,null,572.2,null,496.8,622.4,697.2,605.9,null,null,null,null,604.1,707.7,706.8,575.4,383.1,614.3,719.8,482.3,453.2,522.1,590.5,641.8,616.0,509.2,729.8,462.9,391.0,null,null,344.8,null,807.2,null,700.4,null,566.4,630.7,681.4,457.8,609.7,379.0,577.5,682.9,362.2,588.6,832.8,530.9,596.8,514.8,627.4,386.9,534.9,null,660.3,601.1,574.5,748.3,416.6,561.9,614.0,381.1,698.2,601.9,578.6,626.7,623.5,626.1,561.6,698.3,613.4,582.3,783.3,407.9,559.7,618.7,466.5,606.4,519.1,489.1,581.8,null,586.8,592.6,596.1,null,714.6,640.9,null,432.2,721.4,null,581.7,442.4,409.8,588.0,733.4,null,614.1,null,448.7,463.8,null,740.2,592.4,431.3,415.4,476.3,540.2,null,666.9,507.4,610.9,493.8,653.6,644.4,564.9,629.1,527.5,629.3,null,621.5,530.9,731.3,null,366.8,566.3,563.7,642.5,644.3,606.3,635.2,null,null,null,508.3,342.9,559.4,596.0,null,494.4,512.3,648.8,385.7,669.2,517.2,481.6,null,null,424.8,591.1,650.0,593.4,504.6,634.1,642.1,445.2,747.0,487.3,null,399.0,663.8,519.2,552.3,null,null,null,378.4,476.0,616.8,null,454.8,666.9,552.2,619.9,437.6,510.8,673.1,null,572.8,738.5,419.0,363.8,687.8,608.6,null,null,550.5,525.7,null,563.9,768.8,375.5,549.7,822.1,569.8,null,459.3,638.9,645.4,null,null,496.2,453.9,null,674.7,575.9,465.8,null,520.1,446.0,801.2,404.1,524.8,488.9,null,645.2,null,722.1,395.4,578.6,null,619.0,560.3,449.1,null,502.2,566.0,636.8,null,449.9,383.1,532.3,675.1,519.6,null,null,799.4,441.5,453.6,488.3,597.2,453.1,null,549.5,814.8,670.9,594.7,null,null,421.6,510.2,519.1,null,443.3,498.3,null,605.9,null,578.7,626.7,646.0,454.5,681.1,548.5,486.1,776.2,570.8,545.1,618.1,679.2,null,486.8,null,552.8,468.0,825.3,503.9,761.2,524.0,511.0,575.2,431.3,426.6,411.6,444.6,null,null,700.1,null,null,705.6,761.4,547.9,635.5,604.7,485.7,518.3,599.5,939.5,513.7,613.5,581.3,433.7,502.8,637.9,645.7,null,408.1,597.9,448.4,474.2,486.7,411.5,471.5,725.8,534.0,427.5,691.2,499.5,567.5,670.9,867.7,383.9,741.6,null,629.4,616.7,542.4,545.0,579.0,629.3,629.3,347.9,639.9,615.0,null,null,469.1,608.4,406.1,null,null,643.5,595.1,477.0,665.8,476.1,670.3,647.1,506.7,566.4,506.2,650.7,null,455.6,null,363.7,null,512.2,535.1,618.4,454.8,591.8,544.6,725.3,460.0,539.6,606.3,654.5,710.1,427.7,367.1,615.3,459.2,694.5,376.5,534.8,null,559.7,601.8,552.5,725.0,490.1,430.2,502.1,598.1,553.4,746.4,null,566.1,576.3,744.6,null,406.2,525.3,604.2,413.2,577.5,null,774.2,444.4,719.7,703.2,785.1,null,545.0,543.5,410.9,554.5,null,null,630.5,419.0,461.8,614.4,715.7,552.2,566.6,627.9,463.0,null,485.6,612.4,820.3,943.6,423.7,592.7,470.2,455.1,null,723.3,567.6,416.6,480.9,588.8,559.8,661.7,647.3,434.9,420.1,749.1,571.0,548.0,459.3,580.9,431.0,601.6,null,401.8,528.8,700.4,600.6,474.0,null,662.8,492.4,null,679.7,441.7,658.7,null,519.7,null,608.1,584.1,408.4,null,604.2,581.6,645.3,539.5,600.7,579.2,null,456.0,618.4,null,563.0,633.5,593.2,702.3,599.5,432.0,487.1,779.9,588.4,720.0,475.4,491.6,604.2,null,697.2,401.4,null,562.1,575.0,380.6,530.9,450.5,null,408.1,null,420.8,407.3,null,607.3,null,760.9,625.4,453.3,null,436.0,486.2,510.0,633.7,524.3,462.8,null,421.7,null,null,545.7,null,null,460.3,892.9,792.9,448.4,null,657.1,414.9,544.7,null,null,null,528.7,549.3,613.0,642.1,691.5,507.2,585.5,null,null,629.1,null,536.3,619.2,700.6,711.0,564.3,545.6,586.2,536.9,767.3,580.6,482.4,442.3,583.5,633.9,null,null,396.8,747.6,390.4,525.0,491.6,null,665.9,443.7,534.1,565.9,688.9,582.7,663.6,670.4,570.7,null,null,505.4,387.8,587.5,450.0,null,702.1,525.4,408.3,430.3,null,464.7,673.4,null,null,null,null,510.4,null,696.0,440.7,646.7,null,618.0,543.3,480.2,null,678.5,null,null,738.2,639.5,602.1,null,504.8,638.0,652.4,null,486.9,731.4,587.3,419.4,393.0,null,null,null,558.3,null,542.3,522.6,410.3,605.0,519.8,625.4,411.6,453.6,522.9,762.4,470.1,559.5,387.5,458.2,633.5,475.5,571.7,null,432.6,null,508.1,496.2,500.0,507.6,688.4,422.1,497.8,708.3,null,388.3,null,722.6,634.2,651.1,544.4,630.5,381.8,707.9,389.0,672.5,525.7,638.4,452.3,550.9,null,652.5,600.2,567.1,420.2,647.5,410.0,519.7,null,414.1,657.7,501.6,null,618.9,577.1,null,557.2,619.9,null,554.5,424.6,null,561.8,403.7,431.6,null,443.4,686.5,466.2,588.2,532.0,482.1,null,692.9,657.7,410.1,null,483.9,529.7,604.4,null,394.2,null,585.6,559.4,null,null,573.2,571.5,479.1,491.3,null,449.5,451.4,null,null,643.8,null,391.0,574.6,384.2,506.3,null,null,643.9,487.0,502.2,406.3,null,469.1,632.6,438.0,466.4,476.9,738.1,null,387.7,null,544.7,null,618.6,null,515.3,543.8,null,548.9,463.0,474.6,418.7,827.7,513.4,null,null,null,499.4,429.2,645.4,505.2,377.7,479.4,645.4,null,608.2,542.5,564.9,615.6,602.9,null,560.4,459.6,null,null,717.1,588.6,562.3,null,null,552.2,null,466.8,396.0,628.1,null,453.5,null,null,493.3,481.9,418.4,588.3,605.3,531.6,null,582.2,null,null,611.2,476.1,624.4,587.7,515.5,612.6,542.9,373.8,null,354.7,717.9,449.2,529.7,null,564.1,434.0,546.3,null,355.9,524.8,643.8,486.5,620.9,519.9,673.3,571.0,561.5,569.5,null,null,493.1,507.4,489.2,548.1,727.3,549.5,676.4,781.1,null,594.7,472.0,null,448.4,null,818.3,384.9,559.5,522.0,562.1,null,null,477.1,null,null,803.1,487.2,437.2,615.1,null,566.6,683.4,504.1,603.0,null,571.5,396.3,null,503.0,null,593.4,null,413.8,526.5,410.6,625.4,605.6,375.8,null,null,780.4,734.1,638.7,405.0,524.8,548.0,791.4,null,535.9,515.6,459.9,701.1,539.3,506.8,null,null,608.7,null,535.4,552.7,522.5,575.9,374.4,649.7,445.7,null,492.7,495.4,null,422.8,581.2,390.4,356.2,527.7,null,441.9,550.0,422.9,630.1,null,585.5,null,625.6,358.0,null,611.8,null,624.7,547.0,794.9,619.1,null,442.1,530.6,478.5,607.4,590.4,null,805.0,549.5,516.7,null,713.0,579.2,485.7,676.7,381.0,637.6,null,796.5,587.2,521.7,449.4,433.4,475.6,null,579.1,666.4,null,null,null,699.5,638.8,777.3,389.5,506.8,698.3,527.3,648.9,null,null,646.4,676.5,null,560.3,458.3,410.5,602.1,null,null,513.3,null,452.7,null,null,702.8,null,605.1,705.3,540.6,541.0,467.8,423.6,411.7,null,611.3,406.1,641.2,519.5,384.7,586.2,513.3,null,752.8,558.5,604.9,414.4,509.6,501.4,468.2,490.8,436.0,null,589.3,463.5,481.7,669.3,661.0,null,637.5,null,null,599.9,530.7,604.7,594.2,439.7,505.2,723.1,597.5,null,null,620.9,608.5,475.2,null,745.9,null,435.4,501.8,595.3,477.9,533.8,618.3,469.5,744.1,538.8,558.8,null,426.7,532.3,410.2,473.2,746.2,379.8,null,null,567.8,555.7,723.0,532.1,null,372.2,511.6,780.7,null,483.1,590.4,null,null,382.2,null,633.5,453.7,null,471.4,789.9,434.3,685.9,584.0,644.9,null,712.9,649.6,null,null,null,null,678.6,678.7,519.9,431.0,586.6,634.3,619.6,484.7,537.0,538.2,615.0,659.7,null,612.5,523.5,573.1,null,402.8,628.6,378.7,520.6,498.9,596.5,492.7,589.9,516.1,515.1,409.2,null,603.1,554.8,null,639.1,592.0,425.3,null,412.2,null,706.1,null,479.5,482.1,575.5,371.0,535.4,null,null,494.3,543.2,409.8,null,396.7,563.9,599.4,469.2,678.3,447.7,629.5,623.5,603.4,372.3,529.1,445.6,null,577.5,null,462.2,616.6,null,626.9,486.4,554.6,441.3,547.9,427.4,539.6,381.8,498.3,717.3,528.2,577.3,563.1,null,635.3,null,null,620.9,419.3,478.0,687.5,418.5,null,503.8,null,488.4,null,502.6,592.1,null,null,566.3,394.5,414.1,462.8,609.7,null,392.5,499.0,null,590.7,null,706.2,635.1,612.6,591.3,356.1,498.1,578.1,464.1,568.0,null,null,586.8,725.1,640.0,579.4,409.0,622.4,null,523.3,432.6,546.0,496.3,482.8,494.9,735.2,null,652.4,789.5,514.2,583.9,604.6,417.4,566.0,624.5,595.2,364.8,575.2,null,433.7,763.9,460.4,401.4,null,null,null,664.4,750.2,651.8,842.2,null,566.0,380.0,485.4,null,530.9,657.3,427.0,869.9,694.0,416.5,528.0,null,458.8,461.1,null,414.4,null,367.9,455.8,672.6,null,618.2,null,715.2,460.0,696.2,651.1,430.8,619.6,698.2,null,471.4,420.2,418.9,632.6,498.3,630.4,440.6,512.8,null,389.8,558.7,427.5,494.9,null,757.1,411.2,509.7,627.7,575.5,460.2,668.1,null,526.4,436.0,499.1,null,null,458.2,676.9,772.2,670.6,561.6,null,637.6,null,614.3,null,null,715.2,415.1,null,699.7,761.5,null,null,677.9,527.2,594.6,531.2,null,589.1,716.0,null,557.8,null,530.2,572.9,482.3,557.8,593.8,624.0,null,549.6,763.5,458.6,585.1,389.1,580.9,null,406.1,637.1,665.2,512.9,651.1,681.7,null,627.4,440.7,446.1,550.2,595.0,471.7,null,523.7,661.3,531.5,552.3,null,480.9,381.2,622.7,422.9,531.9,577.9,415.7,610.5,603.3,405.7,697.0,445.1,520.8,571.1,448.1,573.5,361.2,548.7,590.2,645.1,null,532.7,532.2,478.8,null,646.6,485.9,null,757.4,892.1,382.4,741.1,620.3,506.6,null,676.2,552.6,632.4,579.2,659.2,405.6,483.4,728.3,357.0,490.3,null,null,null,null,675.6,null,412.0,446.1,692.1,543.5,605.0,664.3,569.7,682.8,534.7,null,null,null,574.4,661.7,781.6,720.7,351.5,null,418.5,486.5,513.3,551.6,555.5,829.9,560.3,373.5,581.1,null,804.2,619.1,536.0,418.6,523.8,564.3,373.4,493.2,null,475.0,586.8,722.3,879.3,602.7,410.4,537.7,392.6,558.8,null,null,439.5,421.4,611.9,665.8,564.5,748.3,622.4,454.8,728.9,527.3,651.9,793.3,551.7,375.4,816.7,811.4,731.2,543.8,487.2,651.4,444.5,576.4,378.0,392.2,497.0,702.9,444.5,553.0,null,478.7,707.8,519.1,470.0,null,null,633.0,511.2,540.8,553.4,668.6,null,null,850.4,406.3,444.5,524.9,619.9,557.2,534.1,421.3,483.4,576.2,498.3,647.0,null,556.1,720.8,null,503.3,null,622.7,554.4,503.9,570.0,658.6,517.5,429.3,429.6,454.9,514.6,513.7,533.7,598.0,null,null,748.4,702.1,540.2,463.4,648.0,null,447.2,null,480.2,577.4,null,389.3,589.4,474.5,null,539.7,558.6,511.6,null,640.5,null,554.9,446.1,684.7,521.1,457.2,null,573.3,609.3,423.9,500.1,null,null,653.1,625.5,572.0,548.5,400.7,622.1,null,null,456.0,575.3,483.1,611.2,535.8,null,543.9,657.5,null,396.2,373.7,518.4,494.8,null,651.8,null,785.8,null,437.6,734.6,456.3,null,661.4,443.3,null,553.0,null,null,null,null,null,688.4,599.0,861.0,543.7,453.1,461.0,518.4,null,null,null,null,654.6,575.0,null,467.6,448.5,433.6,null,501.3,503.3,615.0,null,544.0,510.3,508.9,477.3,null,655.0,null,743.4,503.7,614.0,519.9,699.8,740.7,504.3,null,518.3,520.2,780.3,464.5,704.3,null,543.7,712.7,648.3,null,387.8,616.7,523.0,null,null,634.7,409.1,null,660.1,396.2,506.7,681.3,502.7,613.5,656.3,null,651.7,483.8,724.2,646.2,471.2,564.8,null,488.3,null,690.1,378.6,728.2,522.8,437.8,378.8,582.1,599.7,370.4,480.1,null,864.4,null,786.2,542.4,null,708.8,null,null,405.3,null,null,477.3,654.3,569.8,668.6,null,499.2,680.9,null,544.7,null,498.7,null,569.0,442.1,597.3,652.1,438.3,815.9,543.8,595.9,null,532.6,null,null,442.6,null,null,null,622.2,514.8,434.0,466.3,381.2,null,623.1,null,510.3,null,614.7,null,517.9,576.5,351.0,630.1,null,452.1,null,526.8,null,675.7,435.3,703.6,null,636.1,648.4,null,null,476.6,618.2,704.2,463.0,519.1,739.3,578.6,631.1,null,477.4,null,574.3,null,574.2,611.0,769.5,433.4,565.0,null,null,625.2,642.7,533.7,null,631.3,441.7,636.2,440.0,459.1,null,null,null,null,390.1,365.7,null,404.0,null,487.4,590.4,416.1,753.2,604.8,464.5,443.7,615.9,null,692.7,360.7,null,525.4,536.9,null,594.2,617.7,null,null,593.3,538.8,631.2,826.1,567.1,835.2,637.8,473.1,572.3,null,455.2,496.4,729.8,691.4,null,755.4,713.5,644.4,522.6,null,569.4,534.6,483.4,364.7,673.9,493.1,421.9,457.1,631.2,636.5,null,662.7,549.4,null,563.9,552.3,524.6,null,null,490.8,565.4,null,486.2,null,379.0,516.7,662.2,731.5,495.3,364.2,705.2,null,358.1,594.1,625.4,672.8,672.6,707.6,null,503.7,null,442.3,null,593.8,null,704.8,null,null,614.7,null,473.7,391.0,null,556.0,548.0,null,654.8,585.8,600.2,691.4,null,603.5,575.5,534.6,465.1,616.9,597.8,571.5,686.8,null,844.4,566.6,null,null,529.5,635.5,635.3,806.8,766.7,598.0,457.9,765.2,430.0,null,652.1,568.3,747.0,null,527.7,687.5,530.5,null,390.2,395.1,604.1,414.3,null,659.9,753.4,663.5,615.8,null,null,554.4,655.5,525.6,588.0,487.1,605.8,532.9,null,448.1,null,null,null,651.4,639.9,null,null,null,null,null,null,430.3,388.5,761.3,null,null,742.9,437.3,688.4,null,498.8,446.3,654.8,534.6,610.7,800.7,619.3,490.5,615.7,722.7,527.0,640.9,602.7,352.5,454.5,717.0,877.5,393.6,383.3,409.1,434.7,null,525.6,364.9,466.3,643.4,604.1,null,null,480.5,512.1,484.7,500.5,647.9,null,682.7,null,730.4,486.1,578.0,534.7,625.0,371.3,681.6,586.7,866.2,445.7,460.0,null,569.7,627.8,758.3,710.6,458.3,476.3,528.2,696.4,null,449.5,712.4,750.3,790.2,559.9,414.2,849.8,442.2,null,null,null,399.3,860.0,471.6,null,721.5,498.0,401.8,null,732.6,null,null,null,572.2,445.9,514.2,528.1,392.1,null,null,785.8,424.0,null,561.6,630.0,538.6,448.2,532.4,null,null,null,392.0,472.0,486.5,685.6,null,null,417.5,null,462.5,null,443.6,536.1,null,null,533.6,424.3,null,null,491.8,654.8,null,433.9,729.9,426.4,564.7,null,658.3,648.0,505.2,551.8,null,583.2,643.6,485.5,542.4,null,null,603.8,487.7,718.8,817.6,666.8,613.8,459.9,null,null,727.3,813.8,673.9,523.8,412.3,583.6,669.0,419.7,364.1,498.4,586.7,null,683.3,779.4,null,null,566.0,490.1,698.3,521.3,null,523.1,null,591.2,672.0,682.8,526.9,462.1,null,null,487.0,670.1,null,826.8,508.8,null,null,443.6,459.0,null,null,null,635.9,439.5,621.4,null,663.9,null,633.1,536.1,null,451.1,560.3,null,null,402.1,359.9,373.7,686.9,357.3,460.1,null,null,null,890.8,366.7,655.1,null,673.0,502.5,668.0,484.7,400.4,null,374.0,659.7,null,505.5,750.9,510.3,858.2,686.4,578.7,502.8,560.8,471.3,593.4,600.9,569.5,null,420.0,null,614.0,656.2,537.7,492.4,null,762.1,null,null,760.4,null,545.7,746.4,368.9,643.5,577.5,402.4,570.0,644.3,418.3,591.6,891.3,559.2,682.2,606.5,728.0,621.5,395.9,577.8,664.6,684.4,635.6,649.1,485.4,459.0,690.4,null,625.4,603.9,610.1,null,525.0,514.6,null,538.4,544.9,621.5,699.4,719.3,457.5,420.1,408.8,601.2,null,658.2,null,565.3,476.6,548.6,971.3,573.1,null,702.2,null,521.3,457.9,627.3,null,null,495.1,null,null,446.2,408.4,666.3,605.6,569.2,510.4,436.3,null,647.3,628.4,null,784.6,379.1,667.6,460.3,482.9,850.0,651.0,536.2,null,518.9,437.3,433.9,503.0,782.1,439.7,null,639.5,401.9,740.4,525.7,401.0,null,null,null,466.5,584.7,682.7,null,449.9,580.2,null,null,485.5,488.8,460.5,526.2,699.4,804.0,489.1,481.0,null,null,703.9,null,717.4,623.1,null,376.3,702.0,703.5,395.6,496.8,null,689.2,598.8,499.0,null,524.0,417.3,null,682.7,597.2,null,392.4,442.0,552.0,659.0,666.2,649.6,632.7,859.2,495.4,457.8,682.3,644.0,468.5,null,653.2,null,577.9,750.6,553.0,null,652.7,432.4,472.6,706.6,399.0,713.6,486.9,391.6,null,615.3,544.4,550.8,521.6,null,379.3,593.3,500.0,527.4,758.7,547.8,591.3,602.2,641.5,772.5,627.2,464.2,null,null,520.7,null,609.8,358.6,null,672.0,626.1,null,null,566.1,null,null,395.1,545.0,590.1,552.7,692.1,null,null,657.2,null,613.7,554.3,470.5,662.2,732.1,702.3,595.3,564.5,543.9,578.2,452.1,562.5,690.4,860.4,594.5,526.8,870.5,605.4,632.6,614.4,897.9,610.6,654.9,null,584.9,448.8,592.8,490.7,585.3,583.9,497.6,536.9,679.2,647.2,688.5,586.9,597.1,652.2,742.7,655.2,670.6,574.7,null,426.9,null,519.6,553.6,795.3,560.9,null,529.0,487.7,null,497.9,632.6,601.4,629.2,681.6,756.9,459.2,690.3,null,716.4,583.1,null,618.2,null,598.9,710.7,690.7,null,399.2,684.7,598.4,658.8,792.8,769.0,722.0,599.0,null,742.5,604.7,null,null,638.8,653.8,706.2,698.7,476.1,650.1,546.8,495.1,636.5,509.6,450.8,842.7,684.2,623.3,760.9,null,498.7,443.4,644.1,null,null,null,552.7,null,null,666.6,651.3,526.6,520.9,null,578.7,734.1,null,736.9,null,636.9,410.3,775.1,524.7,681.5,438.8,null,460.4,null,480.6,431.7,null,418.0,629.1,579.9,641.4,651.3,709.3,815.2,540.9,525.0,456.0,595.5,477.4,754.5,702.4,549.6,665.7,414.1,666.3,620.6,null,405.9,514.6,499.2,602.0,540.8,548.2,573.0,495.8,null,565.7,616.5,700.1,585.2,592.2,497.8,null,null,null,587.0,631.9,451.1,612.1,null,635.3,579.4,null,513.9,null,587.4,604.5,522.2,679.0,587.4,500.0,915.8,457.6,431.4,693.5,679.0,838.8,633.7,616.9,622.8,529.2,null,790.9,null,621.2,477.8,null,538.9,387.6,null,null,803.2,553.9,687.3,614.3,542.0,451.7,618.9,682.8,656.3,null,593.2,null,610.8,779.3,565.3,null,602.0,549.2,null,651.1,null,443.9,611.3,559.2,441.7,641.5,685.8,635.8,null,416.2,null,564.7,null,483.8,739.7,null,null,635.8,null,548.0,null,null,null,634.4,684.8,601.7,542.3,578.7,590.1,540.7,766.9,644.2,494.7,null,505.7,null,487.9,426.6,579.5,572.4,536.0,431.4,652.4,444.2,780.6,536.9,485.8,733.8,756.7,584.2,578.9,815.5,584.8,440.7,638.5,498.8,481.0,null,null,572.4,445.6,636.2,609.7,358.8,850.4,670.9,672.3,null,614.8,650.5,null,440.8,null,486.7,null,null,501.5,475.8,458.3,504.3,720.8,486.2,null,705.1,530.7,429.0,533.4,null,438.2,718.5,506.6,null,718.8,355.9,439.2,611.5,null,532.9,640.8,null,679.2,634.4,637.0,581.3,821.2,null,630.0,571.4,582.7,639.5,407.3,524.5,621.9,null,793.0,582.7,410.5,604.0,757.4,639.1,679.2,492.5,null,null,null,496.2,null,635.6,null,null,442.9,430.6,378.2,769.6,null,885.8,415.6,475.3,590.8,460.9,606.9,null,496.3,441.2,538.0,767.1,438.4,695.3,582.1,476.5,560.6,611.4,null,415.6,557.4,531.2,null,665.1,null,820.8,528.9,438.5,642.8,367.5,395.9,null,462.5,null,376.5,667.5,461.9,586.5,null,null,null,595.4,401.0,484.7,432.1,526.6,845.6,847.5,733.8,null,706.4,691.1,480.4,392.4,537.1,462.1,382.8,756.7,496.3,480.2,766.2,429.0,539.2,744.3,649.7,620.4,472.3,492.7,408.3,610.9,785.8,475.8,null,null,633.1,488.5,458.8,699.0,757.2,400.1,537.7,450.2,683.1,422.2,570.1,472.9,668.8,653.8,410.5,null,697.4,524.8,458.7,712.9,485.9,392.5,476.0,649.8,455.7,636.9,425.5,521.7,663.7,null,510.4,544.7,565.5,559.0,589.9,null,519.6,501.5,490.9,519.8,574.0,454.5,440.5,null,758.0,645.9,529.8,864.1,594.7,695.8,496.2,null,462.9,443.0,710.1,null,536.8,518.3,519.5,484.3,669.9,412.2,null,700.7,517.0,null,517.3,590.0,464.4,null,null,709.6,487.5,477.0,695.4,null,758.6,null,742.1,567.2,641.1,696.5,630.3,495.1,565.4,394.2,629.4,null,695.7,411.8,526.2,529.2,null,415.2,375.1,805.5,603.5,646.7,null,null,607.3,null,380.4,572.2,null,449.9,608.6,534.0,629.2,null,395.4,632.0,null,843.4,499.3,null,670.2,596.1,547.9,364.7,557.7,664.4,null,504.1,623.4,457.5,686.0,721.5,714.0,512.6,null,608.3,401.1,null,686.3,498.8,683.2,471.9,563.2,605.4,490.1,459.8,null,524.3,620.6,665.4,573.5,646.3,null,502.6,804.4,622.7,678.3,null,642.5,455.0,636.3,516.6,null,524.7,null,null,null,null,436.8,539.9,401.3,null,400.9,516.6,519.8,501.6,606.3,750.0,834.9,787.2,null,638.9,638.4,429.5,833.1,408.0,623.1,null,693.2,680.8,null,528.1,472.5,512.3,480.1,459.4,572.7,524.3,null,630.9,561.4,561.2,null,471.7,null,709.1,643.3,622.3,758.1,666.3,516.3,540.0,null,597.7,412.3,613.1,null,596.6,607.8,null,757.4,534.5,663.9,521.6,418.0,509.7,null,477.1,482.3,699.1,751.9,512.3,646.7,663.6,692.9,479.6,665.6,null,529.7,387.2,null,398.8,438.1,489.0,402.4,626.6,601.7,575.4,588.5,474.9,728.3,618.4,750.0,null,null,663.4,427.4,null,675.3,491.9,613.1,null,646.5,null,479.0,null,411.7,761.9,586.9,555.4,450.7,597.0,463.5,810.0,479.3,358.4,661.2,379.2,null,688.2,590.7,null,651.2,707.0,463.4,386.0,528.4,586.7,null,407.0,541.3,null,440.0,366.1,null,634.6,null,523.1,740.5,null,663.5,846.2,486.1,446.5,516.5,726.8,461.8,517.1,393.5,567.1,593.9,null,637.0,492.0,654.3,636.5,511.1,595.6,455.8,null,559.7,479.6,null,700.2,686.7,693.9,476.7,595.2,501.1,683.9,657.5,617.6,770.0,null,704.6,562.9,712.6,904.4,null,523.0,517.8,612.5,605.1,493.4,null,522.0,507.9,518.1,522.5,564.7,505.9,570.0,null,580.3,467.1,481.1,492.9,null,499.5,716.0,null,535.3,732.0,672.1,562.8,null,564.0,396.0,680.2,null,583.1,null,595.3,370.4,447.5,581.8,null,619.0,706.5,443.2,494.3,635.2,744.5,536.0,854.9,652.3,null,519.0,483.8,null,625.6,583.1,743.2,713.6,null,582.4,626.4,388.0,null,578.0,493.7,682.0,463.9,637.0,620.5,602.7,430.8,606.6,636.9,627.8,554.4,748.1,607.6,535.1,690.2,524.5,403.9,516.2,null,681.8,702.3,591.8,649.8,411.1,715.7,599.7,409.4,643.7,368.6,465.3,688.5,null,688.2,null,587.7,465.5,null,581.9,626.5,500.8,null,589.9,527.4,768.8,493.9,null,582.3,683.7,513.8,null,544.7,735.1,669.8,469.0,624.4,673.4,548.9,645.2,703.1,613.2,611.0,450.9,576.3,null,804.2,484.0,672.7,622.4,642.2,393.0,917.6,716.8,444.1,681.7,null,638.3,735.4,421.3,531.9,602.1,548.8,807.1,738.7,597.4,494.0,828.9,586.8,457.9,678.2,674.4,735.1,443.9,708.0,385.5,529.8,373.8,null,575.9,696.2,669.9,477.8,841.5,null,571.6,403.9,723.7,601.2,487.0,639.7,651.9,441.4,587.8,605.6,638.2,null,523.7,606.9,687.9,null,null,693.3,null,null,566.0,640.3,358.7,null,493.6,707.0,573.3,536.5,480.3,null,null,607.7,584.3,494.6,null,null,null,391.1,null,null,null,648.2,536.7,null,611.4,666.1,688.8,623.6,517.3,442.1,null,637.4,499.1,428.2,null,643.3,622.9,715.8,755.2,null,359.2,532.1,592.6,460.7,623.4,667.7,805.2,663.7,510.5,522.4,507.9,804.3,472.3,850.6,null,581.1,517.6,735.2,529.1,800.8,762.8,544.1,557.2,null,672.2,741.7,495.3,549.7,null,623.8,467.4,415.8,538.3,null,700.9,352.3,688.1,638.2,null,447.9,null,null,null,540.7,884.6,668.1,null,616.8,557.3,null,576.7,406.5,627.9,610.6,503.3,null,473.9,502.0,null,725.5,null,374.7,631.7,756.7,704.3,541.1,602.1,405.2,434.7,375.3,523.7,null,752.8,395.4,null,562.4,700.2,580.7,797.2,478.6,649.3,426.3,711.5,669.2,405.0,810.5,null,602.9,751.6,null,878.3,628.4,721.6,null,null,622.7,660.1,371.9,411.8,439.5,692.5,493.2,448.9,393.7,643.4,null,null,830.7,null,551.3,598.8,749.0,null,346.8,601.5,602.6,701.8,null,null,814.1,519.4,906.6,459.5,607.0,null,871.2,787.8,528.9,null,645.4,571.5,528.2,500.0,null,630.2,451.2,459.9,null,519.4,739.6,null,356.7,682.1,449.0,null,486.2,578.5,null,748.5,621.8,526.5,584.3,null,555.4,655.2,null,null,523.1,null,543.6,465.1,647.4,594.2,610.2,null,504.8,464.5,564.3,541.0,373.8,748.2,578.3,null,null,646.6,null,438.9,578.4,436.3,771.3,558.4,530.8,512.4,608.2,790.3,null,null,646.0,582.9,444.3,443.1,519.1,516.0,null,499.4,768.3,780.9,536.1,681.0,486.3,541.7,631.9,656.7,380.8,623.5,490.0,482.4,649.8,615.8,null,null,506.1,null,null,null,441.9,578.5,484.2,764.6,459.6,670.9,null,null,null,767.5,634.8,493.4,null,518.8,667.1,665.7,542.7,465.2,null,697.6,596.0,null,585.3,473.6,470.9,581.8,null,469.0,506.8,533.6,569.6,null,571.0,668.0,583.8,null,null,null,526.5,627.1,602.6,540.4,null,null,null,459.4,448.6,588.2,null,734.6,699.8,780.7,672.0,483.3,586.8,654.0,717.4,531.5,472.3,null,437.0,524.9,554.0,593.4,null,601.0,null,627.0,557.6,720.4,null,465.1,597.5,479.8,597.1,568.7,535.9,643.4,719.0,null,null,598.1,453.4,405.9,537.7,508.2,816.3,null,650.1,423.9,648.2,663.0,657.8,617.3,null,694.8,468.2,769.4,429.3,623.8,454.3,490.9,717.5,625.3,783.8,420.2,null,null,439.6,462.6,null,467.2,814.4,577.8,864.2,520.3,580.0,453.6,583.0,573.1,null,null,637.6,368.2,632.5,653.8,390.7,495.1,null,434.6,393.8,null,794.0,493.0,650.8,669.4,438.4,586.7,null,674.7,601.5,561.4,737.6,null,null,599.9,571.0,502.8,555.7,null,776.8,551.2,612.9,630.3,752.0,474.3,null,596.5,null,605.9,438.7,361.7,null,475.9,660.8,384.8,436.1,749.2,738.6,692.7,375.3,554.5,546.5,null,null,822.5,597.8,730.5,585.7,null,370.2,541.2,null,null,462.0,443.0,755.6,524.1,620.0,413.4,643.2,606.6,526.1,507.8,673.7,null,507.9,654.6,489.2,577.0,null,null,896.6,604.6,562.6,440.0,586.5,684.6,676.9,743.8,651.2,null,625.3,648.0,457.3,803.0,566.2,404.7,505.3,621.6,756.6,568.4,null,480.0,null,null,null,424.9,679.1,680.6,505.7,691.7,378.0,510.7,567.8,622.9,506.5,384.9,468.4,437.4,null,385.9,624.1,622.4,621.5,700.4,749.4,null,561.0,486.5,575.2,665.7,515.5,null,624.9,453.4,588.3,592.1,432.1,532.5,428.0,781.7,504.9,554.4,602.8,537.4,396.3,590.3,null,710.6,582.1,579.0,679.0,729.5,null,460.3,395.7,null,392.3,491.5,553.6,null,null,null,720.2,null,550.8,673.3,441.3,769.6,402.6,688.2,null,684.7,590.0],\"xaxis\":\"x\",\"yaxis\":\"y\",\"type\":\"histogram\"}],                        {\"template\":{\"data\":{\"histogram2dcontour\":[{\"type\":\"histogram2dcontour\",\"colorbar\":{\"outlinewidth\":0,\"ticks\":\"\"},\"colorscale\":[[0.0,\"#0d0887\"],[0.1111111111111111,\"#46039f\"],[0.2222222222222222,\"#7201a8\"],[0.3333333333333333,\"#9c179e\"],[0.4444444444444444,\"#bd3786\"],[0.5555555555555556,\"#d8576b\"],[0.6666666666666666,\"#ed7953\"],[0.7777777777777778,\"#fb9f3a\"],[0.8888888888888888,\"#fdca26\"],[1.0,\"#f0f921\"]]}],\"choropleth\":[{\"type\":\"choropleth\",\"colorbar\":{\"outlinewidth\":0,\"ticks\":\"\"}}],\"histogram2d\":[{\"type\":\"histogram2d\",\"colorbar\":{\"outlinewidth\":0,\"ticks\":\"\"},\"colorscale\":[[0.0,\"#0d0887\"],[0.1111111111111111,\"#46039f\"],[0.2222222222222222,\"#7201a8\"],[0.3333333333333333,\"#9c179e\"],[0.4444444444444444,\"#bd3786\"],[0.5555555555555556,\"#d8576b\"],[0.6666666666666666,\"#ed7953\"],[0.7777777777777778,\"#fb9f3a\"],[0.8888888888888888,\"#fdca26\"],[1.0,\"#f0f921\"]]}],\"heatmap\":[{\"type\":\"heatmap\",\"colorbar\":{\"outlinewidth\":0,\"ticks\":\"\"},\"colorscale\":[[0.0,\"#0d0887\"],[0.1111111111111111,\"#46039f\"],[0.2222222222222222,\"#7201a8\"],[0.3333333333333333,\"#9c179e\"],[0.4444444444444444,\"#bd3786\"],[0.5555555555555556,\"#d8576b\"],[0.6666666666666666,\"#ed7953\"],[0.7777777777777778,\"#fb9f3a\"],[0.8888888888888888,\"#fdca26\"],[1.0,\"#f0f921\"]]}],\"heatmapgl\":[{\"type\":\"heatmapgl\",\"colorbar\":{\"outlinewidth\":0,\"ticks\":\"\"},\"colorscale\":[[0.0,\"#0d0887\"],[0.1111111111111111,\"#46039f\"],[0.2222222222222222,\"#7201a8\"],[0.3333333333333333,\"#9c179e\"],[0.4444444444444444,\"#bd3786\"],[0.5555555555555556,\"#d8576b\"],[0.6666666666666666,\"#ed7953\"],[0.7777777777777778,\"#fb9f3a\"],[0.8888888888888888,\"#fdca26\"],[1.0,\"#f0f921\"]]}],\"contourcarpet\":[{\"type\":\"contourcarpet\",\"colorbar\":{\"outlinewidth\":0,\"ticks\":\"\"}}],\"contour\":[{\"type\":\"contour\",\"colorbar\":{\"outlinewidth\":0,\"ticks\":\"\"},\"colorscale\":[[0.0,\"#0d0887\"],[0.1111111111111111,\"#46039f\"],[0.2222222222222222,\"#7201a8\"],[0.3333333333333333,\"#9c179e\"],[0.4444444444444444,\"#bd3786\"],[0.5555555555555556,\"#d8576b\"],[0.6666666666666666,\"#ed7953\"],[0.7777777777777778,\"#fb9f3a\"],[0.8888888888888888,\"#fdca26\"],[1.0,\"#f0f921\"]]}],\"surface\":[{\"type\":\"surface\",\"colorbar\":{\"outlinewidth\":0,\"ticks\":\"\"},\"colorscale\":[[0.0,\"#0d0887\"],[0.1111111111111111,\"#46039f\"],[0.2222222222222222,\"#7201a8\"],[0.3333333333333333,\"#9c179e\"],[0.4444444444444444,\"#bd3786\"],[0.5555555555555556,\"#d8576b\"],[0.6666666666666666,\"#ed7953\"],[0.7777777777777778,\"#fb9f3a\"],[0.8888888888888888,\"#fdca26\"],[1.0,\"#f0f921\"]]}],\"mesh3d\":[{\"type\":\"mesh3d\",\"colorbar\":{\"outlinewidth\":0,\"ticks\":\"\"}}],\"scatter\":[{\"fillpattern\":{\"fillmode\":\"overlay\",\"size\":10,\"solidity\":0.2},\"type\":\"scatter\"}],\"parcoords\":[{\"type\":\"parcoords\",\"line\":{\"colorbar\":{\"outlinewidth\":0,\"ticks\":\"\"}}}],\"scatterpolargl\":[{\"type\":\"scatterpolargl\",\"marker\":{\"colorbar\":{\"outlinewidth\":0,\"ticks\":\"\"}}}],\"bar\":[{\"error_x\":{\"color\":\"#2a3f5f\"},\"error_y\":{\"color\":\"#2a3f5f\"},\"marker\":{\"line\":{\"color\":\"#E5ECF6\",\"width\":0.5},\"pattern\":{\"fillmode\":\"overlay\",\"size\":10,\"solidity\":0.2}},\"type\":\"bar\"}],\"scattergeo\":[{\"type\":\"scattergeo\",\"marker\":{\"colorbar\":{\"outlinewidth\":0,\"ticks\":\"\"}}}],\"scatterpolar\":[{\"type\":\"scatterpolar\",\"marker\":{\"colorbar\":{\"outlinewidth\":0,\"ticks\":\"\"}}}],\"histogram\":[{\"marker\":{\"pattern\":{\"fillmode\":\"overlay\",\"size\":10,\"solidity\":0.2}},\"type\":\"histogram\"}],\"scattergl\":[{\"type\":\"scattergl\",\"marker\":{\"colorbar\":{\"outlinewidth\":0,\"ticks\":\"\"}}}],\"scatter3d\":[{\"type\":\"scatter3d\",\"line\":{\"colorbar\":{\"outlinewidth\":0,\"ticks\":\"\"}},\"marker\":{\"colorbar\":{\"outlinewidth\":0,\"ticks\":\"\"}}}],\"scattermapbox\":[{\"type\":\"scattermapbox\",\"marker\":{\"colorbar\":{\"outlinewidth\":0,\"ticks\":\"\"}}}],\"scatterternary\":[{\"type\":\"scatterternary\",\"marker\":{\"colorbar\":{\"outlinewidth\":0,\"ticks\":\"\"}}}],\"scattercarpet\":[{\"type\":\"scattercarpet\",\"marker\":{\"colorbar\":{\"outlinewidth\":0,\"ticks\":\"\"}}}],\"carpet\":[{\"aaxis\":{\"endlinecolor\":\"#2a3f5f\",\"gridcolor\":\"white\",\"linecolor\":\"white\",\"minorgridcolor\":\"white\",\"startlinecolor\":\"#2a3f5f\"},\"baxis\":{\"endlinecolor\":\"#2a3f5f\",\"gridcolor\":\"white\",\"linecolor\":\"white\",\"minorgridcolor\":\"white\",\"startlinecolor\":\"#2a3f5f\"},\"type\":\"carpet\"}],\"table\":[{\"cells\":{\"fill\":{\"color\":\"#EBF0F8\"},\"line\":{\"color\":\"white\"}},\"header\":{\"fill\":{\"color\":\"#C8D4E3\"},\"line\":{\"color\":\"white\"}},\"type\":\"table\"}],\"barpolar\":[{\"marker\":{\"line\":{\"color\":\"#E5ECF6\",\"width\":0.5},\"pattern\":{\"fillmode\":\"overlay\",\"size\":10,\"solidity\":0.2}},\"type\":\"barpolar\"}],\"pie\":[{\"automargin\":true,\"type\":\"pie\"}]},\"layout\":{\"autotypenumbers\":\"strict\",\"colorway\":[\"#636efa\",\"#EF553B\",\"#00cc96\",\"#ab63fa\",\"#FFA15A\",\"#19d3f3\",\"#FF6692\",\"#B6E880\",\"#FF97FF\",\"#FECB52\"],\"font\":{\"color\":\"#2a3f5f\"},\"hovermode\":\"closest\",\"hoverlabel\":{\"align\":\"left\"},\"paper_bgcolor\":\"white\",\"plot_bgcolor\":\"#E5ECF6\",\"polar\":{\"bgcolor\":\"#E5ECF6\",\"angularaxis\":{\"gridcolor\":\"white\",\"linecolor\":\"white\",\"ticks\":\"\"},\"radialaxis\":{\"gridcolor\":\"white\",\"linecolor\":\"white\",\"ticks\":\"\"}},\"ternary\":{\"bgcolor\":\"#E5ECF6\",\"aaxis\":{\"gridcolor\":\"white\",\"linecolor\":\"white\",\"ticks\":\"\"},\"baxis\":{\"gridcolor\":\"white\",\"linecolor\":\"white\",\"ticks\":\"\"},\"caxis\":{\"gridcolor\":\"white\",\"linecolor\":\"white\",\"ticks\":\"\"}},\"coloraxis\":{\"colorbar\":{\"outlinewidth\":0,\"ticks\":\"\"}},\"colorscale\":{\"sequential\":[[0.0,\"#0d0887\"],[0.1111111111111111,\"#46039f\"],[0.2222222222222222,\"#7201a8\"],[0.3333333333333333,\"#9c179e\"],[0.4444444444444444,\"#bd3786\"],[0.5555555555555556,\"#d8576b\"],[0.6666666666666666,\"#ed7953\"],[0.7777777777777778,\"#fb9f3a\"],[0.8888888888888888,\"#fdca26\"],[1.0,\"#f0f921\"]],\"sequentialminus\":[[0.0,\"#0d0887\"],[0.1111111111111111,\"#46039f\"],[0.2222222222222222,\"#7201a8\"],[0.3333333333333333,\"#9c179e\"],[0.4444444444444444,\"#bd3786\"],[0.5555555555555556,\"#d8576b\"],[0.6666666666666666,\"#ed7953\"],[0.7777777777777778,\"#fb9f3a\"],[0.8888888888888888,\"#fdca26\"],[1.0,\"#f0f921\"]],\"diverging\":[[0,\"#8e0152\"],[0.1,\"#c51b7d\"],[0.2,\"#de77ae\"],[0.3,\"#f1b6da\"],[0.4,\"#fde0ef\"],[0.5,\"#f7f7f7\"],[0.6,\"#e6f5d0\"],[0.7,\"#b8e186\"],[0.8,\"#7fbc41\"],[0.9,\"#4d9221\"],[1,\"#276419\"]]},\"xaxis\":{\"gridcolor\":\"white\",\"linecolor\":\"white\",\"ticks\":\"\",\"title\":{\"standoff\":15},\"zerolinecolor\":\"white\",\"automargin\":true,\"zerolinewidth\":2},\"yaxis\":{\"gridcolor\":\"white\",\"linecolor\":\"white\",\"ticks\":\"\",\"title\":{\"standoff\":15},\"zerolinecolor\":\"white\",\"automargin\":true,\"zerolinewidth\":2},\"scene\":{\"xaxis\":{\"backgroundcolor\":\"#E5ECF6\",\"gridcolor\":\"white\",\"linecolor\":\"white\",\"showbackground\":true,\"ticks\":\"\",\"zerolinecolor\":\"white\",\"gridwidth\":2},\"yaxis\":{\"backgroundcolor\":\"#E5ECF6\",\"gridcolor\":\"white\",\"linecolor\":\"white\",\"showbackground\":true,\"ticks\":\"\",\"zerolinecolor\":\"white\",\"gridwidth\":2},\"zaxis\":{\"backgroundcolor\":\"#E5ECF6\",\"gridcolor\":\"white\",\"linecolor\":\"white\",\"showbackground\":true,\"ticks\":\"\",\"zerolinecolor\":\"white\",\"gridwidth\":2}},\"shapedefaults\":{\"line\":{\"color\":\"#2a3f5f\"}},\"annotationdefaults\":{\"arrowcolor\":\"#2a3f5f\",\"arrowhead\":0,\"arrowwidth\":1},\"geo\":{\"bgcolor\":\"white\",\"landcolor\":\"#E5ECF6\",\"subunitcolor\":\"white\",\"showland\":true,\"showlakes\":true,\"lakecolor\":\"white\"},\"title\":{\"x\":0.05},\"mapbox\":{\"style\":\"light\"}}},\"xaxis\":{\"anchor\":\"y\",\"domain\":[0.0,1.0],\"title\":{\"text\":\"Notas de Matem\\u00e1tica\"}},\"yaxis\":{\"anchor\":\"x\",\"domain\":[0.0,1.0],\"title\":{\"text\":\"probability\"}},\"legend\":{\"tracegroupgap\":0},\"margin\":{\"t\":60},\"barmode\":\"relative\",\"title\":{\"font\":{\"color\":\"#005DAA\"},\"text\":\"Notas Matem\\u00e1tica - SC - ENEM 2022\",\"x\":0.5,\"xanchor\":\"center\"},\"width\":600,\"height\":500},                        {\"responsive\": true}                    ).then(function(){\n",
              "                            \n",
              "var gd = document.getElementById('5abfc129-e321-4ad6-bb7a-c4edda91a419');\n",
              "var x = new MutationObserver(function (mutations, observer) {{\n",
              "        var display = window.getComputedStyle(gd).display;\n",
              "        if (!display || display === 'none') {{\n",
              "            console.log([gd, 'removed!']);\n",
              "            Plotly.purge(gd);\n",
              "            observer.disconnect();\n",
              "        }}\n",
              "}});\n",
              "\n",
              "// Listen for the removal of the full notebook cells\n",
              "var notebookContainer = gd.closest('#notebook-container');\n",
              "if (notebookContainer) {{\n",
              "    x.observe(notebookContainer, {childList: true});\n",
              "}}\n",
              "\n",
              "// Listen for the clearing of the current output cell\n",
              "var outputEl = gd.closest('.output');\n",
              "if (outputEl) {{\n",
              "    x.observe(outputEl, {childList: true});\n",
              "}}\n",
              "\n",
              "                        })                };                            </script>        </div>\n",
              "</body>\n",
              "</html>"
            ]
          },
          "metadata": {}
        }
      ]
    },
    {
      "cell_type": "code",
      "source": [
        "sns.displot(df1_sc['NU_NOTA_MT'], bins=60, edgecolor= '#ADE3F8' , color = '#005DAA' , kde=True, stat=\"probability\");\n",
        "# Defina o rótulo do eixo x\n",
        "plt.xlabel('Notas de Matemática')\n",
        "plt.ylabel('stat=\"probability\"') # No caso em que stat=\"probability\"\n"
      ],
      "metadata": {
        "colab": {
          "base_uri": "https://localhost:8080/",
          "height": 523
        },
        "id": "Af1y72SjZ7k_",
        "outputId": "5c337b71-6387-44cc-d69b-2c2d6a880908"
      },
      "execution_count": null,
      "outputs": [
        {
          "output_type": "execute_result",
          "data": {
            "text/plain": [
              "Text(-8.055555555555555, 0.5, 'stat=\"probability\"')"
            ]
          },
          "metadata": {},
          "execution_count": 20
        },
        {
          "output_type": "display_data",
          "data": {
            "text/plain": [
              "<Figure size 500x500 with 1 Axes>"
            ],
            "image/png": "[encoded data removed]"
          },
          "metadata": {}
        }
      ]
    },
    {
      "cell_type": "markdown",
      "source": [
        "## 11) <font color='#005DAA'><b> Renomear a coluna NU_NOTA_MT por NOTA_MT e verifique a alteração"
      ],
      "metadata": {
        "id": "JwVnhBI5WJHp"
      }
    },
    {
      "cell_type": "code",
      "source": [
        "df1_sc = df1_sc.rename(columns={'NU_NOTA_MT':'NOTA_MT'})"
      ],
      "metadata": {
        "id": "lV681AQRlSkN"
      },
      "execution_count": null,
      "outputs": []
    },
    {
      "cell_type": "markdown",
      "source": [
        "Dica:\n",
        "\n",
        "df=df.rename(columns={'NOME_VELHO' : 'NOME_NOVO'})"
      ],
      "metadata": {
        "id": "vYpjg7awcxcH"
      }
    },
    {
      "cell_type": "markdown",
      "source": [
        "## 12) <font color='#005DAA'><b> Filtre e visualize apenas as notas das mulheres, ou seja, todos os dados em que a variável \"TP_SEXO\" é igual a 'F'."
      ],
      "metadata": {
        "id": "RcLPNTKXdUtu"
      }
    },
    {
      "cell_type": "code",
      "source": [
        "df1_sc_f = df1_sc.loc[df1_sc.TP_SEXO == 'F']\n",
        "\n",
        "df1_sc_f.head()"
      ],
      "metadata": {
        "colab": {
          "base_uri": "https://localhost:8080/",
          "height": 317
        },
        "id": "8beTl_QtmNOn",
        "outputId": "42e3e145-d617-4830-f7e8-f1452484f48f"
      },
      "execution_count": null,
      "outputs": [
        {
          "output_type": "execute_result",
          "data": {
            "text/plain": [
              "   Unnamed: 0 NU_INSCRICAO  NU_ANO  TP_FAIXA_ETARIA TP_SEXO  TP_ESTADO_CIVIL  \\\n",
              "0         205  2,10056E+11    2022                3       F                0   \n",
              "2         567  2,10055E+11    2022                3       F                1   \n",
              "4         946  2,10055E+11    2022                2       F                1   \n",
              "5         970  2,10056E+11    2022                2       F                1   \n",
              "6        1452  2,10058E+11    2022                3       F                1   \n",
              "\n",
              "   TP_COR_RACA  TP_NACIONALIDADE  TP_ST_CONCLUSAO  TP_ANO_CONCLUIU  ...  Q016  \\\n",
              "0            1                 1                2                0  ...     B   \n",
              "2            1                 1                2                0  ...     B   \n",
              "4            1                 1                2                0  ...     B   \n",
              "5            3                 1                2                0  ...     B   \n",
              "6            1                 1                2                0  ...     B   \n",
              "\n",
              "   Q017  Q018 Q019 Q020  Q021  Q022  Q023 Q024 Q025  \n",
              "0     A     B    C    A     A     E     A    B    B  \n",
              "2     A     A    B    A     A     D     A    A    B  \n",
              "4     A     B    C    B     A     E     A    C    B  \n",
              "5     A     A    B    A     A     B     A    A    B  \n",
              "6     A     A    B    A     A     D     A    B    B  \n",
              "\n",
              "[5 rows x 73 columns]"
            ],
            "text/html": [
              "\n",
              "\n",
              "  <div id=\"df-6b6f8cc3-06dd-4c91-99ea-add6da75e5af\">\n",
              "    <div class=\"colab-df-container\">\n",
              "      <div>\n",
              "<style scoped>\n",
              "    .dataframe tbody tr th:only-of-type {\n",
              "        vertical-align: middle;\n",
              "    }\n",
              "\n",
              "    .dataframe tbody tr th {\n",
              "        vertical-align: top;\n",
              "    }\n",
              "\n",
              "    .dataframe thead th {\n",
              "        text-align: right;\n",
              "    }\n",
              "</style>\n",
              "<table border=\"1\" class=\"dataframe\">\n",
              "  <thead>\n",
              "    <tr style=\"text-align: right;\">\n",
              "      <th></th>\n",
              "      <th>Unnamed: 0</th>\n",
              "      <th>NU_INSCRICAO</th>\n",
              "      <th>NU_ANO</th>\n",
              "      <th>TP_FAIXA_ETARIA</th>\n",
              "      <th>TP_SEXO</th>\n",
              "      <th>TP_ESTADO_CIVIL</th>\n",
              "      <th>TP_COR_RACA</th>\n",
              "      <th>TP_NACIONALIDADE</th>\n",
              "      <th>TP_ST_CONCLUSAO</th>\n",
              "      <th>TP_ANO_CONCLUIU</th>\n",
              "      <th>...</th>\n",
              "      <th>Q016</th>\n",
              "      <th>Q017</th>\n",
              "      <th>Q018</th>\n",
              "      <th>Q019</th>\n",
              "      <th>Q020</th>\n",
              "      <th>Q021</th>\n",
              "      <th>Q022</th>\n",
              "      <th>Q023</th>\n",
              "      <th>Q024</th>\n",
              "      <th>Q025</th>\n",
              "    </tr>\n",
              "  </thead>\n",
              "  <tbody>\n",
              "    <tr>\n",
              "      <th>0</th>\n",
              "      <td>205</td>\n",
              "      <td>2,10056E+11</td>\n",
              "      <td>2022</td>\n",
              "      <td>3</td>\n",
              "      <td>F</td>\n",
              "      <td>0</td>\n",
              "      <td>1</td>\n",
              "      <td>1</td>\n",
              "      <td>2</td>\n",
              "      <td>0</td>\n",
              "      <td>...</td>\n",
              "      <td>B</td>\n",
              "      <td>A</td>\n",
              "      <td>B</td>\n",
              "      <td>C</td>\n",
              "      <td>A</td>\n",
              "      <td>A</td>\n",
              "      <td>E</td>\n",
              "      <td>A</td>\n",
              "      <td>B</td>\n",
              "      <td>B</td>\n",
              "    </tr>\n",
              "    <tr>\n",
              "      <th>2</th>\n",
              "      <td>567</td>\n",
              "      <td>2,10055E+11</td>\n",
              "      <td>2022</td>\n",
              "      <td>3</td>\n",
              "      <td>F</td>\n",
              "      <td>1</td>\n",
              "      <td>1</td>\n",
              "      <td>1</td>\n",
              "      <td>2</td>\n",
              "      <td>0</td>\n",
              "      <td>...</td>\n",
              "      <td>B</td>\n",
              "      <td>A</td>\n",
              "      <td>A</td>\n",
              "      <td>B</td>\n",
              "      <td>A</td>\n",
              "      <td>A</td>\n",
              "      <td>D</td>\n",
              "      <td>A</td>\n",
              "      <td>A</td>\n",
              "      <td>B</td>\n",
              "    </tr>\n",
              "    <tr>\n",
              "      <th>4</th>\n",
              "      <td>946</td>\n",
              "      <td>2,10055E+11</td>\n",
              "      <td>2022</td>\n",
              "      <td>2</td>\n",
              "      <td>F</td>\n",
              "      <td>1</td>\n",
              "      <td>1</td>\n",
              "      <td>1</td>\n",
              "      <td>2</td>\n",
              "      <td>0</td>\n",
              "      <td>...</td>\n",
              "      <td>B</td>\n",
              "      <td>A</td>\n",
              "      <td>B</td>\n",
              "      <td>C</td>\n",
              "      <td>B</td>\n",
              "      <td>A</td>\n",
              "      <td>E</td>\n",
              "      <td>A</td>\n",
              "      <td>C</td>\n",
              "      <td>B</td>\n",
              "    </tr>\n",
              "    <tr>\n",
              "      <th>5</th>\n",
              "      <td>970</td>\n",
              "      <td>2,10056E+11</td>\n",
              "      <td>2022</td>\n",
              "      <td>2</td>\n",
              "      <td>F</td>\n",
              "      <td>1</td>\n",
              "      <td>3</td>\n",
              "      <td>1</td>\n",
              "      <td>2</td>\n",
              "      <td>0</td>\n",
              "      <td>...</td>\n",
              "      <td>B</td>\n",
              "      <td>A</td>\n",
              "      <td>A</td>\n",
              "      <td>B</td>\n",
              "      <td>A</td>\n",
              "      <td>A</td>\n",
              "      <td>B</td>\n",
              "      <td>A</td>\n",
              "      <td>A</td>\n",
              "      <td>B</td>\n",
              "    </tr>\n",
              "    <tr>\n",
              "      <th>6</th>\n",
              "      <td>1452</td>\n",
              "      <td>2,10058E+11</td>\n",
              "      <td>2022</td>\n",
              "      <td>3</td>\n",
              "      <td>F</td>\n",
              "      <td>1</td>\n",
              "      <td>1</td>\n",
              "      <td>1</td>\n",
              "      <td>2</td>\n",
              "      <td>0</td>\n",
              "      <td>...</td>\n",
              "      <td>B</td>\n",
              "      <td>A</td>\n",
              "      <td>A</td>\n",
              "      <td>B</td>\n",
              "      <td>A</td>\n",
              "      <td>A</td>\n",
              "      <td>D</td>\n",
              "      <td>A</td>\n",
              "      <td>B</td>\n",
              "      <td>B</td>\n",
              "    </tr>\n",
              "  </tbody>\n",
              "</table>\n",
              "<p>5 rows × 73 columns</p>\n",
              "</div>\n",
              "      <button class=\"colab-df-convert\" onclick=\"convertToInteractive('df-6b6f8cc3-06dd-4c91-99ea-add6da75e5af')\"\n",
              "              title=\"Convert this dataframe to an interactive table.\"\n",
              "              style=\"display:none;\">\n",
              "\n",
              "  <svg xmlns=\"http://www.w3.org/2000/svg\" height=\"24px\"viewBox=\"0 0 24 24\"\n",
              "       width=\"24px\">\n",
              "    <path d=\"M0 0h24v24H0V0z\" fill=\"none\"/>\n",
              "    <path d=\"M18.56 5.44l.94 2.06.94-2.06 2.06-.94-2.06-.94-.94-2.06-.94 2.06-2.06.94zm-11 1L8.5 8.5l.94-2.06 2.06-.94-2.06-.94L8.5 2.5l-.94 2.06-2.06.94zm10 10l.94 2.06.94-2.06 2.06-.94-2.06-.94-.94-2.06-.94 2.06-2.06.94z\"/><path d=\"M17.41 7.96l-1.37-1.37c-.4-.4-.92-.59-1.43-.59-.52 0-1.04.2-1.43.59L10.3 9.45l-7.72 7.72c-.78.78-.78 2.05 0 2.83L4 21.41c.39.39.9.59 1.41.59.51 0 1.02-.2 1.41-.59l7.78-7.78 2.81-2.81c.8-.78.8-2.07 0-2.86zM5.41 20L4 18.59l7.72-7.72 1.47 1.35L5.41 20z\"/>\n",
              "  </svg>\n",
              "      </button>\n",
              "\n",
              "\n",
              "\n",
              "    <div id=\"df-c02a81e8-e622-4e6e-8c9a-810ed53a1296\">\n",
              "      <button class=\"colab-df-quickchart\" onclick=\"quickchart('df-c02a81e8-e622-4e6e-8c9a-810ed53a1296')\"\n",
              "              title=\"Suggest charts.\"\n",
              "              style=\"display:none;\">\n",
              "\n",
              "<svg xmlns=\"http://www.w3.org/2000/svg\" height=\"24px\"viewBox=\"0 0 24 24\"\n",
              "     width=\"24px\">\n",
              "    <g>\n",
              "        <path d=\"M19 3H5c-1.1 0-2 .9-2 2v14c0 1.1.9 2 2 2h14c1.1 0 2-.9 2-2V5c0-1.1-.9-2-2-2zM9 17H7v-7h2v7zm4 0h-2V7h2v10zm4 0h-2v-4h2v4z\"/>\n",
              "    </g>\n",
              "</svg>\n",
              "      </button>\n",
              "    </div>\n",
              "\n",
              "<style>\n",
              "  .colab-df-quickchart {\n",
              "    background-color: #E8F0FE;\n",
              "    border: none;\n",
              "    border-radius: 50%;\n",
              "    cursor: pointer;\n",
              "    display: none;\n",
              "    fill: #1967D2;\n",
              "    height: 32px;\n",
              "    padding: 0 0 0 0;\n",
              "    width: 32px;\n",
              "  }\n",
              "\n",
              "  .colab-df-quickchart:hover {\n",
              "    background-color: #E2EBFA;\n",
              "    box-shadow: 0px 1px 2px rgba(60, 64, 67, 0.3), 0px 1px 3px 1px rgba(60, 64, 67, 0.15);\n",
              "    fill: #174EA6;\n",
              "  }\n",
              "\n",
              "  [theme=dark] .colab-df-quickchart {\n",
              "    background-color: #3B4455;\n",
              "    fill: #D2E3FC;\n",
              "  }\n",
              "\n",
              "  [theme=dark] .colab-df-quickchart:hover {\n",
              "    background-color: #434B5C;\n",
              "    box-shadow: 0px 1px 3px 1px rgba(0, 0, 0, 0.15);\n",
              "    filter: drop-shadow(0px 1px 2px rgba(0, 0, 0, 0.3));\n",
              "    fill: #FFFFFF;\n",
              "  }\n",
              "</style>\n",
              "\n",
              "    <script>\n",
              "      async function quickchart(key) {\n",
              "        const containerElement = document.querySelector('#' + key);\n",
              "        const charts = await google.colab.kernel.invokeFunction(\n",
              "            'suggestCharts', [key], {});\n",
              "      }\n",
              "    </script>\n",
              "\n",
              "      <script>\n",
              "\n",
              "function displayQuickchartButton(domScope) {\n",
              "  let quickchartButtonEl =\n",
              "    domScope.querySelector('#df-c02a81e8-e622-4e6e-8c9a-810ed53a1296 button.colab-df-quickchart');\n",
              "  quickchartButtonEl.style.display =\n",
              "    google.colab.kernel.accessAllowed ? 'block' : 'none';\n",
              "}\n",
              "\n",
              "        displayQuickchartButton(document);\n",
              "      </script>\n",
              "      <style>\n",
              "    .colab-df-container {\n",
              "      display:flex;\n",
              "      flex-wrap:wrap;\n",
              "      gap: 12px;\n",
              "    }\n",
              "\n",
              "    .colab-df-convert {\n",
              "      background-color: #E8F0FE;\n",
              "      border: none;\n",
              "      border-radius: 50%;\n",
              "      cursor: pointer;\n",
              "      display: none;\n",
              "      fill: #1967D2;\n",
              "      height: 32px;\n",
              "      padding: 0 0 0 0;\n",
              "      width: 32px;\n",
              "    }\n",
              "\n",
              "    .colab-df-convert:hover {\n",
              "      background-color: #E2EBFA;\n",
              "      box-shadow: 0px 1px 2px rgba(60, 64, 67, 0.3), 0px 1px 3px 1px rgba(60, 64, 67, 0.15);\n",
              "      fill: #174EA6;\n",
              "    }\n",
              "\n",
              "    [theme=dark] .colab-df-convert {\n",
              "      background-color: #3B4455;\n",
              "      fill: #D2E3FC;\n",
              "    }\n",
              "\n",
              "    [theme=dark] .colab-df-convert:hover {\n",
              "      background-color: #434B5C;\n",
              "      box-shadow: 0px 1px 3px 1px rgba(0, 0, 0, 0.15);\n",
              "      filter: drop-shadow(0px 1px 2px rgba(0, 0, 0, 0.3));\n",
              "      fill: #FFFFFF;\n",
              "    }\n",
              "  </style>\n",
              "\n",
              "      <script>\n",
              "        const buttonEl =\n",
              "          document.querySelector('#df-6b6f8cc3-06dd-4c91-99ea-add6da75e5af button.colab-df-convert');\n",
              "        buttonEl.style.display =\n",
              "          google.colab.kernel.accessAllowed ? 'block' : 'none';\n",
              "\n",
              "        async function convertToInteractive(key) {\n",
              "          const element = document.querySelector('#df-6b6f8cc3-06dd-4c91-99ea-add6da75e5af');\n",
              "          const dataTable =\n",
              "            await google.colab.kernel.invokeFunction('convertToInteractive',\n",
              "                                                     [key], {});\n",
              "          if (!dataTable) return;\n",
              "\n",
              "          const docLinkHtml = 'Like what you see? Visit the ' +\n",
              "            '<a target=\"_blank\" href=https://colab.research.google.com/notebooks/data_table.ipynb>data table notebook</a>'\n",
              "            + ' to learn more about interactive tables.';\n",
              "          element.innerHTML = '';\n",
              "          dataTable['output_type'] = 'display_data';\n",
              "          await google.colab.output.renderOutput(dataTable, element);\n",
              "          const docLink = document.createElement('div');\n",
              "          docLink.innerHTML = docLinkHtml;\n",
              "          element.appendChild(docLink);\n",
              "        }\n",
              "      </script>\n",
              "    </div>\n",
              "  </div>\n"
            ]
          },
          "metadata": {},
          "execution_count": 25
        }
      ]
    },
    {
      "cell_type": "markdown",
      "source": [
        "Dica:\n",
        "\n",
        "df_mulher = df.loc[df.SEXO == 'Feminino']"
      ],
      "metadata": {
        "id": "10n54pEuyb3e"
      }
    },
    {
      "cell_type": "markdown",
      "source": [
        "## 13) <font color='#005DAA'><b> Faça um gráfico diferente do anterior para a nota de matemática dos alunos de SC."
      ],
      "metadata": {
        "id": "tKNewGohhZq6"
      }
    },
    {
      "cell_type": "code",
      "source": [
        "sns.boxplot(y = df1_sc['NOTA_MT'])\n",
        "plt.ylabel('Notas de Matemática')\n",
        "plt.show()"
      ],
      "metadata": {
        "colab": {
          "base_uri": "https://localhost:8080/",
          "height": 415
        },
        "id": "rvalSPutnBII",
        "outputId": "aee10775-cbc8-420c-9ec3-67442d74a2aa"
      },
      "execution_count": null,
      "outputs": [
        {
          "output_type": "display_data",
          "data": {
            "text/plain": [
              "<Figure size 640x480 with 1 Axes>"
            ],
            "image/png": "[encoded data removed]"
          },
          "metadata": {}
        }
      ]
    },
    {
      "cell_type": "markdown",
      "source": [
        "Para fazer o gráfico de boxplot, use a biblioteca Seaborn\n",
        "\n",
        "Crie o gráfico de boxplot\n",
        "\n",
        "sns.boxplot(x=df ['NOME DA COLUNA DO DATAFRAME'])\n",
        "\n",
        "Defina o rótulo do eixo x\n",
        "\n",
        "plt.xlabel('NOME DA VARIÁVEL')\n",
        "\n",
        "plt.show()\n"
      ],
      "metadata": {
        "id": "0oePEMY0aTRm"
      }
    },
    {
      "cell_type": "markdown",
      "source": [
        "## 14) <font color='#005DAA'><b> Personalize seu gráfico, adicionando outros parâmetros."
      ],
      "metadata": {
        "id": "SxOFtNh9fJ49"
      }
    },
    {
      "cell_type": "code",
      "source": [
        "# Box-plot personalizado\n",
        "sns.boxplot(y='NOTA_MT', data = df1_sc, color='#ADE3F8', showmeans=True)\n",
        "\n",
        "# Defina o rótulo do eixo x\n",
        "plt.ylabel('Notas de Matemática')\n",
        "\n",
        "# Exiba o gráfico\n",
        "plt.show()"
      ],
      "metadata": {
        "colab": {
          "base_uri": "https://localhost:8080/",
          "height": 415
        },
        "id": "dagCgfh1bHqI",
        "outputId": "791f5ae2-8c7d-4f21-ac88-10463a2d67fd"
      },
      "execution_count": null,
      "outputs": [
        {
          "output_type": "display_data",
          "data": {
            "text/plain": [
              "<Figure size 640x480 with 1 Axes>"
            ],
            "image/png": "[encoded data removed]"
          },
          "metadata": {}
        }
      ]
    },
    {
      "cell_type": "markdown",
      "source": [
        "Parâmetros que podem ser utilizados no boxplot\n",
        "\n",
        "**color**: Define a cor do boxplot.\n",
        "\n",
        "linewidth: Define a largura da linha que representa os limites do\n",
        "boxplot.\n",
        "\n",
        "whis: Define a amplitude dos bigodes. Por padrão, é 1.5.\n",
        "\n",
        "**showmeans**: Se definido como True, mostra a linha que representa a média.\n",
        "\n",
        "meanline: Se definido como True, adiciona uma linha vertical na média.\n",
        "\n",
        "showfliers: Se definido como False, não exibe os outliers.\n",
        "\n",
        "labels: Permite renomear as etiquetas do eixo x.\n",
        "plt.ylabel('variável) - para o gráfico ficar na vertical\n",
        "\n",
        "title: Define o título do gráfico.\n",
        "\n",
        "xlabel e ylabel: Definem os rótulos dos eixos x e y, respectivamente.\n"
      ],
      "metadata": {
        "id": "cScPnjyLCOBf"
      }
    },
    {
      "cell_type": "markdown",
      "source": [
        "## 15) <font color='#005DAA'><b> Calcule o Quartil1 e o Quartil3 das notas de matemática. Interprete o valor do Quartil 3.\n",
        "Exemplo:\n",
        "\n",
        "quartil1 = df['variável'].quantile(0.25)"
      ],
      "metadata": {
        "id": "gFrbg_3rMq7t"
      }
    },
    {
      "cell_type": "code",
      "source": [
        "q1 = df1_sc['NOTA_MT'].quantile(0.25)\n",
        "print(q1)\n",
        "q3 = df1_sc['NOTA_MT'].quantile(0.75)\n",
        "print(q3)\n",
        "\n",
        "IRQ = q3 - q1\n",
        "print(IRQ)\n",
        "\n",
        "limite1 = q3+1.5*IRQ\n",
        "print(limite1)\n",
        "\n",
        "limite2 = q1+1.5*IRQ\n",
        "print(limite2)"
      ],
      "metadata": {
        "colab": {
          "base_uri": "https://localhost:8080/"
        },
        "id": "nxVpJnw1ox3N",
        "outputId": "712bd5b3-74cf-48b2-fd88-0dab60c09ce6"
      },
      "execution_count": null,
      "outputs": [
        {
          "output_type": "stream",
          "name": "stdout",
          "text": [
            "481.525\n",
            "643.5\n",
            "161.97500000000002\n",
            "886.4625000000001\n",
            "724.4875\n"
          ]
        }
      ]
    },
    {
      "cell_type": "markdown",
      "source": [
        "## 16) <font color='#005DAA'><b> Quanto alunos de SC são outliers, considerando apenas a nota de matemática?"
      ],
      "metadata": {
        "id": "bw3nL4-6GNaj"
      }
    },
    {
      "cell_type": "code",
      "source": [
        "# Calcule o IQR e o limiteIQR\n",
        "\n",
        "IQR = q3-q1\n",
        "print(IQR)\n",
        "limiteIQR =q3 + 1.5 * IQR\n",
        "print(limiteIQR)\n"
      ],
      "metadata": {
        "colab": {
          "base_uri": "https://localhost:8080/"
        },
        "id": "Vf6jl3ApGhUd",
        "outputId": "e77ca4ca-104e-4dc1-a1de-5f6e0b32e70b"
      },
      "execution_count": null,
      "outputs": [
        {
          "output_type": "stream",
          "name": "stdout",
          "text": [
            "161.97500000000002\n",
            "886.4625000000001\n"
          ]
        }
      ]
    },
    {
      "cell_type": "code",
      "source": [
        "# Selecionar apenas os alunos com Nota de matemática > q3 + 1.5*IQR (limite para que a observação seja um outlier)\n",
        "\n",
        "df_outliers_mt = df1_sc[df1_sc['NOTA_MT'] > limiteIQR]"
      ],
      "metadata": {
        "id": "UFoQk6L1HrCb"
      },
      "execution_count": null,
      "outputs": []
    },
    {
      "cell_type": "code",
      "source": [
        "# aplique um \"describe\" na notas de matemática apenas deste grupo de outliers\n",
        "\n",
        "df_outliers_mt.NOTA_MT.describe()"
      ],
      "metadata": {
        "id": "USH76oFaL9eJ",
        "colab": {
          "base_uri": "https://localhost:8080/"
        },
        "outputId": "8eb306fc-f056-4b18-9e9d-0b4183a90a65"
      },
      "execution_count": null,
      "outputs": [
        {
          "output_type": "execute_result",
          "data": {
            "text/plain": [
              "count     14.000000\n",
              "mean     912.678571\n",
              "std       24.016506\n",
              "min      890.800000\n",
              "25%      893.825000\n",
              "50%      905.500000\n",
              "75%      917.475000\n",
              "max      971.300000\n",
              "Name: NOTA_MT, dtype: float64"
            ]
          },
          "metadata": {},
          "execution_count": 39
        }
      ]
    },
    {
      "cell_type": "markdown",
      "source": [
        "## 17) <font color='#005DAA'><b> Renomeie a variável TP_SEXO para SEXO e faça a análise das notas de matemática por SEXO.\n",
        "\n"
      ],
      "metadata": {
        "id": "dEWG74mBrdKg"
      }
    },
    {
      "cell_type": "code",
      "source": [
        "df1_sc=df1_sc.rename(columns={'SEXO':'Genero'})"
      ],
      "metadata": {
        "id": "r776rxLDtkN9"
      },
      "execution_count": null,
      "outputs": []
    },
    {
      "cell_type": "markdown",
      "source": [
        "Renomeie a variável TP_SEXO para SEXO"
      ],
      "metadata": {
        "id": "IGU_gse20OP5"
      }
    },
    {
      "cell_type": "markdown",
      "source": [
        "Dica:\n",
        "\n",
        "df=df.rename(columns={'NOME_VELHO' : 'NOME_NOVO'})"
      ],
      "metadata": {
        "id": "ZT4m1D6Qr8cv"
      }
    },
    {
      "cell_type": "code",
      "source": [
        "# Faça o Histograma ou BoxPlot das Notas de Matemática por SEXO\n",
        "\n",
        "import plotly.express as px\n",
        "\n",
        "grafico2 =  px.histogram (df1_sc,  x = \"NOTA_MT\", nbins=50, histnorm='probability', color='Genero')\n",
        "grafico2.update_layout(width=600,height=500, title_font_color = '#005DAA', title={\n",
        "        'text': 'Notas Matemática - SC - ENEM 2022',\n",
        "        'x': 0.5,\n",
        "        'xanchor': 'center'\n",
        "    })\n",
        "grafico2.update_xaxes(title_text=\"Notas de Matemática\")\n",
        "#grafico2.update_traces(marker_color='#005DAA')\n",
        "#grafico2.update_traces(marker_color={'F': '#005DAA', 'M': '#ADE3F8'}) # Altere as cores conforme necessário\n",
        "grafico2.show()"
      ],
      "metadata": {
        "id": "dni8z_LLxvvg",
        "colab": {
          "base_uri": "https://localhost:8080/",
          "height": 519
        },
        "outputId": "dc41f65c-df27-48b3-89c8-d8824646a6b8"
      },
      "execution_count": null,
      "outputs": [
        {
          "output_type": "error",
          "ename": "ValueError",
          "evalue": "ignored",
          "traceback": [
            "\u001b[0;31m---------------------------------------------------------------------------\u001b[0m",
            "\u001b[0;31mValueError\u001b[0m                                Traceback (most recent call last)",
            "\u001b[0;32m<ipython-input-41-fbc7c70581c2>\u001b[0m in \u001b[0;36m<cell line: 4>\u001b[0;34m()\u001b[0m\n\u001b[1;32m      2\u001b[0m \u001b[0;34m\u001b[0m\u001b[0m\n\u001b[1;32m      3\u001b[0m \u001b[0;32mimport\u001b[0m \u001b[0mplotly\u001b[0m\u001b[0;34m.\u001b[0m\u001b[0mexpress\u001b[0m \u001b[0;32mas\u001b[0m \u001b[0mpx\u001b[0m\u001b[0;34m\u001b[0m\u001b[0;34m\u001b[0m\u001b[0m\n\u001b[0;32m----> 4\u001b[0;31m \u001b[0mgrafico2\u001b[0m \u001b[0;34m=\u001b[0m  \u001b[0mpx\u001b[0m\u001b[0;34m.\u001b[0m\u001b[0mhistogram\u001b[0m \u001b[0;34m(\u001b[0m\u001b[0mdf1_sc\u001b[0m\u001b[0;34m,\u001b[0m  \u001b[0mx\u001b[0m \u001b[0;34m=\u001b[0m \u001b[0;34m\"NOTA_MT\"\u001b[0m\u001b[0;34m,\u001b[0m \u001b[0mnbins\u001b[0m\u001b[0;34m=\u001b[0m\u001b[0;36m50\u001b[0m\u001b[0;34m,\u001b[0m \u001b[0mhistnorm\u001b[0m\u001b[0;34m=\u001b[0m\u001b[0;34m'probability'\u001b[0m\u001b[0;34m,\u001b[0m \u001b[0mcolor\u001b[0m\u001b[0;34m=\u001b[0m\u001b[0;34m'Genero'\u001b[0m\u001b[0;34m)\u001b[0m\u001b[0;34m\u001b[0m\u001b[0;34m\u001b[0m\u001b[0m\n\u001b[0m\u001b[1;32m      5\u001b[0m grafico2.update_layout(width=600,height=500, title_font_color = '#005DAA', title={\n\u001b[1;32m      6\u001b[0m         \u001b[0;34m'text'\u001b[0m\u001b[0;34m:\u001b[0m \u001b[0;34m'Notas Matemática - SC - ENEM 2022'\u001b[0m\u001b[0;34m,\u001b[0m\u001b[0;34m\u001b[0m\u001b[0;34m\u001b[0m\u001b[0m\n",
            "\u001b[0;32m/usr/local/lib/python3.10/dist-packages/plotly/express/_chart_types.py\u001b[0m in \u001b[0;36mhistogram\u001b[0;34m(data_frame, x, y, color, pattern_shape, facet_row, facet_col, facet_col_wrap, facet_row_spacing, facet_col_spacing, hover_name, hover_data, animation_frame, animation_group, category_orders, labels, color_discrete_sequence, color_discrete_map, pattern_shape_sequence, pattern_shape_map, marginal, opacity, orientation, barmode, barnorm, histnorm, log_x, log_y, range_x, range_y, histfunc, cumulative, nbins, text_auto, title, template, width, height)\u001b[0m\n\u001b[1;32m    478\u001b[0m     `orientation` is `'h'`).\n\u001b[1;32m    479\u001b[0m     \"\"\"\n\u001b[0;32m--> 480\u001b[0;31m     return make_figure(\n\u001b[0m\u001b[1;32m    481\u001b[0m         \u001b[0margs\u001b[0m\u001b[0;34m=\u001b[0m\u001b[0mlocals\u001b[0m\u001b[0;34m(\u001b[0m\u001b[0;34m)\u001b[0m\u001b[0;34m,\u001b[0m\u001b[0;34m\u001b[0m\u001b[0;34m\u001b[0m\u001b[0m\n\u001b[1;32m    482\u001b[0m         \u001b[0mconstructor\u001b[0m\u001b[0;34m=\u001b[0m\u001b[0mgo\u001b[0m\u001b[0;34m.\u001b[0m\u001b[0mHistogram\u001b[0m\u001b[0;34m,\u001b[0m\u001b[0;34m\u001b[0m\u001b[0;34m\u001b[0m\u001b[0m\n",
            "\u001b[0;32m/usr/local/lib/python3.10/dist-packages/plotly/express/_core.py\u001b[0m in \u001b[0;36mmake_figure\u001b[0;34m(args, constructor, trace_patch, layout_patch)\u001b[0m\n\u001b[1;32m   1989\u001b[0m     \u001b[0mapply_default_cascade\u001b[0m\u001b[0;34m(\u001b[0m\u001b[0margs\u001b[0m\u001b[0;34m)\u001b[0m\u001b[0;34m\u001b[0m\u001b[0;34m\u001b[0m\u001b[0m\n\u001b[1;32m   1990\u001b[0m \u001b[0;34m\u001b[0m\u001b[0m\n\u001b[0;32m-> 1991\u001b[0;31m     \u001b[0margs\u001b[0m \u001b[0;34m=\u001b[0m \u001b[0mbuild_dataframe\u001b[0m\u001b[0;34m(\u001b[0m\u001b[0margs\u001b[0m\u001b[0;34m,\u001b[0m \u001b[0mconstructor\u001b[0m\u001b[0;34m)\u001b[0m\u001b[0;34m\u001b[0m\u001b[0;34m\u001b[0m\u001b[0m\n\u001b[0m\u001b[1;32m   1992\u001b[0m     \u001b[0;32mif\u001b[0m \u001b[0mconstructor\u001b[0m \u001b[0;32min\u001b[0m \u001b[0;34m[\u001b[0m\u001b[0mgo\u001b[0m\u001b[0;34m.\u001b[0m\u001b[0mTreemap\u001b[0m\u001b[0;34m,\u001b[0m \u001b[0mgo\u001b[0m\u001b[0;34m.\u001b[0m\u001b[0mSunburst\u001b[0m\u001b[0;34m,\u001b[0m \u001b[0mgo\u001b[0m\u001b[0;34m.\u001b[0m\u001b[0mIcicle\u001b[0m\u001b[0;34m]\u001b[0m \u001b[0;32mand\u001b[0m \u001b[0margs\u001b[0m\u001b[0;34m[\u001b[0m\u001b[0;34m\"path\"\u001b[0m\u001b[0;34m]\u001b[0m \u001b[0;32mis\u001b[0m \u001b[0;32mnot\u001b[0m \u001b[0;32mNone\u001b[0m\u001b[0;34m:\u001b[0m\u001b[0;34m\u001b[0m\u001b[0;34m\u001b[0m\u001b[0m\n\u001b[1;32m   1993\u001b[0m         \u001b[0margs\u001b[0m \u001b[0;34m=\u001b[0m \u001b[0mprocess_dataframe_hierarchy\u001b[0m\u001b[0;34m(\u001b[0m\u001b[0margs\u001b[0m\u001b[0;34m)\u001b[0m\u001b[0;34m\u001b[0m\u001b[0;34m\u001b[0m\u001b[0m\n",
            "\u001b[0;32m/usr/local/lib/python3.10/dist-packages/plotly/express/_core.py\u001b[0m in \u001b[0;36mbuild_dataframe\u001b[0;34m(args, constructor)\u001b[0m\n\u001b[1;32m   1404\u001b[0m     \u001b[0;31m# now that things have been prepped, we do the systematic rewriting of `args`\u001b[0m\u001b[0;34m\u001b[0m\u001b[0;34m\u001b[0m\u001b[0m\n\u001b[1;32m   1405\u001b[0m \u001b[0;34m\u001b[0m\u001b[0m\n\u001b[0;32m-> 1406\u001b[0;31m     df_output, wide_id_vars = process_args_into_dataframe(\n\u001b[0m\u001b[1;32m   1407\u001b[0m         \u001b[0margs\u001b[0m\u001b[0;34m,\u001b[0m \u001b[0mwide_mode\u001b[0m\u001b[0;34m,\u001b[0m \u001b[0mvar_name\u001b[0m\u001b[0;34m,\u001b[0m \u001b[0mvalue_name\u001b[0m\u001b[0;34m\u001b[0m\u001b[0;34m\u001b[0m\u001b[0m\n\u001b[1;32m   1408\u001b[0m     )\n",
            "\u001b[0;32m/usr/local/lib/python3.10/dist-packages/plotly/express/_core.py\u001b[0m in \u001b[0;36mprocess_args_into_dataframe\u001b[0;34m(args, wide_mode, var_name, value_name)\u001b[0m\n\u001b[1;32m   1206\u001b[0m                         \u001b[0;32mif\u001b[0m \u001b[0margument\u001b[0m \u001b[0;34m==\u001b[0m \u001b[0;34m\"index\"\u001b[0m\u001b[0;34m:\u001b[0m\u001b[0;34m\u001b[0m\u001b[0;34m\u001b[0m\u001b[0m\n\u001b[1;32m   1207\u001b[0m                             \u001b[0merr_msg\u001b[0m \u001b[0;34m+=\u001b[0m \u001b[0;34m\"\\n To use the index, pass it in directly as `df.index`.\"\u001b[0m\u001b[0;34m\u001b[0m\u001b[0;34m\u001b[0m\u001b[0m\n\u001b[0;32m-> 1208\u001b[0;31m                         \u001b[0;32mraise\u001b[0m \u001b[0mValueError\u001b[0m\u001b[0;34m(\u001b[0m\u001b[0merr_msg\u001b[0m\u001b[0;34m)\u001b[0m\u001b[0;34m\u001b[0m\u001b[0;34m\u001b[0m\u001b[0m\n\u001b[0m\u001b[1;32m   1209\u001b[0m                 \u001b[0;32melif\u001b[0m \u001b[0mlength\u001b[0m \u001b[0;32mand\u001b[0m \u001b[0mlen\u001b[0m\u001b[0;34m(\u001b[0m\u001b[0mdf_input\u001b[0m\u001b[0;34m[\u001b[0m\u001b[0margument\u001b[0m\u001b[0;34m]\u001b[0m\u001b[0;34m)\u001b[0m \u001b[0;34m!=\u001b[0m \u001b[0mlength\u001b[0m\u001b[0;34m:\u001b[0m\u001b[0;34m\u001b[0m\u001b[0;34m\u001b[0m\u001b[0m\n\u001b[1;32m   1210\u001b[0m                     raise ValueError(\n",
            "\u001b[0;31mValueError\u001b[0m: Value of 'color' is not the name of a column in 'data_frame'. Expected one of ['Unnamed: 0', 'NU_INSCRICAO', 'NU_ANO', 'TP_FAIXA_ETARIA', 'TP_SEXO', 'TP_ESTADO_CIVIL', 'TP_COR_RACA', 'TP_NACIONALIDADE', 'TP_ST_CONCLUSAO', 'TP_ANO_CONCLUIU', 'TP_ESCOLA', 'TP_ENSINO', 'IN_TREINEIRO', 'NO_MUNICIPIO_ESC', 'SG_UF_ESC', 'TP_DEPENDENCIA_ADM_ESC', 'TP_LOCALIZACAO_ESC', 'TP_SIT_FUNC_ESC', 'NO_MUNICIPIO_PROVA', 'SG_UF_PROVA', 'TP_PRESENCA_CN', 'TP_PRESENCA_CH', 'TP_PRESENCA_LC', 'TP_PRESENCA_MT', 'CO_PROVA_CN', 'CO_PROVA_CH', 'CO_PROVA_LC', 'CO_PROVA_MT', 'NU_NOTA_CN', 'NU_NOTA_CH', 'NU_NOTA_LC', 'NOTA_MT', 'TX_RESPOSTAS_CN', 'TX_RESPOSTAS_CH', 'TX_RESPOSTAS_LC', 'TX_RESPOSTAS_MT', 'TP_LINGUA', 'TX_GABARITO_CN', 'TX_GABARITO_CH', 'TX_GABARITO_LC', 'TX_GABARITO_MT', 'TP_STATUS_REDACAO', 'NU_NOTA_COMP1', 'NU_NOTA_COMP2', 'NU_NOTA_COMP3', 'NU_NOTA_COMP4', 'NU_NOTA_COMP5', 'NU_NOTA_REDACAO', 'Q001', 'Q002', 'Q003', 'Q004', 'Q005', 'Q006', 'Q007', 'Q008', 'Q009', 'Q010', 'Q011', 'Q012', 'Q013', 'Q014', 'Q015', 'Q016', 'Q017', 'Q018', 'Q019', 'Q020', 'Q021', 'Q022', 'Q023', 'Q024', 'Q025'] but received: Genero"
          ]
        }
      ]
    },
    {
      "cell_type": "markdown",
      "source": [
        "## 18) <font color='#005DAA'><b> Você acha que existe uma diferença significativa entre as notas de matemática do Sexo Feminino e Masculino?\n",
        "\n"
      ],
      "metadata": {
        "id": "1qsswS7nx2qf"
      }
    },
    {
      "cell_type": "markdown",
      "source": [
        "## 19) <font color='#005DAA'><b> Você sabe me dizer como podemos verificar se há uma diferença significativa entre as notas de matemática do Sexo Feminino e Masculino? Qual teste ou análise estatítica podemos fazer?\n"
      ],
      "metadata": {
        "id": "7xH9ZCbOx3cF"
      }
    },
    {
      "cell_type": "markdown",
      "source": [
        "___"
      ],
      "metadata": {
        "id": "yvKNRoj-xn7f"
      }
    },
    {
      "cell_type": "markdown",
      "source": [
        "## 20) <font color='#005DAA'><b> Faça uma análise estatítica para apresentar a distribuição da variável \"SEXO\", neste DataSet.\n",
        "\n"
      ],
      "metadata": {
        "id": "yMhQO-lz0xTb"
      }
    },
    {
      "cell_type": "markdown",
      "source": [
        "Responda: Quais análises estatísticas você pode fazer?\n"
      ],
      "metadata": {
        "id": "ZXiuf2yw0I82"
      }
    },
    {
      "cell_type": "markdown",
      "source": [
        "## 21) <font color='#005DAA'><b> Faça uma análise estatística diferente  para apresentar a distribuição do Tipo de Escola (Pública ou Privada), neste DataSet.\n",
        "\n",
        "\n"
      ],
      "metadata": {
        "id": "dg7phbziSQfR"
      }
    },
    {
      "cell_type": "markdown",
      "source": [
        "Variável: TP_ESCOLA\n",
        "1 = Não respondeu\n",
        "2 = Pública\n",
        "3 = Privada\n",
        "4 = Exterior"
      ],
      "metadata": {
        "id": "dtzqNmiD0181"
      }
    },
    {
      "cell_type": "markdown",
      "source": [
        "## 22) <font color='#005DAA'><b> Faça uma análise descritiva para verificar as notas de matemática por tipo de escola. Será que há uma diferença significativa?"
      ],
      "metadata": {
        "id": "v5trHETvlwrr"
      }
    },
    {
      "cell_type": "markdown",
      "source": [
        "Fim Deste Notebook."
      ],
      "metadata": {
        "id": "fGFOy3S4xxYN"
      }
    },
    {
      "cell_type": "markdown",
      "source": [
        "-------\n"
      ],
      "metadata": {
        "id": "TATuIHc6uSK8"
      }
    }
  ]
}