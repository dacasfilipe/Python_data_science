{
  "nbformat": 4,
  "nbformat_minor": 0,
  "metadata": {
    "colab": {
      "provenance": [],
      "authorship_tag": "ABX9TyM5H0RSlOelmM3xWvNAHd90",
      "include_colab_link": true
    },
    "kernelspec": {
      "name": "python3",
      "display_name": "Python 3"
    },
    "language_info": {
      "name": "python"
    }
  },
  "cells": [
    {
      "cell_type": "markdown",
      "metadata": {
        "id": "view-in-github",
        "colab_type": "text"
      },
      "source": [
        "<a href=\"https://colab.research.google.com/github/dacasfilipe/Python_data_science/blob/main/Python_functions.ipynb\" target=\"_parent\"><img src=\"https://colab.research.google.com/assets/colab-badge.svg\" alt=\"Open In Colab\"/></a>"
      ]
    },
    {
      "cell_type": "code",
      "execution_count": 1,
      "metadata": {
        "colab": {
          "base_uri": "https://localhost:8080/"
        },
        "id": "8LE8UClpuFno",
        "outputId": "2003b046-97ab-4591-a4cc-a7c03a717712"
      },
      "outputs": [
        {
          "output_type": "stream",
          "name": "stdout",
          "text": [
            "Bem vindo.\n"
          ]
        }
      ],
      "source": [
        "#Funções\n",
        "def dar_boas_vindas():\n",
        "  print('Bem vindo.')\n",
        "\n",
        "dar_boas_vindas()"
      ]
    },
    {
      "cell_type": "code",
      "source": [
        "def apresentar_lugar(horario_de_funcionamento,Lugar='nossa loja'):\n",
        "  print(f'Conheça {Lugar}, horário de funcionamento {horario_de_funcionamento}')\n",
        "\n",
        "apresentar_lugar('08:00 às 18:00','Disney')"
      ],
      "metadata": {
        "colab": {
          "base_uri": "https://localhost:8080/"
        },
        "id": "xnrBpU2Ru708",
        "outputId": "fc1cd053-49ae-46a9-edc9-1be2198047f5"
      },
      "execution_count": 3,
      "outputs": [
        {
          "output_type": "stream",
          "name": "stdout",
          "text": [
            "Conheça Disney, horário de funcionamento 08:00 às 18:00\n"
          ]
        }
      ]
    },
    {
      "cell_type": "code",
      "source": [
        "#desafio\n",
        "''' crie uma função chamada gerar_nome_completo que recebe como parâmetro\n",
        "o nome e sobrenome de alguém e dá boas vindas para essa pessoa '''\n",
        "def gerar_nome_completo(nome,sobrenome):\n",
        "  print(f'Seja bem vindo(a) {nome} {sobrenome}')\n",
        "\n",
        "gerar_nome_completo('Filipe','Da Cas')"
      ],
      "metadata": {
        "colab": {
          "base_uri": "https://localhost:8080/"
        },
        "id": "5r-jHC9RwS_H",
        "outputId": "5b8d59ca-817a-4f9f-d7f6-dacc9b50f067"
      },
      "execution_count": 4,
      "outputs": [
        {
          "output_type": "stream",
          "name": "stdout",
          "text": [
            "Seja bem vindo(a) Filipe Da Cas\n"
          ]
        }
      ]
    },
    {
      "cell_type": "code",
      "source": [
        "#desafio\n",
        "'''Crie uma função chamada calcular_valores que recebe 2 parametros,\n",
        "o primeiro o preco de um produto, o segundo é a quantidade, porém a\n",
        "quantidade deve haver uma valor padrão de 1. Sua função deve exibir o resultado\n",
        "do preço do produto, multiplicado a quantidade escolhida. '''\n",
        "def calcular_valores(preco,quantidade = 1):\n",
        "  resultado = preco * quantidade\n",
        "  print(f'O resultado é {resultado}')\n",
        "\n",
        "calcular_valores(5.99,2)"
      ],
      "metadata": {
        "colab": {
          "base_uri": "https://localhost:8080/"
        },
        "id": "hhD8gwm-wRv2",
        "outputId": "c0caf1ae-8857-430e-dbda-b7a26ac31903"
      },
      "execution_count": 6,
      "outputs": [
        {
          "output_type": "stream",
          "name": "stdout",
          "text": [
            "O resultado é 11.98\n"
          ]
        }
      ]
    }
  ]
}