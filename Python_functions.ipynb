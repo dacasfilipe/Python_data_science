{
  "nbformat": 4,
  "nbformat_minor": 0,
  "metadata": {
    "colab": {
      "provenance": [],
      "authorship_tag": "ABX9TyPeHTLwmCmlog5xki/O7zL0",
      "include_colab_link": true
    },
    "kernelspec": {
      "name": "python3",
      "display_name": "Python 3"
    },
    "language_info": {
      "name": "python"
    }
  },
  "cells": [
    {
      "cell_type": "markdown",
      "metadata": {
        "id": "view-in-github",
        "colab_type": "text"
      },
      "source": [
        "<a href=\"https://colab.research.google.com/github/dacasfilipe/Python_data_science/blob/main/Python_functions.ipynb\" target=\"_parent\"><img src=\"https://colab.research.google.com/assets/colab-badge.svg\" alt=\"Open In Colab\"/></a>"
      ]
    },
    {
      "cell_type": "code",
      "execution_count": 1,
      "metadata": {
        "colab": {
          "base_uri": "https://localhost:8080/"
        },
        "id": "8LE8UClpuFno",
        "outputId": "2003b046-97ab-4591-a4cc-a7c03a717712"
      },
      "outputs": [
        {
          "output_type": "stream",
          "name": "stdout",
          "text": [
            "Bem vindo.\n"
          ]
        }
      ],
      "source": [
        "#Funções\n",
        "def dar_boas_vindas():\n",
        "  print('Bem vindo.')\n",
        "\n",
        "dar_boas_vindas()"
      ]
    },
    {
      "cell_type": "code",
      "source": [
        "def apresentar_lugar(horario_de_funcionamento,Lugar='nossa loja'):\n",
        "  print(f'Conheça {Lugar}, horário de funcionamento {horario_de_funcionamento}')\n",
        "\n",
        "apresentar_lugar('08:00 às 18:00','Disney')"
      ],
      "metadata": {
        "colab": {
          "base_uri": "https://localhost:8080/"
        },
        "id": "xnrBpU2Ru708",
        "outputId": "fc1cd053-49ae-46a9-edc9-1be2198047f5"
      },
      "execution_count": 3,
      "outputs": [
        {
          "output_type": "stream",
          "name": "stdout",
          "text": [
            "Conheça Disney, horário de funcionamento 08:00 às 18:00\n"
          ]
        }
      ]
    },
    {
      "cell_type": "code",
      "source": [
        "#desafio\n",
        "''' crie uma função chamada gerar_nome_completo que recebe como parâmetro\n",
        "o nome e sobrenome de alguém e dá boas vindas para essa pessoa '''\n",
        "def gerar_nome_completo(nome,sobrenome):\n",
        "  print(f'Seja bem vindo(a) {nome} {sobrenome}')\n",
        "\n",
        "gerar_nome_completo('Filipe','Da Cas')"
      ],
      "metadata": {
        "colab": {
          "base_uri": "https://localhost:8080/"
        },
        "id": "5r-jHC9RwS_H",
        "outputId": "5b8d59ca-817a-4f9f-d7f6-dacc9b50f067"
      },
      "execution_count": 4,
      "outputs": [
        {
          "output_type": "stream",
          "name": "stdout",
          "text": [
            "Seja bem vindo(a) Filipe Da Cas\n"
          ]
        }
      ]
    },
    {
      "cell_type": "code",
      "source": [
        "#desafio\n",
        "'''Crie uma função chamada calcular_valores que recebe 2 parametros,\n",
        "o primeiro o preco de um produto, o segundo é a quantidade, porém a\n",
        "quantidade deve haver uma valor padrão de 1. Sua função deve exibir o resultado\n",
        "do preço do produto, multiplicado a quantidade escolhida. '''\n",
        "def calcular_valores(preco,quantidade = 1):\n",
        "  resultado = preco * quantidade\n",
        "  print(f'O resultado é {resultado}')\n",
        "\n",
        "calcular_valores(5.99,2)"
      ],
      "metadata": {
        "colab": {
          "base_uri": "https://localhost:8080/"
        },
        "id": "hhD8gwm-wRv2",
        "outputId": "c0caf1ae-8857-430e-dbda-b7a26ac31903"
      },
      "execution_count": 6,
      "outputs": [
        {
          "output_type": "stream",
          "name": "stdout",
          "text": [
            "O resultado é 11.98\n"
          ]
        }
      ]
    },
    {
      "cell_type": "code",
      "source": [
        "#Processar Vs Retornar\n",
        "#Função que apenas processa dados\n",
        "print('Olá')\n",
        "#Funções para retornar dados\n",
        "cidade = input('Qual a sua cidade?')\n",
        "#Como escolher entre funções que processam Vs retornam dados?\n",
        "''' Eu vou precisar usar essa informação na lógica do meu programa ainda?\n",
        "Ou só preciso processar esse dado, mas não irei utilizar mais ele depois? '''\n",
        "def exibir_cotacao_do_dia(moeda):\n",
        "  if moeda == 'usd':\n",
        "    print(5.47)\n",
        "\n",
        "exibir_cotacao_do_dia('usd')\n",
        "\n",
        "def obter_cotacao_do_dia(moeda):\n",
        "  if moeda == 'usd':\n",
        "    return 5.47\n",
        "\n",
        "cotacao = obter_cotacao_do_dia('usd')\n",
        "print(f'A cotação do dia é R${cotacao}')\n",
        "if cotacao > 5:\n",
        "  print('Investir em ações americanas')\n",
        "else:\n",
        "  print('Cotação não favorável')\n",
        "\n"
      ],
      "metadata": {
        "colab": {
          "base_uri": "https://localhost:8080/"
        },
        "id": "kbrJ00BWzgem",
        "outputId": "f382ef56-dd78-4be8-89d5-195f69f6e369"
      },
      "execution_count": 8,
      "outputs": [
        {
          "output_type": "stream",
          "name": "stdout",
          "text": [
            "Olá\n",
            "Qual a sua cidade?Criciúma\n",
            "5.47\n",
            "A cotação do dia é R$5.47\n",
            "Investir em ações americanas\n"
          ]
        }
      ]
    },
    {
      "cell_type": "code",
      "source": [
        "def exibir_preco(nome_produto,preco):\n",
        "  print(f'{nome_produto} está no valor de: {preco}')\n",
        "\n",
        "#Argumentos posicionais\n",
        "exibir_preco('Iphone',5000)\n",
        "\n",
        "#Argumentos nomeados\n",
        "exibir_preco(preco=5000,nome_produto='Iphone')\n",
        "# usar asterisco * para caso desejar fixar todos os argumentos como nomeados\n",
        "#ex: def exibir_preco(*,nome_produto,preco)"
      ],
      "metadata": {
        "colab": {
          "base_uri": "https://localhost:8080/"
        },
        "id": "E9WIE1zw9gzM",
        "outputId": "e44a7768-1fbb-47e4-d98b-a31f6dbaeca3"
      },
      "execution_count": 10,
      "outputs": [
        {
          "output_type": "stream",
          "name": "stdout",
          "text": [
            "Iphone está no valor de: 5000\n",
            "Iphone está no valor de: 5000\n"
          ]
        }
      ]
    },
    {
      "cell_type": "code",
      "source": [
        "#desafio\n",
        "''' Crie uma função chamada gerar_objeto_personalizado que irá receber 3\n",
        "parâmetros, cor , altura, formato. A sua função deve apenas imprimir na tela o\n",
        "que foi passado para ela, nada mais, nada menos. Porém ela deve seguir as\n",
        "seguintes regras:\n",
        "1- O primeiro argumento deve ser posicional\n",
        "2- Os argumentos altura e formato precisam Obrigatoriamente serem nomeados '''\n",
        "def gerar_objeto_personalizado(cor,*,altura,formato):\n",
        "  print(f'A cor do objeto é {cor}')\n",
        "  print(f'A altura é {altura}')\n",
        "  print(f'O formato é {formato}')\n",
        "\n",
        "gerar_objeto_personalizado('Azul', formato='quadrado',altura=2)\n"
      ],
      "metadata": {
        "colab": {
          "base_uri": "https://localhost:8080/"
        },
        "id": "-TNqsdU4_oPj",
        "outputId": "356bd980-43c0-4f17-f5be-4e170045e072"
      },
      "execution_count": 11,
      "outputs": [
        {
          "output_type": "stream",
          "name": "stdout",
          "text": [
            "A cor do objeto é Azul\n",
            "A altura é 2\n",
            "O formato é quadrado\n"
          ]
        }
      ]
    },
    {
      "cell_type": "code",
      "source": [
        "#quando precisar receber uma quantidade variáveis de argumentos.\n",
        "def somar(*valores,b):\n",
        "  print(valores)\n",
        "  for valor in valores:\n",
        "    b += valor\n",
        "  print(b)\n",
        "\n",
        "somar(10,20,5, b=5)"
      ],
      "metadata": {
        "colab": {
          "base_uri": "https://localhost:8080/"
        },
        "id": "QH6dcbe-ApSW",
        "outputId": "2882c8dd-f83d-4d57-ba85-327bab10b695"
      },
      "execution_count": 1,
      "outputs": [
        {
          "output_type": "stream",
          "name": "stdout",
          "text": [
            "(10, 20, 5)\n",
            "40\n"
          ]
        }
      ]
    },
    {
      "cell_type": "code",
      "source": [
        "# *args receber quantidade infinita de valores nomeados\n",
        "def concatenar(**palavras):\n",
        "  frase=''\n",
        "  for palavra in palavras.values():\n",
        "    frase += palavra + ' '\n",
        "  print(frase)\n",
        "\n",
        "concatenar(a='Nós',b='Somos', c='Pyhtonistas', d='Profissionais')\n"
      ],
      "metadata": {
        "colab": {
          "base_uri": "https://localhost:8080/"
        },
        "id": "n-ZI2XhZBSHh",
        "outputId": "e701e1e8-eda9-4706-eb21-27c85d73acb5"
      },
      "execution_count": 3,
      "outputs": [
        {
          "output_type": "stream",
          "name": "stdout",
          "text": [
            "Nós Somos Pyhtonistas Profissionais \n"
          ]
        }
      ]
    },
    {
      "cell_type": "code",
      "source": [
        "def fazer_calculo(nome,*args, **kwargs):\n",
        "  print(nome)\n",
        "  print(args)\n",
        "  print(kwargs)\n",
        "  for arg in args:\n",
        "    print(arg)\n",
        "  for kwarg in kwargs.values():\n",
        "    print(kwarg)\n",
        "\n",
        "fazer_calculo('Filipe',4,6,3,7,a=1,b=2,c=3)"
      ],
      "metadata": {
        "colab": {
          "base_uri": "https://localhost:8080/"
        },
        "id": "uIcFGQqICMHu",
        "outputId": "dcf6a5a0-95d7-44f1-bade-19e0a4443753"
      },
      "execution_count": 5,
      "outputs": [
        {
          "output_type": "stream",
          "name": "stdout",
          "text": [
            "Filipe\n",
            "(4, 6, 3, 7)\n",
            "{'a': 1, 'b': 2, 'c': 3}\n",
            "4\n",
            "6\n",
            "3\n",
            "7\n",
            "1\n",
            "2\n",
            "3\n"
          ]
        }
      ]
    },
    {
      "cell_type": "code",
      "source": [
        "#**kwargs(keywords arguments)\n",
        "def concatenar(**palavras):\n",
        "  frase = ''\n",
        "  for palavra in palavras.values():\n",
        "    frase += palavra\n",
        "  print(frase)\n",
        "\n",
        "concatenar(a='Filipe',b=' Ribeiro ',c='Da Cas')"
      ],
      "metadata": {
        "colab": {
          "base_uri": "https://localhost:8080/"
        },
        "id": "oeHESDHjLAwy",
        "outputId": "4e7c1929-ee27-4030-bf1d-97474ad2726a"
      },
      "execution_count": 5,
      "outputs": [
        {
          "output_type": "stream",
          "name": "stdout",
          "text": [
            "Filipe Ribeiro Da Cas\n"
          ]
        }
      ]
    },
    {
      "cell_type": "code",
      "source": [
        "#DEcorators função que roda outra função\n",
        "def pai(numero):\n",
        "  def filho_1():\n",
        "    print('Sou filho 1')\n",
        "  def filho_2():\n",
        "    print('Sou filho 2')\n",
        "  if numero == 1:\n",
        "    return filho_1\n",
        "\n",
        "resultado = pai(1)\n",
        "resultado()"
      ],
      "metadata": {
        "colab": {
          "base_uri": "https://localhost:8080/"
        },
        "id": "_jb_ry0_Vzb_",
        "outputId": "fcd6e057-31ce-47d0-f5bc-cbb38e77d423"
      },
      "execution_count": 3,
      "outputs": [
        {
          "output_type": "stream",
          "name": "stdout",
          "text": [
            "Sou filho 1\n"
          ]
        }
      ]
    },
    {
      "cell_type": "code",
      "source": [
        "#Decorators\n",
        "def meu_decorator(funcao):\n",
        "  def wrapper():\n",
        "    print('Antes')\n",
        "    funcao()\n",
        "    print('Depois')\n",
        "  return wrapper\n",
        "\n",
        "def parabenizar():\n",
        "  print('Parabéns.')\n",
        "\n",
        "resultado = meu_decorator(parabenizar)\n",
        "resultado()\n",
        "\n",
        "#ou utilizr a anotação @meu_decorator como no exemplo abaixo\n",
        "'''\n",
        "#Decorators\n",
        "def meu_decorator(funcao):\n",
        "  def wrapper():\n",
        "    print('Antes')\n",
        "    funcao()\n",
        "    print('Depois')\n",
        "  return wrapper\n",
        "\n",
        "@meu_decorator\n",
        "def parabenizar():\n",
        "  print('Parabéns.')\n",
        "\n",
        "parabenizar() '''\n",
        "#o resultado será o mesmo do primeiro algoritmo"
      ],
      "metadata": {
        "colab": {
          "base_uri": "https://localhost:8080/"
        },
        "id": "sEAjUr2dYd0g",
        "outputId": "51419dbf-f3a9-4f72-f914-423be3c560a1"
      },
      "execution_count": 4,
      "outputs": [
        {
          "output_type": "stream",
          "name": "stdout",
          "text": [
            "Antes\n",
            "Parabéns.\n",
            "Depois\n"
          ]
        }
      ]
    },
    {
      "cell_type": "code",
      "source": [
        "#DEsafio\n",
        "from datetime import datetime\n",
        "\n",
        "def monitorar_horario(funcao):\n",
        "  def monitor():\n",
        "    print(datetime.now())\n",
        "    funcao()\n",
        "    print(datetime.now())\n",
        "  return monitor\n",
        "\n",
        "@monitorar_horario\n",
        "def baixar_musicas():\n",
        "  print('Baixando músicas.')\n",
        "\n",
        "baixar_musicas()"
      ],
      "metadata": {
        "colab": {
          "base_uri": "https://localhost:8080/"
        },
        "id": "tX7QbKcwaOEE",
        "outputId": "0414d52c-aee9-4447-f233-e624aa25f5a1"
      },
      "execution_count": 7,
      "outputs": [
        {
          "output_type": "stream",
          "name": "stdout",
          "text": [
            "2023-08-09 13:10:12.661230\n",
            "Baixando músicas.\n",
            "2023-08-09 13:10:12.661358\n"
          ]
        }
      ]
    },
    {
      "cell_type": "code",
      "source": [
        "#DEsafio algoritmo de desenho utilziando a biblioteca turtle\n",
        "from turtle import Turtle\n",
        "\n",
        "t = Turtle()\n",
        "\n",
        "def obter_distancia():\n",
        "  resposta = int(input('Quantos pixels devemos movimentar para a frente?'))\n",
        "  return resposta\n",
        "\n",
        "def rotacionar_turtle(turtle):\n",
        "  movimentar_para_lado = input('Rotacionar para d:direita, e:esquerda , n:não rotacionar')\n",
        "  if movimentar_para_lado == 'd':\n",
        "    rotacionar_para_direita()\n",
        "  elif movimentar_para_lado == 'e':\n",
        "    rotacionar_para_esquerda()\n",
        "\n",
        "def rotacionar_para_direita(turtle):\n",
        "  angulo = int(input('Quanto para a direita devemos rotacionar?'))\n",
        "  t.right(angulo)\n",
        "\n",
        "def rotacionar_para_esquerda(turtle):\n",
        "  angulo = int(input('Quanto para a esquerda devemos rotacionar?'))\n",
        "  t.left(angulo)\n",
        "\n",
        "\n",
        "while True:\n",
        "  direcao = input('Para qual direção devemor ir? \"f:frente\" ou \"t:trás\"')\n",
        "  if direcao == 'f':\n",
        "    distancia = obter_distancia()\n",
        "    rotacionar_turtle(t)\n",
        "    t.forward(distancia)\n",
        "  if direcao == 't':\n",
        "    distancia = obter_distancia()\n",
        "    rotacionar_turtle(t)\n",
        "    t.backward(distancia)\n",
        "  resposta = input('Continuar andando? sim ou s, não ou n')\n",
        "  if resposta not in ('sim', 's'):\n",
        "    break"
      ],
      "metadata": {
        "colab": {
          "base_uri": "https://localhost:8080/",
          "height": 460
        },
        "id": "nrNINrBLa_S5",
        "outputId": "5f9bc367-47fd-4c77-fbe3-3b04cb14dc77"
      },
      "execution_count": 8,
      "outputs": [
        {
          "output_type": "error",
          "ename": "TclError",
          "evalue": "ignored",
          "traceback": [
            "\u001b[0;31m---------------------------------------------------------------------------\u001b[0m",
            "\u001b[0;31mTclError\u001b[0m                                  Traceback (most recent call last)",
            "\u001b[0;32m<ipython-input-8-6953344c7192>\u001b[0m in \u001b[0;36m<cell line: 4>\u001b[0;34m()\u001b[0m\n\u001b[1;32m      2\u001b[0m \u001b[0;32mfrom\u001b[0m \u001b[0mturtle\u001b[0m \u001b[0;32mimport\u001b[0m \u001b[0mTurtle\u001b[0m\u001b[0;34m\u001b[0m\u001b[0;34m\u001b[0m\u001b[0m\n\u001b[1;32m      3\u001b[0m \u001b[0;34m\u001b[0m\u001b[0m\n\u001b[0;32m----> 4\u001b[0;31m \u001b[0mt\u001b[0m \u001b[0;34m=\u001b[0m \u001b[0mTurtle\u001b[0m\u001b[0;34m(\u001b[0m\u001b[0;34m)\u001b[0m\u001b[0;34m\u001b[0m\u001b[0;34m\u001b[0m\u001b[0m\n\u001b[0m\u001b[1;32m      5\u001b[0m \u001b[0;34m\u001b[0m\u001b[0m\n\u001b[1;32m      6\u001b[0m \u001b[0;32mdef\u001b[0m \u001b[0mobter_distancia\u001b[0m\u001b[0;34m(\u001b[0m\u001b[0;34m)\u001b[0m\u001b[0;34m:\u001b[0m\u001b[0;34m\u001b[0m\u001b[0;34m\u001b[0m\u001b[0m\n",
            "\u001b[0;32m/usr/lib/python3.10/turtle.py\u001b[0m in \u001b[0;36m__init__\u001b[0;34m(self, shape, undobuffersize, visible)\u001b[0m\n\u001b[1;32m   3812\u001b[0m                  visible=_CFG[\"visible\"]):\n\u001b[1;32m   3813\u001b[0m         \u001b[0;32mif\u001b[0m \u001b[0mTurtle\u001b[0m\u001b[0;34m.\u001b[0m\u001b[0m_screen\u001b[0m \u001b[0;32mis\u001b[0m \u001b[0;32mNone\u001b[0m\u001b[0;34m:\u001b[0m\u001b[0;34m\u001b[0m\u001b[0;34m\u001b[0m\u001b[0m\n\u001b[0;32m-> 3814\u001b[0;31m             \u001b[0mTurtle\u001b[0m\u001b[0;34m.\u001b[0m\u001b[0m_screen\u001b[0m \u001b[0;34m=\u001b[0m \u001b[0mScreen\u001b[0m\u001b[0;34m(\u001b[0m\u001b[0;34m)\u001b[0m\u001b[0;34m\u001b[0m\u001b[0;34m\u001b[0m\u001b[0m\n\u001b[0m\u001b[1;32m   3815\u001b[0m         RawTurtle.__init__(self, Turtle._screen,\n\u001b[1;32m   3816\u001b[0m                            \u001b[0mshape\u001b[0m\u001b[0;34m=\u001b[0m\u001b[0mshape\u001b[0m\u001b[0;34m,\u001b[0m\u001b[0;34m\u001b[0m\u001b[0;34m\u001b[0m\u001b[0m\n",
            "\u001b[0;32m/usr/lib/python3.10/turtle.py\u001b[0m in \u001b[0;36mScreen\u001b[0;34m()\u001b[0m\n\u001b[1;32m   3662\u001b[0m     else return the existing one.\"\"\"\n\u001b[1;32m   3663\u001b[0m     \u001b[0;32mif\u001b[0m \u001b[0mTurtle\u001b[0m\u001b[0;34m.\u001b[0m\u001b[0m_screen\u001b[0m \u001b[0;32mis\u001b[0m \u001b[0;32mNone\u001b[0m\u001b[0;34m:\u001b[0m\u001b[0;34m\u001b[0m\u001b[0;34m\u001b[0m\u001b[0m\n\u001b[0;32m-> 3664\u001b[0;31m         \u001b[0mTurtle\u001b[0m\u001b[0;34m.\u001b[0m\u001b[0m_screen\u001b[0m \u001b[0;34m=\u001b[0m \u001b[0m_Screen\u001b[0m\u001b[0;34m(\u001b[0m\u001b[0;34m)\u001b[0m\u001b[0;34m\u001b[0m\u001b[0;34m\u001b[0m\u001b[0m\n\u001b[0m\u001b[1;32m   3665\u001b[0m     \u001b[0;32mreturn\u001b[0m \u001b[0mTurtle\u001b[0m\u001b[0;34m.\u001b[0m\u001b[0m_screen\u001b[0m\u001b[0;34m\u001b[0m\u001b[0;34m\u001b[0m\u001b[0m\n\u001b[1;32m   3666\u001b[0m \u001b[0;34m\u001b[0m\u001b[0m\n",
            "\u001b[0;32m/usr/lib/python3.10/turtle.py\u001b[0m in \u001b[0;36m__init__\u001b[0;34m(self)\u001b[0m\n\u001b[1;32m   3678\u001b[0m         \u001b[0;31m# preserved (perhaps by passing it as an optional parameter)\u001b[0m\u001b[0;34m\u001b[0m\u001b[0;34m\u001b[0m\u001b[0m\n\u001b[1;32m   3679\u001b[0m         \u001b[0;32mif\u001b[0m \u001b[0m_Screen\u001b[0m\u001b[0;34m.\u001b[0m\u001b[0m_root\u001b[0m \u001b[0;32mis\u001b[0m \u001b[0;32mNone\u001b[0m\u001b[0;34m:\u001b[0m\u001b[0;34m\u001b[0m\u001b[0;34m\u001b[0m\u001b[0m\n\u001b[0;32m-> 3680\u001b[0;31m             \u001b[0m_Screen\u001b[0m\u001b[0;34m.\u001b[0m\u001b[0m_root\u001b[0m \u001b[0;34m=\u001b[0m \u001b[0mself\u001b[0m\u001b[0;34m.\u001b[0m\u001b[0m_root\u001b[0m \u001b[0;34m=\u001b[0m \u001b[0m_Root\u001b[0m\u001b[0;34m(\u001b[0m\u001b[0;34m)\u001b[0m\u001b[0;34m\u001b[0m\u001b[0;34m\u001b[0m\u001b[0m\n\u001b[0m\u001b[1;32m   3681\u001b[0m             \u001b[0mself\u001b[0m\u001b[0;34m.\u001b[0m\u001b[0m_root\u001b[0m\u001b[0;34m.\u001b[0m\u001b[0mtitle\u001b[0m\u001b[0;34m(\u001b[0m\u001b[0m_Screen\u001b[0m\u001b[0;34m.\u001b[0m\u001b[0m_title\u001b[0m\u001b[0;34m)\u001b[0m\u001b[0;34m\u001b[0m\u001b[0;34m\u001b[0m\u001b[0m\n\u001b[1;32m   3682\u001b[0m             \u001b[0mself\u001b[0m\u001b[0;34m.\u001b[0m\u001b[0m_root\u001b[0m\u001b[0;34m.\u001b[0m\u001b[0mondestroy\u001b[0m\u001b[0;34m(\u001b[0m\u001b[0mself\u001b[0m\u001b[0;34m.\u001b[0m\u001b[0m_destroy\u001b[0m\u001b[0;34m)\u001b[0m\u001b[0;34m\u001b[0m\u001b[0;34m\u001b[0m\u001b[0m\n",
            "\u001b[0;32m/usr/lib/python3.10/turtle.py\u001b[0m in \u001b[0;36m__init__\u001b[0;34m(self)\u001b[0m\n\u001b[1;32m    433\u001b[0m     \u001b[0;34m\"\"\"Root class for Screen based on Tkinter.\"\"\"\u001b[0m\u001b[0;34m\u001b[0m\u001b[0;34m\u001b[0m\u001b[0m\n\u001b[1;32m    434\u001b[0m     \u001b[0;32mdef\u001b[0m \u001b[0m__init__\u001b[0m\u001b[0;34m(\u001b[0m\u001b[0mself\u001b[0m\u001b[0;34m)\u001b[0m\u001b[0;34m:\u001b[0m\u001b[0;34m\u001b[0m\u001b[0;34m\u001b[0m\u001b[0m\n\u001b[0;32m--> 435\u001b[0;31m         \u001b[0mTK\u001b[0m\u001b[0;34m.\u001b[0m\u001b[0mTk\u001b[0m\u001b[0;34m.\u001b[0m\u001b[0m__init__\u001b[0m\u001b[0;34m(\u001b[0m\u001b[0mself\u001b[0m\u001b[0;34m)\u001b[0m\u001b[0;34m\u001b[0m\u001b[0;34m\u001b[0m\u001b[0m\n\u001b[0m\u001b[1;32m    436\u001b[0m \u001b[0;34m\u001b[0m\u001b[0m\n\u001b[1;32m    437\u001b[0m     \u001b[0;32mdef\u001b[0m \u001b[0msetupcanvas\u001b[0m\u001b[0;34m(\u001b[0m\u001b[0mself\u001b[0m\u001b[0;34m,\u001b[0m \u001b[0mwidth\u001b[0m\u001b[0;34m,\u001b[0m \u001b[0mheight\u001b[0m\u001b[0;34m,\u001b[0m \u001b[0mcwidth\u001b[0m\u001b[0;34m,\u001b[0m \u001b[0mcheight\u001b[0m\u001b[0;34m)\u001b[0m\u001b[0;34m:\u001b[0m\u001b[0;34m\u001b[0m\u001b[0;34m\u001b[0m\u001b[0m\n",
            "\u001b[0;32m/usr/lib/python3.10/tkinter/__init__.py\u001b[0m in \u001b[0;36m__init__\u001b[0;34m(self, screenName, baseName, className, useTk, sync, use)\u001b[0m\n\u001b[1;32m   2297\u001b[0m                 \u001b[0mbaseName\u001b[0m \u001b[0;34m=\u001b[0m \u001b[0mbaseName\u001b[0m \u001b[0;34m+\u001b[0m \u001b[0mext\u001b[0m\u001b[0;34m\u001b[0m\u001b[0;34m\u001b[0m\u001b[0m\n\u001b[1;32m   2298\u001b[0m         \u001b[0minteractive\u001b[0m \u001b[0;34m=\u001b[0m \u001b[0;32mFalse\u001b[0m\u001b[0;34m\u001b[0m\u001b[0;34m\u001b[0m\u001b[0m\n\u001b[0;32m-> 2299\u001b[0;31m         \u001b[0mself\u001b[0m\u001b[0;34m.\u001b[0m\u001b[0mtk\u001b[0m \u001b[0;34m=\u001b[0m \u001b[0m_tkinter\u001b[0m\u001b[0;34m.\u001b[0m\u001b[0mcreate\u001b[0m\u001b[0;34m(\u001b[0m\u001b[0mscreenName\u001b[0m\u001b[0;34m,\u001b[0m \u001b[0mbaseName\u001b[0m\u001b[0;34m,\u001b[0m \u001b[0mclassName\u001b[0m\u001b[0;34m,\u001b[0m \u001b[0minteractive\u001b[0m\u001b[0;34m,\u001b[0m \u001b[0mwantobjects\u001b[0m\u001b[0;34m,\u001b[0m \u001b[0museTk\u001b[0m\u001b[0;34m,\u001b[0m \u001b[0msync\u001b[0m\u001b[0;34m,\u001b[0m \u001b[0muse\u001b[0m\u001b[0;34m)\u001b[0m\u001b[0;34m\u001b[0m\u001b[0;34m\u001b[0m\u001b[0m\n\u001b[0m\u001b[1;32m   2300\u001b[0m         \u001b[0;32mif\u001b[0m \u001b[0museTk\u001b[0m\u001b[0;34m:\u001b[0m\u001b[0;34m\u001b[0m\u001b[0;34m\u001b[0m\u001b[0m\n\u001b[1;32m   2301\u001b[0m             \u001b[0mself\u001b[0m\u001b[0;34m.\u001b[0m\u001b[0m_loadtk\u001b[0m\u001b[0;34m(\u001b[0m\u001b[0;34m)\u001b[0m\u001b[0;34m\u001b[0m\u001b[0;34m\u001b[0m\u001b[0m\n",
            "\u001b[0;31mTclError\u001b[0m: no display name and no $DISPLAY environment variable"
          ]
        }
      ]
    }
  ]
}