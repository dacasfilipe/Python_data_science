{
  "nbformat": 4,
  "nbformat_minor": 0,
  "metadata": {
    "colab": {
      "provenance": [],
      "authorship_tag": "ABX9TyO++nzMhHInK9rPqbu2nFHO",
      "include_colab_link": true
    },
    "kernelspec": {
      "name": "python3",
      "display_name": "Python 3"
    },
    "language_info": {
      "name": "python"
    }
  },
  "cells": [
    {
      "cell_type": "markdown",
      "metadata": {
        "id": "view-in-github",
        "colab_type": "text"
      },
      "source": [
        "<a href=\"https://colab.research.google.com/github/dacasfilipe/Python_data_science/blob/main/MeuPrimeiroColab.ipynb\" target=\"_parent\"><img src=\"https://colab.research.google.com/assets/colab-badge.svg\" alt=\"Open In Colab\"/></a>"
      ]
    },
    {
      "cell_type": "markdown",
      "source": [
        "Meu primeiro Colab:"
      ],
      "metadata": {
        "id": "sUyUMN72W6op"
      }
    },
    {
      "cell_type": "code",
      "source": [
        "a = 10\n",
        "b = 20\n",
        "c = 30\n",
        "print(a+b+c)"
      ],
      "metadata": {
        "colab": {
          "base_uri": "https://localhost:8080/"
        },
        "id": "1G_kBAnlXAs1",
        "outputId": "0c331f7d-3cbf-4094-b3dd-d6574111d043"
      },
      "execution_count": 4,
      "outputs": [
        {
          "output_type": "stream",
          "name": "stdout",
          "text": [
            "60\n"
          ]
        }
      ]
    },
    {
      "cell_type": "code",
      "source": [
        "idade = 18\n",
        "\n",
        "if idade == 18:\n",
        "  print('Você tem 18 anos')\n",
        "else:\n",
        "  print('Você não tem 18 anos')"
      ],
      "metadata": {
        "colab": {
          "base_uri": "https://localhost:8080/"
        },
        "id": "i5h5sKTGXwUO",
        "outputId": "c9529a8a-9fbe-4441-fb88-9628f5c9296a"
      },
      "execution_count": 5,
      "outputs": [
        {
          "output_type": "stream",
          "name": "stdout",
          "text": [
            "Você tem 18 anos\n"
          ]
        }
      ]
    },
    {
      "cell_type": "code",
      "source": [
        "#Estruturas de repetição\n",
        "numero = 0\n",
        "while numero <= 5:\n",
        "  print(numero)\n",
        "  numero = numero + 1\n",
        "print('Fim da execução!')"
      ],
      "metadata": {
        "colab": {
          "base_uri": "https://localhost:8080/"
        },
        "id": "UuPj_XYkYU-O",
        "outputId": "0aa2f57e-cdda-4e3f-d724-3c4b4320f0a9"
      },
      "execution_count": 6,
      "outputs": [
        {
          "output_type": "stream",
          "name": "stdout",
          "text": [
            "0\n",
            "1\n",
            "2\n",
            "3\n",
            "4\n",
            "5\n",
            "Fim da execução!\n"
          ]
        }
      ]
    },
    {
      "cell_type": "code",
      "execution_count": 1,
      "metadata": {
        "colab": {
          "base_uri": "https://localhost:8080/"
        },
        "id": "tlMMGYWLSCEm",
        "outputId": "c6e872e4-aa09-42c2-c457-8603399471b9"
      },
      "outputs": [
        {
          "output_type": "stream",
          "name": "stdout",
          "text": [
            "Olá iniciando estudos na UniSENAI!\n"
          ]
        }
      ],
      "source": [
        "#exibe mensagem inicial\n",
        "print('Olá iniciando estudos na UniSENAI!')"
      ]
    },
    {
      "cell_type": "code",
      "source": [
        "a = input('Digite o seu nome: ')\n",
        "print(a)"
      ],
      "metadata": {
        "colab": {
          "base_uri": "https://localhost:8080/"
        },
        "id": "CC5DisiaWo6h",
        "outputId": "8f5a2d32-d644-4eaf-d319-2764df5b6faf"
      },
      "execution_count": 3,
      "outputs": [
        {
          "output_type": "stream",
          "name": "stdout",
          "text": [
            "Digite o seu nome: Filipe\n",
            "Filipe\n"
          ]
        }
      ]
    }
  ]
}