{
  "nbformat": 4,
  "nbformat_minor": 0,
  "metadata": {
    "colab": {
      "provenance": [],
      "authorship_tag": "ABX9TyP/7h95sj6qfB/WpC1Tlprp",
      "include_colab_link": true
    },
    "kernelspec": {
      "name": "python3",
      "display_name": "Python 3"
    },
    "language_info": {
      "name": "python"
    }
  },
  "cells": [
    {
      "cell_type": "markdown",
      "metadata": {
        "id": "view-in-github",
        "colab_type": "text"
      },
      "source": [
        "<a href=\"https://colab.research.google.com/github/dacasfilipe/Python_data_science/blob/main/Projeto_Pr%C3%A1tico.ipynb\" target=\"_parent\"><img src=\"https://colab.research.google.com/assets/colab-badge.svg\" alt=\"Open In Colab\"/></a>"
      ]
    },
    {
      "cell_type": "code",
      "execution_count": null,
      "metadata": {
        "id": "uqMg5-EkDx88"
      },
      "outputs": [],
      "source": []
    },
    {
      "cell_type": "markdown",
      "source": [
        "Este Projeto/Trabalho consiste em apresentar a análise estatística de um DATASE real, apresentando as análises descritivas das principais variáveis no estudo (No caso do ENEM 2022 - Notas das provas, Sexo, Idade, Tipo de Escola (pública ou privada), Presença na Prova), uma aplicação em probabilidade e outra em Estatística Inferência.\n",
        "\n",
        "Os critérios de correção serão:\n",
        "\n",
        "1 ponto - Entrega da Avaliação em notebook COLAB, individual ou em grupos de 4 pessoas e dentro do prazo.\n",
        "\n",
        "2 pontos - Aplicação diferente da apresentada nas aulas síncronas\n",
        "\n",
        "2 pontos - Análise Descritiva das variáveis importantes do Projeto/Estudo\n",
        "\n",
        "1 ponto - No mínimo dois gráficos diferentes e adequados á análise dos dados\n",
        "\n",
        "1 ponto - Aplicação em Probabilidade (no mínimo uma aplicação)\n",
        "\n",
        "1 ponto - Aplicação em Inferência Estatística (no mínimo uma aplicação)\n",
        "\n",
        "1 ponto - Utilização de uma das técnicas de amostragem coerente com o projeto."
      ],
      "metadata": {
        "id": "l8iQTteiD1JY"
      }
    }
  ]
}