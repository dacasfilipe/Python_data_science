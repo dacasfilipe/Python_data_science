{
  "nbformat": 4,
  "nbformat_minor": 0,
  "metadata": {
    "colab": {
      "provenance": []
    },
    "kernelspec": {
      "name": "python3",
      "display_name": "Python 3"
    },
    "language_info": {
      "name": "python"
    }
  },
  "cells": [
    {
      "cell_type": "code",
      "execution_count": 6,
      "metadata": {
        "colab": {
          "base_uri": "https://localhost:8080/"
        },
        "id": "LWW77mN8EWms",
        "outputId": "0643fb78-d82a-4de2-815d-24543b2d3f9e"
      },
      "outputs": [
        {
          "output_type": "stream",
          "name": "stdout",
          "text": [
            "Digite o resultado do jogo 1 (Avaí x Figueirense): 1x1\n",
            "Digite o resultado do jogo 2 (Avaí x Figueirense): 2x2\n",
            "Digite o resultado do jogo 3 (Avaí x Figueirense): 7x1\n",
            "Digite o resultado do jogo 4 (Avaí x Figueirense): 2x5\n",
            "Digite o resultado do jogo 5 (Avaí x Figueirense): 1x2\n",
            "(Avaí x Figueirense):1x1\n",
            "(Avaí x Figueirense):2x2\n",
            "(Avaí x Figueirense):7x1\n",
            "(Avaí x Figueirense):2x5\n",
            "(Avaí x Figueirense):1x2\n",
            "Vitórias do Avaí: 1\n",
            "Vitórias do Figueirense: 2\n",
            "Empates: 2\n",
            "Saldo de gols do Avaí: 2.0\n",
            "Saldo de gols do Figueirense: -2.0\n"
          ]
        }
      ],
      "source": [
        "import numpy as np\n",
        "array_partidas = np.zeros((5,2))\n",
        "\n",
        "# Obtém dados dos usuários\n",
        "for i in range(0,5):\n",
        "    partida = input(f\"Digite o resultado do jogo {i+1} (Avaí x Figueirense): \").upper()\n",
        "    placar1, placar2 = partida.split(\"X\")\n",
        "    array_partidas[i][0] = int(placar1)\n",
        "    array_partidas[i][1] = int(placar2)\n",
        "\n",
        "jogo = ''\n",
        "# Listagem de jogos\n",
        "for i in range(0,5):\n",
        "  linha = jogo + '(Avaí x Figueirense):'\n",
        "  linha += str(int(array_partidas[i][0]))+  'x' +  str(int(array_partidas[i][1]))\n",
        "  print(linha)\n",
        "\n",
        "#Quantidade de vitórias do Avaí\n",
        "vitorias_avai = np.count_nonzero(array_partidas[:,0] >  array_partidas[:,1])\n",
        "print(\"Vitórias do Avaí:\", vitorias_avai)\n",
        "\n",
        "# Quantidade de vitórias do Figueirense\n",
        "vitorias_figueirense = np.count_nonzero(array_partidas[:,1] >  array_partidas[:,0])\n",
        "print(\"Vitórias do Figueirense:\", vitorias_figueirense)\n",
        "\n",
        "# Quantidade de empates\n",
        "empates = np.count_nonzero(array_partidas[:,1] ==  array_partidas[:,0])\n",
        "print(\"Empates:\", empates)\n",
        "\n",
        "# Saldo de gols do Avaí\n",
        "saldo_avai = np.sum(array_partidas[:,0] -  array_partidas[:,1])\n",
        "print(\"Saldo de gols do Avaí:\", saldo_avai)\n",
        "\n",
        "# Saldo de gols do Figueirense\n",
        "saldo_figueirense = np.sum(array_partidas[:,1] -  array_partidas[:,0])\n",
        "print(\"Saldo de gols do Figueirense:\", saldo_figueirense)\n"
      ]
    }
  ]
}