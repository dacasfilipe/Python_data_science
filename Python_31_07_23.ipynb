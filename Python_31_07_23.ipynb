{
  "nbformat": 4,
  "nbformat_minor": 0,
  "metadata": {
    "colab": {
      "provenance": [],
      "authorship_tag": "ABX9TyMDigW8z7abNDD/r5yGpESa",
      "include_colab_link": true
    },
    "kernelspec": {
      "name": "python3",
      "display_name": "Python 3"
    },
    "language_info": {
      "name": "python"
    }
  },
  "cells": [
    {
      "cell_type": "markdown",
      "metadata": {
        "id": "view-in-github",
        "colab_type": "text"
      },
      "source": [
        "<a href=\"https://colab.research.google.com/github/dacasfilipe/Python_data_science/blob/main/Python_31_07_23.ipynb\" target=\"_parent\"><img src=\"https://colab.research.google.com/assets/colab-badge.svg\" alt=\"Open In Colab\"/></a>"
      ]
    },
    {
      "cell_type": "code",
      "execution_count": null,
      "metadata": {
        "colab": {
          "base_uri": "https://localhost:8080/"
        },
        "id": "GzWAXok1WYmA",
        "outputId": "a54b5a20-fc68-4249-fa96-623f3718f22e"
      },
      "outputs": [
        {
          "output_type": "stream",
          "name": "stdout",
          "text": [
            "Não posso sair agora.\n"
          ]
        }
      ],
      "source": [
        "trabalho_terminado = False\n",
        "if trabalho_terminado == True:\n",
        "  print('Bora dar uma saída!')\n",
        "else:\n",
        "  print('Não posso sair agora.')"
      ]
    },
    {
      "cell_type": "code",
      "source": [
        "velocidade = 100\n",
        "if velocidade <= 50:\n",
        "  print('Não foi multado.')\n",
        "elif 51 <= velocidade <= 60:\n",
        "  print('Levou multa de 2 pontos.')\n",
        "elif velocidade >= 61 and velocidade <= 75:\n",
        "  print('levou multa de pontos.')\n",
        "else:\n",
        "  print('Levou multa de 7 pontos')"
      ],
      "metadata": {
        "colab": {
          "base_uri": "https://localhost:8080/"
        },
        "id": "bbOgxZ4B-6hT",
        "outputId": "8448c5f0-222b-4296-f48d-946be592dedb"
      },
      "execution_count": null,
      "outputs": [
        {
          "output_type": "stream",
          "name": "stdout",
          "text": [
            "Levou multa de 7 pontos\n"
          ]
        }
      ]
    },
    {
      "cell_type": "markdown",
      "source": [
        "DEsafio: Monte um sistema para um salão de beleza para calcular o preço do corte de cabelos grandes que irá seguir as seguintes regras:\n",
        "\n",
        "\n",
        "*   Se seu cabelo estiver com ou abaixo de 20cm você paga o valor de R$50,00\n",
        "*   Se seu cabelo estiver entre 21cm a 30cm você paga o valor de R$70,00\n",
        "*   Se seu cabelo estiver entre 31cm a 50cm você paga o valor de R$100,00\n",
        "*   Acima de 50cm favor consultar na recepção\n",
        "\n",
        "Declare uma variável que represente o tamanho atual do cabelo.\n",
        "\n",
        "Apenas imprima na tela a mensagem apropriada, nada além disso é necessário\n",
        "\n",
        "\n",
        "\n"
      ],
      "metadata": {
        "id": "lHMpP5MRsr8P"
      }
    },
    {
      "cell_type": "code",
      "source": [],
      "metadata": {
        "id": "zjFH5gLVsmyc"
      },
      "execution_count": null,
      "outputs": []
    }
  ]
}