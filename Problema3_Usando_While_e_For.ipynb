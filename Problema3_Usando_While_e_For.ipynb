{
  "nbformat": 4,
  "nbformat_minor": 0,
  "metadata": {
    "colab": {
      "provenance": [],
      "include_colab_link": true
    },
    "kernelspec": {
      "name": "python3",
      "display_name": "Python 3"
    },
    "language_info": {
      "name": "python"
    }
  },
  "cells": [
    {
      "cell_type": "markdown",
      "metadata": {
        "id": "view-in-github",
        "colab_type": "text"
      },
      "source": [
        "<a href=\"https://colab.research.google.com/github/dacasfilipe/Python_data_science/blob/main/Problema3_Usando_While_e_For.ipynb\" target=\"_parent\"><img src=\"https://colab.research.google.com/assets/colab-badge.svg\" alt=\"Open In Colab\"/></a>"
      ]
    },
    {
      "cell_type": "markdown",
      "source": [
        "# Problema 3\n",
        "\n",
        "Considere o caso em que para um aluno ser aprovado em uma disciplina, é preciso que ele possua nota igual ou superior a média da turma.\n",
        "Sendo assim, desenvolva uma algoritmo em Python que receba as notas de 5 alunos.\n",
        "Após isso, o programa deverá informar:\n",
        "\n",
        "\n",
        "*   A média da turma\n",
        "*   Situação do aluno 1 (primeira nota) --> APROVADO OU REPROVADO\n",
        "\n",
        "Obs.: Deverá ser utilizada uma estrutura de repetição (while ou for) para obter os valores do usuário.\n",
        "\n",
        "```\n",
        "EXEMPLO:\n",
        "Digite a nota do aluno 1:60\n",
        "Digite a nota do aluno 2:40\n",
        "Digite a nota do aluno 3:30\n",
        "Digite a nota do aluno 4:80\n",
        "Digite a nota do aluno 5:90\n",
        "\n",
        "Média da Turma: 60:\n",
        "Portanto, o aluno 1 está APROVADO!\n",
        "```\n",
        "\n",
        "\n"
      ],
      "metadata": {
        "id": "J3_wcxQtVHg3"
      }
    },
    {
      "cell_type": "code",
      "source": [
        "cont = 1\n",
        "soma = 0\n",
        "\n",
        "while cont <=5:\n",
        "  nota = int(input('Digite a nota do aluno ' + str(cont) + ':'))\n",
        "  if cont==1: nota1 = nota\n",
        "  cont +=1\n",
        "  soma += nota\n",
        "\n",
        "print('\\n')\n",
        "media = soma/5\n",
        "print('Média da turma:',media)\n",
        "\n",
        "if nota1 >= media:\n",
        "  situacao = 'APROVADO'\n",
        "else:\n",
        "  situacao = 'REPROVADO'\n",
        "\n",
        "print('Portanto, o aluno 1 está',  situacao + '.')\n"
      ],
      "metadata": {
        "id": "Yyl7i1evaSml",
        "colab": {
          "base_uri": "https://localhost:8080/"
        },
        "outputId": "44419381-9d04-4f4c-d6af-fa9e15c18349"
      },
      "execution_count": null,
      "outputs": [
        {
          "output_type": "stream",
          "name": "stdout",
          "text": [
            "Digite a nota do aluno 1:4\n",
            "Digite a nota do aluno 2:5\n",
            "Digite a nota do aluno 3:30\n",
            "Digite a nota do aluno 4:20\n",
            "Digite a nota do aluno 5:10\n",
            "\n",
            "\n",
            "Média da turma: 13.8\n",
            "Portanto, o aluno 1 está REPROVADO.\n"
          ]
        }
      ]
    },
    {
      "cell_type": "code",
      "source": [
        "soma = 0\n",
        "for i in range(1,6):\n",
        "  nota = int(input('Digite a nota do aluno ' + str(i) + ':'))\n",
        "  if i==1: nota1 = nota\n",
        "  soma += nota\n",
        "\n",
        "print('\\n')\n",
        "media = soma/5\n",
        "print('Média da turma:',media)\n",
        "\n",
        "if nota1 >= media:\n",
        "  situacao = 'APROVADO'\n",
        "else:\n",
        "  situacao = 'REPROVADO'\n",
        "\n",
        "print('Portanto, o aluno 1 está',  situacao + '.')"
      ],
      "metadata": {
        "colab": {
          "base_uri": "https://localhost:8080/"
        },
        "id": "FOS8Hx8Mcing",
        "outputId": "b99e470a-0da2-4450-e880-4fd4834dd34a"
      },
      "execution_count": null,
      "outputs": [
        {
          "output_type": "stream",
          "name": "stdout",
          "text": [
            "Digite a nota do aluno 1:60\n",
            "Digite a nota do aluno 2:40\n",
            "Digite a nota do aluno 3:30\n",
            "Digite a nota do aluno 4:80\n",
            "Digite a nota do aluno 5:90\n",
            "\n",
            "\n",
            "Média da turma: 60.0\n",
            "Portanto, o aluno 1 está APROVADO.\n"
          ]
        }
      ]
    }
  ]
}