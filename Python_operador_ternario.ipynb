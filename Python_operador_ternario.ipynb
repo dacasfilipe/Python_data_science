{
  "nbformat": 4,
  "nbformat_minor": 0,
  "metadata": {
    "colab": {
      "provenance": [],
      "authorship_tag": "ABX9TyPQ2bcQrlhLZkQlznrws/zu",
      "include_colab_link": true
    },
    "kernelspec": {
      "name": "python3",
      "display_name": "Python 3"
    },
    "language_info": {
      "name": "python"
    }
  },
  "cells": [
    {
      "cell_type": "markdown",
      "metadata": {
        "id": "view-in-github",
        "colab_type": "text"
      },
      "source": [
        "<a href=\"https://colab.research.google.com/github/dacasfilipe/Python_data_science/blob/main/Python_operador_ternario.ipynb\" target=\"_parent\"><img src=\"https://colab.research.google.com/assets/colab-badge.svg\" alt=\"Open In Colab\"/></a>"
      ]
    },
    {
      "cell_type": "code",
      "execution_count": 3,
      "metadata": {
        "colab": {
          "base_uri": "https://localhost:8080/"
        },
        "id": "-bhe-q86is45",
        "outputId": "072776e7-64e0-43ca-975f-3b8ac25a27d3"
      },
      "outputs": [
        {
          "output_type": "stream",
          "name": "stdout",
          "text": [
            "0\n",
            "2\n",
            "4\n",
            "6\n",
            "8\n",
            "10\n",
            "12\n",
            "14\n",
            "16\n",
            "18\n",
            "20\n",
            "22\n",
            "24\n",
            "26\n",
            "28\n",
            "30\n",
            "32\n",
            "34\n",
            "36\n",
            "38\n",
            "40\n",
            "42\n",
            "44\n",
            "46\n",
            "48\n",
            "50\n",
            "52\n",
            "54\n",
            "56\n",
            "58\n",
            "60\n",
            "62\n",
            "64\n",
            "66\n",
            "68\n",
            "70\n",
            "72\n",
            "74\n",
            "76\n",
            "78\n",
            "80\n",
            "82\n",
            "84\n",
            "86\n",
            "88\n",
            "90\n",
            "92\n",
            "94\n",
            "96\n",
            "98\n"
          ]
        }
      ],
      "source": [
        "#o continue, vai ignorar/pular\n",
        "for numero in range(100):\n",
        "  if numero % 2 == 0:\n",
        "    print(numero)\n",
        "  else:\n",
        "    continue\n",
        "#neste exemplo só vamos imprimir os números pares\n"
      ]
    },
    {
      "cell_type": "code",
      "source": [
        "#já o break serve para interromper a iteração\n",
        "for numero in range(100):\n",
        "  if numero % 2 == 0:\n",
        "    print(numero)\n",
        "  else:\n",
        "    break"
      ],
      "metadata": {
        "colab": {
          "base_uri": "https://localhost:8080/"
        },
        "id": "W08TSHMJjWti",
        "outputId": "ea18ae07-819b-47b6-ab55-7e8d9b871868"
      },
      "execution_count": 4,
      "outputs": [
        {
          "output_type": "stream",
          "name": "stdout",
          "text": [
            "0\n"
          ]
        }
      ]
    },
    {
      "cell_type": "code",
      "source": [
        "frutas = ['Maça', 'Manga', 'Laranja','Morango']\n",
        "for fruta in frutas:\n",
        "  if fruta == 'Manga':\n",
        "    continue\n",
        "  print(f'{fruta} adicionada a dieta.')"
      ],
      "metadata": {
        "colab": {
          "base_uri": "https://localhost:8080/"
        },
        "id": "1KaEyA5Djw8V",
        "outputId": "bf97a9fa-2e4f-445c-91d4-c11722993738"
      },
      "execution_count": 6,
      "outputs": [
        {
          "output_type": "stream",
          "name": "stdout",
          "text": [
            "Maça adicionada a dieta.\n",
            "Laranja adicionada a dieta.\n",
            "Morango adicionada a dieta.\n"
          ]
        }
      ]
    },
    {
      "cell_type": "code",
      "source": [
        "#desafio não imprimir rap na tela\n",
        "estilos = ['Hip-hop', 'Rock', 'Rap', 'Pop']\n",
        "for estilo in estilos:\n",
        "  if estilo == 'Rap':\n",
        "    continue\n",
        "  else:\n",
        "    print(estilo)"
      ],
      "metadata": {
        "colab": {
          "base_uri": "https://localhost:8080/"
        },
        "id": "GXsVrJJ-kfF3",
        "outputId": "6705ff93-3bc9-4696-ebd3-9e340d9bd525"
      },
      "execution_count": 7,
      "outputs": [
        {
          "output_type": "stream",
          "name": "stdout",
          "text": [
            "Hip-hop\n",
            "Rock\n",
            "Pop\n"
          ]
        }
      ]
    },
    {
      "cell_type": "code",
      "source": [
        "#desafio ao chegar em 'Rock' a execução deve ser interrompida\n",
        "estilos = ['Hip-hop', 'Rock', 'Rap', 'Pop']\n",
        "for estilo in estilos:\n",
        "  if estilo == 'Rock':\n",
        "    break\n",
        "  else:\n",
        "    print(estilo)"
      ],
      "metadata": {
        "colab": {
          "base_uri": "https://localhost:8080/"
        },
        "id": "cbWKALBBlGPj",
        "outputId": "d4f55d58-01d8-4631-8a19-6e540164c274"
      },
      "execution_count": 8,
      "outputs": [
        {
          "output_type": "stream",
          "name": "stdout",
          "text": [
            "Hip-hop\n"
          ]
        }
      ]
    }
  ]
}