{
  "nbformat": 4,
  "nbformat_minor": 0,
  "metadata": {
    "colab": {
      "provenance": [],
      "include_colab_link": true
    },
    "kernelspec": {
      "name": "python3",
      "display_name": "Python 3"
    },
    "language_info": {
      "name": "python"
    }
  },
  "cells": [
    {
      "cell_type": "markdown",
      "metadata": {
        "id": "view-in-github",
        "colab_type": "text"
      },
      "source": [
        "<a href=\"https://colab.research.google.com/github/dacasfilipe/Python_data_science/blob/main/Exerc%C3%ADcios_de_Fixa%C3%A7%C3%A3o_Filipe.ipynb\" target=\"_parent\"><img src=\"https://colab.research.google.com/assets/colab-badge.svg\" alt=\"Open In Colab\"/></a>"
      ]
    },
    {
      "cell_type": "markdown",
      "source": [
        "# Exercícios de Fixação"
      ],
      "metadata": {
        "id": "LtbwaNNU-FeR"
      }
    },
    {
      "cell_type": "markdown",
      "source": [
        "<h1> Exercício 1 - Pagamento Semanal </h1>\n",
        "\n",
        "Suponha que você foi incumbido de desenvolver a lógica para o pagamento semanal dos professores.\n",
        "O pagamento de um professor é igual ao salário por hora multiplicado pelo número total de horas regulares mais o pagamento de horas extras. O pagamento de horas extras é igual ao total de horas extras multiplicado por 2 vezes o salário por hora. Escreva um programa que receba como entradas o salário por hora, o total de horas regulares e o total de horas extras.\n",
        "\n",
        "O programa deverá exibir como saída o pagamento semanal total do professor.\n",
        "\n"
      ],
      "metadata": {
        "id": "sMZyhszlMhcK"
      }
    },
    {
      "cell_type": "code",
      "source": [
        "salario_por_hora = float(input('Digite o salário por hora:'))\n",
        "horas_regulares = float(input('Digite o total de horas regulares:'))\n",
        "total_horas_extras = float(input('Digite o total de horas extras:'))\n",
        "total_horas_extras = total_horas_extras *(2 * salario_por_hora)\n",
        "pagamento = salario_por_hora * horas_regulares + total_horas_extras\n",
        "print(f'O pagamento semanal do professor será de R$ {pagamento:.2f}')"
      ],
      "metadata": {
        "colab": {
          "base_uri": "https://localhost:8080/"
        },
        "id": "oUAMr4ItWkcF",
        "outputId": "f474a6ff-a911-4891-cb75-b04af6a88258"
      },
      "execution_count": 3,
      "outputs": [
        {
          "output_type": "stream",
          "name": "stdout",
          "text": [
            "Digite o salário por hora:10\n",
            "Digite o total de horas regulares:10\n",
            "Digite o total de horas extras:2\n",
            "O pagamento semanal do professor será de R$ 140.00\n"
          ]
        }
      ]
    },
    {
      "cell_type": "markdown",
      "source": [
        "<h1> Exercício 2 - Consumo de Combustível </h1>\n",
        "\n",
        "Desenvolva um programa que leia o percurso em km, o tipo de carro e informe o consumo estimado de combustível (em litros). Sabe-se que um carro tipo A faz 12 km com um litro de gasolina, um tipo B faz 9 km/l e o tipo C, 8km/l.\n",
        "\n",
        "Obs.: Aceitar o tipo em letras maiúsculas ou minúsculas (ex.: “C” ou “c”)\n"
      ],
      "metadata": {
        "id": "FW9VrI1IQEBX"
      }
    },
    {
      "cell_type": "code",
      "source": [
        "percurso_km = float(input('Digite o total percorrido em km:'))\n",
        "tiposCarros = \"Sabe-se que os tipos de carros são os seguintes:\\n\"\n",
        "tiposCarros += \"Tipo A: Faz 12 km por litro\\n\"\n",
        "tiposCarros += \"Tipo B: Faz 9 km por litro\\n\"\n",
        "tiposCarros += \"Tipo C: Faz 8 km por litro\\n\"\n",
        "\n",
        "print(tiposCarros)\n",
        "tipoCarro= input(\"Sendo assim, digite o tipo de carro utilizado (A, B ou C):\")\n",
        "\n",
        "if tipoCarro ==\"A\" or tipoCarro ==\"a\": litros = percurso_km/12\n",
        "elif tipoCarro==\"B\" or tipoCarro==\"b\": litros = percurso_km/9\n",
        "elif tipoCarro==\"C\" or tipoCarro==\"c\": litros = percurso_km/8\n",
        "else:\n",
        "  print('tipo de carro inválido.')\n",
        "  exit()\n",
        "\n",
        "print(f'O consumo estimado de combustível foi de {litros:.2f} litros de combustível.')\n"
      ],
      "metadata": {
        "colab": {
          "base_uri": "https://localhost:8080/"
        },
        "id": "ZQ6luai6Y9Gy",
        "outputId": "cfb9e06c-4d20-424f-f088-c8dc11a59c3e"
      },
      "execution_count": 4,
      "outputs": [
        {
          "output_type": "stream",
          "name": "stdout",
          "text": [
            "Digite o total percorrido em km:100\n",
            "Sabe-se que os tipos de carros são os seguintes:\n",
            "Tipo A: Faz 12 km por litro\n",
            "Tipo B: Faz 9 km por litro\n",
            "Tipo C: Faz 8 km por litro\n",
            "\n",
            "Sendo assim, digite o tipo de carro utilizado (A, B ou C):a\n",
            "O consumo estimado de combustível foi de 8.33\n"
          ]
        }
      ]
    },
    {
      "cell_type": "markdown",
      "source": [
        "<h1> Exercício 3 - Limite Superior </h1>\n",
        "\n",
        "Desenvolva um programa que leia um número que será o limite superior de um intervalo e imprimir todos os números ímpares menores do que esse número. Além dos números, o programa deve mostrar ao final da execução a soma dos número ímpares.\n",
        "\n",
        "**Exemplo**:\n",
        "\n",
        "Digite o limite Superior: 15\n",
        "\n",
        "Saída: 1 3 5 7 9 11 13\n"
      ],
      "metadata": {
        "id": "HHrT79rZRMN9"
      }
    },
    {
      "cell_type": "code",
      "source": [
        "limite = int(input('Digite o número para o limite superior:'))\n",
        "contador = 0\n",
        "acumulador = 0\n",
        "sequencia = ''\n",
        "while contador<limite:\n",
        "  if contador%2!=0:\n",
        "    sequencia += str(contador) + ' '\n",
        "    acumulador = acumulador + contador\n",
        "  contador+=1\n",
        "print(sequencia)\n",
        "print('Soma:', acumulador)"
      ],
      "metadata": {
        "colab": {
          "base_uri": "https://localhost:8080/"
        },
        "id": "CV2wIfrybND0",
        "outputId": "f39319af-ded3-4bab-aa8e-8aacf3bf4a27"
      },
      "execution_count": 5,
      "outputs": [
        {
          "output_type": "stream",
          "name": "stdout",
          "text": [
            "Digite o número para o limite superior:10\n",
            "1 3 5 7 9 \n",
            "Soma: 25\n"
          ]
        }
      ]
    },
    {
      "cell_type": "markdown",
      "source": [
        "<h1> Exercício 4 - Conversão de Celsius-Fahrenheit </h1>\n",
        "\n",
        "Criar um algoritmo que imprima a tabela de conversão de graus Celsius-Fahrenheit para um intervalo definido pelo usuário. O algoritmo deve solicitar ao usuário o limite superior, inferior e o intervalo de decremento.\n",
        "\n",
        "Fórmula de Conversão: C = 5(F-32)/9.\n",
        "\n",
        "**Exemplo**:\n",
        "\n",
        "Digite o Limite Superior: 68\n",
        "\n",
        "Digite o Limite Inferior: 10\n",
        "\n",
        "Digite o Decremento: 18\n",
        "\n",
        "**Saída**:\n",
        "\n",
        "68 Fahrenheit = 20 Celsius\n",
        "\n",
        "50 Fahrenheit = 10 Celsius\n",
        "\n",
        "32 Fahrenheit =  0 Celsius\n",
        "\n",
        "14 Fahrenheit =  -10 Celsius"
      ],
      "metadata": {
        "id": "UK2m_G0uRteD"
      }
    },
    {
      "cell_type": "code",
      "source": [
        "limiteSuperior = int(input(\"Digite o limite superior: \"))\n",
        "limiteInferior = int(input(\"Digite o limite inferior: \"))\n",
        "decremento = int(input(\"Digte aqui o decremento: \"))\n",
        "\n",
        "\n",
        "while limiteSuperior > limiteInferior:\n",
        "    valor = 5 * (limiteSuperior - 32) / 9\n",
        "    print(limiteSuperior, \"Fahrenheit =\", valor, \"Celsius\")\n",
        "    limiteSuperior = limiteSuperior - decremento"
      ],
      "metadata": {
        "id": "0EFxSm88ShFf",
        "colab": {
          "base_uri": "https://localhost:8080/"
        },
        "outputId": "4d6ef2fa-829d-4f35-c8d2-583963803710"
      },
      "execution_count": null,
      "outputs": [
        {
          "output_type": "stream",
          "name": "stdout",
          "text": [
            "Digite o limite superior: 68\n",
            "Digite o limite inferior: 10\n",
            "Digte aqui o decremento: 18\n",
            "68 Fahrenheit = 20.0 Celsius\n",
            "50 Fahrenheit = 10.0 Celsius\n",
            "32 Fahrenheit = 0.0 Celsius\n",
            "14 Fahrenheit = -10.0 Celsius\n"
          ]
        }
      ]
    },
    {
      "cell_type": "markdown",
      "source": [
        "<h1> Exercício 5 - Números Primos </h1>\n",
        "\n",
        "Desenvolva uma função que tem o objetivo de verificar se um número recebido é um número primo.  A função deve retornar valores booleanos, isto é, retornar True (caso seja primo) ou False (caso não seja primo).\n",
        "\n",
        "Obs.: Os Números Primos são números naturais maiores do que 1 que possuem somente dois divisores, ou seja, são divisíveis por 1 e por ele mesmo.  "
      ],
      "metadata": {
        "id": "gGZpy7OTSysy"
      }
    },
    {
      "cell_type": "code",
      "source": [
        "def verificaPrimo(pNumero):\n",
        "    if pNumero==1: return False\n",
        "    for i in range(2, pNumero):\n",
        "        if pNumero%i==0:return False\n",
        "    return True\n",
        "\n",
        "numero = int(input(\"Digite um número:\"))\n",
        "if verificaPrimo(numero)==True:\n",
        "    print(\"O número é primo.\")\n",
        "else:\n",
        "    print(\"O número não é primo.\")"
      ],
      "metadata": {
        "id": "51A6GMLuTF_G",
        "colab": {
          "base_uri": "https://localhost:8080/"
        },
        "outputId": "f0e97701-a71f-4afd-fae7-b8bb9ac81adc"
      },
      "execution_count": null,
      "outputs": [
        {
          "output_type": "stream",
          "name": "stdout",
          "text": [
            "Digite um número:7\n",
            "O número é primo.\n"
          ]
        }
      ]
    }
  ]
}