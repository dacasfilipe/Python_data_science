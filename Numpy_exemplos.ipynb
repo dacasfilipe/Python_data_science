{
  "nbformat": 4,
  "nbformat_minor": 0,
  "metadata": {
    "colab": {
      "provenance": [],
      "collapsed_sections": [
        "aP0F5JStK1Zo",
        "9wI0jS1jPIv6",
        "wXaWRg5dSBLr",
        "D0WYNLl2lflH"
      ],
      "include_colab_link": true
    },
    "kernelspec": {
      "name": "python3",
      "display_name": "Python 3"
    },
    "language_info": {
      "name": "python"
    }
  },
  "cells": [
    {
      "cell_type": "markdown",
      "metadata": {
        "id": "view-in-github",
        "colab_type": "text"
      },
      "source": [
        "<a href=\"https://colab.research.google.com/github/dacasfilipe/Python_data_science/blob/main/Numpy_exemplos.ipynb\" target=\"_parent\"><img src=\"https://colab.research.google.com/assets/colab-badge.svg\" alt=\"Open In Colab\"/></a>"
      ]
    },
    {
      "cell_type": "markdown",
      "source": [
        "![unisenai.png](data:image/png;base64,iVBORw0KGgoAAAANSUhEUgAAAooAAAFZCAIAAACQVJnHAAAAAXNSR0IArs4c6QAAAARnQU1BAACxjwv8YQUAAAAJcEhZcwAADsMAAA7DAcdvqGQAACfYSURBVHhe7d17fFx1nf/x34+rLF5WXXXRVfcnrqIiCqKuN0TEdVddd5XVZX+74kNFe6WUS7kvUKBQLC1IkQLKnbrFIiBN0za9kDZN2zTpLb2k6SVt0zZJmzb320xmxt+XzffXTT9JJnNmPmfmM+nr+Xj/oeXM+ZxJMvOeM3PmnP/1JwAAYAz1DACAOdQzAADmUM8AAJhDPQMAYA71DACAOdQzAADmUM8AAJhDPQMAYA71DACAOdQzAADmUM8AAJhDPQMAYA71DACAOdQzAADmUM8AAJhDPQMAYA71DACAOdQzAADmUM8AAJhDPQMAYA71DACAOdQzAADmUM8AAJhDPQMAYA71DACAOdQzAADmUM8AAJhDPQMAYA71DACAOdQzAADmUM8AAJhDPQMAYA71DACAOdQzAADmUM8AAJhDPQMAYA71DACAOdQzAADmUM8AAJhDPQMAYA71DACAOdQzAADmUM8AAJhDPQMAYA71DACAOdQzAADmUM8AAJhDPQMAYA71DACAOdQzAADmUM8AAJhDPQMAYA71DACAOdQzAADmUM8AAJhDPQMAYA71DACAOdQzAADmUM8AAJhDPQMAYA71DACAOdQzAADmUM8AAJhDPQMAYA71DACAOdQzAADmUM8AAJhDPQMAYA71DACAOdQzAADmUM8AAJhDPQMAYA71DACAOdQzAADmUM8AAJhDPQMAYA71DACAOdQzAADmUM8AAJhDPQMAYA71DACAOdQzAADmUM8AAJhDPQMAYA71DACAOdQzAADmUM8AAJhDPQMAYA71DACAOdQzAADmUM8AAJhDPQMAYA71DACAOdQzAADmUM8AAJhDPQMAYA71DACAOdQzAADmUM8AAJhDPQMAYA71DACAOdQzAADmUM8AAJhDPQMAYA71DACAOdQzAADmUM8AAJhDPQMAYA71DACAOdQzAADmUM8AAJhDPQMAYA71DACAOdQzAADmUM8AAJhDPQMAYA71DACAOdQzAADmUM8AAJhDPQMAYA71DACAOdQzAADmUM8AAJhDPQMAYA71DACAOdQzAADmUM9IU28i8VhtJFDWtsT8jQEASVHPSFMknvhISXugzNjT429sQzye6InG2rp7mzoizZ3R1q5oR0+v+0f/nwEgd6hnpCmP6rkrEqs80PqHdXVTF+z82bMbL5pWetakolNGF/zvX8wbmJNGzXv7xIUfumXpBfcsv2T6qstmlU98ccvDS2vmVzZU1be7OvcrBUa6aCzuXrOGkRgvglOgVs9b22PPH4ykniORuL9lTr3cEBUbliQLG3v9zWC+nt3e8Atr9rty/asbFosCzjB/ffOSHzxeMb1o98qdR13x+3na6lu6H1m2Z2Tn1Q31/t4OsLSqUSycedxLNL/2ELjXbWKcVtbva/Ezss69MBV//Fpxr3f9jFwQG6MYP0CJWj0/uT8inouTp7LNxF7IRWUdYsOS5F83dvqbwWo9u1Z7bPnebz605tQxg+8c68btgn/mnhW3vVpVvqc5kdDcIVi1q0nMGnm5ZPoqf28H+OkzG8XCmee9k4rqWrr9AG3u5aAYp5VfLtzlZ2RXR0/v265eIDZGK+fcvkz38RKI2BjF+AFKqGfqOU2m6jkWTzyzqvZL968Uj5Zs5n03LB4zu3LR1sMqb9xRz2JhlXxhaklIH0+MvHp+fPlesSW6WbKt0U/KOrElivEDlFDP1HOajNSzew1eUNlw7p3F4nGSw3zwpiVT5u9oaM3ozlLPYmGtXPncxjD220ZYPbsf0XmTw31Mfe/Rcj8s68SWKMYPUEI9U89pslDPq3c3XTStVDxCjOTUMQX/+kSFa1m/rQFRz2Jhxcwq3uvH6Blh9Vyy86jYDPWcNGpe7dEuPy+7xJYoxg9QQj1Tz2nKbT3vb+r6/qxy8diwmW/PLNtYG/joHupZLKyYU0YXrNhxxE9SMsLq+fIn1onNCCO3vlLl52WX2AzF+AFKqGfqOU05rOfyPc1nTSoSDwzjcc931Q3t/g6kgHoWC+vm3dct0t11G0n1XN/SnZ0jK91vISffVBSboRg/QAn1TD2nKVf1PLfi4Bnj5otHRV7E7bTd/sftkd6UvlJIPYuF1fOZe1Yofi9uJNXzXQXVYhvCy+yyA35qFoltUIwfoIR6pp7TlP16TiQSU+bvEI+HvMu5dxaX1Qz/gTT1LBYOI1c8tUHrMLERU8/RWPx92qcKSJIvTC3xg7NIbINi/AAl1DP1nKYs13Msnvjx0xvEgyFPc9KoedfN3Zr8bT3qWSwcUh5astuPzMyIqee5FQfFBoSd7J93RWyAYvwAJdQz9ZymLNdzNt9wy04unLJiT+OQf1HUs1g4pJw8SucLuCOmni9+YJXYgLDzs2c3+tnZIjZAMX6AEuqZek5TNut5aVWj2+MUj4QRkKkLdvp7OAD1LBYOL++8ZmHN0K+TUjQy6nnLwTYxPQs5Y9z8po6I34KsEBugGD9ACfVMPacpnkjs6owHytFoOp/z1bV0v+e6ReJhMALy1WmlSc4vRj2LhUPNeZOLO3oyOqP+yKjnsbMrxfTsZHqRzkcMKRLTFeMHKKGeqWfTemNxV2PiMTAC8vaJC5N/sYd6FguHnR8+XpHJYWIjoJ5bu6JvvqpQTM9Ozr51aTYv5CqmK8YPUEI9U8+m3VuY94dqD5qX19f5ezgE6lksnIUk+axhWCOgnh9ZtkeMzmYKNx/y2xE+MVoxfoAS6pl6tqszEnvnNQvFA2AEZNTzm/w9HBr1LBbOTtIuiXyv50Qi8bHbXxejs5lvzyzzmxI+MVoxfoAS6pl6tmtWcbjXzMlJ3JOge9nh7+HQqGexcHbytqsX7Ahycrdj8r2el1Y1irnZT+YH6KVIzFWMH6CEeqaejYrHE39z2zLx15/vOW1MQYrn36aexcJZi3v91NoV9duRsnyvZwtnsJ/00la/NSETcxXjByihnqlno17dUC/+9EdAfrW0xt+94VDPYuFs5p9+vTbokUp5Xc/7m7pONvDFxXdMXKh4mtUkxFzF+AFKqGfq2SizV4pMO9+eWZb6scHUs1g4y7njte1+U1KT1/V826tVYmiu8tTKWr9NYRJDFeMHKKGeqWeLwnuyy1X+8vqiw20BzspCPYuFs59XNtT7rUlB/tZzTzT2bjPnFfjMPSu0zoKehBiqGD9ACfWcf/UcjSfWtsQeq43csqP7Pyq7Ll7b8bnV7Resav/86vavlHV8e13nxKpu91+Lj/Y29MSz8LcehiXbcn+gim6Kth729y011LNYOPt581WFWw+2+Q0aTv7W8+yyA2JibrMmhQvGZEhMVIwfoIR6DrGef7s/cn9NT4pZcmSYkxa5pnXLTKjqdk0sNixJvrq2Y+a+iOtpvxZVm9pi4l4kj7sL/pbDuW/BTvF3r5uTRr1xoqifP7fproJqN+vugh23vVp13dyt//JYxbl3Fp8+VvmCldfPDXzMC/UsFs5JPnzr0hTPN5m/9fzFqSvFxNzmR0+u91sWGjFRMX6AEuo5xHr++4oAK5+ye8h3Pt3u8pz66N+VB1ibyDkl7WO3da1s6tXdmf59fVQMSp7U6znU40jd47+hNdn7zLF4YvfhjsLNh2Ys3v3jpzf8xbUZfff6M/esSPEaz/1Rz2LhXOXvf7UmyblXj8nTet5Q2yLG5TynjSk4lPThmTkxUTF+gBLq2Xo9V7XHvru+UyycdsZt60rvxNeDCq+e339jWFecTeWUIIJ7di7ZedTtW59961KxtmFz5vjC9L5HSz2LhXOYG/+wzW/W0PK0nq98ztDP+VjuLdzhty8cYpxi/AAl1LPdenY7zTP3RT42YMkM84U1HcVHMzr7/zEh1bN77Sz+6BWT/EzXySUSic0HWu+ZvyP18ys9XZrmkajh1XNHzxtvohjh7+0ApurZZc7ag37LhpCP9dzUETljnPLnOCr5wE2LU3nHIm1inGL8ACXUs9F6bo4mLtugttM8MPfs7kny5JiikOq58kCr+KNXTHu3wkuTeDzx0rq68yYXi5WLXP7EurR/yOHVcyrnLMs5a/XsamxD0vPJ5GM9z1i8W8yyk1eDHDYflJilGD9ACfVssZ7besPt5r48kO7Vl48JqZ7LakJ8X7egssGPyZgr6Vc21F9wz3Ixoi8fvGmJe8r2iwZHPYvNznncL7SxfcjDxPKunt1f74eDf1iTtVw6Y7Xf0BCIWYrxA5RQz+bquSOWuHxj6N3cl2cOZHQV9JDqeXn1EfFHr5h3X7cok/e3B3L7x67yP3dvSf8pJ4+aV7rrqF8iLdSz2GwL+dr0Vb2xwY/yy7t6XrD5kBhkLdvr0zloIxVikGL8ACXUs6167o4lrqjsEv8p1Mw7nP4eXkj1/Pr2cL/0fMa4+dfP3RroJCHDciX97Krat129oG/EXQXV/j+ki3oWm20kV8/Z4jfxeHlXz9+ZWSYGWcuEOZv9tmoTgxTjByihng3Vs2uvX2zJaje7nL+qvTGS5reiQ6rnlTuPij/6MHLm+MIfPF7x25J9+5vUdqbdfvk3Hlz9lV+WZn5gC/UsNttOnlk1yOF++VXPNY2dYorBvHXCApUjRQYSgxTjByihng3V828C/gy1csuObr/FAYVUz9vr28Uffdj5+B2vu72i2WUHqhvag14LQXC70S3Br3c0EPUsNttOTh87v2zAma3yq55veGmbmGIzjy3f67dYlZiiGD9ACfVspZ7/fVPnx1fKf8xatran8+sIqZ67IjHxR5/NvOWqQrf7O2HO5qdLazfWtkSH+KwxbNSz2GxTed8Ni+tbjntRm0f17B5f77wmozPtZC2fnFyc+RdMBhJTFOMHKKGerdRzbvNvmzrTeBiEVM/OX15fJP7uc5Uzxxd+fcaqO1+rXlrVmM1io57FZlvLl+5f2f9kcHlUz+51pxhhOcurj/jt1iNGKMYPUEI9U88+W4LvQIdXz5fOWC3+7i3klNEFn7+v5Pq5W/+4sb4tnE/Fjgmvnk8bU3D62Pk5TCpX3bdfzy79z0CXR/V84ZQVYoTl/PDxCr/desQIxfgBSqjn/KjnS8o7Ju/qcXW4uT12JBJv7U00RRO13fFlR3tn1UZGbe06Z8BNgmZa8K9Bh1fPYV8SI/O4mvnuI2ufWVV7NLVLJgQVXj3nPNe8OPjBz/3lRT27HPtwNF/qOaSTCrzt6gU/enK9+EeVuNfEdcd/jpA5MUIxfoAS6tl6PY/Z2lXS1DtssTX0xH+9L/K51fLmqeeStR1B398Or57L9zSLv3uzcU8f33hw9aziveLDyAxRz+JWNnPqmIKSnW98wT1f6vmKpzaI9atk9AubSneF9YWLO1/L9GuKgli/YvwAJdSz3Xr+YvCTYx+OxH+6Of2vZgX9pYRXz7F44q9vXiL+9O3n+7PKXa36+5AZ6lncymzec92i/U1deVHPje2R07UvltoXt1PuXtx/5LZl4t9VctakIt0jNMX6FeMHKKGejdbzjyq7mtK6tJR7kMzY0yPWlmKCvr8dXj077llJ/OnnS744deXL6+sy/Ooz9SxuZTkXTllR39It/lErivU8NZzPjD52++t9b7zdW7hD/Cet/L5imEuSBCJWrhg/QAn1bLGeL9vQ2d6b/pO7e6jcvKNbrDOV/GRzsBN0hFrPR9qNXk4nxXz41qWPFu9J+1U/9SxuZTz/9Ou14l+0olXP7vXiB28K5R2p+xfu7Buxv6nrpFHyv6rkommlfSNUiJUrxg9QQj2bq+dLyzuaM74kczSe+GHwE3d/bW2Hv31qQq1nJ6QX+9nM+Xcv37S/1d+fIKhncasTNlr1/MeN9WLNKnF93P/QrW8+tEYsoJXKA+k8jgYl1qwYP0AJ9WyunkuadL6xs741JtacSrpjARo07Hp2u56fumvw60HlUU4ZXTB5XnXQ3WjqWdzqhI1WPf/dQ6F8WfFbD5f5Af/tv9YeEAtoZfQL//M1tgyJNSvGD1BCPduq53HbNC+m5NYm1j9stncE+L2EXc/O2j3NIb1dluV8+q7lyS8YLFDP4lYnbFTqubohrBPlzj3+U+HuaOzYhWF0c+b4QpXT5TpizYrxA5RQz7bqeVen5gGKa1sC70AvaAyw756FenbuLgjreJMs59QxBfNTvto09SxudcJGpZ4nvrhFrFYl75i4sCcqn8ndbq5YTCsPL63xMzIjVqsYP0AJ9Wyonr+3Idj6h9WbSAT9JvQLdQFen2annp0p80dIQ58+dv7ibYf9vUqKeha3OmGTeT139PSGtEc7/neDXPMxpDOfuHz0P5cFPTfDoMRqFeMHKKGeDdXzkwf0zz91Y3WwQ7ifDrINWatn58HFu8UjIU9zxrj5xSmcRph6Frc6YZN5PT++fK9Yp1Yq9jb7Gf24Bv3Y7a+LJbWS4qvb5MQ6FeMHKKGeDdXz3i7Nd7b7BG3Qx/cbrWfnsdCeZbKcM8cXlu5641RTSVDP4lYnbDKsZ1eW500uFutUybl3Dnk5qfsXhvWdi39+dK2fkQGxTsX4AUqoZyv1fO7K9pjG+zbCmuZeMSh5Hqu1W8/O3IqDf3FtflwLL3nede2i5s5knyNQz+JWJ2wyrOeSnWGda3N60W4/Y4C6lu6Qjuh0q913NNPjZ8U6FeMHKKGerdTzP65X/uC5T31PXAxKHuP17Bxpj/zs2ZHw3D1hziCf2x1DPYtbqeRNY+efOb5Q/KPxZFjPlz+xTqxQJSePmtfQmuwkg996uEzcRCu3vFLlZ6RLrFAxfoAS6tlKPU+sUr4qSx/XiB8bMCtJ7NdznxU7joT3+VZ24p7gNg99pgXqWdxKJe+5btEf1tWJfzSeTOq5vqX71DEFYoUq+e4jw7zJPLfioLiJVt517aKBh4sHIlaoGD9ACfVspZ7v2BlKPTvnr5KzkiRf6tmJ9MbvW7Azr9/r/saDq/2dGYB6FrdSiatnt/LbXq0S/245mdTzXQXVYm1aeXl9nZ8xBNeg75gY1mPzhTX7/Zi0iLUpxg9QkrN63mSjnr8SpJ7/bVOI9Xz3rsCXW07RZ4N8tyqP6rlPdzT2dGntp/P25GJV9e3+nhyPeha3UklfPcfjie/MDOutV/WkXc/RWPy9k4rE2lTiXhO7F8d+zNDG/26zuKFW/va+Ej8jLWJtivEDlKjV8zMHgtVzRauJev7SmgAN+uPKYIckBKrnKbvDqudAX33Ou3ruk0gkVuw4ctms8rw7xdikl7b6+3A86lncSiV99ey0dEU/+p+hXP1QPWnXc3hvL189Z/jfoFOxN8Srtq/bF+AcfIJYlWL8ACVq9Ty7Ltgz9epmnTNLZyhQdV25hXo+jp16Pqb2aNeMxbsvmlaaLz39/hsX+00/HvUsbqWSY/XsbK9vf+uEUE7WoZu06/niB1aJVWklxdPTuhfN594Zyne6XNxfiB8TnFiVYvwAJWr1HPSZevERE/Uc6HPZMVup5+MYrOdjDrX2/LZk33dmloV0/XnF7G8a5O+Keha3Ukn/enbmbWoQCxhMevW85WCbWI9WPn3Xcj8jBdOLwjqb0JvGzj/aEeDJqj+xKsX4AUrU6vmVQ8GeqZ8McvqLkLT3JsRWJc+EgAdXU88i2aznY9q6e19eXzdhzmazn0+Liwr0Ca+er5u79aaXt+UwBSmceDw79ezYP6N7evU8dnalWI9WHloy5NedB2po7Tk5tPexHihK830FsR7F+AFK1Op5QWOw01/cHtqByqnb2h7sihGTAx69RT2L5KSe+2vujLodpkkvbf38fSXhPWsEjetLv339hFfPnRETh30kl7V6jscT359VLhYzlTTqubUr+uarwvp6941/2DZt0a7U84GbFos1aOVDtyx1vz5/n4MQ61GMH6BErZ4r24JVXdDDrMIw/3Cwdnn2YLA9fupZRKue3d5wWU2T/z/p6ujpLdl5dHrR7sufWOce5+Jhls1cNK3Ub1M/1LPYbJUMrGenrbv3E3fY/Q59GvU8c1mNWMlITeqXgOtPrEQxfoAStXpuDfhG8cVrO/wtc+fR2mBHmxcfDfZ5OfUsolLPrrdOHzv/lNEF7mkrltZr50EdaY8s3HLoroLqix9YFdKZHIbKJycX+43oh3oWm62SQevZ2Xmo48/DuaZT5glaz6FekcJavvVwmb/bQYiVKMYPUKJWz87ng9SAS3csx2913hDwak57Al6ygnoWybye9x7pfPd1i449GC6csiLFg0gDae/uLahsmDBnc3b2qs++dakf3A/1LDZbJUPVs+NenNk82j9oPS+tahRrGNnZfTjwnp5Yg2L8ACWa9fyDjZ3i6Th5lgXcGVX3nXUBNvickvZowH016lkkw3pu6+51O5ri8XDyqDe+OhxS5bi987kVB8+/O9xjys6aVOTn9UM9i81WSZJ6dsK7zlImCVrPxj9KV8/1gx26kZxYg2L8ACWa9Txpe7Cd0Rurc3l0mNsVFtuTPF8vD/wajXoWyaSeXVMmOdPTeycVzVxW053ZmXiHkkgkpswP8fhe6nmgnNSz+0WHdAGJTBKonvc3ddk55jE7efvEhUH/pMUaFOMHKNGs50f2Bfso97OrA++PKnI9JLYneYKek8ShnkUyqWf3Glk8EgYmvJJ2T9zfezSsnZIP3cKb21JO6tlxPxxrX8ALVM/5dTpxrTy5cp+//6kRN1eMH6BEs55fPxrsu1Uupbk7d9j3NgR7K35WkN7qQz2LpF3Pvy3ZJx4GSeJK+uGlNV3aJfT48r1ikFY+ccfrfkY/1LPYbJUMW8/OnsbOd15j6DorqddzTzTW/8iMEycX3LPcvYD2P4UUiJsrxg9QolnPbb2Jjw54Rk6eG3L0/nZtd7B3tl3WBT9JOPUskl49F1cfOWV04EOpzxxf+C+PVfyu7EBrV9SvKDMPLQnr/EeDnt+fehabrZJU6tlZWtVo5y3i1Ot5dtkBcdsTJ6t3B/impbitYvwAJZr17FwWcJfU1Xl1Rw6eLG7dEexj8vNK2yPB34ennkXSqOedhzoyvCzdaWMK/uFXa35Tsu9Q0qvHJ+f2xc++NayjuMfOrvRj+gmvnj911/Lz77aSP26s93f4eLmtZye8V2NBk3o9f3HqSnHbEyf/8eR6/1NIgbitYvwAJcr1fH9Nj3hGHjY/3Zzt85MEPVmYy0/S2kjqWSRoPTd3Rs+5Xe2yQieNeuMEILf/cbvbySjf09zWneoHK+v3tXx9RlhXF3B5fvUgF68Nr55N5enSWn+Hj5fzek4kElc8tUHcPCdJsZ431LaIG55Qca/CU3/9LW6rGD9AiXI9l7cEbj6X5U3Z+wTaPer+76Zgu/gurof87YOgnkUC1XNvLP6NB1eLv37dnDWp6KvTSn/x/KbpRbtdZ8+tOPjaxoaFWw65uP/x69f3jH5hUxb2SHYN9sVN6lksqZLU69npisQunLJCrCH7SbGer3wulJ9YHuXewh3+ZzEccUPF+AFKlOvZPf9+bW2ATuqLq7H23nQ+lUxDQcATebp8YmV7a1qbRz2LBKrn8M7pbyrvunbRoEe1UM9iSZUEqmdnf1NXzg+2SqWemzoiZ4yzfmW2sPP+Gxe71/T+J5KUuKFi/AAlyvXsTN8T+P1tlysqu9L4cDeojW2xT5XK0cNm3LY0336nnkVSr+cT56TB331krb/Px6OexZIqCVrPTsnOo2kcmaiYVOp5xmIrn5TnNq9sGPxQBkHcSjF+gBL9et7VGfig6L5cXdUd9LPJQKo7YhcGKapjWZrupampZ5EUf79mT68YRoZ6R456FkuqJI16dmYVh/WdulQybD3H44kPh3bcYn7l0hmr/Q8lKXErxfgBSvTr2fn5li7xvJxibt/Z3RtOQ+/rin9pTeB33V2+va4z7RcN1LNIKj/JbXVtb51g9OIE6jltTMH+psHfm6GexZIqSa+eE4nEz5/bJFaVtQxbzws2HxI3OZGzvb7d/1yGJm6iGD9ASSj1vL41nQPE+nLZhs7dncGuPJGce2i91BC9YJUclGJeO5T+t2apZ5Fh67mxPZLbaztmOaNf2OTv+QDUs1hSJenVs9MTjX1haolYW3YybD0nOdntCZgJczb7n8vQxE0U4wcoCaWenR9VprkD7fLJ0vbnDkZU3uiu64n/bHP6W3JJeUcme/PUs0jy32mkN37RtFLx5z6Cc8rogr1HOv2dH4B6FkuqJO16dupaut87qUisMAtJXs81jZ1i+RM8b52woH2470yKmyjGD1ASVj1vakt/B7ov/7i+84W6aFu6R3Rv74jdu7vn/HR3mvuS9qfOfahnkST1nEgkfvKMia+ZZi0/e3ajv/ODoZ7FkirJpJ6dNTVNp43J9mFiyev5hpe2ieXJrOK9/qczBLG8YvwAJWHVs3PXrnQO4RZxe9I3VHeXNvc2RYfvaffsv68r/vzBSNDzaQ+asVszPV8K9SySpJ7dc5D4Qx/ZOXnU4F93PoZ6FkuqJMN6dp5aWSvWGXaS1HN3NGbq9OBGcu6dxYN+WfEYsbxi/AAlIdZze2/iy2UB+mnYfGlNx082d91X0/Pcwcic+ujLDdG59dHZdVHXKJO2d//z+k7X5eImaedTpe11PZl+BE49iwxVz7F44tIZ4Z6BxFrG/26YT8ioZ7GkSjKvZ8f97sRqQ02Sen5mVbZfK+RLllcf8T+jwYiFFeMHKAmxnh231xv0IhlGMu+wwnUUqGeRJHvP0Vj8F8/n7ODYLOfiB1ZFeod58Uc9iyVVolLP7m81mwdJJKnnz4Z5UrNPTi7+4eMVIeWS6SGeJdfFjfA/o8GIhRXjBygJt56dJ/YHu6yyhdyr1JTUs0iSenYSicRTK2vffFWh+IsfYTn71qVH2of/IVPPYkmVqNSzc6i15/03LhYrDylD1XNZTbh/IWv3NPtJIeiKxP786hC/P3nK6IKDzUNeDlEsrBg/QEno9eyecydUBbs8VG7zo8quqNL5y6hnkeT13KemsfPLvxyxF95564QF2+ra/F1NinoWS6pEq56dir3NbxqbjfNoDlXPoV6xY9iPbzN31X+F+xnBHa9t95MGEEsqxg9QEno9Oz3xxJXpnqgky7l8Y6fi2b+pZ5FU6tmJxRNTF+w8dUwuz6QYRk4aNW/hlkP+Tg6HehZLqkSxnp0X1uwX6w8jg9ZzY3vk9DBfHMxYvNtPCs2m/a1iqG7OmlQUHeIU3GJJxfgBSrJRz05eNLRuNzvUs0iK9dxnY23LV0fQ16DfclXhS+vq/H1LAfUsllSJbj07183dKkaoZ9B6dq9fxWKKOWV0weG2sJ6O+vvcveGe6eXF8oN+0vHEYorxA5RkqZ6dSDxx7Xa773KP2dqlftUs6lkkUD07iUTitY0Nipd8zlXOm1xc3TD8uQb7o57FkipRr+feWDzsLx0MrOdYPPHBm5aIxRTz/VnlflLIflOyT4zWzUXTSv2k44nFFOMHKMlePTvu2fbZg5FzBjxr5zyP1uqcpEygnkXS+yG7Z8DHlu91T6zikZAvufK5jV2RmL8zKaOexZIqUa9n50h75P/cHGJZDqxn95pVLKObgsoGPylk7d29YR8KWnmg1Q/rRyyjGD9ASVbruU95S+yS8gC9FWouKutY0ZTRqcGSoJ5FMnkN5B7JDy+t+Zvb8mlP+oxx859ZNXj9DIt6FkuqJIx6djbtb/2z8WF9Ejywnr/50BqxjGLOmlSU4lWTVYR9rZFRzw9yWnuxjGL8ACU5qGenO5aYsafn4yvl03c243bip9b0dMT0d5qPoZ5FMn+LIh5PFG4+9A+/CvHpSSWnjSlwzws1jUOeUntY1LNYUiUh1bPz+4qDYpZWRD3vaGgXC+jmppe3+UlZEfbXw84cX9jSJU9iIZZRjB+gJDf13GdXZ3xijr5zddW2ru0dgd9vDIp6FlH8BKG6of3a32/5wE1Z+u5p6nF7zBNf3HJgiMtEpo56FkuqJLx6dm55pUqMU4mo52te3CIW0E3QgyQylEgkzptcLLZBN79aWuOH/X9iAcX4AUpyWc99arrit+zo/kRW9qTdlEnV3e5lgZ8dMupZRP0DfvfYLt/T7F7vW3jT+y1XFd78ctWhVp3fI/UsllRJqPUciye+9bD+tR3713NHT+/bwjybx5d/udJPyqKZy2rEZujmI7ctix9/KguxgGL8ACW5r+c+bb2JVw5Ff76lK4x3vN063ZpfaYi2ah+bnRz1LKJez8e4nq480Hrfgp3fmVn2jolZvUjA+25YfOVzG19aV9c64D20TFDPYkmVhFrPTnNnVP2VYv96fmLFXvFfdfPUysF/HaFq6oiEfYKXoq2H/bD/Jv6rYvwAJVbq+ZiW3sRLDdGx27q+WdGRyTHe7rZuDeO2dbm1uXX6tWfXjD09N+/oTjEFGmf5HtTduwJsxutHAxwoV94SEzdPnvDquT/3SnnrwTb3RHbFUxvOuX1ZGKc3cev82vRV7nnTvSZwrwz8YFW7Dne4ihrxWbnzqL/Dx3M9IZZUycQXt/gBodlW1yaGZpgFm//nVDYPFO0S/1U3w14pOSQPLt4ttkQ34lWgeDgrxg9QYq6e+4vEE7s644saex+tjVy/vft7Gzo/v7r9glVvXGWy70obroPd/3b/8rdrOi7b0Dlpe7fb+Stq7HW3crf1a8GJrTcWd1VXuPnQQ0t2j5ldeemM1edNLv6rGxaneKita+Kzb136jQdX/+L5TW7vfM7ag2U1TW05ehYDcOIwXc/JZWdXDCNYVyR2sLl784FWtw+3vPrIsu2NS7Y1FlcfKd11dO2e5vX7WvYd7YrxOg9ALuRxPQMAMFJRzwAAmEM9AwBgDvUMAIA51DMAAOZQzwAAmEM9AwBgDvUMAIA51DMAAOZQzwAAmEM9AwBgDvUMAIA51DMAAOZQzwAAmEM9AwBgDvUMAIA51DMAAOZQzwAAmEM9AwBgDvUMAIA51DMAAOZQzwAAmEM9AwBgDvUMAIA51DMAAOZQzwAAmEM9AwBgDvUMAIA51DMAAOZQzwAAmEM9AwBgDvUMAIA51DMAAOZQzwAAmEM9AwBgDvUMAIA51DMAAOZQzwAAmEM9AwBgDvUMAIA51DMAAOZQzwAAmEM9AwBgDvUMAIA51DMAAOZQzwAAmEM9AwBgDvUMAIA51DMAAOZQzwAAmEM9AwBgDvUMAIA51DMAAOZQzwAAmEM9AwBgDvUMAIA51DMAAOZQzwAAmEM9AwBgDvUMAIA51DMAAOZQzwAAmEM9AwBgDvUMAIA51DMAAOZQzwAAmEM9AwBgDvUMAIA51DMAAOZQzwAAmEM9AwBgDvUMAIA51DMAAOZQzwAAmEM9AwBgDvUMAIA51DMAAOZQzwAAmEM9AwBgDvUMAIA51DMAAOZQzwAAmEM9AwBgDvUMAIA51DMAAOZQzwAAmEM9AwBgDvUMAIA51DMAAOZQzwAAmEM9AwBgDvUMAIA51DMAAOZQzwAAmEM9AwBgDvUMAIA51DMAAOZQzwAAmEM9AwBgDvUMAIA51DMAAOZQzwAAmEM9AwBgDvUMAIA51DMAAOZQzwAAmEM9AwBgDvUMAIA51DMAAOZQzwAAmEM9AwBgDvUMAIA51DMAAOZQzwAAmEM9AwBgDvUMAIA51DMAAOZQzwAAmEM9AwBgDvUMAIA51DMAAOZQzwAAmEM9AwBgzJ/+9P8A6XmJNZvD5DYAAAAASUVORK5CYII=)\n",
        "<h1> Pós-Graduação em Ciência de Dados e Inteligência Artificial </h1>\n",
        "\n",
        "<h1>Unidade Curricular: Programação em Python para Ciência de Dados</h1>\n",
        "<h1>Professor: Willian Daniel de Mattos, Me.</h1>\n",
        "\n",
        "<h1><b>Tópico 4 - Visão Geral dos Pacotes Populares </b></h1>\n",
        "\n",
        "4.1 **NumPy** - Exemplos Práticos\n",
        "\n"
      ],
      "metadata": {
        "id": "8WRmgBfNfkyc"
      }
    },
    {
      "cell_type": "markdown",
      "source": [
        "## 1. Numpy - Conceitos Básicos"
      ],
      "metadata": {
        "id": "aP0F5JStK1Zo"
      }
    },
    {
      "cell_type": "code",
      "source": [
        "from google.colab import drive\n",
        "drive.mount('/content/drive')"
      ],
      "metadata": {
        "colab": {
          "base_uri": "https://localhost:8080/"
        },
        "id": "RCqDeWFGWRuJ",
        "outputId": "faa86ba8-f262-4b66-9edf-39fc9d84d3f8"
      },
      "execution_count": null,
      "outputs": [
        {
          "output_type": "stream",
          "name": "stdout",
          "text": [
            "Drive already mounted at /content/drive; to attempt to forcibly remount, call drive.mount(\"/content/drive\", force_remount=True).\n"
          ]
        }
      ]
    },
    {
      "cell_type": "code",
      "source": [
        "import numpy as np"
      ],
      "metadata": {
        "id": "Icx4QP-oK6Hf"
      },
      "execution_count": null,
      "outputs": []
    },
    {
      "cell_type": "code",
      "source": [
        "np.__version__"
      ],
      "metadata": {
        "colab": {
          "base_uri": "https://localhost:8080/",
          "height": 35
        },
        "id": "QQvSwqEwLMyN",
        "outputId": "0246b66a-abc0-4e99-80d5-29ef8884c386"
      },
      "execution_count": null,
      "outputs": [
        {
          "output_type": "execute_result",
          "data": {
            "text/plain": [
              "'1.22.4'"
            ],
            "application/vnd.google.colaboratory.intrinsic+json": {
              "type": "string"
            }
          },
          "metadata": {},
          "execution_count": 3
        }
      ]
    },
    {
      "cell_type": "code",
      "source": [
        "x = [2,4,6,8,10]\n",
        "y = np.array(x)\n",
        "print(y)"
      ],
      "metadata": {
        "colab": {
          "base_uri": "https://localhost:8080/"
        },
        "id": "RV5u7N55LSzO",
        "outputId": "ad779394-36d9-445d-fc65-ebfac5fba440"
      },
      "execution_count": null,
      "outputs": [
        {
          "output_type": "stream",
          "name": "stdout",
          "text": [
            "[ 2  4  6  8 10]\n"
          ]
        }
      ]
    },
    {
      "cell_type": "code",
      "source": [
        "print(type(x))\n",
        "print(type(y[0]))"
      ],
      "metadata": {
        "colab": {
          "base_uri": "https://localhost:8080/"
        },
        "id": "0yTlg3_QLkke",
        "outputId": "4c858d86-a153-4267-f21f-935082a5dbc5"
      },
      "execution_count": null,
      "outputs": [
        {
          "output_type": "stream",
          "name": "stdout",
          "text": [
            "<class 'list'>\n",
            "<class 'numpy.int64'>\n"
          ]
        }
      ]
    },
    {
      "cell_type": "code",
      "source": [
        "print(y.ndim)"
      ],
      "metadata": {
        "colab": {
          "base_uri": "https://localhost:8080/"
        },
        "id": "GKoLn2sqLzJ9",
        "outputId": "e91bc682-7d8a-4547-8c0d-c4261def2959"
      },
      "execution_count": null,
      "outputs": [
        {
          "output_type": "stream",
          "name": "stdout",
          "text": [
            "1\n"
          ]
        }
      ]
    },
    {
      "cell_type": "code",
      "source": [
        "print(y.sum())"
      ],
      "metadata": {
        "colab": {
          "base_uri": "https://localhost:8080/"
        },
        "id": "Jql0AgoAMM2M",
        "outputId": "d1763307-354e-437c-f82d-cdffec278a29"
      },
      "execution_count": null,
      "outputs": [
        {
          "output_type": "stream",
          "name": "stdout",
          "text": [
            "30\n"
          ]
        }
      ]
    },
    {
      "cell_type": "code",
      "source": [
        "z = np.array([[1,3,5],[2,4,6]])\n",
        "print(z)\n",
        "print(z.ndim)"
      ],
      "metadata": {
        "colab": {
          "base_uri": "https://localhost:8080/"
        },
        "id": "A4lTr61TMWnt",
        "outputId": "252e6f24-d070-4b58-bdf4-6441667ff5d8"
      },
      "execution_count": null,
      "outputs": [
        {
          "output_type": "stream",
          "name": "stdout",
          "text": [
            "[[1 3 5]\n",
            " [2 4 6]]\n",
            "2\n"
          ]
        }
      ]
    },
    {
      "cell_type": "code",
      "source": [
        "z.shape"
      ],
      "metadata": {
        "colab": {
          "base_uri": "https://localhost:8080/"
        },
        "id": "xnTMeDnvMzT8",
        "outputId": "c4693e91-7d8d-4fe1-caad-a8c71f572ce6"
      },
      "execution_count": null,
      "outputs": [
        {
          "output_type": "execute_result",
          "data": {
            "text/plain": [
              "(2, 3)"
            ]
          },
          "metadata": {},
          "execution_count": 9
        }
      ]
    },
    {
      "cell_type": "code",
      "source": [
        "z = np.array([[1.5,3.8,5.7],[2.67,4.56,6.89]])"
      ],
      "metadata": {
        "id": "qqZsqyNMM_Fb"
      },
      "execution_count": null,
      "outputs": []
    },
    {
      "cell_type": "code",
      "source": [
        "z"
      ],
      "metadata": {
        "colab": {
          "base_uri": "https://localhost:8080/"
        },
        "id": "mWUPO5ZhNHH7",
        "outputId": "f2a76ae6-5df8-48bf-f45b-d9d092ffd03d"
      },
      "execution_count": null,
      "outputs": [
        {
          "output_type": "execute_result",
          "data": {
            "text/plain": [
              "array([[1.5 , 3.8 , 5.7 ],\n",
              "       [2.67, 4.56, 6.89]])"
            ]
          },
          "metadata": {},
          "execution_count": 11
        }
      ]
    },
    {
      "cell_type": "code",
      "source": [
        "z.dtype"
      ],
      "metadata": {
        "colab": {
          "base_uri": "https://localhost:8080/"
        },
        "id": "-nOGCd8INIA7",
        "outputId": "5c333168-7cbc-404c-d473-7ddf2d60c456"
      },
      "execution_count": null,
      "outputs": [
        {
          "output_type": "execute_result",
          "data": {
            "text/plain": [
              "dtype('float64')"
            ]
          },
          "metadata": {},
          "execution_count": 12
        }
      ]
    },
    {
      "cell_type": "code",
      "source": [
        "a = np.zeros((3,3))"
      ],
      "metadata": {
        "id": "SQmJ59-QNLyr"
      },
      "execution_count": null,
      "outputs": []
    },
    {
      "cell_type": "code",
      "source": [
        "a"
      ],
      "metadata": {
        "colab": {
          "base_uri": "https://localhost:8080/"
        },
        "id": "hb40NkwdNZTp",
        "outputId": "5804f19d-f395-4bc1-9eeb-83fdddddbe11"
      },
      "execution_count": null,
      "outputs": [
        {
          "output_type": "execute_result",
          "data": {
            "text/plain": [
              "array([[0., 0., 0.],\n",
              "       [0., 0., 0.],\n",
              "       [0., 0., 0.]])"
            ]
          },
          "metadata": {},
          "execution_count": 14
        }
      ]
    },
    {
      "cell_type": "code",
      "source": [
        "b = np.ones((3,3))"
      ],
      "metadata": {
        "id": "a4jwEsmuNZ2Y"
      },
      "execution_count": null,
      "outputs": []
    },
    {
      "cell_type": "code",
      "source": [
        "b"
      ],
      "metadata": {
        "colab": {
          "base_uri": "https://localhost:8080/"
        },
        "id": "pXzXd8ikNfep",
        "outputId": "927b39c0-fb02-458f-aa23-8fceeaf00d66"
      },
      "execution_count": null,
      "outputs": [
        {
          "output_type": "execute_result",
          "data": {
            "text/plain": [
              "array([[1., 1., 1.],\n",
              "       [1., 1., 1.],\n",
              "       [1., 1., 1.]])"
            ]
          },
          "metadata": {},
          "execution_count": 16
        }
      ]
    },
    {
      "cell_type": "code",
      "source": [
        "k = np.empty((5,5))"
      ],
      "metadata": {
        "id": "FeYYe43uNgX4"
      },
      "execution_count": null,
      "outputs": []
    },
    {
      "cell_type": "code",
      "source": [
        "k"
      ],
      "metadata": {
        "colab": {
          "base_uri": "https://localhost:8080/"
        },
        "id": "nsTfU4BPN09b",
        "outputId": "5bada5cf-6096-40f1-bbbf-4808c385797d"
      },
      "execution_count": null,
      "outputs": [
        {
          "output_type": "execute_result",
          "data": {
            "text/plain": [
              "array([[ 9.1386334e-317,  0.0000000e+000,  0.0000000e+000,\n",
              "        -1.0000000e+000,  1.0000000e+000],\n",
              "       [-2.0000000e+000,  2.0000000e+000, -1.0000000e+000,\n",
              "         1.0000000e+000,  0.0000000e+000],\n",
              "       [ 2.0000000e+000,  1.0000000e+000,  1.0000000e+000,\n",
              "         2.0000000e+000,  0.0000000e+000],\n",
              "       [ 1.0000000e+000, -1.0000000e+000,  2.0000000e+000,\n",
              "        -2.0000000e+000,  1.0000000e+000],\n",
              "       [-1.0000000e+000,  0.0000000e+000, -2.0000000e+000,\n",
              "        -1.0000000e+000,  1.0276565e-321]])"
            ]
          },
          "metadata": {},
          "execution_count": 18
        }
      ]
    },
    {
      "cell_type": "code",
      "source": [
        "c = np.random.rand(5,5)\n",
        "c"
      ],
      "metadata": {
        "colab": {
          "base_uri": "https://localhost:8080/"
        },
        "id": "OV0euQ3zN11a",
        "outputId": "960cdc5a-5613-4ecc-feb5-432084bba86e"
      },
      "execution_count": null,
      "outputs": [
        {
          "output_type": "execute_result",
          "data": {
            "text/plain": [
              "array([[0.26061321, 0.96319057, 0.10955513, 0.67652997, 0.86730702],\n",
              "       [0.83677111, 0.09611975, 0.55084887, 0.66488712, 0.87685446],\n",
              "       [0.74678207, 0.68265742, 0.72257433, 0.58501645, 0.4416355 ],\n",
              "       [0.12834996, 0.40898936, 0.18013008, 0.29071857, 0.19017395],\n",
              "       [0.72484426, 0.9285871 , 0.44580076, 0.88765645, 0.43957603]])"
            ]
          },
          "metadata": {},
          "execution_count": 19
        }
      ]
    },
    {
      "cell_type": "code",
      "source": [
        "d = np.arange(1,100,2)\n",
        "d"
      ],
      "metadata": {
        "colab": {
          "base_uri": "https://localhost:8080/"
        },
        "id": "4dxrF52sODw6",
        "outputId": "191dbf94-14b1-4e4a-e23c-55fa455acd57"
      },
      "execution_count": null,
      "outputs": [
        {
          "output_type": "execute_result",
          "data": {
            "text/plain": [
              "array([ 1,  3,  5,  7,  9, 11, 13, 15, 17, 19, 21, 23, 25, 27, 29, 31, 33,\n",
              "       35, 37, 39, 41, 43, 45, 47, 49, 51, 53, 55, 57, 59, 61, 63, 65, 67,\n",
              "       69, 71, 73, 75, 77, 79, 81, 83, 85, 87, 89, 91, 93, 95, 97, 99])"
            ]
          },
          "metadata": {},
          "execution_count": 20
        }
      ]
    },
    {
      "cell_type": "code",
      "source": [
        "e = np.linspace(0,100,100)\n",
        "print(e)"
      ],
      "metadata": {
        "colab": {
          "base_uri": "https://localhost:8080/"
        },
        "id": "3dKFD0hGOU1K",
        "outputId": "90e64147-f9c1-49af-8b1d-018af1a38f7b"
      },
      "execution_count": null,
      "outputs": [
        {
          "output_type": "stream",
          "name": "stdout",
          "text": [
            "[  0.           1.01010101   2.02020202   3.03030303   4.04040404\n",
            "   5.05050505   6.06060606   7.07070707   8.08080808   9.09090909\n",
            "  10.1010101   11.11111111  12.12121212  13.13131313  14.14141414\n",
            "  15.15151515  16.16161616  17.17171717  18.18181818  19.19191919\n",
            "  20.2020202   21.21212121  22.22222222  23.23232323  24.24242424\n",
            "  25.25252525  26.26262626  27.27272727  28.28282828  29.29292929\n",
            "  30.3030303   31.31313131  32.32323232  33.33333333  34.34343434\n",
            "  35.35353535  36.36363636  37.37373737  38.38383838  39.39393939\n",
            "  40.4040404   41.41414141  42.42424242  43.43434343  44.44444444\n",
            "  45.45454545  46.46464646  47.47474747  48.48484848  49.49494949\n",
            "  50.50505051  51.51515152  52.52525253  53.53535354  54.54545455\n",
            "  55.55555556  56.56565657  57.57575758  58.58585859  59.5959596\n",
            "  60.60606061  61.61616162  62.62626263  63.63636364  64.64646465\n",
            "  65.65656566  66.66666667  67.67676768  68.68686869  69.6969697\n",
            "  70.70707071  71.71717172  72.72727273  73.73737374  74.74747475\n",
            "  75.75757576  76.76767677  77.77777778  78.78787879  79.7979798\n",
            "  80.80808081  81.81818182  82.82828283  83.83838384  84.84848485\n",
            "  85.85858586  86.86868687  87.87878788  88.88888889  89.8989899\n",
            "  90.90909091  91.91919192  92.92929293  93.93939394  94.94949495\n",
            "  95.95959596  96.96969697  97.97979798  98.98989899 100.        ]\n"
          ]
        }
      ]
    },
    {
      "cell_type": "markdown",
      "source": [
        "## 2. Operações com Arrays"
      ],
      "metadata": {
        "id": "9wI0jS1jPIv6"
      }
    },
    {
      "cell_type": "code",
      "source": [
        "x = np.array([10,20,30,40,50])\n",
        "y = np.array([2,2,2,3,3])\n",
        "\n",
        "z = x + y\n",
        "print(z)\n",
        "\n",
        "z = x - y\n",
        "print(z)\n",
        "\n",
        "z = x * y\n",
        "print(z)\n"
      ],
      "metadata": {
        "colab": {
          "base_uri": "https://localhost:8080/"
        },
        "id": "fUNnOw10PNAZ",
        "outputId": "4577a7be-28ed-4bc3-c064-745f17f6cf25"
      },
      "execution_count": null,
      "outputs": [
        {
          "output_type": "stream",
          "name": "stdout",
          "text": [
            "[12 22 32 43 53]\n",
            "[ 8 18 28 37 47]\n",
            "[ 20  40  60 120 150]\n"
          ]
        }
      ]
    },
    {
      "cell_type": "code",
      "source": [
        "a = np.array([[1,2],[3,4]])\n",
        "b = np.array([[5,6],[7,8]])\n",
        "\n",
        "c = a * b\n",
        "print(c)\n",
        "\n",
        "d = a @ b\n",
        "print(d)"
      ],
      "metadata": {
        "colab": {
          "base_uri": "https://localhost:8080/"
        },
        "id": "RH8n-j56Pf1I",
        "outputId": "b7592f3d-79e5-495a-a199-ed7846939449"
      },
      "execution_count": null,
      "outputs": [
        {
          "output_type": "stream",
          "name": "stdout",
          "text": [
            "[[ 5 12]\n",
            " [21 32]]\n",
            "[[19 22]\n",
            " [43 50]]\n"
          ]
        }
      ]
    },
    {
      "cell_type": "code",
      "source": [
        "a = np.array([1,3,5])\n",
        "b = np.array([3.44,5.55,6.67])\n",
        "print(a.dtype)\n",
        "print(b.dtype)"
      ],
      "metadata": {
        "colab": {
          "base_uri": "https://localhost:8080/"
        },
        "id": "0MYMI6l2QYJ5",
        "outputId": "1b70ec8f-f389-4ebd-93f8-1be499746152"
      },
      "execution_count": null,
      "outputs": [
        {
          "output_type": "stream",
          "name": "stdout",
          "text": [
            "int64\n",
            "float64\n"
          ]
        }
      ]
    },
    {
      "cell_type": "code",
      "source": [
        "c = a + b\n",
        "print(c)"
      ],
      "metadata": {
        "colab": {
          "base_uri": "https://localhost:8080/"
        },
        "id": "4qZaj0sFQ22p",
        "outputId": "c52ea969-ee5c-479f-c502-40505e88d3d7"
      },
      "execution_count": null,
      "outputs": [
        {
          "output_type": "stream",
          "name": "stdout",
          "text": [
            "[ 4.44  8.55 11.67]\n"
          ]
        }
      ]
    },
    {
      "cell_type": "code",
      "source": [
        "print(c.dtype)"
      ],
      "metadata": {
        "colab": {
          "base_uri": "https://localhost:8080/"
        },
        "id": "xYEhUYsSQ7Cp",
        "outputId": "442ffab1-729b-41ef-c03f-19463b988cf9"
      },
      "execution_count": null,
      "outputs": [
        {
          "output_type": "stream",
          "name": "stdout",
          "text": [
            "float64\n"
          ]
        }
      ]
    },
    {
      "cell_type": "code",
      "source": [
        "print('Mínimo', c.min())\n",
        "print('Máximo', c.max())\n",
        "print('Soma', c.sum())\n",
        "print('Média', c.mean())\n",
        "print('Desvio Padrão', c.std())\n",
        "print('Variância', c.var())"
      ],
      "metadata": {
        "colab": {
          "base_uri": "https://localhost:8080/"
        },
        "id": "QXx9a8IwRAn5",
        "outputId": "8082b85d-fbca-4d8b-f6f1-2f41e0245c16"
      },
      "execution_count": null,
      "outputs": [
        {
          "output_type": "stream",
          "name": "stdout",
          "text": [
            "Mínimo 4.4399999999999995\n",
            "Máximo 11.67\n",
            "Soma 24.66\n",
            "Média 8.22\n",
            "Desvio Padrão 2.960844474132338\n",
            "Variância 8.766600000000002\n"
          ]
        }
      ]
    },
    {
      "cell_type": "code",
      "source": [
        "x  = np.arange(1,21,1)\n",
        "x"
      ],
      "metadata": {
        "colab": {
          "base_uri": "https://localhost:8080/"
        },
        "id": "WeK1F4ExRIvZ",
        "outputId": "bb0b7a1a-ae26-4993-e408-ac2ad9e7d85c"
      },
      "execution_count": null,
      "outputs": [
        {
          "output_type": "execute_result",
          "data": {
            "text/plain": [
              "array([ 1,  2,  3,  4,  5,  6,  7,  8,  9, 10, 11, 12, 13, 14, 15, 16, 17,\n",
              "       18, 19, 20])"
            ]
          },
          "metadata": {},
          "execution_count": 28
        }
      ]
    },
    {
      "cell_type": "code",
      "source": [
        "y = x.reshape(4,5)\n",
        "y"
      ],
      "metadata": {
        "colab": {
          "base_uri": "https://localhost:8080/"
        },
        "id": "3CgAVjgpRog5",
        "outputId": "adc6e432-0237-418d-fa03-735ed54ee142"
      },
      "execution_count": null,
      "outputs": [
        {
          "output_type": "execute_result",
          "data": {
            "text/plain": [
              "array([[ 1,  2,  3,  4,  5],\n",
              "       [ 6,  7,  8,  9, 10],\n",
              "       [11, 12, 13, 14, 15],\n",
              "       [16, 17, 18, 19, 20]])"
            ]
          },
          "metadata": {},
          "execution_count": 29
        }
      ]
    },
    {
      "cell_type": "markdown",
      "source": [
        "## 3. Indexação e Fatiamento"
      ],
      "metadata": {
        "id": "wXaWRg5dSBLr"
      }
    },
    {
      "cell_type": "code",
      "source": [
        "x = np.array([10,20,30,40,50])\n",
        "x[4]"
      ],
      "metadata": {
        "colab": {
          "base_uri": "https://localhost:8080/"
        },
        "id": "UcHON3yTSEcJ",
        "outputId": "b196344f-c6f9-4d45-8d87-580cd0004c1d"
      },
      "execution_count": null,
      "outputs": [
        {
          "output_type": "execute_result",
          "data": {
            "text/plain": [
              "50"
            ]
          },
          "metadata": {},
          "execution_count": 30
        }
      ]
    },
    {
      "cell_type": "code",
      "source": [
        "x = np.array([[10,20],[30,40],[50,60]])\n",
        "x"
      ],
      "metadata": {
        "colab": {
          "base_uri": "https://localhost:8080/"
        },
        "id": "LeAf2o4-SNOY",
        "outputId": "9987c444-d95b-4c7d-ec75-450e9bc25732"
      },
      "execution_count": null,
      "outputs": [
        {
          "output_type": "execute_result",
          "data": {
            "text/plain": [
              "array([[10, 20],\n",
              "       [30, 40],\n",
              "       [50, 60]])"
            ]
          },
          "metadata": {},
          "execution_count": 31
        }
      ]
    },
    {
      "cell_type": "code",
      "source": [
        "x[2,1]"
      ],
      "metadata": {
        "colab": {
          "base_uri": "https://localhost:8080/"
        },
        "id": "b5EBo8q4SW6J",
        "outputId": "b7160a9d-9e05-4f6e-c2ec-85ed308829f9"
      },
      "execution_count": null,
      "outputs": [
        {
          "output_type": "execute_result",
          "data": {
            "text/plain": [
              "60"
            ]
          },
          "metadata": {},
          "execution_count": 32
        }
      ]
    },
    {
      "cell_type": "code",
      "source": [
        "x[2][1]"
      ],
      "metadata": {
        "colab": {
          "base_uri": "https://localhost:8080/"
        },
        "id": "sRkkFcwMSlc5",
        "outputId": "1d2074dc-22c1-47e8-e464-3ced5663602f"
      },
      "execution_count": null,
      "outputs": [
        {
          "output_type": "execute_result",
          "data": {
            "text/plain": [
              "60"
            ]
          },
          "metadata": {},
          "execution_count": 33
        }
      ]
    },
    {
      "cell_type": "code",
      "source": [
        "c = x > 20\n",
        "c.sum()"
      ],
      "metadata": {
        "colab": {
          "base_uri": "https://localhost:8080/"
        },
        "id": "0FfExG9VSqi5",
        "outputId": "e081d7c7-60bd-455a-9def-f0739e544cff"
      },
      "execution_count": null,
      "outputs": [
        {
          "output_type": "execute_result",
          "data": {
            "text/plain": [
              "4"
            ]
          },
          "metadata": {},
          "execution_count": 34
        }
      ]
    },
    {
      "cell_type": "code",
      "source": [
        "d = x[x>20]\n",
        "d"
      ],
      "metadata": {
        "colab": {
          "base_uri": "https://localhost:8080/"
        },
        "id": "iZ1ACrtQS4AZ",
        "outputId": "d4768b99-dabd-4863-96d9-31aa2d0212f8"
      },
      "execution_count": null,
      "outputs": [
        {
          "output_type": "execute_result",
          "data": {
            "text/plain": [
              "array([30, 40, 50, 60])"
            ]
          },
          "metadata": {},
          "execution_count": 35
        }
      ]
    },
    {
      "cell_type": "code",
      "source": [
        "a = np.array([0,1,2,3,4,5,6,7,8,9,10])\n",
        "a"
      ],
      "metadata": {
        "colab": {
          "base_uri": "https://localhost:8080/"
        },
        "id": "Jbvh4TxWTc0o",
        "outputId": "8c534a31-b7a9-4782-ea29-841033112d80"
      },
      "execution_count": null,
      "outputs": [
        {
          "output_type": "execute_result",
          "data": {
            "text/plain": [
              "array([ 0,  1,  2,  3,  4,  5,  6,  7,  8,  9, 10])"
            ]
          },
          "metadata": {},
          "execution_count": 36
        }
      ]
    },
    {
      "cell_type": "code",
      "source": [
        "print(a[5:7])"
      ],
      "metadata": {
        "colab": {
          "base_uri": "https://localhost:8080/"
        },
        "id": "FozgQ_vhTsOp",
        "outputId": "e7d7701c-de39-4c0e-d726-9e239d359ea6"
      },
      "execution_count": null,
      "outputs": [
        {
          "output_type": "stream",
          "name": "stdout",
          "text": [
            "[5 6]\n"
          ]
        }
      ]
    },
    {
      "cell_type": "code",
      "source": [
        "x = np.array(np.arange(1,16).reshape(3,5))\n",
        "x"
      ],
      "metadata": {
        "colab": {
          "base_uri": "https://localhost:8080/"
        },
        "id": "bvLWTvOIT2ZY",
        "outputId": "c4e3caeb-feb0-4655-de98-8e8a19f16555"
      },
      "execution_count": null,
      "outputs": [
        {
          "output_type": "execute_result",
          "data": {
            "text/plain": [
              "array([[ 1,  2,  3,  4,  5],\n",
              "       [ 6,  7,  8,  9, 10],\n",
              "       [11, 12, 13, 14, 15]])"
            ]
          },
          "metadata": {},
          "execution_count": 38
        }
      ]
    },
    {
      "cell_type": "code",
      "source": [
        "x[:1]"
      ],
      "metadata": {
        "colab": {
          "base_uri": "https://localhost:8080/"
        },
        "id": "PoneItaZU3-I",
        "outputId": "855c0d5e-f02a-40c5-8cf1-a78d4f69cbd3"
      },
      "execution_count": null,
      "outputs": [
        {
          "output_type": "execute_result",
          "data": {
            "text/plain": [
              "array([[1, 2, 3, 4, 5]])"
            ]
          },
          "metadata": {},
          "execution_count": 39
        }
      ]
    },
    {
      "cell_type": "code",
      "source": [
        "x[:2]"
      ],
      "metadata": {
        "colab": {
          "base_uri": "https://localhost:8080/"
        },
        "id": "3O6fKZhgVIM5",
        "outputId": "95fb4f0d-03b5-47a1-ef65-b53d6e24b251"
      },
      "execution_count": null,
      "outputs": [
        {
          "output_type": "execute_result",
          "data": {
            "text/plain": [
              "array([[ 1,  2,  3,  4,  5],\n",
              "       [ 6,  7,  8,  9, 10]])"
            ]
          },
          "metadata": {},
          "execution_count": 40
        }
      ]
    },
    {
      "cell_type": "code",
      "source": [
        "x[:3,4:]"
      ],
      "metadata": {
        "colab": {
          "base_uri": "https://localhost:8080/"
        },
        "id": "zSugicZNVRf4",
        "outputId": "4929da86-9a6b-4566-bf3b-185484d065f7"
      },
      "execution_count": null,
      "outputs": [
        {
          "output_type": "execute_result",
          "data": {
            "text/plain": [
              "array([[ 5],\n",
              "       [10],\n",
              "       [15]])"
            ]
          },
          "metadata": {},
          "execution_count": 41
        }
      ]
    },
    {
      "cell_type": "code",
      "source": [
        "x[[2,2],[2,3]]"
      ],
      "metadata": {
        "colab": {
          "base_uri": "https://localhost:8080/"
        },
        "id": "ALWNupYSVfYY",
        "outputId": "f8651d83-d848-4309-9823-1940a1a7e1d2"
      },
      "execution_count": null,
      "outputs": [
        {
          "output_type": "execute_result",
          "data": {
            "text/plain": [
              "array([13, 14])"
            ]
          },
          "metadata": {},
          "execution_count": 42
        }
      ]
    },
    {
      "cell_type": "code",
      "source": [
        "x[2][2]"
      ],
      "metadata": {
        "colab": {
          "base_uri": "https://localhost:8080/"
        },
        "id": "6bjtoYiiVzKY",
        "outputId": "23c67ece-398f-4729-b9c3-5e2636c2edc2"
      },
      "execution_count": null,
      "outputs": [
        {
          "output_type": "execute_result",
          "data": {
            "text/plain": [
              "13"
            ]
          },
          "metadata": {},
          "execution_count": 43
        }
      ]
    },
    {
      "cell_type": "code",
      "source": [
        "x[2:,2:]"
      ],
      "metadata": {
        "colab": {
          "base_uri": "https://localhost:8080/"
        },
        "id": "EtCO8XflV0tY",
        "outputId": "ad15b32a-2ba8-472b-a3e2-7ce20b14fe23"
      },
      "execution_count": null,
      "outputs": [
        {
          "output_type": "execute_result",
          "data": {
            "text/plain": [
              "array([[13, 14, 15]])"
            ]
          },
          "metadata": {},
          "execution_count": 44
        }
      ]
    },
    {
      "cell_type": "markdown",
      "source": [
        "# 4. Leitura de arquivo .csv"
      ],
      "metadata": {
        "id": "D0WYNLl2lflH"
      }
    },
    {
      "cell_type": "code",
      "source": [
        "movies = np.genfromtxt('/content/drive/MyDrive/Colab Notebooks/movies.csv', delimiter=';', skip_header=1)\n",
        "movies"
      ],
      "metadata": {
        "colab": {
          "base_uri": "https://localhost:8080/"
        },
        "id": "75i7IFi4X96b",
        "outputId": "14248e5a-f1c0-47c3-c90a-c892d4a16985"
      },
      "execution_count": null,
      "outputs": [
        {
          "output_type": "execute_result",
          "data": {
            "text/plain": [
              "array([[2.835e+03, 8.400e+01, 1.150e+02, 2.330e+02, 2.011e+03, 1.600e+00,\n",
              "        1.850e+00, 6.200e+04],\n",
              "       [1.137e+03, 1.200e+01, 9.100e+01, 6.600e+01, 2.012e+03, 1.700e+00,\n",
              "        1.110e+00, 0.000e+00],\n",
              "       [4.606e+03, 3.000e+00, 9.700e+01, 9.000e+00, 2.005e+03, 1.900e+00,\n",
              "        1.780e+00, 1.280e+02],\n",
              "       [2.269e+03, 1.110e+02, 8.800e+01, 3.590e+02, 2.008e+03, 1.900e+00,\n",
              "        1.850e+00, 0.000e+00],\n",
              "       [2.296e+03, 3.200e+01, 8.800e+01, 1.290e+02, 2.004e+03, 1.900e+00,\n",
              "        2.350e+00, 0.000e+00],\n",
              "       [3.506e+03, 2.500e+01, 9.300e+01, 4.600e+01, 2.007e+03, 2.000e+00,\n",
              "        1.850e+00, 4.460e+02],\n",
              "       [1.730e+03, 7.000e+00, 1.100e+02, 2.200e+01, 2.014e+03, 2.000e+00,\n",
              "        2.350e+00, 0.000e+00],\n",
              "       [2.984e+03, 6.000e+01, 9.000e+01, 3.040e+02, 2.003e+03, 2.100e+00,\n",
              "        1.850e+00, 0.000e+00],\n",
              "       [3.665e+03, 2.500e+01, 9.500e+01, 3.600e+01, 2.006e+03, 2.100e+00,\n",
              "        1.850e+00, 2.440e+02],\n",
              "       [3.341e+03, 6.600e+01, 1.040e+02, 3.080e+02, 2.001e+03, 2.100e+00,\n",
              "        2.350e+00, 0.000e+00],\n",
              "       [4.620e+03, 7.000e+00, 8.300e+01, 1.400e+01, 2.012e+03, 2.200e+00,\n",
              "        1.780e+00, 1.500e+02],\n",
              "       [3.200e+02, 7.800e+01, 9.400e+01, 2.390e+02, 2.005e+03, 2.200e+00,\n",
              "        1.850e+00, 8.810e+02],\n",
              "       [4.769e+03, 1.000e+00, 1.220e+02, 1.600e+01, 2.015e+03, 2.200e+00,\n",
              "        1.253e+00, 3.530e+02]])"
            ]
          },
          "metadata": {},
          "execution_count": 45
        }
      ]
    },
    {
      "cell_type": "code",
      "source": [
        "col0 = movies[:,0]\n",
        "print(col0)"
      ],
      "metadata": {
        "colab": {
          "base_uri": "https://localhost:8080/"
        },
        "id": "ZPSLjhu8YhpI",
        "outputId": "e860a1d9-1b96-4684-ef41-80aebb0a8a80"
      },
      "execution_count": null,
      "outputs": [
        {
          "output_type": "stream",
          "name": "stdout",
          "text": [
            "[2835. 1137. 4606. 2269. 2296. 3506. 1730. 2984. 3665. 3341. 4620.  320.\n",
            " 4769.]\n"
          ]
        }
      ]
    },
    {
      "cell_type": "code",
      "source": [
        "col0 = movies[:,[0,3,5]]\n",
        "print(col0)\n",
        "print(col0.ndim)"
      ],
      "metadata": {
        "colab": {
          "base_uri": "https://localhost:8080/"
        },
        "id": "i_F7lxk4gYor",
        "outputId": "b2c82283-8008-4b0c-f23f-5597d8de4d74"
      },
      "execution_count": null,
      "outputs": [
        {
          "output_type": "stream",
          "name": "stdout",
          "text": [
            "[[2.835e+03 2.330e+02 1.600e+00]\n",
            " [1.137e+03 6.600e+01 1.700e+00]\n",
            " [4.606e+03 9.000e+00 1.900e+00]\n",
            " [2.269e+03 3.590e+02 1.900e+00]\n",
            " [2.296e+03 1.290e+02 1.900e+00]\n",
            " [3.506e+03 4.600e+01 2.000e+00]\n",
            " [1.730e+03 2.200e+01 2.000e+00]\n",
            " [2.984e+03 3.040e+02 2.100e+00]\n",
            " [3.665e+03 3.600e+01 2.100e+00]\n",
            " [3.341e+03 3.080e+02 2.100e+00]\n",
            " [4.620e+03 1.400e+01 2.200e+00]\n",
            " [3.200e+02 2.390e+02 2.200e+00]\n",
            " [4.769e+03 1.600e+01 2.200e+00]]\n",
            "2\n"
          ]
        }
      ]
    },
    {
      "cell_type": "code",
      "source": [
        "movies[:,5].mean()"
      ],
      "metadata": {
        "colab": {
          "base_uri": "https://localhost:8080/"
        },
        "id": "LyNKUUnKgger",
        "outputId": "5a59ad12-a387-42f1-f4fc-9899fb5a9bf3"
      },
      "execution_count": null,
      "outputs": [
        {
          "output_type": "execute_result",
          "data": {
            "text/plain": [
              "1.9923076923076921"
            ]
          },
          "metadata": {},
          "execution_count": 48
        }
      ]
    },
    {
      "cell_type": "code",
      "source": [
        "movies2 = np.genfromtxt(\"/content/drive/MyDrive/Colab Notebooks/movies.csv\", delimiter=\";\", skip_header=1, names = ('code','num_critic_for_reviews','duration'\n",
        "                            ,'num_user_for_reviews','title_year', 'imdb_score','aspect_ratio', 'movie_facebook_likes'))"
      ],
      "metadata": {
        "id": "CWPspiKihBma"
      },
      "execution_count": null,
      "outputs": []
    },
    {
      "cell_type": "code",
      "source": [
        "movies2"
      ],
      "metadata": {
        "colab": {
          "base_uri": "https://localhost:8080/"
        },
        "id": "NzRJx7C9haZa",
        "outputId": "62b287f3-69c7-45b9-cd3b-c312c95d4211"
      },
      "execution_count": null,
      "outputs": [
        {
          "output_type": "execute_result",
          "data": {
            "text/plain": [
              "array([(2835.,  84., 115., 233., 2011., 1.6, 1.85 , 62000.),\n",
              "       (1137.,  12.,  91.,  66., 2012., 1.7, 1.11 ,     0.),\n",
              "       (4606.,   3.,  97.,   9., 2005., 1.9, 1.78 ,   128.),\n",
              "       (2269., 111.,  88., 359., 2008., 1.9, 1.85 ,     0.),\n",
              "       (2296.,  32.,  88., 129., 2004., 1.9, 2.35 ,     0.),\n",
              "       (3506.,  25.,  93.,  46., 2007., 2. , 1.85 ,   446.),\n",
              "       (1730.,   7., 110.,  22., 2014., 2. , 2.35 ,     0.),\n",
              "       (2984.,  60.,  90., 304., 2003., 2.1, 1.85 ,     0.),\n",
              "       (3665.,  25.,  95.,  36., 2006., 2.1, 1.85 ,   244.),\n",
              "       (3341.,  66., 104., 308., 2001., 2.1, 2.35 ,     0.),\n",
              "       (4620.,   7.,  83.,  14., 2012., 2.2, 1.78 ,   150.),\n",
              "       ( 320.,  78.,  94., 239., 2005., 2.2, 1.85 ,   881.),\n",
              "       (4769.,   1., 122.,  16., 2015., 2.2, 1.253,   353.)],\n",
              "      dtype=[('code', '<f8'), ('num_critic_for_reviews', '<f8'), ('duration', '<f8'), ('num_user_for_reviews', '<f8'), ('title_year', '<f8'), ('imdb_score', '<f8'), ('aspect_ratio', '<f8'), ('movie_facebook_likes', '<f8')])"
            ]
          },
          "metadata": {},
          "execution_count": 50
        }
      ]
    },
    {
      "cell_type": "code",
      "source": [
        "movies2['imdb_score'][0:9]"
      ],
      "metadata": {
        "colab": {
          "base_uri": "https://localhost:8080/"
        },
        "id": "U4xSzcmQhbw6",
        "outputId": "b78cc61d-7f70-4a42-b02d-e99555f07a5c"
      },
      "execution_count": null,
      "outputs": [
        {
          "output_type": "execute_result",
          "data": {
            "text/plain": [
              "array([1.6, 1.7, 1.9, 1.9, 1.9, 2. , 2. , 2.1, 2.1])"
            ]
          },
          "metadata": {},
          "execution_count": 51
        }
      ]
    },
    {
      "cell_type": "code",
      "source": [
        "len(movies2[movies2['imdb_score']>2])"
      ],
      "metadata": {
        "colab": {
          "base_uri": "https://localhost:8080/"
        },
        "id": "0OmFgu6jhiW6",
        "outputId": "c8ea389f-2c45-4a2b-c50b-9a45c210e946"
      },
      "execution_count": null,
      "outputs": [
        {
          "output_type": "execute_result",
          "data": {
            "text/plain": [
              "6"
            ]
          },
          "metadata": {},
          "execution_count": 57
        }
      ]
    },
    {
      "cell_type": "code",
      "source": [
        "movies2[movies2['title_year']>=2008]['imdb_score'].mean()"
      ],
      "metadata": {
        "colab": {
          "base_uri": "https://localhost:8080/"
        },
        "id": "2G2SKHrehw66",
        "outputId": "a39c197d-574e-4992-bf00-238ede626761"
      },
      "execution_count": null,
      "outputs": [
        {
          "output_type": "execute_result",
          "data": {
            "text/plain": [
              "1.933333333333333"
            ]
          },
          "metadata": {},
          "execution_count": 53
        }
      ]
    }
  ]
}