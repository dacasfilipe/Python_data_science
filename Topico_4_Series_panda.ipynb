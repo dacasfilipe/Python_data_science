{
  "nbformat": 4,
  "nbformat_minor": 0,
  "metadata": {
    "colab": {
      "provenance": [],
      "include_colab_link": true
    },
    "kernelspec": {
      "name": "python3",
      "display_name": "Python 3"
    },
    "language_info": {
      "name": "python"
    }
  },
  "cells": [
    {
      "cell_type": "markdown",
      "metadata": {
        "id": "view-in-github",
        "colab_type": "text"
      },
      "source": [
        "<a href=\"https://colab.research.google.com/github/dacasfilipe/Python_data_science/blob/main/Topico_4_Series_panda.ipynb\" target=\"_parent\"><img src=\"https://colab.research.google.com/assets/colab-badge.svg\" alt=\"Open In Colab\"/></a>"
      ]
    },
    {
      "cell_type": "markdown",
      "source": [
        "![unisenai.png](data:image/png;base64,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)\n",
        "<h1> Pós-Graduação em Ciência de Dados e Inteligência Artificial </h1>\n",
        "\n",
        "<h1>Unidade Curricular: Programação em Python para Ciência de Dados</h1>\n",
        "<h1>Professor: Willian Daniel de Mattos, Me.</h1>\n",
        "\n",
        "<h1><b>Tópico 4 - Visão Geral dos Pacotes Populares </b></h1>\n",
        "\n",
        "4.2 **Pandas Series** - Exemplo Prático\n",
        "\n"
      ],
      "metadata": {
        "id": "NZ6bxSQ6gvnr"
      }
    },
    {
      "cell_type": "code",
      "execution_count": null,
      "metadata": {
        "id": "4fgshB9zX3cE"
      },
      "outputs": [],
      "source": [
        "import pandas as pd\n",
        "import numpy as np"
      ]
    },
    {
      "cell_type": "code",
      "source": [
        "idades_estudantes = {'Manoel':22,\n",
        "                     'Caroline':20,\n",
        "                     'Maria':20}\n",
        "s = pd.Series(idades_estudantes)\n",
        "s"
      ],
      "metadata": {
        "colab": {
          "base_uri": "https://localhost:8080/"
        },
        "id": "5m6y9tqsX_Zr",
        "outputId": "5232112b-c665-4576-ca14-315ad4d10aa5"
      },
      "execution_count": null,
      "outputs": [
        {
          "output_type": "execute_result",
          "data": {
            "text/plain": [
              "Manoel      22\n",
              "Caroline    20\n",
              "Maria       20\n",
              "dtype: int64"
            ]
          },
          "metadata": {},
          "execution_count": 22
        }
      ]
    },
    {
      "cell_type": "code",
      "source": [
        "s.index"
      ],
      "metadata": {
        "colab": {
          "base_uri": "https://localhost:8080/"
        },
        "id": "hdGS8I1DYLZr",
        "outputId": "329c6a30-e582-4207-c90f-cfb16d9b56fc"
      },
      "execution_count": null,
      "outputs": [
        {
          "output_type": "execute_result",
          "data": {
            "text/plain": [
              "Index(['Manoel', 'Caroline', 'Maria'], dtype='object')"
            ]
          },
          "metadata": {},
          "execution_count": 23
        }
      ]
    },
    {
      "cell_type": "code",
      "source": [
        "estudantes = [('Ana', 'Carolina'),('Eduardo', 'Santos'), ('Pedro', 'Ferreira')]\n",
        "s = pd.Series(estudantes)\n",
        "s"
      ],
      "metadata": {
        "colab": {
          "base_uri": "https://localhost:8080/"
        },
        "id": "ygh-3qqCYY7a",
        "outputId": "b04bff5b-63c0-4778-d689-7b825e16f399"
      },
      "execution_count": null,
      "outputs": [
        {
          "output_type": "execute_result",
          "data": {
            "text/plain": [
              "0      (Ana, Carolina)\n",
              "1    (Eduardo, Santos)\n",
              "2    (Pedro, Ferreira)\n",
              "dtype: object"
            ]
          },
          "metadata": {},
          "execution_count": 24
        }
      ]
    },
    {
      "cell_type": "code",
      "source": [
        "s = pd.Series(['Curitiba', 'Florianópolis', 'Porto Alegre'], index=['Ana', 'Eduardo', 'Pedro'])\n",
        "s"
      ],
      "metadata": {
        "colab": {
          "base_uri": "https://localhost:8080/"
        },
        "id": "tfuhxVu0Y7Ps",
        "outputId": "4ecece39-b2b3-409f-ba7a-657b60e64b42"
      },
      "execution_count": null,
      "outputs": [
        {
          "output_type": "execute_result",
          "data": {
            "text/plain": [
              "Ana             Curitiba\n",
              "Eduardo    Florianópolis\n",
              "Pedro       Porto Alegre\n",
              "dtype: object"
            ]
          },
          "metadata": {},
          "execution_count": 25
        }
      ]
    },
    {
      "cell_type": "code",
      "source": [
        "fases_estudantes = {'Manoel':'3ª fase',\n",
        "                    'Caroline':'1ª fase',\n",
        "                    'Maria':'4ª fase'}\n",
        "s = pd.Series(fases_estudantes, index=['Manoel', 'Caroline', 'Sônia'])\n",
        "s"
      ],
      "metadata": {
        "colab": {
          "base_uri": "https://localhost:8080/"
        },
        "id": "BBUFPYI0ZbAL",
        "outputId": "d2c104b8-7567-42bf-f3b1-462b84bce587"
      },
      "execution_count": null,
      "outputs": [
        {
          "output_type": "execute_result",
          "data": {
            "text/plain": [
              "Manoel      3ª fase\n",
              "Caroline    1ª fase\n",
              "Sônia           NaN\n",
              "dtype: object"
            ]
          },
          "metadata": {},
          "execution_count": 26
        }
      ]
    },
    {
      "cell_type": "code",
      "source": [
        "fases_estudantes = {'Manoel':'3ª fase',\n",
        "                    'Caroline':'1ª fase',\n",
        "                    'Maria':'4ª fase',\n",
        "                    'Kelly':'5ª fase'}\n",
        "s = pd.Series(fases_estudantes)\n",
        "s"
      ],
      "metadata": {
        "colab": {
          "base_uri": "https://localhost:8080/"
        },
        "id": "3aqKf6zgaQWs",
        "outputId": "a0def7d9-c7bc-4607-e59c-6c2c1cf0ee66"
      },
      "execution_count": null,
      "outputs": [
        {
          "output_type": "execute_result",
          "data": {
            "text/plain": [
              "Manoel      3ª fase\n",
              "Caroline    1ª fase\n",
              "Maria       4ª fase\n",
              "Kelly       5ª fase\n",
              "dtype: object"
            ]
          },
          "metadata": {},
          "execution_count": 27
        }
      ]
    },
    {
      "cell_type": "code",
      "source": [
        "s.iloc[3]"
      ],
      "metadata": {
        "colab": {
          "base_uri": "https://localhost:8080/",
          "height": 36
        },
        "id": "HpD6mZz1alJr",
        "outputId": "a4cf1c34-c495-4317-ae79-0591969167d0"
      },
      "execution_count": null,
      "outputs": [
        {
          "output_type": "execute_result",
          "data": {
            "text/plain": [
              "'5ª fase'"
            ],
            "application/vnd.google.colaboratory.intrinsic+json": {
              "type": "string"
            }
          },
          "metadata": {},
          "execution_count": 28
        }
      ]
    },
    {
      "cell_type": "code",
      "source": [
        "s.loc['Kelly']"
      ],
      "metadata": {
        "colab": {
          "base_uri": "https://localhost:8080/",
          "height": 36
        },
        "id": "ws2_27HdayyK",
        "outputId": "f507dae3-7fdd-41bb-ad91-758b01d18f63"
      },
      "execution_count": null,
      "outputs": [
        {
          "output_type": "execute_result",
          "data": {
            "text/plain": [
              "'5ª fase'"
            ],
            "application/vnd.google.colaboratory.intrinsic+json": {
              "type": "string"
            }
          },
          "metadata": {},
          "execution_count": 29
        }
      ]
    },
    {
      "cell_type": "code",
      "source": [
        "s['Kelly']"
      ],
      "metadata": {
        "colab": {
          "base_uri": "https://localhost:8080/",
          "height": 36
        },
        "id": "bajBFHHWa5c7",
        "outputId": "5b33df2a-9c34-430b-b3e8-65cea1ad673b"
      },
      "execution_count": null,
      "outputs": [
        {
          "output_type": "execute_result",
          "data": {
            "text/plain": [
              "'5ª fase'"
            ],
            "application/vnd.google.colaboratory.intrinsic+json": {
              "type": "string"
            }
          },
          "metadata": {},
          "execution_count": 30
        }
      ]
    },
    {
      "cell_type": "code",
      "source": [
        "fases_estudantes = {55:'3ª fase',\n",
        "                    15:'1ª fase',\n",
        "                    32:'4ª fase',\n",
        "                    78:'5ª fase'}\n",
        "s = pd.Series(fases_estudantes)\n",
        "s"
      ],
      "metadata": {
        "colab": {
          "base_uri": "https://localhost:8080/"
        },
        "id": "c7mD30r_bDMq",
        "outputId": "f1ee7c3f-bf36-4f5c-cce8-909c180da777"
      },
      "execution_count": null,
      "outputs": [
        {
          "output_type": "execute_result",
          "data": {
            "text/plain": [
              "55    3ª fase\n",
              "15    1ª fase\n",
              "32    4ª fase\n",
              "78    5ª fase\n",
              "dtype: object"
            ]
          },
          "metadata": {},
          "execution_count": 31
        }
      ]
    },
    {
      "cell_type": "code",
      "source": [
        "s.loc[55]\n",
        "s.iloc[0]"
      ],
      "metadata": {
        "colab": {
          "base_uri": "https://localhost:8080/",
          "height": 36
        },
        "id": "Ovs9KzZ4bHRa",
        "outputId": "10013f5b-3a04-4a3a-888f-13dd6872be67"
      },
      "execution_count": null,
      "outputs": [
        {
          "output_type": "execute_result",
          "data": {
            "text/plain": [
              "'3ª fase'"
            ],
            "application/vnd.google.colaboratory.intrinsic+json": {
              "type": "string"
            }
          },
          "metadata": {},
          "execution_count": 32
        }
      ]
    },
    {
      "cell_type": "code",
      "source": [
        "s[55]"
      ],
      "metadata": {
        "colab": {
          "base_uri": "https://localhost:8080/",
          "height": 36
        },
        "id": "Rgr9FPmcbgFC",
        "outputId": "3e9f0609-7f51-459a-f8db-f0feb25175c9"
      },
      "execution_count": null,
      "outputs": [
        {
          "output_type": "execute_result",
          "data": {
            "text/plain": [
              "'3ª fase'"
            ],
            "application/vnd.google.colaboratory.intrinsic+json": {
              "type": "string"
            }
          },
          "metadata": {},
          "execution_count": 33
        }
      ]
    },
    {
      "cell_type": "code",
      "source": [
        "s.iloc[0]"
      ],
      "metadata": {
        "colab": {
          "base_uri": "https://localhost:8080/",
          "height": 36
        },
        "id": "clFlak_dblda",
        "outputId": "520138da-618f-429c-8131-7e2b5ac293f3"
      },
      "execution_count": null,
      "outputs": [
        {
          "output_type": "execute_result",
          "data": {
            "text/plain": [
              "'3ª fase'"
            ],
            "application/vnd.google.colaboratory.intrinsic+json": {
              "type": "string"
            }
          },
          "metadata": {},
          "execution_count": 34
        }
      ]
    },
    {
      "cell_type": "code",
      "source": [
        "idades = pd.Series([18,22,25,27,29])\n",
        "\n",
        "total = 0\n",
        "for idade in idades:\n",
        "  total+=idade\n",
        "print(total/len(idades))"
      ],
      "metadata": {
        "colab": {
          "base_uri": "https://localhost:8080/"
        },
        "id": "pbhFdCm3bpkJ",
        "outputId": "bc566c5b-5951-4fd4-8e1b-fb122609cef2"
      },
      "execution_count": null,
      "outputs": [
        {
          "output_type": "stream",
          "name": "stdout",
          "text": [
            "24.2\n"
          ]
        }
      ]
    },
    {
      "cell_type": "code",
      "source": [
        "idades.mean()\n",
        "idades.max()"
      ],
      "metadata": {
        "colab": {
          "base_uri": "https://localhost:8080/"
        },
        "id": "2_G7ZV7ZcCLh",
        "outputId": "d01f5499-8782-4023-940b-1c3a6e1f03c9"
      },
      "execution_count": null,
      "outputs": [
        {
          "output_type": "execute_result",
          "data": {
            "text/plain": [
              "29"
            ]
          },
          "metadata": {},
          "execution_count": 36
        }
      ]
    },
    {
      "cell_type": "code",
      "source": [
        "numeros = pd.Series(np.random.randint(0,1000,10000))\n",
        "numeros.head()"
      ],
      "metadata": {
        "colab": {
          "base_uri": "https://localhost:8080/"
        },
        "id": "4xw0HBqncOPa",
        "outputId": "0124476a-afce-4a8b-a20e-4fccafa1bbfb"
      },
      "execution_count": null,
      "outputs": [
        {
          "output_type": "execute_result",
          "data": {
            "text/plain": [
              "0     14\n",
              "1    965\n",
              "2    982\n",
              "3    342\n",
              "4    866\n",
              "dtype: int64"
            ]
          },
          "metadata": {},
          "execution_count": 37
        }
      ]
    },
    {
      "cell_type": "code",
      "source": [
        "%%timeit -n 1000\n",
        "total = 0\n",
        "for numero in numeros:\n",
        "  total+=numero\n",
        "total/len(numeros)"
      ],
      "metadata": {
        "colab": {
          "base_uri": "https://localhost:8080/"
        },
        "id": "ThEtgZgWczR6",
        "outputId": "d0028579-8e90-41e9-80bf-a452d9b82f68"
      },
      "execution_count": null,
      "outputs": [
        {
          "output_type": "stream",
          "name": "stdout",
          "text": [
            "1.43 ms ± 350 µs per loop (mean ± std. dev. of 7 runs, 1000 loops each)\n"
          ]
        }
      ]
    },
    {
      "cell_type": "code",
      "source": [
        "%%timeit -n 1000\n",
        "total = np.sum(numeros)\n",
        "total/len(numeros)"
      ],
      "metadata": {
        "colab": {
          "base_uri": "https://localhost:8080/"
        },
        "id": "xJVFmimxdHsp",
        "outputId": "b67f63d5-79af-4478-cc8f-240447aa64dc"
      },
      "execution_count": null,
      "outputs": [
        {
          "output_type": "stream",
          "name": "stdout",
          "text": [
            "57 µs ± 3.67 µs per loop (mean ± std. dev. of 7 runs, 1000 loops each)\n"
          ]
        }
      ]
    },
    {
      "cell_type": "code",
      "source": [
        "%%timeit -n 1000\n",
        "numeros.mean()"
      ],
      "metadata": {
        "colab": {
          "base_uri": "https://localhost:8080/"
        },
        "id": "QVeWONAWdTu5",
        "outputId": "8884a751-7fbf-41a2-a9fd-27513c45ca91"
      },
      "execution_count": null,
      "outputs": [
        {
          "output_type": "stream",
          "name": "stdout",
          "text": [
            "69.5 µs ± 5.2 µs per loop (mean ± std. dev. of 7 runs, 1000 loops each)\n"
          ]
        }
      ]
    }
  ]
}