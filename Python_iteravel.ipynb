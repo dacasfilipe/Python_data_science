{
  "nbformat": 4,
  "nbformat_minor": 0,
  "metadata": {
    "colab": {
      "provenance": [],
      "authorship_tag": "ABX9TyP20l4NcR3IwbryU6UodrNS",
      "include_colab_link": true
    },
    "kernelspec": {
      "name": "python3",
      "display_name": "Python 3"
    },
    "language_info": {
      "name": "python"
    }
  },
  "cells": [
    {
      "cell_type": "markdown",
      "metadata": {
        "id": "view-in-github",
        "colab_type": "text"
      },
      "source": [
        "<a href=\"https://colab.research.google.com/github/dacasfilipe/Python_data_science/blob/main/Python_iteravel.ipynb\" target=\"_parent\"><img src=\"https://colab.research.google.com/assets/colab-badge.svg\" alt=\"Open In Colab\"/></a>"
      ]
    },
    {
      "cell_type": "code",
      "execution_count": 1,
      "metadata": {
        "colab": {
          "base_uri": "https://localhost:8080/"
        },
        "id": "MfiZtA_dcuJx",
        "outputId": "56faab30-178d-4bae-d6ed-7641d594c89b"
      },
      "outputs": [
        {
          "output_type": "stream",
          "name": "stdout",
          "text": [
            "0\n",
            "1\n",
            "2\n",
            "3\n",
            "4\n",
            "5\n",
            "6\n",
            "7\n",
            "8\n",
            "9\n"
          ]
        }
      ],
      "source": [
        "#Iterável\n",
        "#iterando sobre items em uma faixa de números\n",
        "for item in range(10):\n",
        "  print(item)"
      ]
    },
    {
      "cell_type": "code",
      "source": [
        "#iterando sobre letras/caracteres\n",
        "for letra in 'programação':\n",
        "  print(letra)"
      ],
      "metadata": {
        "colab": {
          "base_uri": "https://localhost:8080/"
        },
        "id": "KHTuEQCZdMAv",
        "outputId": "67986438-4f6b-4f02-fb8d-8dd70afb8433"
      },
      "execution_count": 2,
      "outputs": [
        {
          "output_type": "stream",
          "name": "stdout",
          "text": [
            "p\n",
            "r\n",
            "o\n",
            "g\n",
            "r\n",
            "a\n",
            "m\n",
            "a\n",
            "ç\n",
            "ã\n",
            "o\n"
          ]
        }
      ]
    },
    {
      "cell_type": "code",
      "source": [
        "#iterando sobre item em uma lista\n",
        "for item in [2,3,4,5]:\n",
        "  print(item)"
      ],
      "metadata": {
        "colab": {
          "base_uri": "https://localhost:8080/"
        },
        "id": "9kPc5db1dhM5",
        "outputId": "5a435a49-71cf-4473-ef71-b3ac764db891"
      },
      "execution_count": 3,
      "outputs": [
        {
          "output_type": "stream",
          "name": "stdout",
          "text": [
            "2\n",
            "3\n",
            "4\n",
            "5\n"
          ]
        }
      ]
    },
    {
      "cell_type": "code",
      "source": [
        "# Loop While\n",
        "tentativas = 0\n",
        "while tentativas < 3:\n",
        "  print('tente novamente!')\n",
        "  tentativas += 1"
      ],
      "metadata": {
        "colab": {
          "base_uri": "https://localhost:8080/"
        },
        "id": "p5NCEPq7eFJP",
        "outputId": "fb508694-6824-4d36-ba83-162cfec646da"
      },
      "execution_count": 4,
      "outputs": [
        {
          "output_type": "stream",
          "name": "stdout",
          "text": [
            "tente novamente!\n",
            "tente novamente!\n",
            "tente novamente!\n"
          ]
        }
      ]
    },
    {
      "cell_type": "code",
      "source": [
        "#Senha\n",
        "senha = ''\n",
        "while senha != '123456':\n",
        "  senha = input('Digite sua senha:')\n",
        "print('Bem vindo!')"
      ],
      "metadata": {
        "colab": {
          "base_uri": "https://localhost:8080/"
        },
        "id": "NiK1XLIcemYM",
        "outputId": "f84a4890-1425-4be9-b9cb-773598fa05fd"
      },
      "execution_count": 5,
      "outputs": [
        {
          "output_type": "stream",
          "name": "stdout",
          "text": [
            "Digite sua senha:1\n",
            "Digite sua senha:2\n",
            "Digite sua senha:123456\n",
            "Bem vindo!\n"
          ]
        }
      ]
    },
    {
      "cell_type": "code",
      "source": [
        "#Receber nome do usuário\n",
        "#Nome\n",
        "nome = ''\n",
        "while nome == '':\n",
        "  nome = input('Digite seu nome:')\n",
        "print(f'Bem vindo(a) {nome}')"
      ],
      "metadata": {
        "colab": {
          "base_uri": "https://localhost:8080/"
        },
        "id": "bYERpLaUfAAP",
        "outputId": "13cd1f7e-0e20-49c2-af6d-6261479591e7"
      },
      "execution_count": 6,
      "outputs": [
        {
          "output_type": "stream",
          "name": "stdout",
          "text": [
            "Digite seu nome:Filipe\n",
            "Bem vindo(a) Filipe\n"
          ]
        }
      ]
    }
  ]
}